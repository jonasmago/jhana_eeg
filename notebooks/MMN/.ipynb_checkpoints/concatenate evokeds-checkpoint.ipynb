{
 "cells": [
  {
   "cell_type": "code",
   "execution_count": 2,
   "id": "ef2f182e",
   "metadata": {},
   "outputs": [],
   "source": [
    "%load_ext autoreload\n",
    "%autoreload 2\n",
    "%matplotlib qt\n",
    "import mne\n",
    "import glob"
   ]
  },
  {
   "cell_type": "markdown",
   "id": "a5a507a5-eeef-4a7b-98b7-ea417595a25a",
   "metadata": {},
   "source": [
    "# Concatenate MNE data"
   ]
  },
  {
   "cell_type": "code",
   "execution_count": 6,
   "id": "79786e82-9f34-4888-8ec4-3f6db7d0fc30",
   "metadata": {},
   "outputs": [
    {
     "name": "stdout",
     "output_type": "stream",
     "text": [
      "Reading /Users/jonasmago/PhD_code_data/github/eeg_jhana/notebooks/evoked responses/../../data/mne_raw_events_epochs_cleaned_noICA_noAutoreject/sub0-day3-jhana_mmn-raw_phot-events.fif ...\n",
      "    Found the data of interest:\n",
      "        t =    -500.00 ...    1500.00 ms\n",
      "        0 CTF compensation matrices available\n"
     ]
    },
    {
     "name": "stderr",
     "output_type": "stream",
     "text": [
      "/var/folders/bq/hl737msd54q59fzf7spf0r7h0000gn/T/ipykernel_89976/1679083024.py:6: RuntimeWarning: This filename (../../data/mne_raw_events_epochs_cleaned_noICA_noAutoreject/sub0-day3-jhana_mmn-raw_phot-events.fif) does not conform to MNE naming conventions. All epochs files should end with -epo.fif, -epo.fif.gz, _epo.fif or _epo.fif.gz\n",
      "  epochs_concatenated = mne.read_epochs(paths[0])\n"
     ]
    },
    {
     "name": "stdout",
     "output_type": "stream",
     "text": [
      "Not setting metadata\n",
      "370 matching events found\n",
      "No baseline correction applied\n",
      "0 projection items activated\n",
      "Reading /Users/jonasmago/PhD_code_data/github/eeg_jhana/notebooks/evoked responses/../../data/mne_raw_events_epochs_cleaned_noICA_noAutoreject/sub0-day4-jhana_mmn-raw_phot-events.fif ...\n",
      "    Found the data of interest:\n",
      "        t =    -500.00 ...    1500.00 ms\n",
      "        0 CTF compensation matrices available\n",
      "Not setting metadata\n",
      "370 matching events found\n",
      "No baseline correction applied\n",
      "0 projection items activated\n",
      "Not setting metadata\n",
      "740 matching events found\n",
      "Applying baseline correction (mode: mean)\n"
     ]
    },
    {
     "name": "stderr",
     "output_type": "stream",
     "text": [
      "/var/folders/bq/hl737msd54q59fzf7spf0r7h0000gn/T/ipykernel_89976/1679083024.py:10: RuntimeWarning: This filename (../../data/mne_raw_events_epochs_cleaned_noICA_noAutoreject/sub0-day4-jhana_mmn-raw_phot-events.fif) does not conform to MNE naming conventions. All epochs files should end with -epo.fif, -epo.fif.gz, _epo.fif or _epo.fif.gz\n",
      "  epochs = mne.read_epochs(path)\n",
      "/var/folders/bq/hl737msd54q59fzf7spf0r7h0000gn/T/ipykernel_89976/1679083024.py:13: RuntimeWarning: Concatenation of Annotations within Epochs is not supported yet. All annotations will be dropped.\n",
      "  epochs_concatenated = mne.concatenate_epochs([epochs_concatenated, epochs])\n"
     ]
    },
    {
     "name": "stdout",
     "output_type": "stream",
     "text": [
      "Reading /Users/jonasmago/PhD_code_data/github/eeg_jhana/notebooks/evoked responses/../../data/mne_raw_events_epochs_cleaned_noICA_noAutoreject/sub0-day2-jhana_mmn-raw_phot-events.fif ...\n",
      "    Found the data of interest:\n",
      "        t =    -500.00 ...    1500.00 ms\n",
      "        0 CTF compensation matrices available\n",
      "Not setting metadata\n",
      "370 matching events found\n",
      "No baseline correction applied\n",
      "0 projection items activated\n",
      "Not setting metadata\n",
      "1110 matching events found\n",
      "Applying baseline correction (mode: mean)\n",
      "Reading /Users/jonasmago/PhD_code_data/github/eeg_jhana/notebooks/evoked responses/../../data/mne_raw_events_epochs_cleaned_noICA_noAutoreject/sub0-day1-jhana_mmn-raw_phot-events.fif ...\n",
      "    Found the data of interest:\n",
      "        t =    -500.00 ...    1500.00 ms\n",
      "        0 CTF compensation matrices available\n"
     ]
    },
    {
     "name": "stderr",
     "output_type": "stream",
     "text": [
      "/var/folders/bq/hl737msd54q59fzf7spf0r7h0000gn/T/ipykernel_89976/1679083024.py:10: RuntimeWarning: This filename (../../data/mne_raw_events_epochs_cleaned_noICA_noAutoreject/sub0-day2-jhana_mmn-raw_phot-events.fif) does not conform to MNE naming conventions. All epochs files should end with -epo.fif, -epo.fif.gz, _epo.fif or _epo.fif.gz\n",
      "  epochs = mne.read_epochs(path)\n",
      "/var/folders/bq/hl737msd54q59fzf7spf0r7h0000gn/T/ipykernel_89976/1679083024.py:13: RuntimeWarning: Concatenation of Annotations within Epochs is not supported yet. All annotations will be dropped.\n",
      "  epochs_concatenated = mne.concatenate_epochs([epochs_concatenated, epochs])\n",
      "/var/folders/bq/hl737msd54q59fzf7spf0r7h0000gn/T/ipykernel_89976/1679083024.py:10: RuntimeWarning: This filename (../../data/mne_raw_events_epochs_cleaned_noICA_noAutoreject/sub0-day1-jhana_mmn-raw_phot-events.fif) does not conform to MNE naming conventions. All epochs files should end with -epo.fif, -epo.fif.gz, _epo.fif or _epo.fif.gz\n",
      "  epochs = mne.read_epochs(path)\n"
     ]
    },
    {
     "name": "stdout",
     "output_type": "stream",
     "text": [
      "Not setting metadata\n",
      "370 matching events found\n",
      "No baseline correction applied\n",
      "0 projection items activated\n",
      "Not setting metadata\n",
      "1480 matching events found\n",
      "Applying baseline correction (mode: mean)\n"
     ]
    },
    {
     "name": "stderr",
     "output_type": "stream",
     "text": [
      "/var/folders/bq/hl737msd54q59fzf7spf0r7h0000gn/T/ipykernel_89976/1679083024.py:13: RuntimeWarning: Concatenation of Annotations within Epochs is not supported yet. All annotations will be dropped.\n",
      "  epochs_concatenated = mne.concatenate_epochs([epochs_concatenated, epochs])\n"
     ]
    },
    {
     "name": "stdout",
     "output_type": "stream",
     "text": [
      "Reading /Users/jonasmago/PhD_code_data/github/eeg_jhana/notebooks/evoked responses/../../data/mne_raw_events_epochs_cleaned_noICA_noAutoreject/sub1-day2-jhana_mmn-raw_phot-events.fif ...\n",
      "    Found the data of interest:\n",
      "        t =    -500.00 ...    1500.00 ms\n",
      "        0 CTF compensation matrices available\n",
      "Not setting metadata\n",
      "370 matching events found\n",
      "No baseline correction applied\n",
      "0 projection items activated\n",
      "Reading /Users/jonasmago/PhD_code_data/github/eeg_jhana/notebooks/evoked responses/../../data/mne_raw_events_epochs_cleaned_noICA_noAutoreject/sub1-day3-jhana_mmn-raw_phot-events.fif ...\n",
      "    Found the data of interest:\n",
      "        t =    -500.00 ...    1500.00 ms\n",
      "        0 CTF compensation matrices available\n",
      "Not setting metadata\n",
      "370 matching events found\n",
      "No baseline correction applied\n",
      "0 projection items activated\n",
      "Not setting metadata\n",
      "740 matching events found\n",
      "Applying baseline correction (mode: mean)\n",
      "Reading /Users/jonasmago/PhD_code_data/github/eeg_jhana/notebooks/evoked responses/../../data/mne_raw_events_epochs_cleaned_noICA_noAutoreject/sub1-day4-jhana_mmn-raw_phot-events.fif ...\n",
      "    Found the data of interest:\n",
      "        t =    -500.00 ...    1500.00 ms\n",
      "        0 CTF compensation matrices available\n",
      "Not setting metadata\n",
      "370 matching events found\n",
      "No baseline correction applied\n",
      "0 projection items activated\n",
      "Not setting metadata\n",
      "1110 matching events found\n",
      "Applying baseline correction (mode: mean)\n"
     ]
    },
    {
     "name": "stderr",
     "output_type": "stream",
     "text": [
      "/var/folders/bq/hl737msd54q59fzf7spf0r7h0000gn/T/ipykernel_89976/1679083024.py:6: RuntimeWarning: This filename (../../data/mne_raw_events_epochs_cleaned_noICA_noAutoreject/sub1-day2-jhana_mmn-raw_phot-events.fif) does not conform to MNE naming conventions. All epochs files should end with -epo.fif, -epo.fif.gz, _epo.fif or _epo.fif.gz\n",
      "  epochs_concatenated = mne.read_epochs(paths[0])\n",
      "/var/folders/bq/hl737msd54q59fzf7spf0r7h0000gn/T/ipykernel_89976/1679083024.py:10: RuntimeWarning: This filename (../../data/mne_raw_events_epochs_cleaned_noICA_noAutoreject/sub1-day3-jhana_mmn-raw_phot-events.fif) does not conform to MNE naming conventions. All epochs files should end with -epo.fif, -epo.fif.gz, _epo.fif or _epo.fif.gz\n",
      "  epochs = mne.read_epochs(path)\n",
      "/var/folders/bq/hl737msd54q59fzf7spf0r7h0000gn/T/ipykernel_89976/1679083024.py:13: RuntimeWarning: Concatenation of Annotations within Epochs is not supported yet. All annotations will be dropped.\n",
      "  epochs_concatenated = mne.concatenate_epochs([epochs_concatenated, epochs])\n",
      "/var/folders/bq/hl737msd54q59fzf7spf0r7h0000gn/T/ipykernel_89976/1679083024.py:10: RuntimeWarning: This filename (../../data/mne_raw_events_epochs_cleaned_noICA_noAutoreject/sub1-day4-jhana_mmn-raw_phot-events.fif) does not conform to MNE naming conventions. All epochs files should end with -epo.fif, -epo.fif.gz, _epo.fif or _epo.fif.gz\n",
      "  epochs = mne.read_epochs(path)\n",
      "/var/folders/bq/hl737msd54q59fzf7spf0r7h0000gn/T/ipykernel_89976/1679083024.py:13: RuntimeWarning: Concatenation of Annotations within Epochs is not supported yet. All annotations will be dropped.\n",
      "  epochs_concatenated = mne.concatenate_epochs([epochs_concatenated, epochs])\n"
     ]
    },
    {
     "name": "stdout",
     "output_type": "stream",
     "text": [
      "Reading /Users/jonasmago/PhD_code_data/github/eeg_jhana/notebooks/evoked responses/../../data/mne_raw_events_epochs_cleaned_noICA_noAutoreject/sub1-day1-jhana_mmn-raw_phot-events.fif ...\n",
      "    Found the data of interest:\n",
      "        t =    -500.00 ...    1500.00 ms\n",
      "        0 CTF compensation matrices available\n",
      "Not setting metadata\n",
      "370 matching events found\n",
      "No baseline correction applied\n",
      "0 projection items activated\n",
      "Not setting metadata\n",
      "1480 matching events found\n",
      "Applying baseline correction (mode: mean)\n"
     ]
    },
    {
     "name": "stderr",
     "output_type": "stream",
     "text": [
      "/var/folders/bq/hl737msd54q59fzf7spf0r7h0000gn/T/ipykernel_89976/1679083024.py:10: RuntimeWarning: This filename (../../data/mne_raw_events_epochs_cleaned_noICA_noAutoreject/sub1-day1-jhana_mmn-raw_phot-events.fif) does not conform to MNE naming conventions. All epochs files should end with -epo.fif, -epo.fif.gz, _epo.fif or _epo.fif.gz\n",
      "  epochs = mne.read_epochs(path)\n",
      "/var/folders/bq/hl737msd54q59fzf7spf0r7h0000gn/T/ipykernel_89976/1679083024.py:13: RuntimeWarning: Concatenation of Annotations within Epochs is not supported yet. All annotations will be dropped.\n",
      "  epochs_concatenated = mne.concatenate_epochs([epochs_concatenated, epochs])\n"
     ]
    },
    {
     "name": "stdout",
     "output_type": "stream",
     "text": [
      "Reading /Users/jonasmago/PhD_code_data/github/eeg_jhana/notebooks/evoked responses/../../data/mne_raw_events_epochs_cleaned_noICA_noAutoreject/sub2-day1-jhana_mmn-raw_phot-events.fif ...\n",
      "    Found the data of interest:\n",
      "        t =    -500.00 ...    1500.00 ms\n",
      "        0 CTF compensation matrices available\n",
      "Not setting metadata\n",
      "370 matching events found\n",
      "No baseline correction applied\n",
      "0 projection items activated\n",
      "Reading /Users/jonasmago/PhD_code_data/github/eeg_jhana/notebooks/evoked responses/../../data/mne_raw_events_epochs_cleaned_noICA_noAutoreject/sub2-day3-jhana_mmn-raw_phot-events.fif ...\n",
      "    Found the data of interest:\n",
      "        t =    -500.00 ...    1500.00 ms\n",
      "        0 CTF compensation matrices available\n",
      "Not setting metadata\n",
      "370 matching events found\n",
      "No baseline correction applied\n",
      "0 projection items activated\n",
      "Not setting metadata\n",
      "740 matching events found\n",
      "Applying baseline correction (mode: mean)\n",
      "Reading /Users/jonasmago/PhD_code_data/github/eeg_jhana/notebooks/evoked responses/../../data/mne_raw_events_epochs_cleaned_noICA_noAutoreject/sub2-day4-jhana_mmn-raw_phot-events.fif ...\n",
      "    Found the data of interest:\n",
      "        t =    -500.00 ...    1500.00 ms\n",
      "        0 CTF compensation matrices available\n",
      "Not setting metadata\n",
      "370 matching events found\n",
      "No baseline correction applied\n",
      "0 projection items activated\n",
      "Not setting metadata\n",
      "1110 matching events found\n",
      "Applying baseline correction (mode: mean)\n"
     ]
    },
    {
     "name": "stderr",
     "output_type": "stream",
     "text": [
      "/var/folders/bq/hl737msd54q59fzf7spf0r7h0000gn/T/ipykernel_89976/1679083024.py:6: RuntimeWarning: This filename (../../data/mne_raw_events_epochs_cleaned_noICA_noAutoreject/sub2-day1-jhana_mmn-raw_phot-events.fif) does not conform to MNE naming conventions. All epochs files should end with -epo.fif, -epo.fif.gz, _epo.fif or _epo.fif.gz\n",
      "  epochs_concatenated = mne.read_epochs(paths[0])\n",
      "/var/folders/bq/hl737msd54q59fzf7spf0r7h0000gn/T/ipykernel_89976/1679083024.py:10: RuntimeWarning: This filename (../../data/mne_raw_events_epochs_cleaned_noICA_noAutoreject/sub2-day3-jhana_mmn-raw_phot-events.fif) does not conform to MNE naming conventions. All epochs files should end with -epo.fif, -epo.fif.gz, _epo.fif or _epo.fif.gz\n",
      "  epochs = mne.read_epochs(path)\n",
      "/var/folders/bq/hl737msd54q59fzf7spf0r7h0000gn/T/ipykernel_89976/1679083024.py:13: RuntimeWarning: Concatenation of Annotations within Epochs is not supported yet. All annotations will be dropped.\n",
      "  epochs_concatenated = mne.concatenate_epochs([epochs_concatenated, epochs])\n",
      "/var/folders/bq/hl737msd54q59fzf7spf0r7h0000gn/T/ipykernel_89976/1679083024.py:10: RuntimeWarning: This filename (../../data/mne_raw_events_epochs_cleaned_noICA_noAutoreject/sub2-day4-jhana_mmn-raw_phot-events.fif) does not conform to MNE naming conventions. All epochs files should end with -epo.fif, -epo.fif.gz, _epo.fif or _epo.fif.gz\n",
      "  epochs = mne.read_epochs(path)\n",
      "/var/folders/bq/hl737msd54q59fzf7spf0r7h0000gn/T/ipykernel_89976/1679083024.py:13: RuntimeWarning: Concatenation of Annotations within Epochs is not supported yet. All annotations will be dropped.\n",
      "  epochs_concatenated = mne.concatenate_epochs([epochs_concatenated, epochs])\n"
     ]
    },
    {
     "name": "stdout",
     "output_type": "stream",
     "text": [
      "Reading /Users/jonasmago/PhD_code_data/github/eeg_jhana/notebooks/evoked responses/../../data/mne_raw_events_epochs_cleaned_noICA_noAutoreject/sub2-day2-jhana_mmn-raw_phot-events.fif ...\n",
      "    Found the data of interest:\n",
      "        t =    -500.00 ...    1500.00 ms\n",
      "        0 CTF compensation matrices available\n",
      "Not setting metadata\n",
      "370 matching events found\n",
      "No baseline correction applied\n",
      "0 projection items activated\n",
      "Not setting metadata\n",
      "1480 matching events found\n",
      "Applying baseline correction (mode: mean)\n"
     ]
    },
    {
     "name": "stderr",
     "output_type": "stream",
     "text": [
      "/var/folders/bq/hl737msd54q59fzf7spf0r7h0000gn/T/ipykernel_89976/1679083024.py:10: RuntimeWarning: This filename (../../data/mne_raw_events_epochs_cleaned_noICA_noAutoreject/sub2-day2-jhana_mmn-raw_phot-events.fif) does not conform to MNE naming conventions. All epochs files should end with -epo.fif, -epo.fif.gz, _epo.fif or _epo.fif.gz\n",
      "  epochs = mne.read_epochs(path)\n",
      "/var/folders/bq/hl737msd54q59fzf7spf0r7h0000gn/T/ipykernel_89976/1679083024.py:13: RuntimeWarning: Concatenation of Annotations within Epochs is not supported yet. All annotations will be dropped.\n",
      "  epochs_concatenated = mne.concatenate_epochs([epochs_concatenated, epochs])\n"
     ]
    },
    {
     "name": "stdout",
     "output_type": "stream",
     "text": [
      "Reading /Users/jonasmago/PhD_code_data/github/eeg_jhana/notebooks/evoked responses/../../data/mne_raw_events_epochs_cleaned_noICA_noAutoreject/sub3-day1-jhana_mmn-raw_phot-events.fif ...\n",
      "    Found the data of interest:\n",
      "        t =    -500.00 ...    1500.00 ms\n",
      "        0 CTF compensation matrices available\n",
      "Not setting metadata\n",
      "370 matching events found\n",
      "No baseline correction applied\n",
      "0 projection items activated\n",
      "Reading /Users/jonasmago/PhD_code_data/github/eeg_jhana/notebooks/evoked responses/../../data/mne_raw_events_epochs_cleaned_noICA_noAutoreject/sub3-day2-jhana_mmn-raw_phot-events.fif ...\n",
      "    Found the data of interest:\n",
      "        t =    -500.00 ...    1500.00 ms\n",
      "        0 CTF compensation matrices available\n",
      "Not setting metadata\n",
      "370 matching events found\n",
      "No baseline correction applied\n",
      "0 projection items activated\n",
      "Not setting metadata\n",
      "740 matching events found\n",
      "Applying baseline correction (mode: mean)\n",
      "Reading /Users/jonasmago/PhD_code_data/github/eeg_jhana/notebooks/evoked responses/../../data/mne_raw_events_epochs_cleaned_noICA_noAutoreject/sub3-day3-jhana_mmn-raw_phot-events.fif ...\n",
      "    Found the data of interest:\n",
      "        t =    -500.00 ...    1500.00 ms\n",
      "        0 CTF compensation matrices available\n",
      "Not setting metadata\n",
      "370 matching events found\n",
      "No baseline correction applied\n",
      "0 projection items activated\n",
      "Not setting metadata\n",
      "1110 matching events found\n",
      "Applying baseline correction (mode: mean)\n"
     ]
    },
    {
     "name": "stderr",
     "output_type": "stream",
     "text": [
      "/var/folders/bq/hl737msd54q59fzf7spf0r7h0000gn/T/ipykernel_89976/1679083024.py:6: RuntimeWarning: This filename (../../data/mne_raw_events_epochs_cleaned_noICA_noAutoreject/sub3-day1-jhana_mmn-raw_phot-events.fif) does not conform to MNE naming conventions. All epochs files should end with -epo.fif, -epo.fif.gz, _epo.fif or _epo.fif.gz\n",
      "  epochs_concatenated = mne.read_epochs(paths[0])\n",
      "/var/folders/bq/hl737msd54q59fzf7spf0r7h0000gn/T/ipykernel_89976/1679083024.py:10: RuntimeWarning: This filename (../../data/mne_raw_events_epochs_cleaned_noICA_noAutoreject/sub3-day2-jhana_mmn-raw_phot-events.fif) does not conform to MNE naming conventions. All epochs files should end with -epo.fif, -epo.fif.gz, _epo.fif or _epo.fif.gz\n",
      "  epochs = mne.read_epochs(path)\n",
      "/var/folders/bq/hl737msd54q59fzf7spf0r7h0000gn/T/ipykernel_89976/1679083024.py:13: RuntimeWarning: Concatenation of Annotations within Epochs is not supported yet. All annotations will be dropped.\n",
      "  epochs_concatenated = mne.concatenate_epochs([epochs_concatenated, epochs])\n",
      "/var/folders/bq/hl737msd54q59fzf7spf0r7h0000gn/T/ipykernel_89976/1679083024.py:10: RuntimeWarning: This filename (../../data/mne_raw_events_epochs_cleaned_noICA_noAutoreject/sub3-day3-jhana_mmn-raw_phot-events.fif) does not conform to MNE naming conventions. All epochs files should end with -epo.fif, -epo.fif.gz, _epo.fif or _epo.fif.gz\n",
      "  epochs = mne.read_epochs(path)\n",
      "/var/folders/bq/hl737msd54q59fzf7spf0r7h0000gn/T/ipykernel_89976/1679083024.py:13: RuntimeWarning: Concatenation of Annotations within Epochs is not supported yet. All annotations will be dropped.\n",
      "  epochs_concatenated = mne.concatenate_epochs([epochs_concatenated, epochs])\n"
     ]
    },
    {
     "name": "stdout",
     "output_type": "stream",
     "text": [
      "Reading /Users/jonasmago/PhD_code_data/github/eeg_jhana/notebooks/evoked responses/../../data/mne_raw_events_epochs_cleaned_noICA_noAutoreject/sub3-day4-jhana_mmn-raw_phot-events.fif ...\n",
      "    Found the data of interest:\n",
      "        t =    -500.00 ...    1500.00 ms\n",
      "        0 CTF compensation matrices available\n",
      "Not setting metadata\n",
      "370 matching events found\n",
      "No baseline correction applied\n",
      "0 projection items activated\n",
      "Reading /Users/jonasmago/PhD_code_data/github/eeg_jhana/notebooks/evoked responses/../../data/mne_raw_events_epochs_cleaned_noICA_noAutoreject/sub4-day1-jhana_mmn-raw_phot-events.fif ...\n",
      "    Found the data of interest:\n",
      "        t =    -500.00 ...    1500.00 ms\n",
      "        0 CTF compensation matrices available\n",
      "Not setting metadata\n",
      "370 matching events found\n",
      "No baseline correction applied\n",
      "0 projection items activated\n",
      "Reading /Users/jonasmago/PhD_code_data/github/eeg_jhana/notebooks/evoked responses/../../data/mne_raw_events_epochs_cleaned_noICA_noAutoreject/sub4-day4-jhana_mmn-raw_phot-events.fif ...\n",
      "    Found the data of interest:\n",
      "        t =    -500.00 ...    1500.00 ms\n",
      "        0 CTF compensation matrices available\n",
      "Not setting metadata\n",
      "370 matching events found\n",
      "No baseline correction applied\n"
     ]
    },
    {
     "name": "stderr",
     "output_type": "stream",
     "text": [
      "/var/folders/bq/hl737msd54q59fzf7spf0r7h0000gn/T/ipykernel_89976/1679083024.py:10: RuntimeWarning: This filename (../../data/mne_raw_events_epochs_cleaned_noICA_noAutoreject/sub3-day4-jhana_mmn-raw_phot-events.fif) does not conform to MNE naming conventions. All epochs files should end with -epo.fif, -epo.fif.gz, _epo.fif or _epo.fif.gz\n",
      "  epochs = mne.read_epochs(path)\n",
      "/var/folders/bq/hl737msd54q59fzf7spf0r7h0000gn/T/ipykernel_89976/1679083024.py:13: RuntimeWarning: Concatenation of Annotations within Epochs is not supported yet. All annotations will be dropped.\n",
      "  epochs_concatenated = mne.concatenate_epochs([epochs_concatenated, epochs])\n",
      "/var/folders/bq/hl737msd54q59fzf7spf0r7h0000gn/T/ipykernel_89976/1679083024.py:6: RuntimeWarning: This filename (../../data/mne_raw_events_epochs_cleaned_noICA_noAutoreject/sub4-day1-jhana_mmn-raw_phot-events.fif) does not conform to MNE naming conventions. All epochs files should end with -epo.fif, -epo.fif.gz, _epo.fif or _epo.fif.gz\n",
      "  epochs_concatenated = mne.read_epochs(paths[0])\n",
      "/var/folders/bq/hl737msd54q59fzf7spf0r7h0000gn/T/ipykernel_89976/1679083024.py:10: RuntimeWarning: This filename (../../data/mne_raw_events_epochs_cleaned_noICA_noAutoreject/sub4-day4-jhana_mmn-raw_phot-events.fif) does not conform to MNE naming conventions. All epochs files should end with -epo.fif, -epo.fif.gz, _epo.fif or _epo.fif.gz\n",
      "  epochs = mne.read_epochs(path)\n"
     ]
    },
    {
     "name": "stdout",
     "output_type": "stream",
     "text": [
      "0 projection items activated\n",
      "Not setting metadata\n",
      "740 matching events found\n",
      "Applying baseline correction (mode: mean)\n",
      "Reading /Users/jonasmago/PhD_code_data/github/eeg_jhana/notebooks/evoked responses/../../data/mne_raw_events_epochs_cleaned_noICA_noAutoreject/sub4-day3-jhana_mmn-raw_phot-events.fif ...\n",
      "    Found the data of interest:\n",
      "        t =    -500.00 ...    1500.00 ms\n",
      "        0 CTF compensation matrices available\n",
      "Not setting metadata\n",
      "370 matching events found\n",
      "No baseline correction applied\n",
      "0 projection items activated\n",
      "Not setting metadata\n",
      "1110 matching events found\n",
      "Applying baseline correction (mode: mean)\n",
      "Reading /Users/jonasmago/PhD_code_data/github/eeg_jhana/notebooks/evoked responses/../../data/mne_raw_events_epochs_cleaned_noICA_noAutoreject/sub4-day2-jhana_mmn-raw_phot-events.fif ...\n",
      "    Found the data of interest:\n",
      "        t =    -500.00 ...    1500.00 ms\n",
      "        0 CTF compensation matrices available\n"
     ]
    },
    {
     "name": "stderr",
     "output_type": "stream",
     "text": [
      "/var/folders/bq/hl737msd54q59fzf7spf0r7h0000gn/T/ipykernel_89976/1679083024.py:13: RuntimeWarning: Concatenation of Annotations within Epochs is not supported yet. All annotations will be dropped.\n",
      "  epochs_concatenated = mne.concatenate_epochs([epochs_concatenated, epochs])\n",
      "/var/folders/bq/hl737msd54q59fzf7spf0r7h0000gn/T/ipykernel_89976/1679083024.py:10: RuntimeWarning: This filename (../../data/mne_raw_events_epochs_cleaned_noICA_noAutoreject/sub4-day3-jhana_mmn-raw_phot-events.fif) does not conform to MNE naming conventions. All epochs files should end with -epo.fif, -epo.fif.gz, _epo.fif or _epo.fif.gz\n",
      "  epochs = mne.read_epochs(path)\n",
      "/var/folders/bq/hl737msd54q59fzf7spf0r7h0000gn/T/ipykernel_89976/1679083024.py:13: RuntimeWarning: Concatenation of Annotations within Epochs is not supported yet. All annotations will be dropped.\n",
      "  epochs_concatenated = mne.concatenate_epochs([epochs_concatenated, epochs])\n",
      "/var/folders/bq/hl737msd54q59fzf7spf0r7h0000gn/T/ipykernel_89976/1679083024.py:10: RuntimeWarning: This filename (../../data/mne_raw_events_epochs_cleaned_noICA_noAutoreject/sub4-day2-jhana_mmn-raw_phot-events.fif) does not conform to MNE naming conventions. All epochs files should end with -epo.fif, -epo.fif.gz, _epo.fif or _epo.fif.gz\n",
      "  epochs = mne.read_epochs(path)\n"
     ]
    },
    {
     "name": "stdout",
     "output_type": "stream",
     "text": [
      "Not setting metadata\n",
      "370 matching events found\n",
      "No baseline correction applied\n",
      "0 projection items activated\n",
      "Not setting metadata\n",
      "1480 matching events found\n",
      "Applying baseline correction (mode: mean)\n"
     ]
    },
    {
     "name": "stderr",
     "output_type": "stream",
     "text": [
      "/var/folders/bq/hl737msd54q59fzf7spf0r7h0000gn/T/ipykernel_89976/1679083024.py:13: RuntimeWarning: Concatenation of Annotations within Epochs is not supported yet. All annotations will be dropped.\n",
      "  epochs_concatenated = mne.concatenate_epochs([epochs_concatenated, epochs])\n"
     ]
    },
    {
     "name": "stdout",
     "output_type": "stream",
     "text": [
      "Reading /Users/jonasmago/PhD_code_data/github/eeg_jhana/notebooks/evoked responses/../../data/mne_raw_events_epochs_cleaned_noICA_noAutoreject/sub5-day1-jhana_mmn-raw_phot-events.fif ...\n",
      "    Found the data of interest:\n",
      "        t =    -500.00 ...    1500.00 ms\n",
      "        0 CTF compensation matrices available\n",
      "Not setting metadata\n",
      "370 matching events found\n",
      "No baseline correction applied\n",
      "0 projection items activated\n",
      "Reading /Users/jonasmago/PhD_code_data/github/eeg_jhana/notebooks/evoked responses/../../data/mne_raw_events_epochs_cleaned_noICA_noAutoreject/sub5-day2-jhana_mmn-raw_phot-events.fif ...\n",
      "    Found the data of interest:\n",
      "        t =    -500.00 ...    1500.00 ms\n",
      "        0 CTF compensation matrices available\n",
      "Not setting metadata\n",
      "370 matching events found\n",
      "No baseline correction applied\n",
      "0 projection items activated\n",
      "Not setting metadata\n",
      "740 matching events found\n",
      "Applying baseline correction (mode: mean)\n",
      "Reading /Users/jonasmago/PhD_code_data/github/eeg_jhana/notebooks/evoked responses/../../data/mne_raw_events_epochs_cleaned_noICA_noAutoreject/sub5-day4-jhana_mmn-raw_phot-events.fif ...\n",
      "    Found the data of interest:\n",
      "        t =    -500.00 ...    1500.00 ms\n",
      "        0 CTF compensation matrices available\n",
      "Not setting metadata\n",
      "368 matching events found\n",
      "No baseline correction applied\n",
      "0 projection items activated\n",
      "Not setting metadata\n",
      "1108 matching events found\n",
      "Applying baseline correction (mode: mean)\n"
     ]
    },
    {
     "name": "stderr",
     "output_type": "stream",
     "text": [
      "/var/folders/bq/hl737msd54q59fzf7spf0r7h0000gn/T/ipykernel_89976/1679083024.py:6: RuntimeWarning: This filename (../../data/mne_raw_events_epochs_cleaned_noICA_noAutoreject/sub5-day1-jhana_mmn-raw_phot-events.fif) does not conform to MNE naming conventions. All epochs files should end with -epo.fif, -epo.fif.gz, _epo.fif or _epo.fif.gz\n",
      "  epochs_concatenated = mne.read_epochs(paths[0])\n",
      "/var/folders/bq/hl737msd54q59fzf7spf0r7h0000gn/T/ipykernel_89976/1679083024.py:10: RuntimeWarning: This filename (../../data/mne_raw_events_epochs_cleaned_noICA_noAutoreject/sub5-day2-jhana_mmn-raw_phot-events.fif) does not conform to MNE naming conventions. All epochs files should end with -epo.fif, -epo.fif.gz, _epo.fif or _epo.fif.gz\n",
      "  epochs = mne.read_epochs(path)\n",
      "/var/folders/bq/hl737msd54q59fzf7spf0r7h0000gn/T/ipykernel_89976/1679083024.py:13: RuntimeWarning: Concatenation of Annotations within Epochs is not supported yet. All annotations will be dropped.\n",
      "  epochs_concatenated = mne.concatenate_epochs([epochs_concatenated, epochs])\n",
      "/var/folders/bq/hl737msd54q59fzf7spf0r7h0000gn/T/ipykernel_89976/1679083024.py:10: RuntimeWarning: This filename (../../data/mne_raw_events_epochs_cleaned_noICA_noAutoreject/sub5-day4-jhana_mmn-raw_phot-events.fif) does not conform to MNE naming conventions. All epochs files should end with -epo.fif, -epo.fif.gz, _epo.fif or _epo.fif.gz\n",
      "  epochs = mne.read_epochs(path)\n",
      "/var/folders/bq/hl737msd54q59fzf7spf0r7h0000gn/T/ipykernel_89976/1679083024.py:13: RuntimeWarning: Concatenation of Annotations within Epochs is not supported yet. All annotations will be dropped.\n",
      "  epochs_concatenated = mne.concatenate_epochs([epochs_concatenated, epochs])\n"
     ]
    },
    {
     "name": "stdout",
     "output_type": "stream",
     "text": [
      "Reading /Users/jonasmago/PhD_code_data/github/eeg_jhana/notebooks/evoked responses/../../data/mne_raw_events_epochs_cleaned_noICA_noAutoreject/sub5-day3-jhana_mmn-raw_phot-events.fif ...\n",
      "    Found the data of interest:\n",
      "        t =    -500.00 ...    1500.00 ms\n",
      "        0 CTF compensation matrices available\n",
      "Not setting metadata\n",
      "370 matching events found\n",
      "No baseline correction applied\n",
      "0 projection items activated\n",
      "Not setting metadata\n",
      "1478 matching events found\n",
      "Applying baseline correction (mode: mean)\n"
     ]
    },
    {
     "name": "stderr",
     "output_type": "stream",
     "text": [
      "/var/folders/bq/hl737msd54q59fzf7spf0r7h0000gn/T/ipykernel_89976/1679083024.py:10: RuntimeWarning: This filename (../../data/mne_raw_events_epochs_cleaned_noICA_noAutoreject/sub5-day3-jhana_mmn-raw_phot-events.fif) does not conform to MNE naming conventions. All epochs files should end with -epo.fif, -epo.fif.gz, _epo.fif or _epo.fif.gz\n",
      "  epochs = mne.read_epochs(path)\n",
      "/var/folders/bq/hl737msd54q59fzf7spf0r7h0000gn/T/ipykernel_89976/1679083024.py:13: RuntimeWarning: Concatenation of Annotations within Epochs is not supported yet. All annotations will be dropped.\n",
      "  epochs_concatenated = mne.concatenate_epochs([epochs_concatenated, epochs])\n"
     ]
    },
    {
     "name": "stdout",
     "output_type": "stream",
     "text": [
      "Reading /Users/jonasmago/PhD_code_data/github/eeg_jhana/notebooks/evoked responses/../../data/mne_raw_events_epochs_cleaned_noICA_noAutoreject/sub6-day4-jhana_mmn-raw_phot-events.fif ...\n",
      "    Found the data of interest:\n",
      "        t =    -500.00 ...    1500.00 ms\n",
      "        0 CTF compensation matrices available\n",
      "Not setting metadata\n",
      "367 matching events found\n",
      "No baseline correction applied\n",
      "0 projection items activated\n",
      "Reading /Users/jonasmago/PhD_code_data/github/eeg_jhana/notebooks/evoked responses/../../data/mne_raw_events_epochs_cleaned_noICA_noAutoreject/sub6-day3-jhana_mmn-raw_phot-events.fif ...\n",
      "    Found the data of interest:\n",
      "        t =    -500.00 ...    1500.00 ms\n",
      "        0 CTF compensation matrices available\n",
      "Not setting metadata\n",
      "370 matching events found\n",
      "No baseline correction applied\n",
      "0 projection items activated\n",
      "Not setting metadata\n",
      "737 matching events found\n",
      "Applying baseline correction (mode: mean)\n",
      "Reading /Users/jonasmago/PhD_code_data/github/eeg_jhana/notebooks/evoked responses/../../data/mne_raw_events_epochs_cleaned_noICA_noAutoreject/sub6-day2-jhana_mmn-raw_phot-events.fif ...\n",
      "    Found the data of interest:\n",
      "        t =    -500.00 ...    1500.00 ms\n",
      "        0 CTF compensation matrices available\n",
      "Not setting metadata\n",
      "370 matching events found\n",
      "No baseline correction applied\n",
      "0 projection items activated\n",
      "Not setting metadata\n",
      "1107 matching events found\n",
      "Applying baseline correction (mode: mean)\n"
     ]
    },
    {
     "name": "stderr",
     "output_type": "stream",
     "text": [
      "/var/folders/bq/hl737msd54q59fzf7spf0r7h0000gn/T/ipykernel_89976/1679083024.py:6: RuntimeWarning: This filename (../../data/mne_raw_events_epochs_cleaned_noICA_noAutoreject/sub6-day4-jhana_mmn-raw_phot-events.fif) does not conform to MNE naming conventions. All epochs files should end with -epo.fif, -epo.fif.gz, _epo.fif or _epo.fif.gz\n",
      "  epochs_concatenated = mne.read_epochs(paths[0])\n",
      "/var/folders/bq/hl737msd54q59fzf7spf0r7h0000gn/T/ipykernel_89976/1679083024.py:10: RuntimeWarning: This filename (../../data/mne_raw_events_epochs_cleaned_noICA_noAutoreject/sub6-day3-jhana_mmn-raw_phot-events.fif) does not conform to MNE naming conventions. All epochs files should end with -epo.fif, -epo.fif.gz, _epo.fif or _epo.fif.gz\n",
      "  epochs = mne.read_epochs(path)\n",
      "/var/folders/bq/hl737msd54q59fzf7spf0r7h0000gn/T/ipykernel_89976/1679083024.py:13: RuntimeWarning: Concatenation of Annotations within Epochs is not supported yet. All annotations will be dropped.\n",
      "  epochs_concatenated = mne.concatenate_epochs([epochs_concatenated, epochs])\n",
      "/var/folders/bq/hl737msd54q59fzf7spf0r7h0000gn/T/ipykernel_89976/1679083024.py:10: RuntimeWarning: This filename (../../data/mne_raw_events_epochs_cleaned_noICA_noAutoreject/sub6-day2-jhana_mmn-raw_phot-events.fif) does not conform to MNE naming conventions. All epochs files should end with -epo.fif, -epo.fif.gz, _epo.fif or _epo.fif.gz\n",
      "  epochs = mne.read_epochs(path)\n",
      "/var/folders/bq/hl737msd54q59fzf7spf0r7h0000gn/T/ipykernel_89976/1679083024.py:13: RuntimeWarning: Concatenation of Annotations within Epochs is not supported yet. All annotations will be dropped.\n",
      "  epochs_concatenated = mne.concatenate_epochs([epochs_concatenated, epochs])\n"
     ]
    },
    {
     "name": "stdout",
     "output_type": "stream",
     "text": [
      "Reading /Users/jonasmago/PhD_code_data/github/eeg_jhana/notebooks/evoked responses/../../data/mne_raw_events_epochs_cleaned_noICA_noAutoreject/sub6-day1-jhana_mmn-raw_phot-events.fif ...\n",
      "    Found the data of interest:\n",
      "        t =    -500.00 ...    1500.00 ms\n",
      "        0 CTF compensation matrices available\n",
      "Not setting metadata\n",
      "370 matching events found\n",
      "No baseline correction applied\n",
      "0 projection items activated\n",
      "Not setting metadata\n",
      "1477 matching events found\n",
      "Applying baseline correction (mode: mean)\n"
     ]
    },
    {
     "name": "stderr",
     "output_type": "stream",
     "text": [
      "/var/folders/bq/hl737msd54q59fzf7spf0r7h0000gn/T/ipykernel_89976/1679083024.py:10: RuntimeWarning: This filename (../../data/mne_raw_events_epochs_cleaned_noICA_noAutoreject/sub6-day1-jhana_mmn-raw_phot-events.fif) does not conform to MNE naming conventions. All epochs files should end with -epo.fif, -epo.fif.gz, _epo.fif or _epo.fif.gz\n",
      "  epochs = mne.read_epochs(path)\n",
      "/var/folders/bq/hl737msd54q59fzf7spf0r7h0000gn/T/ipykernel_89976/1679083024.py:13: RuntimeWarning: Concatenation of Annotations within Epochs is not supported yet. All annotations will be dropped.\n",
      "  epochs_concatenated = mne.concatenate_epochs([epochs_concatenated, epochs])\n"
     ]
    },
    {
     "name": "stdout",
     "output_type": "stream",
     "text": [
      "Reading /Users/jonasmago/PhD_code_data/github/eeg_jhana/notebooks/evoked responses/../../data/mne_raw_events_epochs_cleaned_noICA_noAutoreject/sub7-day2-jhana_mmn-raw_phot-events.fif ...\n",
      "    Found the data of interest:\n",
      "        t =    -500.00 ...    1500.00 ms\n",
      "        0 CTF compensation matrices available\n",
      "Not setting metadata\n",
      "370 matching events found\n",
      "No baseline correction applied\n",
      "0 projection items activated\n",
      "Reading /Users/jonasmago/PhD_code_data/github/eeg_jhana/notebooks/evoked responses/../../data/mne_raw_events_epochs_cleaned_noICA_noAutoreject/sub7-day4-jhana_mmn-raw_phot-events.fif ...\n",
      "    Found the data of interest:\n",
      "        t =    -500.00 ...    1500.00 ms\n",
      "        0 CTF compensation matrices available\n",
      "Not setting metadata\n",
      "368 matching events found\n",
      "No baseline correction applied\n",
      "0 projection items activated\n",
      "Not setting metadata\n",
      "738 matching events found\n",
      "Applying baseline correction (mode: mean)\n",
      "Reading /Users/jonasmago/PhD_code_data/github/eeg_jhana/notebooks/evoked responses/../../data/mne_raw_events_epochs_cleaned_noICA_noAutoreject/sub7-day3-jhana_mmn-raw_phot-events.fif ...\n",
      "    Found the data of interest:\n",
      "        t =    -500.00 ...    1500.00 ms\n",
      "        0 CTF compensation matrices available\n",
      "Not setting metadata\n",
      "368 matching events found\n",
      "No baseline correction applied\n",
      "0 projection items activated\n"
     ]
    },
    {
     "name": "stderr",
     "output_type": "stream",
     "text": [
      "/var/folders/bq/hl737msd54q59fzf7spf0r7h0000gn/T/ipykernel_89976/1679083024.py:6: RuntimeWarning: This filename (../../data/mne_raw_events_epochs_cleaned_noICA_noAutoreject/sub7-day2-jhana_mmn-raw_phot-events.fif) does not conform to MNE naming conventions. All epochs files should end with -epo.fif, -epo.fif.gz, _epo.fif or _epo.fif.gz\n",
      "  epochs_concatenated = mne.read_epochs(paths[0])\n",
      "/var/folders/bq/hl737msd54q59fzf7spf0r7h0000gn/T/ipykernel_89976/1679083024.py:10: RuntimeWarning: This filename (../../data/mne_raw_events_epochs_cleaned_noICA_noAutoreject/sub7-day4-jhana_mmn-raw_phot-events.fif) does not conform to MNE naming conventions. All epochs files should end with -epo.fif, -epo.fif.gz, _epo.fif or _epo.fif.gz\n",
      "  epochs = mne.read_epochs(path)\n",
      "/var/folders/bq/hl737msd54q59fzf7spf0r7h0000gn/T/ipykernel_89976/1679083024.py:13: RuntimeWarning: Concatenation of Annotations within Epochs is not supported yet. All annotations will be dropped.\n",
      "  epochs_concatenated = mne.concatenate_epochs([epochs_concatenated, epochs])\n",
      "/var/folders/bq/hl737msd54q59fzf7spf0r7h0000gn/T/ipykernel_89976/1679083024.py:10: RuntimeWarning: This filename (../../data/mne_raw_events_epochs_cleaned_noICA_noAutoreject/sub7-day3-jhana_mmn-raw_phot-events.fif) does not conform to MNE naming conventions. All epochs files should end with -epo.fif, -epo.fif.gz, _epo.fif or _epo.fif.gz\n",
      "  epochs = mne.read_epochs(path)\n",
      "/var/folders/bq/hl737msd54q59fzf7spf0r7h0000gn/T/ipykernel_89976/1679083024.py:13: RuntimeWarning: Concatenation of Annotations within Epochs is not supported yet. All annotations will be dropped.\n",
      "  epochs_concatenated = mne.concatenate_epochs([epochs_concatenated, epochs])\n"
     ]
    },
    {
     "name": "stdout",
     "output_type": "stream",
     "text": [
      "Not setting metadata\n",
      "1106 matching events found\n",
      "Applying baseline correction (mode: mean)\n",
      "Reading /Users/jonasmago/PhD_code_data/github/eeg_jhana/notebooks/evoked responses/../../data/mne_raw_events_epochs_cleaned_noICA_noAutoreject/sub7-day1-jhana_mmn-raw_phot-events.fif ...\n",
      "    Found the data of interest:\n",
      "        t =    -500.00 ...    1500.00 ms\n",
      "        0 CTF compensation matrices available\n",
      "Not setting metadata\n",
      "370 matching events found\n",
      "No baseline correction applied\n",
      "0 projection items activated\n",
      "Not setting metadata\n",
      "1476 matching events found\n",
      "Applying baseline correction (mode: mean)\n"
     ]
    },
    {
     "name": "stderr",
     "output_type": "stream",
     "text": [
      "/var/folders/bq/hl737msd54q59fzf7spf0r7h0000gn/T/ipykernel_89976/1679083024.py:10: RuntimeWarning: This filename (../../data/mne_raw_events_epochs_cleaned_noICA_noAutoreject/sub7-day1-jhana_mmn-raw_phot-events.fif) does not conform to MNE naming conventions. All epochs files should end with -epo.fif, -epo.fif.gz, _epo.fif or _epo.fif.gz\n",
      "  epochs = mne.read_epochs(path)\n",
      "/var/folders/bq/hl737msd54q59fzf7spf0r7h0000gn/T/ipykernel_89976/1679083024.py:13: RuntimeWarning: Concatenation of Annotations within Epochs is not supported yet. All annotations will be dropped.\n",
      "  epochs_concatenated = mne.concatenate_epochs([epochs_concatenated, epochs])\n"
     ]
    },
    {
     "name": "stdout",
     "output_type": "stream",
     "text": [
      "Reading /Users/jonasmago/PhD_code_data/github/eeg_jhana/notebooks/evoked responses/../../data/mne_raw_events_epochs_cleaned_noICA_noAutoreject/sub8-day1-jhana_mmn-raw_phot-events.fif ...\n",
      "    Found the data of interest:\n",
      "        t =    -500.00 ...    1500.00 ms\n",
      "        0 CTF compensation matrices available\n",
      "Not setting metadata\n",
      "370 matching events found\n",
      "No baseline correction applied\n",
      "0 projection items activated\n",
      "Reading /Users/jonasmago/PhD_code_data/github/eeg_jhana/notebooks/evoked responses/../../data/mne_raw_events_epochs_cleaned_noICA_noAutoreject/sub8-day2-jhana_mmn-raw_phot-events.fif ...\n",
      "    Found the data of interest:\n",
      "        t =    -500.00 ...    1500.00 ms\n",
      "        0 CTF compensation matrices available\n",
      "Not setting metadata\n",
      "368 matching events found\n",
      "No baseline correction applied\n",
      "0 projection items activated\n",
      "Not setting metadata\n",
      "738 matching events found\n",
      "Applying baseline correction (mode: mean)\n",
      "Reading /Users/jonasmago/PhD_code_data/github/eeg_jhana/notebooks/evoked responses/../../data/mne_raw_events_epochs_cleaned_noICA_noAutoreject/sub8-day3-jhana_mmn-raw_phot-events.fif ...\n",
      "    Found the data of interest:\n",
      "        t =    -500.00 ...    1500.00 ms\n",
      "        0 CTF compensation matrices available\n",
      "Not setting metadata\n",
      "370 matching events found\n",
      "No baseline correction applied\n",
      "0 projection items activated\n",
      "Not setting metadata\n",
      "1108 matching events found\n",
      "Applying baseline correction (mode: mean)\n"
     ]
    },
    {
     "name": "stderr",
     "output_type": "stream",
     "text": [
      "/var/folders/bq/hl737msd54q59fzf7spf0r7h0000gn/T/ipykernel_89976/1679083024.py:6: RuntimeWarning: This filename (../../data/mne_raw_events_epochs_cleaned_noICA_noAutoreject/sub8-day1-jhana_mmn-raw_phot-events.fif) does not conform to MNE naming conventions. All epochs files should end with -epo.fif, -epo.fif.gz, _epo.fif or _epo.fif.gz\n",
      "  epochs_concatenated = mne.read_epochs(paths[0])\n",
      "/var/folders/bq/hl737msd54q59fzf7spf0r7h0000gn/T/ipykernel_89976/1679083024.py:10: RuntimeWarning: This filename (../../data/mne_raw_events_epochs_cleaned_noICA_noAutoreject/sub8-day2-jhana_mmn-raw_phot-events.fif) does not conform to MNE naming conventions. All epochs files should end with -epo.fif, -epo.fif.gz, _epo.fif or _epo.fif.gz\n",
      "  epochs = mne.read_epochs(path)\n",
      "/var/folders/bq/hl737msd54q59fzf7spf0r7h0000gn/T/ipykernel_89976/1679083024.py:13: RuntimeWarning: Concatenation of Annotations within Epochs is not supported yet. All annotations will be dropped.\n",
      "  epochs_concatenated = mne.concatenate_epochs([epochs_concatenated, epochs])\n",
      "/var/folders/bq/hl737msd54q59fzf7spf0r7h0000gn/T/ipykernel_89976/1679083024.py:10: RuntimeWarning: This filename (../../data/mne_raw_events_epochs_cleaned_noICA_noAutoreject/sub8-day3-jhana_mmn-raw_phot-events.fif) does not conform to MNE naming conventions. All epochs files should end with -epo.fif, -epo.fif.gz, _epo.fif or _epo.fif.gz\n",
      "  epochs = mne.read_epochs(path)\n",
      "/var/folders/bq/hl737msd54q59fzf7spf0r7h0000gn/T/ipykernel_89976/1679083024.py:13: RuntimeWarning: Concatenation of Annotations within Epochs is not supported yet. All annotations will be dropped.\n",
      "  epochs_concatenated = mne.concatenate_epochs([epochs_concatenated, epochs])\n"
     ]
    },
    {
     "name": "stdout",
     "output_type": "stream",
     "text": [
      "Reading /Users/jonasmago/PhD_code_data/github/eeg_jhana/notebooks/evoked responses/../../data/mne_raw_events_epochs_cleaned_noICA_noAutoreject/sub8-day4-jhana_mmn-raw_phot-events.fif ...\n",
      "    Found the data of interest:\n",
      "        t =    -500.00 ...    1500.00 ms\n",
      "        0 CTF compensation matrices available\n",
      "Not setting metadata\n",
      "370 matching events found\n",
      "No baseline correction applied\n",
      "0 projection items activated\n",
      "Not setting metadata\n",
      "1478 matching events found\n",
      "Applying baseline correction (mode: mean)\n"
     ]
    },
    {
     "name": "stderr",
     "output_type": "stream",
     "text": [
      "/var/folders/bq/hl737msd54q59fzf7spf0r7h0000gn/T/ipykernel_89976/1679083024.py:10: RuntimeWarning: This filename (../../data/mne_raw_events_epochs_cleaned_noICA_noAutoreject/sub8-day4-jhana_mmn-raw_phot-events.fif) does not conform to MNE naming conventions. All epochs files should end with -epo.fif, -epo.fif.gz, _epo.fif or _epo.fif.gz\n",
      "  epochs = mne.read_epochs(path)\n",
      "/var/folders/bq/hl737msd54q59fzf7spf0r7h0000gn/T/ipykernel_89976/1679083024.py:13: RuntimeWarning: Concatenation of Annotations within Epochs is not supported yet. All annotations will be dropped.\n",
      "  epochs_concatenated = mne.concatenate_epochs([epochs_concatenated, epochs])\n"
     ]
    },
    {
     "name": "stdout",
     "output_type": "stream",
     "text": [
      "Reading /Users/jonasmago/PhD_code_data/github/eeg_jhana/notebooks/evoked responses/../../data/mne_raw_events_epochs_cleaned_noICA_noAutoreject/sub9-day1-jhana_mmn-raw_phot-events.fif ...\n",
      "    Found the data of interest:\n",
      "        t =    -500.00 ...    1500.00 ms\n",
      "        0 CTF compensation matrices available\n",
      "Not setting metadata\n",
      "370 matching events found\n",
      "No baseline correction applied\n",
      "0 projection items activated\n",
      "Reading /Users/jonasmago/PhD_code_data/github/eeg_jhana/notebooks/evoked responses/../../data/mne_raw_events_epochs_cleaned_noICA_noAutoreject/sub9-day3-jhana_mmn-raw_phot-events.fif ...\n",
      "    Found the data of interest:\n",
      "        t =    -500.00 ...    1500.00 ms\n",
      "        0 CTF compensation matrices available\n",
      "Not setting metadata\n",
      "370 matching events found\n",
      "No baseline correction applied\n",
      "0 projection items activated\n",
      "Not setting metadata\n",
      "740 matching events found\n",
      "Applying baseline correction (mode: mean)\n",
      "Reading /Users/jonasmago/PhD_code_data/github/eeg_jhana/notebooks/evoked responses/../../data/mne_raw_events_epochs_cleaned_noICA_noAutoreject/sub9-day4-jhana_mmn-raw_phot-events.fif ...\n",
      "    Found the data of interest:\n",
      "        t =    -500.00 ...    1500.00 ms\n",
      "        0 CTF compensation matrices available\n",
      "Not setting metadata\n",
      "368 matching events found\n",
      "No baseline correction applied\n",
      "0 projection items activated\n",
      "Not setting metadata\n",
      "1108 matching events found\n",
      "Applying baseline correction (mode: mean)\n"
     ]
    },
    {
     "name": "stderr",
     "output_type": "stream",
     "text": [
      "/var/folders/bq/hl737msd54q59fzf7spf0r7h0000gn/T/ipykernel_89976/1679083024.py:6: RuntimeWarning: This filename (../../data/mne_raw_events_epochs_cleaned_noICA_noAutoreject/sub9-day1-jhana_mmn-raw_phot-events.fif) does not conform to MNE naming conventions. All epochs files should end with -epo.fif, -epo.fif.gz, _epo.fif or _epo.fif.gz\n",
      "  epochs_concatenated = mne.read_epochs(paths[0])\n",
      "/var/folders/bq/hl737msd54q59fzf7spf0r7h0000gn/T/ipykernel_89976/1679083024.py:10: RuntimeWarning: This filename (../../data/mne_raw_events_epochs_cleaned_noICA_noAutoreject/sub9-day3-jhana_mmn-raw_phot-events.fif) does not conform to MNE naming conventions. All epochs files should end with -epo.fif, -epo.fif.gz, _epo.fif or _epo.fif.gz\n",
      "  epochs = mne.read_epochs(path)\n",
      "/var/folders/bq/hl737msd54q59fzf7spf0r7h0000gn/T/ipykernel_89976/1679083024.py:13: RuntimeWarning: Concatenation of Annotations within Epochs is not supported yet. All annotations will be dropped.\n",
      "  epochs_concatenated = mne.concatenate_epochs([epochs_concatenated, epochs])\n",
      "/var/folders/bq/hl737msd54q59fzf7spf0r7h0000gn/T/ipykernel_89976/1679083024.py:10: RuntimeWarning: This filename (../../data/mne_raw_events_epochs_cleaned_noICA_noAutoreject/sub9-day4-jhana_mmn-raw_phot-events.fif) does not conform to MNE naming conventions. All epochs files should end with -epo.fif, -epo.fif.gz, _epo.fif or _epo.fif.gz\n",
      "  epochs = mne.read_epochs(path)\n",
      "/var/folders/bq/hl737msd54q59fzf7spf0r7h0000gn/T/ipykernel_89976/1679083024.py:13: RuntimeWarning: Concatenation of Annotations within Epochs is not supported yet. All annotations will be dropped.\n",
      "  epochs_concatenated = mne.concatenate_epochs([epochs_concatenated, epochs])\n"
     ]
    },
    {
     "name": "stdout",
     "output_type": "stream",
     "text": [
      "Reading /Users/jonasmago/PhD_code_data/github/eeg_jhana/notebooks/evoked responses/../../data/mne_raw_events_epochs_cleaned_noICA_noAutoreject/sub9-day2-jhana_mmn-raw_phot-events.fif ...\n",
      "    Found the data of interest:\n",
      "        t =    -500.00 ...    1500.00 ms\n",
      "        0 CTF compensation matrices available\n",
      "Not setting metadata\n",
      "370 matching events found\n",
      "No baseline correction applied\n",
      "0 projection items activated\n",
      "Not setting metadata\n",
      "1478 matching events found\n",
      "Applying baseline correction (mode: mean)\n"
     ]
    },
    {
     "name": "stderr",
     "output_type": "stream",
     "text": [
      "/var/folders/bq/hl737msd54q59fzf7spf0r7h0000gn/T/ipykernel_89976/1679083024.py:10: RuntimeWarning: This filename (../../data/mne_raw_events_epochs_cleaned_noICA_noAutoreject/sub9-day2-jhana_mmn-raw_phot-events.fif) does not conform to MNE naming conventions. All epochs files should end with -epo.fif, -epo.fif.gz, _epo.fif or _epo.fif.gz\n",
      "  epochs = mne.read_epochs(path)\n",
      "/var/folders/bq/hl737msd54q59fzf7spf0r7h0000gn/T/ipykernel_89976/1679083024.py:13: RuntimeWarning: Concatenation of Annotations within Epochs is not supported yet. All annotations will be dropped.\n",
      "  epochs_concatenated = mne.concatenate_epochs([epochs_concatenated, epochs])\n"
     ]
    },
    {
     "name": "stdout",
     "output_type": "stream",
     "text": [
      "Reading /Users/jonasmago/PhD_code_data/github/eeg_jhana/notebooks/evoked responses/../../data/mne_raw_events_epochs_cleaned_noICA_noAutoreject/sub0-day3-mindfulness_mmn-raw_phot-events.fif ...\n",
      "    Found the data of interest:\n",
      "        t =    -500.00 ...    1500.00 ms\n",
      "        0 CTF compensation matrices available\n",
      "Not setting metadata\n",
      "370 matching events found\n",
      "No baseline correction applied\n",
      "0 projection items activated\n",
      "Reading /Users/jonasmago/PhD_code_data/github/eeg_jhana/notebooks/evoked responses/../../data/mne_raw_events_epochs_cleaned_noICA_noAutoreject/sub0-day4-mindfulness_mmn-raw_phot-events.fif ...\n",
      "    Found the data of interest:\n",
      "        t =    -500.00 ...    1500.00 ms\n",
      "        0 CTF compensation matrices available\n",
      "Not setting metadata\n",
      "370 matching events found\n",
      "No baseline correction applied\n",
      "0 projection items activated\n",
      "Not setting metadata\n",
      "740 matching events found\n",
      "Applying baseline correction (mode: mean)\n",
      "Reading /Users/jonasmago/PhD_code_data/github/eeg_jhana/notebooks/evoked responses/../../data/mne_raw_events_epochs_cleaned_noICA_noAutoreject/sub0-day1-mindfulness_mmn-raw_phot-events.fif ...\n",
      "    Found the data of interest:\n",
      "        t =    -500.00 ...    1500.00 ms\n",
      "        0 CTF compensation matrices available\n",
      "Not setting metadata\n",
      "370 matching events found\n",
      "No baseline correction applied\n",
      "0 projection items activated\n",
      "Not setting metadata\n",
      "1110 matching events found\n",
      "Applying baseline correction (mode: mean)\n"
     ]
    },
    {
     "name": "stderr",
     "output_type": "stream",
     "text": [
      "/var/folders/bq/hl737msd54q59fzf7spf0r7h0000gn/T/ipykernel_89976/1679083024.py:6: RuntimeWarning: This filename (../../data/mne_raw_events_epochs_cleaned_noICA_noAutoreject/sub0-day3-mindfulness_mmn-raw_phot-events.fif) does not conform to MNE naming conventions. All epochs files should end with -epo.fif, -epo.fif.gz, _epo.fif or _epo.fif.gz\n",
      "  epochs_concatenated = mne.read_epochs(paths[0])\n",
      "/var/folders/bq/hl737msd54q59fzf7spf0r7h0000gn/T/ipykernel_89976/1679083024.py:10: RuntimeWarning: This filename (../../data/mne_raw_events_epochs_cleaned_noICA_noAutoreject/sub0-day4-mindfulness_mmn-raw_phot-events.fif) does not conform to MNE naming conventions. All epochs files should end with -epo.fif, -epo.fif.gz, _epo.fif or _epo.fif.gz\n",
      "  epochs = mne.read_epochs(path)\n",
      "/var/folders/bq/hl737msd54q59fzf7spf0r7h0000gn/T/ipykernel_89976/1679083024.py:13: RuntimeWarning: Concatenation of Annotations within Epochs is not supported yet. All annotations will be dropped.\n",
      "  epochs_concatenated = mne.concatenate_epochs([epochs_concatenated, epochs])\n",
      "/var/folders/bq/hl737msd54q59fzf7spf0r7h0000gn/T/ipykernel_89976/1679083024.py:10: RuntimeWarning: This filename (../../data/mne_raw_events_epochs_cleaned_noICA_noAutoreject/sub0-day1-mindfulness_mmn-raw_phot-events.fif) does not conform to MNE naming conventions. All epochs files should end with -epo.fif, -epo.fif.gz, _epo.fif or _epo.fif.gz\n",
      "  epochs = mne.read_epochs(path)\n",
      "/var/folders/bq/hl737msd54q59fzf7spf0r7h0000gn/T/ipykernel_89976/1679083024.py:13: RuntimeWarning: Concatenation of Annotations within Epochs is not supported yet. All annotations will be dropped.\n",
      "  epochs_concatenated = mne.concatenate_epochs([epochs_concatenated, epochs])\n"
     ]
    },
    {
     "name": "stdout",
     "output_type": "stream",
     "text": [
      "Reading /Users/jonasmago/PhD_code_data/github/eeg_jhana/notebooks/evoked responses/../../data/mne_raw_events_epochs_cleaned_noICA_noAutoreject/sub0-day2-mindfulness_mmn-raw_phot-events.fif ...\n",
      "    Found the data of interest:\n",
      "        t =    -500.00 ...    1500.00 ms\n",
      "        0 CTF compensation matrices available\n",
      "Not setting metadata\n",
      "370 matching events found\n",
      "No baseline correction applied\n",
      "0 projection items activated\n",
      "Not setting metadata\n",
      "1480 matching events found\n",
      "Applying baseline correction (mode: mean)\n"
     ]
    },
    {
     "name": "stderr",
     "output_type": "stream",
     "text": [
      "/var/folders/bq/hl737msd54q59fzf7spf0r7h0000gn/T/ipykernel_89976/1679083024.py:10: RuntimeWarning: This filename (../../data/mne_raw_events_epochs_cleaned_noICA_noAutoreject/sub0-day2-mindfulness_mmn-raw_phot-events.fif) does not conform to MNE naming conventions. All epochs files should end with -epo.fif, -epo.fif.gz, _epo.fif or _epo.fif.gz\n",
      "  epochs = mne.read_epochs(path)\n",
      "/var/folders/bq/hl737msd54q59fzf7spf0r7h0000gn/T/ipykernel_89976/1679083024.py:13: RuntimeWarning: Concatenation of Annotations within Epochs is not supported yet. All annotations will be dropped.\n",
      "  epochs_concatenated = mne.concatenate_epochs([epochs_concatenated, epochs])\n"
     ]
    },
    {
     "name": "stdout",
     "output_type": "stream",
     "text": [
      "Reading /Users/jonasmago/PhD_code_data/github/eeg_jhana/notebooks/evoked responses/../../data/mne_raw_events_epochs_cleaned_noICA_noAutoreject/sub1-day4-mindfulness_mmn-raw_phot-events.fif ...\n",
      "    Found the data of interest:\n",
      "        t =    -500.00 ...    1500.00 ms\n",
      "        0 CTF compensation matrices available\n",
      "Not setting metadata\n",
      "370 matching events found\n",
      "No baseline correction applied\n",
      "0 projection items activated\n",
      "Reading /Users/jonasmago/PhD_code_data/github/eeg_jhana/notebooks/evoked responses/../../data/mne_raw_events_epochs_cleaned_noICA_noAutoreject/sub1-day2-mindfulness_mmn-raw_phot-events.fif ...\n",
      "    Found the data of interest:\n",
      "        t =    -500.00 ...    1500.00 ms\n",
      "        0 CTF compensation matrices available\n",
      "Not setting metadata\n",
      "370 matching events found\n",
      "No baseline correction applied\n",
      "0 projection items activated\n",
      "Not setting metadata\n",
      "740 matching events found\n",
      "Applying baseline correction (mode: mean)\n",
      "Reading /Users/jonasmago/PhD_code_data/github/eeg_jhana/notebooks/evoked responses/../../data/mne_raw_events_epochs_cleaned_noICA_noAutoreject/sub1-day1-mindfulness_mmn-raw_phot-events.fif ...\n",
      "    Found the data of interest:\n",
      "        t =    -500.00 ...    1500.00 ms\n",
      "        0 CTF compensation matrices available\n",
      "Not setting metadata\n",
      "370 matching events found\n",
      "No baseline correction applied\n",
      "0 projection items activated\n",
      "Not setting metadata\n",
      "1110 matching events found\n",
      "Applying baseline correction (mode: mean)\n"
     ]
    },
    {
     "name": "stderr",
     "output_type": "stream",
     "text": [
      "/var/folders/bq/hl737msd54q59fzf7spf0r7h0000gn/T/ipykernel_89976/1679083024.py:6: RuntimeWarning: This filename (../../data/mne_raw_events_epochs_cleaned_noICA_noAutoreject/sub1-day4-mindfulness_mmn-raw_phot-events.fif) does not conform to MNE naming conventions. All epochs files should end with -epo.fif, -epo.fif.gz, _epo.fif or _epo.fif.gz\n",
      "  epochs_concatenated = mne.read_epochs(paths[0])\n",
      "/var/folders/bq/hl737msd54q59fzf7spf0r7h0000gn/T/ipykernel_89976/1679083024.py:10: RuntimeWarning: This filename (../../data/mne_raw_events_epochs_cleaned_noICA_noAutoreject/sub1-day2-mindfulness_mmn-raw_phot-events.fif) does not conform to MNE naming conventions. All epochs files should end with -epo.fif, -epo.fif.gz, _epo.fif or _epo.fif.gz\n",
      "  epochs = mne.read_epochs(path)\n",
      "/var/folders/bq/hl737msd54q59fzf7spf0r7h0000gn/T/ipykernel_89976/1679083024.py:13: RuntimeWarning: Concatenation of Annotations within Epochs is not supported yet. All annotations will be dropped.\n",
      "  epochs_concatenated = mne.concatenate_epochs([epochs_concatenated, epochs])\n",
      "/var/folders/bq/hl737msd54q59fzf7spf0r7h0000gn/T/ipykernel_89976/1679083024.py:10: RuntimeWarning: This filename (../../data/mne_raw_events_epochs_cleaned_noICA_noAutoreject/sub1-day1-mindfulness_mmn-raw_phot-events.fif) does not conform to MNE naming conventions. All epochs files should end with -epo.fif, -epo.fif.gz, _epo.fif or _epo.fif.gz\n",
      "  epochs = mne.read_epochs(path)\n",
      "/var/folders/bq/hl737msd54q59fzf7spf0r7h0000gn/T/ipykernel_89976/1679083024.py:13: RuntimeWarning: Concatenation of Annotations within Epochs is not supported yet. All annotations will be dropped.\n",
      "  epochs_concatenated = mne.concatenate_epochs([epochs_concatenated, epochs])\n"
     ]
    },
    {
     "name": "stdout",
     "output_type": "stream",
     "text": [
      "Reading /Users/jonasmago/PhD_code_data/github/eeg_jhana/notebooks/evoked responses/../../data/mne_raw_events_epochs_cleaned_noICA_noAutoreject/sub1-day3-mindfulness_mmn-raw_phot-events.fif ...\n",
      "    Found the data of interest:\n",
      "        t =    -500.00 ...    1500.00 ms\n",
      "        0 CTF compensation matrices available\n",
      "Not setting metadata\n",
      "370 matching events found\n",
      "No baseline correction applied\n",
      "0 projection items activated\n",
      "Not setting metadata\n",
      "1480 matching events found\n",
      "Applying baseline correction (mode: mean)\n"
     ]
    },
    {
     "name": "stderr",
     "output_type": "stream",
     "text": [
      "/var/folders/bq/hl737msd54q59fzf7spf0r7h0000gn/T/ipykernel_89976/1679083024.py:10: RuntimeWarning: This filename (../../data/mne_raw_events_epochs_cleaned_noICA_noAutoreject/sub1-day3-mindfulness_mmn-raw_phot-events.fif) does not conform to MNE naming conventions. All epochs files should end with -epo.fif, -epo.fif.gz, _epo.fif or _epo.fif.gz\n",
      "  epochs = mne.read_epochs(path)\n",
      "/var/folders/bq/hl737msd54q59fzf7spf0r7h0000gn/T/ipykernel_89976/1679083024.py:13: RuntimeWarning: Concatenation of Annotations within Epochs is not supported yet. All annotations will be dropped.\n",
      "  epochs_concatenated = mne.concatenate_epochs([epochs_concatenated, epochs])\n"
     ]
    },
    {
     "name": "stdout",
     "output_type": "stream",
     "text": [
      "Reading /Users/jonasmago/PhD_code_data/github/eeg_jhana/notebooks/evoked responses/../../data/mne_raw_events_epochs_cleaned_noICA_noAutoreject/sub2-day1-mindfulness_mmn-raw_phot-events.fif ...\n",
      "    Found the data of interest:\n",
      "        t =    -500.00 ...    1500.00 ms\n",
      "        0 CTF compensation matrices available\n",
      "Not setting metadata\n",
      "370 matching events found\n",
      "No baseline correction applied\n",
      "0 projection items activated\n",
      "Reading /Users/jonasmago/PhD_code_data/github/eeg_jhana/notebooks/evoked responses/../../data/mne_raw_events_epochs_cleaned_noICA_noAutoreject/sub2-day4-mindfulness_mmn-raw_phot-events.fif ...\n",
      "    Found the data of interest:\n",
      "        t =    -500.00 ...    1500.00 ms\n",
      "        0 CTF compensation matrices available\n",
      "Not setting metadata\n",
      "370 matching events found\n",
      "No baseline correction applied\n",
      "0 projection items activated\n",
      "Not setting metadata\n",
      "740 matching events found\n",
      "Applying baseline correction (mode: mean)\n",
      "Reading /Users/jonasmago/PhD_code_data/github/eeg_jhana/notebooks/evoked responses/../../data/mne_raw_events_epochs_cleaned_noICA_noAutoreject/sub2-day3-mindfulness_mmn-raw_phot-events.fif ...\n",
      "    Found the data of interest:\n",
      "        t =    -500.00 ...    1500.00 ms\n",
      "        0 CTF compensation matrices available\n",
      "Not setting metadata\n",
      "370 matching events found\n",
      "No baseline correction applied\n",
      "0 projection items activated\n",
      "Not setting metadata\n",
      "1110 matching events found\n",
      "Applying baseline correction (mode: mean)\n"
     ]
    },
    {
     "name": "stderr",
     "output_type": "stream",
     "text": [
      "/var/folders/bq/hl737msd54q59fzf7spf0r7h0000gn/T/ipykernel_89976/1679083024.py:6: RuntimeWarning: This filename (../../data/mne_raw_events_epochs_cleaned_noICA_noAutoreject/sub2-day1-mindfulness_mmn-raw_phot-events.fif) does not conform to MNE naming conventions. All epochs files should end with -epo.fif, -epo.fif.gz, _epo.fif or _epo.fif.gz\n",
      "  epochs_concatenated = mne.read_epochs(paths[0])\n",
      "/var/folders/bq/hl737msd54q59fzf7spf0r7h0000gn/T/ipykernel_89976/1679083024.py:10: RuntimeWarning: This filename (../../data/mne_raw_events_epochs_cleaned_noICA_noAutoreject/sub2-day4-mindfulness_mmn-raw_phot-events.fif) does not conform to MNE naming conventions. All epochs files should end with -epo.fif, -epo.fif.gz, _epo.fif or _epo.fif.gz\n",
      "  epochs = mne.read_epochs(path)\n",
      "/var/folders/bq/hl737msd54q59fzf7spf0r7h0000gn/T/ipykernel_89976/1679083024.py:13: RuntimeWarning: Concatenation of Annotations within Epochs is not supported yet. All annotations will be dropped.\n",
      "  epochs_concatenated = mne.concatenate_epochs([epochs_concatenated, epochs])\n",
      "/var/folders/bq/hl737msd54q59fzf7spf0r7h0000gn/T/ipykernel_89976/1679083024.py:10: RuntimeWarning: This filename (../../data/mne_raw_events_epochs_cleaned_noICA_noAutoreject/sub2-day3-mindfulness_mmn-raw_phot-events.fif) does not conform to MNE naming conventions. All epochs files should end with -epo.fif, -epo.fif.gz, _epo.fif or _epo.fif.gz\n",
      "  epochs = mne.read_epochs(path)\n",
      "/var/folders/bq/hl737msd54q59fzf7spf0r7h0000gn/T/ipykernel_89976/1679083024.py:13: RuntimeWarning: Concatenation of Annotations within Epochs is not supported yet. All annotations will be dropped.\n",
      "  epochs_concatenated = mne.concatenate_epochs([epochs_concatenated, epochs])\n"
     ]
    },
    {
     "name": "stdout",
     "output_type": "stream",
     "text": [
      "Reading /Users/jonasmago/PhD_code_data/github/eeg_jhana/notebooks/evoked responses/../../data/mne_raw_events_epochs_cleaned_noICA_noAutoreject/sub3-day3-mindfulness_mmn-raw_phot-events.fif ...\n",
      "    Found the data of interest:\n",
      "        t =    -500.00 ...    1500.00 ms\n",
      "        0 CTF compensation matrices available\n",
      "Not setting metadata\n",
      "370 matching events found\n",
      "No baseline correction applied\n",
      "0 projection items activated\n",
      "Reading /Users/jonasmago/PhD_code_data/github/eeg_jhana/notebooks/evoked responses/../../data/mne_raw_events_epochs_cleaned_noICA_noAutoreject/sub3-day1-mindfulness_mmn-raw_phot-events.fif ...\n",
      "    Found the data of interest:\n",
      "        t =    -500.00 ...    1500.00 ms\n",
      "        0 CTF compensation matrices available\n",
      "Not setting metadata\n",
      "370 matching events found\n",
      "No baseline correction applied\n",
      "0 projection items activated\n",
      "Not setting metadata\n",
      "740 matching events found\n",
      "Applying baseline correction (mode: mean)\n",
      "Reading /Users/jonasmago/PhD_code_data/github/eeg_jhana/notebooks/evoked responses/../../data/mne_raw_events_epochs_cleaned_noICA_noAutoreject/sub3-day4-mindfulness_mmn-raw_phot-events.fif ...\n",
      "    Found the data of interest:\n",
      "        t =    -500.00 ...    1500.00 ms\n",
      "        0 CTF compensation matrices available\n",
      "Not setting metadata\n",
      "370 matching events found\n",
      "No baseline correction applied\n",
      "0 projection items activated\n",
      "Not setting metadata\n",
      "1110 matching events found\n",
      "Applying baseline correction (mode: mean)\n"
     ]
    },
    {
     "name": "stderr",
     "output_type": "stream",
     "text": [
      "/var/folders/bq/hl737msd54q59fzf7spf0r7h0000gn/T/ipykernel_89976/1679083024.py:6: RuntimeWarning: This filename (../../data/mne_raw_events_epochs_cleaned_noICA_noAutoreject/sub3-day3-mindfulness_mmn-raw_phot-events.fif) does not conform to MNE naming conventions. All epochs files should end with -epo.fif, -epo.fif.gz, _epo.fif or _epo.fif.gz\n",
      "  epochs_concatenated = mne.read_epochs(paths[0])\n",
      "/var/folders/bq/hl737msd54q59fzf7spf0r7h0000gn/T/ipykernel_89976/1679083024.py:10: RuntimeWarning: This filename (../../data/mne_raw_events_epochs_cleaned_noICA_noAutoreject/sub3-day1-mindfulness_mmn-raw_phot-events.fif) does not conform to MNE naming conventions. All epochs files should end with -epo.fif, -epo.fif.gz, _epo.fif or _epo.fif.gz\n",
      "  epochs = mne.read_epochs(path)\n",
      "/var/folders/bq/hl737msd54q59fzf7spf0r7h0000gn/T/ipykernel_89976/1679083024.py:13: RuntimeWarning: Concatenation of Annotations within Epochs is not supported yet. All annotations will be dropped.\n",
      "  epochs_concatenated = mne.concatenate_epochs([epochs_concatenated, epochs])\n",
      "/var/folders/bq/hl737msd54q59fzf7spf0r7h0000gn/T/ipykernel_89976/1679083024.py:10: RuntimeWarning: This filename (../../data/mne_raw_events_epochs_cleaned_noICA_noAutoreject/sub3-day4-mindfulness_mmn-raw_phot-events.fif) does not conform to MNE naming conventions. All epochs files should end with -epo.fif, -epo.fif.gz, _epo.fif or _epo.fif.gz\n",
      "  epochs = mne.read_epochs(path)\n",
      "/var/folders/bq/hl737msd54q59fzf7spf0r7h0000gn/T/ipykernel_89976/1679083024.py:13: RuntimeWarning: Concatenation of Annotations within Epochs is not supported yet. All annotations will be dropped.\n",
      "  epochs_concatenated = mne.concatenate_epochs([epochs_concatenated, epochs])\n"
     ]
    },
    {
     "name": "stdout",
     "output_type": "stream",
     "text": [
      "Reading /Users/jonasmago/PhD_code_data/github/eeg_jhana/notebooks/evoked responses/../../data/mne_raw_events_epochs_cleaned_noICA_noAutoreject/sub4-day3-mindfulness_mmn-raw_phot-events.fif ...\n",
      "    Found the data of interest:\n",
      "        t =    -500.00 ...    1500.00 ms\n",
      "        0 CTF compensation matrices available\n",
      "Not setting metadata\n",
      "368 matching events found\n",
      "No baseline correction applied\n",
      "0 projection items activated\n",
      "Reading /Users/jonasmago/PhD_code_data/github/eeg_jhana/notebooks/evoked responses/../../data/mne_raw_events_epochs_cleaned_noICA_noAutoreject/sub4-day4-mindfulness_mmn-raw_phot-events.fif ...\n",
      "    Found the data of interest:\n",
      "        t =    -500.00 ...    1500.00 ms\n",
      "        0 CTF compensation matrices available\n",
      "Not setting metadata\n",
      "370 matching events found\n",
      "No baseline correction applied\n",
      "0 projection items activated\n",
      "Not setting metadata\n",
      "738 matching events found\n",
      "Applying baseline correction (mode: mean)\n",
      "Reading /Users/jonasmago/PhD_code_data/github/eeg_jhana/notebooks/evoked responses/../../data/mne_raw_events_epochs_cleaned_noICA_noAutoreject/sub4-day1-mindfulness_mmn-raw_phot-events.fif ...\n",
      "    Found the data of interest:\n",
      "        t =    -500.00 ...    1500.00 ms\n",
      "        0 CTF compensation matrices available\n",
      "Not setting metadata\n",
      "370 matching events found\n",
      "No baseline correction applied\n",
      "0 projection items activated\n",
      "Not setting metadata\n",
      "1108 matching events found\n",
      "Applying baseline correction (mode: mean)\n"
     ]
    },
    {
     "name": "stderr",
     "output_type": "stream",
     "text": [
      "/var/folders/bq/hl737msd54q59fzf7spf0r7h0000gn/T/ipykernel_89976/1679083024.py:6: RuntimeWarning: This filename (../../data/mne_raw_events_epochs_cleaned_noICA_noAutoreject/sub4-day3-mindfulness_mmn-raw_phot-events.fif) does not conform to MNE naming conventions. All epochs files should end with -epo.fif, -epo.fif.gz, _epo.fif or _epo.fif.gz\n",
      "  epochs_concatenated = mne.read_epochs(paths[0])\n",
      "/var/folders/bq/hl737msd54q59fzf7spf0r7h0000gn/T/ipykernel_89976/1679083024.py:10: RuntimeWarning: This filename (../../data/mne_raw_events_epochs_cleaned_noICA_noAutoreject/sub4-day4-mindfulness_mmn-raw_phot-events.fif) does not conform to MNE naming conventions. All epochs files should end with -epo.fif, -epo.fif.gz, _epo.fif or _epo.fif.gz\n",
      "  epochs = mne.read_epochs(path)\n",
      "/var/folders/bq/hl737msd54q59fzf7spf0r7h0000gn/T/ipykernel_89976/1679083024.py:13: RuntimeWarning: Concatenation of Annotations within Epochs is not supported yet. All annotations will be dropped.\n",
      "  epochs_concatenated = mne.concatenate_epochs([epochs_concatenated, epochs])\n",
      "/var/folders/bq/hl737msd54q59fzf7spf0r7h0000gn/T/ipykernel_89976/1679083024.py:10: RuntimeWarning: This filename (../../data/mne_raw_events_epochs_cleaned_noICA_noAutoreject/sub4-day1-mindfulness_mmn-raw_phot-events.fif) does not conform to MNE naming conventions. All epochs files should end with -epo.fif, -epo.fif.gz, _epo.fif or _epo.fif.gz\n",
      "  epochs = mne.read_epochs(path)\n",
      "/var/folders/bq/hl737msd54q59fzf7spf0r7h0000gn/T/ipykernel_89976/1679083024.py:13: RuntimeWarning: Concatenation of Annotations within Epochs is not supported yet. All annotations will be dropped.\n",
      "  epochs_concatenated = mne.concatenate_epochs([epochs_concatenated, epochs])\n"
     ]
    },
    {
     "name": "stdout",
     "output_type": "stream",
     "text": [
      "Reading /Users/jonasmago/PhD_code_data/github/eeg_jhana/notebooks/evoked responses/../../data/mne_raw_events_epochs_cleaned_noICA_noAutoreject/sub4-day2-mindfulness_mmn-raw_phot-events.fif ...\n",
      "    Found the data of interest:\n",
      "        t =    -500.00 ...    1500.00 ms\n",
      "        0 CTF compensation matrices available\n",
      "Not setting metadata\n",
      "370 matching events found\n",
      "No baseline correction applied\n",
      "0 projection items activated\n",
      "Not setting metadata\n",
      "1478 matching events found\n",
      "Applying baseline correction (mode: mean)\n"
     ]
    },
    {
     "name": "stderr",
     "output_type": "stream",
     "text": [
      "/var/folders/bq/hl737msd54q59fzf7spf0r7h0000gn/T/ipykernel_89976/1679083024.py:10: RuntimeWarning: This filename (../../data/mne_raw_events_epochs_cleaned_noICA_noAutoreject/sub4-day2-mindfulness_mmn-raw_phot-events.fif) does not conform to MNE naming conventions. All epochs files should end with -epo.fif, -epo.fif.gz, _epo.fif or _epo.fif.gz\n",
      "  epochs = mne.read_epochs(path)\n",
      "/var/folders/bq/hl737msd54q59fzf7spf0r7h0000gn/T/ipykernel_89976/1679083024.py:13: RuntimeWarning: Concatenation of Annotations within Epochs is not supported yet. All annotations will be dropped.\n",
      "  epochs_concatenated = mne.concatenate_epochs([epochs_concatenated, epochs])\n"
     ]
    },
    {
     "name": "stdout",
     "output_type": "stream",
     "text": [
      "Reading /Users/jonasmago/PhD_code_data/github/eeg_jhana/notebooks/evoked responses/../../data/mne_raw_events_epochs_cleaned_noICA_noAutoreject/sub5-day4-mindfulness_mmn-raw_phot-events.fif ...\n",
      "    Found the data of interest:\n",
      "        t =    -500.00 ...    1500.00 ms\n",
      "        0 CTF compensation matrices available\n",
      "Not setting metadata\n",
      "370 matching events found\n",
      "No baseline correction applied\n",
      "0 projection items activated\n",
      "Reading /Users/jonasmago/PhD_code_data/github/eeg_jhana/notebooks/evoked responses/../../data/mne_raw_events_epochs_cleaned_noICA_noAutoreject/sub5-day2-mindfulness_mmn-raw_phot-events.fif ...\n",
      "    Found the data of interest:\n",
      "        t =    -500.00 ...    1500.00 ms\n",
      "        0 CTF compensation matrices available\n",
      "Not setting metadata\n",
      "370 matching events found\n",
      "No baseline correction applied\n",
      "0 projection items activated\n",
      "Not setting metadata\n",
      "740 matching events found\n",
      "Applying baseline correction (mode: mean)\n",
      "Reading /Users/jonasmago/PhD_code_data/github/eeg_jhana/notebooks/evoked responses/../../data/mne_raw_events_epochs_cleaned_noICA_noAutoreject/sub5-day1-mindfulness_mmn-raw_phot-events.fif ...\n",
      "    Found the data of interest:\n",
      "        t =    -500.00 ...    1500.00 ms\n",
      "        0 CTF compensation matrices available\n",
      "Not setting metadata\n",
      "370 matching events found\n",
      "No baseline correction applied\n",
      "0 projection items activated\n",
      "Not setting metadata\n",
      "1110 matching events found\n",
      "Applying baseline correction (mode: mean)\n"
     ]
    },
    {
     "name": "stderr",
     "output_type": "stream",
     "text": [
      "/var/folders/bq/hl737msd54q59fzf7spf0r7h0000gn/T/ipykernel_89976/1679083024.py:6: RuntimeWarning: This filename (../../data/mne_raw_events_epochs_cleaned_noICA_noAutoreject/sub5-day4-mindfulness_mmn-raw_phot-events.fif) does not conform to MNE naming conventions. All epochs files should end with -epo.fif, -epo.fif.gz, _epo.fif or _epo.fif.gz\n",
      "  epochs_concatenated = mne.read_epochs(paths[0])\n",
      "/var/folders/bq/hl737msd54q59fzf7spf0r7h0000gn/T/ipykernel_89976/1679083024.py:10: RuntimeWarning: This filename (../../data/mne_raw_events_epochs_cleaned_noICA_noAutoreject/sub5-day2-mindfulness_mmn-raw_phot-events.fif) does not conform to MNE naming conventions. All epochs files should end with -epo.fif, -epo.fif.gz, _epo.fif or _epo.fif.gz\n",
      "  epochs = mne.read_epochs(path)\n",
      "/var/folders/bq/hl737msd54q59fzf7spf0r7h0000gn/T/ipykernel_89976/1679083024.py:13: RuntimeWarning: Concatenation of Annotations within Epochs is not supported yet. All annotations will be dropped.\n",
      "  epochs_concatenated = mne.concatenate_epochs([epochs_concatenated, epochs])\n",
      "/var/folders/bq/hl737msd54q59fzf7spf0r7h0000gn/T/ipykernel_89976/1679083024.py:10: RuntimeWarning: This filename (../../data/mne_raw_events_epochs_cleaned_noICA_noAutoreject/sub5-day1-mindfulness_mmn-raw_phot-events.fif) does not conform to MNE naming conventions. All epochs files should end with -epo.fif, -epo.fif.gz, _epo.fif or _epo.fif.gz\n",
      "  epochs = mne.read_epochs(path)\n",
      "/var/folders/bq/hl737msd54q59fzf7spf0r7h0000gn/T/ipykernel_89976/1679083024.py:13: RuntimeWarning: Concatenation of Annotations within Epochs is not supported yet. All annotations will be dropped.\n",
      "  epochs_concatenated = mne.concatenate_epochs([epochs_concatenated, epochs])\n"
     ]
    },
    {
     "name": "stdout",
     "output_type": "stream",
     "text": [
      "Reading /Users/jonasmago/PhD_code_data/github/eeg_jhana/notebooks/evoked responses/../../data/mne_raw_events_epochs_cleaned_noICA_noAutoreject/sub5-day3-mindfulness_mmn-raw_phot-events.fif ...\n",
      "    Found the data of interest:\n",
      "        t =    -500.00 ...    1500.00 ms\n",
      "        0 CTF compensation matrices available\n",
      "Not setting metadata\n",
      "370 matching events found\n",
      "No baseline correction applied\n",
      "0 projection items activated\n",
      "Not setting metadata\n",
      "1480 matching events found\n",
      "Applying baseline correction (mode: mean)\n"
     ]
    },
    {
     "name": "stderr",
     "output_type": "stream",
     "text": [
      "/var/folders/bq/hl737msd54q59fzf7spf0r7h0000gn/T/ipykernel_89976/1679083024.py:10: RuntimeWarning: This filename (../../data/mne_raw_events_epochs_cleaned_noICA_noAutoreject/sub5-day3-mindfulness_mmn-raw_phot-events.fif) does not conform to MNE naming conventions. All epochs files should end with -epo.fif, -epo.fif.gz, _epo.fif or _epo.fif.gz\n",
      "  epochs = mne.read_epochs(path)\n",
      "/var/folders/bq/hl737msd54q59fzf7spf0r7h0000gn/T/ipykernel_89976/1679083024.py:13: RuntimeWarning: Concatenation of Annotations within Epochs is not supported yet. All annotations will be dropped.\n",
      "  epochs_concatenated = mne.concatenate_epochs([epochs_concatenated, epochs])\n"
     ]
    },
    {
     "name": "stdout",
     "output_type": "stream",
     "text": [
      "Reading /Users/jonasmago/PhD_code_data/github/eeg_jhana/notebooks/evoked responses/../../data/mne_raw_events_epochs_cleaned_noICA_noAutoreject/sub6-day1-mindfulness_mmn-raw_phot-events.fif ...\n",
      "    Found the data of interest:\n",
      "        t =    -500.00 ...    1500.00 ms\n",
      "        0 CTF compensation matrices available\n",
      "Not setting metadata\n",
      "370 matching events found\n",
      "No baseline correction applied\n",
      "0 projection items activated\n",
      "Reading /Users/jonasmago/PhD_code_data/github/eeg_jhana/notebooks/evoked responses/../../data/mne_raw_events_epochs_cleaned_noICA_noAutoreject/sub6-day2-mindfulness_mmn-raw_phot-events.fif ...\n",
      "    Found the data of interest:\n",
      "        t =    -500.00 ...    1500.00 ms\n",
      "        0 CTF compensation matrices available\n",
      "Not setting metadata\n",
      "368 matching events found\n",
      "No baseline correction applied\n",
      "0 projection items activated\n",
      "Not setting metadata\n",
      "738 matching events found\n",
      "Applying baseline correction (mode: mean)\n",
      "Reading /Users/jonasmago/PhD_code_data/github/eeg_jhana/notebooks/evoked responses/../../data/mne_raw_events_epochs_cleaned_noICA_noAutoreject/sub6-day4-mindfulness_mmn-raw_phot-events.fif ...\n",
      "    Found the data of interest:\n",
      "        t =    -500.00 ...    1500.00 ms\n",
      "        0 CTF compensation matrices available\n",
      "Not setting metadata\n",
      "293 matching events found\n",
      "No baseline correction applied\n",
      "0 projection items activated\n",
      "Not setting metadata\n",
      "1031 matching events found\n",
      "Applying baseline correction (mode: mean)\n"
     ]
    },
    {
     "name": "stderr",
     "output_type": "stream",
     "text": [
      "/var/folders/bq/hl737msd54q59fzf7spf0r7h0000gn/T/ipykernel_89976/1679083024.py:6: RuntimeWarning: This filename (../../data/mne_raw_events_epochs_cleaned_noICA_noAutoreject/sub6-day1-mindfulness_mmn-raw_phot-events.fif) does not conform to MNE naming conventions. All epochs files should end with -epo.fif, -epo.fif.gz, _epo.fif or _epo.fif.gz\n",
      "  epochs_concatenated = mne.read_epochs(paths[0])\n",
      "/var/folders/bq/hl737msd54q59fzf7spf0r7h0000gn/T/ipykernel_89976/1679083024.py:10: RuntimeWarning: This filename (../../data/mne_raw_events_epochs_cleaned_noICA_noAutoreject/sub6-day2-mindfulness_mmn-raw_phot-events.fif) does not conform to MNE naming conventions. All epochs files should end with -epo.fif, -epo.fif.gz, _epo.fif or _epo.fif.gz\n",
      "  epochs = mne.read_epochs(path)\n",
      "/var/folders/bq/hl737msd54q59fzf7spf0r7h0000gn/T/ipykernel_89976/1679083024.py:13: RuntimeWarning: Concatenation of Annotations within Epochs is not supported yet. All annotations will be dropped.\n",
      "  epochs_concatenated = mne.concatenate_epochs([epochs_concatenated, epochs])\n",
      "/var/folders/bq/hl737msd54q59fzf7spf0r7h0000gn/T/ipykernel_89976/1679083024.py:10: RuntimeWarning: This filename (../../data/mne_raw_events_epochs_cleaned_noICA_noAutoreject/sub6-day4-mindfulness_mmn-raw_phot-events.fif) does not conform to MNE naming conventions. All epochs files should end with -epo.fif, -epo.fif.gz, _epo.fif or _epo.fif.gz\n",
      "  epochs = mne.read_epochs(path)\n",
      "/var/folders/bq/hl737msd54q59fzf7spf0r7h0000gn/T/ipykernel_89976/1679083024.py:13: RuntimeWarning: Concatenation of Annotations within Epochs is not supported yet. All annotations will be dropped.\n",
      "  epochs_concatenated = mne.concatenate_epochs([epochs_concatenated, epochs])\n"
     ]
    },
    {
     "name": "stdout",
     "output_type": "stream",
     "text": [
      "Reading /Users/jonasmago/PhD_code_data/github/eeg_jhana/notebooks/evoked responses/../../data/mne_raw_events_epochs_cleaned_noICA_noAutoreject/sub6-day3-mindfulness_mmn-raw_phot-events.fif ...\n",
      "    Found the data of interest:\n",
      "        t =    -500.00 ...    1500.00 ms\n",
      "        0 CTF compensation matrices available\n",
      "Not setting metadata\n",
      "370 matching events found\n",
      "No baseline correction applied\n",
      "0 projection items activated\n",
      "Not setting metadata\n",
      "1401 matching events found\n",
      "Applying baseline correction (mode: mean)\n"
     ]
    },
    {
     "name": "stderr",
     "output_type": "stream",
     "text": [
      "/var/folders/bq/hl737msd54q59fzf7spf0r7h0000gn/T/ipykernel_89976/1679083024.py:10: RuntimeWarning: This filename (../../data/mne_raw_events_epochs_cleaned_noICA_noAutoreject/sub6-day3-mindfulness_mmn-raw_phot-events.fif) does not conform to MNE naming conventions. All epochs files should end with -epo.fif, -epo.fif.gz, _epo.fif or _epo.fif.gz\n",
      "  epochs = mne.read_epochs(path)\n",
      "/var/folders/bq/hl737msd54q59fzf7spf0r7h0000gn/T/ipykernel_89976/1679083024.py:13: RuntimeWarning: Concatenation of Annotations within Epochs is not supported yet. All annotations will be dropped.\n",
      "  epochs_concatenated = mne.concatenate_epochs([epochs_concatenated, epochs])\n"
     ]
    },
    {
     "name": "stdout",
     "output_type": "stream",
     "text": [
      "Reading /Users/jonasmago/PhD_code_data/github/eeg_jhana/notebooks/evoked responses/../../data/mne_raw_events_epochs_cleaned_noICA_noAutoreject/sub7-day3-mindfulness_mmn-raw_phot-events.fif ...\n",
      "    Found the data of interest:\n",
      "        t =    -500.00 ...    1500.00 ms\n",
      "        0 CTF compensation matrices available\n",
      "Not setting metadata\n",
      "370 matching events found\n",
      "No baseline correction applied\n",
      "0 projection items activated\n",
      "Reading /Users/jonasmago/PhD_code_data/github/eeg_jhana/notebooks/evoked responses/../../data/mne_raw_events_epochs_cleaned_noICA_noAutoreject/sub7-day2-mindfulness_mmn-raw_phot-events.fif ...\n",
      "    Found the data of interest:\n",
      "        t =    -500.00 ...    1500.00 ms\n",
      "        0 CTF compensation matrices available\n",
      "Not setting metadata\n",
      "370 matching events found\n",
      "No baseline correction applied\n",
      "0 projection items activated\n",
      "Not setting metadata\n",
      "740 matching events found\n",
      "Applying baseline correction (mode: mean)\n",
      "Reading /Users/jonasmago/PhD_code_data/github/eeg_jhana/notebooks/evoked responses/../../data/mne_raw_events_epochs_cleaned_noICA_noAutoreject/sub7-day1-mindfulness_mmn-raw_phot-events.fif ...\n",
      "    Found the data of interest:\n",
      "        t =    -500.00 ...    1500.00 ms\n",
      "        0 CTF compensation matrices available\n",
      "Not setting metadata\n",
      "370 matching events found\n",
      "No baseline correction applied\n",
      "0 projection items activated\n",
      "Not setting metadata\n",
      "1110 matching events found\n",
      "Applying baseline correction (mode: mean)\n"
     ]
    },
    {
     "name": "stderr",
     "output_type": "stream",
     "text": [
      "/var/folders/bq/hl737msd54q59fzf7spf0r7h0000gn/T/ipykernel_89976/1679083024.py:6: RuntimeWarning: This filename (../../data/mne_raw_events_epochs_cleaned_noICA_noAutoreject/sub7-day3-mindfulness_mmn-raw_phot-events.fif) does not conform to MNE naming conventions. All epochs files should end with -epo.fif, -epo.fif.gz, _epo.fif or _epo.fif.gz\n",
      "  epochs_concatenated = mne.read_epochs(paths[0])\n",
      "/var/folders/bq/hl737msd54q59fzf7spf0r7h0000gn/T/ipykernel_89976/1679083024.py:10: RuntimeWarning: This filename (../../data/mne_raw_events_epochs_cleaned_noICA_noAutoreject/sub7-day2-mindfulness_mmn-raw_phot-events.fif) does not conform to MNE naming conventions. All epochs files should end with -epo.fif, -epo.fif.gz, _epo.fif or _epo.fif.gz\n",
      "  epochs = mne.read_epochs(path)\n",
      "/var/folders/bq/hl737msd54q59fzf7spf0r7h0000gn/T/ipykernel_89976/1679083024.py:13: RuntimeWarning: Concatenation of Annotations within Epochs is not supported yet. All annotations will be dropped.\n",
      "  epochs_concatenated = mne.concatenate_epochs([epochs_concatenated, epochs])\n",
      "/var/folders/bq/hl737msd54q59fzf7spf0r7h0000gn/T/ipykernel_89976/1679083024.py:10: RuntimeWarning: This filename (../../data/mne_raw_events_epochs_cleaned_noICA_noAutoreject/sub7-day1-mindfulness_mmn-raw_phot-events.fif) does not conform to MNE naming conventions. All epochs files should end with -epo.fif, -epo.fif.gz, _epo.fif or _epo.fif.gz\n",
      "  epochs = mne.read_epochs(path)\n",
      "/var/folders/bq/hl737msd54q59fzf7spf0r7h0000gn/T/ipykernel_89976/1679083024.py:13: RuntimeWarning: Concatenation of Annotations within Epochs is not supported yet. All annotations will be dropped.\n",
      "  epochs_concatenated = mne.concatenate_epochs([epochs_concatenated, epochs])\n"
     ]
    },
    {
     "name": "stdout",
     "output_type": "stream",
     "text": [
      "Reading /Users/jonasmago/PhD_code_data/github/eeg_jhana/notebooks/evoked responses/../../data/mne_raw_events_epochs_cleaned_noICA_noAutoreject/sub7-day4-mindfulness_mmn-raw_phot-events.fif ...\n",
      "    Found the data of interest:\n",
      "        t =    -500.00 ...    1500.00 ms\n",
      "        0 CTF compensation matrices available\n",
      "Not setting metadata\n",
      "50 matching events found\n",
      "No baseline correction applied\n",
      "0 projection items activated\n",
      "Not setting metadata\n",
      "1160 matching events found\n",
      "Applying baseline correction (mode: mean)\n"
     ]
    },
    {
     "name": "stderr",
     "output_type": "stream",
     "text": [
      "/var/folders/bq/hl737msd54q59fzf7spf0r7h0000gn/T/ipykernel_89976/1679083024.py:10: RuntimeWarning: This filename (../../data/mne_raw_events_epochs_cleaned_noICA_noAutoreject/sub7-day4-mindfulness_mmn-raw_phot-events.fif) does not conform to MNE naming conventions. All epochs files should end with -epo.fif, -epo.fif.gz, _epo.fif or _epo.fif.gz\n",
      "  epochs = mne.read_epochs(path)\n",
      "/var/folders/bq/hl737msd54q59fzf7spf0r7h0000gn/T/ipykernel_89976/1679083024.py:13: RuntimeWarning: Concatenation of Annotations within Epochs is not supported yet. All annotations will be dropped.\n",
      "  epochs_concatenated = mne.concatenate_epochs([epochs_concatenated, epochs])\n"
     ]
    },
    {
     "name": "stdout",
     "output_type": "stream",
     "text": [
      "Reading /Users/jonasmago/PhD_code_data/github/eeg_jhana/notebooks/evoked responses/../../data/mne_raw_events_epochs_cleaned_noICA_noAutoreject/sub8-day3-mindfulness_mmn-raw_phot-events.fif ...\n",
      "    Found the data of interest:\n",
      "        t =    -500.00 ...    1500.00 ms\n",
      "        0 CTF compensation matrices available\n",
      "Not setting metadata\n",
      "368 matching events found\n",
      "No baseline correction applied\n",
      "0 projection items activated\n",
      "Reading /Users/jonasmago/PhD_code_data/github/eeg_jhana/notebooks/evoked responses/../../data/mne_raw_events_epochs_cleaned_noICA_noAutoreject/sub8-day4-mindfulness_mmn-raw_phot-events.fif ...\n",
      "    Found the data of interest:\n",
      "        t =    -500.00 ...    1500.00 ms\n",
      "        0 CTF compensation matrices available\n",
      "Not setting metadata\n",
      "370 matching events found\n",
      "No baseline correction applied\n",
      "0 projection items activated\n",
      "Not setting metadata\n",
      "738 matching events found\n",
      "Applying baseline correction (mode: mean)\n",
      "Reading /Users/jonasmago/PhD_code_data/github/eeg_jhana/notebooks/evoked responses/../../data/mne_raw_events_epochs_cleaned_noICA_noAutoreject/sub8-day2-mindfulness_mmn-raw_phot-events.fif ...\n",
      "    Found the data of interest:\n",
      "        t =    -500.00 ...    1500.00 ms\n",
      "        0 CTF compensation matrices available\n",
      "Not setting metadata\n",
      "370 matching events found\n",
      "No baseline correction applied\n",
      "0 projection items activated\n",
      "Not setting metadata\n",
      "1108 matching events found\n",
      "Applying baseline correction (mode: mean)\n"
     ]
    },
    {
     "name": "stderr",
     "output_type": "stream",
     "text": [
      "/var/folders/bq/hl737msd54q59fzf7spf0r7h0000gn/T/ipykernel_89976/1679083024.py:6: RuntimeWarning: This filename (../../data/mne_raw_events_epochs_cleaned_noICA_noAutoreject/sub8-day3-mindfulness_mmn-raw_phot-events.fif) does not conform to MNE naming conventions. All epochs files should end with -epo.fif, -epo.fif.gz, _epo.fif or _epo.fif.gz\n",
      "  epochs_concatenated = mne.read_epochs(paths[0])\n",
      "/var/folders/bq/hl737msd54q59fzf7spf0r7h0000gn/T/ipykernel_89976/1679083024.py:10: RuntimeWarning: This filename (../../data/mne_raw_events_epochs_cleaned_noICA_noAutoreject/sub8-day4-mindfulness_mmn-raw_phot-events.fif) does not conform to MNE naming conventions. All epochs files should end with -epo.fif, -epo.fif.gz, _epo.fif or _epo.fif.gz\n",
      "  epochs = mne.read_epochs(path)\n",
      "/var/folders/bq/hl737msd54q59fzf7spf0r7h0000gn/T/ipykernel_89976/1679083024.py:13: RuntimeWarning: Concatenation of Annotations within Epochs is not supported yet. All annotations will be dropped.\n",
      "  epochs_concatenated = mne.concatenate_epochs([epochs_concatenated, epochs])\n",
      "/var/folders/bq/hl737msd54q59fzf7spf0r7h0000gn/T/ipykernel_89976/1679083024.py:10: RuntimeWarning: This filename (../../data/mne_raw_events_epochs_cleaned_noICA_noAutoreject/sub8-day2-mindfulness_mmn-raw_phot-events.fif) does not conform to MNE naming conventions. All epochs files should end with -epo.fif, -epo.fif.gz, _epo.fif or _epo.fif.gz\n",
      "  epochs = mne.read_epochs(path)\n",
      "/var/folders/bq/hl737msd54q59fzf7spf0r7h0000gn/T/ipykernel_89976/1679083024.py:13: RuntimeWarning: Concatenation of Annotations within Epochs is not supported yet. All annotations will be dropped.\n",
      "  epochs_concatenated = mne.concatenate_epochs([epochs_concatenated, epochs])\n"
     ]
    },
    {
     "name": "stdout",
     "output_type": "stream",
     "text": [
      "Reading /Users/jonasmago/PhD_code_data/github/eeg_jhana/notebooks/evoked responses/../../data/mne_raw_events_epochs_cleaned_noICA_noAutoreject/sub8-day1-mindfulness_mmn-raw_phot-events.fif ...\n",
      "    Found the data of interest:\n",
      "        t =    -500.00 ...    1500.00 ms\n",
      "        0 CTF compensation matrices available\n",
      "Not setting metadata\n",
      "370 matching events found\n",
      "No baseline correction applied\n",
      "0 projection items activated\n",
      "Not setting metadata\n",
      "1478 matching events found\n",
      "Applying baseline correction (mode: mean)\n"
     ]
    },
    {
     "name": "stderr",
     "output_type": "stream",
     "text": [
      "/var/folders/bq/hl737msd54q59fzf7spf0r7h0000gn/T/ipykernel_89976/1679083024.py:10: RuntimeWarning: This filename (../../data/mne_raw_events_epochs_cleaned_noICA_noAutoreject/sub8-day1-mindfulness_mmn-raw_phot-events.fif) does not conform to MNE naming conventions. All epochs files should end with -epo.fif, -epo.fif.gz, _epo.fif or _epo.fif.gz\n",
      "  epochs = mne.read_epochs(path)\n",
      "/var/folders/bq/hl737msd54q59fzf7spf0r7h0000gn/T/ipykernel_89976/1679083024.py:13: RuntimeWarning: Concatenation of Annotations within Epochs is not supported yet. All annotations will be dropped.\n",
      "  epochs_concatenated = mne.concatenate_epochs([epochs_concatenated, epochs])\n"
     ]
    },
    {
     "name": "stdout",
     "output_type": "stream",
     "text": [
      "Reading /Users/jonasmago/PhD_code_data/github/eeg_jhana/notebooks/evoked responses/../../data/mne_raw_events_epochs_cleaned_noICA_noAutoreject/sub9-day4-mindfulness_mmn-raw_phot-events.fif ...\n",
      "    Found the data of interest:\n",
      "        t =    -500.00 ...    1500.00 ms\n",
      "        0 CTF compensation matrices available\n",
      "Not setting metadata\n",
      "370 matching events found\n",
      "No baseline correction applied\n",
      "0 projection items activated\n",
      "Reading /Users/jonasmago/PhD_code_data/github/eeg_jhana/notebooks/evoked responses/../../data/mne_raw_events_epochs_cleaned_noICA_noAutoreject/sub9-day1-mindfulness_mmn-raw_phot-events.fif ...\n",
      "    Found the data of interest:\n",
      "        t =    -500.00 ...    1500.00 ms\n",
      "        0 CTF compensation matrices available\n",
      "Not setting metadata\n",
      "370 matching events found\n",
      "No baseline correction applied\n",
      "0 projection items activated\n",
      "Not setting metadata\n",
      "740 matching events found\n",
      "Applying baseline correction (mode: mean)\n",
      "Reading /Users/jonasmago/PhD_code_data/github/eeg_jhana/notebooks/evoked responses/../../data/mne_raw_events_epochs_cleaned_noICA_noAutoreject/sub9-day2-mindfulness_mmn-raw_phot-events.fif ...\n",
      "    Found the data of interest:\n",
      "        t =    -500.00 ...    1500.00 ms\n",
      "        0 CTF compensation matrices available\n",
      "Not setting metadata\n",
      "369 matching events found\n",
      "No baseline correction applied\n",
      "0 projection items activated\n",
      "Not setting metadata\n",
      "1109 matching events found\n",
      "Applying baseline correction (mode: mean)\n"
     ]
    },
    {
     "name": "stderr",
     "output_type": "stream",
     "text": [
      "/var/folders/bq/hl737msd54q59fzf7spf0r7h0000gn/T/ipykernel_89976/1679083024.py:6: RuntimeWarning: This filename (../../data/mne_raw_events_epochs_cleaned_noICA_noAutoreject/sub9-day4-mindfulness_mmn-raw_phot-events.fif) does not conform to MNE naming conventions. All epochs files should end with -epo.fif, -epo.fif.gz, _epo.fif or _epo.fif.gz\n",
      "  epochs_concatenated = mne.read_epochs(paths[0])\n",
      "/var/folders/bq/hl737msd54q59fzf7spf0r7h0000gn/T/ipykernel_89976/1679083024.py:10: RuntimeWarning: This filename (../../data/mne_raw_events_epochs_cleaned_noICA_noAutoreject/sub9-day1-mindfulness_mmn-raw_phot-events.fif) does not conform to MNE naming conventions. All epochs files should end with -epo.fif, -epo.fif.gz, _epo.fif or _epo.fif.gz\n",
      "  epochs = mne.read_epochs(path)\n",
      "/var/folders/bq/hl737msd54q59fzf7spf0r7h0000gn/T/ipykernel_89976/1679083024.py:13: RuntimeWarning: Concatenation of Annotations within Epochs is not supported yet. All annotations will be dropped.\n",
      "  epochs_concatenated = mne.concatenate_epochs([epochs_concatenated, epochs])\n",
      "/var/folders/bq/hl737msd54q59fzf7spf0r7h0000gn/T/ipykernel_89976/1679083024.py:10: RuntimeWarning: This filename (../../data/mne_raw_events_epochs_cleaned_noICA_noAutoreject/sub9-day2-mindfulness_mmn-raw_phot-events.fif) does not conform to MNE naming conventions. All epochs files should end with -epo.fif, -epo.fif.gz, _epo.fif or _epo.fif.gz\n",
      "  epochs = mne.read_epochs(path)\n",
      "/var/folders/bq/hl737msd54q59fzf7spf0r7h0000gn/T/ipykernel_89976/1679083024.py:13: RuntimeWarning: Concatenation of Annotations within Epochs is not supported yet. All annotations will be dropped.\n",
      "  epochs_concatenated = mne.concatenate_epochs([epochs_concatenated, epochs])\n"
     ]
    },
    {
     "name": "stdout",
     "output_type": "stream",
     "text": [
      "Reading /Users/jonasmago/PhD_code_data/github/eeg_jhana/notebooks/evoked responses/../../data/mne_raw_events_epochs_cleaned_noICA_noAutoreject/sub9-day3-mindfulness_mmn-raw_phot-events.fif ...\n",
      "    Found the data of interest:\n",
      "        t =    -500.00 ...    1500.00 ms\n",
      "        0 CTF compensation matrices available\n",
      "Not setting metadata\n",
      "367 matching events found\n",
      "No baseline correction applied\n",
      "0 projection items activated\n",
      "Not setting metadata\n",
      "1476 matching events found\n",
      "Applying baseline correction (mode: mean)\n"
     ]
    },
    {
     "name": "stderr",
     "output_type": "stream",
     "text": [
      "/var/folders/bq/hl737msd54q59fzf7spf0r7h0000gn/T/ipykernel_89976/1679083024.py:10: RuntimeWarning: This filename (../../data/mne_raw_events_epochs_cleaned_noICA_noAutoreject/sub9-day3-mindfulness_mmn-raw_phot-events.fif) does not conform to MNE naming conventions. All epochs files should end with -epo.fif, -epo.fif.gz, _epo.fif or _epo.fif.gz\n",
      "  epochs = mne.read_epochs(path)\n",
      "/var/folders/bq/hl737msd54q59fzf7spf0r7h0000gn/T/ipykernel_89976/1679083024.py:13: RuntimeWarning: Concatenation of Annotations within Epochs is not supported yet. All annotations will be dropped.\n",
      "  epochs_concatenated = mne.concatenate_epochs([epochs_concatenated, epochs])\n"
     ]
    }
   ],
   "source": [
    "for condition in ['jhana', 'mindfulness']:\n",
    "    for sub in range(10):    \n",
    "        src_string = f'../../data/mne_raw_events_epochs_cleaned_noICA_noAutoreject/sub{sub}-day?-{condition}_mmn-raw_phot-events.fif'\n",
    "        paths = glob.glob(src_string)\n",
    "        \n",
    "        epochs_concatenated = mne.read_epochs(paths[0])\n",
    "        epochs_concatenated.info['bads'] = []\n",
    "        \n",
    "        for path in paths[1:]:\n",
    "            epochs = mne.read_epochs(path)\n",
    "            epochs.info['bads'] = []\n",
    "            try:\n",
    "                epochs_concatenated = mne.concatenate_epochs([epochs_concatenated, epochs])\n",
    "            except:\n",
    "                continue # in case where the number of channels do not match up\n",
    "        \n",
    "        export_path = f'../../data/mne_raw_events_epochs_cleaned_noICA_noAutoreject_concatenated/mmn_sub{sub}_{condition}_epo.fif'\n",
    "        epochs_concatenated.save(export_path)"
   ]
  },
  {
   "cell_type": "code",
   "execution_count": null,
   "id": "632ab967-9e4b-4f83-b30b-75850d4b0c55",
   "metadata": {},
   "outputs": [],
   "source": []
  }
 ],
 "metadata": {
  "kernelspec": {
   "display_name": "Python 3 (ipykernel)",
   "language": "python",
   "name": "python3"
  },
  "language_info": {
   "codemirror_mode": {
    "name": "ipython",
    "version": 3
   },
   "file_extension": ".py",
   "mimetype": "text/x-python",
   "name": "python",
   "nbconvert_exporter": "python",
   "pygments_lexer": "ipython3",
   "version": "3.10.11"
  }
 },
 "nbformat": 4,
 "nbformat_minor": 5
}
