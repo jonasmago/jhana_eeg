{
 "cells": [
  {
   "cell_type": "code",
   "execution_count": 16,
   "id": "ef2f182e",
   "metadata": {},
   "outputs": [
    {
     "name": "stdout",
     "output_type": "stream",
     "text": [
      "The autoreload extension is already loaded. To reload it, use:\n",
      "  %reload_ext autoreload\n"
     ]
    }
   ],
   "source": [
    "%load_ext autoreload\n",
    "%autoreload 2\n",
    "%matplotlib qt\n",
    "\n",
    "import numpy as np\n",
    "import autoreject\n",
    "import csv\n",
    "import matplotlib.pyplot as plt\n",
    "import pandas as pd\n",
    "import mne\n",
    "import os\n",
    "import sys\n",
    "from atpbar import atpbar\n",
    "import glob\n"
   ]
  },
  {
   "cell_type": "code",
   "execution_count": 17,
   "id": "a670f1d3-2bf7-48f1-93ad-a7ec74c260ae",
   "metadata": {},
   "outputs": [],
   "source": [
    "# Suppress MNE output\n",
    "#mne.set_log_level('WARNING')\n",
    "mne.set_log_level('ERROR')\n",
    "#mne.set_log_level('CRITICAL')\n",
    "#mne.set_log_level('INFO')\n",
    "\n"
   ]
  },
  {
   "cell_type": "markdown",
   "id": "edf61637-c66e-42f2-9239-768101a8d2f8",
   "metadata": {},
   "source": [
    "## Plot the GLOBAL evoked response to determine the time window I wish to investigate"
   ]
  },
  {
   "cell_type": "code",
   "execution_count": 18,
   "id": "f76d0cd4-de25-43be-ab5b-df8a8822c754",
   "metadata": {},
   "outputs": [
    {
     "data": {
      "text/plain": [
       "'\\n0.11 to 0.13 --> [54:58]\\n0.11 to 0.19 --> [54:74]\\n\\n0.21 s = 53.76 sample\\n0.23 s = 58.88 sample\\n0.29 s = 74.24 sample \\n'"
      ]
     },
     "execution_count": 18,
     "metadata": {},
     "output_type": "execute_result"
    }
   ],
   "source": [
    "#pick = ['Fz']\n",
    "pick = ['Fpz', 'Fz', 'Cz', 'AF3', 'AF4', 'F3', 'F4', 'FC1', 'FC2']\n",
    "#pick = ['Fpz', 'Fz', 'Cz', 'Pz', 'Fp1', 'Fp2', 'AF3', 'AF4', 'F7', 'F8', 'F3', 'F4', 'FC1', 'FC2']\n",
    "\n",
    "paths = glob.glob('/Users/jonasmago/PhD_code_data/github/eeg_jhana/notebooks/MMN/epochs/*.fif')\n",
    "epochs_list = [mne.read_epochs(path) for path in paths]\n",
    "epochs_list_picks = []\n",
    "for epoch in epochs_list:\n",
    "    if not set(epoch.info['bads']).intersection(pick):\n",
    "        epochs_list_picks.append(epoch.pick_channels(pick))\n",
    "concatenated_epochs = mne.concatenate_epochs(epochs_list_picks)\n",
    "evoked_global = concatenated_epochs.average()\n",
    "fig = evoked_global.plot()\n",
    "\n",
    "\"\"\"\n",
    "0.11 to 0.13 --> [54:58]\n",
    "0.11 to 0.19 --> [54:74]\n",
    "\n",
    "0.21 s = 53.76 sample\n",
    "0.23 s = 58.88 sample\n",
    "0.29 s = 74.24 sample \n",
    "\"\"\""
   ]
  },
  {
   "cell_type": "markdown",
   "id": "9945e8f0-7385-4fcf-890d-e7644569969b",
   "metadata": {},
   "source": [
    "## Make plots per subject & per condition, with resolution cpaturing all four conditions + extract values"
   ]
  },
  {
   "cell_type": "code",
   "execution_count": 27,
   "id": "d073c116-82a4-4c3d-b9a9-72302ca15b7e",
   "metadata": {},
   "outputs": [],
   "source": [
    "pick = ['Fz', 'Cz', 'Fpz', 'F3', 'F4', 'AF3', 'AF4', 'FC1', 'FC2']\n",
    "#pick = ['Fz']\n",
    "show_plots = True\n",
    "\n",
    "data = []\n",
    "for sub in [0,1,2,3,4,5,6,7,8,9,'?']:\n",
    "#for sub in [0,1]:\n",
    "    paths_jhana = glob.glob(f'/Users/jonasmago/PhD_code_data/github/eeg_jhana/notebooks/MMN/epochs/sub{sub}-day?-jhana_epo.fif')\n",
    "    paths_mindf = glob.glob(f'/Users/jonasmago/PhD_code_data/github/eeg_jhana/notebooks/MMN/epochs/sub{sub}-day?-mindfulness_epo.fif')\n",
    "    \n",
    "    epochs_list_jhana = [mne.read_epochs(path) for path in paths_jhana]\n",
    "    epochs_list_mindf = [mne.read_epochs(path) for path in paths_mindf]\n",
    "    \n",
    "    epochs_list_picks_jhana = []\n",
    "    epochs_list_picks_jhana_days = []\n",
    "    for i,epoch in enumerate(epochs_list_jhana): \n",
    "        if not set(epoch.info['bads']).intersection(pick):\n",
    "            epochs_list_picks_jhana.append(epoch.pick_channels(pick))\n",
    "            epochs_list_picks_jhana_days.append(os.path.basename(paths_jhana[i])[5:9])\n",
    "            \n",
    "    \n",
    "    epochs_list_picks_mindf = []\n",
    "    epochs_list_picks_mindf_days = []\n",
    "    for i, epoch in enumerate(epochs_list_mindf): \n",
    "        if not set(epoch.info['bads']).intersection(pick):\n",
    "            epochs_list_picks_mindf.append(epoch.pick_channels(pick))\n",
    "            epochs_list_picks_mindf_days.append(os.path.basename(paths_mindf[i])[5:9])\n",
    "\n",
    "    if (len(epochs_list_picks_jhana)>1 and len(epochs_list_picks_mindf)>1):\n",
    "\n",
    "        if show_plots: \n",
    "            concatenated_epochs_jhana = mne.concatenate_epochs(epochs_list_picks_jhana)\n",
    "            concatenated_epochs_mindf = mne.concatenate_epochs(epochs_list_picks_mindf)\n",
    "            \n",
    "            evoked_std_mindf = concatenated_epochs_mindf['1'].average()\n",
    "            evoked_odd_mindf = concatenated_epochs_mindf['-1'].average()\n",
    "            evoked_std_jhana = concatenated_epochs_jhana['1'].average()\n",
    "            evoked_odd_jhana = concatenated_epochs_jhana['-1'].average()\n",
    "            \n",
    "            times = evoked_std_mindf.times\n",
    "                    \n",
    "            std_mindf_avg = evoked_std_mindf.get_data().mean(axis=0)\n",
    "            odd_mindf_avg = evoked_odd_mindf.get_data().mean(axis=0)\n",
    "            mmn_mind = odd_mindf_avg - std_mindf_avg\n",
    "            std_jhana_avg = evoked_std_jhana.get_data().mean(axis=0)\n",
    "            odd_jhana_avg = evoked_odd_jhana.get_data().mean(axis=0)\n",
    "            mmn_jhana = odd_jhana_avg - std_jhana_avg\n",
    "            \n",
    "            plt.figure(figsize=(10, 6))\n",
    "            plt.plot(times, mmn_mind, label='mmn_mind', color='blue')\n",
    "            plt.plot(times, mmn_jhana, label='mmn_jhana', color='green')\n",
    "                        \n",
    "            plt.xlabel('Time (s)')\n",
    "            plt.ylabel('Amplitude (µV)')\n",
    "            sample_n = len(concatenated_epochs_mindf)+len(concatenated_epochs_jhana)\n",
    "            title = f'Averaged Evoked Responses Across All Channels for subject: {sub}, sample_n={sample_n}'\n",
    "            plt.title(title)\n",
    "            plt.axvline(0, color='black', linestyle='--', label='Stimulus Onset')  # Add a vertical line at stimulus onset\n",
    "            plt.legend()\n",
    "            \n",
    "            #plt.ylim([-0.00001, 0.00001])\n",
    "            \n",
    "            plt.savefig(f'figures/{title}.png')\n",
    "\n",
    "            #plt.show()\n",
    "            \n",
    "    \n",
    "            if sub == '?':\n",
    "                evoked_std_mindf = concatenated_epochs_mindf['1'].average()\n",
    "                evoked_odd_mindf = concatenated_epochs_mindf['-1'].average()\n",
    "                evoked_std_jhana = concatenated_epochs_jhana['1'].average()\n",
    "                evoked_odd_jhana = concatenated_epochs_jhana['-1'].average()\n",
    "                \n",
    "                fig = evoked_std_mindf.plot()\n",
    "                fig = evoked_odd_mindf.plot()\n",
    "                fig = evoked_std_jhana.plot()\n",
    "                fig = evoked_odd_jhana.plot()\n",
    "\n",
    "\n",
    "    ################################\n",
    "    # extract means into dataframe #\n",
    "    ################################\n",
    "    if sub != '?':\n",
    "        for epoch_list, epoch_list_days, meditation_type in zip(\n",
    "            [epochs_list_picks_jhana, epochs_list_picks_mindf],\n",
    "            [epochs_list_picks_jhana_days, epochs_list_picks_mindf_days],\n",
    "            ['jhana', 'mindfulness']\n",
    "        ):\n",
    "            for i, epochs in enumerate(epoch_list):\n",
    "                day = epoch_list_days[i]\n",
    "                for time_start, time_end, time_name in zip(\n",
    "                    [54, 54],\n",
    "                    [58, 74], \n",
    "                    ['early_short', 'early_long']\n",
    "                    ):         \n",
    "                    \n",
    "                    mean_std = np.mean(epochs['1'].get_data()[:,:,time_start:time_end])*10**6\n",
    "                    mean_odd = np.mean(epochs['-1'].get_data()[:,:,time_start:time_end])*10**6\n",
    "                    mmn = mean_std - mean_odd\n",
    "                    sample_n = len(epochs)\n",
    "                    data.append([sub, day, meditation_type, time_name, pick, sample_n, mean_std, mean_odd, mmn])\n",
    "                        \n",
    "df = pd.DataFrame(data, columns=['sub', 'day', 'meditation_type', 'time_name', 'pick', 'sample_n', 'mean_std', 'mean_odd', 'mmn'])    \n",
    "df.to_csv('mean_values.csv', index=False)\n"
   ]
  },
  {
   "cell_type": "code",
   "execution_count": 22,
   "id": "36886f39-57f5-486e-90fe-827dfebde197",
   "metadata": {},
   "outputs": [
    {
     "data": {
      "text/plain": [
       "232"
      ]
     },
     "execution_count": 22,
     "metadata": {},
     "output_type": "execute_result"
    }
   ],
   "source": [
    "len(odd_mindf_avg)"
   ]
  },
  {
   "cell_type": "code",
   "execution_count": null,
   "id": "928320dd-abdd-4d98-9259-36dc26084bf8",
   "metadata": {},
   "outputs": [],
   "source": []
  },
  {
   "cell_type": "code",
   "execution_count": 9,
   "id": "687dac55-1f65-44eb-adfd-967428ebeaba",
   "metadata": {},
   "outputs": [],
   "source": [
    "plt.close('all')"
   ]
  },
  {
   "cell_type": "code",
   "execution_count": 10,
   "id": "f85df882-9a69-4366-8949-51ac1cb4ed13",
   "metadata": {},
   "outputs": [
    {
     "data": {
      "text/html": [
       "<table class=\"table table-hover table-striped table-sm table-responsive small\">\n",
       "    <tr>\n",
       "        <th>Number of events</th>\n",
       "        <td>7395</td>\n",
       "    </tr>\n",
       "    <tr>\n",
       "        <th>Events</th>\n",
       "        \n",
       "        <td>-1: 1155<br/>1: 6240</td>\n",
       "        \n",
       "    </tr>\n",
       "    <tr>\n",
       "        <th>Time range</th>\n",
       "        <td>-0.102 – 0.801 s</td>\n",
       "    </tr>\n",
       "    <tr>\n",
       "        <th>Baseline</th>\n",
       "        <td>-0.100 – 0.000 s</td>\n",
       "    </tr>\n",
       "</table>"
      ],
      "text/plain": [
       "<EpochsArray |  7395 events (all good), -0.101562 – 0.800781 s, baseline -0.1 – 0 s, ~117.8 MB, data loaded,\n",
       " '-1': 1155\n",
       " '1': 6240>"
      ]
     },
     "execution_count": 10,
     "metadata": {},
     "output_type": "execute_result"
    }
   ],
   "source": [
    "concatenated_epochs_mindf"
   ]
  },
  {
   "cell_type": "code",
   "execution_count": 11,
   "id": "09870b9b-a996-47d0-a803-2ffe09b2367e",
   "metadata": {},
   "outputs": [
    {
     "data": {
      "text/html": [
       "<table class=\"table table-hover table-striped table-sm table-responsive small\">\n",
       "    <tr>\n",
       "        <th>Number of events</th>\n",
       "        <td>8252</td>\n",
       "    </tr>\n",
       "    <tr>\n",
       "        <th>Events</th>\n",
       "        \n",
       "        <td>-1: 1316<br/>1: 6936</td>\n",
       "        \n",
       "    </tr>\n",
       "    <tr>\n",
       "        <th>Time range</th>\n",
       "        <td>-0.102 – 0.801 s</td>\n",
       "    </tr>\n",
       "    <tr>\n",
       "        <th>Baseline</th>\n",
       "        <td>-0.100 – 0.000 s</td>\n",
       "    </tr>\n",
       "</table>"
      ],
      "text/plain": [
       "<EpochsArray |  8252 events (all good), -0.101562 – 0.800781 s, baseline -0.1 – 0 s, ~131.5 MB, data loaded,\n",
       " '-1': 1316\n",
       " '1': 6936>"
      ]
     },
     "execution_count": 11,
     "metadata": {},
     "output_type": "execute_result"
    }
   ],
   "source": [
    "concatenated_epochs_jhana"
   ]
  },
  {
   "cell_type": "code",
   "execution_count": 13,
   "id": "79bb4ac7-988b-49eb-956f-d665b7b27c37",
   "metadata": {},
   "outputs": [
    {
     "data": {
      "text/plain": [
       "0.18973471741637832"
      ]
     },
     "execution_count": 13,
     "metadata": {},
     "output_type": "execute_result"
    }
   ],
   "source": [
    "1316/6936"
   ]
  },
  {
   "cell_type": "code",
   "execution_count": 14,
   "id": "e8486d2d-f9b1-4086-a672-a3157be1124a",
   "metadata": {},
   "outputs": [
    {
     "data": {
      "text/plain": [
       "0.18509615384615385"
      ]
     },
     "execution_count": 14,
     "metadata": {},
     "output_type": "execute_result"
    }
   ],
   "source": [
    "1155/6240"
   ]
  },
  {
   "cell_type": "markdown",
   "id": "886bcedd-958f-494a-9b81-0cc9af095b39",
   "metadata": {},
   "source": [
    "## multi-level linear model "
   ]
  },
  {
   "cell_type": "code",
   "execution_count": 47,
   "id": "623ad23f-25eb-4691-8213-3c1d6d36201f",
   "metadata": {},
   "outputs": [
    {
     "name": "stdout",
     "output_type": "stream",
     "text": [
      "                  Mixed Linear Model Regression Results\n",
      "=========================================================================\n",
      "Model:                  MixedLM       Dependent Variable:       mmn      \n",
      "No. Observations:       154           Method:                   REML     \n",
      "No. Groups:             10            Scale:                    5.1360   \n",
      "Min. group size:        12            Log-Likelihood:           -350.8831\n",
      "Max. group size:        16            Converged:                Yes      \n",
      "Mean group size:        15.4                                             \n",
      "-------------------------------------------------------------------------\n",
      "                               Coef.  Std.Err.   z    P>|z| [0.025 0.975]\n",
      "-------------------------------------------------------------------------\n",
      "Intercept                       1.773    0.634  2.799 0.005  0.532  3.015\n",
      "day[T.day2]                     1.274    0.514  2.477 0.013  0.266  2.282\n",
      "day[T.day3]                    -0.455    0.507 -0.899 0.369 -1.449  0.538\n",
      "day[T.day4]                     0.412    0.522  0.788 0.430 -0.612  1.435\n",
      "meditation_type[T.mindfulness] -0.428    0.367 -1.165 0.244 -1.147  0.292\n",
      "time_name[T.early_short]       -0.701    0.365 -1.920 0.055 -1.417  0.014\n",
      "Group Var                       2.061    0.513                           \n",
      "=========================================================================\n",
      "\n"
     ]
    },
    {
     "name": "stderr",
     "output_type": "stream",
     "text": [
      "/Library/Frameworks/Python.framework/Versions/3.10/lib/python3.10/site-packages/statsmodels/iolib/summary2.py:579: FutureWarning: DataFrame.applymap has been deprecated. Use DataFrame.map instead.\n",
      "  dat = dat.applymap(lambda x: _formatter(x, float_format))\n"
     ]
    }
   ],
   "source": [
    "import pandas as pd\n",
    "import statsmodels.formula.api as smf\n",
    "\n",
    "# Ensure categorical columns are treated as such\n",
    "df['sub'] = df['sub'].astype('category')\n",
    "df['day'] = df['day'].astype('category')\n",
    "df['meditation_type'] = df['meditation_type'].astype('category')\n",
    "df['time_name'] = df['time_name'].astype('category')\n",
    "\n",
    "# Fit a mixed effects linear model with random intercepts for 'sub'\n",
    "model = smf.mixedlm(\n",
    "    \"mmn ~ day + meditation_type + condition + time_name\",  # Fixed effects\n",
    "    df, \n",
    "    groups=df[\"sub\"],  # Random effect for 'sub'\n",
    ")\n",
    "\n",
    "# Fit the model\n",
    "result = model.fit()\n",
    "\n",
    "# Print the results\n",
    "print(result.summary())\n"
   ]
  },
  {
   "cell_type": "markdown",
   "id": "07bdef62-53a9-4bf1-9dba-f993e3e7a95b",
   "metadata": {},
   "source": [
    "## Interpretation of the results\n",
    "Looks like that the type of meditaiton does not have any significant effect on the mmn.  \n",
    "When visually inspecting the MMNs this is confirmed, so yeah, looks like not much we can do. "
   ]
  },
  {
   "cell_type": "code",
   "execution_count": null,
   "id": "8f917319-7135-4a15-b9e2-bc30fffd8cf0",
   "metadata": {},
   "outputs": [],
   "source": []
  },
  {
   "cell_type": "code",
   "execution_count": null,
   "id": "0b2cf976-b175-48b1-9f67-352fc637f5b7",
   "metadata": {},
   "outputs": [],
   "source": []
  },
  {
   "cell_type": "code",
   "execution_count": null,
   "id": "6001aa90-82f7-494e-91e2-35b1c3b67ba5",
   "metadata": {},
   "outputs": [],
   "source": []
  },
  {
   "cell_type": "code",
   "execution_count": null,
   "id": "a286ce2e-e2e3-4850-914a-1cf2886ebd6b",
   "metadata": {},
   "outputs": [],
   "source": []
  },
  {
   "cell_type": "code",
   "execution_count": null,
   "id": "7c32f57c-85eb-4ed5-969a-1b0c54b1912e",
   "metadata": {},
   "outputs": [],
   "source": []
  },
  {
   "cell_type": "code",
   "execution_count": null,
   "id": "f504679d-3299-420a-9d52-37a0aae5825a",
   "metadata": {},
   "outputs": [],
   "source": []
  },
  {
   "cell_type": "code",
   "execution_count": null,
   "id": "e643ea7d-b2cf-44a1-9077-f7730ec88a04",
   "metadata": {},
   "outputs": [],
   "source": []
  },
  {
   "cell_type": "code",
   "execution_count": null,
   "id": "80ffe6f8-901e-4e0a-bc7d-a98afc399803",
   "metadata": {},
   "outputs": [],
   "source": []
  },
  {
   "cell_type": "markdown",
   "id": "6016c444-6373-463d-aed3-34f6b8e5cc30",
   "metadata": {},
   "source": [
    "## Legacy Function: Old Old --> visualisation with all four tones"
   ]
  },
  {
   "cell_type": "code",
   "execution_count": 9,
   "id": "d008936c-4f16-4445-87eb-b05eba490447",
   "metadata": {},
   "outputs": [
    {
     "name": "stdout",
     "output_type": "stream",
     "text": [
      "Reading /Users/jonasmago/PhD_code_data/github/eeg_jhana/notebooks/MMN/epochs/2_by_subject/sub0_jhana_len4_epo.fif ...\n",
      "    Found the data of interest:\n",
      "        t =    -101.56 ...     800.78 ms\n",
      "        0 CTF compensation matrices available\n",
      "Not setting metadata\n",
      "1443 matching events found\n",
      "No baseline correction applied\n",
      "0 projection items activated\n"
     ]
    },
    {
     "ename": "NameError",
     "evalue": "name 'ax' is not defined",
     "output_type": "error",
     "traceback": [
      "\u001b[0;31m---------------------------------------------------------------------------\u001b[0m",
      "\u001b[0;31mNameError\u001b[0m                                 Traceback (most recent call last)",
      "Cell \u001b[0;32mIn[9], line 24\u001b[0m\n\u001b[1;32m     21\u001b[0m mismatch \u001b[38;5;241m=\u001b[39m mne\u001b[38;5;241m.\u001b[39mEvokedArray(mismatch_data, standard\u001b[38;5;241m.\u001b[39minfo, tmin\u001b[38;5;241m=\u001b[39mstandard\u001b[38;5;241m.\u001b[39mtimes[\u001b[38;5;241m0\u001b[39m])\n\u001b[1;32m     23\u001b[0m \u001b[38;5;28;01mif\u001b[39;00m plot_all: \n\u001b[0;32m---> 24\u001b[0m     mne\u001b[38;5;241m.\u001b[39mviz\u001b[38;5;241m.\u001b[39mplot_compare_evokeds(evokeds, ci\u001b[38;5;241m=\u001b[39m\u001b[38;5;241m0.95\u001b[39m, title\u001b[38;5;241m=\u001b[39m\u001b[38;5;124mf\u001b[39m\u001b[38;5;124m'\u001b[39m\u001b[38;5;124mGlobal oddball evoked response and MMN: \u001b[39m\u001b[38;5;132;01m{\u001b[39;00mcondition\u001b[38;5;132;01m}\u001b[39;00m\u001b[38;5;124m_sub_\u001b[39m\u001b[38;5;132;01m{\u001b[39;00msub\u001b[38;5;132;01m}\u001b[39;00m\u001b[38;5;124m'\u001b[39m, axes\u001b[38;5;241m=\u001b[39m\u001b[43max\u001b[49m)\n\u001b[1;32m     25\u001b[0m     \u001b[38;5;66;03m#mne.viz.plot_compare_evokeds({'MMN': mismatch}, ci=0.95, axes=ax, colors={'MMN': 'cyan'})\u001b[39;00m\n\u001b[1;32m     26\u001b[0m     \n\u001b[1;32m     27\u001b[0m     \u001b[38;5;66;03m# Save the figure\u001b[39;00m\n\u001b[1;32m     28\u001b[0m     fig\u001b[38;5;241m.\u001b[39msavefig(\u001b[38;5;124mf\u001b[39m\u001b[38;5;124m'\u001b[39m\u001b[38;5;124mfigures/sub\u001b[39m\u001b[38;5;132;01m{\u001b[39;00msub\u001b[38;5;132;01m}\u001b[39;00m\u001b[38;5;124m_\u001b[39m\u001b[38;5;132;01m{\u001b[39;00mcondition\u001b[38;5;132;01m}\u001b[39;00m\u001b[38;5;124m_combined.png\u001b[39m\u001b[38;5;124m'\u001b[39m)\n",
      "\u001b[0;31mNameError\u001b[0m: name 'ax' is not defined"
     ]
    }
   ],
   "source": [
    "plot_all = True\n",
    "for sub in range(2):\n",
    "    for condition in ['jhana', 'mindfulness']:\n",
    "        \n",
    "        # Read epochs\n",
    "        path = f\"epochs/sub{sub}_{condition}_epo.fif\"\n",
    "        epochs = mne.read_epochs(path)\n",
    "        evokeds = get_evokeds(epochs)\n",
    "        \n",
    "        # Compute mismatch data\n",
    "        oddball = epochs[\"-1\"].average()\n",
    "        standard = epochs[\"1\"].average()\n",
    "        mismatch_data = standard.data - oddball.data\n",
    "        mismatch = mne.EvokedArray(mismatch_data, standard.info, tmin=standard.times[0])\n",
    "\n",
    "        if plot_all: \n",
    "            # Plot both evoked responses and mismatch negativity in one plot\n",
    "            fig, ax = plt.subplots()\n",
    "            mne.viz.plot_compare_evokeds(evokeds, ci=0.95, title=f'Global oddball evoked response and MMN: {condition}_sub_{sub}', axes=ax)\n",
    "            mne.viz.plot_compare_evokeds({'MMN': mismatch}, ci=0.95, axes=ax, colors={'MMN': 'cyan'})\n",
    "    \n",
    "            \n",
    "            # Set the y-axis limits\n",
    "            ax.set_ylim([-10, 10])\n",
    "            \n",
    "            # Add vertical lines and shaded region\n",
    "            ax.axvline(x=0.15, color='b', linestyle=':', label='Stimulus Onset 0.15s')\n",
    "            ax.axvline(x=0.3, color='b', linestyle=':', label='Stimulus Onset 0.3s')\n",
    "            ax.axvline(x=0.45, color='b', linestyle=':', label='Stimulus Onset 0.45s')\n",
    "            ax.axvline(x=0.6, color='r', linestyle='--', label='Stimulus Onset 0.6s')\n",
    "            ax.axvspan(0.75, 0.85, color='gray', alpha=0.3, label='MMN')\n",
    "            ax.axvspan(0.85, 1.1, color='black', alpha=0.3, label='P3')\n",
    "            ax.legend()\n",
    "            \n",
    "            # Save the figure\n",
    "            fig.savefig(f'figures/sub{sub}_{condition}_combined.png')\n",
    "            plt.close(fig)\n",
    "        \n",
    "        if condition == 'jhana':\n",
    "            mismatch_jhana = mismatch.copy()\n",
    "        if condition == 'mindfulness':\n",
    "            mismatch_mindfulness = mismatch.copy()\n",
    "\n",
    "    title = f'Mismatch Negativity (MMN) Response: sub_{sub}.png'\n",
    "    fig, ax = plt.subplots()\n",
    "    mne.viz.plot_compare_evokeds({'MMN_jhana': mismatch_jhana, 'MMN_mindfulness': mismatch_mindfulness}, ci=0.95, title=title, axes=ax)\n",
    "    ax.set_ylim([-10, 10])\n",
    "    ax.axvline(x=0.15, color='b', linestyle=':', label='Stimulus Onset 0.15s')\n",
    "    ax.axvline(x=0.3, color='b', linestyle=':', label='Stimulus Onset 0.3s')\n",
    "    ax.axvline(x=0.45, color='b', linestyle=':', label='Stimulus Onset 0.45s')\n",
    "    ax.axvline(x=0.6, color='r', linestyle='--', label='Stimulus Onset 0.6s')\n",
    "    ax.axvspan(0.75, 0.85, color='gray', alpha=0.3, label='MMN')\n",
    "    ax.axvspan(0.85, 1.1, color='black', alpha=0.3, label='P3')\n",
    "    ax.legend()\n",
    "    fig.savefig(f'figures/{title}.png')\n",
    "    plt.close(fig)"
   ]
  }
 ],
 "metadata": {
  "kernelspec": {
   "display_name": "Python 3 (ipykernel)",
   "language": "python",
   "name": "python3"
  },
  "language_info": {
   "codemirror_mode": {
    "name": "ipython",
    "version": 3
   },
   "file_extension": ".py",
   "mimetype": "text/x-python",
   "name": "python",
   "nbconvert_exporter": "python",
   "pygments_lexer": "ipython3",
   "version": "3.10.11"
  }
 },
 "nbformat": 4,
 "nbformat_minor": 5
}
