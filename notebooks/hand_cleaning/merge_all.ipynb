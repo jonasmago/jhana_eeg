{
 "cells": [
  {
   "cell_type": "code",
   "execution_count": 100,
   "id": "46f0a707-51a2-4526-b34a-081abeeea473",
   "metadata": {},
   "outputs": [
    {
     "name": "stdout",
     "output_type": "stream",
     "text": [
      "🔄 Processing control_counting/sub0-control-counting-raw.fif\n",
      "Opening raw data file control_counting/sub0-control-counting-raw.fif...\n",
      "    Range : 512 ... 30976 =      2.000 ...   121.000 secs\n",
      "Ready.\n",
      "Reading 0 ... 30464  =      0.000 ...   119.000 secs...\n",
      "[]\n",
      "Writing /Users/jonasmago/PhD_code_data/github/eeg_jhana/notebooks/hand_cleaning/ALL_NoooAr/raw/1_00_NA_count_003_0081_00_raw.fif\n",
      "Closing /Users/jonasmago/PhD_code_data/github/eeg_jhana/notebooks/hand_cleaning/ALL_NoooAr/raw/1_00_NA_count_003_0081_00_raw.fif\n",
      "[done]\n",
      "Not setting metadata\n",
      "39 matching events found\n",
      "No baseline correction applied\n",
      "0 projection items activated\n",
      "Using data from preloaded Raw for 39 events and 768 original time points ...\n",
      "13 bad epochs dropped\n",
      "Not setting metadata\n",
      "11 matching events found\n",
      "No baseline correction applied\n",
      "0 projection items activated\n",
      "Using data from preloaded Raw for 11 events and 2560 original time points ...\n",
      "5 bad epochs dropped\n",
      "Setting channel interpolation method to {'eeg': 'spline'}.\n",
      "Writing /Users/jonasmago/PhD_code_data/github/eeg_jhana/notebooks/hand_cleaning/ALL_NoooAr/raw_interpolated/1_00_NA_count_003_0081_00_raw.fif\n",
      "Closing /Users/jonasmago/PhD_code_data/github/eeg_jhana/notebooks/hand_cleaning/ALL_NoooAr/raw_interpolated/1_00_NA_count_003_0081_00_raw.fif\n",
      "[done]\n",
      "Running autoreject on ch_type=eeg\n"
     ]
    },
    {
     "name": "stderr",
     "output_type": "stream",
     "text": [
      "/var/folders/bq/hl737msd54q59fzf7spf0r7h0000gn/T/ipykernel_36484/3581862880.py:127: RuntimeWarning: No bad channels to interpolate. Doing nothing...\n",
      "  raw_nobad.interpolate_bads(reset_bads=True)\n"
     ]
    },
    {
     "data": {
      "application/vnd.jupyter.widget-view+json": {
       "model_id": "0c7f326105b8484da43d03b7692860b7",
       "version_major": 2,
       "version_minor": 0
      },
      "text/plain": [
       "  0%|          | Creating augmented epochs : 0/32 [00:00<?,       ?it/s]"
      ]
     },
     "metadata": {},
     "output_type": "display_data"
    },
    {
     "data": {
      "application/vnd.jupyter.widget-view+json": {
       "model_id": "6b8fe412b38d41d1bb0589da1b4e9c87",
       "version_major": 2,
       "version_minor": 0
      },
      "text/plain": [
       "  0%|          | Computing thresholds ... : 0/32 [00:00<?,       ?it/s]"
      ]
     },
     "metadata": {},
     "output_type": "display_data"
    },
    {
     "data": {
      "application/vnd.jupyter.widget-view+json": {
       "model_id": "2dd576afa91743dca5f6bbda7d35ff3f",
       "version_major": 2,
       "version_minor": 0
      },
      "text/plain": [
       "  0%|          | Repairing epochs : 0/26 [00:00<?,       ?it/s]"
      ]
     },
     "metadata": {},
     "output_type": "display_data"
    },
    {
     "data": {
      "application/vnd.jupyter.widget-view+json": {
       "model_id": "32e0f4c04d9d4683bac6db814ba808f2",
       "version_major": 2,
       "version_minor": 0
      },
      "text/plain": [
       "  0%|          | n_interp : 0/3 [00:00<?,       ?it/s]"
      ]
     },
     "metadata": {},
     "output_type": "display_data"
    },
    {
     "data": {
      "application/vnd.jupyter.widget-view+json": {
       "model_id": "0bad532b7e3741cbab7187b3f9a0f849",
       "version_major": 2,
       "version_minor": 0
      },
      "text/plain": [
       "  0%|          | Repairing epochs : 0/26 [00:00<?,       ?it/s]"
      ]
     },
     "metadata": {},
     "output_type": "display_data"
    },
    {
     "data": {
      "application/vnd.jupyter.widget-view+json": {
       "model_id": "1d2265cc3b344ec7a5e5c5f123f8f9cb",
       "version_major": 2,
       "version_minor": 0
      },
      "text/plain": [
       "  0%|          | Fold : 0/10 [00:00<?,       ?it/s]"
      ]
     },
     "metadata": {},
     "output_type": "display_data"
    },
    {
     "data": {
      "application/vnd.jupyter.widget-view+json": {
       "model_id": "0967c7599ecd4d908e7121d90ce6b4fa",
       "version_major": 2,
       "version_minor": 0
      },
      "text/plain": [
       "  0%|          | Repairing epochs : 0/26 [00:00<?,       ?it/s]"
      ]
     },
     "metadata": {},
     "output_type": "display_data"
    },
    {
     "data": {
      "application/vnd.jupyter.widget-view+json": {
       "model_id": "ae18730eb2a04d4dad567934871e4aea",
       "version_major": 2,
       "version_minor": 0
      },
      "text/plain": [
       "  0%|          | Fold : 0/10 [00:00<?,       ?it/s]"
      ]
     },
     "metadata": {},
     "output_type": "display_data"
    },
    {
     "data": {
      "application/vnd.jupyter.widget-view+json": {
       "model_id": "01e8611125af4b02882b7d1d4ab95cd6",
       "version_major": 2,
       "version_minor": 0
      },
      "text/plain": [
       "  0%|          | Repairing epochs : 0/26 [00:00<?,       ?it/s]"
      ]
     },
     "metadata": {},
     "output_type": "display_data"
    },
    {
     "data": {
      "application/vnd.jupyter.widget-view+json": {
       "model_id": "6c45888e0c54495897298fc0f7e6f3a8",
       "version_major": 2,
       "version_minor": 0
      },
      "text/plain": [
       "  0%|          | Fold : 0/10 [00:00<?,       ?it/s]"
      ]
     },
     "metadata": {},
     "output_type": "display_data"
    },
    {
     "name": "stdout",
     "output_type": "stream",
     "text": [
      "\n",
      "\n",
      "\n",
      "\n",
      "Estimated consensus=1.00 and n_interpolate=31\n"
     ]
    },
    {
     "data": {
      "application/vnd.jupyter.widget-view+json": {
       "model_id": "c7863b871e164189baf3313a4d07bb7c",
       "version_major": 2,
       "version_minor": 0
      },
      "text/plain": [
       "  0%|          | Repairing epochs : 0/26 [00:00<?,       ?it/s]"
      ]
     },
     "metadata": {},
     "output_type": "display_data"
    },
    {
     "name": "stdout",
     "output_type": "stream",
     "text": [
      "No bad epochs were found for your data. Returning a copy of the data you wanted to clean. Interpolation may have been done.\n",
      "Setting channel interpolation method to {'eeg': 'spline'}.\n",
      "Running autoreject on ch_type=eeg\n"
     ]
    },
    {
     "name": "stderr",
     "output_type": "stream",
     "text": [
      "/var/folders/bq/hl737msd54q59fzf7spf0r7h0000gn/T/ipykernel_36484/3581862880.py:133: RuntimeWarning: No bad channels to interpolate. Doing nothing...\n",
      "  epochs_3_ar.interpolate_bads(reset_bads=True)\n"
     ]
    },
    {
     "data": {
      "application/vnd.jupyter.widget-view+json": {
       "model_id": "7b2aa7c698fc4a048685b9f08d9c204d",
       "version_major": 2,
       "version_minor": 0
      },
      "text/plain": [
       "  0%|          | Creating augmented epochs : 0/32 [00:00<?,       ?it/s]"
      ]
     },
     "metadata": {},
     "output_type": "display_data"
    },
    {
     "data": {
      "application/vnd.jupyter.widget-view+json": {
       "model_id": "334ec594fe0a46c7a3e3b4cd693d4ed3",
       "version_major": 2,
       "version_minor": 0
      },
      "text/plain": [
       "  0%|          | Computing thresholds ... : 0/32 [00:00<?,       ?it/s]"
      ]
     },
     "metadata": {},
     "output_type": "display_data"
    },
    {
     "data": {
      "application/vnd.jupyter.widget-view+json": {
       "model_id": "a0484db080e04b60801a1da4c9aa54fd",
       "version_major": 2,
       "version_minor": 0
      },
      "text/plain": [
       "  0%|          | Repairing epochs : 0/6 [00:00<?,       ?it/s]"
      ]
     },
     "metadata": {},
     "output_type": "display_data"
    },
    {
     "data": {
      "application/vnd.jupyter.widget-view+json": {
       "model_id": "e04cdf3f04254adcba3276cffe248052",
       "version_major": 2,
       "version_minor": 0
      },
      "text/plain": [
       "  0%|          | n_interp : 0/3 [00:00<?,       ?it/s]"
      ]
     },
     "metadata": {},
     "output_type": "display_data"
    },
    {
     "data": {
      "application/vnd.jupyter.widget-view+json": {
       "model_id": "0c581f4cbebe417db3373d207e214f16",
       "version_major": 2,
       "version_minor": 0
      },
      "text/plain": [
       "  0%|          | Repairing epochs : 0/6 [00:00<?,       ?it/s]"
      ]
     },
     "metadata": {},
     "output_type": "display_data"
    },
    {
     "data": {
      "application/vnd.jupyter.widget-view+json": {
       "model_id": "8b199e3e3d6241f794dcffdc3246c4e0",
       "version_major": 2,
       "version_minor": 0
      },
      "text/plain": [
       "  0%|          | Fold : 0/10 [00:00<?,       ?it/s]"
      ]
     },
     "metadata": {},
     "output_type": "display_data"
    },
    {
     "ename": "ValueError",
     "evalue": "Cannot have number of splits n_splits=10 greater than the number of samples: n_samples=6.",
     "output_type": "error",
     "traceback": [
      "\u001b[0;31m---------------------------------------------------------------------------\u001b[0m",
      "\u001b[0;31mValueError\u001b[0m                                Traceback (most recent call last)",
      "Cell \u001b[0;32mIn[100], line 139\u001b[0m\n\u001b[1;32m    135\u001b[0m epochs_3_ar\u001b[38;5;241m.\u001b[39msave(fpath_3_ar, overwrite\u001b[38;5;241m=\u001b[39m\u001b[38;5;28;01mTrue\u001b[39;00m)\n\u001b[1;32m    138\u001b[0m ar \u001b[38;5;241m=\u001b[39m AutoReject()\n\u001b[0;32m--> 139\u001b[0m epochs_10_ar, reject_log_10 \u001b[38;5;241m=\u001b[39m \u001b[43mar\u001b[49m\u001b[38;5;241;43m.\u001b[39;49m\u001b[43mfit_transform\u001b[49m\u001b[43m(\u001b[49m\u001b[43mepochs_10\u001b[49m\u001b[43m,\u001b[49m\u001b[43m \u001b[49m\u001b[43mreturn_log\u001b[49m\u001b[38;5;241;43m=\u001b[39;49m\u001b[38;5;28;43;01mTrue\u001b[39;49;00m\u001b[43m)\u001b[49m\n\u001b[1;32m    140\u001b[0m epochs_10_ar\u001b[38;5;241m.\u001b[39minterpolate_bads(reset_bads\u001b[38;5;241m=\u001b[39m\u001b[38;5;28;01mTrue\u001b[39;00m)\n\u001b[1;32m    141\u001b[0m fpath_10_ar \u001b[38;5;241m=\u001b[39m os\u001b[38;5;241m.\u001b[39mpath\u001b[38;5;241m.\u001b[39mjoin(OUTPUT_BASE, \u001b[38;5;124m'\u001b[39m\u001b[38;5;124m10s_ar\u001b[39m\u001b[38;5;124m'\u001b[39m, fname_10)\n",
      "File \u001b[0;32m/Library/Frameworks/Python.framework/Versions/3.10/lib/python3.10/site-packages/autoreject/autoreject.py:1181\u001b[0m, in \u001b[0;36mAutoReject.fit_transform\u001b[0;34m(self, epochs, return_log)\u001b[0m\n\u001b[1;32m   1162\u001b[0m \u001b[38;5;28;01mdef\u001b[39;00m \u001b[38;5;21mfit_transform\u001b[39m(\u001b[38;5;28mself\u001b[39m, epochs, return_log\u001b[38;5;241m=\u001b[39m\u001b[38;5;28;01mFalse\u001b[39;00m):\n\u001b[1;32m   1163\u001b[0m \u001b[38;5;250m    \u001b[39m\u001b[38;5;124;03m\"\"\"Estimate the rejection params and finds bad epochs.\u001b[39;00m\n\u001b[1;32m   1164\u001b[0m \n\u001b[1;32m   1165\u001b[0m \u001b[38;5;124;03m    Parameters\u001b[39;00m\n\u001b[0;32m   (...)\u001b[0m\n\u001b[1;32m   1179\u001b[0m \u001b[38;5;124;03m        The rejection log. Returned only of return_log is True.\u001b[39;00m\n\u001b[1;32m   1180\u001b[0m \u001b[38;5;124;03m    \"\"\"\u001b[39;00m\n\u001b[0;32m-> 1181\u001b[0m     \u001b[38;5;28;01mreturn\u001b[39;00m \u001b[38;5;28;43mself\u001b[39;49m\u001b[38;5;241;43m.\u001b[39;49m\u001b[43mfit\u001b[49m\u001b[43m(\u001b[49m\u001b[43mepochs\u001b[49m\u001b[43m)\u001b[49m\u001b[38;5;241m.\u001b[39mtransform(epochs, return_log\u001b[38;5;241m=\u001b[39mreturn_log)\n",
      "File \u001b[0;32m/Library/Frameworks/Python.framework/Versions/3.10/lib/python3.10/site-packages/autoreject/autoreject.py:1041\u001b[0m, in \u001b[0;36mAutoReject.fit\u001b[0;34m(self, epochs)\u001b[0m\n\u001b[1;32m   1038\u001b[0m \u001b[38;5;28;01mif\u001b[39;00m \u001b[38;5;28mself\u001b[39m\u001b[38;5;241m.\u001b[39mverbose \u001b[38;5;129;01mis\u001b[39;00m \u001b[38;5;129;01mnot\u001b[39;00m \u001b[38;5;28;01mFalse\u001b[39;00m:\n\u001b[1;32m   1039\u001b[0m     \u001b[38;5;28mprint\u001b[39m(\u001b[38;5;124m'\u001b[39m\u001b[38;5;124mRunning autoreject on ch_type=\u001b[39m\u001b[38;5;132;01m%s\u001b[39;00m\u001b[38;5;124m'\u001b[39m \u001b[38;5;241m%\u001b[39m ch_type)\n\u001b[1;32m   1040\u001b[0m this_local_reject, this_loss \u001b[38;5;241m=\u001b[39m \\\n\u001b[0;32m-> 1041\u001b[0m     \u001b[43m_run_local_reject_cv\u001b[49m\u001b[43m(\u001b[49m\u001b[43mepochs\u001b[49m\u001b[43m,\u001b[49m\u001b[43m \u001b[49m\u001b[43mthresh_func\u001b[49m\u001b[43m,\u001b[49m\u001b[43m \u001b[49m\u001b[43mthis_picks\u001b[49m\u001b[43m,\u001b[49m\n\u001b[1;32m   1042\u001b[0m \u001b[43m                         \u001b[49m\u001b[38;5;28;43mself\u001b[39;49m\u001b[38;5;241;43m.\u001b[39;49m\u001b[43mn_interpolate\u001b[49m\u001b[43m,\u001b[49m\u001b[43m \u001b[49m\u001b[38;5;28;43mself\u001b[39;49m\u001b[38;5;241;43m.\u001b[39;49m\u001b[43mcv_\u001b[49m\u001b[43m,\u001b[49m\n\u001b[1;32m   1043\u001b[0m \u001b[43m                         \u001b[49m\u001b[38;5;28;43mself\u001b[39;49m\u001b[38;5;241;43m.\u001b[39;49m\u001b[43mconsensus\u001b[49m\u001b[43m,\u001b[49m\u001b[43m \u001b[49m\u001b[38;5;28;43mself\u001b[39;49m\u001b[38;5;241;43m.\u001b[39;49m\u001b[43mdots\u001b[49m\u001b[43m,\u001b[49m\n\u001b[1;32m   1044\u001b[0m \u001b[43m                         \u001b[49m\u001b[38;5;28;43mself\u001b[39;49m\u001b[38;5;241;43m.\u001b[39;49m\u001b[43mverbose\u001b[49m\u001b[43m)\u001b[49m\n\u001b[1;32m   1045\u001b[0m \u001b[38;5;28mself\u001b[39m\u001b[38;5;241m.\u001b[39mthreshes_\u001b[38;5;241m.\u001b[39mupdate(this_local_reject\u001b[38;5;241m.\u001b[39mthreshes_)\n\u001b[1;32m   1047\u001b[0m best_idx, best_jdx \u001b[38;5;241m=\u001b[39m \\\n\u001b[1;32m   1048\u001b[0m     np\u001b[38;5;241m.\u001b[39munravel_index(this_loss\u001b[38;5;241m.\u001b[39mmean(axis\u001b[38;5;241m=\u001b[39m\u001b[38;5;241m-\u001b[39m\u001b[38;5;241m1\u001b[39m)\u001b[38;5;241m.\u001b[39margmin(),\n\u001b[1;32m   1049\u001b[0m                      this_loss\u001b[38;5;241m.\u001b[39mshape[:\u001b[38;5;241m2\u001b[39m])\n",
      "File \u001b[0;32m/Library/Frameworks/Python.framework/Versions/3.10/lib/python3.10/site-packages/autoreject/autoreject.py:839\u001b[0m, in \u001b[0;36m_run_local_reject_cv\u001b[0;34m(epochs, thresh_func, picks_, n_interpolate, cv, consensus, dots, verbose)\u001b[0m\n\u001b[1;32m    835\u001b[0m cv_splits \u001b[38;5;241m=\u001b[39m CVSplits(cv\u001b[38;5;241m.\u001b[39msplit(X), n_folds)\n\u001b[1;32m    836\u001b[0m pbar \u001b[38;5;241m=\u001b[39m _pbar(cv_splits, desc\u001b[38;5;241m=\u001b[39m\u001b[38;5;124m'\u001b[39m\u001b[38;5;124mFold\u001b[39m\u001b[38;5;124m'\u001b[39m,\n\u001b[1;32m    837\u001b[0m              position\u001b[38;5;241m=\u001b[39m\u001b[38;5;241m3\u001b[39m, verbose\u001b[38;5;241m=\u001b[39mverbose)\n\u001b[0;32m--> 839\u001b[0m \u001b[38;5;28;01mfor\u001b[39;00m fold, (train, test) \u001b[38;5;129;01min\u001b[39;00m \u001b[38;5;28menumerate\u001b[39m(pbar):\n\u001b[1;32m    840\u001b[0m     \u001b[38;5;28;01mfor\u001b[39;00m idx, this_consensus \u001b[38;5;129;01min\u001b[39;00m \u001b[38;5;28menumerate\u001b[39m(consensus):\n\u001b[1;32m    841\u001b[0m         \u001b[38;5;66;03m# \\kappa must be greater than \\rho\u001b[39;00m\n\u001b[1;32m    842\u001b[0m         n_channels \u001b[38;5;241m=\u001b[39m \u001b[38;5;28mlen\u001b[39m(picks_)\n",
      "File \u001b[0;32m/Library/Frameworks/Python.framework/Versions/3.10/lib/python3.10/site-packages/mne/utils/progressbar.py:140\u001b[0m, in \u001b[0;36mProgressBar.__iter__\u001b[0;34m(self)\u001b[0m\n\u001b[1;32m    138\u001b[0m \u001b[38;5;28;01mdef\u001b[39;00m \u001b[38;5;21m__iter__\u001b[39m(\u001b[38;5;28mself\u001b[39m):\n\u001b[1;32m    139\u001b[0m \u001b[38;5;250m    \u001b[39m\u001b[38;5;124;03m\"\"\"Iterate to auto-increment the pbar with 1.\"\"\"\u001b[39;00m\n\u001b[0;32m--> 140\u001b[0m     \u001b[38;5;28;01myield from\u001b[39;00m \u001b[38;5;28mself\u001b[39m\u001b[38;5;241m.\u001b[39m_tqdm\n",
      "File \u001b[0;32m/Library/Frameworks/Python.framework/Versions/3.10/lib/python3.10/site-packages/tqdm/notebook.py:250\u001b[0m, in \u001b[0;36mtqdm_notebook.__iter__\u001b[0;34m(self)\u001b[0m\n\u001b[1;32m    248\u001b[0m \u001b[38;5;28;01mtry\u001b[39;00m:\n\u001b[1;32m    249\u001b[0m     it \u001b[38;5;241m=\u001b[39m \u001b[38;5;28msuper\u001b[39m()\u001b[38;5;241m.\u001b[39m\u001b[38;5;21m__iter__\u001b[39m()\n\u001b[0;32m--> 250\u001b[0m     \u001b[38;5;28;01mfor\u001b[39;00m obj \u001b[38;5;129;01min\u001b[39;00m it:\n\u001b[1;32m    251\u001b[0m         \u001b[38;5;66;03m# return super(tqdm...) will not catch exception\u001b[39;00m\n\u001b[1;32m    252\u001b[0m         \u001b[38;5;28;01myield\u001b[39;00m obj\n\u001b[1;32m    253\u001b[0m \u001b[38;5;66;03m# NB: except ... [ as ...] breaks IPython async KeyboardInterrupt\u001b[39;00m\n",
      "File \u001b[0;32m/Library/Frameworks/Python.framework/Versions/3.10/lib/python3.10/site-packages/tqdm/std.py:1181\u001b[0m, in \u001b[0;36mtqdm.__iter__\u001b[0;34m(self)\u001b[0m\n\u001b[1;32m   1178\u001b[0m time \u001b[38;5;241m=\u001b[39m \u001b[38;5;28mself\u001b[39m\u001b[38;5;241m.\u001b[39m_time\n\u001b[1;32m   1180\u001b[0m \u001b[38;5;28;01mtry\u001b[39;00m:\n\u001b[0;32m-> 1181\u001b[0m     \u001b[38;5;28;01mfor\u001b[39;00m obj \u001b[38;5;129;01min\u001b[39;00m iterable:\n\u001b[1;32m   1182\u001b[0m         \u001b[38;5;28;01myield\u001b[39;00m obj\n\u001b[1;32m   1183\u001b[0m         \u001b[38;5;66;03m# Update and possibly print the progressbar.\u001b[39;00m\n\u001b[1;32m   1184\u001b[0m         \u001b[38;5;66;03m# Note: does not call self.update(1) for speed optimisation.\u001b[39;00m\n",
      "File \u001b[0;32m/Library/Frameworks/Python.framework/Versions/3.10/lib/python3.10/site-packages/sklearn/model_selection/_split.py:370\u001b[0m, in \u001b[0;36m_BaseKFold.split\u001b[0;34m(self, X, y, groups)\u001b[0m\n\u001b[1;32m    368\u001b[0m n_samples \u001b[38;5;241m=\u001b[39m _num_samples(X)\n\u001b[1;32m    369\u001b[0m \u001b[38;5;28;01mif\u001b[39;00m \u001b[38;5;28mself\u001b[39m\u001b[38;5;241m.\u001b[39mn_splits \u001b[38;5;241m>\u001b[39m n_samples:\n\u001b[0;32m--> 370\u001b[0m     \u001b[38;5;28;01mraise\u001b[39;00m \u001b[38;5;167;01mValueError\u001b[39;00m(\n\u001b[1;32m    371\u001b[0m         (\n\u001b[1;32m    372\u001b[0m             \u001b[38;5;124m\"\u001b[39m\u001b[38;5;124mCannot have number of splits n_splits=\u001b[39m\u001b[38;5;132;01m{0}\u001b[39;00m\u001b[38;5;124m greater\u001b[39m\u001b[38;5;124m\"\u001b[39m\n\u001b[1;32m    373\u001b[0m             \u001b[38;5;124m\"\u001b[39m\u001b[38;5;124m than the number of samples: n_samples=\u001b[39m\u001b[38;5;132;01m{1}\u001b[39;00m\u001b[38;5;124m.\u001b[39m\u001b[38;5;124m\"\u001b[39m\n\u001b[1;32m    374\u001b[0m         )\u001b[38;5;241m.\u001b[39mformat(\u001b[38;5;28mself\u001b[39m\u001b[38;5;241m.\u001b[39mn_splits, n_samples)\n\u001b[1;32m    375\u001b[0m     )\n\u001b[1;32m    377\u001b[0m \u001b[38;5;28;01mfor\u001b[39;00m train, test \u001b[38;5;129;01min\u001b[39;00m \u001b[38;5;28msuper\u001b[39m()\u001b[38;5;241m.\u001b[39msplit(X, y, groups):\n\u001b[1;32m    378\u001b[0m     \u001b[38;5;28;01myield\u001b[39;00m train, test\n",
      "\u001b[0;31mValueError\u001b[0m: Cannot have number of splits n_splits=10 greater than the number of samples: n_samples=6."
     ]
    }
   ],
   "source": [
    "import os\n",
    "import glob\n",
    "import mne\n",
    "import numpy as np\n",
    "import pandas as pd\n",
    "\n",
    "INPUT_DIRS = [\n",
    "    'control_counting',\n",
    "    'control_resting_state',\n",
    "    'nimitta',\n",
    "    'rest_baseline',\n",
    "    'resting_state',\n",
    "    'resting_state_byjhana_concatenated'\n",
    "]\n",
    "\n",
    "OUTPUT_BASE = 'ALL_NoooAr'\n",
    "\n",
    "os.makedirs(OUTPUT_BASE, exist_ok=True)\n",
    "\n",
    "for folder in ['raw', '03s', '10s', 'raw_interpolated', '03s_ar', '10s_ar']:\n",
    "    os.makedirs(os.path.join(OUTPUT_BASE, folder), exist_ok=True)\n",
    "\n",
    "summary = []\n",
    "\n",
    "def parse_metadata(path):\n",
    "    fname = os.path.basename(path).lower()\n",
    "    control = '1' if 'control' in path else '0'\n",
    "    \n",
    "    sub = fname.split('-')[0].replace('sub', '').zfill(2)\n",
    "    day = 'NA'\n",
    "    if 'day' in fname:\n",
    "        try:\n",
    "            day = fname.split('-')[1].replace('day', '')\n",
    "            day = str(day).zfill(2)\n",
    "        except IndexError:\n",
    "            pass\n",
    "    \n",
    "    if 'counting' in path:\n",
    "        condition = 'count'\n",
    "    elif 'mindfulness' in path:\n",
    "        condition = 'mindf'\n",
    "    elif 'nimitta' in path:\n",
    "        condition = 'nimit'\n",
    "    elif 'rest_eyes_closed' in fname:\n",
    "        condition = 'rposc' if 'post' in fname else 'rprec'\n",
    "    elif 'rest_eyes_open' in fname:\n",
    "        condition = 'rposo' if 'post' in fname else 'rpreo'\n",
    "    elif 'jhana-j' in fname:\n",
    "        jn = fname.split('-')[-1].replace('.fif', '')\n",
    "        condition = f'jhan{jn[-1]}'\n",
    "    elif 'jhana' in fname:\n",
    "        condition = 'jhana'\n",
    "    else:\n",
    "        condition = 'unkn'\n",
    "        \n",
    "    return control, sub, day, condition\n",
    "\n",
    "def build_filename(control, sub, day, condition, n_elem, length, bads, kind):\n",
    "    day_str = day if day else ''\n",
    "    return f\"{control}_{sub}_{day_str}_{condition}_{n_elem}_{length}_{bads}_{kind}.fif\"\n",
    "\n",
    "def remove_bads(raw):\n",
    "    \n",
    "    bad_segments = []\n",
    "    for annot in raw.annotations:\n",
    "        if annot['description'].lower() == 'bad_':\n",
    "            bad_segments.append((annot['onset']-raw.first_time, annot['onset'] + annot['duration']-raw.first_time))\n",
    "\n",
    "    good_segments = []\n",
    "    start_time = 0\n",
    "\n",
    "    for bad_start, bad_end in bad_segments:\n",
    "        if bad_start - start_time >= 10:\n",
    "            good_segments.append((start_time, bad_start))\n",
    "        start_time = bad_end \n",
    "\n",
    "    if start_time < raw.times[-1]:  \n",
    "        good_segments.append((start_time, raw.times[-1]))\n",
    "\n",
    "    good_raws = [raw.copy().crop(tmin, tmax) for tmin, tmax in good_segments]\n",
    "\n",
    "    if len(good_raws) > 0:\n",
    "        raw_nobad = mne.concatenate_raws(good_raws)\n",
    "    else: \n",
    "        raw_nobad = None\n",
    "\n",
    "    return raw_nobad, str(len(good_segments)).zfill(3), str(int(raw_nobad.times[-1])).zfill(4)\n",
    "\n",
    "for folder in INPUT_DIRS:\n",
    "    files = sorted(glob.glob(os.path.join(folder, \"*.fif\")))[:1]\n",
    "    for file in files: \n",
    "        print(f\"🔄 Processing {file}\")\n",
    "        control, sub, day, condition = parse_metadata(file)\n",
    "        raw = mne.io.read_raw_fif(file, preload=True)\n",
    "        num_bad_channels = str(len(raw.info['bads'])).zfill(2)\n",
    "        print(raw.info['bads'])\n",
    "        raw_nobad, n_elem, length = remove_bads(raw)    \n",
    "\n",
    "        \n",
    "        fname = build_filename(control, sub, day, condition, n_elem, length, num_bad_channels, 'raw')\n",
    "        fpath = os.path.join(OUTPUT_BASE, 'raw', fname)\n",
    "        raw_nobad.save(fpath, overwrite=True)\n",
    "        \n",
    "        epochs_3 = mne.make_fixed_length_epochs(raw, duration=3, preload=True)\n",
    "        epochs_10 = mne.make_fixed_length_epochs(raw, duration=10, preload=True)\n",
    "        \n",
    "        n_epochs_3 = len(epochs_3)\n",
    "        length_3 = n_epochs_3 * 3\n",
    "        n_epochs_3 = str(n_epochs_3).zfill(3)\n",
    "        length_3 = str(length_3).zfill(4)\n",
    "\n",
    "        n_epochs_10 = len(epochs_10)\n",
    "        length_10 = n_epochs_10 * 10\n",
    "        n_epochs_10 = str(n_epochs_10).zfill(3)\n",
    "        length_10 = str(length_10).zfill(4)\n",
    "\n",
    "        fname_3 = build_filename(control, sub, day, condition, n_epochs_3, length_3, num_bad_channels, 'epo')\n",
    "        fname_10 = build_filename(control, sub, day, condition, n_epochs_10, length_10, num_bad_channels, 'epo')\n",
    "        \n",
    "        fpath_3 = os.path.join(OUTPUT_BASE, '03s', fname_3)\n",
    "        epochs_3.save(fpath_3, overwrite=True)\n",
    "        \n",
    "        fpath_10 = os.path.join(OUTPUT_BASE, '10s', fname_10)\n",
    "        epochs_10.save(fpath_10, overwrite=True)\n",
    "\n",
    "        # interpolate and run AR\n",
    "        raw_nobad.interpolate_bads(reset_bads=True)\n",
    "        fpath = os.path.join(OUTPUT_BASE, 'raw_interpolated', fname)\n",
    "        raw_nobad.save(fpath, overwrite=True)\n",
    "\n",
    "        ar = AutoReject()\n",
    "        epochs_3_ar, reject_log_3 = ar.fit_transform(epochs_3, return_log=True)\n",
    "        epochs_3_ar.interpolate_bads(reset_bads=True)\n",
    "        fpath_3_ar = os.path.join(OUTPUT_BASE, '03s_ar', fname_3)\n",
    "        epochs_3_ar.save(fpath_3_ar, overwrite=True)\n",
    "\n",
    "        \n",
    "        ar = AutoReject()\n",
    "        epochs_10_ar, reject_log_10 = ar.fit_transform(epochs_10, return_log=True)\n",
    "        epochs_10_ar.interpolate_bads(reset_bads=True)\n",
    "        fpath_10_ar = os.path.join(OUTPUT_BASE, '10s_ar', fname_10)\n",
    "        epochs_10_ar.save(fpath_10_ar, overwrite=True)\n",
    "        \n",
    "        n_dropped_3 = reject_log_3.bad_epochs.sum()\n",
    "        n_interp_total_3 = np.nansum(reject_log_3.labels)\n",
    "    \n",
    "        n_dropped_10 = reject_log_10.bad_epochs.sum()\n",
    "        n_interp_total_10 = np.nansum(reject_log_10.labels)\n",
    "\n",
    "        fig = reject_log_3.plot(show=False)\n",
    "        fig.savefig(os.path.join(OUTPUT_BASE, '03s_ar', fname_3.replace('.fif', '_rejlog.png')))\n",
    "        fig = reject_log_10.plot(show=False)\n",
    "        fig.savefig(os.path.join(OUTPUT_BASE, '10s_ar', fname_10.replace('.fif', '_rejlog.png')))\n",
    "        \n",
    "        summary.append({\n",
    "            'original_name': file, 'filename': fname, \n",
    "            'control': control, 'sub': sub, 'day': day, 'condition': condition,\n",
    "            'bad_channels': num_bad_channels,\n",
    "            'num_03s_epochs': n_epochs_3, 'num_10s_epochs': n_epochs_10, \n",
    "            'length_raw': length, 'length_03s': length_3, 'length_10s': length_10,\n",
    "            'num_03s_epochs_ar': str(len(epochs_3_ar)).zfill(3), 'num_10s_epochs_ar': str(len(epochs_10_ar)).zfill(3),\n",
    "            'length_03s_ar': str(int(len(epochs_3_ar))*3).zfill(4), 'length_10s_ar': str(int(len(epochs_10_ar))*10).zfill(4),\n",
    "            'n_dropped_3': n_dropped_3, 'n_dropped_10': n_dropped_10,\n",
    "            'n_interp_total_3': n_interp_total_3, 'n_interp_total_10': n_interp_total_10,\n",
    "            'percent_retained_03s': round(len(epochs_3_ar) / int(n_epochs_3) * 100, 2),\n",
    "            'percent_retained_10s': round(len(epochs_10_ar) / int(n_epochs_10) * 100, 2),\n",
    "\n",
    "        })\n",
    "\n",
    "\n",
    "\n",
    "    # Save combined summary\n",
    "    df = pd.DataFrame(summary)\n",
    "    summary_path = os.path.join(OUTPUT_BASE, 'summary.csv')\n",
    "    df.to_csv(summary_path, index=False)\n",
    "    df.to_excel(os.path.join(OUTPUT_BASE, 'summary.xlsx'), index=False)\n",
    "    print(f\"📝 Summary saved to {summary_path}\")\n",
    "    \n",
    "    print(\"✅ All files processed.\")\n"
   ]
  },
  {
   "cell_type": "code",
   "execution_count": null,
   "id": "3f9bd229-6485-42a8-aa94-0ab9ca0c59d4",
   "metadata": {},
   "outputs": [],
   "source": []
  }
 ],
 "metadata": {
  "kernelspec": {
   "display_name": "MNE",
   "language": "python",
   "name": "mne"
  },
  "language_info": {
   "codemirror_mode": {
    "name": "ipython",
    "version": 3
   },
   "file_extension": ".py",
   "mimetype": "text/x-python",
   "name": "python",
   "nbconvert_exporter": "python",
   "pygments_lexer": "ipython3",
   "version": "3.10.11"
  }
 },
 "nbformat": 4,
 "nbformat_minor": 5
}
