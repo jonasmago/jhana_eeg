{
 "cells": [
  {
   "cell_type": "code",
   "execution_count": 30,
   "id": "8326b2ae-3a35-4b2f-a623-ee27d84b5d00",
   "metadata": {},
   "outputs": [],
   "source": [
    "import neurokit2 as nk\n",
    "import glob\n",
    "import mne\n",
    "import matplotlib.pyplot as plt\n",
    "import pandas as pd\n",
    "import os\n",
    "import re\n",
    "import numpy as np\n",
    "%matplotlib qt\n"
   ]
  },
  {
   "cell_type": "code",
   "execution_count": 27,
   "id": "e9a25ee9-f6de-4229-94b2-6a09a8a14411",
   "metadata": {},
   "outputs": [],
   "source": [
    "paths1 = glob.glob('../../data/mne_raw/sub?-day?-*-raw.fif')\n",
    "paths1 = [path for path in paths1 if 'mmn-raw' not in path]\n",
    "paths1.sort()\n",
    "paths2 = glob.glob('../../data/mne_raw/sub*-control-mindfulness-raw.fif')\n",
    "paths2.sort()\n",
    "paths = paths1 + paths2"
   ]
  },
  {
   "cell_type": "code",
   "execution_count": 35,
   "id": "8b333aea-18bb-479d-8016-b2be00b2f4d6",
   "metadata": {},
   "outputs": [
    {
     "name": "stdout",
     "output_type": "stream",
     "text": [
      "Opening raw data file ../../data/mne_raw/sub0-day1-jhana-raw.fif...\n",
      "    Range : 256 ... 388359 =      1.000 ...  1517.027 secs\n",
      "Ready.\n",
      "Reading 0 ... 388103  =      0.000 ...  1516.027 secs...\n"
     ]
    },
    {
     "name": "stderr",
     "output_type": "stream",
     "text": [
      "/opt/anaconda3/envs/hypyp/lib/python3.8/site-packages/neurokit2/ecg/ecg_plot.py:70: NeuroKitWarning: 'info' dict not provided. Some information might be missing. Sampling rate will be set to 1000 Hz.\n",
      "  warn(\n"
     ]
    },
    {
     "name": "stdout",
     "output_type": "stream",
     "text": [
      "Opening raw data file ../../data/mne_raw/sub0-day1-mindfulness-raw.fif...\n",
      "    Range : 256 ... 385039 =      1.000 ...  1504.059 secs\n",
      "Ready.\n",
      "Reading 0 ... 384783  =      0.000 ...  1503.059 secs...\n"
     ]
    },
    {
     "name": "stderr",
     "output_type": "stream",
     "text": [
      "/opt/anaconda3/envs/hypyp/lib/python3.8/site-packages/neurokit2/ecg/ecg_plot.py:70: NeuroKitWarning: 'info' dict not provided. Some information might be missing. Sampling rate will be set to 1000 Hz.\n",
      "  warn(\n"
     ]
    },
    {
     "name": "stdout",
     "output_type": "stream",
     "text": [
      "Opening raw data file ../../data/mne_raw/sub0-day2-jhana-raw.fif...\n",
      "    Range : 256 ... 385063 =      1.000 ...  1504.152 secs\n",
      "Ready.\n",
      "Reading 0 ... 384807  =      0.000 ...  1503.152 secs...\n"
     ]
    },
    {
     "name": "stderr",
     "output_type": "stream",
     "text": [
      "/opt/anaconda3/envs/hypyp/lib/python3.8/site-packages/neurokit2/ecg/ecg_plot.py:70: NeuroKitWarning: 'info' dict not provided. Some information might be missing. Sampling rate will be set to 1000 Hz.\n",
      "  warn(\n"
     ]
    },
    {
     "name": "stdout",
     "output_type": "stream",
     "text": [
      "Opening raw data file ../../data/mne_raw/sub0-day2-mindfulness-raw.fif...\n",
      "    Range : 256 ... 382143 =      1.000 ...  1492.746 secs\n",
      "Ready.\n",
      "Reading 0 ... 381887  =      0.000 ...  1491.746 secs...\n"
     ]
    },
    {
     "name": "stderr",
     "output_type": "stream",
     "text": [
      "/opt/anaconda3/envs/hypyp/lib/python3.8/site-packages/neurokit2/ecg/ecg_plot.py:70: NeuroKitWarning: 'info' dict not provided. Some information might be missing. Sampling rate will be set to 1000 Hz.\n",
      "  warn(\n"
     ]
    },
    {
     "name": "stdout",
     "output_type": "stream",
     "text": [
      "Opening raw data file ../../data/mne_raw/sub0-day3-jhana-raw.fif...\n",
      "    Range : 512 ... 385231 =      2.000 ...  1504.809 secs\n",
      "Ready.\n",
      "Reading 0 ... 384719  =      0.000 ...  1502.809 secs...\n"
     ]
    },
    {
     "name": "stderr",
     "output_type": "stream",
     "text": [
      "/opt/anaconda3/envs/hypyp/lib/python3.8/site-packages/neurokit2/ecg/ecg_plot.py:70: NeuroKitWarning: 'info' dict not provided. Some information might be missing. Sampling rate will be set to 1000 Hz.\n",
      "  warn(\n"
     ]
    },
    {
     "name": "stdout",
     "output_type": "stream",
     "text": [
      "Opening raw data file ../../data/mne_raw/sub0-day3-mindfulness-raw.fif...\n",
      "    Range : 512 ... 389639 =      2.000 ...  1522.027 secs\n",
      "Ready.\n",
      "Reading 0 ... 389127  =      0.000 ...  1520.027 secs...\n"
     ]
    },
    {
     "name": "stderr",
     "output_type": "stream",
     "text": [
      "/opt/anaconda3/envs/hypyp/lib/python3.8/site-packages/neurokit2/ecg/ecg_plot.py:70: NeuroKitWarning: 'info' dict not provided. Some information might be missing. Sampling rate will be set to 1000 Hz.\n",
      "  warn(\n"
     ]
    },
    {
     "name": "stdout",
     "output_type": "stream",
     "text": [
      "Opening raw data file ../../data/mne_raw/sub0-day4-jhana-raw.fif...\n",
      "    Range : 0 ... 393967 =      0.000 ...  1538.934 secs\n",
      "Ready.\n",
      "Reading 0 ... 393967  =      0.000 ...  1538.934 secs...\n"
     ]
    },
    {
     "name": "stderr",
     "output_type": "stream",
     "text": [
      "/opt/anaconda3/envs/hypyp/lib/python3.8/site-packages/neurokit2/ecg/ecg_plot.py:70: NeuroKitWarning: 'info' dict not provided. Some information might be missing. Sampling rate will be set to 1000 Hz.\n",
      "  warn(\n"
     ]
    },
    {
     "name": "stdout",
     "output_type": "stream",
     "text": [
      "Opening raw data file ../../data/mne_raw/sub0-day4-mindfulness-raw.fif...\n",
      "    Range : 256 ... 389023 =      1.000 ...  1519.621 secs\n",
      "Ready.\n",
      "Reading 0 ... 388767  =      0.000 ...  1518.621 secs...\n"
     ]
    },
    {
     "name": "stderr",
     "output_type": "stream",
     "text": [
      "/opt/anaconda3/envs/hypyp/lib/python3.8/site-packages/neurokit2/ecg/ecg_plot.py:70: NeuroKitWarning: 'info' dict not provided. Some information might be missing. Sampling rate will be set to 1000 Hz.\n",
      "  warn(\n"
     ]
    },
    {
     "name": "stdout",
     "output_type": "stream",
     "text": [
      "Opening raw data file ../../data/mne_raw/sub1-day1-jhana-raw.fif...\n",
      "    Range : 512 ... 388599 =      2.000 ...  1517.965 secs\n",
      "Ready.\n",
      "Reading 0 ... 388087  =      0.000 ...  1515.965 secs...\n"
     ]
    },
    {
     "name": "stderr",
     "output_type": "stream",
     "text": [
      "/opt/anaconda3/envs/hypyp/lib/python3.8/site-packages/neurokit2/ecg/ecg_plot.py:70: NeuroKitWarning: 'info' dict not provided. Some information might be missing. Sampling rate will be set to 1000 Hz.\n",
      "  warn(\n"
     ]
    },
    {
     "name": "stdout",
     "output_type": "stream",
     "text": [
      "Opening raw data file ../../data/mne_raw/sub1-day1-mindfulness-raw.fif...\n",
      "    Range : 512 ... 384951 =      2.000 ...  1503.715 secs\n",
      "Ready.\n",
      "Reading 0 ... 384439  =      0.000 ...  1501.715 secs...\n"
     ]
    },
    {
     "name": "stderr",
     "output_type": "stream",
     "text": [
      "/opt/anaconda3/envs/hypyp/lib/python3.8/site-packages/neurokit2/ecg/ecg_plot.py:70: NeuroKitWarning: 'info' dict not provided. Some information might be missing. Sampling rate will be set to 1000 Hz.\n",
      "  warn(\n"
     ]
    },
    {
     "name": "stdout",
     "output_type": "stream",
     "text": [
      "Opening raw data file ../../data/mne_raw/sub1-day2-jhana-raw.fif...\n",
      "    Range : 512 ... 382855 =      2.000 ...  1495.527 secs\n",
      "Ready.\n",
      "Reading 0 ... 382343  =      0.000 ...  1493.527 secs...\n"
     ]
    },
    {
     "name": "stderr",
     "output_type": "stream",
     "text": [
      "/opt/anaconda3/envs/hypyp/lib/python3.8/site-packages/neurokit2/ecg/ecg_plot.py:70: NeuroKitWarning: 'info' dict not provided. Some information might be missing. Sampling rate will be set to 1000 Hz.\n",
      "  warn(\n"
     ]
    },
    {
     "name": "stdout",
     "output_type": "stream",
     "text": [
      "Opening raw data file ../../data/mne_raw/sub1-day2-mindfulness-raw.fif...\n",
      "    Range : 256 ... 382191 =      1.000 ...  1492.934 secs\n",
      "Ready.\n",
      "Reading 0 ... 381935  =      0.000 ...  1491.934 secs...\n"
     ]
    },
    {
     "name": "stderr",
     "output_type": "stream",
     "text": [
      "/opt/anaconda3/envs/hypyp/lib/python3.8/site-packages/neurokit2/ecg/ecg_plot.py:70: NeuroKitWarning: 'info' dict not provided. Some information might be missing. Sampling rate will be set to 1000 Hz.\n",
      "  warn(\n"
     ]
    },
    {
     "name": "stdout",
     "output_type": "stream",
     "text": [
      "Opening raw data file ../../data/mne_raw/sub1-day3-jhana-raw.fif...\n",
      "    Range : 256 ... 386423 =      1.000 ...  1509.465 secs\n",
      "Ready.\n",
      "Reading 0 ... 386167  =      0.000 ...  1508.465 secs...\n"
     ]
    },
    {
     "name": "stderr",
     "output_type": "stream",
     "text": [
      "/opt/anaconda3/envs/hypyp/lib/python3.8/site-packages/neurokit2/ecg/ecg_plot.py:70: NeuroKitWarning: 'info' dict not provided. Some information might be missing. Sampling rate will be set to 1000 Hz.\n",
      "  warn(\n"
     ]
    },
    {
     "name": "stdout",
     "output_type": "stream",
     "text": [
      "Opening raw data file ../../data/mne_raw/sub1-day3-mindfulness-raw.fif...\n",
      "    Range : 1024 ... 387503 =      4.000 ...  1513.684 secs\n",
      "Ready.\n",
      "Reading 0 ... 386479  =      0.000 ...  1509.684 secs...\n"
     ]
    },
    {
     "name": "stderr",
     "output_type": "stream",
     "text": [
      "/opt/anaconda3/envs/hypyp/lib/python3.8/site-packages/neurokit2/ecg/ecg_plot.py:70: NeuroKitWarning: 'info' dict not provided. Some information might be missing. Sampling rate will be set to 1000 Hz.\n",
      "  warn(\n"
     ]
    },
    {
     "name": "stdout",
     "output_type": "stream",
     "text": [
      "Opening raw data file ../../data/mne_raw/sub1-day4-jhana-raw.fif...\n",
      "    Range : 0 ... 394767 =      0.000 ...  1542.059 secs\n",
      "Ready.\n",
      "Reading 0 ... 394767  =      0.000 ...  1542.059 secs...\n"
     ]
    },
    {
     "name": "stderr",
     "output_type": "stream",
     "text": [
      "/opt/anaconda3/envs/hypyp/lib/python3.8/site-packages/neurokit2/ecg/ecg_plot.py:70: NeuroKitWarning: 'info' dict not provided. Some information might be missing. Sampling rate will be set to 1000 Hz.\n",
      "  warn(\n"
     ]
    },
    {
     "name": "stdout",
     "output_type": "stream",
     "text": [
      "Opening raw data file ../../data/mne_raw/sub1-day4-mindfulness-raw.fif...\n",
      "    Range : 256 ... 393031 =      1.000 ...  1535.277 secs\n",
      "Ready.\n",
      "Reading 0 ... 392775  =      0.000 ...  1534.277 secs...\n"
     ]
    },
    {
     "name": "stderr",
     "output_type": "stream",
     "text": [
      "/opt/anaconda3/envs/hypyp/lib/python3.8/site-packages/neurokit2/ecg/ecg_plot.py:70: NeuroKitWarning: 'info' dict not provided. Some information might be missing. Sampling rate will be set to 1000 Hz.\n",
      "  warn(\n"
     ]
    },
    {
     "name": "stdout",
     "output_type": "stream",
     "text": [
      "Opening raw data file ../../data/mne_raw/sub2-day1-jhana-raw.fif...\n",
      "    Range : 256 ... 384895 =      1.000 ...  1503.496 secs\n",
      "Ready.\n",
      "Reading 0 ... 384639  =      0.000 ...  1502.496 secs...\n"
     ]
    },
    {
     "name": "stderr",
     "output_type": "stream",
     "text": [
      "/opt/anaconda3/envs/hypyp/lib/python3.8/site-packages/neurokit2/ecg/ecg_plot.py:70: NeuroKitWarning: 'info' dict not provided. Some information might be missing. Sampling rate will be set to 1000 Hz.\n",
      "  warn(\n"
     ]
    },
    {
     "name": "stdout",
     "output_type": "stream",
     "text": [
      "Opening raw data file ../../data/mne_raw/sub2-day1-mindfulness-raw.fif...\n",
      "    Range : 11776 ... 380711 =     46.000 ...  1487.152 secs\n",
      "Ready.\n",
      "Reading 0 ... 368935  =      0.000 ...  1441.152 secs...\n"
     ]
    },
    {
     "name": "stderr",
     "output_type": "stream",
     "text": [
      "/opt/anaconda3/envs/hypyp/lib/python3.8/site-packages/neurokit2/ecg/ecg_plot.py:70: NeuroKitWarning: 'info' dict not provided. Some information might be missing. Sampling rate will be set to 1000 Hz.\n",
      "  warn(\n"
     ]
    },
    {
     "name": "stdout",
     "output_type": "stream",
     "text": [
      "Opening raw data file ../../data/mne_raw/sub2-day2-jhana-raw.fif...\n",
      "    Range : 256 ... 383727 =      1.000 ...  1498.934 secs\n",
      "Ready.\n",
      "Reading 0 ... 383471  =      0.000 ...  1497.934 secs...\n"
     ]
    },
    {
     "name": "stderr",
     "output_type": "stream",
     "text": [
      "/opt/anaconda3/envs/hypyp/lib/python3.8/site-packages/neurokit2/ecg/ecg_plot.py:70: NeuroKitWarning: 'info' dict not provided. Some information might be missing. Sampling rate will be set to 1000 Hz.\n",
      "  warn(\n"
     ]
    },
    {
     "name": "stdout",
     "output_type": "stream",
     "text": [
      "Opening raw data file ../../data/mne_raw/sub2-day2-mindfulness-raw.fif...\n",
      "    Range : 256 ... 381903 =      1.000 ...  1491.809 secs\n",
      "Ready.\n",
      "Reading 0 ... 381647  =      0.000 ...  1490.809 secs...\n"
     ]
    },
    {
     "name": "stderr",
     "output_type": "stream",
     "text": [
      "/opt/anaconda3/envs/hypyp/lib/python3.8/site-packages/neurokit2/ecg/ecg_plot.py:70: NeuroKitWarning: 'info' dict not provided. Some information might be missing. Sampling rate will be set to 1000 Hz.\n",
      "  warn(\n"
     ]
    },
    {
     "name": "stdout",
     "output_type": "stream",
     "text": [
      "Opening raw data file ../../data/mne_raw/sub2-day3-jhana-raw.fif...\n",
      "    Range : 0 ... 387743 =      0.000 ...  1514.621 secs\n",
      "Ready.\n",
      "Reading 0 ... 387743  =      0.000 ...  1514.621 secs...\n"
     ]
    },
    {
     "name": "stderr",
     "output_type": "stream",
     "text": [
      "/opt/anaconda3/envs/hypyp/lib/python3.8/site-packages/neurokit2/ecg/ecg_plot.py:70: NeuroKitWarning: 'info' dict not provided. Some information might be missing. Sampling rate will be set to 1000 Hz.\n",
      "  warn(\n"
     ]
    },
    {
     "name": "stdout",
     "output_type": "stream",
     "text": [
      "Opening raw data file ../../data/mne_raw/sub2-day3-mindfulness-raw.fif...\n",
      "    Range : 256 ... 386207 =      1.000 ...  1508.621 secs\n",
      "Ready.\n",
      "Reading 0 ... 385951  =      0.000 ...  1507.621 secs...\n"
     ]
    },
    {
     "name": "stderr",
     "output_type": "stream",
     "text": [
      "/opt/anaconda3/envs/hypyp/lib/python3.8/site-packages/neurokit2/ecg/ecg_plot.py:70: NeuroKitWarning: 'info' dict not provided. Some information might be missing. Sampling rate will be set to 1000 Hz.\n",
      "  warn(\n"
     ]
    },
    {
     "name": "stdout",
     "output_type": "stream",
     "text": [
      "Opening raw data file ../../data/mne_raw/sub2-day4-jhana-raw.fif...\n",
      "    Range : 0 ... 387551 =      0.000 ...  1513.871 secs\n",
      "Ready.\n",
      "Reading 0 ... 387551  =      0.000 ...  1513.871 secs...\n"
     ]
    },
    {
     "name": "stderr",
     "output_type": "stream",
     "text": [
      "/opt/anaconda3/envs/hypyp/lib/python3.8/site-packages/neurokit2/ecg/ecg_plot.py:70: NeuroKitWarning: 'info' dict not provided. Some information might be missing. Sampling rate will be set to 1000 Hz.\n",
      "  warn(\n"
     ]
    },
    {
     "name": "stdout",
     "output_type": "stream",
     "text": [
      "Opening raw data file ../../data/mne_raw/sub2-day4-mindfulness-raw.fif...\n",
      "    Range : 0 ... 391319 =      0.000 ...  1528.590 secs\n",
      "Ready.\n",
      "Reading 0 ... 391319  =      0.000 ...  1528.590 secs...\n"
     ]
    },
    {
     "name": "stderr",
     "output_type": "stream",
     "text": [
      "/opt/anaconda3/envs/hypyp/lib/python3.8/site-packages/neurokit2/ecg/ecg_plot.py:70: NeuroKitWarning: 'info' dict not provided. Some information might be missing. Sampling rate will be set to 1000 Hz.\n",
      "  warn(\n"
     ]
    },
    {
     "name": "stdout",
     "output_type": "stream",
     "text": [
      "Opening raw data file ../../data/mne_raw/sub3-day1-jhana-raw.fif...\n",
      "    Range : 512 ... 384607 =      2.000 ...  1502.371 secs\n",
      "Ready.\n",
      "Reading 0 ... 384095  =      0.000 ...  1500.371 secs...\n"
     ]
    },
    {
     "name": "stderr",
     "output_type": "stream",
     "text": [
      "/opt/anaconda3/envs/hypyp/lib/python3.8/site-packages/neurokit2/ecg/ecg_plot.py:70: NeuroKitWarning: 'info' dict not provided. Some information might be missing. Sampling rate will be set to 1000 Hz.\n",
      "  warn(\n"
     ]
    },
    {
     "name": "stdout",
     "output_type": "stream",
     "text": [
      "Opening raw data file ../../data/mne_raw/sub3-day1-mindfulness-raw.fif...\n",
      "    Range : 256 ... 380687 =      1.000 ...  1487.059 secs\n",
      "Ready.\n",
      "Reading 0 ... 380431  =      0.000 ...  1486.059 secs...\n"
     ]
    },
    {
     "name": "stderr",
     "output_type": "stream",
     "text": [
      "/opt/anaconda3/envs/hypyp/lib/python3.8/site-packages/neurokit2/ecg/ecg_plot.py:70: NeuroKitWarning: 'info' dict not provided. Some information might be missing. Sampling rate will be set to 1000 Hz.\n",
      "  warn(\n"
     ]
    },
    {
     "name": "stdout",
     "output_type": "stream",
     "text": [
      "Opening raw data file ../../data/mne_raw/sub3-day2-jhana-raw.fif...\n",
      "    Range : 256 ... 383575 =      1.000 ...  1498.340 secs\n",
      "Ready.\n",
      "Reading 0 ... 383319  =      0.000 ...  1497.340 secs...\n"
     ]
    },
    {
     "name": "stderr",
     "output_type": "stream",
     "text": [
      "/opt/anaconda3/envs/hypyp/lib/python3.8/site-packages/neurokit2/ecg/ecg_plot.py:70: NeuroKitWarning: 'info' dict not provided. Some information might be missing. Sampling rate will be set to 1000 Hz.\n",
      "  warn(\n"
     ]
    },
    {
     "name": "stdout",
     "output_type": "stream",
     "text": [
      "Opening raw data file ../../data/mne_raw/sub3-day2-mindfulness-raw.fif...\n",
      "    Range : 512 ... 381359 =      2.000 ...  1489.684 secs\n",
      "Ready.\n",
      "Reading 0 ... 380847  =      0.000 ...  1487.684 secs...\n"
     ]
    },
    {
     "name": "stderr",
     "output_type": "stream",
     "text": [
      "/opt/anaconda3/envs/hypyp/lib/python3.8/site-packages/neurokit2/ecg/ecg_plot.py:70: NeuroKitWarning: 'info' dict not provided. Some information might be missing. Sampling rate will be set to 1000 Hz.\n",
      "  warn(\n"
     ]
    },
    {
     "name": "stdout",
     "output_type": "stream",
     "text": [
      "Opening raw data file ../../data/mne_raw/sub3-day3-jhana-raw.fif...\n",
      "    Range : 0 ... 385615 =      0.000 ...  1506.309 secs\n",
      "Ready.\n",
      "Reading 0 ... 385615  =      0.000 ...  1506.309 secs...\n"
     ]
    },
    {
     "name": "stderr",
     "output_type": "stream",
     "text": [
      "/opt/anaconda3/envs/hypyp/lib/python3.8/site-packages/neurokit2/ecg/ecg_plot.py:70: NeuroKitWarning: 'info' dict not provided. Some information might be missing. Sampling rate will be set to 1000 Hz.\n",
      "  warn(\n"
     ]
    },
    {
     "name": "stdout",
     "output_type": "stream",
     "text": [
      "Opening raw data file ../../data/mne_raw/sub3-day3-mindfulness-raw.fif...\n",
      "    Range : 512 ... 385975 =      2.000 ...  1507.715 secs\n",
      "Ready.\n",
      "Reading 0 ... 385463  =      0.000 ...  1505.715 secs...\n"
     ]
    },
    {
     "name": "stderr",
     "output_type": "stream",
     "text": [
      "/opt/anaconda3/envs/hypyp/lib/python3.8/site-packages/neurokit2/ecg/ecg_plot.py:70: NeuroKitWarning: 'info' dict not provided. Some information might be missing. Sampling rate will be set to 1000 Hz.\n",
      "  warn(\n"
     ]
    },
    {
     "name": "stdout",
     "output_type": "stream",
     "text": [
      "Opening raw data file ../../data/mne_raw/sub3-day4-jhana-raw.fif...\n",
      "    Range : 0 ... 387911 =      0.000 ...  1515.277 secs\n",
      "Ready.\n",
      "Reading 0 ... 387911  =      0.000 ...  1515.277 secs...\n"
     ]
    },
    {
     "name": "stderr",
     "output_type": "stream",
     "text": [
      "/opt/anaconda3/envs/hypyp/lib/python3.8/site-packages/neurokit2/ecg/ecg_plot.py:70: NeuroKitWarning: 'info' dict not provided. Some information might be missing. Sampling rate will be set to 1000 Hz.\n",
      "  warn(\n"
     ]
    },
    {
     "name": "stdout",
     "output_type": "stream",
     "text": [
      "Opening raw data file ../../data/mne_raw/sub3-day4-mindfulness-raw.fif...\n",
      "    Range : 0 ... 389279 =      0.000 ...  1520.621 secs\n",
      "Ready.\n",
      "Reading 0 ... 389279  =      0.000 ...  1520.621 secs...\n"
     ]
    },
    {
     "name": "stderr",
     "output_type": "stream",
     "text": [
      "/opt/anaconda3/envs/hypyp/lib/python3.8/site-packages/neurokit2/ecg/ecg_plot.py:70: NeuroKitWarning: 'info' dict not provided. Some information might be missing. Sampling rate will be set to 1000 Hz.\n",
      "  warn(\n"
     ]
    },
    {
     "name": "stdout",
     "output_type": "stream",
     "text": [
      "Opening raw data file ../../data/mne_raw/sub4-day1-jhana-raw.fif...\n",
      "    Range : 256 ... 389687 =      1.000 ...  1522.215 secs\n",
      "Ready.\n",
      "Reading 0 ... 389431  =      0.000 ...  1521.215 secs...\n"
     ]
    },
    {
     "name": "stderr",
     "output_type": "stream",
     "text": [
      "/opt/anaconda3/envs/hypyp/lib/python3.8/site-packages/neurokit2/ecg/ecg_plot.py:70: NeuroKitWarning: 'info' dict not provided. Some information might be missing. Sampling rate will be set to 1000 Hz.\n",
      "  warn(\n"
     ]
    },
    {
     "name": "stdout",
     "output_type": "stream",
     "text": [
      "Opening raw data file ../../data/mne_raw/sub4-day1-mindfulness-raw.fif...\n",
      "    Range : 256 ... 384735 =      1.000 ...  1502.871 secs\n",
      "Ready.\n",
      "Reading 0 ... 384479  =      0.000 ...  1501.871 secs...\n"
     ]
    },
    {
     "name": "stderr",
     "output_type": "stream",
     "text": [
      "/opt/anaconda3/envs/hypyp/lib/python3.8/site-packages/neurokit2/ecg/ecg_plot.py:70: NeuroKitWarning: 'info' dict not provided. Some information might be missing. Sampling rate will be set to 1000 Hz.\n",
      "  warn(\n"
     ]
    },
    {
     "name": "stdout",
     "output_type": "stream",
     "text": [
      "Opening raw data file ../../data/mne_raw/sub4-day2-jhana-raw.fif...\n",
      "    Range : 256 ... 391383 =      1.000 ...  1528.840 secs\n",
      "Ready.\n",
      "Reading 0 ... 391127  =      0.000 ...  1527.840 secs...\n"
     ]
    },
    {
     "name": "stderr",
     "output_type": "stream",
     "text": [
      "/opt/anaconda3/envs/hypyp/lib/python3.8/site-packages/neurokit2/ecg/ecg_plot.py:70: NeuroKitWarning: 'info' dict not provided. Some information might be missing. Sampling rate will be set to 1000 Hz.\n",
      "  warn(\n"
     ]
    },
    {
     "name": "stdout",
     "output_type": "stream",
     "text": [
      "Opening raw data file ../../data/mne_raw/sub4-day2-mindfulness-raw.fif...\n",
      "    Range : 256 ... 383615 =      1.000 ...  1498.496 secs\n",
      "Ready.\n",
      "Reading 0 ... 383359  =      0.000 ...  1497.496 secs...\n"
     ]
    },
    {
     "name": "stderr",
     "output_type": "stream",
     "text": [
      "/opt/anaconda3/envs/hypyp/lib/python3.8/site-packages/neurokit2/ecg/ecg_plot.py:70: NeuroKitWarning: 'info' dict not provided. Some information might be missing. Sampling rate will be set to 1000 Hz.\n",
      "  warn(\n"
     ]
    },
    {
     "name": "stdout",
     "output_type": "stream",
     "text": [
      "Opening raw data file ../../data/mne_raw/sub4-day3-jhana-raw.fif...\n",
      "    Range : 0 ... 388911 =      0.000 ...  1519.184 secs\n",
      "Ready.\n",
      "Reading 0 ... 388911  =      0.000 ...  1519.184 secs...\n"
     ]
    },
    {
     "name": "stderr",
     "output_type": "stream",
     "text": [
      "/opt/anaconda3/envs/hypyp/lib/python3.8/site-packages/neurokit2/ecg/ecg_plot.py:70: NeuroKitWarning: 'info' dict not provided. Some information might be missing. Sampling rate will be set to 1000 Hz.\n",
      "  warn(\n"
     ]
    },
    {
     "name": "stdout",
     "output_type": "stream",
     "text": [
      "Opening raw data file ../../data/mne_raw/sub4-day3-mindfulness-raw.fif...\n",
      "    Range : 0 ... 383663 =      0.000 ...  1498.684 secs\n",
      "Ready.\n",
      "Reading 0 ... 383663  =      0.000 ...  1498.684 secs...\n"
     ]
    },
    {
     "name": "stderr",
     "output_type": "stream",
     "text": [
      "/opt/anaconda3/envs/hypyp/lib/python3.8/site-packages/neurokit2/ecg/ecg_plot.py:70: NeuroKitWarning: 'info' dict not provided. Some information might be missing. Sampling rate will be set to 1000 Hz.\n",
      "  warn(\n"
     ]
    },
    {
     "name": "stdout",
     "output_type": "stream",
     "text": [
      "Opening raw data file ../../data/mne_raw/sub4-day4-jhana-raw.fif...\n",
      "    Range : 0 ... 387959 =      0.000 ...  1515.465 secs\n",
      "Ready.\n",
      "Reading 0 ... 387959  =      0.000 ...  1515.465 secs...\n"
     ]
    },
    {
     "name": "stderr",
     "output_type": "stream",
     "text": [
      "/opt/anaconda3/envs/hypyp/lib/python3.8/site-packages/neurokit2/ecg/ecg_plot.py:70: NeuroKitWarning: 'info' dict not provided. Some information might be missing. Sampling rate will be set to 1000 Hz.\n",
      "  warn(\n"
     ]
    },
    {
     "name": "stdout",
     "output_type": "stream",
     "text": [
      "Opening raw data file ../../data/mne_raw/sub4-day4-mindfulness-raw.fif...\n",
      "    Range : 512 ... 385367 =      2.000 ...  1505.340 secs\n",
      "Ready.\n",
      "Reading 0 ... 384855  =      0.000 ...  1503.340 secs...\n"
     ]
    },
    {
     "name": "stderr",
     "output_type": "stream",
     "text": [
      "/opt/anaconda3/envs/hypyp/lib/python3.8/site-packages/neurokit2/ecg/ecg_plot.py:70: NeuroKitWarning: 'info' dict not provided. Some information might be missing. Sampling rate will be set to 1000 Hz.\n",
      "  warn(\n"
     ]
    },
    {
     "name": "stdout",
     "output_type": "stream",
     "text": [
      "Opening raw data file ../../data/mne_raw/sub5-day1-jhana-raw.fif...\n",
      "    Range : 256 ... 389607 =      1.000 ...  1521.902 secs\n",
      "Ready.\n",
      "Reading 0 ... 389351  =      0.000 ...  1520.902 secs...\n"
     ]
    },
    {
     "name": "stderr",
     "output_type": "stream",
     "text": [
      "/opt/anaconda3/envs/hypyp/lib/python3.8/site-packages/neurokit2/ecg/ecg_plot.py:70: NeuroKitWarning: 'info' dict not provided. Some information might be missing. Sampling rate will be set to 1000 Hz.\n",
      "  warn(\n"
     ]
    },
    {
     "name": "stdout",
     "output_type": "stream",
     "text": [
      "Opening raw data file ../../data/mne_raw/sub5-day1-mindfulness-raw.fif...\n",
      "    Range : 256 ... 384687 =      1.000 ...  1502.684 secs\n",
      "Ready.\n",
      "Reading 0 ... 384431  =      0.000 ...  1501.684 secs...\n"
     ]
    },
    {
     "name": "stderr",
     "output_type": "stream",
     "text": [
      "/opt/anaconda3/envs/hypyp/lib/python3.8/site-packages/neurokit2/ecg/ecg_plot.py:70: NeuroKitWarning: 'info' dict not provided. Some information might be missing. Sampling rate will be set to 1000 Hz.\n",
      "  warn(\n"
     ]
    },
    {
     "name": "stdout",
     "output_type": "stream",
     "text": [
      "Opening raw data file ../../data/mne_raw/sub5-day2-jhana-raw.fif...\n",
      "    Range : 512 ... 391135 =      2.000 ...  1527.871 secs\n",
      "Ready.\n",
      "Reading 0 ... 390623  =      0.000 ...  1525.871 secs...\n"
     ]
    },
    {
     "name": "stderr",
     "output_type": "stream",
     "text": [
      "/opt/anaconda3/envs/hypyp/lib/python3.8/site-packages/neurokit2/ecg/ecg_plot.py:70: NeuroKitWarning: 'info' dict not provided. Some information might be missing. Sampling rate will be set to 1000 Hz.\n",
      "  warn(\n"
     ]
    },
    {
     "name": "stdout",
     "output_type": "stream",
     "text": [
      "Opening raw data file ../../data/mne_raw/sub5-day2-mindfulness-raw.fif...\n",
      "    Range : 256 ... 385007 =      1.000 ...  1503.934 secs\n",
      "Ready.\n",
      "Reading 0 ... 384751  =      0.000 ...  1502.934 secs...\n"
     ]
    },
    {
     "name": "stderr",
     "output_type": "stream",
     "text": [
      "/opt/anaconda3/envs/hypyp/lib/python3.8/site-packages/neurokit2/ecg/ecg_plot.py:70: NeuroKitWarning: 'info' dict not provided. Some information might be missing. Sampling rate will be set to 1000 Hz.\n",
      "  warn(\n"
     ]
    },
    {
     "name": "stdout",
     "output_type": "stream",
     "text": [
      "Opening raw data file ../../data/mne_raw/sub5-day3-jhana-raw.fif...\n",
      "    Range : 0 ... 389415 =      0.000 ...  1521.152 secs\n",
      "Ready.\n",
      "Reading 0 ... 389415  =      0.000 ...  1521.152 secs...\n"
     ]
    },
    {
     "name": "stderr",
     "output_type": "stream",
     "text": [
      "/opt/anaconda3/envs/hypyp/lib/python3.8/site-packages/neurokit2/ecg/ecg_plot.py:70: NeuroKitWarning: 'info' dict not provided. Some information might be missing. Sampling rate will be set to 1000 Hz.\n",
      "  warn(\n"
     ]
    },
    {
     "name": "stdout",
     "output_type": "stream",
     "text": [
      "Opening raw data file ../../data/mne_raw/sub5-day3-mindfulness-raw.fif...\n",
      "    Range : 512 ... 385935 =      2.000 ...  1507.559 secs\n",
      "Ready.\n",
      "Reading 0 ... 385423  =      0.000 ...  1505.559 secs...\n"
     ]
    },
    {
     "name": "stderr",
     "output_type": "stream",
     "text": [
      "/opt/anaconda3/envs/hypyp/lib/python3.8/site-packages/neurokit2/ecg/ecg_plot.py:70: NeuroKitWarning: 'info' dict not provided. Some information might be missing. Sampling rate will be set to 1000 Hz.\n",
      "  warn(\n"
     ]
    },
    {
     "name": "stdout",
     "output_type": "stream",
     "text": [
      "Opening raw data file ../../data/mne_raw/sub5-day4-jhana-raw.fif...\n",
      "    Range : 0 ... 388079 =      0.000 ...  1515.934 secs\n",
      "Ready.\n",
      "Reading 0 ... 388079  =      0.000 ...  1515.934 secs...\n"
     ]
    },
    {
     "name": "stderr",
     "output_type": "stream",
     "text": [
      "/opt/anaconda3/envs/hypyp/lib/python3.8/site-packages/neurokit2/ecg/ecg_plot.py:70: NeuroKitWarning: 'info' dict not provided. Some information might be missing. Sampling rate will be set to 1000 Hz.\n",
      "  warn(\n"
     ]
    },
    {
     "name": "stdout",
     "output_type": "stream",
     "text": [
      "Opening raw data file ../../data/mne_raw/sub5-day4-mindfulness-raw.fif...\n",
      "    Range : 256 ... 381687 =      1.000 ...  1490.965 secs\n",
      "Ready.\n",
      "Reading 0 ... 381431  =      0.000 ...  1489.965 secs...\n"
     ]
    },
    {
     "name": "stderr",
     "output_type": "stream",
     "text": [
      "/opt/anaconda3/envs/hypyp/lib/python3.8/site-packages/neurokit2/ecg/ecg_plot.py:70: NeuroKitWarning: 'info' dict not provided. Some information might be missing. Sampling rate will be set to 1000 Hz.\n",
      "  warn(\n"
     ]
    },
    {
     "name": "stdout",
     "output_type": "stream",
     "text": [
      "Opening raw data file ../../data/mne_raw/sub6-day1-jhana-raw.fif...\n",
      "    Range : 256 ... 383407 =      1.000 ...  1497.684 secs\n",
      "Ready.\n",
      "Reading 0 ... 383151  =      0.000 ...  1496.684 secs...\n"
     ]
    },
    {
     "name": "stderr",
     "output_type": "stream",
     "text": [
      "/opt/anaconda3/envs/hypyp/lib/python3.8/site-packages/neurokit2/ecg/ecg_plot.py:70: NeuroKitWarning: 'info' dict not provided. Some information might be missing. Sampling rate will be set to 1000 Hz.\n",
      "  warn(\n"
     ]
    },
    {
     "name": "stdout",
     "output_type": "stream",
     "text": [
      "Opening raw data file ../../data/mne_raw/sub6-day1-mindfulness-raw.fif...\n",
      "    Range : 512 ... 391023 =      2.000 ...  1527.434 secs\n",
      "Ready.\n",
      "Reading 0 ... 390511  =      0.000 ...  1525.434 secs...\n"
     ]
    },
    {
     "name": "stderr",
     "output_type": "stream",
     "text": [
      "/opt/anaconda3/envs/hypyp/lib/python3.8/site-packages/neurokit2/ecg/ecg_plot.py:70: NeuroKitWarning: 'info' dict not provided. Some information might be missing. Sampling rate will be set to 1000 Hz.\n",
      "  warn(\n"
     ]
    },
    {
     "name": "stdout",
     "output_type": "stream",
     "text": [
      "Opening raw data file ../../data/mne_raw/sub6-day2-jhana-raw.fif...\n",
      "    Range : 512 ... 379575 =      2.000 ...  1482.715 secs\n",
      "Ready.\n",
      "Reading 0 ... 379063  =      0.000 ...  1480.715 secs...\n"
     ]
    },
    {
     "name": "stderr",
     "output_type": "stream",
     "text": [
      "/opt/anaconda3/envs/hypyp/lib/python3.8/site-packages/neurokit2/ecg/ecg_plot.py:70: NeuroKitWarning: 'info' dict not provided. Some information might be missing. Sampling rate will be set to 1000 Hz.\n",
      "  warn(\n"
     ]
    },
    {
     "name": "stdout",
     "output_type": "stream",
     "text": [
      "Opening raw data file ../../data/mne_raw/sub6-day2-mindfulness-raw.fif...\n",
      "    Range : 0 ... 366439 =      0.000 ...  1431.402 secs\n",
      "Ready.\n",
      "Reading 0 ... 366439  =      0.000 ...  1431.402 secs...\n"
     ]
    },
    {
     "name": "stderr",
     "output_type": "stream",
     "text": [
      "/opt/anaconda3/envs/hypyp/lib/python3.8/site-packages/neurokit2/ecg/ecg_plot.py:70: NeuroKitWarning: 'info' dict not provided. Some information might be missing. Sampling rate will be set to 1000 Hz.\n",
      "  warn(\n"
     ]
    },
    {
     "name": "stdout",
     "output_type": "stream",
     "text": [
      "Opening raw data file ../../data/mne_raw/sub6-day3-jhana-raw.fif...\n",
      "    Range : 0 ... 400711 =      0.000 ...  1565.277 secs\n",
      "Ready.\n",
      "Reading 0 ... 400711  =      0.000 ...  1565.277 secs...\n"
     ]
    },
    {
     "name": "stderr",
     "output_type": "stream",
     "text": [
      "/opt/anaconda3/envs/hypyp/lib/python3.8/site-packages/neurokit2/ecg/ecg_plot.py:70: NeuroKitWarning: 'info' dict not provided. Some information might be missing. Sampling rate will be set to 1000 Hz.\n",
      "  warn(\n"
     ]
    },
    {
     "name": "stdout",
     "output_type": "stream",
     "text": [
      "Opening raw data file ../../data/mne_raw/sub6-day3-mindfulness-raw.fif...\n",
      "    Range : 0 ... 386367 =      0.000 ...  1509.246 secs\n",
      "Ready.\n",
      "Reading 0 ... 386367  =      0.000 ...  1509.246 secs...\n"
     ]
    },
    {
     "name": "stderr",
     "output_type": "stream",
     "text": [
      "/opt/anaconda3/envs/hypyp/lib/python3.8/site-packages/neurokit2/ecg/ecg_plot.py:70: NeuroKitWarning: 'info' dict not provided. Some information might be missing. Sampling rate will be set to 1000 Hz.\n",
      "  warn(\n"
     ]
    },
    {
     "name": "stdout",
     "output_type": "stream",
     "text": [
      "Opening raw data file ../../data/mne_raw/sub6-day4-jhana-raw.fif...\n",
      "    Range : 0 ... 384343 =      0.000 ...  1501.340 secs\n",
      "Ready.\n",
      "Reading 0 ... 384343  =      0.000 ...  1501.340 secs...\n"
     ]
    },
    {
     "name": "stderr",
     "output_type": "stream",
     "text": [
      "/opt/anaconda3/envs/hypyp/lib/python3.8/site-packages/neurokit2/ecg/ecg_plot.py:70: NeuroKitWarning: 'info' dict not provided. Some information might be missing. Sampling rate will be set to 1000 Hz.\n",
      "  warn(\n"
     ]
    },
    {
     "name": "stdout",
     "output_type": "stream",
     "text": [
      "Opening raw data file ../../data/mne_raw/sub6-day4-mindfulness-raw.fif...\n",
      "    Range : 512 ... 389415 =      2.000 ...  1521.152 secs\n",
      "Ready.\n",
      "Reading 0 ... 388903  =      0.000 ...  1519.152 secs...\n"
     ]
    },
    {
     "name": "stderr",
     "output_type": "stream",
     "text": [
      "/opt/anaconda3/envs/hypyp/lib/python3.8/site-packages/neurokit2/ecg/ecg_plot.py:70: NeuroKitWarning: 'info' dict not provided. Some information might be missing. Sampling rate will be set to 1000 Hz.\n",
      "  warn(\n"
     ]
    },
    {
     "name": "stdout",
     "output_type": "stream",
     "text": [
      "Opening raw data file ../../data/mne_raw/sub7-day1-jhana-raw.fif...\n",
      "    Range : 256 ... 382855 =      1.000 ...  1495.527 secs\n",
      "Ready.\n",
      "Reading 0 ... 382599  =      0.000 ...  1494.527 secs...\n"
     ]
    },
    {
     "name": "stderr",
     "output_type": "stream",
     "text": [
      "/opt/anaconda3/envs/hypyp/lib/python3.8/site-packages/neurokit2/ecg/ecg_plot.py:70: NeuroKitWarning: 'info' dict not provided. Some information might be missing. Sampling rate will be set to 1000 Hz.\n",
      "  warn(\n"
     ]
    },
    {
     "name": "stdout",
     "output_type": "stream",
     "text": [
      "Opening raw data file ../../data/mne_raw/sub7-day1-mindfulness-raw.fif...\n",
      "    Range : 256 ... 390671 =      1.000 ...  1526.059 secs\n",
      "Ready.\n",
      "Reading 0 ... 390415  =      0.000 ...  1525.059 secs...\n"
     ]
    },
    {
     "name": "stderr",
     "output_type": "stream",
     "text": [
      "/opt/anaconda3/envs/hypyp/lib/python3.8/site-packages/neurokit2/ecg/ecg_plot.py:70: NeuroKitWarning: 'info' dict not provided. Some information might be missing. Sampling rate will be set to 1000 Hz.\n",
      "  warn(\n"
     ]
    },
    {
     "name": "stdout",
     "output_type": "stream",
     "text": [
      "Opening raw data file ../../data/mne_raw/sub7-day2-jhana-raw.fif...\n",
      "    Range : 256 ... 390495 =      1.000 ...  1525.371 secs\n",
      "Ready.\n",
      "Reading 0 ... 390239  =      0.000 ...  1524.371 secs...\n"
     ]
    },
    {
     "name": "stderr",
     "output_type": "stream",
     "text": [
      "/opt/anaconda3/envs/hypyp/lib/python3.8/site-packages/neurokit2/ecg/ecg_plot.py:70: NeuroKitWarning: 'info' dict not provided. Some information might be missing. Sampling rate will be set to 1000 Hz.\n",
      "  warn(\n"
     ]
    },
    {
     "name": "stdout",
     "output_type": "stream",
     "text": [
      "Opening raw data file ../../data/mne_raw/sub7-day2-mindfulness-raw.fif...\n",
      "    Range : 0 ... 364015 =      0.000 ...  1421.934 secs\n",
      "Ready.\n",
      "Reading 0 ... 364015  =      0.000 ...  1421.934 secs...\n"
     ]
    },
    {
     "name": "stderr",
     "output_type": "stream",
     "text": [
      "/opt/anaconda3/envs/hypyp/lib/python3.8/site-packages/neurokit2/ecg/ecg_plot.py:70: NeuroKitWarning: 'info' dict not provided. Some information might be missing. Sampling rate will be set to 1000 Hz.\n",
      "  warn(\n"
     ]
    },
    {
     "name": "stdout",
     "output_type": "stream",
     "text": [
      "Opening raw data file ../../data/mne_raw/sub7-day3-jhana-raw.fif...\n",
      "    Range : 0 ... 398495 =      0.000 ...  1556.621 secs\n",
      "Ready.\n",
      "Reading 0 ... 398495  =      0.000 ...  1556.621 secs...\n"
     ]
    },
    {
     "name": "stderr",
     "output_type": "stream",
     "text": [
      "/opt/anaconda3/envs/hypyp/lib/python3.8/site-packages/neurokit2/ecg/ecg_plot.py:70: NeuroKitWarning: 'info' dict not provided. Some information might be missing. Sampling rate will be set to 1000 Hz.\n",
      "  warn(\n"
     ]
    },
    {
     "name": "stdout",
     "output_type": "stream",
     "text": [
      "Opening raw data file ../../data/mne_raw/sub7-day3-mindfulness-raw.fif...\n",
      "    Range : 0 ... 384215 =      0.000 ...  1500.840 secs\n",
      "Ready.\n",
      "Reading 0 ... 384215  =      0.000 ...  1500.840 secs...\n"
     ]
    },
    {
     "name": "stderr",
     "output_type": "stream",
     "text": [
      "/opt/anaconda3/envs/hypyp/lib/python3.8/site-packages/neurokit2/ecg/ecg_plot.py:70: NeuroKitWarning: 'info' dict not provided. Some information might be missing. Sampling rate will be set to 1000 Hz.\n",
      "  warn(\n"
     ]
    },
    {
     "name": "stdout",
     "output_type": "stream",
     "text": [
      "Opening raw data file ../../data/mne_raw/sub7-day4-jhana-raw.fif...\n",
      "    Range : 0 ... 384439 =      0.000 ...  1501.715 secs\n",
      "Ready.\n",
      "Reading 0 ... 384439  =      0.000 ...  1501.715 secs...\n"
     ]
    },
    {
     "name": "stderr",
     "output_type": "stream",
     "text": [
      "/opt/anaconda3/envs/hypyp/lib/python3.8/site-packages/neurokit2/ecg/ecg_plot.py:70: NeuroKitWarning: 'info' dict not provided. Some information might be missing. Sampling rate will be set to 1000 Hz.\n",
      "  warn(\n"
     ]
    },
    {
     "name": "stdout",
     "output_type": "stream",
     "text": [
      "Opening raw data file ../../data/mne_raw/sub7-day4-mindfulness-raw.fif...\n",
      "    Range : 0 ... 388983 =      0.000 ...  1519.465 secs\n",
      "Ready.\n",
      "Reading 0 ... 388983  =      0.000 ...  1519.465 secs...\n"
     ]
    },
    {
     "name": "stderr",
     "output_type": "stream",
     "text": [
      "/opt/anaconda3/envs/hypyp/lib/python3.8/site-packages/neurokit2/ecg/ecg_plot.py:70: NeuroKitWarning: 'info' dict not provided. Some information might be missing. Sampling rate will be set to 1000 Hz.\n",
      "  warn(\n"
     ]
    },
    {
     "name": "stdout",
     "output_type": "stream",
     "text": [
      "Opening raw data file ../../data/mne_raw/sub8-day1-jhana-raw.fif...\n",
      "    Range : 512 ... 386495 =      2.000 ...  1509.746 secs\n",
      "Ready.\n",
      "Reading 0 ... 385983  =      0.000 ...  1507.746 secs...\n"
     ]
    },
    {
     "name": "stderr",
     "output_type": "stream",
     "text": [
      "/opt/anaconda3/envs/hypyp/lib/python3.8/site-packages/neurokit2/ecg/ecg_plot.py:70: NeuroKitWarning: 'info' dict not provided. Some information might be missing. Sampling rate will be set to 1000 Hz.\n",
      "  warn(\n"
     ]
    },
    {
     "name": "stdout",
     "output_type": "stream",
     "text": [
      "Opening raw data file ../../data/mne_raw/sub8-day1-mindfulness-raw.fif...\n",
      "    Range : 512 ... 384199 =      2.000 ...  1500.777 secs\n",
      "Ready.\n",
      "Reading 0 ... 383687  =      0.000 ...  1498.777 secs...\n"
     ]
    },
    {
     "name": "stderr",
     "output_type": "stream",
     "text": [
      "/opt/anaconda3/envs/hypyp/lib/python3.8/site-packages/neurokit2/ecg/ecg_plot.py:70: NeuroKitWarning: 'info' dict not provided. Some information might be missing. Sampling rate will be set to 1000 Hz.\n",
      "  warn(\n"
     ]
    },
    {
     "name": "stdout",
     "output_type": "stream",
     "text": [
      "Opening raw data file ../../data/mne_raw/sub8-day2-jhana-raw.fif...\n",
      "    Range : 512 ... 391847 =      2.000 ...  1530.652 secs\n",
      "Ready.\n",
      "Reading 0 ... 391335  =      0.000 ...  1528.652 secs...\n"
     ]
    },
    {
     "name": "stderr",
     "output_type": "stream",
     "text": [
      "/opt/anaconda3/envs/hypyp/lib/python3.8/site-packages/neurokit2/ecg/ecg_plot.py:70: NeuroKitWarning: 'info' dict not provided. Some information might be missing. Sampling rate will be set to 1000 Hz.\n",
      "  warn(\n"
     ]
    },
    {
     "name": "stdout",
     "output_type": "stream",
     "text": [
      "Opening raw data file ../../data/mne_raw/sub8-day2-mindfulness-raw.fif...\n",
      "    Range : 256 ... 386039 =      1.000 ...  1507.965 secs\n",
      "Ready.\n",
      "Reading 0 ... 385783  =      0.000 ...  1506.965 secs...\n"
     ]
    },
    {
     "name": "stderr",
     "output_type": "stream",
     "text": [
      "/opt/anaconda3/envs/hypyp/lib/python3.8/site-packages/neurokit2/ecg/ecg_plot.py:70: NeuroKitWarning: 'info' dict not provided. Some information might be missing. Sampling rate will be set to 1000 Hz.\n",
      "  warn(\n"
     ]
    },
    {
     "name": "stdout",
     "output_type": "stream",
     "text": [
      "Opening raw data file ../../data/mne_raw/sub8-day3-jhana-raw.fif...\n",
      "    Range : 0 ... 391455 =      0.000 ...  1529.121 secs\n",
      "Ready.\n",
      "Reading 0 ... 391455  =      0.000 ...  1529.121 secs...\n"
     ]
    },
    {
     "name": "stderr",
     "output_type": "stream",
     "text": [
      "/opt/anaconda3/envs/hypyp/lib/python3.8/site-packages/neurokit2/ecg/ecg_plot.py:70: NeuroKitWarning: 'info' dict not provided. Some information might be missing. Sampling rate will be set to 1000 Hz.\n",
      "  warn(\n"
     ]
    },
    {
     "name": "stdout",
     "output_type": "stream",
     "text": [
      "Opening raw data file ../../data/mne_raw/sub8-day3-mindfulness-raw.fif...\n",
      "    Range : 0 ... 390839 =      0.000 ...  1526.715 secs\n",
      "Ready.\n",
      "Reading 0 ... 390839  =      0.000 ...  1526.715 secs...\n"
     ]
    },
    {
     "name": "stderr",
     "output_type": "stream",
     "text": [
      "/opt/anaconda3/envs/hypyp/lib/python3.8/site-packages/neurokit2/ecg/ecg_plot.py:70: NeuroKitWarning: 'info' dict not provided. Some information might be missing. Sampling rate will be set to 1000 Hz.\n",
      "  warn(\n"
     ]
    },
    {
     "name": "stdout",
     "output_type": "stream",
     "text": [
      "Opening raw data file ../../data/mne_raw/sub8-day4-jhana-raw.fif...\n",
      "    Range : 0 ... 386487 =      0.000 ...  1509.715 secs\n",
      "Ready.\n",
      "Reading 0 ... 386487  =      0.000 ...  1509.715 secs...\n"
     ]
    },
    {
     "name": "stderr",
     "output_type": "stream",
     "text": [
      "/opt/anaconda3/envs/hypyp/lib/python3.8/site-packages/neurokit2/ecg/ecg_plot.py:70: NeuroKitWarning: 'info' dict not provided. Some information might be missing. Sampling rate will be set to 1000 Hz.\n",
      "  warn(\n"
     ]
    },
    {
     "name": "stdout",
     "output_type": "stream",
     "text": [
      "Opening raw data file ../../data/mne_raw/sub8-day4-mindfulness-raw.fif...\n",
      "    Range : 256 ... 390023 =      1.000 ...  1523.527 secs\n",
      "Ready.\n",
      "Reading 0 ... 389767  =      0.000 ...  1522.527 secs...\n"
     ]
    },
    {
     "name": "stderr",
     "output_type": "stream",
     "text": [
      "/opt/anaconda3/envs/hypyp/lib/python3.8/site-packages/neurokit2/ecg/ecg_plot.py:70: NeuroKitWarning: 'info' dict not provided. Some information might be missing. Sampling rate will be set to 1000 Hz.\n",
      "  warn(\n"
     ]
    },
    {
     "name": "stdout",
     "output_type": "stream",
     "text": [
      "Opening raw data file ../../data/mne_raw/sub9-day1-jhana-raw.fif...\n",
      "    Range : 256 ... 385487 =      1.000 ...  1505.809 secs\n",
      "Ready.\n",
      "Reading 0 ... 385231  =      0.000 ...  1504.809 secs...\n"
     ]
    },
    {
     "name": "stderr",
     "output_type": "stream",
     "text": [
      "/opt/anaconda3/envs/hypyp/lib/python3.8/site-packages/neurokit2/ecg/ecg_plot.py:70: NeuroKitWarning: 'info' dict not provided. Some information might be missing. Sampling rate will be set to 1000 Hz.\n",
      "  warn(\n"
     ]
    },
    {
     "name": "stdout",
     "output_type": "stream",
     "text": [
      "Opening raw data file ../../data/mne_raw/sub9-day1-mindfulness-raw.fif...\n",
      "    Range : 512 ... 385703 =      2.000 ...  1506.652 secs\n",
      "Ready.\n",
      "Reading 0 ... 385191  =      0.000 ...  1504.652 secs...\n"
     ]
    },
    {
     "name": "stderr",
     "output_type": "stream",
     "text": [
      "/opt/anaconda3/envs/hypyp/lib/python3.8/site-packages/neurokit2/ecg/ecg_plot.py:70: NeuroKitWarning: 'info' dict not provided. Some information might be missing. Sampling rate will be set to 1000 Hz.\n",
      "  warn(\n"
     ]
    },
    {
     "name": "stdout",
     "output_type": "stream",
     "text": [
      "Opening raw data file ../../data/mne_raw/sub9-day2-jhana-raw.fif...\n",
      "    Range : 256 ... 388727 =      1.000 ...  1518.465 secs\n",
      "Ready.\n",
      "Reading 0 ... 388471  =      0.000 ...  1517.465 secs...\n"
     ]
    },
    {
     "name": "stderr",
     "output_type": "stream",
     "text": [
      "/opt/anaconda3/envs/hypyp/lib/python3.8/site-packages/neurokit2/ecg/ecg_plot.py:70: NeuroKitWarning: 'info' dict not provided. Some information might be missing. Sampling rate will be set to 1000 Hz.\n",
      "  warn(\n"
     ]
    },
    {
     "name": "stdout",
     "output_type": "stream",
     "text": [
      "Opening raw data file ../../data/mne_raw/sub9-day2-mindfulness-raw.fif...\n",
      "    Range : 256 ... 384303 =      1.000 ...  1501.184 secs\n",
      "Ready.\n",
      "Reading 0 ... 384047  =      0.000 ...  1500.184 secs...\n"
     ]
    },
    {
     "name": "stderr",
     "output_type": "stream",
     "text": [
      "/opt/anaconda3/envs/hypyp/lib/python3.8/site-packages/neurokit2/ecg/ecg_plot.py:70: NeuroKitWarning: 'info' dict not provided. Some information might be missing. Sampling rate will be set to 1000 Hz.\n",
      "  warn(\n"
     ]
    },
    {
     "name": "stdout",
     "output_type": "stream",
     "text": [
      "Opening raw data file ../../data/mne_raw/sub9-day3-jhana-raw.fif...\n",
      "    Range : 0 ... 389727 =      0.000 ...  1522.371 secs\n",
      "Ready.\n",
      "Reading 0 ... 389727  =      0.000 ...  1522.371 secs...\n"
     ]
    },
    {
     "name": "stderr",
     "output_type": "stream",
     "text": [
      "/opt/anaconda3/envs/hypyp/lib/python3.8/site-packages/neurokit2/ecg/ecg_plot.py:70: NeuroKitWarning: 'info' dict not provided. Some information might be missing. Sampling rate will be set to 1000 Hz.\n",
      "  warn(\n"
     ]
    },
    {
     "name": "stdout",
     "output_type": "stream",
     "text": [
      "Opening raw data file ../../data/mne_raw/sub9-day3-mindfulness-raw.fif...\n",
      "    Range : 0 ... 387631 =      0.000 ...  1514.184 secs\n",
      "Ready.\n",
      "Reading 0 ... 387631  =      0.000 ...  1514.184 secs...\n"
     ]
    },
    {
     "name": "stderr",
     "output_type": "stream",
     "text": [
      "/opt/anaconda3/envs/hypyp/lib/python3.8/site-packages/neurokit2/ecg/ecg_plot.py:70: NeuroKitWarning: 'info' dict not provided. Some information might be missing. Sampling rate will be set to 1000 Hz.\n",
      "  warn(\n"
     ]
    },
    {
     "name": "stdout",
     "output_type": "stream",
     "text": [
      "Opening raw data file ../../data/mne_raw/sub9-day4-jhana-raw.fif...\n",
      "    Range : 0 ... 388111 =      0.000 ...  1516.059 secs\n",
      "Ready.\n",
      "Reading 0 ... 388111  =      0.000 ...  1516.059 secs...\n"
     ]
    },
    {
     "name": "stderr",
     "output_type": "stream",
     "text": [
      "/opt/anaconda3/envs/hypyp/lib/python3.8/site-packages/neurokit2/ecg/ecg_plot.py:70: NeuroKitWarning: 'info' dict not provided. Some information might be missing. Sampling rate will be set to 1000 Hz.\n",
      "  warn(\n"
     ]
    },
    {
     "name": "stdout",
     "output_type": "stream",
     "text": [
      "Opening raw data file ../../data/mne_raw/sub9-day4-mindfulness-raw.fif...\n",
      "    Range : 256 ... 390039 =      1.000 ...  1523.590 secs\n",
      "Ready.\n",
      "Reading 0 ... 389783  =      0.000 ...  1522.590 secs...\n"
     ]
    },
    {
     "name": "stderr",
     "output_type": "stream",
     "text": [
      "/opt/anaconda3/envs/hypyp/lib/python3.8/site-packages/neurokit2/ecg/ecg_plot.py:70: NeuroKitWarning: 'info' dict not provided. Some information might be missing. Sampling rate will be set to 1000 Hz.\n",
      "  warn(\n"
     ]
    },
    {
     "name": "stdout",
     "output_type": "stream",
     "text": [
      "Opening raw data file ../../data/mne_raw/sub0-control-mindfulness-raw.fif...\n",
      "    Range : 256 ... 385255 =      1.000 ...  1504.902 secs\n",
      "Ready.\n",
      "Reading 0 ... 384999  =      0.000 ...  1503.902 secs...\n"
     ]
    },
    {
     "name": "stderr",
     "output_type": "stream",
     "text": [
      "/opt/anaconda3/envs/hypyp/lib/python3.8/site-packages/neurokit2/ecg/ecg_plot.py:70: NeuroKitWarning: 'info' dict not provided. Some information might be missing. Sampling rate will be set to 1000 Hz.\n",
      "  warn(\n"
     ]
    },
    {
     "name": "stdout",
     "output_type": "stream",
     "text": [
      "Opening raw data file ../../data/mne_raw/sub1-control-mindfulness-raw.fif...\n",
      "    Range : 256 ... 386047 =      1.000 ...  1507.996 secs\n",
      "Ready.\n",
      "Reading 0 ... 385791  =      0.000 ...  1506.996 secs...\n"
     ]
    },
    {
     "name": "stderr",
     "output_type": "stream",
     "text": [
      "/opt/anaconda3/envs/hypyp/lib/python3.8/site-packages/neurokit2/ecg/ecg_plot.py:70: NeuroKitWarning: 'info' dict not provided. Some information might be missing. Sampling rate will be set to 1000 Hz.\n",
      "  warn(\n"
     ]
    },
    {
     "name": "stdout",
     "output_type": "stream",
     "text": [
      "Opening raw data file ../../data/mne_raw/sub10-control-mindfulness-raw.fif...\n",
      "    Range : 512 ... 402263 =      2.000 ...  1571.340 secs\n",
      "Ready.\n",
      "Reading 0 ... 401751  =      0.000 ...  1569.340 secs...\n"
     ]
    },
    {
     "name": "stderr",
     "output_type": "stream",
     "text": [
      "/opt/anaconda3/envs/hypyp/lib/python3.8/site-packages/neurokit2/ecg/ecg_plot.py:70: NeuroKitWarning: 'info' dict not provided. Some information might be missing. Sampling rate will be set to 1000 Hz.\n",
      "  warn(\n"
     ]
    },
    {
     "name": "stdout",
     "output_type": "stream",
     "text": [
      "Opening raw data file ../../data/mne_raw/sub11-control-mindfulness-raw.fif...\n",
      "    Range : 256 ... 391863 =      1.000 ...  1530.715 secs\n",
      "Ready.\n",
      "Reading 0 ... 391607  =      0.000 ...  1529.715 secs...\n"
     ]
    },
    {
     "name": "stderr",
     "output_type": "stream",
     "text": [
      "/opt/anaconda3/envs/hypyp/lib/python3.8/site-packages/neurokit2/ecg/ecg_plot.py:70: NeuroKitWarning: 'info' dict not provided. Some information might be missing. Sampling rate will be set to 1000 Hz.\n",
      "  warn(\n"
     ]
    },
    {
     "name": "stdout",
     "output_type": "stream",
     "text": [
      "Opening raw data file ../../data/mne_raw/sub12-control-mindfulness-raw.fif...\n",
      "    Range : 0 ... 390631 =      0.000 ...  1525.902 secs\n",
      "Ready.\n",
      "Reading 0 ... 390631  =      0.000 ...  1525.902 secs...\n"
     ]
    },
    {
     "name": "stderr",
     "output_type": "stream",
     "text": [
      "/opt/anaconda3/envs/hypyp/lib/python3.8/site-packages/neurokit2/ecg/ecg_plot.py:70: NeuroKitWarning: 'info' dict not provided. Some information might be missing. Sampling rate will be set to 1000 Hz.\n",
      "  warn(\n"
     ]
    },
    {
     "name": "stdout",
     "output_type": "stream",
     "text": [
      "Opening raw data file ../../data/mne_raw/sub2-control-mindfulness-raw.fif...\n",
      "    Range : 512 ... 386039 =      2.000 ...  1507.965 secs\n",
      "Ready.\n",
      "Reading 0 ... 385527  =      0.000 ...  1505.965 secs...\n"
     ]
    },
    {
     "name": "stderr",
     "output_type": "stream",
     "text": [
      "/opt/anaconda3/envs/hypyp/lib/python3.8/site-packages/neurokit2/ecg/ecg_plot.py:70: NeuroKitWarning: 'info' dict not provided. Some information might be missing. Sampling rate will be set to 1000 Hz.\n",
      "  warn(\n"
     ]
    },
    {
     "name": "stdout",
     "output_type": "stream",
     "text": [
      "Opening raw data file ../../data/mne_raw/sub3-control-mindfulness-raw.fif...\n",
      "    Range : 256 ... 408359 =      1.000 ...  1595.152 secs\n",
      "Ready.\n",
      "Reading 0 ... 408103  =      0.000 ...  1594.152 secs...\n"
     ]
    },
    {
     "name": "stderr",
     "output_type": "stream",
     "text": [
      "/opt/anaconda3/envs/hypyp/lib/python3.8/site-packages/neurokit2/ecg/ecg_plot.py:70: NeuroKitWarning: 'info' dict not provided. Some information might be missing. Sampling rate will be set to 1000 Hz.\n",
      "  warn(\n"
     ]
    },
    {
     "name": "stdout",
     "output_type": "stream",
     "text": [
      "Opening raw data file ../../data/mne_raw/sub4-control-mindfulness-raw.fif...\n",
      "    Range : 256 ... 408111 =      1.000 ...  1594.184 secs\n",
      "Ready.\n",
      "Reading 0 ... 407855  =      0.000 ...  1593.184 secs...\n"
     ]
    },
    {
     "name": "stderr",
     "output_type": "stream",
     "text": [
      "/opt/anaconda3/envs/hypyp/lib/python3.8/site-packages/neurokit2/ecg/ecg_plot.py:70: NeuroKitWarning: 'info' dict not provided. Some information might be missing. Sampling rate will be set to 1000 Hz.\n",
      "  warn(\n"
     ]
    },
    {
     "name": "stdout",
     "output_type": "stream",
     "text": [
      "Opening raw data file ../../data/mne_raw/sub5-control-mindfulness-raw.fif...\n",
      "    Range : 512 ... 396031 =      2.000 ...  1546.996 secs\n",
      "Ready.\n",
      "Reading 0 ... 395519  =      0.000 ...  1544.996 secs...\n"
     ]
    },
    {
     "name": "stderr",
     "output_type": "stream",
     "text": [
      "/opt/anaconda3/envs/hypyp/lib/python3.8/site-packages/neurokit2/ecg/ecg_plot.py:70: NeuroKitWarning: 'info' dict not provided. Some information might be missing. Sampling rate will be set to 1000 Hz.\n",
      "  warn(\n"
     ]
    },
    {
     "name": "stdout",
     "output_type": "stream",
     "text": [
      "Opening raw data file ../../data/mne_raw/sub6-control-mindfulness-raw.fif...\n",
      "    Range : 512 ... 395631 =      2.000 ...  1545.434 secs\n",
      "Ready.\n",
      "Reading 0 ... 395119  =      0.000 ...  1543.434 secs...\n"
     ]
    },
    {
     "name": "stderr",
     "output_type": "stream",
     "text": [
      "/opt/anaconda3/envs/hypyp/lib/python3.8/site-packages/neurokit2/ecg/ecg_plot.py:70: NeuroKitWarning: 'info' dict not provided. Some information might be missing. Sampling rate will be set to 1000 Hz.\n",
      "  warn(\n"
     ]
    },
    {
     "name": "stdout",
     "output_type": "stream",
     "text": [
      "Opening raw data file ../../data/mne_raw/sub7-control-mindfulness-raw.fif...\n",
      "    Range : 256 ... 386871 =      1.000 ...  1511.215 secs\n",
      "Ready.\n",
      "Reading 0 ... 386615  =      0.000 ...  1510.215 secs...\n"
     ]
    },
    {
     "name": "stderr",
     "output_type": "stream",
     "text": [
      "/opt/anaconda3/envs/hypyp/lib/python3.8/site-packages/neurokit2/ecg/ecg_plot.py:70: NeuroKitWarning: 'info' dict not provided. Some information might be missing. Sampling rate will be set to 1000 Hz.\n",
      "  warn(\n"
     ]
    },
    {
     "name": "stdout",
     "output_type": "stream",
     "text": [
      "Opening raw data file ../../data/mne_raw/sub8-control-mindfulness-raw.fif...\n",
      "    Range : 512 ... 386863 =      2.000 ...  1511.184 secs\n",
      "Ready.\n",
      "Reading 0 ... 386351  =      0.000 ...  1509.184 secs...\n"
     ]
    },
    {
     "name": "stderr",
     "output_type": "stream",
     "text": [
      "/opt/anaconda3/envs/hypyp/lib/python3.8/site-packages/neurokit2/ecg/ecg_plot.py:70: NeuroKitWarning: 'info' dict not provided. Some information might be missing. Sampling rate will be set to 1000 Hz.\n",
      "  warn(\n"
     ]
    },
    {
     "name": "stdout",
     "output_type": "stream",
     "text": [
      "Opening raw data file ../../data/mne_raw/sub9-control-mindfulness-raw.fif...\n",
      "    Range : 512 ... 402463 =      2.000 ...  1572.121 secs\n",
      "Ready.\n",
      "Reading 0 ... 401951  =      0.000 ...  1570.121 secs...\n"
     ]
    },
    {
     "name": "stderr",
     "output_type": "stream",
     "text": [
      "/opt/anaconda3/envs/hypyp/lib/python3.8/site-packages/neurokit2/ecg/ecg_plot.py:70: NeuroKitWarning: 'info' dict not provided. Some information might be missing. Sampling rate will be set to 1000 Hz.\n",
      "  warn(\n"
     ]
    }
   ],
   "source": [
    "df_all = pd.DataFrame()\n",
    "verbose = False \n",
    "\n",
    "for path in paths:\n",
    "    \n",
    "    # get component names\n",
    "    components = re.split('[-_]', os.path.basename(path))\n",
    "    sub = components[0][3:]\n",
    "    day = components[1]\n",
    "    condition = components[2]        \n",
    "    if day == \"control\":\n",
    "        sub = int(sub)+10\n",
    "        condition = \"control\"\n",
    "    \n",
    "\n",
    "    raw = mne.io.read_raw(path, preload=True)\n",
    "    data = raw.get_data()\n",
    "    ecg_index = raw.ch_names.index(\"ecg_heart\")\n",
    "    ecg = data[ecg_index]*-1\n",
    "    \n",
    "    eda_index = raw.ch_names.index(\"skin\")\n",
    "    eda = data[eda_index]\n",
    "    \n",
    "    rsp_index = raw.ch_names.index(\"breath\")\n",
    "    rsp = data[rsp_index]\n",
    "    \n",
    "    # Visualise biosignals\n",
    "    if verbose:\n",
    "        data = pd.DataFrame({\"ECG\": ecg,\n",
    "                             \"RSP\": rsp,\n",
    "                             \"EDA\": eda})\n",
    "        nk.signal_plot(data, subplots=True)\n",
    "        \n",
    "    \n",
    "    #########################\n",
    "    ### EDA ###\n",
    "    #########################\n",
    "    \n",
    "    signals, info = nk.eda_process(eda, sampling_rate=256)\n",
    "    #nk.eda_plot(signals)\n",
    "    \n",
    "    scl = signals['EDA_Tonic']\n",
    "    mean_scl = scl.mean()\n",
    "    scr_peaks = signals['SCR_Peaks']\n",
    "    scr_amplitude = signals['SCR_Amplitude']\n",
    "    \n",
    "    #extracted values\n",
    "    mean_scl = scl.mean()\n",
    "    num_scrs = len(scr_peaks)\n",
    "    mean_scr_amplitude = scr_amplitude.mean()\n",
    "    \n",
    "    #########################\n",
    "    ### ECG ###\n",
    "    #########################\n",
    "    \n",
    "    signals, info = nk.ecg_process(ecg, sampling_rate=256)\n",
    "    #nk.ecg_plot(signals)\n",
    "\n",
    "    plot = nk.ecg_plot(signals)\n",
    "    plt.savefig(f'figures/ekg_figures/{path[19:-4]}.png')\n",
    "    plt.close()\n",
    "    \n",
    "    heart_rate = signals['ECG_Rate']\n",
    "    hrv_time = nk.hrv_time(signals, sampling_rate=256)\n",
    "    hrv_freq = nk.hrv_frequency(signals, sampling_rate=256)\n",
    "    \n",
    "    # Extract specific values\n",
    "    mean_hr = heart_rate.mean()\n",
    "    sdnn = hrv_time['HRV_SDNN'].iloc[0]\n",
    "    rmssd = hrv_time['HRV_RMSSD'].iloc[0]\n",
    "    lf = hrv_freq['HRV_LF'].iloc[0]\n",
    "    hf = hrv_freq['HRV_HF'].iloc[0]\n",
    "    lf_hf_ratio = hrv_freq['HRV_LFHF'].iloc[0]\n",
    "    \n",
    "    #########################\n",
    "    ### RSP ###\n",
    "    #########################\n",
    "    \n",
    "    signals, info = nk.rsp_process(rsp, sampling_rate=256)\n",
    "    #nk.rsp_plot(signals)\n",
    "    \n",
    "    # extracting values\n",
    "    respiratory_rate = signals['RSP_Rate']\n",
    "    respiratory_amplitude = signals['RSP_Amplitude']\n",
    "    respiratory_cycle_duration = 60 / respiratory_rate\n",
    "    \n",
    "    # Compute mean values\n",
    "    mean_rr = respiratory_rate.mean()\n",
    "    mean_amplitude = respiratory_amplitude.mean()\n",
    "    mean_cycle_duration = respiratory_cycle_duration.mean()\n",
    "    \n",
    "    # Compute variability (standard deviation)\n",
    "    std_rr = respiratory_rate.std()\n",
    "    std_amplitude = respiratory_amplitude.std()\n",
    "    std_cycle_duration = respiratory_cycle_duration.std()\n",
    "    \n",
    "    \n",
    "    data = {\n",
    "        \"sub\": sub,\n",
    "        \"day\": day,\n",
    "        \"condition\": condition, \n",
    "        \"button\": \"all\",\n",
    "        \"jhana\": \"all\",\n",
    "        \"ch_name\": \"\",\n",
    "        \"n_epochs\": \"\",\n",
    "        \"n_channels\": \"\",\n",
    "\n",
    "        \"Mean_SCL\": [np.round(mean_scl,3)],\n",
    "        \"Num_SCRs\": [num_scrs,],\n",
    "        \"Mean_SCR_Amplitude\": [np.round(mean_scr_amplitude*10**6,3)],\n",
    "        \"Mean_HR\": [np.round(mean_hr,3)],\n",
    "        \"SDNN\": [np.round(sdnn,3)],\n",
    "        \"RMSSD\": [np.round(rmssd,3)],    \n",
    "        \"LF\": [np.round(lf*10**3,3)],\n",
    "        \"HF\": [np.round(hf*10**3,3)],\n",
    "        \"LF_HF_Ratio\": [np.round(lf_hf_ratio,3)],\n",
    "        \"Mean_RR\": [np.round(mean_rr,3)],\n",
    "        \"Mean_Amplitude\": [np.round(mean_amplitude,3)],\n",
    "        \"Mean_Cycle_Duration\": [np.round(mean_cycle_duration,3)],\n",
    "        \"RR_Variability\": [np.round(std_rr,3)],\n",
    "        \"Amplitude_Variability\": [np.round(std_amplitude,3)],\n",
    "        \"Cycle_Duration_Variability\": [np.round(std_cycle_duration,3)]\n",
    "    }\n",
    "    \n",
    "    df_new = pd.DataFrame(data)\n",
    "    df_all = pd.concat([df_all, df_new], ignore_index=True)\n",
    "    df_all.to_csv('bio_data_new.csv', index=False)\n",
    "    "
   ]
  },
  {
   "cell_type": "code",
   "execution_count": null,
   "id": "cf1fb87d-f1a2-4f2d-ab54-05442789a3d4",
   "metadata": {},
   "outputs": [],
   "source": []
  },
  {
   "cell_type": "code",
   "execution_count": null,
   "id": "971ac317-e520-4bf6-8fb2-02eb57aa73f2",
   "metadata": {},
   "outputs": [],
   "source": []
  },
  {
   "cell_type": "code",
   "execution_count": null,
   "id": "a935037d-b152-45c2-a67d-ce95d6666fc8",
   "metadata": {},
   "outputs": [],
   "source": []
  },
  {
   "cell_type": "markdown",
   "id": "5de1a784-a8cc-4918-9661-1955c4b5522f",
   "metadata": {},
   "source": [
    "### REPORT\n",
    "\n",
    "The only file that didn't work is this one: \n",
    "FAILURE: sub3-day4-jhana_mmn-raw.fif"
   ]
  },
  {
   "cell_type": "markdown",
   "id": "33c86125-5d24-4be3-b702-093532c64525",
   "metadata": {},
   "source": [
    "# Read data"
   ]
  },
  {
   "cell_type": "code",
   "execution_count": 99,
   "id": "824e49c7-83fb-4195-acbc-358e4345b601",
   "metadata": {},
   "outputs": [],
   "source": [
    "df_all = pd.read_excel('output.xlsx')\n"
   ]
  },
  {
   "cell_type": "code",
   "execution_count": null,
   "id": "41689ca4-8e99-4640-b41e-0009e335bfa6",
   "metadata": {},
   "outputs": [],
   "source": []
  },
  {
   "cell_type": "code",
   "execution_count": null,
   "id": "e1bbb423-d137-49c9-a914-ddd8ecc5626a",
   "metadata": {},
   "outputs": [],
   "source": []
  },
  {
   "cell_type": "code",
   "execution_count": null,
   "id": "cd8b31f3-ca64-4f8e-9aa2-937b4fabfaee",
   "metadata": {},
   "outputs": [],
   "source": []
  },
  {
   "cell_type": "code",
   "execution_count": null,
   "id": "e53cd808-4f72-4b67-b4b0-4644c7d76041",
   "metadata": {},
   "outputs": [],
   "source": []
  },
  {
   "cell_type": "code",
   "execution_count": null,
   "id": "7928dfb5-2042-476e-899c-a54dd4720cd9",
   "metadata": {},
   "outputs": [],
   "source": []
  },
  {
   "cell_type": "code",
   "execution_count": null,
   "id": "4689672a-0978-449f-9199-965c9c4bac44",
   "metadata": {},
   "outputs": [],
   "source": []
  }
 ],
 "metadata": {
  "kernelspec": {
   "display_name": "Python (hypyp)",
   "language": "python",
   "name": "hypyp"
  },
  "language_info": {
   "codemirror_mode": {
    "name": "ipython",
    "version": 3
   },
   "file_extension": ".py",
   "mimetype": "text/x-python",
   "name": "python",
   "nbconvert_exporter": "python",
   "pygments_lexer": "ipython3",
   "version": "3.8.19"
  }
 },
 "nbformat": 4,
 "nbformat_minor": 5
}
