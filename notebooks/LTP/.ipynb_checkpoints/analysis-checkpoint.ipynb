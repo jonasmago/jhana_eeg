{
 "cells": [
  {
   "cell_type": "markdown",
   "id": "c53315cb-5bf8-4f5e-92d1-4ffee4c768c8",
   "metadata": {},
   "source": [
    "## read me\n",
    "\n",
    "This file can process both resting state data and event related potentials. For the second, it's important that the data has event markers created with the script in the bitbrain importing section. \n",
    "\n",
    "Set variable **erp** to true or false to determine if you want to process event related potentials (True) or resting state data (false)"
   ]
  },
  {
   "cell_type": "code",
   "execution_count": 108,
   "id": "800f6781",
   "metadata": {},
   "outputs": [
    {
     "name": "stdout",
     "output_type": "stream",
     "text": [
      "The autoreload extension is already loaded. To reload it, use:\n",
      "  %reload_ext autoreload\n"
     ]
    }
   ],
   "source": [
    "%load_ext autoreload\n",
    "%autoreload 2\n",
    "%matplotlib qt\n",
    "\n",
    "import numpy as np\n",
    "import csv\n",
    "import matplotlib.pyplot as plt\n",
    "import pandas as pd\n",
    "import os\n",
    "import glob\n",
    "import autoreject\n",
    "from tqdm import tqdm \n",
    "from atpbar import atpbar\n",
    "from datetime import datetime\n",
    "import mne\n",
    "from autoreject import AutoReject\n",
    "from mne.preprocessing import ICA, corrmap, create_ecg_epochs, create_eog_epochs\n",
    "\n",
    "from pyprep.find_noisy_channels import NoisyChannels\n",
    "from mne_icalabel import label_components\n"
   ]
  },
  {
   "cell_type": "code",
   "execution_count": 109,
   "id": "fa5dcf39-7dcd-4282-b321-03198c28a1a8",
   "metadata": {},
   "outputs": [],
   "source": [
    "def raw_to_events(raw, timepoint, condition):\n",
    "    if timepoint == 'pre' and condition == 'baseline':\n",
    "        event_id = {'-1':-1, '1':1,}\n",
    "    elif timepoint == 'pre' and condition == 'early':\n",
    "        event_id = {'-1':-2, '1':2,}\n",
    "    elif timepoint == 'pre' and condition == 'late':\n",
    "        event_id = {'-1':-3, '1':3,}\n",
    "    elif timepoint == 'post' and condition == 'baseline':\n",
    "        event_id = {'-1':-4, '1':4,}\n",
    "    elif timepoint == 'post' and condition == 'early':\n",
    "        event_id = {'-1':-5, '1':5,}\n",
    "    elif timepoint == 'post' and condition == 'late':\n",
    "        event_id = {'-1':-6, '1':6,}\n",
    "    events = mne.events_from_annotations(raw, event_id=event_id)[0]\n",
    "    if len(events)==0:\n",
    "        events = np.zeros((1,3))\n",
    "        events = events.astype(int)\n",
    "    return events "
   ]
  },
  {
   "cell_type": "code",
   "execution_count": 110,
   "id": "d72440d5-2813-414f-8c2e-3aea62bd77d0",
   "metadata": {},
   "outputs": [],
   "source": [
    "# Suppress MNE output\n",
    "#mne.set_log_level('WARNING')\n",
    "mne.set_log_level('ERROR')\n",
    "#mne.set_log_level('CRITICAL')\n",
    "#mne.set_log_level('INFO')\n",
    "\n"
   ]
  },
  {
   "cell_type": "code",
   "execution_count": 118,
   "id": "97c63c89-3348-4ed8-abaf-5450eb61e0f8",
   "metadata": {},
   "outputs": [
    {
     "name": "stdout",
     "output_type": "stream",
     "text": [
      "not enough epochs for ../../data/mne_raw_events/sub6-LTP_pre-late_ltp-raw_phot-events.fif\n"
     ]
    }
   ],
   "source": [
    "for timepoint in ['pre', 'post']:\n",
    "    for condition in ['baseline', 'early', 'late']:\n",
    "        paths = glob.glob(f\"../../data/mne_raw_events/sub?-LTP_{timepoint}-{condition}_ltp-raw_phot-events.fif\")\n",
    "        paths.sort()\n",
    "        for path in paths:\n",
    "            raw = mne.io.read_raw_fif(path, preload=True)\n",
    "            montage = mne.channels.make_standard_montage('standard_1020')\n",
    "            raw.set_montage(montage)\n",
    "    \n",
    "            #raw.pick_channels(['Oz'])\n",
    "            #raw.pick_channels(['POz'])\n",
    "            \n",
    "            \n",
    "            filt_raw = raw.copy()\n",
    "            filt_raw.filter(0.3, 45)\n",
    "            #filt_raw.filter(0.1, 60)\n",
    "            filt_raw.notch_filter(freqs=[60,76, 120])\n",
    "            filt_raw.notch_filter(freqs=84, notch_widths=1, phase='zero')          \n",
    "            \n",
    "            \n",
    "            events = raw_to_events(filt_raw, timepoint, condition)    \n",
    "            epochs = mne.Epochs(filt_raw, events, tmin=-0.1, tmax=0.5, baseline=(-0.1, 0), preload=True)\n",
    "\n",
    "\n",
    "            if len(epochs) < 10:\n",
    "                print (f'not enough epochs for {path}')\n",
    "                continue \n",
    "\n",
    "            \n",
    "            try:\n",
    "                basename = os.path.basename(path)\n",
    "                export_path = \"epochs/\"+basename[:-24]+\"_epo.fif\"\n",
    "                epochs.save(export_path, overwrite=False)\n",
    "            except:\n",
    "                continue\n",
    "\n",
    "            ar = autoreject.AutoReject(n_interpolate=[1, 2, 3, 4], random_state=11, n_jobs=12, verbose=False)\n",
    "            ar.fit(epochs)\n",
    "            epochs, reject_log = ar.transform(epochs, return_log=True)\n",
    "\n",
    "            #reject_criteria = dict(eeg=100e-6)\n",
    "            epochs.drop_bad(reject=reject_criteria)\n",
    "            \n",
    "            basename = os.path.basename(path)\n",
    "            export_path = \"epochs/\"+basename[:-24]+\"_epo.fif\"\n",
    "            epochs.save(export_path, overwrite=True)\n"
   ]
  },
  {
   "cell_type": "code",
   "execution_count": 117,
   "id": "2fde447f-d92e-428f-a79e-1fa5fd769ba0",
   "metadata": {},
   "outputs": [
    {
     "data": {
      "text/html": [
       "<table class=\"table table-hover table-striped table-sm table-responsive small\">\n",
       "    <tr>\n",
       "        <th>Number of events</th>\n",
       "        <td>1</td>\n",
       "    </tr>\n",
       "    <tr>\n",
       "        <th>Events</th>\n",
       "        \n",
       "        <td>3: 1</td>\n",
       "        \n",
       "    </tr>\n",
       "    <tr>\n",
       "        <th>Time range</th>\n",
       "        <td>-0.102 – 0.500 s</td>\n",
       "    </tr>\n",
       "    <tr>\n",
       "        <th>Baseline</th>\n",
       "        <td>-0.100 – 0.000 s</td>\n",
       "    </tr>\n",
       "</table>"
      ],
      "text/plain": [
       "<Epochs |  1 events (all good), -0.101562 – 0.5 s, baseline -0.1 – 0 s, ~106 kB, data loaded,\n",
       " '3': 1>"
      ]
     },
     "execution_count": 117,
     "metadata": {},
     "output_type": "execute_result"
    }
   ],
   "source": [
    "epochs"
   ]
  },
  {
   "cell_type": "code",
   "execution_count": 91,
   "id": "73475cc2-e349-44e3-9180-0096ae96e58a",
   "metadata": {},
   "outputs": [
    {
     "data": {
      "text/plain": [
       "[<Figure size 1600x1200 with 2 Axes>]"
      ]
     },
     "execution_count": 91,
     "metadata": {},
     "output_type": "execute_result"
    }
   ],
   "source": [
    "all_epochs = []\n",
    "for sub_num in range(10):\n",
    "    sub_paths = glob.glob(f\"epochs/sub{sub_num}*\")\n",
    "    sub_paths.sort()\n",
    "    sub_epochs = [mne.read_epochs(path) for path in sub_paths]\n",
    "    combined_sub_epochs = mne.concatenate_epochs(sub_epochs)\n",
    "    all_epochs.append(combined_sub_epochs)\n",
    "combined_epochs_across_subjects = mne.concatenate_epochs(all_epochs)\n",
    "\n",
    "\n",
    "conditions = [-1, -2, -3, -4, -5, -6, 1, 2, 3, 4, 5, 6]\n",
    "conditions = [-1, -2, -3, 1, 2, 3]\n",
    "\n",
    "# Create evoked objects for each condition\n",
    "evokeds = {str(condition): combined_epochs[condition].average() for condition in conditions}\n",
    "\n",
    "# Plot all evoked responses on the same plot with confidence intervals\n",
    "mne.viz.plot_compare_evokeds(evokeds, combine='mean', ci=True)"
   ]
  },
  {
   "cell_type": "code",
   "execution_count": null,
   "id": "f612f413-5144-451c-8e6a-4695fe654a86",
   "metadata": {},
   "outputs": [],
   "source": []
  },
  {
   "cell_type": "code",
   "execution_count": null,
   "id": "ba3ebe46-96b1-4951-b123-00407b08e9f5",
   "metadata": {},
   "outputs": [],
   "source": []
  },
  {
   "cell_type": "code",
   "execution_count": 104,
   "id": "8f702f5b-5ed2-4a24-b40b-47faa015f304",
   "metadata": {},
   "outputs": [],
   "source": [
    "paths = glob.glob(f\"epochs/sub*\")\n",
    "for i in range (20):\n",
    "    epochs = mne.read_epochs(paths[i])\n",
    "    epochs.plot_psd()"
   ]
  }
 ],
 "metadata": {
  "kernelspec": {
   "display_name": "mne_ica",
   "language": "python",
   "name": "mne_ica"
  },
  "language_info": {
   "codemirror_mode": {
    "name": "ipython",
    "version": 3
   },
   "file_extension": ".py",
   "mimetype": "text/x-python",
   "name": "python",
   "nbconvert_exporter": "python",
   "pygments_lexer": "ipython3",
   "version": "3.10.11"
  }
 },
 "nbformat": 4,
 "nbformat_minor": 5
}
