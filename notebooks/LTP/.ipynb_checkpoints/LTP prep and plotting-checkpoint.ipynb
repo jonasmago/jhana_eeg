{
 "cells": [
  {
   "cell_type": "markdown",
   "id": "c53315cb-5bf8-4f5e-92d1-4ffee4c768c8",
   "metadata": {},
   "source": [
    "# ***LTP Task***"
   ]
  },
  {
   "cell_type": "markdown",
   "id": "7bf47bd7-5afd-43ba-94ed-a7439b009bbf",
   "metadata": {},
   "source": [
    "## Notes\n",
    "\n",
    "Vertical grating == White & 1\n",
    "\n",
    "Horizontal grating == Black & -1"
   ]
  },
  {
   "cell_type": "code",
   "execution_count": 194,
   "id": "800f6781",
   "metadata": {},
   "outputs": [
    {
     "name": "stdout",
     "output_type": "stream",
     "text": [
      "The autoreload extension is already loaded. To reload it, use:\n",
      "  %reload_ext autoreload\n"
     ]
    }
   ],
   "source": [
    "%load_ext autoreload\n",
    "%autoreload 2\n",
    "%matplotlib qt\n",
    "\n",
    "import numpy as np\n",
    "import csv\n",
    "import matplotlib.pyplot as plt\n",
    "import pandas as pd\n",
    "import os\n",
    "import glob\n",
    "import autoreject\n",
    "from tqdm import tqdm \n",
    "from atpbar import atpbar\n",
    "from datetime import datetime\n",
    "import mne\n",
    "from autoreject import AutoReject\n",
    "from mne.preprocessing import ICA, corrmap, create_ecg_epochs, create_eog_epochs\n",
    "\n",
    "from pyprep.find_noisy_channels import NoisyChannels\n",
    "from mne_icalabel import label_components\n",
    "\n",
    "\n",
    "# Suppress MNE output\n",
    "#mne.set_log_level('WARNING')\n",
    "mne.set_log_level('ERROR')\n",
    "#mne.set_log_level('CRITICAL')\n",
    "#mne.set_log_level('INFO')\n"
   ]
  },
  {
   "cell_type": "markdown",
   "id": "d96b4ae6-656c-49f1-bdaa-9cfcb0d7f541",
   "metadata": {},
   "source": [
    "# Import "
   ]
  },
  {
   "cell_type": "code",
   "execution_count": 216,
   "id": "fa5dcf39-7dcd-4282-b321-03198c28a1a8",
   "metadata": {},
   "outputs": [],
   "source": [
    "# vertical tetanus: 0,1,8,9\n",
    "# 1 = vertical \n",
    "# --> 1 = TETANUS \n",
    "# --> -1 = NORMAL\n",
    "\n",
    "def raw_to_events(raw, timepoint, condition, sub):\n",
    "    if sub in ('sub2', 'sub3', 'sub4', 'sub5', 'sub6', 'sub7'):\n",
    "        inversion = -1\n",
    "    if sub in ('sub0', 'sub1', 'sub8', 'sub9'):\n",
    "        inversion = 1\n",
    "    \n",
    "    if timepoint == 'pre' and condition == 'baseline':\n",
    "        event_id = {'-1':-1*inversion, '1':1*inversion,}\n",
    "    elif timepoint == 'pre' and condition == 'early':\n",
    "        event_id = {'-1':-2*inversion, '1':2*inversion,}\n",
    "    elif timepoint == 'pre' and condition == 'late':\n",
    "        event_id = {'-1':-3*inversion, '1':3*inversion,}\n",
    "    elif timepoint == 'post' and condition == 'baseline':\n",
    "        event_id = {'-1':-4*inversion, '1':4*inversion,}\n",
    "    elif timepoint == 'post' and condition == 'early':\n",
    "        event_id = {'-1':-5*inversion, '1':5*inversion,}\n",
    "    elif timepoint == 'post' and condition == 'late':\n",
    "        event_id = {'-1':-6*inversion, '1':6*inversion,}\n",
    "    events = mne.events_from_annotations(raw, event_id=event_id)[0]\n",
    "    if len(events)==0:\n",
    "        events = np.zeros((1,3))\n",
    "        events = events.astype(int)\n",
    "    return events "
   ]
  },
  {
   "cell_type": "code",
   "execution_count": 217,
   "id": "97c63c89-3348-4ed8-abaf-5450eb61e0f8",
   "metadata": {},
   "outputs": [
    {
     "name": "stdout",
     "output_type": "stream",
     "text": [
      "not enough epochs for ../../data/mne_raw_events/sub6-LTP_pre-late_ltp-raw_phot-events.fif\n"
     ]
    }
   ],
   "source": [
    "paths = glob.glob(f\"../../data/mne_raw_events/sub?-LTP_*-*_ltp-raw_phot-events.fif\")\n",
    "paths.sort()\n",
    "for path in paths:\n",
    "    filename_components = re.split(r'[-_]', path)\n",
    "    condition = filename_components[-5]\n",
    "    timepoint = filename_components[-6]\n",
    "    sub = filename_components[-8][-4:]\n",
    "\n",
    "    raw = mne.io.read_raw_fif(path, preload=True)\n",
    "    montage = mne.channels.make_standard_montage('standard_1020')\n",
    "    raw.set_montage(montage)\n",
    "\n",
    "    raw.pick_channels(['Oz'])\n",
    "    #raw.pick_channels(['POz'])\n",
    "    \n",
    "    \n",
    "    filt_raw = raw.copy()\n",
    "    filt_raw.filter(0.3, 45)\n",
    "    #filt_raw.filter(0.1, 60)\n",
    "    filt_raw.notch_filter(freqs=[60,76, 120])\n",
    "    filt_raw.notch_filter(freqs=84, notch_widths=1, phase='zero')          \n",
    "    \n",
    "    events = raw_to_events(filt_raw, timepoint, condition, sub)   \n",
    "    epochs = mne.Epochs(filt_raw, events, tmin=-0.1, tmax=0.5, baseline=(-0.1, 0), preload=True)\n",
    "\n",
    "\n",
    "    if len(epochs) < 10:\n",
    "        print (f'not enough epochs for {path}')\n",
    "        continue \n",
    "\n",
    "\n",
    "    #ar = autoreject.AutoReject(n_interpolate=[1, 2, 3, 4], random_state=11, n_jobs=12, verbose=False)\n",
    "    #ar.fit(epochs)\n",
    "    #epochs, reject_log = ar.transform(epochs, return_log=True)\n",
    "\n",
    "    reject_criteria = dict(eeg=100e-6)\n",
    "    epochs.drop_bad(reject=reject_criteria)\n",
    "    \n",
    "    basename = os.path.basename(path)\n",
    "    export_path = f\"epochs/{sub}_{timepoint}_{condition}_epo.fif\"\n",
    "    epochs.save(export_path, overwrite=True)\n"
   ]
  },
  {
   "cell_type": "markdown",
   "id": "70f26c84-1e0a-4373-81fd-9e44247882f4",
   "metadata": {},
   "source": [
    "# Plot"
   ]
  },
  {
   "cell_type": "code",
   "execution_count": 218,
   "id": "b82a4e5e-8591-43c6-b215-6eaeaf5d4d74",
   "metadata": {},
   "outputs": [
    {
     "data": {
      "text/plain": [
       "['../../data/mne_raw_events/sub0-LTP_post-baseline_ltp-raw_phot-events.fif',\n",
       " '../../data/mne_raw_events/sub0-LTP_post-early_ltp-raw_phot-events.fif',\n",
       " '../../data/mne_raw_events/sub0-LTP_post-late_ltp-raw_phot-events.fif',\n",
       " '../../data/mne_raw_events/sub0-LTP_pre-baseline_ltp-raw_phot-events.fif',\n",
       " '../../data/mne_raw_events/sub0-LTP_pre-early_ltp-raw_phot-events.fif',\n",
       " '../../data/mne_raw_events/sub0-LTP_pre-late_ltp-raw_phot-events.fif',\n",
       " '../../data/mne_raw_events/sub1-LTP_post-baseline_ltp-raw_phot-events.fif',\n",
       " '../../data/mne_raw_events/sub1-LTP_post-early_ltp-raw_phot-events.fif',\n",
       " '../../data/mne_raw_events/sub1-LTP_post-late_ltp-raw_phot-events.fif',\n",
       " '../../data/mne_raw_events/sub1-LTP_pre-baseline_ltp-raw_phot-events.fif',\n",
       " '../../data/mne_raw_events/sub1-LTP_pre-early_ltp-raw_phot-events.fif',\n",
       " '../../data/mne_raw_events/sub1-LTP_pre-late_ltp-raw_phot-events.fif',\n",
       " '../../data/mne_raw_events/sub2-LTP_post-baseline_ltp-raw_phot-events.fif',\n",
       " '../../data/mne_raw_events/sub2-LTP_post-early_ltp-raw_phot-events.fif',\n",
       " '../../data/mne_raw_events/sub2-LTP_post-late_ltp-raw_phot-events.fif',\n",
       " '../../data/mne_raw_events/sub2-LTP_pre-baseline_ltp-raw_phot-events.fif',\n",
       " '../../data/mne_raw_events/sub2-LTP_pre-early_ltp-raw_phot-events.fif',\n",
       " '../../data/mne_raw_events/sub2-LTP_pre-late_ltp-raw_phot-events.fif',\n",
       " '../../data/mne_raw_events/sub3-LTP_post-baseline_ltp-raw_phot-events.fif',\n",
       " '../../data/mne_raw_events/sub3-LTP_post-early_ltp-raw_phot-events.fif',\n",
       " '../../data/mne_raw_events/sub3-LTP_post-late_ltp-raw_phot-events.fif',\n",
       " '../../data/mne_raw_events/sub3-LTP_pre-baseline_ltp-raw_phot-events.fif',\n",
       " '../../data/mne_raw_events/sub3-LTP_pre-early_ltp-raw_phot-events.fif',\n",
       " '../../data/mne_raw_events/sub3-LTP_pre-late_ltp-raw_phot-events.fif',\n",
       " '../../data/mne_raw_events/sub4-LTP_post-baseline_ltp-raw_phot-events.fif',\n",
       " '../../data/mne_raw_events/sub4-LTP_post-early_ltp-raw_phot-events.fif',\n",
       " '../../data/mne_raw_events/sub4-LTP_post-late_ltp-raw_phot-events.fif',\n",
       " '../../data/mne_raw_events/sub4-LTP_pre-baseline_ltp-raw_phot-events.fif',\n",
       " '../../data/mne_raw_events/sub4-LTP_pre-early_ltp-raw_phot-events.fif',\n",
       " '../../data/mne_raw_events/sub4-LTP_pre-late_ltp-raw_phot-events.fif',\n",
       " '../../data/mne_raw_events/sub5-LTP_post-baseline_ltp-raw_phot-events.fif',\n",
       " '../../data/mne_raw_events/sub5-LTP_post-early_ltp-raw_phot-events.fif',\n",
       " '../../data/mne_raw_events/sub5-LTP_post-late_ltp-raw_phot-events.fif',\n",
       " '../../data/mne_raw_events/sub5-LTP_pre-baseline_ltp-raw_phot-events.fif',\n",
       " '../../data/mne_raw_events/sub5-LTP_pre-early_ltp-raw_phot-events.fif',\n",
       " '../../data/mne_raw_events/sub5-LTP_pre-late_ltp-raw_phot-events.fif',\n",
       " '../../data/mne_raw_events/sub6-LTP_post-baseline_ltp-raw_phot-events.fif',\n",
       " '../../data/mne_raw_events/sub6-LTP_post-early_ltp-raw_phot-events.fif',\n",
       " '../../data/mne_raw_events/sub6-LTP_post-late_ltp-raw_phot-events.fif',\n",
       " '../../data/mne_raw_events/sub6-LTP_pre-baseline_ltp-raw_phot-events.fif',\n",
       " '../../data/mne_raw_events/sub6-LTP_pre-early_ltp-raw_phot-events.fif',\n",
       " '../../data/mne_raw_events/sub6-LTP_pre-late_ltp-raw_phot-events.fif',\n",
       " '../../data/mne_raw_events/sub7-LTP_post-baseline_ltp-raw_phot-events.fif',\n",
       " '../../data/mne_raw_events/sub7-LTP_post-early_ltp-raw_phot-events.fif',\n",
       " '../../data/mne_raw_events/sub7-LTP_post-late_ltp-raw_phot-events.fif',\n",
       " '../../data/mne_raw_events/sub7-LTP_pre-baseline_ltp-raw_phot-events.fif',\n",
       " '../../data/mne_raw_events/sub7-LTP_pre-early_ltp-raw_phot-events.fif',\n",
       " '../../data/mne_raw_events/sub7-LTP_pre-late_ltp-raw_phot-events.fif',\n",
       " '../../data/mne_raw_events/sub8-LTP_post-baseline_ltp-raw_phot-events.fif',\n",
       " '../../data/mne_raw_events/sub8-LTP_post-early_ltp-raw_phot-events.fif',\n",
       " '../../data/mne_raw_events/sub8-LTP_post-late_ltp-raw_phot-events.fif',\n",
       " '../../data/mne_raw_events/sub8-LTP_pre-baseline_ltp-raw_phot-events.fif',\n",
       " '../../data/mne_raw_events/sub8-LTP_pre-early_ltp-raw_phot-events.fif',\n",
       " '../../data/mne_raw_events/sub8-LTP_pre-late_ltp-raw_phot-events.fif',\n",
       " '../../data/mne_raw_events/sub9-LTP_post-baseline_ltp-raw_phot-events.fif',\n",
       " '../../data/mne_raw_events/sub9-LTP_post-early_ltp-raw_phot-events.fif',\n",
       " '../../data/mne_raw_events/sub9-LTP_post-late_ltp-raw_phot-events.fif',\n",
       " '../../data/mne_raw_events/sub9-LTP_pre-baseline_ltp-raw_phot-events.fif',\n",
       " '../../data/mne_raw_events/sub9-LTP_pre-early_ltp-raw_phot-events.fif',\n",
       " '../../data/mne_raw_events/sub9-LTP_pre-late_ltp-raw_phot-events.fif']"
      ]
     },
     "execution_count": 218,
     "metadata": {},
     "output_type": "execute_result"
    }
   ],
   "source": [
    "paths"
   ]
  },
  {
   "cell_type": "code",
   "execution_count": 236,
   "id": "d25e1cb4-3dd7-4a2b-8045-83e63ee19099",
   "metadata": {},
   "outputs": [
    {
     "data": {
      "text/plain": [
       "6"
      ]
     },
     "execution_count": 236,
     "metadata": {},
     "output_type": "execute_result"
    }
   ],
   "source": [
    "sub"
   ]
  },
  {
   "cell_type": "code",
   "execution_count": 238,
   "id": "edc25451-f803-45f4-a013-6e7d43444aa3",
   "metadata": {},
   "outputs": [],
   "source": [
    "for sub in range(10):\n",
    "    paths = glob.glob(f\"epochs/sub{sub}*\")\n",
    "    paths.sort()\n",
    "    epochs_list = [mne.read_epochs(path) for path in paths]\n",
    "    epochs = mne.concatenate_epochs(epochs_list)\n",
    "\n",
    "    if sub != 6:\n",
    "        evokeds_pre = dict(\n",
    "            pre_baselin_normal = list(epochs[\"-1\"].iter_evoked()),\n",
    "            pre_early_normal = list(epochs[\"-2\"].iter_evoked()),\n",
    "            pre_late_normal = list(epochs[\"-3\"].iter_evoked()),\n",
    "            \n",
    "            pre_baselin_tetanus = list(epochs[\"1\"].iter_evoked()),\n",
    "            pre_early_tetanus = list(epochs[\"2\"].iter_evoked()),\n",
    "            pre_late_tetanus = list(epochs[\"3\"].iter_evoked()),\n",
    "        )\n",
    "        \n",
    "    if sub == 6:\n",
    "        evokeds_pre = dict(\n",
    "            pre_baselin_normal = list(epochs[\"-1\"].iter_evoked()),\n",
    "            pre_early_normal = list(epochs[\"-2\"].iter_evoked()),\n",
    "            \n",
    "            pre_baselin_tetanus = list(epochs[\"1\"].iter_evoked()),\n",
    "            pre_early_tetanus = list(epochs[\"2\"].iter_evoked()),\n",
    "        )\n",
    "        \n",
    "    \n",
    "    evokeds_post = dict(\n",
    "        post_baselin_normal = list(epochs[\"-4\"].iter_evoked()),\n",
    "        post_early_normal = list(epochs[\"-5\"].iter_evoked()),\n",
    "        post_late_normal = list(epochs[\"-6\"].iter_evoked()),\n",
    "    \n",
    "        post_baselin_tetanus = list(epochs[\"4\"].iter_evoked()),\n",
    "        post_early_tetanus = list(epochs[\"5\"].iter_evoked()),\n",
    "        post_late_tetanus = list(epochs[\"6\"].iter_evoked()),\n",
    "    )\n",
    "    \n",
    "    \n",
    "    mne.viz.plot_compare_evokeds(evokeds_pre, combine=\"mean\", picks='Oz', title=f\"sub{sub}: pre\")\n",
    "    plt.savefig(f'plots/sub{sub}_pre.png')\n",
    "    plt.close()\n",
    "    \n",
    "    mne.viz.plot_compare_evokeds(evokeds_post, combine=\"mean\", picks='Oz', title=f\"sub{sub}: post\")\n",
    "    plt.savefig(f'plots/sub{sub}_post.png')\n",
    "    plt.close()"
   ]
  },
  {
   "cell_type": "code",
   "execution_count": null,
   "id": "30ff6df2-d087-481d-adba-248e9f8d9e62",
   "metadata": {},
   "outputs": [],
   "source": []
  }
 ],
 "metadata": {
  "kernelspec": {
   "display_name": "mne_ica",
   "language": "python",
   "name": "mne_ica"
  },
  "language_info": {
   "codemirror_mode": {
    "name": "ipython",
    "version": 3
   },
   "file_extension": ".py",
   "mimetype": "text/x-python",
   "name": "python",
   "nbconvert_exporter": "python",
   "pygments_lexer": "ipython3",
   "version": "3.10.11"
  }
 },
 "nbformat": 4,
 "nbformat_minor": 5
}
