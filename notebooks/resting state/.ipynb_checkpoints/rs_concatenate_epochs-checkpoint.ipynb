{
 "cells": [
  {
   "cell_type": "markdown",
   "id": "4643ad1f",
   "metadata": {},
   "source": [
    "# loading data"
   ]
  },
  {
   "cell_type": "code",
   "execution_count": 1,
   "id": "765c148a",
   "metadata": {},
   "outputs": [],
   "source": [
    "import glob\n",
    "import numpy as np\n",
    "import autoreject\n",
    "import mne\n",
    "import os\n",
    "\n",
    "from scipy import stats\n",
    "import matplotlib.pyplot as plt\n",
    "import mne\n",
    "from scipy.stats import ttest_ind"
   ]
  },
  {
   "cell_type": "code",
   "execution_count": 4,
   "id": "ac574132",
   "metadata": {},
   "outputs": [
    {
     "name": "stdout",
     "output_type": "stream",
     "text": [
      "Reading /Users/jonasmago/PhD_code_data/github/jhana/notebooks/../data/epochs_clean/sub0-mindfulness_restingstate-jhana_day1_all-epo.fif ...\n",
      "    Found the data of interest:\n",
      "        t =       0.00 ...    9996.09 ms\n",
      "        0 CTF compensation matrices available\n",
      "Not setting metadata\n",
      "150 matching events found\n",
      "No baseline correction applied\n",
      "0 projection items activated\n",
      "Reading /Users/jonasmago/PhD_code_data/github/jhana/notebooks/../data/epochs_clean/sub0-mindfulness_restingstate-jhana_day1_ar-epo.fif ...\n",
      "    Found the data of interest:\n",
      "        t =       0.00 ...    9996.09 ms\n",
      "        0 CTF compensation matrices available\n",
      "Not setting metadata\n",
      "150 matching events found\n",
      "No baseline correction applied\n",
      "0 projection items activated\n",
      "round: 0\n",
      "###first round###\n",
      "Reading /Users/jonasmago/PhD_code_data/github/jhana/notebooks/../data/epochs_clean/sub0-mindfulness_restingstate-jhana_day2_all-epo.fif ...\n",
      "    Found the data of interest:\n",
      "        t =       0.00 ...    9996.09 ms\n",
      "        0 CTF compensation matrices available\n",
      "Not setting metadata\n",
      "149 matching events found\n",
      "No baseline correction applied\n",
      "0 projection items activated\n",
      "Reading /Users/jonasmago/PhD_code_data/github/jhana/notebooks/../data/epochs_clean/sub0-mindfulness_restingstate-jhana_day2_ar-epo.fif ...\n",
      "    Found the data of interest:\n",
      "        t =       0.00 ...    9996.09 ms\n",
      "        0 CTF compensation matrices available\n",
      "Not setting metadata\n",
      "137 matching events found\n",
      "No baseline correction applied\n",
      "0 projection items activated\n",
      "round: 1\n",
      "Not setting metadata\n",
      "287 matching events found\n",
      "No baseline correction applied\n",
      "Not setting metadata\n",
      "299 matching events found\n",
      "No baseline correction applied\n",
      "Reading /Users/jonasmago/PhD_code_data/github/jhana/notebooks/../data/epochs_clean/sub0-mindfulness_restingstate-jhana_day3_all-epo.fif ...\n",
      "    Found the data of interest:\n",
      "        t =       0.00 ...    9996.09 ms\n",
      "        0 CTF compensation matrices available\n",
      "Not setting metadata\n",
      "152 matching events found\n",
      "No baseline correction applied\n",
      "0 projection items activated\n",
      "Reading /Users/jonasmago/PhD_code_data/github/jhana/notebooks/../data/epochs_clean/sub0-mindfulness_restingstate-jhana_day3_ar-epo.fif ...\n",
      "    Found the data of interest:\n",
      "        t =       0.00 ...    9996.09 ms\n",
      "        0 CTF compensation matrices available\n",
      "Not setting metadata\n",
      "139 matching events found\n",
      "No baseline correction applied\n",
      "0 projection items activated\n",
      "round: 2\n",
      "Not setting metadata\n",
      "426 matching events found\n",
      "No baseline correction applied\n",
      "Not setting metadata\n",
      "451 matching events found\n",
      "No baseline correction applied\n",
      "Reading /Users/jonasmago/PhD_code_data/github/jhana/notebooks/../data/epochs_clean/sub0-mindfulness_restingstate-jhana_day4_all-epo.fif ...\n",
      "    Found the data of interest:\n",
      "        t =       0.00 ...    9996.09 ms\n",
      "        0 CTF compensation matrices available\n",
      "Not setting metadata\n",
      "151 matching events found\n",
      "No baseline correction applied\n",
      "0 projection items activated\n",
      "Reading /Users/jonasmago/PhD_code_data/github/jhana/notebooks/../data/epochs_clean/sub0-mindfulness_restingstate-jhana_day4_ar-epo.fif ...\n",
      "    Found the data of interest:\n",
      "        t =       0.00 ...    9996.09 ms\n",
      "        0 CTF compensation matrices available\n",
      "Not setting metadata\n",
      "149 matching events found\n",
      "No baseline correction applied\n",
      "0 projection items activated\n",
      "round: 3\n",
      "Not setting metadata\n",
      "575 matching events found\n",
      "No baseline correction applied\n",
      "Not setting metadata\n",
      "602 matching events found\n",
      "No baseline correction applied\n",
      "Reading /Users/jonasmago/PhD_code_data/github/jhana/notebooks/../data/epochs_clean/sub1-mindfulness_restingstate-jhana_day1_all-epo.fif ...\n",
      "    Found the data of interest:\n",
      "        t =       0.00 ...    9996.09 ms\n",
      "        0 CTF compensation matrices available\n",
      "Not setting metadata\n",
      "150 matching events found\n",
      "No baseline correction applied\n",
      "0 projection items activated\n",
      "Reading /Users/jonasmago/PhD_code_data/github/jhana/notebooks/../data/epochs_clean/sub1-mindfulness_restingstate-jhana_day1_ar-epo.fif ...\n",
      "    Found the data of interest:\n",
      "        t =       0.00 ...    9996.09 ms\n",
      "        0 CTF compensation matrices available\n",
      "Not setting metadata\n",
      "122 matching events found\n",
      "No baseline correction applied\n",
      "0 projection items activated\n",
      "round: 4\n",
      "Not setting metadata\n",
      "697 matching events found\n",
      "No baseline correction applied\n",
      "Not setting metadata\n",
      "752 matching events found\n",
      "No baseline correction applied\n",
      "Reading /Users/jonasmago/PhD_code_data/github/jhana/notebooks/../data/epochs_clean/sub1-mindfulness_restingstate-jhana_day2_all-epo.fif ...\n",
      "    Found the data of interest:\n",
      "        t =       0.00 ...    9996.09 ms\n",
      "        0 CTF compensation matrices available\n",
      "Not setting metadata\n",
      "151 matching events found\n",
      "No baseline correction applied\n",
      "0 projection items activated\n",
      "Reading /Users/jonasmago/PhD_code_data/github/jhana/notebooks/../data/epochs_clean/sub1-mindfulness_restingstate-jhana_day2_ar-epo.fif ...\n",
      "    Found the data of interest:\n",
      "        t =       0.00 ...    9996.09 ms\n",
      "        0 CTF compensation matrices available\n",
      "Not setting metadata\n",
      "151 matching events found\n",
      "No baseline correction applied\n",
      "0 projection items activated\n",
      "round: 5\n",
      "Not setting metadata\n",
      "848 matching events found\n",
      "No baseline correction applied\n",
      "Not setting metadata\n",
      "903 matching events found\n",
      "No baseline correction applied\n",
      "Reading /Users/jonasmago/PhD_code_data/github/jhana/notebooks/../data/epochs_clean/sub1-mindfulness_restingstate-jhana_day3_all-epo.fif ...\n",
      "    Found the data of interest:\n",
      "        t =       0.00 ...    9996.09 ms\n",
      "        0 CTF compensation matrices available\n",
      "Not setting metadata\n",
      "151 matching events found\n",
      "No baseline correction applied\n",
      "0 projection items activated\n",
      "Reading /Users/jonasmago/PhD_code_data/github/jhana/notebooks/../data/epochs_clean/sub1-mindfulness_restingstate-jhana_day3_ar-epo.fif ...\n",
      "    Found the data of interest:\n",
      "        t =       0.00 ...    9996.09 ms\n",
      "        0 CTF compensation matrices available\n",
      "Not setting metadata\n",
      "151 matching events found\n",
      "No baseline correction applied\n",
      "0 projection items activated\n",
      "round: 6\n",
      "Not setting metadata\n",
      "999 matching events found\n",
      "No baseline correction applied\n",
      "Not setting metadata\n",
      "1054 matching events found\n",
      "No baseline correction applied\n",
      "Reading /Users/jonasmago/PhD_code_data/github/jhana/notebooks/../data/epochs_clean/sub1-mindfulness_restingstate-jhana_day4_all-epo.fif ...\n",
      "    Found the data of interest:\n",
      "        t =       0.00 ...    9996.09 ms\n",
      "        0 CTF compensation matrices available\n",
      "Not setting metadata\n",
      "153 matching events found\n",
      "No baseline correction applied\n",
      "0 projection items activated\n",
      "Reading /Users/jonasmago/PhD_code_data/github/jhana/notebooks/../data/epochs_clean/sub1-mindfulness_restingstate-jhana_day4_ar-epo.fif ...\n",
      "    Found the data of interest:\n",
      "        t =       0.00 ...    9996.09 ms\n",
      "        0 CTF compensation matrices available\n",
      "Not setting metadata\n",
      "129 matching events found\n",
      "No baseline correction applied\n",
      "0 projection items activated\n",
      "round: 7\n",
      "Not setting metadata\n",
      "1128 matching events found\n",
      "No baseline correction applied\n",
      "Not setting metadata\n",
      "1207 matching events found\n",
      "No baseline correction applied\n",
      "Reading /Users/jonasmago/PhD_code_data/github/jhana/notebooks/../data/epochs_clean/sub2-mindfulness_restingstate-jhana_day1_all-epo.fif ...\n",
      "    Found the data of interest:\n",
      "        t =       0.00 ...    9996.09 ms\n",
      "        0 CTF compensation matrices available\n",
      "Not setting metadata\n",
      "148 matching events found\n",
      "No baseline correction applied\n",
      "0 projection items activated\n",
      "Reading /Users/jonasmago/PhD_code_data/github/jhana/notebooks/../data/epochs_clean/sub2-mindfulness_restingstate-jhana_day1_ar-epo.fif ...\n",
      "    Found the data of interest:\n",
      "        t =       0.00 ...    9996.09 ms\n",
      "        0 CTF compensation matrices available\n",
      "Not setting metadata\n",
      "144 matching events found\n",
      "No baseline correction applied\n",
      "0 projection items activated\n",
      "round: 8\n",
      "Not setting metadata\n",
      "1272 matching events found\n",
      "No baseline correction applied\n",
      "Not setting metadata\n",
      "1355 matching events found\n",
      "No baseline correction applied\n",
      "Reading /Users/jonasmago/PhD_code_data/github/jhana/notebooks/../data/epochs_clean/sub2-mindfulness_restingstate-jhana_day2_all-epo.fif ...\n",
      "    Found the data of interest:\n",
      "        t =       0.00 ...    9996.09 ms\n",
      "        0 CTF compensation matrices available\n",
      "Not setting metadata\n"
     ]
    },
    {
     "name": "stdout",
     "output_type": "stream",
     "text": [
      "149 matching events found\n",
      "No baseline correction applied\n",
      "0 projection items activated\n",
      "Reading /Users/jonasmago/PhD_code_data/github/jhana/notebooks/../data/epochs_clean/sub2-mindfulness_restingstate-jhana_day2_ar-epo.fif ...\n",
      "    Found the data of interest:\n",
      "        t =       0.00 ...    9996.09 ms\n",
      "        0 CTF compensation matrices available\n",
      "Not setting metadata\n",
      "137 matching events found\n",
      "No baseline correction applied\n",
      "0 projection items activated\n",
      "round: 9\n"
     ]
    },
    {
     "ename": "KeyboardInterrupt",
     "evalue": "",
     "output_type": "error",
     "traceback": [
      "\u001b[0;31m---------------------------------------------------------------------------\u001b[0m",
      "\u001b[0;31mKeyboardInterrupt\u001b[0m                         Traceback (most recent call last)",
      "Cell \u001b[0;32mIn[4], line 13\u001b[0m\n\u001b[1;32m     11\u001b[0m \u001b[38;5;28;01mif\u001b[39;00m count\u001b[38;5;241m>\u001b[39m\u001b[38;5;241m0\u001b[39m:\n\u001b[1;32m     12\u001b[0m     \u001b[38;5;28mprint\u001b[39m (\u001b[38;5;124mf\u001b[39m\u001b[38;5;124m\"\u001b[39m\u001b[38;5;124mround: \u001b[39m\u001b[38;5;132;01m{\u001b[39;00mcount\u001b[38;5;132;01m}\u001b[39;00m\u001b[38;5;124m\"\u001b[39m)\n\u001b[0;32m---> 13\u001b[0m     epochs_ar_all \u001b[38;5;241m=\u001b[39m \u001b[43mmne\u001b[49m\u001b[38;5;241;43m.\u001b[39;49m\u001b[43mconcatenate_epochs\u001b[49m\u001b[43m(\u001b[49m\u001b[43m[\u001b[49m\u001b[43mepochs_ar_all\u001b[49m\u001b[43m,\u001b[49m\u001b[43m \u001b[49m\u001b[43mepochs_ar\u001b[49m\u001b[43m]\u001b[49m\u001b[43m)\u001b[49m\n\u001b[1;32m     14\u001b[0m     epochs_all \u001b[38;5;241m=\u001b[39m mne\u001b[38;5;241m.\u001b[39mconcatenate_epochs([epochs_all, epochs])\n\u001b[1;32m     15\u001b[0m     eventsv_all \u001b[38;5;241m=\u001b[39m np\u001b[38;5;241m.\u001b[39mconcatenate((eventsv_all, eventsv))\n",
      "File \u001b[0;32m<decorator-gen-295>:12\u001b[0m, in \u001b[0;36mconcatenate_epochs\u001b[0;34m(epochs_list, add_offset, on_mismatch, verbose)\u001b[0m\n",
      "File \u001b[0;32m~/PhD_code_data/github/jhana/venv/lib/python3.10/site-packages/mne/epochs.py:4205\u001b[0m, in \u001b[0;36mconcatenate_epochs\u001b[0;34m(epochs_list, add_offset, on_mismatch, verbose)\u001b[0m\n\u001b[1;32m   4186\u001b[0m (\n\u001b[1;32m   4187\u001b[0m     info,\n\u001b[1;32m   4188\u001b[0m     data,\n\u001b[0;32m   (...)\u001b[0m\n\u001b[1;32m   4202\u001b[0m     on_mismatch\u001b[38;5;241m=\u001b[39mon_mismatch,\n\u001b[1;32m   4203\u001b[0m )\n\u001b[1;32m   4204\u001b[0m selection \u001b[38;5;241m=\u001b[39m np\u001b[38;5;241m.\u001b[39mwhere([\u001b[38;5;28mlen\u001b[39m(d) \u001b[38;5;241m==\u001b[39m \u001b[38;5;241m0\u001b[39m \u001b[38;5;28;01mfor\u001b[39;00m d \u001b[38;5;129;01min\u001b[39;00m drop_log])[\u001b[38;5;241m0\u001b[39m]\n\u001b[0;32m-> 4205\u001b[0m out \u001b[38;5;241m=\u001b[39m \u001b[43mEpochsArray\u001b[49m\u001b[43m(\u001b[49m\n\u001b[1;32m   4206\u001b[0m \u001b[43m    \u001b[49m\u001b[43mdata\u001b[49m\u001b[38;5;241;43m=\u001b[39;49m\u001b[43mdata\u001b[49m\u001b[43m,\u001b[49m\n\u001b[1;32m   4207\u001b[0m \u001b[43m    \u001b[49m\u001b[43minfo\u001b[49m\u001b[38;5;241;43m=\u001b[39;49m\u001b[43minfo\u001b[49m\u001b[43m,\u001b[49m\n\u001b[1;32m   4208\u001b[0m \u001b[43m    \u001b[49m\u001b[43mevents\u001b[49m\u001b[38;5;241;43m=\u001b[39;49m\u001b[43mevents\u001b[49m\u001b[43m,\u001b[49m\n\u001b[1;32m   4209\u001b[0m \u001b[43m    \u001b[49m\u001b[43mevent_id\u001b[49m\u001b[38;5;241;43m=\u001b[39;49m\u001b[43mevent_id\u001b[49m\u001b[43m,\u001b[49m\n\u001b[1;32m   4210\u001b[0m \u001b[43m    \u001b[49m\u001b[43mtmin\u001b[49m\u001b[38;5;241;43m=\u001b[39;49m\u001b[43mtmin\u001b[49m\u001b[43m,\u001b[49m\n\u001b[1;32m   4211\u001b[0m \u001b[43m    \u001b[49m\u001b[43mbaseline\u001b[49m\u001b[38;5;241;43m=\u001b[39;49m\u001b[43mbaseline\u001b[49m\u001b[43m,\u001b[49m\n\u001b[1;32m   4212\u001b[0m \u001b[43m    \u001b[49m\u001b[43mselection\u001b[49m\u001b[38;5;241;43m=\u001b[39;49m\u001b[43mselection\u001b[49m\u001b[43m,\u001b[49m\n\u001b[1;32m   4213\u001b[0m \u001b[43m    \u001b[49m\u001b[43mdrop_log\u001b[49m\u001b[38;5;241;43m=\u001b[39;49m\u001b[43mdrop_log\u001b[49m\u001b[43m,\u001b[49m\n\u001b[1;32m   4214\u001b[0m \u001b[43m    \u001b[49m\u001b[43mproj\u001b[49m\u001b[38;5;241;43m=\u001b[39;49m\u001b[38;5;28;43;01mFalse\u001b[39;49;00m\u001b[43m,\u001b[49m\n\u001b[1;32m   4215\u001b[0m \u001b[43m    \u001b[49m\u001b[43mon_missing\u001b[49m\u001b[38;5;241;43m=\u001b[39;49m\u001b[38;5;124;43m\"\u001b[39;49m\u001b[38;5;124;43mignore\u001b[39;49m\u001b[38;5;124;43m\"\u001b[39;49m\u001b[43m,\u001b[49m\n\u001b[1;32m   4216\u001b[0m \u001b[43m    \u001b[49m\u001b[43mmetadata\u001b[49m\u001b[38;5;241;43m=\u001b[39;49m\u001b[43mmetadata\u001b[49m\u001b[43m,\u001b[49m\n\u001b[1;32m   4217\u001b[0m \u001b[43m    \u001b[49m\u001b[43mraw_sfreq\u001b[49m\u001b[38;5;241;43m=\u001b[39;49m\u001b[43mraw_sfreq\u001b[49m\u001b[43m,\u001b[49m\n\u001b[1;32m   4218\u001b[0m \u001b[43m\u001b[49m\u001b[43m)\u001b[49m\n\u001b[1;32m   4219\u001b[0m out\u001b[38;5;241m.\u001b[39mdrop_bad()\n\u001b[1;32m   4220\u001b[0m \u001b[38;5;28;01mreturn\u001b[39;00m out\n",
      "File \u001b[0;32m<decorator-gen-290>:12\u001b[0m, in \u001b[0;36m__init__\u001b[0;34m(self, data, info, events, tmin, event_id, reject, flat, reject_tmin, reject_tmax, baseline, proj, on_missing, metadata, selection, drop_log, raw_sfreq, verbose)\u001b[0m\n",
      "File \u001b[0;32m~/PhD_code_data/github/jhana/venv/lib/python3.10/site-packages/mne/epochs.py:3261\u001b[0m, in \u001b[0;36mEpochsArray.__init__\u001b[0;34m(self, data, info, events, tmin, event_id, reject, flat, reject_tmin, reject_tmax, baseline, proj, on_missing, metadata, selection, drop_log, raw_sfreq, verbose)\u001b[0m\n\u001b[1;32m   3239\u001b[0m \u001b[38;5;129m@verbose\u001b[39m\n\u001b[1;32m   3240\u001b[0m \u001b[38;5;28;01mdef\u001b[39;00m \u001b[38;5;21m__init__\u001b[39m(\n\u001b[1;32m   3241\u001b[0m     \u001b[38;5;28mself\u001b[39m,\n\u001b[0;32m   (...)\u001b[0m\n\u001b[1;32m   3259\u001b[0m     verbose\u001b[38;5;241m=\u001b[39m\u001b[38;5;28;01mNone\u001b[39;00m,\n\u001b[1;32m   3260\u001b[0m ):  \u001b[38;5;66;03m# noqa: D102\u001b[39;00m\n\u001b[0;32m-> 3261\u001b[0m     dtype \u001b[38;5;241m=\u001b[39m np\u001b[38;5;241m.\u001b[39mcomplex128 \u001b[38;5;28;01mif\u001b[39;00m \u001b[43mnp\u001b[49m\u001b[38;5;241;43m.\u001b[39;49m\u001b[43many\u001b[49m\u001b[43m(\u001b[49m\u001b[43mnp\u001b[49m\u001b[38;5;241;43m.\u001b[39;49m\u001b[43miscomplex\u001b[49m\u001b[43m(\u001b[49m\u001b[43mdata\u001b[49m\u001b[43m)\u001b[49m\u001b[43m)\u001b[49m \u001b[38;5;28;01melse\u001b[39;00m np\u001b[38;5;241m.\u001b[39mfloat64\n\u001b[1;32m   3262\u001b[0m     data \u001b[38;5;241m=\u001b[39m np\u001b[38;5;241m.\u001b[39masanyarray(data, dtype\u001b[38;5;241m=\u001b[39mdtype)\n\u001b[1;32m   3263\u001b[0m     \u001b[38;5;28;01mif\u001b[39;00m data\u001b[38;5;241m.\u001b[39mndim \u001b[38;5;241m!=\u001b[39m \u001b[38;5;241m3\u001b[39m:\n",
      "File \u001b[0;32m<__array_function__ internals>:200\u001b[0m, in \u001b[0;36many\u001b[0;34m(*args, **kwargs)\u001b[0m\n",
      "File \u001b[0;32m~/PhD_code_data/github/jhana/venv/lib/python3.10/site-packages/numpy/core/fromnumeric.py:2423\u001b[0m, in \u001b[0;36many\u001b[0;34m(a, axis, out, keepdims, where)\u001b[0m\n\u001b[1;32m   2333\u001b[0m \u001b[38;5;129m@array_function_dispatch\u001b[39m(_any_dispatcher)\n\u001b[1;32m   2334\u001b[0m \u001b[38;5;28;01mdef\u001b[39;00m \u001b[38;5;21many\u001b[39m(a, axis\u001b[38;5;241m=\u001b[39m\u001b[38;5;28;01mNone\u001b[39;00m, out\u001b[38;5;241m=\u001b[39m\u001b[38;5;28;01mNone\u001b[39;00m, keepdims\u001b[38;5;241m=\u001b[39mnp\u001b[38;5;241m.\u001b[39m_NoValue, \u001b[38;5;241m*\u001b[39m, where\u001b[38;5;241m=\u001b[39mnp\u001b[38;5;241m.\u001b[39m_NoValue):\n\u001b[1;32m   2335\u001b[0m \u001b[38;5;250m    \u001b[39m\u001b[38;5;124;03m\"\"\"\u001b[39;00m\n\u001b[1;32m   2336\u001b[0m \u001b[38;5;124;03m    Test whether any array element along a given axis evaluates to True.\u001b[39;00m\n\u001b[1;32m   2337\u001b[0m \n\u001b[0;32m   (...)\u001b[0m\n\u001b[1;32m   2421\u001b[0m \n\u001b[1;32m   2422\u001b[0m \u001b[38;5;124;03m    \"\"\"\u001b[39;00m\n\u001b[0;32m-> 2423\u001b[0m     \u001b[38;5;28;01mreturn\u001b[39;00m \u001b[43m_wrapreduction\u001b[49m\u001b[43m(\u001b[49m\u001b[43ma\u001b[49m\u001b[43m,\u001b[49m\u001b[43m \u001b[49m\u001b[43mnp\u001b[49m\u001b[38;5;241;43m.\u001b[39;49m\u001b[43mlogical_or\u001b[49m\u001b[43m,\u001b[49m\u001b[43m \u001b[49m\u001b[38;5;124;43m'\u001b[39;49m\u001b[38;5;124;43many\u001b[39;49m\u001b[38;5;124;43m'\u001b[39;49m\u001b[43m,\u001b[49m\u001b[43m \u001b[49m\u001b[43maxis\u001b[49m\u001b[43m,\u001b[49m\u001b[43m \u001b[49m\u001b[38;5;28;43;01mNone\u001b[39;49;00m\u001b[43m,\u001b[49m\u001b[43m \u001b[49m\u001b[43mout\u001b[49m\u001b[43m,\u001b[49m\n\u001b[1;32m   2424\u001b[0m \u001b[43m                          \u001b[49m\u001b[43mkeepdims\u001b[49m\u001b[38;5;241;43m=\u001b[39;49m\u001b[43mkeepdims\u001b[49m\u001b[43m,\u001b[49m\u001b[43m \u001b[49m\u001b[43mwhere\u001b[49m\u001b[38;5;241;43m=\u001b[39;49m\u001b[43mwhere\u001b[49m\u001b[43m)\u001b[49m\n",
      "File \u001b[0;32m~/PhD_code_data/github/jhana/venv/lib/python3.10/site-packages/numpy/core/fromnumeric.py:86\u001b[0m, in \u001b[0;36m_wrapreduction\u001b[0;34m(obj, ufunc, method, axis, dtype, out, **kwargs)\u001b[0m\n\u001b[1;32m     83\u001b[0m         \u001b[38;5;28;01melse\u001b[39;00m:\n\u001b[1;32m     84\u001b[0m             \u001b[38;5;28;01mreturn\u001b[39;00m reduction(axis\u001b[38;5;241m=\u001b[39maxis, out\u001b[38;5;241m=\u001b[39mout, \u001b[38;5;241m*\u001b[39m\u001b[38;5;241m*\u001b[39mpasskwargs)\n\u001b[0;32m---> 86\u001b[0m \u001b[38;5;28;01mreturn\u001b[39;00m \u001b[43mufunc\u001b[49m\u001b[38;5;241;43m.\u001b[39;49m\u001b[43mreduce\u001b[49m\u001b[43m(\u001b[49m\u001b[43mobj\u001b[49m\u001b[43m,\u001b[49m\u001b[43m \u001b[49m\u001b[43maxis\u001b[49m\u001b[43m,\u001b[49m\u001b[43m \u001b[49m\u001b[43mdtype\u001b[49m\u001b[43m,\u001b[49m\u001b[43m \u001b[49m\u001b[43mout\u001b[49m\u001b[43m,\u001b[49m\u001b[43m \u001b[49m\u001b[38;5;241;43m*\u001b[39;49m\u001b[38;5;241;43m*\u001b[39;49m\u001b[43mpasskwargs\u001b[49m\u001b[43m)\u001b[49m\n",
      "\u001b[0;31mKeyboardInterrupt\u001b[0m: "
     ]
    }
   ],
   "source": [
    "mindfulness_conditions = sorted(glob.glob(\"../data/epochs_clean/sub?-mindfulness_restingstate-jhana_day?_all-epo.fif\"))\n",
    "for count, condition in enumerate(mindfulness_conditions):\n",
    "    files = sorted(glob.glob(\"../data/epochs_clean/{}*\".format(os.path.basename(condition)[:-12])))\n",
    "    epochs = mne.read_epochs(files[0])\n",
    "    epochs_ar = mne.read_epochs(files[1])\n",
    "    eventsv = np.load(files[2])\n",
    "    eventsv_ar = np.load(files[3])\n",
    "    reject_log = autoreject.read_reject_log(files[4])\n",
    "    #print(reject_log.bad_epochs)\n",
    "    \n",
    "    if count>0:\n",
    "        print (f\"round: {count}\")\n",
    "        epochs_ar_all = mne.concatenate_epochs([epochs_ar_all, epochs_ar])\n",
    "        epochs_all = mne.concatenate_epochs([epochs_all, epochs])\n",
    "        eventsv_all = np.concatenate((eventsv_all, eventsv))\n",
    "        eventsv_ar_all = np.concatenate((eventsv_ar_all, eventsv_ar))\n",
    "        reject_log_all = np.concatenate((reject_log_all, reject_log.bad_epochs))\n",
    "    else: \n",
    "        print (f\"round: {count}\")\n",
    "        print (\"###first round###\")\n",
    "        epochs_ar_all = epochs_ar\n",
    "        epochs_all = epochs\n",
    "        eventsv_all = eventsv\n",
    "        eventsv_ar_all = eventsv_ar\n",
    "        reject_log_all = reject_log.bad_epochs\n",
    "\n",
    "\n",
    "epochs_ar_all.save(\"../data/epochs_all/epochs_ar_clean_mindfulness.fif\")\n",
    "epochs_all.save(\"../data/epochs_all/epochs_all_clean_mindfulness.fif\")\n",
    "np.save(\"../data/epochs_all/eventsv_all_mindfulness.npy\", eventsv_all)\n",
    "np.save(\"../data/epochs_all/eventsv_ar_all_mindfulness.npy\", eventsv_ar_all)\n",
    "np.save(\"../data/epochs_all/reject_log_all_mindfulness.npy\", reject_log_all)\n",
    "\n",
    "\"\"\"\n",
    "epochs_ar_mindfulness = epochs_ar_all\n",
    "epochs_mindfulness = epochs_all\n",
    "eventsv_mindfulness = eventsv_all\n",
    "eventsv_ar_mindfulness = eventsv_ar_all\n",
    "reject_log_mindfulness = reject_log_all\n",
    "\"\"\"\n",
    "\n",
    "assert (len(epochs_ar_all) == len(eventsv_ar_all))\n",
    "assert (len(epochs_all) == len(eventsv_all) == len(reject_log_all))\n",
    "\n"
   ]
  },
  {
   "cell_type": "code",
   "execution_count": 3,
   "id": "e18120c9",
   "metadata": {},
   "outputs": [
    {
     "name": "stdout",
     "output_type": "stream",
     "text": [
      "Reading /Users/jonasmago/PhD_code_data/github/jhana/notebooks/../data/epochs_clean/sub0-jhana_restingstate-jhana_day1_all-epo.fif ...\n",
      "    Found the data of interest:\n",
      "        t =       0.00 ...    9996.09 ms\n",
      "        0 CTF compensation matrices available\n",
      "Not setting metadata\n",
      "151 matching events found\n",
      "No baseline correction applied\n",
      "0 projection items activated\n",
      "Reading /Users/jonasmago/PhD_code_data/github/jhana/notebooks/../data/epochs_clean/sub0-jhana_restingstate-jhana_day1_ar-epo.fif ...\n",
      "    Found the data of interest:\n",
      "        t =       0.00 ...    9996.09 ms\n",
      "        0 CTF compensation matrices available\n",
      "Not setting metadata\n",
      "149 matching events found\n",
      "No baseline correction applied\n",
      "0 projection items activated\n",
      "round: 0\n",
      "###first round###\n",
      "Reading /Users/jonasmago/PhD_code_data/github/jhana/notebooks/../data/epochs_clean/sub0-jhana_restingstate-jhana_day2_all-epo.fif ...\n",
      "    Found the data of interest:\n",
      "        t =       0.00 ...    9996.09 ms\n",
      "        0 CTF compensation matrices available\n",
      "Not setting metadata\n",
      "150 matching events found\n",
      "No baseline correction applied\n",
      "0 projection items activated\n",
      "Reading /Users/jonasmago/PhD_code_data/github/jhana/notebooks/../data/epochs_clean/sub0-jhana_restingstate-jhana_day2_ar-epo.fif ...\n",
      "    Found the data of interest:\n",
      "        t =       0.00 ...    9996.09 ms\n",
      "        0 CTF compensation matrices available\n",
      "Not setting metadata\n",
      "107 matching events found\n",
      "No baseline correction applied\n",
      "0 projection items activated\n",
      "round: 1\n",
      "Not setting metadata\n",
      "256 matching events found\n",
      "No baseline correction applied\n",
      "Not setting metadata\n",
      "301 matching events found\n",
      "No baseline correction applied\n",
      "Reading /Users/jonasmago/PhD_code_data/github/jhana/notebooks/../data/epochs_clean/sub0-jhana_restingstate-jhana_day3_all-epo.fif ...\n",
      "    Found the data of interest:\n",
      "        t =       0.00 ...    9996.09 ms\n",
      "        0 CTF compensation matrices available\n",
      "Not setting metadata\n",
      "150 matching events found\n",
      "No baseline correction applied\n",
      "0 projection items activated\n",
      "Reading /Users/jonasmago/PhD_code_data/github/jhana/notebooks/../data/epochs_clean/sub0-jhana_restingstate-jhana_day3_ar-epo.fif ...\n",
      "    Found the data of interest:\n",
      "        t =       0.00 ...    9996.09 ms\n",
      "        0 CTF compensation matrices available\n",
      "Not setting metadata\n",
      "34 matching events found\n",
      "No baseline correction applied\n",
      "0 projection items activated\n",
      "round: 2\n",
      "Not setting metadata\n",
      "290 matching events found\n",
      "No baseline correction applied\n",
      "Not setting metadata\n",
      "451 matching events found\n",
      "No baseline correction applied\n",
      "Reading /Users/jonasmago/PhD_code_data/github/jhana/notebooks/../data/epochs_clean/sub0-jhana_restingstate-jhana_day4_all-epo.fif ...\n",
      "    Found the data of interest:\n",
      "        t =       0.00 ...    9996.09 ms\n",
      "        0 CTF compensation matrices available\n",
      "Not setting metadata\n",
      "153 matching events found\n",
      "No baseline correction applied\n",
      "0 projection items activated\n",
      "Reading /Users/jonasmago/PhD_code_data/github/jhana/notebooks/../data/epochs_clean/sub0-jhana_restingstate-jhana_day4_ar-epo.fif ...\n",
      "    Found the data of interest:\n",
      "        t =       0.00 ...    9996.09 ms\n",
      "        0 CTF compensation matrices available\n",
      "Not setting metadata\n",
      "145 matching events found\n",
      "No baseline correction applied\n",
      "0 projection items activated\n",
      "round: 3\n",
      "Not setting metadata\n",
      "435 matching events found\n",
      "No baseline correction applied\n",
      "Not setting metadata\n",
      "604 matching events found\n",
      "No baseline correction applied\n",
      "Reading /Users/jonasmago/PhD_code_data/github/jhana/notebooks/../data/epochs_clean/sub1-jhana_restingstate-jhana_day1_all-epo.fif ...\n",
      "    Found the data of interest:\n",
      "        t =       0.00 ...    9996.09 ms\n",
      "        0 CTF compensation matrices available\n",
      "Not setting metadata\n",
      "151 matching events found\n",
      "No baseline correction applied\n",
      "0 projection items activated\n",
      "Reading /Users/jonasmago/PhD_code_data/github/jhana/notebooks/../data/epochs_clean/sub1-jhana_restingstate-jhana_day1_ar-epo.fif ...\n",
      "    Found the data of interest:\n",
      "        t =       0.00 ...    9996.09 ms\n",
      "        0 CTF compensation matrices available\n",
      "Not setting metadata\n",
      "119 matching events found\n",
      "No baseline correction applied\n",
      "0 projection items activated\n",
      "round: 4\n",
      "Not setting metadata\n",
      "554 matching events found\n",
      "No baseline correction applied\n",
      "Not setting metadata\n",
      "755 matching events found\n",
      "No baseline correction applied\n",
      "Reading /Users/jonasmago/PhD_code_data/github/jhana/notebooks/../data/epochs_clean/sub1-jhana_restingstate-jhana_day2_all-epo.fif ...\n",
      "    Found the data of interest:\n",
      "        t =       0.00 ...    9996.09 ms\n",
      "        0 CTF compensation matrices available\n",
      "Not setting metadata\n",
      "149 matching events found\n",
      "No baseline correction applied\n",
      "0 projection items activated\n",
      "Reading /Users/jonasmago/PhD_code_data/github/jhana/notebooks/../data/epochs_clean/sub1-jhana_restingstate-jhana_day2_ar-epo.fif ...\n",
      "    Found the data of interest:\n",
      "        t =       0.00 ...    9996.09 ms\n",
      "        0 CTF compensation matrices available\n",
      "Not setting metadata\n",
      "113 matching events found\n",
      "No baseline correction applied\n",
      "0 projection items activated\n",
      "round: 5\n"
     ]
    },
    {
     "name": "stderr",
     "output_type": "stream",
     "text": [
      "/var/folders/bq/hl737msd54q59fzf7spf0r7h0000gn/T/ipykernel_34402/3577543714.py:14: RuntimeWarning: Concatenation of Annotations within Epochs is not supported yet. All annotations will be dropped.\n",
      "  epochs_ar_all = mne.concatenate_epochs([epochs_ar_all, epochs_ar])\n",
      "/var/folders/bq/hl737msd54q59fzf7spf0r7h0000gn/T/ipykernel_34402/3577543714.py:15: RuntimeWarning: Concatenation of Annotations within Epochs is not supported yet. All annotations will be dropped.\n",
      "  epochs_all = mne.concatenate_epochs([epochs_all, epochs])\n",
      "/var/folders/bq/hl737msd54q59fzf7spf0r7h0000gn/T/ipykernel_34402/3577543714.py:14: RuntimeWarning: Concatenation of Annotations within Epochs is not supported yet. All annotations will be dropped.\n",
      "  epochs_ar_all = mne.concatenate_epochs([epochs_ar_all, epochs_ar])\n"
     ]
    },
    {
     "name": "stdout",
     "output_type": "stream",
     "text": [
      "Not setting metadata\n",
      "667 matching events found\n",
      "No baseline correction applied\n",
      "Not setting metadata\n",
      "904 matching events found\n",
      "No baseline correction applied\n",
      "Reading /Users/jonasmago/PhD_code_data/github/jhana/notebooks/../data/epochs_clean/sub1-jhana_restingstate-jhana_day3_all-epo.fif ...\n",
      "    Found the data of interest:\n",
      "        t =       0.00 ...    9996.09 ms\n",
      "        0 CTF compensation matrices available\n",
      "Not setting metadata\n",
      "150 matching events found\n",
      "No baseline correction applied\n",
      "0 projection items activated\n",
      "Reading /Users/jonasmago/PhD_code_data/github/jhana/notebooks/../data/epochs_clean/sub1-jhana_restingstate-jhana_day3_ar-epo.fif ...\n",
      "    Found the data of interest:\n",
      "        t =       0.00 ...    9996.09 ms\n",
      "        0 CTF compensation matrices available\n",
      "Not setting metadata\n",
      "100 matching events found\n",
      "No baseline correction applied\n",
      "0 projection items activated\n",
      "round: 6\n",
      "Not setting metadata\n",
      "767 matching events found\n",
      "No baseline correction applied\n"
     ]
    },
    {
     "name": "stderr",
     "output_type": "stream",
     "text": [
      "/var/folders/bq/hl737msd54q59fzf7spf0r7h0000gn/T/ipykernel_34402/3577543714.py:15: RuntimeWarning: Concatenation of Annotations within Epochs is not supported yet. All annotations will be dropped.\n",
      "  epochs_all = mne.concatenate_epochs([epochs_all, epochs])\n",
      "/var/folders/bq/hl737msd54q59fzf7spf0r7h0000gn/T/ipykernel_34402/3577543714.py:14: RuntimeWarning: Concatenation of Annotations within Epochs is not supported yet. All annotations will be dropped.\n",
      "  epochs_ar_all = mne.concatenate_epochs([epochs_ar_all, epochs_ar])\n",
      "/var/folders/bq/hl737msd54q59fzf7spf0r7h0000gn/T/ipykernel_34402/3577543714.py:15: RuntimeWarning: Concatenation of Annotations within Epochs is not supported yet. All annotations will be dropped.\n",
      "  epochs_all = mne.concatenate_epochs([epochs_all, epochs])\n"
     ]
    },
    {
     "name": "stdout",
     "output_type": "stream",
     "text": [
      "Not setting metadata\n",
      "1054 matching events found\n",
      "No baseline correction applied\n",
      "Reading /Users/jonasmago/PhD_code_data/github/jhana/notebooks/../data/epochs_clean/sub1-jhana_restingstate-jhana_day4_all-epo.fif ...\n",
      "    Found the data of interest:\n",
      "        t =       0.00 ...    9996.09 ms\n",
      "        0 CTF compensation matrices available\n",
      "Not setting metadata\n",
      "154 matching events found\n",
      "No baseline correction applied\n",
      "0 projection items activated\n",
      "Reading /Users/jonasmago/PhD_code_data/github/jhana/notebooks/../data/epochs_clean/sub1-jhana_restingstate-jhana_day4_ar-epo.fif ...\n",
      "    Found the data of interest:\n",
      "        t =       0.00 ...    9996.09 ms\n",
      "        0 CTF compensation matrices available\n",
      "Not setting metadata\n",
      "151 matching events found\n",
      "No baseline correction applied\n",
      "0 projection items activated\n",
      "round: 7\n",
      "Not setting metadata\n",
      "918 matching events found\n",
      "No baseline correction applied\n",
      "Not setting metadata\n",
      "1208 matching events found\n",
      "No baseline correction applied\n",
      "Reading /Users/jonasmago/PhD_code_data/github/jhana/notebooks/../data/epochs_clean/sub2-jhana_restingstate-jhana_day1_all-epo.fif ...\n",
      "    Found the data of interest:\n",
      "        t =       0.00 ...    9996.09 ms\n",
      "        0 CTF compensation matrices available\n",
      "Not setting metadata\n",
      "150 matching events found\n",
      "No baseline correction applied\n",
      "0 projection items activated\n"
     ]
    },
    {
     "name": "stderr",
     "output_type": "stream",
     "text": [
      "/var/folders/bq/hl737msd54q59fzf7spf0r7h0000gn/T/ipykernel_34402/3577543714.py:14: RuntimeWarning: Concatenation of Annotations within Epochs is not supported yet. All annotations will be dropped.\n",
      "  epochs_ar_all = mne.concatenate_epochs([epochs_ar_all, epochs_ar])\n",
      "/var/folders/bq/hl737msd54q59fzf7spf0r7h0000gn/T/ipykernel_34402/3577543714.py:15: RuntimeWarning: Concatenation of Annotations within Epochs is not supported yet. All annotations will be dropped.\n",
      "  epochs_all = mne.concatenate_epochs([epochs_all, epochs])\n"
     ]
    },
    {
     "name": "stdout",
     "output_type": "stream",
     "text": [
      "Reading /Users/jonasmago/PhD_code_data/github/jhana/notebooks/../data/epochs_clean/sub2-jhana_restingstate-jhana_day1_ar-epo.fif ...\n",
      "    Found the data of interest:\n",
      "        t =       0.00 ...    9996.09 ms\n",
      "        0 CTF compensation matrices available\n",
      "Not setting metadata\n",
      "142 matching events found\n",
      "No baseline correction applied\n",
      "0 projection items activated\n",
      "round: 8\n",
      "Not setting metadata\n",
      "1060 matching events found\n",
      "No baseline correction applied\n",
      "Not setting metadata\n",
      "1358 matching events found\n",
      "No baseline correction applied\n",
      "Reading /Users/jonasmago/PhD_code_data/github/jhana/notebooks/../data/epochs_clean/sub2-jhana_restingstate-jhana_day2_all-epo.fif ...\n",
      "    Found the data of interest:\n"
     ]
    },
    {
     "name": "stderr",
     "output_type": "stream",
     "text": [
      "/var/folders/bq/hl737msd54q59fzf7spf0r7h0000gn/T/ipykernel_34402/3577543714.py:14: RuntimeWarning: Concatenation of Annotations within Epochs is not supported yet. All annotations will be dropped.\n",
      "  epochs_ar_all = mne.concatenate_epochs([epochs_ar_all, epochs_ar])\n",
      "/var/folders/bq/hl737msd54q59fzf7spf0r7h0000gn/T/ipykernel_34402/3577543714.py:15: RuntimeWarning: Concatenation of Annotations within Epochs is not supported yet. All annotations will be dropped.\n",
      "  epochs_all = mne.concatenate_epochs([epochs_all, epochs])\n"
     ]
    },
    {
     "name": "stdout",
     "output_type": "stream",
     "text": [
      "        t =       0.00 ...    9996.09 ms\n",
      "        0 CTF compensation matrices available\n",
      "Not setting metadata\n",
      "149 matching events found\n",
      "No baseline correction applied\n",
      "0 projection items activated\n",
      "Reading /Users/jonasmago/PhD_code_data/github/jhana/notebooks/../data/epochs_clean/sub2-jhana_restingstate-jhana_day2_ar-epo.fif ...\n",
      "    Found the data of interest:\n",
      "        t =       0.00 ...    9996.09 ms\n",
      "        0 CTF compensation matrices available\n",
      "Not setting metadata\n",
      "142 matching events found\n",
      "No baseline correction applied\n",
      "0 projection items activated\n",
      "round: 9\n",
      "Not setting metadata\n",
      "1202 matching events found\n",
      "No baseline correction applied\n"
     ]
    },
    {
     "name": "stderr",
     "output_type": "stream",
     "text": [
      "/var/folders/bq/hl737msd54q59fzf7spf0r7h0000gn/T/ipykernel_34402/3577543714.py:14: RuntimeWarning: Concatenation of Annotations within Epochs is not supported yet. All annotations will be dropped.\n",
      "  epochs_ar_all = mne.concatenate_epochs([epochs_ar_all, epochs_ar])\n",
      "/var/folders/bq/hl737msd54q59fzf7spf0r7h0000gn/T/ipykernel_34402/3577543714.py:15: RuntimeWarning: Concatenation of Annotations within Epochs is not supported yet. All annotations will be dropped.\n",
      "  epochs_all = mne.concatenate_epochs([epochs_all, epochs])\n"
     ]
    },
    {
     "name": "stdout",
     "output_type": "stream",
     "text": [
      "Not setting metadata\n",
      "1507 matching events found\n",
      "No baseline correction applied\n",
      "Reading /Users/jonasmago/PhD_code_data/github/jhana/notebooks/../data/epochs_clean/sub2-jhana_restingstate-jhana_day3_all-epo.fif ...\n",
      "    Found the data of interest:\n",
      "        t =       0.00 ...    9996.09 ms\n",
      "        0 CTF compensation matrices available\n",
      "Not setting metadata\n",
      "151 matching events found\n",
      "No baseline correction applied\n",
      "0 projection items activated\n",
      "Reading /Users/jonasmago/PhD_code_data/github/jhana/notebooks/../data/epochs_clean/sub2-jhana_restingstate-jhana_day3_ar-epo.fif ...\n",
      "    Found the data of interest:\n",
      "        t =       0.00 ...    9996.09 ms\n",
      "        0 CTF compensation matrices available\n",
      "Not setting metadata\n",
      "135 matching events found\n",
      "No baseline correction applied\n",
      "0 projection items activated\n",
      "round: 10\n",
      "Not setting metadata\n",
      "1337 matching events found\n",
      "No baseline correction applied\n"
     ]
    },
    {
     "name": "stderr",
     "output_type": "stream",
     "text": [
      "/var/folders/bq/hl737msd54q59fzf7spf0r7h0000gn/T/ipykernel_34402/3577543714.py:14: RuntimeWarning: Concatenation of Annotations within Epochs is not supported yet. All annotations will be dropped.\n",
      "  epochs_ar_all = mne.concatenate_epochs([epochs_ar_all, epochs_ar])\n",
      "/var/folders/bq/hl737msd54q59fzf7spf0r7h0000gn/T/ipykernel_34402/3577543714.py:15: RuntimeWarning: Concatenation of Annotations within Epochs is not supported yet. All annotations will be dropped.\n",
      "  epochs_all = mne.concatenate_epochs([epochs_all, epochs])\n"
     ]
    },
    {
     "name": "stdout",
     "output_type": "stream",
     "text": [
      "Not setting metadata\n",
      "1658 matching events found\n",
      "No baseline correction applied\n",
      "Reading /Users/jonasmago/PhD_code_data/github/jhana/notebooks/../data/epochs_clean/sub2-jhana_restingstate-jhana_day4_all-epo.fif ...\n",
      "    Found the data of interest:\n",
      "        t =       0.00 ...    9996.09 ms\n",
      "        0 CTF compensation matrices available\n",
      "Not setting metadata\n",
      "151 matching events found\n",
      "No baseline correction applied\n",
      "0 projection items activated\n",
      "Reading /Users/jonasmago/PhD_code_data/github/jhana/notebooks/../data/epochs_clean/sub2-jhana_restingstate-jhana_day4_ar-epo.fif ...\n",
      "    Found the data of interest:\n",
      "        t =       0.00 ...    9996.09 ms\n",
      "        0 CTF compensation matrices available\n",
      "Not setting metadata\n",
      "136 matching events found\n",
      "No baseline correction applied\n",
      "0 projection items activated\n",
      "round: 11\n",
      "Not setting metadata\n",
      "1473 matching events found\n",
      "No baseline correction applied\n"
     ]
    },
    {
     "name": "stderr",
     "output_type": "stream",
     "text": [
      "/var/folders/bq/hl737msd54q59fzf7spf0r7h0000gn/T/ipykernel_34402/3577543714.py:14: RuntimeWarning: Concatenation of Annotations within Epochs is not supported yet. All annotations will be dropped.\n",
      "  epochs_ar_all = mne.concatenate_epochs([epochs_ar_all, epochs_ar])\n",
      "/var/folders/bq/hl737msd54q59fzf7spf0r7h0000gn/T/ipykernel_34402/3577543714.py:15: RuntimeWarning: Concatenation of Annotations within Epochs is not supported yet. All annotations will be dropped.\n",
      "  epochs_all = mne.concatenate_epochs([epochs_all, epochs])\n"
     ]
    },
    {
     "name": "stdout",
     "output_type": "stream",
     "text": [
      "Not setting metadata\n",
      "1809 matching events found\n",
      "No baseline correction applied\n",
      "Reading /Users/jonasmago/PhD_code_data/github/jhana/notebooks/../data/epochs_clean/sub3-jhana_restingstate-jhana_day1_all-epo.fif ...\n",
      "    Found the data of interest:\n",
      "        t =       0.00 ...    9996.09 ms\n",
      "        0 CTF compensation matrices available\n",
      "Not setting metadata\n",
      "150 matching events found\n",
      "No baseline correction applied\n",
      "0 projection items activated\n",
      "Reading /Users/jonasmago/PhD_code_data/github/jhana/notebooks/../data/epochs_clean/sub3-jhana_restingstate-jhana_day1_ar-epo.fif ...\n",
      "    Found the data of interest:\n",
      "        t =       0.00 ...    9996.09 ms\n",
      "        0 CTF compensation matrices available\n",
      "Not setting metadata\n",
      "109 matching events found\n",
      "No baseline correction applied\n",
      "0 projection items activated\n",
      "round: 12\n",
      "Not setting metadata\n",
      "1582 matching events found\n",
      "No baseline correction applied\n"
     ]
    },
    {
     "name": "stderr",
     "output_type": "stream",
     "text": [
      "/var/folders/bq/hl737msd54q59fzf7spf0r7h0000gn/T/ipykernel_34402/3577543714.py:14: RuntimeWarning: Concatenation of Annotations within Epochs is not supported yet. All annotations will be dropped.\n",
      "  epochs_ar_all = mne.concatenate_epochs([epochs_ar_all, epochs_ar])\n",
      "/var/folders/bq/hl737msd54q59fzf7spf0r7h0000gn/T/ipykernel_34402/3577543714.py:15: RuntimeWarning: Concatenation of Annotations within Epochs is not supported yet. All annotations will be dropped.\n",
      "  epochs_all = mne.concatenate_epochs([epochs_all, epochs])\n"
     ]
    },
    {
     "name": "stdout",
     "output_type": "stream",
     "text": [
      "Not setting metadata\n",
      "1959 matching events found\n",
      "No baseline correction applied\n",
      "Reading /Users/jonasmago/PhD_code_data/github/jhana/notebooks/../data/epochs_clean/sub3-jhana_restingstate-jhana_day2_all-epo.fif ...\n",
      "    Found the data of interest:\n",
      "        t =       0.00 ...    9996.09 ms\n",
      "        0 CTF compensation matrices available\n",
      "Not setting metadata\n",
      "149 matching events found\n",
      "No baseline correction applied\n",
      "0 projection items activated\n",
      "Reading /Users/jonasmago/PhD_code_data/github/jhana/notebooks/../data/epochs_clean/sub3-jhana_restingstate-jhana_day2_ar-epo.fif ...\n",
      "    Found the data of interest:\n",
      "        t =       0.00 ...    9996.09 ms\n",
      "        0 CTF compensation matrices available\n",
      "Not setting metadata\n",
      "134 matching events found\n",
      "No baseline correction applied\n",
      "0 projection items activated\n",
      "round: 13\n",
      "Not setting metadata\n",
      "1716 matching events found\n",
      "No baseline correction applied\n"
     ]
    },
    {
     "name": "stderr",
     "output_type": "stream",
     "text": [
      "/var/folders/bq/hl737msd54q59fzf7spf0r7h0000gn/T/ipykernel_34402/3577543714.py:14: RuntimeWarning: Concatenation of Annotations within Epochs is not supported yet. All annotations will be dropped.\n",
      "  epochs_ar_all = mne.concatenate_epochs([epochs_ar_all, epochs_ar])\n",
      "/var/folders/bq/hl737msd54q59fzf7spf0r7h0000gn/T/ipykernel_34402/3577543714.py:15: RuntimeWarning: Concatenation of Annotations within Epochs is not supported yet. All annotations will be dropped.\n",
      "  epochs_all = mne.concatenate_epochs([epochs_all, epochs])\n"
     ]
    },
    {
     "name": "stdout",
     "output_type": "stream",
     "text": [
      "Not setting metadata\n",
      "2108 matching events found\n",
      "No baseline correction applied\n",
      "Reading /Users/jonasmago/PhD_code_data/github/jhana/notebooks/../data/epochs_clean/sub3-jhana_restingstate-jhana_day3_all-epo.fif ...\n",
      "    Found the data of interest:\n",
      "        t =       0.00 ...    9996.09 ms\n",
      "        0 CTF compensation matrices available\n",
      "Not setting metadata\n",
      "150 matching events found\n",
      "No baseline correction applied\n",
      "0 projection items activated\n",
      "Reading /Users/jonasmago/PhD_code_data/github/jhana/notebooks/../data/epochs_clean/sub3-jhana_restingstate-jhana_day3_ar-epo.fif ...\n",
      "    Found the data of interest:\n",
      "        t =       0.00 ...    9996.09 ms\n",
      "        0 CTF compensation matrices available\n",
      "Not setting metadata\n",
      "97 matching events found\n",
      "No baseline correction applied\n",
      "0 projection items activated\n",
      "round: 14\n",
      "Not setting metadata\n",
      "1813 matching events found\n",
      "No baseline correction applied\n"
     ]
    },
    {
     "name": "stderr",
     "output_type": "stream",
     "text": [
      "/var/folders/bq/hl737msd54q59fzf7spf0r7h0000gn/T/ipykernel_34402/3577543714.py:14: RuntimeWarning: Concatenation of Annotations within Epochs is not supported yet. All annotations will be dropped.\n",
      "  epochs_ar_all = mne.concatenate_epochs([epochs_ar_all, epochs_ar])\n",
      "/var/folders/bq/hl737msd54q59fzf7spf0r7h0000gn/T/ipykernel_34402/3577543714.py:15: RuntimeWarning: Concatenation of Annotations within Epochs is not supported yet. All annotations will be dropped.\n",
      "  epochs_all = mne.concatenate_epochs([epochs_all, epochs])\n"
     ]
    },
    {
     "name": "stdout",
     "output_type": "stream",
     "text": [
      "Not setting metadata\n",
      "2258 matching events found\n",
      "No baseline correction applied\n",
      "Reading /Users/jonasmago/PhD_code_data/github/jhana/notebooks/../data/epochs_clean/sub3-jhana_restingstate-jhana_day4_all-epo.fif ...\n",
      "    Found the data of interest:\n",
      "        t =       0.00 ...    9996.09 ms\n",
      "        0 CTF compensation matrices available\n",
      "Not setting metadata\n",
      "151 matching events found\n",
      "No baseline correction applied\n",
      "0 projection items activated\n",
      "Reading /Users/jonasmago/PhD_code_data/github/jhana/notebooks/../data/epochs_clean/sub3-jhana_restingstate-jhana_day4_ar-epo.fif ...\n",
      "    Found the data of interest:\n",
      "        t =       0.00 ...    9996.09 ms\n",
      "        0 CTF compensation matrices available\n",
      "Not setting metadata\n",
      "147 matching events found\n",
      "No baseline correction applied\n",
      "0 projection items activated\n",
      "round: 15\n",
      "Not setting metadata\n",
      "1960 matching events found\n",
      "No baseline correction applied\n"
     ]
    },
    {
     "name": "stderr",
     "output_type": "stream",
     "text": [
      "/var/folders/bq/hl737msd54q59fzf7spf0r7h0000gn/T/ipykernel_34402/3577543714.py:14: RuntimeWarning: Concatenation of Annotations within Epochs is not supported yet. All annotations will be dropped.\n",
      "  epochs_ar_all = mne.concatenate_epochs([epochs_ar_all, epochs_ar])\n",
      "/var/folders/bq/hl737msd54q59fzf7spf0r7h0000gn/T/ipykernel_34402/3577543714.py:15: RuntimeWarning: Concatenation of Annotations within Epochs is not supported yet. All annotations will be dropped.\n",
      "  epochs_all = mne.concatenate_epochs([epochs_all, epochs])\n"
     ]
    },
    {
     "name": "stdout",
     "output_type": "stream",
     "text": [
      "Not setting metadata\n",
      "2409 matching events found\n",
      "No baseline correction applied\n",
      "Reading /Users/jonasmago/PhD_code_data/github/jhana/notebooks/../data/epochs_clean/sub4-jhana_restingstate-jhana_day1_all-epo.fif ...\n",
      "    Found the data of interest:\n",
      "        t =       0.00 ...    9996.09 ms\n",
      "        0 CTF compensation matrices available\n",
      "Not setting metadata\n",
      "152 matching events found\n",
      "No baseline correction applied\n",
      "0 projection items activated\n",
      "Reading /Users/jonasmago/PhD_code_data/github/jhana/notebooks/../data/epochs_clean/sub4-jhana_restingstate-jhana_day1_ar-epo.fif ...\n",
      "    Found the data of interest:\n",
      "        t =       0.00 ...    9996.09 ms\n",
      "        0 CTF compensation matrices available\n",
      "Not setting metadata\n",
      "9 matching events found\n",
      "No baseline correction applied\n",
      "0 projection items activated\n",
      "round: 16\n",
      "Not setting metadata\n",
      "1969 matching events found\n",
      "No baseline correction applied\n"
     ]
    },
    {
     "name": "stderr",
     "output_type": "stream",
     "text": [
      "/var/folders/bq/hl737msd54q59fzf7spf0r7h0000gn/T/ipykernel_34402/3577543714.py:14: RuntimeWarning: Concatenation of Annotations within Epochs is not supported yet. All annotations will be dropped.\n",
      "  epochs_ar_all = mne.concatenate_epochs([epochs_ar_all, epochs_ar])\n",
      "/var/folders/bq/hl737msd54q59fzf7spf0r7h0000gn/T/ipykernel_34402/3577543714.py:15: RuntimeWarning: Concatenation of Annotations within Epochs is not supported yet. All annotations will be dropped.\n",
      "  epochs_all = mne.concatenate_epochs([epochs_all, epochs])\n"
     ]
    },
    {
     "name": "stdout",
     "output_type": "stream",
     "text": [
      "Not setting metadata\n",
      "2561 matching events found\n",
      "No baseline correction applied\n",
      "Reading /Users/jonasmago/PhD_code_data/github/jhana/notebooks/../data/epochs_clean/sub4-jhana_restingstate-jhana_day2_all-epo.fif ...\n",
      "    Found the data of interest:\n",
      "        t =       0.00 ...    9996.09 ms\n",
      "        0 CTF compensation matrices available\n",
      "Not setting metadata\n",
      "152 matching events found\n",
      "No baseline correction applied\n",
      "0 projection items activated\n",
      "Reading /Users/jonasmago/PhD_code_data/github/jhana/notebooks/../data/epochs_clean/sub4-jhana_restingstate-jhana_day2_ar-epo.fif ...\n",
      "    Found the data of interest:\n",
      "        t =       0.00 ...    9996.09 ms\n",
      "        0 CTF compensation matrices available\n",
      "Not setting metadata\n",
      "149 matching events found\n",
      "No baseline correction applied\n",
      "0 projection items activated\n",
      "round: 17\n",
      "Not setting metadata\n",
      "2118 matching events found\n",
      "No baseline correction applied\n"
     ]
    },
    {
     "name": "stderr",
     "output_type": "stream",
     "text": [
      "/var/folders/bq/hl737msd54q59fzf7spf0r7h0000gn/T/ipykernel_34402/3577543714.py:14: RuntimeWarning: Concatenation of Annotations within Epochs is not supported yet. All annotations will be dropped.\n",
      "  epochs_ar_all = mne.concatenate_epochs([epochs_ar_all, epochs_ar])\n",
      "/var/folders/bq/hl737msd54q59fzf7spf0r7h0000gn/T/ipykernel_34402/3577543714.py:15: RuntimeWarning: Concatenation of Annotations within Epochs is not supported yet. All annotations will be dropped.\n",
      "  epochs_all = mne.concatenate_epochs([epochs_all, epochs])\n"
     ]
    },
    {
     "name": "stdout",
     "output_type": "stream",
     "text": [
      "Not setting metadata\n",
      "2713 matching events found\n",
      "No baseline correction applied\n",
      "Reading /Users/jonasmago/PhD_code_data/github/jhana/notebooks/../data/epochs_clean/sub4-jhana_restingstate-jhana_day3_all-epo.fif ...\n",
      "    Found the data of interest:\n",
      "        t =       0.00 ...    9996.09 ms\n",
      "        0 CTF compensation matrices available\n",
      "Not setting metadata\n",
      "151 matching events found\n",
      "No baseline correction applied\n",
      "0 projection items activated\n",
      "Reading /Users/jonasmago/PhD_code_data/github/jhana/notebooks/../data/epochs_clean/sub4-jhana_restingstate-jhana_day3_ar-epo.fif ...\n",
      "    Found the data of interest:\n",
      "        t =       0.00 ...    9996.09 ms\n",
      "        0 CTF compensation matrices available\n",
      "Not setting metadata\n",
      "147 matching events found\n",
      "No baseline correction applied\n",
      "0 projection items activated\n",
      "round: 18\n",
      "Not setting metadata\n",
      "2265 matching events found\n",
      "No baseline correction applied\n"
     ]
    },
    {
     "name": "stderr",
     "output_type": "stream",
     "text": [
      "/var/folders/bq/hl737msd54q59fzf7spf0r7h0000gn/T/ipykernel_34402/3577543714.py:14: RuntimeWarning: Concatenation of Annotations within Epochs is not supported yet. All annotations will be dropped.\n",
      "  epochs_ar_all = mne.concatenate_epochs([epochs_ar_all, epochs_ar])\n",
      "/var/folders/bq/hl737msd54q59fzf7spf0r7h0000gn/T/ipykernel_34402/3577543714.py:15: RuntimeWarning: Concatenation of Annotations within Epochs is not supported yet. All annotations will be dropped.\n",
      "  epochs_all = mne.concatenate_epochs([epochs_all, epochs])\n"
     ]
    },
    {
     "name": "stdout",
     "output_type": "stream",
     "text": [
      "Not setting metadata\n",
      "2864 matching events found\n",
      "No baseline correction applied\n",
      "Reading /Users/jonasmago/PhD_code_data/github/jhana/notebooks/../data/epochs_clean/sub4-jhana_restingstate-jhana_day4_all-epo.fif ...\n",
      "    Found the data of interest:\n",
      "        t =       0.00 ...    9996.09 ms\n",
      "        0 CTF compensation matrices available\n",
      "Not setting metadata\n",
      "151 matching events found\n",
      "No baseline correction applied\n",
      "0 projection items activated\n",
      "Reading /Users/jonasmago/PhD_code_data/github/jhana/notebooks/../data/epochs_clean/sub4-jhana_restingstate-jhana_day4_ar-epo.fif ...\n",
      "    Found the data of interest:\n",
      "        t =       0.00 ...    9996.09 ms\n",
      "        0 CTF compensation matrices available\n",
      "Not setting metadata\n",
      "82 matching events found\n",
      "No baseline correction applied\n",
      "0 projection items activated\n",
      "round: 19\n",
      "Not setting metadata\n",
      "2347 matching events found\n",
      "No baseline correction applied\n"
     ]
    },
    {
     "name": "stderr",
     "output_type": "stream",
     "text": [
      "/var/folders/bq/hl737msd54q59fzf7spf0r7h0000gn/T/ipykernel_34402/3577543714.py:14: RuntimeWarning: Concatenation of Annotations within Epochs is not supported yet. All annotations will be dropped.\n",
      "  epochs_ar_all = mne.concatenate_epochs([epochs_ar_all, epochs_ar])\n",
      "/var/folders/bq/hl737msd54q59fzf7spf0r7h0000gn/T/ipykernel_34402/3577543714.py:15: RuntimeWarning: Concatenation of Annotations within Epochs is not supported yet. All annotations will be dropped.\n",
      "  epochs_all = mne.concatenate_epochs([epochs_all, epochs])\n"
     ]
    },
    {
     "name": "stdout",
     "output_type": "stream",
     "text": [
      "Not setting metadata\n",
      "3015 matching events found\n",
      "No baseline correction applied\n",
      "Reading /Users/jonasmago/PhD_code_data/github/jhana/notebooks/../data/epochs_clean/sub5-jhana_restingstate-jhana_day1_all-epo.fif ...\n",
      "    Found the data of interest:\n",
      "        t =       0.00 ...    9996.09 ms\n",
      "        0 CTF compensation matrices available\n",
      "Not setting metadata\n",
      "152 matching events found\n",
      "No baseline correction applied\n",
      "0 projection items activated\n",
      "Reading /Users/jonasmago/PhD_code_data/github/jhana/notebooks/../data/epochs_clean/sub5-jhana_restingstate-jhana_day1_ar-epo.fif ...\n",
      "    Found the data of interest:\n",
      "        t =       0.00 ...    9996.09 ms\n",
      "        0 CTF compensation matrices available\n",
      "Not setting metadata\n",
      "145 matching events found\n",
      "No baseline correction applied\n",
      "0 projection items activated\n",
      "round: 20\n"
     ]
    },
    {
     "name": "stderr",
     "output_type": "stream",
     "text": [
      "/var/folders/bq/hl737msd54q59fzf7spf0r7h0000gn/T/ipykernel_34402/3577543714.py:14: RuntimeWarning: Concatenation of Annotations within Epochs is not supported yet. All annotations will be dropped.\n",
      "  epochs_ar_all = mne.concatenate_epochs([epochs_ar_all, epochs_ar])\n"
     ]
    },
    {
     "name": "stdout",
     "output_type": "stream",
     "text": [
      "Not setting metadata\n",
      "2492 matching events found\n",
      "No baseline correction applied\n"
     ]
    },
    {
     "name": "stderr",
     "output_type": "stream",
     "text": [
      "/var/folders/bq/hl737msd54q59fzf7spf0r7h0000gn/T/ipykernel_34402/3577543714.py:15: RuntimeWarning: Concatenation of Annotations within Epochs is not supported yet. All annotations will be dropped.\n",
      "  epochs_all = mne.concatenate_epochs([epochs_all, epochs])\n"
     ]
    },
    {
     "name": "stdout",
     "output_type": "stream",
     "text": [
      "Not setting metadata\n",
      "3167 matching events found\n",
      "No baseline correction applied\n",
      "Reading /Users/jonasmago/PhD_code_data/github/jhana/notebooks/../data/epochs_clean/sub5-jhana_restingstate-jhana_day2_all-epo.fif ...\n",
      "    Found the data of interest:\n",
      "        t =       0.00 ...    9996.09 ms\n",
      "        0 CTF compensation matrices available\n",
      "Not setting metadata\n",
      "152 matching events found\n",
      "No baseline correction applied\n",
      "0 projection items activated\n",
      "Reading /Users/jonasmago/PhD_code_data/github/jhana/notebooks/../data/epochs_clean/sub5-jhana_restingstate-jhana_day2_ar-epo.fif ...\n",
      "    Found the data of interest:\n",
      "        t =       0.00 ...    9996.09 ms\n",
      "        0 CTF compensation matrices available\n",
      "Not setting metadata\n",
      "152 matching events found\n",
      "No baseline correction applied\n",
      "0 projection items activated\n",
      "round: 21\n"
     ]
    },
    {
     "name": "stderr",
     "output_type": "stream",
     "text": [
      "/var/folders/bq/hl737msd54q59fzf7spf0r7h0000gn/T/ipykernel_34402/3577543714.py:14: RuntimeWarning: Concatenation of Annotations within Epochs is not supported yet. All annotations will be dropped.\n",
      "  epochs_ar_all = mne.concatenate_epochs([epochs_ar_all, epochs_ar])\n"
     ]
    },
    {
     "name": "stdout",
     "output_type": "stream",
     "text": [
      "Not setting metadata\n",
      "2644 matching events found\n",
      "No baseline correction applied\n"
     ]
    },
    {
     "name": "stderr",
     "output_type": "stream",
     "text": [
      "/var/folders/bq/hl737msd54q59fzf7spf0r7h0000gn/T/ipykernel_34402/3577543714.py:15: RuntimeWarning: Concatenation of Annotations within Epochs is not supported yet. All annotations will be dropped.\n",
      "  epochs_all = mne.concatenate_epochs([epochs_all, epochs])\n"
     ]
    },
    {
     "name": "stdout",
     "output_type": "stream",
     "text": [
      "Not setting metadata\n",
      "3319 matching events found\n",
      "No baseline correction applied\n",
      "Reading /Users/jonasmago/PhD_code_data/github/jhana/notebooks/../data/epochs_clean/sub5-jhana_restingstate-jhana_day3_all-epo.fif ...\n",
      "    Found the data of interest:\n",
      "        t =       0.00 ...    9996.09 ms\n",
      "        0 CTF compensation matrices available\n",
      "Not setting metadata\n",
      "152 matching events found\n",
      "No baseline correction applied\n",
      "0 projection items activated\n",
      "Reading /Users/jonasmago/PhD_code_data/github/jhana/notebooks/../data/epochs_clean/sub5-jhana_restingstate-jhana_day3_ar-epo.fif ...\n",
      "    Found the data of interest:\n",
      "        t =       0.00 ...    9996.09 ms\n",
      "        0 CTF compensation matrices available\n",
      "Not setting metadata\n",
      "136 matching events found\n",
      "No baseline correction applied\n",
      "0 projection items activated\n",
      "round: 22\n"
     ]
    },
    {
     "name": "stderr",
     "output_type": "stream",
     "text": [
      "/var/folders/bq/hl737msd54q59fzf7spf0r7h0000gn/T/ipykernel_34402/3577543714.py:14: RuntimeWarning: Concatenation of Annotations within Epochs is not supported yet. All annotations will be dropped.\n",
      "  epochs_ar_all = mne.concatenate_epochs([epochs_ar_all, epochs_ar])\n"
     ]
    },
    {
     "name": "stdout",
     "output_type": "stream",
     "text": [
      "Not setting metadata\n",
      "2780 matching events found\n",
      "No baseline correction applied\n"
     ]
    },
    {
     "name": "stderr",
     "output_type": "stream",
     "text": [
      "/var/folders/bq/hl737msd54q59fzf7spf0r7h0000gn/T/ipykernel_34402/3577543714.py:15: RuntimeWarning: Concatenation of Annotations within Epochs is not supported yet. All annotations will be dropped.\n",
      "  epochs_all = mne.concatenate_epochs([epochs_all, epochs])\n"
     ]
    },
    {
     "name": "stdout",
     "output_type": "stream",
     "text": [
      "Not setting metadata\n",
      "3471 matching events found\n",
      "No baseline correction applied\n",
      "Reading /Users/jonasmago/PhD_code_data/github/jhana/notebooks/../data/epochs_clean/sub5-jhana_restingstate-jhana_day4_all-epo.fif ...\n",
      "    Found the data of interest:\n",
      "        t =       0.00 ...    9996.09 ms\n",
      "        0 CTF compensation matrices available\n",
      "Not setting metadata\n",
      "151 matching events found\n",
      "No baseline correction applied\n",
      "0 projection items activated\n",
      "Reading /Users/jonasmago/PhD_code_data/github/jhana/notebooks/../data/epochs_clean/sub5-jhana_restingstate-jhana_day4_ar-epo.fif ...\n",
      "    Found the data of interest:\n",
      "        t =       0.00 ...    9996.09 ms\n",
      "        0 CTF compensation matrices available\n",
      "Not setting metadata\n",
      "150 matching events found\n",
      "No baseline correction applied\n",
      "0 projection items activated\n",
      "round: 23\n"
     ]
    },
    {
     "name": "stderr",
     "output_type": "stream",
     "text": [
      "/var/folders/bq/hl737msd54q59fzf7spf0r7h0000gn/T/ipykernel_34402/3577543714.py:14: RuntimeWarning: Concatenation of Annotations within Epochs is not supported yet. All annotations will be dropped.\n",
      "  epochs_ar_all = mne.concatenate_epochs([epochs_ar_all, epochs_ar])\n"
     ]
    },
    {
     "name": "stdout",
     "output_type": "stream",
     "text": [
      "Not setting metadata\n",
      "2930 matching events found\n",
      "No baseline correction applied\n"
     ]
    },
    {
     "name": "stderr",
     "output_type": "stream",
     "text": [
      "/var/folders/bq/hl737msd54q59fzf7spf0r7h0000gn/T/ipykernel_34402/3577543714.py:15: RuntimeWarning: Concatenation of Annotations within Epochs is not supported yet. All annotations will be dropped.\n",
      "  epochs_all = mne.concatenate_epochs([epochs_all, epochs])\n"
     ]
    },
    {
     "name": "stdout",
     "output_type": "stream",
     "text": [
      "Not setting metadata\n",
      "3622 matching events found\n",
      "No baseline correction applied\n",
      "Reading /Users/jonasmago/PhD_code_data/github/jhana/notebooks/../data/epochs_clean/sub6-jhana_restingstate-jhana_day1_all-epo.fif ...\n",
      "    Found the data of interest:\n",
      "        t =       0.00 ...    9996.09 ms\n",
      "        0 CTF compensation matrices available\n",
      "Not setting metadata\n",
      "149 matching events found\n",
      "No baseline correction applied\n",
      "0 projection items activated\n",
      "Reading /Users/jonasmago/PhD_code_data/github/jhana/notebooks/../data/epochs_clean/sub6-jhana_restingstate-jhana_day1_ar-epo.fif ...\n",
      "    Found the data of interest:\n",
      "        t =       0.00 ...    9996.09 ms\n",
      "        0 CTF compensation matrices available\n",
      "Not setting metadata\n",
      "147 matching events found\n",
      "No baseline correction applied\n",
      "0 projection items activated\n",
      "round: 24\n"
     ]
    },
    {
     "name": "stderr",
     "output_type": "stream",
     "text": [
      "/var/folders/bq/hl737msd54q59fzf7spf0r7h0000gn/T/ipykernel_34402/3577543714.py:14: RuntimeWarning: Concatenation of Annotations within Epochs is not supported yet. All annotations will be dropped.\n",
      "  epochs_ar_all = mne.concatenate_epochs([epochs_ar_all, epochs_ar])\n"
     ]
    },
    {
     "name": "stdout",
     "output_type": "stream",
     "text": [
      "Not setting metadata\n",
      "3077 matching events found\n",
      "No baseline correction applied\n"
     ]
    },
    {
     "name": "stderr",
     "output_type": "stream",
     "text": [
      "/var/folders/bq/hl737msd54q59fzf7spf0r7h0000gn/T/ipykernel_34402/3577543714.py:15: RuntimeWarning: Concatenation of Annotations within Epochs is not supported yet. All annotations will be dropped.\n",
      "  epochs_all = mne.concatenate_epochs([epochs_all, epochs])\n"
     ]
    },
    {
     "name": "stdout",
     "output_type": "stream",
     "text": [
      "Not setting metadata\n",
      "3771 matching events found\n",
      "No baseline correction applied\n",
      "Reading /Users/jonasmago/PhD_code_data/github/jhana/notebooks/../data/epochs_clean/sub6-jhana_restingstate-jhana_day2_all-epo.fif ...\n",
      "    Found the data of interest:\n",
      "        t =       0.00 ...    9996.09 ms\n",
      "        0 CTF compensation matrices available\n",
      "Not setting metadata\n",
      "148 matching events found\n",
      "No baseline correction applied\n",
      "0 projection items activated\n",
      "Reading /Users/jonasmago/PhD_code_data/github/jhana/notebooks/../data/epochs_clean/sub6-jhana_restingstate-jhana_day2_ar-epo.fif ...\n",
      "    Found the data of interest:\n",
      "        t =       0.00 ...    9996.09 ms\n",
      "        0 CTF compensation matrices available\n",
      "Not setting metadata\n",
      "148 matching events found\n",
      "No baseline correction applied\n",
      "0 projection items activated\n",
      "round: 25\n"
     ]
    },
    {
     "name": "stderr",
     "output_type": "stream",
     "text": [
      "/var/folders/bq/hl737msd54q59fzf7spf0r7h0000gn/T/ipykernel_34402/3577543714.py:14: RuntimeWarning: Concatenation of Annotations within Epochs is not supported yet. All annotations will be dropped.\n",
      "  epochs_ar_all = mne.concatenate_epochs([epochs_ar_all, epochs_ar])\n"
     ]
    },
    {
     "name": "stdout",
     "output_type": "stream",
     "text": [
      "Not setting metadata\n",
      "3225 matching events found\n",
      "No baseline correction applied\n"
     ]
    },
    {
     "name": "stderr",
     "output_type": "stream",
     "text": [
      "/var/folders/bq/hl737msd54q59fzf7spf0r7h0000gn/T/ipykernel_34402/3577543714.py:15: RuntimeWarning: Concatenation of Annotations within Epochs is not supported yet. All annotations will be dropped.\n",
      "  epochs_all = mne.concatenate_epochs([epochs_all, epochs])\n"
     ]
    },
    {
     "name": "stdout",
     "output_type": "stream",
     "text": [
      "Not setting metadata\n",
      "3919 matching events found\n",
      "No baseline correction applied\n",
      "Reading /Users/jonasmago/PhD_code_data/github/jhana/notebooks/../data/epochs_clean/sub6-jhana_restingstate-jhana_day3_all-epo.fif ...\n",
      "    Found the data of interest:\n",
      "        t =       0.00 ...    9996.09 ms\n",
      "        0 CTF compensation matrices available\n",
      "Not setting metadata\n",
      "156 matching events found\n",
      "No baseline correction applied\n",
      "0 projection items activated\n",
      "Reading /Users/jonasmago/PhD_code_data/github/jhana/notebooks/../data/epochs_clean/sub6-jhana_restingstate-jhana_day3_ar-epo.fif ...\n",
      "    Found the data of interest:\n",
      "        t =       0.00 ...    9996.09 ms\n",
      "        0 CTF compensation matrices available\n",
      "Not setting metadata\n",
      "90 matching events found\n",
      "No baseline correction applied\n",
      "0 projection items activated\n",
      "round: 26\n"
     ]
    },
    {
     "name": "stderr",
     "output_type": "stream",
     "text": [
      "/var/folders/bq/hl737msd54q59fzf7spf0r7h0000gn/T/ipykernel_34402/3577543714.py:14: RuntimeWarning: Concatenation of Annotations within Epochs is not supported yet. All annotations will be dropped.\n",
      "  epochs_ar_all = mne.concatenate_epochs([epochs_ar_all, epochs_ar])\n"
     ]
    },
    {
     "name": "stdout",
     "output_type": "stream",
     "text": [
      "Not setting metadata\n",
      "3315 matching events found\n",
      "No baseline correction applied\n"
     ]
    },
    {
     "name": "stderr",
     "output_type": "stream",
     "text": [
      "/var/folders/bq/hl737msd54q59fzf7spf0r7h0000gn/T/ipykernel_34402/3577543714.py:15: RuntimeWarning: Concatenation of Annotations within Epochs is not supported yet. All annotations will be dropped.\n",
      "  epochs_all = mne.concatenate_epochs([epochs_all, epochs])\n"
     ]
    },
    {
     "name": "stdout",
     "output_type": "stream",
     "text": [
      "Not setting metadata\n",
      "4075 matching events found\n",
      "No baseline correction applied\n",
      "Reading /Users/jonasmago/PhD_code_data/github/jhana/notebooks/../data/epochs_clean/sub6-jhana_restingstate-jhana_day4_all-epo.fif ...\n",
      "    Found the data of interest:\n",
      "        t =       0.00 ...    9996.09 ms\n",
      "        0 CTF compensation matrices available\n",
      "Not setting metadata\n",
      "150 matching events found\n",
      "No baseline correction applied\n",
      "0 projection items activated\n",
      "Reading /Users/jonasmago/PhD_code_data/github/jhana/notebooks/../data/epochs_clean/sub6-jhana_restingstate-jhana_day4_ar-epo.fif ...\n",
      "    Found the data of interest:\n",
      "        t =       0.00 ...    9996.09 ms\n",
      "        0 CTF compensation matrices available\n",
      "Not setting metadata\n",
      "150 matching events found\n",
      "No baseline correction applied\n",
      "0 projection items activated\n",
      "round: 27\n"
     ]
    },
    {
     "name": "stderr",
     "output_type": "stream",
     "text": [
      "/var/folders/bq/hl737msd54q59fzf7spf0r7h0000gn/T/ipykernel_34402/3577543714.py:14: RuntimeWarning: Concatenation of Annotations within Epochs is not supported yet. All annotations will be dropped.\n",
      "  epochs_ar_all = mne.concatenate_epochs([epochs_ar_all, epochs_ar])\n"
     ]
    },
    {
     "name": "stdout",
     "output_type": "stream",
     "text": [
      "Not setting metadata\n",
      "3465 matching events found\n",
      "No baseline correction applied\n"
     ]
    },
    {
     "name": "stderr",
     "output_type": "stream",
     "text": [
      "/var/folders/bq/hl737msd54q59fzf7spf0r7h0000gn/T/ipykernel_34402/3577543714.py:15: RuntimeWarning: Concatenation of Annotations within Epochs is not supported yet. All annotations will be dropped.\n",
      "  epochs_all = mne.concatenate_epochs([epochs_all, epochs])\n"
     ]
    },
    {
     "name": "stdout",
     "output_type": "stream",
     "text": [
      "Not setting metadata\n",
      "4225 matching events found\n",
      "No baseline correction applied\n",
      "Reading /Users/jonasmago/PhD_code_data/github/jhana/notebooks/../data/epochs_clean/sub7-jhana_restingstate-jhana_day1_all-epo.fif ...\n",
      "    Found the data of interest:\n",
      "        t =       0.00 ...    9996.09 ms\n",
      "        0 CTF compensation matrices available\n",
      "Not setting metadata\n",
      "149 matching events found\n",
      "No baseline correction applied\n",
      "0 projection items activated\n",
      "Reading /Users/jonasmago/PhD_code_data/github/jhana/notebooks/../data/epochs_clean/sub7-jhana_restingstate-jhana_day1_ar-epo.fif ...\n",
      "    Found the data of interest:\n",
      "        t =       0.00 ...    9996.09 ms\n",
      "        0 CTF compensation matrices available\n",
      "Not setting metadata\n",
      "148 matching events found\n",
      "No baseline correction applied\n",
      "0 projection items activated\n",
      "round: 28\n"
     ]
    },
    {
     "name": "stderr",
     "output_type": "stream",
     "text": [
      "/var/folders/bq/hl737msd54q59fzf7spf0r7h0000gn/T/ipykernel_34402/3577543714.py:14: RuntimeWarning: Concatenation of Annotations within Epochs is not supported yet. All annotations will be dropped.\n",
      "  epochs_ar_all = mne.concatenate_epochs([epochs_ar_all, epochs_ar])\n"
     ]
    },
    {
     "name": "stdout",
     "output_type": "stream",
     "text": [
      "Not setting metadata\n",
      "3613 matching events found\n",
      "No baseline correction applied\n"
     ]
    },
    {
     "name": "stderr",
     "output_type": "stream",
     "text": [
      "/var/folders/bq/hl737msd54q59fzf7spf0r7h0000gn/T/ipykernel_34402/3577543714.py:15: RuntimeWarning: Concatenation of Annotations within Epochs is not supported yet. All annotations will be dropped.\n",
      "  epochs_all = mne.concatenate_epochs([epochs_all, epochs])\n"
     ]
    },
    {
     "name": "stdout",
     "output_type": "stream",
     "text": [
      "Not setting metadata\n",
      "4374 matching events found\n",
      "No baseline correction applied\n",
      "Reading /Users/jonasmago/PhD_code_data/github/jhana/notebooks/../data/epochs_clean/sub7-jhana_restingstate-jhana_day2_all-epo.fif ...\n",
      "    Found the data of interest:\n",
      "        t =       0.00 ...    9996.09 ms\n",
      "        0 CTF compensation matrices available\n",
      "Not setting metadata\n",
      "152 matching events found\n",
      "No baseline correction applied\n",
      "0 projection items activated\n",
      "Reading /Users/jonasmago/PhD_code_data/github/jhana/notebooks/../data/epochs_clean/sub7-jhana_restingstate-jhana_day2_ar-epo.fif ...\n",
      "    Found the data of interest:\n",
      "        t =       0.00 ...    9996.09 ms\n",
      "        0 CTF compensation matrices available\n",
      "Not setting metadata\n",
      "60 matching events found\n",
      "No baseline correction applied\n",
      "0 projection items activated\n",
      "round: 29\n"
     ]
    },
    {
     "name": "stderr",
     "output_type": "stream",
     "text": [
      "/var/folders/bq/hl737msd54q59fzf7spf0r7h0000gn/T/ipykernel_34402/3577543714.py:14: RuntimeWarning: Concatenation of Annotations within Epochs is not supported yet. All annotations will be dropped.\n",
      "  epochs_ar_all = mne.concatenate_epochs([epochs_ar_all, epochs_ar])\n"
     ]
    },
    {
     "name": "stdout",
     "output_type": "stream",
     "text": [
      "Not setting metadata\n",
      "3673 matching events found\n",
      "No baseline correction applied\n"
     ]
    },
    {
     "name": "stderr",
     "output_type": "stream",
     "text": [
      "/var/folders/bq/hl737msd54q59fzf7spf0r7h0000gn/T/ipykernel_34402/3577543714.py:15: RuntimeWarning: Concatenation of Annotations within Epochs is not supported yet. All annotations will be dropped.\n",
      "  epochs_all = mne.concatenate_epochs([epochs_all, epochs])\n"
     ]
    },
    {
     "name": "stdout",
     "output_type": "stream",
     "text": [
      "Not setting metadata\n",
      "4526 matching events found\n",
      "No baseline correction applied\n",
      "Reading /Users/jonasmago/PhD_code_data/github/jhana/notebooks/../data/epochs_clean/sub7-jhana_restingstate-jhana_day3_all-epo.fif ...\n",
      "    Found the data of interest:\n",
      "        t =       0.00 ...    9996.09 ms\n",
      "        0 CTF compensation matrices available\n",
      "Not setting metadata\n",
      "155 matching events found\n",
      "No baseline correction applied\n",
      "0 projection items activated\n",
      "Reading /Users/jonasmago/PhD_code_data/github/jhana/notebooks/../data/epochs_clean/sub7-jhana_restingstate-jhana_day3_ar-epo.fif ...\n",
      "    Found the data of interest:\n",
      "        t =       0.00 ...    9996.09 ms\n",
      "        0 CTF compensation matrices available\n",
      "Not setting metadata\n",
      "119 matching events found\n",
      "No baseline correction applied\n",
      "0 projection items activated\n",
      "round: 30\n"
     ]
    },
    {
     "name": "stderr",
     "output_type": "stream",
     "text": [
      "/var/folders/bq/hl737msd54q59fzf7spf0r7h0000gn/T/ipykernel_34402/3577543714.py:14: RuntimeWarning: Concatenation of Annotations within Epochs is not supported yet. All annotations will be dropped.\n",
      "  epochs_ar_all = mne.concatenate_epochs([epochs_ar_all, epochs_ar])\n"
     ]
    },
    {
     "name": "stdout",
     "output_type": "stream",
     "text": [
      "Not setting metadata\n",
      "3792 matching events found\n",
      "No baseline correction applied\n"
     ]
    },
    {
     "name": "stderr",
     "output_type": "stream",
     "text": [
      "/var/folders/bq/hl737msd54q59fzf7spf0r7h0000gn/T/ipykernel_34402/3577543714.py:15: RuntimeWarning: Concatenation of Annotations within Epochs is not supported yet. All annotations will be dropped.\n",
      "  epochs_all = mne.concatenate_epochs([epochs_all, epochs])\n"
     ]
    },
    {
     "name": "stdout",
     "output_type": "stream",
     "text": [
      "Not setting metadata\n",
      "4681 matching events found\n",
      "No baseline correction applied\n",
      "Reading /Users/jonasmago/PhD_code_data/github/jhana/notebooks/../data/epochs_clean/sub7-jhana_restingstate-jhana_day4_all-epo.fif ...\n",
      "    Found the data of interest:\n",
      "        t =       0.00 ...    9996.09 ms\n",
      "        0 CTF compensation matrices available\n",
      "Not setting metadata\n",
      "150 matching events found\n",
      "No baseline correction applied\n",
      "0 projection items activated\n",
      "Reading /Users/jonasmago/PhD_code_data/github/jhana/notebooks/../data/epochs_clean/sub7-jhana_restingstate-jhana_day4_ar-epo.fif ...\n",
      "    Found the data of interest:\n",
      "        t =       0.00 ...    9996.09 ms\n",
      "        0 CTF compensation matrices available\n",
      "Not setting metadata\n",
      "149 matching events found\n",
      "No baseline correction applied\n",
      "0 projection items activated\n",
      "round: 31\n"
     ]
    },
    {
     "name": "stderr",
     "output_type": "stream",
     "text": [
      "/var/folders/bq/hl737msd54q59fzf7spf0r7h0000gn/T/ipykernel_34402/3577543714.py:14: RuntimeWarning: Concatenation of Annotations within Epochs is not supported yet. All annotations will be dropped.\n",
      "  epochs_ar_all = mne.concatenate_epochs([epochs_ar_all, epochs_ar])\n"
     ]
    },
    {
     "name": "stdout",
     "output_type": "stream",
     "text": [
      "Not setting metadata\n",
      "3941 matching events found\n",
      "No baseline correction applied\n"
     ]
    },
    {
     "name": "stderr",
     "output_type": "stream",
     "text": [
      "/var/folders/bq/hl737msd54q59fzf7spf0r7h0000gn/T/ipykernel_34402/3577543714.py:15: RuntimeWarning: Concatenation of Annotations within Epochs is not supported yet. All annotations will be dropped.\n",
      "  epochs_all = mne.concatenate_epochs([epochs_all, epochs])\n"
     ]
    },
    {
     "name": "stdout",
     "output_type": "stream",
     "text": [
      "Not setting metadata\n",
      "4831 matching events found\n",
      "No baseline correction applied\n",
      "Reading /Users/jonasmago/PhD_code_data/github/jhana/notebooks/../data/epochs_clean/sub8-jhana_restingstate-jhana_day1_all-epo.fif ...\n",
      "    Found the data of interest:\n",
      "        t =       0.00 ...    9996.09 ms\n",
      "        0 CTF compensation matrices available\n",
      "Not setting metadata\n",
      "150 matching events found\n",
      "No baseline correction applied\n",
      "0 projection items activated\n",
      "Reading /Users/jonasmago/PhD_code_data/github/jhana/notebooks/../data/epochs_clean/sub8-jhana_restingstate-jhana_day1_ar-epo.fif ...\n",
      "    Found the data of interest:\n",
      "        t =       0.00 ...    9996.09 ms\n",
      "        0 CTF compensation matrices available\n",
      "Not setting metadata\n",
      "134 matching events found\n",
      "No baseline correction applied\n",
      "0 projection items activated\n",
      "round: 32\n"
     ]
    },
    {
     "name": "stderr",
     "output_type": "stream",
     "text": [
      "/var/folders/bq/hl737msd54q59fzf7spf0r7h0000gn/T/ipykernel_34402/3577543714.py:14: RuntimeWarning: Concatenation of Annotations within Epochs is not supported yet. All annotations will be dropped.\n",
      "  epochs_ar_all = mne.concatenate_epochs([epochs_ar_all, epochs_ar])\n"
     ]
    },
    {
     "name": "stdout",
     "output_type": "stream",
     "text": [
      "Not setting metadata\n",
      "4075 matching events found\n",
      "No baseline correction applied\n"
     ]
    },
    {
     "name": "stderr",
     "output_type": "stream",
     "text": [
      "/var/folders/bq/hl737msd54q59fzf7spf0r7h0000gn/T/ipykernel_34402/3577543714.py:15: RuntimeWarning: Concatenation of Annotations within Epochs is not supported yet. All annotations will be dropped.\n",
      "  epochs_all = mne.concatenate_epochs([epochs_all, epochs])\n"
     ]
    },
    {
     "name": "stdout",
     "output_type": "stream",
     "text": [
      "Not setting metadata\n",
      "4981 matching events found\n",
      "No baseline correction applied\n",
      "Reading /Users/jonasmago/PhD_code_data/github/jhana/notebooks/../data/epochs_clean/sub8-jhana_restingstate-jhana_day2_all-epo.fif ...\n",
      "    Found the data of interest:\n",
      "        t =       0.00 ...    9996.09 ms\n",
      "        0 CTF compensation matrices available\n",
      "Not setting metadata\n",
      "153 matching events found\n",
      "No baseline correction applied\n",
      "0 projection items activated\n",
      "Reading /Users/jonasmago/PhD_code_data/github/jhana/notebooks/../data/epochs_clean/sub8-jhana_restingstate-jhana_day2_ar-epo.fif ...\n",
      "    Found the data of interest:\n",
      "        t =       0.00 ...    9996.09 ms\n",
      "        0 CTF compensation matrices available\n",
      "Not setting metadata\n",
      "120 matching events found\n",
      "No baseline correction applied\n",
      "0 projection items activated\n",
      "round: 33\n",
      "Not setting metadata\n",
      "4195 matching events found\n",
      "No baseline correction applied\n",
      "Not setting metadata\n",
      "5134 matching events found\n",
      "No baseline correction applied\n",
      "Reading /Users/jonasmago/PhD_code_data/github/jhana/notebooks/../data/epochs_clean/sub8-jhana_restingstate-jhana_day3_all-epo.fif ...\n",
      "    Found the data of interest:\n",
      "        t =       0.00 ...    9996.09 ms\n",
      "        0 CTF compensation matrices available\n",
      "Not setting metadata\n",
      "152 matching events found\n",
      "No baseline correction applied\n",
      "0 projection items activated\n",
      "Reading /Users/jonasmago/PhD_code_data/github/jhana/notebooks/../data/epochs_clean/sub8-jhana_restingstate-jhana_day3_ar-epo.fif ...\n",
      "    Found the data of interest:\n",
      "        t =       0.00 ...    9996.09 ms\n",
      "        0 CTF compensation matrices available\n",
      "Not setting metadata\n",
      "152 matching events found\n",
      "No baseline correction applied\n",
      "0 projection items activated\n",
      "round: 34\n"
     ]
    },
    {
     "name": "stderr",
     "output_type": "stream",
     "text": [
      "/var/folders/bq/hl737msd54q59fzf7spf0r7h0000gn/T/ipykernel_34402/3577543714.py:14: RuntimeWarning: Concatenation of Annotations within Epochs is not supported yet. All annotations will be dropped.\n",
      "  epochs_ar_all = mne.concatenate_epochs([epochs_ar_all, epochs_ar])\n"
     ]
    },
    {
     "name": "stdout",
     "output_type": "stream",
     "text": [
      "Not setting metadata\n",
      "4347 matching events found\n",
      "No baseline correction applied\n"
     ]
    },
    {
     "name": "stderr",
     "output_type": "stream",
     "text": [
      "/var/folders/bq/hl737msd54q59fzf7spf0r7h0000gn/T/ipykernel_34402/3577543714.py:15: RuntimeWarning: Concatenation of Annotations within Epochs is not supported yet. All annotations will be dropped.\n",
      "  epochs_all = mne.concatenate_epochs([epochs_all, epochs])\n"
     ]
    },
    {
     "name": "stdout",
     "output_type": "stream",
     "text": [
      "Not setting metadata\n",
      "5286 matching events found\n",
      "No baseline correction applied\n",
      "Reading /Users/jonasmago/PhD_code_data/github/jhana/notebooks/../data/epochs_clean/sub8-jhana_restingstate-jhana_day4_all-epo.fif ...\n",
      "    Found the data of interest:\n",
      "        t =       0.00 ...    9996.09 ms\n",
      "        0 CTF compensation matrices available\n",
      "Not setting metadata\n",
      "150 matching events found\n",
      "No baseline correction applied\n",
      "0 projection items activated\n",
      "Reading /Users/jonasmago/PhD_code_data/github/jhana/notebooks/../data/epochs_clean/sub8-jhana_restingstate-jhana_day4_ar-epo.fif ...\n",
      "    Found the data of interest:\n",
      "        t =       0.00 ...    9996.09 ms\n",
      "        0 CTF compensation matrices available\n",
      "Not setting metadata\n",
      "129 matching events found\n",
      "No baseline correction applied\n",
      "0 projection items activated\n",
      "round: 35\n"
     ]
    },
    {
     "name": "stderr",
     "output_type": "stream",
     "text": [
      "/var/folders/bq/hl737msd54q59fzf7spf0r7h0000gn/T/ipykernel_34402/3577543714.py:14: RuntimeWarning: Concatenation of Annotations within Epochs is not supported yet. All annotations will be dropped.\n",
      "  epochs_ar_all = mne.concatenate_epochs([epochs_ar_all, epochs_ar])\n"
     ]
    },
    {
     "name": "stdout",
     "output_type": "stream",
     "text": [
      "Not setting metadata\n",
      "4476 matching events found\n",
      "No baseline correction applied\n"
     ]
    },
    {
     "name": "stderr",
     "output_type": "stream",
     "text": [
      "/var/folders/bq/hl737msd54q59fzf7spf0r7h0000gn/T/ipykernel_34402/3577543714.py:15: RuntimeWarning: Concatenation of Annotations within Epochs is not supported yet. All annotations will be dropped.\n",
      "  epochs_all = mne.concatenate_epochs([epochs_all, epochs])\n"
     ]
    },
    {
     "name": "stdout",
     "output_type": "stream",
     "text": [
      "Not setting metadata\n",
      "5436 matching events found\n",
      "No baseline correction applied\n",
      "Reading /Users/jonasmago/PhD_code_data/github/jhana/notebooks/../data/epochs_clean/sub9-jhana_restingstate-jhana_day1_all-epo.fif ...\n",
      "    Found the data of interest:\n",
      "        t =       0.00 ...    9996.09 ms\n",
      "        0 CTF compensation matrices available\n",
      "Not setting metadata\n",
      "150 matching events found\n",
      "No baseline correction applied\n",
      "0 projection items activated\n",
      "Reading /Users/jonasmago/PhD_code_data/github/jhana/notebooks/../data/epochs_clean/sub9-jhana_restingstate-jhana_day1_ar-epo.fif ...\n",
      "    Found the data of interest:\n",
      "        t =       0.00 ...    9996.09 ms\n",
      "        0 CTF compensation matrices available\n",
      "Not setting metadata\n",
      "137 matching events found\n",
      "No baseline correction applied\n",
      "0 projection items activated\n",
      "round: 36\n"
     ]
    },
    {
     "name": "stderr",
     "output_type": "stream",
     "text": [
      "/var/folders/bq/hl737msd54q59fzf7spf0r7h0000gn/T/ipykernel_34402/3577543714.py:14: RuntimeWarning: Concatenation of Annotations within Epochs is not supported yet. All annotations will be dropped.\n",
      "  epochs_ar_all = mne.concatenate_epochs([epochs_ar_all, epochs_ar])\n"
     ]
    },
    {
     "name": "stdout",
     "output_type": "stream",
     "text": [
      "Not setting metadata\n",
      "4613 matching events found\n",
      "No baseline correction applied\n"
     ]
    },
    {
     "name": "stderr",
     "output_type": "stream",
     "text": [
      "/var/folders/bq/hl737msd54q59fzf7spf0r7h0000gn/T/ipykernel_34402/3577543714.py:15: RuntimeWarning: Concatenation of Annotations within Epochs is not supported yet. All annotations will be dropped.\n",
      "  epochs_all = mne.concatenate_epochs([epochs_all, epochs])\n"
     ]
    },
    {
     "name": "stdout",
     "output_type": "stream",
     "text": [
      "Not setting metadata\n",
      "5586 matching events found\n",
      "No baseline correction applied\n",
      "Reading /Users/jonasmago/PhD_code_data/github/jhana/notebooks/../data/epochs_clean/sub9-jhana_restingstate-jhana_day2_all-epo.fif ...\n",
      "    Found the data of interest:\n",
      "        t =       0.00 ...    9996.09 ms\n",
      "        0 CTF compensation matrices available\n",
      "Not setting metadata\n",
      "151 matching events found\n",
      "No baseline correction applied\n",
      "0 projection items activated\n",
      "Reading /Users/jonasmago/PhD_code_data/github/jhana/notebooks/../data/epochs_clean/sub9-jhana_restingstate-jhana_day2_ar-epo.fif ...\n",
      "    Found the data of interest:\n",
      "        t =       0.00 ...    9996.09 ms\n",
      "        0 CTF compensation matrices available\n",
      "Not setting metadata\n",
      "148 matching events found\n",
      "No baseline correction applied\n",
      "0 projection items activated\n",
      "round: 37\n"
     ]
    },
    {
     "name": "stderr",
     "output_type": "stream",
     "text": [
      "/var/folders/bq/hl737msd54q59fzf7spf0r7h0000gn/T/ipykernel_34402/3577543714.py:14: RuntimeWarning: Concatenation of Annotations within Epochs is not supported yet. All annotations will be dropped.\n",
      "  epochs_ar_all = mne.concatenate_epochs([epochs_ar_all, epochs_ar])\n"
     ]
    },
    {
     "name": "stdout",
     "output_type": "stream",
     "text": [
      "Not setting metadata\n",
      "4761 matching events found\n",
      "No baseline correction applied\n"
     ]
    },
    {
     "name": "stderr",
     "output_type": "stream",
     "text": [
      "/var/folders/bq/hl737msd54q59fzf7spf0r7h0000gn/T/ipykernel_34402/3577543714.py:15: RuntimeWarning: Concatenation of Annotations within Epochs is not supported yet. All annotations will be dropped.\n",
      "  epochs_all = mne.concatenate_epochs([epochs_all, epochs])\n"
     ]
    },
    {
     "name": "stdout",
     "output_type": "stream",
     "text": [
      "Not setting metadata\n",
      "5737 matching events found\n",
      "No baseline correction applied\n",
      "Reading /Users/jonasmago/PhD_code_data/github/jhana/notebooks/../data/epochs_clean/sub9-jhana_restingstate-jhana_day3_all-epo.fif ...\n",
      "    Found the data of interest:\n",
      "        t =       0.00 ...    9996.09 ms\n",
      "        0 CTF compensation matrices available\n",
      "Not setting metadata\n",
      "152 matching events found\n",
      "No baseline correction applied\n",
      "0 projection items activated\n",
      "Reading /Users/jonasmago/PhD_code_data/github/jhana/notebooks/../data/epochs_clean/sub9-jhana_restingstate-jhana_day3_ar-epo.fif ...\n",
      "    Found the data of interest:\n",
      "        t =       0.00 ...    9996.09 ms\n",
      "        0 CTF compensation matrices available\n",
      "Not setting metadata\n",
      "149 matching events found\n",
      "No baseline correction applied\n",
      "0 projection items activated\n",
      "round: 38\n"
     ]
    },
    {
     "name": "stderr",
     "output_type": "stream",
     "text": [
      "/var/folders/bq/hl737msd54q59fzf7spf0r7h0000gn/T/ipykernel_34402/3577543714.py:14: RuntimeWarning: Concatenation of Annotations within Epochs is not supported yet. All annotations will be dropped.\n",
      "  epochs_ar_all = mne.concatenate_epochs([epochs_ar_all, epochs_ar])\n"
     ]
    },
    {
     "name": "stdout",
     "output_type": "stream",
     "text": [
      "Not setting metadata\n",
      "4910 matching events found\n",
      "No baseline correction applied\n"
     ]
    },
    {
     "name": "stderr",
     "output_type": "stream",
     "text": [
      "/var/folders/bq/hl737msd54q59fzf7spf0r7h0000gn/T/ipykernel_34402/3577543714.py:15: RuntimeWarning: Concatenation of Annotations within Epochs is not supported yet. All annotations will be dropped.\n",
      "  epochs_all = mne.concatenate_epochs([epochs_all, epochs])\n"
     ]
    },
    {
     "name": "stdout",
     "output_type": "stream",
     "text": [
      "Not setting metadata\n",
      "5889 matching events found\n",
      "No baseline correction applied\n",
      "Reading /Users/jonasmago/PhD_code_data/github/jhana/notebooks/../data/epochs_clean/sub9-jhana_restingstate-jhana_day4_all-epo.fif ...\n",
      "    Found the data of interest:\n",
      "        t =       0.00 ...    9996.09 ms\n",
      "        0 CTF compensation matrices available\n",
      "Not setting metadata\n",
      "151 matching events found\n",
      "No baseline correction applied\n",
      "0 projection items activated\n",
      "Reading /Users/jonasmago/PhD_code_data/github/jhana/notebooks/../data/epochs_clean/sub9-jhana_restingstate-jhana_day4_ar-epo.fif ...\n",
      "    Found the data of interest:\n",
      "        t =       0.00 ...    9996.09 ms\n",
      "        0 CTF compensation matrices available\n",
      "Not setting metadata\n",
      "130 matching events found\n",
      "No baseline correction applied\n",
      "0 projection items activated\n",
      "round: 39\n"
     ]
    },
    {
     "name": "stderr",
     "output_type": "stream",
     "text": [
      "/var/folders/bq/hl737msd54q59fzf7spf0r7h0000gn/T/ipykernel_34402/3577543714.py:14: RuntimeWarning: Concatenation of Annotations within Epochs is not supported yet. All annotations will be dropped.\n",
      "  epochs_ar_all = mne.concatenate_epochs([epochs_ar_all, epochs_ar])\n"
     ]
    },
    {
     "name": "stdout",
     "output_type": "stream",
     "text": [
      "Not setting metadata\n",
      "5040 matching events found\n",
      "No baseline correction applied\n"
     ]
    },
    {
     "name": "stderr",
     "output_type": "stream",
     "text": [
      "/var/folders/bq/hl737msd54q59fzf7spf0r7h0000gn/T/ipykernel_34402/3577543714.py:15: RuntimeWarning: Concatenation of Annotations within Epochs is not supported yet. All annotations will be dropped.\n",
      "  epochs_all = mne.concatenate_epochs([epochs_all, epochs])\n"
     ]
    },
    {
     "name": "stdout",
     "output_type": "stream",
     "text": [
      "Not setting metadata\n",
      "6040 matching events found\n",
      "No baseline correction applied\n"
     ]
    },
    {
     "name": "stderr",
     "output_type": "stream",
     "text": [
      "/var/folders/bq/hl737msd54q59fzf7spf0r7h0000gn/T/ipykernel_34402/3577543714.py:29: RuntimeWarning: This filename (../data/epochs_all/epochs_all_clean_jhana.fif) does not conform to MNE naming conventions. All epochs files should end with -epo.fif, -epo.fif.gz, _epo.fif or _epo.fif.gz\n",
      "  epochs_ar_all.save(\"../data/epochs_all/epochs_all_clean_jhana.fif\")\n",
      "/var/folders/bq/hl737msd54q59fzf7spf0r7h0000gn/T/ipykernel_34402/3577543714.py:30: RuntimeWarning: This filename (../data/epochs_all/epochs_ar_clean_jhana.fif) does not conform to MNE naming conventions. All epochs files should end with -epo.fif, -epo.fif.gz, _epo.fif or _epo.fif.gz\n",
      "  epochs_all.save(\"../data/epochs_all/epochs_ar_clean_jhana.fif\")\n"
     ]
    }
   ],
   "source": [
    "jhana_conditions = sorted(glob.glob(\"../data/epochs_clean/sub?-jhana_restingstate-jhana_day?_all-epo.fif\"))\n",
    "\n",
    "for count, condition in enumerate(jhana_conditions):\n",
    "    files = sorted(glob.glob(\"../data/epochs_clean/{}*\".format(os.path.basename(condition)[:-12])))\n",
    "    epochs = mne.read_epochs(files[0])\n",
    "    epochs_ar = mne.read_epochs(files[1])\n",
    "    eventsv = np.load(files[2])\n",
    "    eventsv_ar = np.load(files[3])\n",
    "    reject_log = autoreject.read_reject_log(files[4])\n",
    "    #print(reject_log.bad_epochs)\n",
    "    \n",
    "    if count>0:\n",
    "        print (f\"round: {count}\")\n",
    "        epochs_ar_all = mne.concatenate_epochs([epochs_ar_all, epochs_ar])\n",
    "        epochs_all = mne.concatenate_epochs([epochs_all, epochs])\n",
    "        eventsv_all = np.concatenate((eventsv_all, eventsv))\n",
    "        eventsv_ar_all = np.concatenate((eventsv_ar_all, eventsv_ar))\n",
    "        reject_log_all = np.concatenate((reject_log_all, reject_log.bad_epochs))\n",
    "    else: \n",
    "        print (f\"round: {count}\")\n",
    "        print (\"###first round###\")\n",
    "        epochs_ar_all = epochs_ar\n",
    "        epochs_all = epochs\n",
    "        eventsv_all = eventsv\n",
    "        eventsv_ar_all = eventsv_ar\n",
    "        reject_log_all = reject_log.bad_epochs\n",
    "\n",
    "\n",
    "epochs_ar_all.save(\"../data/epochs_all/epochs_ar_clean_jhana.fif\")\n",
    "epochs_all.save(\"../data/epochs_all/epochs_all_clean_jhana.fif\")\n",
    "np.save(\"../data/epochs_all/eventsv_all_jhana.npy\", eventsv_all)\n",
    "np.save(\"../data/epochs_all/eventsv_ar_all_jhana.npy\", eventsv_ar_all)\n",
    "np.save(\"../data/epochs_all/reject_log_all_jhana.npy\", reject_log_all)\n",
    " \n",
    "\"\"\"\n",
    "epochs_ar_jhana = epochs_ar_all\n",
    "epochs_jhana = epochs_all\n",
    "eventsv_jhana = eventsv_all\n",
    "eventsv_ar_jhana = eventsv_ar_all\n",
    "reject_log_jhana = reject_log_all\n",
    "\"\"\"\n",
    "\n",
    "assert (len(epochs_ar_all) == len(eventsv_ar_all))\n",
    "assert (len(epochs_all) == len(eventsv_all) == len(reject_log_all))\n",
    "\n"
   ]
  },
  {
   "cell_type": "code",
   "execution_count": null,
   "id": "b54d0911",
   "metadata": {},
   "outputs": [],
   "source": []
  }
 ],
 "metadata": {
  "kernelspec": {
   "display_name": "Python 3 (ipykernel)",
   "language": "python",
   "name": "python3"
  },
  "language_info": {
   "codemirror_mode": {
    "name": "ipython",
    "version": 3
   },
   "file_extension": ".py",
   "mimetype": "text/x-python",
   "name": "python",
   "nbconvert_exporter": "python",
   "pygments_lexer": "ipython3",
   "version": "3.10.11"
  }
 },
 "nbformat": 4,
 "nbformat_minor": 5
}
