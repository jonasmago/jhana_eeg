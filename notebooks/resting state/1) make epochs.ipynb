{
 "cells": [
  {
   "cell_type": "markdown",
   "id": "c53315cb-5bf8-4f5e-92d1-4ffee4c768c8",
   "metadata": {},
   "source": [
    "## RESTING STATE data: raw --> epochs\n",
    "This script uses the hand cleaned raw data and creates fixed length epochs based on this data. Segments that have been marked as bad are excluded from the epoch generation. "
   ]
  },
  {
   "cell_type": "code",
   "execution_count": 1,
   "id": "800f6781",
   "metadata": {},
   "outputs": [],
   "source": [
    "%load_ext autoreload\n",
    "%autoreload 2\n",
    "%matplotlib qt\n",
    "\n",
    "import numpy as np\n",
    "import csv\n",
    "import matplotlib.pyplot as plt\n",
    "import pandas as pd\n",
    "import os\n",
    "import glob\n",
    "from tqdm import tqdm \n",
    "from atpbar import atpbar\n",
    "from datetime import datetime\n",
    "import mne\n",
    "import autoreject\n",
    "from autoreject import AutoReject\n",
    "from mne.preprocessing import ICA, corrmap, create_ecg_epochs, create_eog_epochs\n",
    "\n",
    "from pyprep.find_noisy_channels import NoisyChannels\n",
    "from mne_icalabel import label_components\n",
    "import re\n",
    "\n"
   ]
  },
  {
   "cell_type": "code",
   "execution_count": 2,
   "id": "d72440d5-2813-414f-8c2e-3aea62bd77d0",
   "metadata": {},
   "outputs": [],
   "source": [
    "# Suppress MNE output\n",
    "mne.set_log_level('WARNING')\n"
   ]
  },
  {
   "cell_type": "markdown",
   "id": "1a9eaa18-c9a4-4c0a-b6a9-adf6b33a3884",
   "metadata": {},
   "source": [
    "## Make fixed length epochs"
   ]
  },
  {
   "cell_type": "code",
   "execution_count": 3,
   "id": "97d7ade7-2b73-4f07-8579-5c241f25848d",
   "metadata": {},
   "outputs": [],
   "source": [
    "# import data from Jhana subjects\n",
    "paths = glob.glob(f\"../hand_cleaning/resting_state/*\")\n",
    "paths.sort()\n",
    "for path in paths: \n",
    "    raw = mne.io.read_raw_fif(path, preload=True)\n",
    "    #raw.filter(0.3, 45)\n",
    "    epochs = mne.make_fixed_length_epochs(raw, duration=3, overlap=0, preload=True, reject_by_annotation=True)\n",
    "\n",
    "    #SAVING\n",
    "    #basename = os.path.basename(path)[:-8]\n",
    "    components = re.split('[-_]', os.path.basename(path))\n",
    "    export_name = f'sub{components[0][3:].zfill(2)}-{components[1]}-{components[2]}_epo.fif'\n",
    "    epochs.save(f'epochs/{export_name}', overwrite=False)\n",
    "\n",
    "# Import the control data \n",
    "paths = glob.glob(f\"../hand_cleaning/control_resting_state/*\")\n",
    "paths.sort()\n",
    "for path in paths: \n",
    "    raw = mne.io.read_raw_fif(path, preload=True)\n",
    "    #raw.filter(0.3, 45)\n",
    "    epochs = mne.make_fixed_length_epochs(raw, duration=3, overlap=0, preload=True, reject_by_annotation=True)\n",
    "\n",
    "    #SAVING   \n",
    "    components = re.split('[-_]', os.path.basename(path))\n",
    "    sub_n = components[0][3:]\n",
    "    export_name = f'con{sub_n.zfill(2)}-day0-control_epo.fif'\n",
    "    epochs.save(f'epochs/{export_name}', overwrite=False)\n",
    "\n",
    "# Import data by button press\n",
    "paths = glob.glob(f\"../hand_cleaning/resting_state_byjhana_selected/*\")\n",
    "paths.sort()\n",
    "for path in paths: \n",
    "    raw = mne.io.read_raw_fif(path, preload=True)\n",
    "    #raw.filter(0.3, 45)\n",
    "    epochs = mne.make_fixed_length_epochs(raw, duration=3, overlap=0, preload=True, reject_by_annotation=True)    \n",
    "    export_name = 'byJ-' + path[-36:-27]+'-J'+path[-5:-4]\n",
    "    epochs.save(f'epochs/{export_name}', overwrite=False)"
   ]
  },
  {
   "cell_type": "markdown",
   "id": "4c81becb-d681-4aa4-984b-1d150334ca92",
   "metadata": {},
   "source": [
    "## Autoreject fixed length epochs"
   ]
  },
  {
   "cell_type": "code",
   "execution_count": 27,
   "id": "2dbf8a0b-2738-4c32-baf2-de76a366c620",
   "metadata": {},
   "outputs": [
    {
     "name": "stderr",
     "output_type": "stream",
     "text": [
      "/var/folders/bq/hl737msd54q59fzf7spf0r7h0000gn/T/ipykernel_6276/2913523614.py:5: RuntimeWarning: This filename (epochs/byJ-sub1-day1-J1) does not conform to MNE naming conventions. All epochs files should end with -epo.fif, -epo.fif.gz, _epo.fif or _epo.fif.gz\n",
      "  epochs = mne.read_epochs(path)\n",
      "/Library/Frameworks/Python.framework/Versions/3.10/lib/python3.10/site-packages/autoreject/utils.py:73: UserWarning: 5 channels are marked as bad. These will be ignored. If you want them to be considered by autoreject please remove them from epochs.info[\"bads\"].\n",
      "  warnings.warn(\n"
     ]
    },
    {
     "name": "stdout",
     "output_type": "stream",
     "text": [
      "Running autoreject on ch_type=eeg\n",
      "\n",
      "\n",
      "\n",
      "\n",
      "Estimated consensus=1.00 and n_interpolate=26\n"
     ]
    },
    {
     "name": "stderr",
     "output_type": "stream",
     "text": [
      "/Library/Frameworks/Python.framework/Versions/3.10/lib/python3.10/site-packages/autoreject/utils.py:73: UserWarning: 5 channels are marked as bad. These will be ignored. If you want them to be considered by autoreject please remove them from epochs.info[\"bads\"].\n",
      "  warnings.warn(\n"
     ]
    },
    {
     "name": "stdout",
     "output_type": "stream",
     "text": [
      "No bad epochs were found for your data. Returning a copy of the data you wanted to clean. Interpolation may have been done.\n",
      "Running autoreject on ch_type=eeg\n"
     ]
    },
    {
     "name": "stderr",
     "output_type": "stream",
     "text": [
      "/var/folders/bq/hl737msd54q59fzf7spf0r7h0000gn/T/ipykernel_6276/2913523614.py:8: RuntimeWarning: This filename (epochs_ar/byJ-sub1-day1-J1) does not conform to MNE naming conventions. All epochs files should end with -epo.fif, -epo.fif.gz, _epo.fif or _epo.fif.gz\n",
      "  epochs_clean.save(f'epochs_ar/{basename}', overwrite=False)\n",
      "/var/folders/bq/hl737msd54q59fzf7spf0r7h0000gn/T/ipykernel_6276/2913523614.py:5: RuntimeWarning: This filename (epochs/byJ-sub1-day1-J2) does not conform to MNE naming conventions. All epochs files should end with -epo.fif, -epo.fif.gz, _epo.fif or _epo.fif.gz\n",
      "  epochs = mne.read_epochs(path)\n",
      "/Library/Frameworks/Python.framework/Versions/3.10/lib/python3.10/site-packages/autoreject/utils.py:73: UserWarning: 5 channels are marked as bad. These will be ignored. If you want them to be considered by autoreject please remove them from epochs.info[\"bads\"].\n",
      "  warnings.warn(\n"
     ]
    },
    {
     "name": "stdout",
     "output_type": "stream",
     "text": [
      "\n",
      "\n",
      "\n",
      "\n",
      "Estimated consensus=1.00 and n_interpolate=26\n"
     ]
    },
    {
     "name": "stderr",
     "output_type": "stream",
     "text": [
      "/Library/Frameworks/Python.framework/Versions/3.10/lib/python3.10/site-packages/autoreject/utils.py:73: UserWarning: 5 channels are marked as bad. These will be ignored. If you want them to be considered by autoreject please remove them from epochs.info[\"bads\"].\n",
      "  warnings.warn(\n"
     ]
    },
    {
     "name": "stdout",
     "output_type": "stream",
     "text": [
      "No bad epochs were found for your data. Returning a copy of the data you wanted to clean. Interpolation may have been done.\n",
      "Running autoreject on ch_type=eeg\n"
     ]
    },
    {
     "name": "stderr",
     "output_type": "stream",
     "text": [
      "/var/folders/bq/hl737msd54q59fzf7spf0r7h0000gn/T/ipykernel_6276/2913523614.py:8: RuntimeWarning: This filename (epochs_ar/byJ-sub1-day1-J2) does not conform to MNE naming conventions. All epochs files should end with -epo.fif, -epo.fif.gz, _epo.fif or _epo.fif.gz\n",
      "  epochs_clean.save(f'epochs_ar/{basename}', overwrite=False)\n",
      "/var/folders/bq/hl737msd54q59fzf7spf0r7h0000gn/T/ipykernel_6276/2913523614.py:5: RuntimeWarning: This filename (epochs/byJ-sub1-day1-J3) does not conform to MNE naming conventions. All epochs files should end with -epo.fif, -epo.fif.gz, _epo.fif or _epo.fif.gz\n",
      "  epochs = mne.read_epochs(path)\n",
      "/Library/Frameworks/Python.framework/Versions/3.10/lib/python3.10/site-packages/autoreject/utils.py:73: UserWarning: 5 channels are marked as bad. These will be ignored. If you want them to be considered by autoreject please remove them from epochs.info[\"bads\"].\n",
      "  warnings.warn(\n"
     ]
    },
    {
     "name": "stdout",
     "output_type": "stream",
     "text": [
      "\n",
      "\n",
      "\n",
      "\n",
      "Estimated consensus=0.40 and n_interpolate=4\n"
     ]
    },
    {
     "name": "stderr",
     "output_type": "stream",
     "text": [
      "/Library/Frameworks/Python.framework/Versions/3.10/lib/python3.10/site-packages/autoreject/utils.py:73: UserWarning: 5 channels are marked as bad. These will be ignored. If you want them to be considered by autoreject please remove them from epochs.info[\"bads\"].\n",
      "  warnings.warn(\n",
      "/var/folders/bq/hl737msd54q59fzf7spf0r7h0000gn/T/ipykernel_6276/2913523614.py:8: RuntimeWarning: This filename (epochs_ar/byJ-sub1-day1-J3) does not conform to MNE naming conventions. All epochs files should end with -epo.fif, -epo.fif.gz, _epo.fif or _epo.fif.gz\n",
      "  epochs_clean.save(f'epochs_ar/{basename}', overwrite=False)\n",
      "/var/folders/bq/hl737msd54q59fzf7spf0r7h0000gn/T/ipykernel_6276/2913523614.py:5: RuntimeWarning: This filename (epochs/byJ-sub1-day1-J4) does not conform to MNE naming conventions. All epochs files should end with -epo.fif, -epo.fif.gz, _epo.fif or _epo.fif.gz\n",
      "  epochs = mne.read_epochs(path)\n",
      "/Library/Frameworks/Python.framework/Versions/3.10/lib/python3.10/site-packages/autoreject/utils.py:73: UserWarning: 5 channels are marked as bad. These will be ignored. If you want them to be considered by autoreject please remove them from epochs.info[\"bads\"].\n",
      "  warnings.warn(\n"
     ]
    },
    {
     "name": "stdout",
     "output_type": "stream",
     "text": [
      "Running autoreject on ch_type=eeg\n",
      "\n",
      "\n",
      "\n",
      "\n",
      "Estimated consensus=1.00 and n_interpolate=26\n"
     ]
    },
    {
     "name": "stderr",
     "output_type": "stream",
     "text": [
      "/Library/Frameworks/Python.framework/Versions/3.10/lib/python3.10/site-packages/autoreject/utils.py:73: UserWarning: 5 channels are marked as bad. These will be ignored. If you want them to be considered by autoreject please remove them from epochs.info[\"bads\"].\n",
      "  warnings.warn(\n"
     ]
    },
    {
     "name": "stdout",
     "output_type": "stream",
     "text": [
      "No bad epochs were found for your data. Returning a copy of the data you wanted to clean. Interpolation may have been done.\n",
      "Running autoreject on ch_type=eeg\n"
     ]
    },
    {
     "name": "stderr",
     "output_type": "stream",
     "text": [
      "/var/folders/bq/hl737msd54q59fzf7spf0r7h0000gn/T/ipykernel_6276/2913523614.py:8: RuntimeWarning: This filename (epochs_ar/byJ-sub1-day1-J4) does not conform to MNE naming conventions. All epochs files should end with -epo.fif, -epo.fif.gz, _epo.fif or _epo.fif.gz\n",
      "  epochs_clean.save(f'epochs_ar/{basename}', overwrite=False)\n",
      "/var/folders/bq/hl737msd54q59fzf7spf0r7h0000gn/T/ipykernel_6276/2913523614.py:5: RuntimeWarning: This filename (epochs/byJ-sub1-day3-J1) does not conform to MNE naming conventions. All epochs files should end with -epo.fif, -epo.fif.gz, _epo.fif or _epo.fif.gz\n",
      "  epochs = mne.read_epochs(path)\n",
      "/Library/Frameworks/Python.framework/Versions/3.10/lib/python3.10/site-packages/autoreject/utils.py:73: UserWarning: 7 channels are marked as bad. These will be ignored. If you want them to be considered by autoreject please remove them from epochs.info[\"bads\"].\n",
      "  warnings.warn(\n"
     ]
    },
    {
     "name": "stdout",
     "output_type": "stream",
     "text": [
      "\n",
      "\n",
      "\n",
      "\n",
      "Estimated consensus=0.60 and n_interpolate=4\n"
     ]
    },
    {
     "name": "stderr",
     "output_type": "stream",
     "text": [
      "/Library/Frameworks/Python.framework/Versions/3.10/lib/python3.10/site-packages/autoreject/utils.py:73: UserWarning: 7 channels are marked as bad. These will be ignored. If you want them to be considered by autoreject please remove them from epochs.info[\"bads\"].\n",
      "  warnings.warn(\n",
      "/var/folders/bq/hl737msd54q59fzf7spf0r7h0000gn/T/ipykernel_6276/2913523614.py:8: RuntimeWarning: This filename (epochs_ar/byJ-sub1-day3-J1) does not conform to MNE naming conventions. All epochs files should end with -epo.fif, -epo.fif.gz, _epo.fif or _epo.fif.gz\n",
      "  epochs_clean.save(f'epochs_ar/{basename}', overwrite=False)\n",
      "/var/folders/bq/hl737msd54q59fzf7spf0r7h0000gn/T/ipykernel_6276/2913523614.py:5: RuntimeWarning: This filename (epochs/byJ-sub1-day3-J2) does not conform to MNE naming conventions. All epochs files should end with -epo.fif, -epo.fif.gz, _epo.fif or _epo.fif.gz\n",
      "  epochs = mne.read_epochs(path)\n",
      "/Library/Frameworks/Python.framework/Versions/3.10/lib/python3.10/site-packages/autoreject/utils.py:73: UserWarning: 7 channels are marked as bad. These will be ignored. If you want them to be considered by autoreject please remove them from epochs.info[\"bads\"].\n",
      "  warnings.warn(\n"
     ]
    },
    {
     "name": "stdout",
     "output_type": "stream",
     "text": [
      "Running autoreject on ch_type=eeg\n",
      "\n",
      "\n",
      "\n",
      "\n",
      "Estimated consensus=1.00 and n_interpolate=24\n"
     ]
    },
    {
     "name": "stderr",
     "output_type": "stream",
     "text": [
      "/Library/Frameworks/Python.framework/Versions/3.10/lib/python3.10/site-packages/autoreject/utils.py:73: UserWarning: 7 channels are marked as bad. These will be ignored. If you want them to be considered by autoreject please remove them from epochs.info[\"bads\"].\n",
      "  warnings.warn(\n"
     ]
    },
    {
     "name": "stdout",
     "output_type": "stream",
     "text": [
      "No bad epochs were found for your data. Returning a copy of the data you wanted to clean. Interpolation may have been done.\n",
      "Running autoreject on ch_type=eeg\n"
     ]
    },
    {
     "name": "stderr",
     "output_type": "stream",
     "text": [
      "/var/folders/bq/hl737msd54q59fzf7spf0r7h0000gn/T/ipykernel_6276/2913523614.py:8: RuntimeWarning: This filename (epochs_ar/byJ-sub1-day3-J2) does not conform to MNE naming conventions. All epochs files should end with -epo.fif, -epo.fif.gz, _epo.fif or _epo.fif.gz\n",
      "  epochs_clean.save(f'epochs_ar/{basename}', overwrite=False)\n",
      "/var/folders/bq/hl737msd54q59fzf7spf0r7h0000gn/T/ipykernel_6276/2913523614.py:5: RuntimeWarning: This filename (epochs/byJ-sub1-day3-J3) does not conform to MNE naming conventions. All epochs files should end with -epo.fif, -epo.fif.gz, _epo.fif or _epo.fif.gz\n",
      "  epochs = mne.read_epochs(path)\n",
      "/Library/Frameworks/Python.framework/Versions/3.10/lib/python3.10/site-packages/autoreject/utils.py:73: UserWarning: 7 channels are marked as bad. These will be ignored. If you want them to be considered by autoreject please remove them from epochs.info[\"bads\"].\n",
      "  warnings.warn(\n",
      "/Library/Frameworks/Python.framework/Versions/3.10/lib/python3.10/site-packages/mne/bem.py:1133: RuntimeWarning: Mean of empty slice.\n",
      "  radius_init = radii.mean()\n",
      "/Library/Frameworks/Python.framework/Versions/3.10/lib/python3.10/site-packages/numpy/core/_methods.py:129: RuntimeWarning: invalid value encountered in scalar divide\n",
      "  ret = ret.dtype.type(ret / rcount)\n",
      "/Library/Frameworks/Python.framework/Versions/3.10/lib/python3.10/site-packages/numpy/core/fromnumeric.py:3504: RuntimeWarning: Mean of empty slice.\n",
      "  return _methods._mean(a, axis=axis, dtype=dtype,\n",
      "/Library/Frameworks/Python.framework/Versions/3.10/lib/python3.10/site-packages/numpy/core/_methods.py:121: RuntimeWarning: invalid value encountered in divide\n",
      "  ret = um.true_divide(\n",
      "/Library/Frameworks/Python.framework/Versions/3.10/lib/python3.10/site-packages/autoreject/utils.py:73: UserWarning: 7 channels are marked as bad. These will be ignored. If you want them to be considered by autoreject please remove them from epochs.info[\"bads\"].\n",
      "  warnings.warn(\n"
     ]
    },
    {
     "name": "stdout",
     "output_type": "stream",
     "text": [
      "\n",
      "\n",
      "\n",
      "\n",
      "Estimated consensus=0.90 and n_interpolate=4\n"
     ]
    },
    {
     "name": "stderr",
     "output_type": "stream",
     "text": [
      "/var/folders/bq/hl737msd54q59fzf7spf0r7h0000gn/T/ipykernel_6276/2913523614.py:8: RuntimeWarning: This filename (epochs_ar/byJ-sub1-day3-J3) does not conform to MNE naming conventions. All epochs files should end with -epo.fif, -epo.fif.gz, _epo.fif or _epo.fif.gz\n",
      "  epochs_clean.save(f'epochs_ar/{basename}', overwrite=False)\n",
      "/var/folders/bq/hl737msd54q59fzf7spf0r7h0000gn/T/ipykernel_6276/2913523614.py:5: RuntimeWarning: This filename (epochs/byJ-sub1-day3-J4) does not conform to MNE naming conventions. All epochs files should end with -epo.fif, -epo.fif.gz, _epo.fif or _epo.fif.gz\n",
      "  epochs = mne.read_epochs(path)\n",
      "/Library/Frameworks/Python.framework/Versions/3.10/lib/python3.10/site-packages/autoreject/utils.py:73: UserWarning: 7 channels are marked as bad. These will be ignored. If you want them to be considered by autoreject please remove them from epochs.info[\"bads\"].\n",
      "  warnings.warn(\n"
     ]
    },
    {
     "name": "stdout",
     "output_type": "stream",
     "text": [
      "Running autoreject on ch_type=eeg\n",
      "\n",
      "\n",
      "\n",
      "\n",
      "Estimated consensus=0.60 and n_interpolate=4\n"
     ]
    },
    {
     "name": "stderr",
     "output_type": "stream",
     "text": [
      "/Library/Frameworks/Python.framework/Versions/3.10/lib/python3.10/site-packages/autoreject/utils.py:73: UserWarning: 7 channels are marked as bad. These will be ignored. If you want them to be considered by autoreject please remove them from epochs.info[\"bads\"].\n",
      "  warnings.warn(\n",
      "/var/folders/bq/hl737msd54q59fzf7spf0r7h0000gn/T/ipykernel_6276/2913523614.py:8: RuntimeWarning: This filename (epochs_ar/byJ-sub1-day3-J4) does not conform to MNE naming conventions. All epochs files should end with -epo.fif, -epo.fif.gz, _epo.fif or _epo.fif.gz\n",
      "  epochs_clean.save(f'epochs_ar/{basename}', overwrite=False)\n",
      "/var/folders/bq/hl737msd54q59fzf7spf0r7h0000gn/T/ipykernel_6276/2913523614.py:5: RuntimeWarning: This filename (epochs/byJ-sub1-day3-Jn) does not conform to MNE naming conventions. All epochs files should end with -epo.fif, -epo.fif.gz, _epo.fif or _epo.fif.gz\n",
      "  epochs = mne.read_epochs(path)\n",
      "/Library/Frameworks/Python.framework/Versions/3.10/lib/python3.10/site-packages/autoreject/utils.py:73: UserWarning: 7 channels are marked as bad. These will be ignored. If you want them to be considered by autoreject please remove them from epochs.info[\"bads\"].\n",
      "  warnings.warn(\n"
     ]
    },
    {
     "name": "stdout",
     "output_type": "stream",
     "text": [
      "Running autoreject on ch_type=eeg\n",
      "\n",
      "\n",
      "\n",
      "\n",
      "Estimated consensus=0.50 and n_interpolate=4\n",
      "Running autoreject on ch_type=eeg\n"
     ]
    },
    {
     "name": "stderr",
     "output_type": "stream",
     "text": [
      "/Library/Frameworks/Python.framework/Versions/3.10/lib/python3.10/site-packages/autoreject/utils.py:73: UserWarning: 7 channels are marked as bad. These will be ignored. If you want them to be considered by autoreject please remove them from epochs.info[\"bads\"].\n",
      "  warnings.warn(\n",
      "/var/folders/bq/hl737msd54q59fzf7spf0r7h0000gn/T/ipykernel_6276/2913523614.py:8: RuntimeWarning: This filename (epochs_ar/byJ-sub1-day3-Jn) does not conform to MNE naming conventions. All epochs files should end with -epo.fif, -epo.fif.gz, _epo.fif or _epo.fif.gz\n",
      "  epochs_clean.save(f'epochs_ar/{basename}', overwrite=False)\n",
      "/var/folders/bq/hl737msd54q59fzf7spf0r7h0000gn/T/ipykernel_6276/2913523614.py:5: RuntimeWarning: This filename (epochs/byJ-sub1-day4-J1) does not conform to MNE naming conventions. All epochs files should end with -epo.fif, -epo.fif.gz, _epo.fif or _epo.fif.gz\n",
      "  epochs = mne.read_epochs(path)\n",
      "/Library/Frameworks/Python.framework/Versions/3.10/lib/python3.10/site-packages/autoreject/utils.py:73: UserWarning: 3 channels are marked as bad. These will be ignored. If you want them to be considered by autoreject please remove them from epochs.info[\"bads\"].\n",
      "  warnings.warn(\n"
     ]
    },
    {
     "name": "stdout",
     "output_type": "stream",
     "text": [
      "\n",
      "\n",
      "\n",
      "\n",
      "Estimated consensus=1.00 and n_interpolate=28\n"
     ]
    },
    {
     "name": "stderr",
     "output_type": "stream",
     "text": [
      "/Library/Frameworks/Python.framework/Versions/3.10/lib/python3.10/site-packages/autoreject/utils.py:73: UserWarning: 3 channels are marked as bad. These will be ignored. If you want them to be considered by autoreject please remove them from epochs.info[\"bads\"].\n",
      "  warnings.warn(\n"
     ]
    },
    {
     "name": "stdout",
     "output_type": "stream",
     "text": [
      "No bad epochs were found for your data. Returning a copy of the data you wanted to clean. Interpolation may have been done.\n",
      "Running autoreject on ch_type=eeg\n"
     ]
    },
    {
     "name": "stderr",
     "output_type": "stream",
     "text": [
      "/var/folders/bq/hl737msd54q59fzf7spf0r7h0000gn/T/ipykernel_6276/2913523614.py:8: RuntimeWarning: This filename (epochs_ar/byJ-sub1-day4-J1) does not conform to MNE naming conventions. All epochs files should end with -epo.fif, -epo.fif.gz, _epo.fif or _epo.fif.gz\n",
      "  epochs_clean.save(f'epochs_ar/{basename}', overwrite=False)\n",
      "/var/folders/bq/hl737msd54q59fzf7spf0r7h0000gn/T/ipykernel_6276/2913523614.py:5: RuntimeWarning: This filename (epochs/byJ-sub1-day4-J2) does not conform to MNE naming conventions. All epochs files should end with -epo.fif, -epo.fif.gz, _epo.fif or _epo.fif.gz\n",
      "  epochs = mne.read_epochs(path)\n",
      "/Library/Frameworks/Python.framework/Versions/3.10/lib/python3.10/site-packages/autoreject/utils.py:73: UserWarning: 3 channels are marked as bad. These will be ignored. If you want them to be considered by autoreject please remove them from epochs.info[\"bads\"].\n",
      "  warnings.warn(\n"
     ]
    },
    {
     "name": "stdout",
     "output_type": "stream",
     "text": [
      "\n",
      "\n",
      "\n",
      "\n",
      "Estimated consensus=0.80 and n_interpolate=4\n"
     ]
    },
    {
     "name": "stderr",
     "output_type": "stream",
     "text": [
      "/Library/Frameworks/Python.framework/Versions/3.10/lib/python3.10/site-packages/autoreject/utils.py:73: UserWarning: 3 channels are marked as bad. These will be ignored. If you want them to be considered by autoreject please remove them from epochs.info[\"bads\"].\n",
      "  warnings.warn(\n"
     ]
    },
    {
     "name": "stdout",
     "output_type": "stream",
     "text": [
      "No bad epochs were found for your data. Returning a copy of the data you wanted to clean. Interpolation may have been done.\n",
      "Running autoreject on ch_type=eeg\n"
     ]
    },
    {
     "name": "stderr",
     "output_type": "stream",
     "text": [
      "/var/folders/bq/hl737msd54q59fzf7spf0r7h0000gn/T/ipykernel_6276/2913523614.py:8: RuntimeWarning: This filename (epochs_ar/byJ-sub1-day4-J2) does not conform to MNE naming conventions. All epochs files should end with -epo.fif, -epo.fif.gz, _epo.fif or _epo.fif.gz\n",
      "  epochs_clean.save(f'epochs_ar/{basename}', overwrite=False)\n",
      "/var/folders/bq/hl737msd54q59fzf7spf0r7h0000gn/T/ipykernel_6276/2913523614.py:5: RuntimeWarning: This filename (epochs/byJ-sub1-day4-J3) does not conform to MNE naming conventions. All epochs files should end with -epo.fif, -epo.fif.gz, _epo.fif or _epo.fif.gz\n",
      "  epochs = mne.read_epochs(path)\n",
      "/Library/Frameworks/Python.framework/Versions/3.10/lib/python3.10/site-packages/autoreject/utils.py:73: UserWarning: 3 channels are marked as bad. These will be ignored. If you want them to be considered by autoreject please remove them from epochs.info[\"bads\"].\n",
      "  warnings.warn(\n"
     ]
    },
    {
     "name": "stdout",
     "output_type": "stream",
     "text": [
      "\n",
      "\n",
      "\n",
      "\n",
      "Estimated consensus=0.60 and n_interpolate=4\n"
     ]
    },
    {
     "name": "stderr",
     "output_type": "stream",
     "text": [
      "/Library/Frameworks/Python.framework/Versions/3.10/lib/python3.10/site-packages/autoreject/utils.py:73: UserWarning: 3 channels are marked as bad. These will be ignored. If you want them to be considered by autoreject please remove them from epochs.info[\"bads\"].\n",
      "  warnings.warn(\n",
      "/var/folders/bq/hl737msd54q59fzf7spf0r7h0000gn/T/ipykernel_6276/2913523614.py:8: RuntimeWarning: This filename (epochs_ar/byJ-sub1-day4-J3) does not conform to MNE naming conventions. All epochs files should end with -epo.fif, -epo.fif.gz, _epo.fif or _epo.fif.gz\n",
      "  epochs_clean.save(f'epochs_ar/{basename}', overwrite=False)\n",
      "/var/folders/bq/hl737msd54q59fzf7spf0r7h0000gn/T/ipykernel_6276/2913523614.py:5: RuntimeWarning: This filename (epochs/byJ-sub1-day4-J4) does not conform to MNE naming conventions. All epochs files should end with -epo.fif, -epo.fif.gz, _epo.fif or _epo.fif.gz\n",
      "  epochs = mne.read_epochs(path)\n",
      "/Library/Frameworks/Python.framework/Versions/3.10/lib/python3.10/site-packages/autoreject/utils.py:73: UserWarning: 3 channels are marked as bad. These will be ignored. If you want them to be considered by autoreject please remove them from epochs.info[\"bads\"].\n",
      "  warnings.warn(\n"
     ]
    },
    {
     "name": "stdout",
     "output_type": "stream",
     "text": [
      "Running autoreject on ch_type=eeg\n",
      "\n",
      "\n",
      "\n",
      "\n",
      "Estimated consensus=0.80 and n_interpolate=4\n"
     ]
    },
    {
     "name": "stderr",
     "output_type": "stream",
     "text": [
      "/Library/Frameworks/Python.framework/Versions/3.10/lib/python3.10/site-packages/autoreject/utils.py:73: UserWarning: 3 channels are marked as bad. These will be ignored. If you want them to be considered by autoreject please remove them from epochs.info[\"bads\"].\n",
      "  warnings.warn(\n"
     ]
    },
    {
     "name": "stdout",
     "output_type": "stream",
     "text": [
      "No bad epochs were found for your data. Returning a copy of the data you wanted to clean. Interpolation may have been done.\n",
      "Running autoreject on ch_type=eeg\n"
     ]
    },
    {
     "name": "stderr",
     "output_type": "stream",
     "text": [
      "/var/folders/bq/hl737msd54q59fzf7spf0r7h0000gn/T/ipykernel_6276/2913523614.py:8: RuntimeWarning: This filename (epochs_ar/byJ-sub1-day4-J4) does not conform to MNE naming conventions. All epochs files should end with -epo.fif, -epo.fif.gz, _epo.fif or _epo.fif.gz\n",
      "  epochs_clean.save(f'epochs_ar/{basename}', overwrite=False)\n",
      "/var/folders/bq/hl737msd54q59fzf7spf0r7h0000gn/T/ipykernel_6276/2913523614.py:5: RuntimeWarning: This filename (epochs/byJ-sub2-day1-J1) does not conform to MNE naming conventions. All epochs files should end with -epo.fif, -epo.fif.gz, _epo.fif or _epo.fif.gz\n",
      "  epochs = mne.read_epochs(path)\n",
      "/Library/Frameworks/Python.framework/Versions/3.10/lib/python3.10/site-packages/autoreject/utils.py:73: UserWarning: 9 channels are marked as bad. These will be ignored. If you want them to be considered by autoreject please remove them from epochs.info[\"bads\"].\n",
      "  warnings.warn(\n"
     ]
    },
    {
     "name": "stdout",
     "output_type": "stream",
     "text": [
      "\n",
      "\n",
      "\n",
      "\n",
      "Estimated consensus=0.60 and n_interpolate=4\n"
     ]
    },
    {
     "name": "stderr",
     "output_type": "stream",
     "text": [
      "/Library/Frameworks/Python.framework/Versions/3.10/lib/python3.10/site-packages/autoreject/utils.py:73: UserWarning: 9 channels are marked as bad. These will be ignored. If you want them to be considered by autoreject please remove them from epochs.info[\"bads\"].\n",
      "  warnings.warn(\n",
      "/var/folders/bq/hl737msd54q59fzf7spf0r7h0000gn/T/ipykernel_6276/2913523614.py:8: RuntimeWarning: This filename (epochs_ar/byJ-sub2-day1-J1) does not conform to MNE naming conventions. All epochs files should end with -epo.fif, -epo.fif.gz, _epo.fif or _epo.fif.gz\n",
      "  epochs_clean.save(f'epochs_ar/{basename}', overwrite=False)\n",
      "/var/folders/bq/hl737msd54q59fzf7spf0r7h0000gn/T/ipykernel_6276/2913523614.py:5: RuntimeWarning: This filename (epochs/byJ-sub2-day1-J2) does not conform to MNE naming conventions. All epochs files should end with -epo.fif, -epo.fif.gz, _epo.fif or _epo.fif.gz\n",
      "  epochs = mne.read_epochs(path)\n",
      "/Library/Frameworks/Python.framework/Versions/3.10/lib/python3.10/site-packages/autoreject/utils.py:73: UserWarning: 9 channels are marked as bad. These will be ignored. If you want them to be considered by autoreject please remove them from epochs.info[\"bads\"].\n",
      "  warnings.warn(\n"
     ]
    },
    {
     "name": "stdout",
     "output_type": "stream",
     "text": [
      "Running autoreject on ch_type=eeg\n",
      "\n",
      "\n",
      "\n",
      "\n",
      "Estimated consensus=0.60 and n_interpolate=4\n"
     ]
    },
    {
     "name": "stderr",
     "output_type": "stream",
     "text": [
      "/Library/Frameworks/Python.framework/Versions/3.10/lib/python3.10/site-packages/autoreject/utils.py:73: UserWarning: 9 channels are marked as bad. These will be ignored. If you want them to be considered by autoreject please remove them from epochs.info[\"bads\"].\n",
      "  warnings.warn(\n"
     ]
    },
    {
     "name": "stdout",
     "output_type": "stream",
     "text": [
      "No bad epochs were found for your data. Returning a copy of the data you wanted to clean. Interpolation may have been done.\n",
      "Running autoreject on ch_type=eeg\n"
     ]
    },
    {
     "name": "stderr",
     "output_type": "stream",
     "text": [
      "/var/folders/bq/hl737msd54q59fzf7spf0r7h0000gn/T/ipykernel_6276/2913523614.py:8: RuntimeWarning: This filename (epochs_ar/byJ-sub2-day1-J2) does not conform to MNE naming conventions. All epochs files should end with -epo.fif, -epo.fif.gz, _epo.fif or _epo.fif.gz\n",
      "  epochs_clean.save(f'epochs_ar/{basename}', overwrite=False)\n",
      "/var/folders/bq/hl737msd54q59fzf7spf0r7h0000gn/T/ipykernel_6276/2913523614.py:5: RuntimeWarning: This filename (epochs/byJ-sub2-day1-J3) does not conform to MNE naming conventions. All epochs files should end with -epo.fif, -epo.fif.gz, _epo.fif or _epo.fif.gz\n",
      "  epochs = mne.read_epochs(path)\n",
      "/Library/Frameworks/Python.framework/Versions/3.10/lib/python3.10/site-packages/autoreject/utils.py:73: UserWarning: 9 channels are marked as bad. These will be ignored. If you want them to be considered by autoreject please remove them from epochs.info[\"bads\"].\n",
      "  warnings.warn(\n"
     ]
    },
    {
     "name": "stdout",
     "output_type": "stream",
     "text": [
      "\n",
      "\n",
      "\n",
      "\n",
      "Estimated consensus=0.60 and n_interpolate=4\n"
     ]
    },
    {
     "name": "stderr",
     "output_type": "stream",
     "text": [
      "/Library/Frameworks/Python.framework/Versions/3.10/lib/python3.10/site-packages/autoreject/utils.py:73: UserWarning: 9 channels are marked as bad. These will be ignored. If you want them to be considered by autoreject please remove them from epochs.info[\"bads\"].\n",
      "  warnings.warn(\n"
     ]
    },
    {
     "name": "stdout",
     "output_type": "stream",
     "text": [
      "No bad epochs were found for your data. Returning a copy of the data you wanted to clean. Interpolation may have been done.\n",
      "Running autoreject on ch_type=eeg\n"
     ]
    },
    {
     "name": "stderr",
     "output_type": "stream",
     "text": [
      "/var/folders/bq/hl737msd54q59fzf7spf0r7h0000gn/T/ipykernel_6276/2913523614.py:8: RuntimeWarning: This filename (epochs_ar/byJ-sub2-day1-J3) does not conform to MNE naming conventions. All epochs files should end with -epo.fif, -epo.fif.gz, _epo.fif or _epo.fif.gz\n",
      "  epochs_clean.save(f'epochs_ar/{basename}', overwrite=False)\n",
      "/var/folders/bq/hl737msd54q59fzf7spf0r7h0000gn/T/ipykernel_6276/2913523614.py:5: RuntimeWarning: This filename (epochs/byJ-sub2-day1-J4) does not conform to MNE naming conventions. All epochs files should end with -epo.fif, -epo.fif.gz, _epo.fif or _epo.fif.gz\n",
      "  epochs = mne.read_epochs(path)\n",
      "/Library/Frameworks/Python.framework/Versions/3.10/lib/python3.10/site-packages/autoreject/utils.py:73: UserWarning: 9 channels are marked as bad. These will be ignored. If you want them to be considered by autoreject please remove them from epochs.info[\"bads\"].\n",
      "  warnings.warn(\n"
     ]
    },
    {
     "name": "stdout",
     "output_type": "stream",
     "text": [
      "\n",
      "\n",
      "\n",
      "\n",
      "Estimated consensus=0.70 and n_interpolate=1\n"
     ]
    },
    {
     "name": "stderr",
     "output_type": "stream",
     "text": [
      "/Library/Frameworks/Python.framework/Versions/3.10/lib/python3.10/site-packages/autoreject/utils.py:73: UserWarning: 9 channels are marked as bad. These will be ignored. If you want them to be considered by autoreject please remove them from epochs.info[\"bads\"].\n",
      "  warnings.warn(\n"
     ]
    },
    {
     "name": "stdout",
     "output_type": "stream",
     "text": [
      "No bad epochs were found for your data. Returning a copy of the data you wanted to clean. Interpolation may have been done.\n",
      "Running autoreject on ch_type=eeg\n"
     ]
    },
    {
     "name": "stderr",
     "output_type": "stream",
     "text": [
      "/var/folders/bq/hl737msd54q59fzf7spf0r7h0000gn/T/ipykernel_6276/2913523614.py:8: RuntimeWarning: This filename (epochs_ar/byJ-sub2-day1-J4) does not conform to MNE naming conventions. All epochs files should end with -epo.fif, -epo.fif.gz, _epo.fif or _epo.fif.gz\n",
      "  epochs_clean.save(f'epochs_ar/{basename}', overwrite=False)\n",
      "/var/folders/bq/hl737msd54q59fzf7spf0r7h0000gn/T/ipykernel_6276/2913523614.py:5: RuntimeWarning: This filename (epochs/byJ-sub2-day1-Jn) does not conform to MNE naming conventions. All epochs files should end with -epo.fif, -epo.fif.gz, _epo.fif or _epo.fif.gz\n",
      "  epochs = mne.read_epochs(path)\n",
      "/Library/Frameworks/Python.framework/Versions/3.10/lib/python3.10/site-packages/autoreject/utils.py:73: UserWarning: 9 channels are marked as bad. These will be ignored. If you want them to be considered by autoreject please remove them from epochs.info[\"bads\"].\n",
      "  warnings.warn(\n"
     ]
    },
    {
     "ename": "ValueError",
     "evalue": "Cannot have number of splits n_splits=10 greater than the number of samples: n_samples=6.",
     "output_type": "error",
     "traceback": [
      "\u001b[0;31m---------------------------------------------------------------------------\u001b[0m",
      "\u001b[0;31mValueError\u001b[0m                                Traceback (most recent call last)",
      "Cell \u001b[0;32mIn[27], line 7\u001b[0m\n\u001b[1;32m      5\u001b[0m epochs \u001b[38;5;241m=\u001b[39m mne\u001b[38;5;241m.\u001b[39mread_epochs(path)\n\u001b[1;32m      6\u001b[0m ar \u001b[38;5;241m=\u001b[39m AutoReject()\n\u001b[0;32m----> 7\u001b[0m epochs_clean \u001b[38;5;241m=\u001b[39m \u001b[43mar\u001b[49m\u001b[38;5;241;43m.\u001b[39;49m\u001b[43mfit_transform\u001b[49m\u001b[43m(\u001b[49m\u001b[43mepochs\u001b[49m\u001b[43m)\u001b[49m\n\u001b[1;32m      8\u001b[0m epochs_clean\u001b[38;5;241m.\u001b[39msave(\u001b[38;5;124mf\u001b[39m\u001b[38;5;124m'\u001b[39m\u001b[38;5;124mepochs_ar/\u001b[39m\u001b[38;5;132;01m{\u001b[39;00mbasename\u001b[38;5;132;01m}\u001b[39;00m\u001b[38;5;124m'\u001b[39m, overwrite\u001b[38;5;241m=\u001b[39m\u001b[38;5;28;01mFalse\u001b[39;00m)\n",
      "File \u001b[0;32m/Library/Frameworks/Python.framework/Versions/3.10/lib/python3.10/site-packages/autoreject/autoreject.py:1181\u001b[0m, in \u001b[0;36mAutoReject.fit_transform\u001b[0;34m(self, epochs, return_log)\u001b[0m\n\u001b[1;32m   1162\u001b[0m \u001b[38;5;28;01mdef\u001b[39;00m \u001b[38;5;21mfit_transform\u001b[39m(\u001b[38;5;28mself\u001b[39m, epochs, return_log\u001b[38;5;241m=\u001b[39m\u001b[38;5;28;01mFalse\u001b[39;00m):\n\u001b[1;32m   1163\u001b[0m \u001b[38;5;250m    \u001b[39m\u001b[38;5;124;03m\"\"\"Estimate the rejection params and finds bad epochs.\u001b[39;00m\n\u001b[1;32m   1164\u001b[0m \n\u001b[1;32m   1165\u001b[0m \u001b[38;5;124;03m    Parameters\u001b[39;00m\n\u001b[0;32m   (...)\u001b[0m\n\u001b[1;32m   1179\u001b[0m \u001b[38;5;124;03m        The rejection log. Returned only of return_log is True.\u001b[39;00m\n\u001b[1;32m   1180\u001b[0m \u001b[38;5;124;03m    \"\"\"\u001b[39;00m\n\u001b[0;32m-> 1181\u001b[0m     \u001b[38;5;28;01mreturn\u001b[39;00m \u001b[38;5;28;43mself\u001b[39;49m\u001b[38;5;241;43m.\u001b[39;49m\u001b[43mfit\u001b[49m\u001b[43m(\u001b[49m\u001b[43mepochs\u001b[49m\u001b[43m)\u001b[49m\u001b[38;5;241m.\u001b[39mtransform(epochs, return_log\u001b[38;5;241m=\u001b[39mreturn_log)\n",
      "File \u001b[0;32m/Library/Frameworks/Python.framework/Versions/3.10/lib/python3.10/site-packages/autoreject/autoreject.py:1041\u001b[0m, in \u001b[0;36mAutoReject.fit\u001b[0;34m(self, epochs)\u001b[0m\n\u001b[1;32m   1038\u001b[0m \u001b[38;5;28;01mif\u001b[39;00m \u001b[38;5;28mself\u001b[39m\u001b[38;5;241m.\u001b[39mverbose \u001b[38;5;129;01mis\u001b[39;00m \u001b[38;5;129;01mnot\u001b[39;00m \u001b[38;5;28;01mFalse\u001b[39;00m:\n\u001b[1;32m   1039\u001b[0m     \u001b[38;5;28mprint\u001b[39m(\u001b[38;5;124m'\u001b[39m\u001b[38;5;124mRunning autoreject on ch_type=\u001b[39m\u001b[38;5;132;01m%s\u001b[39;00m\u001b[38;5;124m'\u001b[39m \u001b[38;5;241m%\u001b[39m ch_type)\n\u001b[1;32m   1040\u001b[0m this_local_reject, this_loss \u001b[38;5;241m=\u001b[39m \\\n\u001b[0;32m-> 1041\u001b[0m     \u001b[43m_run_local_reject_cv\u001b[49m\u001b[43m(\u001b[49m\u001b[43mepochs\u001b[49m\u001b[43m,\u001b[49m\u001b[43m \u001b[49m\u001b[43mthresh_func\u001b[49m\u001b[43m,\u001b[49m\u001b[43m \u001b[49m\u001b[43mthis_picks\u001b[49m\u001b[43m,\u001b[49m\n\u001b[1;32m   1042\u001b[0m \u001b[43m                         \u001b[49m\u001b[38;5;28;43mself\u001b[39;49m\u001b[38;5;241;43m.\u001b[39;49m\u001b[43mn_interpolate\u001b[49m\u001b[43m,\u001b[49m\u001b[43m \u001b[49m\u001b[38;5;28;43mself\u001b[39;49m\u001b[38;5;241;43m.\u001b[39;49m\u001b[43mcv_\u001b[49m\u001b[43m,\u001b[49m\n\u001b[1;32m   1043\u001b[0m \u001b[43m                         \u001b[49m\u001b[38;5;28;43mself\u001b[39;49m\u001b[38;5;241;43m.\u001b[39;49m\u001b[43mconsensus\u001b[49m\u001b[43m,\u001b[49m\u001b[43m \u001b[49m\u001b[38;5;28;43mself\u001b[39;49m\u001b[38;5;241;43m.\u001b[39;49m\u001b[43mdots\u001b[49m\u001b[43m,\u001b[49m\n\u001b[1;32m   1044\u001b[0m \u001b[43m                         \u001b[49m\u001b[38;5;28;43mself\u001b[39;49m\u001b[38;5;241;43m.\u001b[39;49m\u001b[43mverbose\u001b[49m\u001b[43m)\u001b[49m\n\u001b[1;32m   1045\u001b[0m \u001b[38;5;28mself\u001b[39m\u001b[38;5;241m.\u001b[39mthreshes_\u001b[38;5;241m.\u001b[39mupdate(this_local_reject\u001b[38;5;241m.\u001b[39mthreshes_)\n\u001b[1;32m   1047\u001b[0m best_idx, best_jdx \u001b[38;5;241m=\u001b[39m \\\n\u001b[1;32m   1048\u001b[0m     np\u001b[38;5;241m.\u001b[39munravel_index(this_loss\u001b[38;5;241m.\u001b[39mmean(axis\u001b[38;5;241m=\u001b[39m\u001b[38;5;241m-\u001b[39m\u001b[38;5;241m1\u001b[39m)\u001b[38;5;241m.\u001b[39margmin(),\n\u001b[1;32m   1049\u001b[0m                      this_loss\u001b[38;5;241m.\u001b[39mshape[:\u001b[38;5;241m2\u001b[39m])\n",
      "File \u001b[0;32m/Library/Frameworks/Python.framework/Versions/3.10/lib/python3.10/site-packages/autoreject/autoreject.py:839\u001b[0m, in \u001b[0;36m_run_local_reject_cv\u001b[0;34m(epochs, thresh_func, picks_, n_interpolate, cv, consensus, dots, verbose)\u001b[0m\n\u001b[1;32m    835\u001b[0m cv_splits \u001b[38;5;241m=\u001b[39m CVSplits(cv\u001b[38;5;241m.\u001b[39msplit(X), n_folds)\n\u001b[1;32m    836\u001b[0m pbar \u001b[38;5;241m=\u001b[39m _pbar(cv_splits, desc\u001b[38;5;241m=\u001b[39m\u001b[38;5;124m'\u001b[39m\u001b[38;5;124mFold\u001b[39m\u001b[38;5;124m'\u001b[39m,\n\u001b[1;32m    837\u001b[0m              position\u001b[38;5;241m=\u001b[39m\u001b[38;5;241m3\u001b[39m, verbose\u001b[38;5;241m=\u001b[39mverbose)\n\u001b[0;32m--> 839\u001b[0m \u001b[38;5;28;01mfor\u001b[39;00m fold, (train, test) \u001b[38;5;129;01min\u001b[39;00m \u001b[38;5;28menumerate\u001b[39m(pbar):\n\u001b[1;32m    840\u001b[0m     \u001b[38;5;28;01mfor\u001b[39;00m idx, this_consensus \u001b[38;5;129;01min\u001b[39;00m \u001b[38;5;28menumerate\u001b[39m(consensus):\n\u001b[1;32m    841\u001b[0m         \u001b[38;5;66;03m# \\kappa must be greater than \\rho\u001b[39;00m\n\u001b[1;32m    842\u001b[0m         n_channels \u001b[38;5;241m=\u001b[39m \u001b[38;5;28mlen\u001b[39m(picks_)\n",
      "File \u001b[0;32m/Library/Frameworks/Python.framework/Versions/3.10/lib/python3.10/site-packages/mne/utils/progressbar.py:140\u001b[0m, in \u001b[0;36mProgressBar.__iter__\u001b[0;34m(self)\u001b[0m\n\u001b[1;32m    138\u001b[0m \u001b[38;5;28;01mdef\u001b[39;00m \u001b[38;5;21m__iter__\u001b[39m(\u001b[38;5;28mself\u001b[39m):\n\u001b[1;32m    139\u001b[0m \u001b[38;5;250m    \u001b[39m\u001b[38;5;124;03m\"\"\"Iterate to auto-increment the pbar with 1.\"\"\"\u001b[39;00m\n\u001b[0;32m--> 140\u001b[0m     \u001b[38;5;28;01myield from\u001b[39;00m \u001b[38;5;28mself\u001b[39m\u001b[38;5;241m.\u001b[39m_tqdm\n",
      "File \u001b[0;32m/Library/Frameworks/Python.framework/Versions/3.10/lib/python3.10/site-packages/tqdm/notebook.py:250\u001b[0m, in \u001b[0;36mtqdm_notebook.__iter__\u001b[0;34m(self)\u001b[0m\n\u001b[1;32m    248\u001b[0m \u001b[38;5;28;01mtry\u001b[39;00m:\n\u001b[1;32m    249\u001b[0m     it \u001b[38;5;241m=\u001b[39m \u001b[38;5;28msuper\u001b[39m()\u001b[38;5;241m.\u001b[39m\u001b[38;5;21m__iter__\u001b[39m()\n\u001b[0;32m--> 250\u001b[0m     \u001b[38;5;28;01mfor\u001b[39;00m obj \u001b[38;5;129;01min\u001b[39;00m it:\n\u001b[1;32m    251\u001b[0m         \u001b[38;5;66;03m# return super(tqdm...) will not catch exception\u001b[39;00m\n\u001b[1;32m    252\u001b[0m         \u001b[38;5;28;01myield\u001b[39;00m obj\n\u001b[1;32m    253\u001b[0m \u001b[38;5;66;03m# NB: except ... [ as ...] breaks IPython async KeyboardInterrupt\u001b[39;00m\n",
      "File \u001b[0;32m/Library/Frameworks/Python.framework/Versions/3.10/lib/python3.10/site-packages/tqdm/std.py:1169\u001b[0m, in \u001b[0;36mtqdm.__iter__\u001b[0;34m(self)\u001b[0m\n\u001b[1;32m   1166\u001b[0m \u001b[38;5;66;03m# If the bar is disabled, then just walk the iterable\u001b[39;00m\n\u001b[1;32m   1167\u001b[0m \u001b[38;5;66;03m# (note: keep this check outside the loop for performance)\u001b[39;00m\n\u001b[1;32m   1168\u001b[0m \u001b[38;5;28;01mif\u001b[39;00m \u001b[38;5;28mself\u001b[39m\u001b[38;5;241m.\u001b[39mdisable:\n\u001b[0;32m-> 1169\u001b[0m     \u001b[38;5;28;01mfor\u001b[39;00m obj \u001b[38;5;129;01min\u001b[39;00m iterable:\n\u001b[1;32m   1170\u001b[0m         \u001b[38;5;28;01myield\u001b[39;00m obj\n\u001b[1;32m   1171\u001b[0m     \u001b[38;5;28;01mreturn\u001b[39;00m\n",
      "File \u001b[0;32m/Library/Frameworks/Python.framework/Versions/3.10/lib/python3.10/site-packages/sklearn/model_selection/_split.py:370\u001b[0m, in \u001b[0;36m_BaseKFold.split\u001b[0;34m(self, X, y, groups)\u001b[0m\n\u001b[1;32m    368\u001b[0m n_samples \u001b[38;5;241m=\u001b[39m _num_samples(X)\n\u001b[1;32m    369\u001b[0m \u001b[38;5;28;01mif\u001b[39;00m \u001b[38;5;28mself\u001b[39m\u001b[38;5;241m.\u001b[39mn_splits \u001b[38;5;241m>\u001b[39m n_samples:\n\u001b[0;32m--> 370\u001b[0m     \u001b[38;5;28;01mraise\u001b[39;00m \u001b[38;5;167;01mValueError\u001b[39;00m(\n\u001b[1;32m    371\u001b[0m         (\n\u001b[1;32m    372\u001b[0m             \u001b[38;5;124m\"\u001b[39m\u001b[38;5;124mCannot have number of splits n_splits=\u001b[39m\u001b[38;5;132;01m{0}\u001b[39;00m\u001b[38;5;124m greater\u001b[39m\u001b[38;5;124m\"\u001b[39m\n\u001b[1;32m    373\u001b[0m             \u001b[38;5;124m\"\u001b[39m\u001b[38;5;124m than the number of samples: n_samples=\u001b[39m\u001b[38;5;132;01m{1}\u001b[39;00m\u001b[38;5;124m.\u001b[39m\u001b[38;5;124m\"\u001b[39m\n\u001b[1;32m    374\u001b[0m         )\u001b[38;5;241m.\u001b[39mformat(\u001b[38;5;28mself\u001b[39m\u001b[38;5;241m.\u001b[39mn_splits, n_samples)\n\u001b[1;32m    375\u001b[0m     )\n\u001b[1;32m    377\u001b[0m \u001b[38;5;28;01mfor\u001b[39;00m train, test \u001b[38;5;129;01min\u001b[39;00m \u001b[38;5;28msuper\u001b[39m()\u001b[38;5;241m.\u001b[39msplit(X, y, groups):\n\u001b[1;32m    378\u001b[0m     \u001b[38;5;28;01myield\u001b[39;00m train, test\n",
      "\u001b[0;31mValueError\u001b[0m: Cannot have number of splits n_splits=10 greater than the number of samples: n_samples=6."
     ]
    }
   ],
   "source": [
    "paths = glob.glob('epochs/byJ*')\n",
    "paths.sort()\n",
    "for path in paths: \n",
    "    basename = os.path.basename(path)\n",
    "    epochs = mne.read_epochs(path)\n",
    "    ar = AutoReject()\n",
    "    epochs_clean = ar.fit_transform(epochs)\n",
    "    epochs_clean.save(f'epochs_ar/{basename}', overwrite=False)"
   ]
  }
 ],
 "metadata": {
  "kernelspec": {
   "display_name": "mne_ica",
   "language": "python",
   "name": "mne_ica"
  },
  "language_info": {
   "codemirror_mode": {
    "name": "ipython",
    "version": 3
   },
   "file_extension": ".py",
   "mimetype": "text/x-python",
   "name": "python",
   "nbconvert_exporter": "python",
   "pygments_lexer": "ipython3",
   "version": "3.10.11"
  }
 },
 "nbformat": 4,
 "nbformat_minor": 5
}
