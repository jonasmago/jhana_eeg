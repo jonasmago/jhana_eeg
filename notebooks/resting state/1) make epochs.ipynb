{
 "cells": [
  {
   "cell_type": "markdown",
   "id": "c53315cb-5bf8-4f5e-92d1-4ffee4c768c8",
   "metadata": {},
   "source": [
    "## RESTING STATE data: raw --> epochs\n",
    "This script uses the hand cleaned raw data and creates fixed length epochs based on this data. Segments that have been marked as bad are excluded from the epoch generation. "
   ]
  },
  {
   "cell_type": "code",
   "execution_count": 2,
   "id": "800f6781",
   "metadata": {},
   "outputs": [],
   "source": [
    "%load_ext autoreload\n",
    "%autoreload 2\n",
    "%matplotlib qt\n",
    "\n",
    "import numpy as np\n",
    "import csv\n",
    "import matplotlib.pyplot as plt\n",
    "import pandas as pd\n",
    "import os\n",
    "import glob\n",
    "from tqdm import tqdm \n",
    "from atpbar import atpbar\n",
    "from datetime import datetime\n",
    "import mne\n",
    "import autoreject\n",
    "from autoreject import AutoReject\n",
    "from mne.preprocessing import ICA, corrmap, create_ecg_epochs, create_eog_epochs\n",
    "\n",
    "from pyprep.find_noisy_channels import NoisyChannels\n",
    "from mne_icalabel import label_components\n",
    "import re\n",
    "\n"
   ]
  },
  {
   "cell_type": "code",
   "execution_count": 6,
   "id": "d72440d5-2813-414f-8c2e-3aea62bd77d0",
   "metadata": {},
   "outputs": [],
   "source": [
    "# Suppress MNE output\n",
    "mne.set_log_level('WARNING')\n"
   ]
  },
  {
   "cell_type": "markdown",
   "id": "1a9eaa18-c9a4-4c0a-b6a9-adf6b33a3884",
   "metadata": {},
   "source": [
    "## Make fixed length epochs"
   ]
  },
  {
   "cell_type": "code",
   "execution_count": 34,
   "id": "97d7ade7-2b73-4f07-8579-5c241f25848d",
   "metadata": {},
   "outputs": [
    {
     "name": "stdout",
     "output_type": "stream",
     "text": [
      "Opening raw data file ../hand_cleaning/resting_state/sub0-day1-jhana-raw.fif...\n",
      "    Range : 512 ... 388096 =      2.000 ...  1516.000 secs\n",
      "Ready.\n",
      "Reading 0 ... 387584  =      0.000 ...  1514.000 secs...\n",
      "Not setting metadata\n",
      "504 matching events found\n",
      "No baseline correction applied\n",
      "0 projection items activated\n",
      "Using data from preloaded Raw for 504 events and 768 original time points ...\n",
      "98 bad epochs dropped\n",
      "Opening raw data file ../hand_cleaning/resting_state/sub0-day1-mindfulness-raw.fif...\n",
      "    Range : 512 ... 384768 =      2.000 ...  1503.000 secs\n",
      "Ready.\n",
      "Reading 0 ... 384256  =      0.000 ...  1501.000 secs...\n",
      "Not setting metadata\n",
      "500 matching events found\n",
      "No baseline correction applied\n",
      "0 projection items activated\n",
      "Using data from preloaded Raw for 500 events and 768 original time points ...\n",
      "56 bad epochs dropped\n",
      "Opening raw data file ../hand_cleaning/resting_state/sub0-day2-jhana-raw.fif...\n",
      "    Range : 512 ... 384768 =      2.000 ...  1503.000 secs\n",
      "Ready.\n",
      "Reading 0 ... 384256  =      0.000 ...  1501.000 secs...\n",
      "Not setting metadata\n",
      "500 matching events found\n",
      "No baseline correction applied\n",
      "0 projection items activated\n",
      "Using data from preloaded Raw for 500 events and 768 original time points ...\n",
      "84 bad epochs dropped\n",
      "Opening raw data file ../hand_cleaning/resting_state/sub0-day2-mindfulness-raw.fif...\n",
      "    Range : 512 ... 381952 =      2.000 ...  1492.000 secs\n",
      "Ready.\n",
      "Reading 0 ... 381440  =      0.000 ...  1490.000 secs...\n",
      "Not setting metadata\n",
      "496 matching events found\n",
      "No baseline correction applied\n",
      "0 projection items activated\n",
      "Using data from preloaded Raw for 496 events and 768 original time points ...\n",
      "108 bad epochs dropped\n",
      "Opening raw data file ../hand_cleaning/resting_state/sub0-day3-jhana-raw.fif...\n",
      "    Range : 768 ... 385024 =      3.000 ...  1504.000 secs\n",
      "Ready.\n",
      "Reading 0 ... 384256  =      0.000 ...  1501.000 secs...\n",
      "Not setting metadata\n",
      "500 matching events found\n",
      "No baseline correction applied\n",
      "0 projection items activated\n",
      "Using data from preloaded Raw for 500 events and 768 original time points ...\n",
      "77 bad epochs dropped\n",
      "Opening raw data file ../hand_cleaning/resting_state/sub0-day3-mindfulness-raw.fif...\n",
      "    Range : 768 ... 389376 =      3.000 ...  1521.000 secs\n",
      "Ready.\n",
      "Reading 0 ... 388608  =      0.000 ...  1518.000 secs...\n",
      "Not setting metadata\n",
      "506 matching events found\n",
      "No baseline correction applied\n",
      "0 projection items activated\n",
      "Using data from preloaded Raw for 506 events and 768 original time points ...\n",
      "52 bad epochs dropped\n",
      "Opening raw data file ../hand_cleaning/resting_state/sub0-day4-jhana-raw.fif...\n",
      "    Range : 256 ... 393728 =      1.000 ...  1538.000 secs\n",
      "Ready.\n",
      "Reading 0 ... 393472  =      0.000 ...  1537.000 secs...\n",
      "Not setting metadata\n",
      "512 matching events found\n",
      "No baseline correction applied\n",
      "0 projection items activated\n",
      "Using data from preloaded Raw for 512 events and 768 original time points ...\n",
      "97 bad epochs dropped\n",
      "Opening raw data file ../hand_cleaning/resting_state/sub0-day4-mindfulness-raw.fif...\n",
      "    Range : 512 ... 388864 =      2.000 ...  1519.000 secs\n",
      "Ready.\n",
      "Reading 0 ... 388352  =      0.000 ...  1517.000 secs...\n",
      "Not setting metadata\n",
      "505 matching events found\n",
      "No baseline correction applied\n",
      "0 projection items activated\n",
      "Using data from preloaded Raw for 505 events and 768 original time points ...\n",
      "142 bad epochs dropped\n",
      "Opening raw data file ../hand_cleaning/resting_state/sub1-day1-jhana-raw.fif...\n",
      "    Range : 768 ... 388352 =      3.000 ...  1517.000 secs\n",
      "Ready.\n",
      "Reading 0 ... 387584  =      0.000 ...  1514.000 secs...\n",
      "Not setting metadata\n",
      "504 matching events found\n",
      "No baseline correction applied\n",
      "0 projection items activated\n",
      "Using data from preloaded Raw for 504 events and 768 original time points ...\n",
      "72 bad epochs dropped\n",
      "Opening raw data file ../hand_cleaning/resting_state/sub1-day1-mindfulness-raw.fif...\n",
      "    Range : 768 ... 384768 =      3.000 ...  1503.000 secs\n",
      "Ready.\n",
      "Reading 0 ... 384000  =      0.000 ...  1500.000 secs...\n",
      "Not setting metadata\n",
      "500 matching events found\n",
      "No baseline correction applied\n",
      "0 projection items activated\n",
      "Using data from preloaded Raw for 500 events and 768 original time points ...\n",
      "131 bad epochs dropped\n",
      "Opening raw data file ../hand_cleaning/resting_state/sub1-day2-jhana-raw.fif...\n",
      "    Range : 768 ... 382720 =      3.000 ...  1495.000 secs\n",
      "Ready.\n",
      "Reading 0 ... 381952  =      0.000 ...  1492.000 secs...\n",
      "Not setting metadata\n",
      "497 matching events found\n",
      "No baseline correction applied\n",
      "0 projection items activated\n",
      "Using data from preloaded Raw for 497 events and 768 original time points ...\n",
      "106 bad epochs dropped\n",
      "Opening raw data file ../hand_cleaning/resting_state/sub1-day2-mindfulness-raw.fif...\n",
      "    Range : 512 ... 381952 =      2.000 ...  1492.000 secs\n",
      "Ready.\n",
      "Reading 0 ... 381440  =      0.000 ...  1490.000 secs...\n",
      "Not setting metadata\n",
      "496 matching events found\n",
      "No baseline correction applied\n",
      "0 projection items activated\n",
      "Using data from preloaded Raw for 496 events and 768 original time points ...\n",
      "25 bad epochs dropped\n",
      "Opening raw data file ../hand_cleaning/resting_state/sub1-day3-jhana-raw.fif...\n",
      "    Range : 512 ... 386048 =      2.000 ...  1508.000 secs\n",
      "Ready.\n",
      "Reading 0 ... 385536  =      0.000 ...  1506.000 secs...\n",
      "Not setting metadata\n",
      "502 matching events found\n",
      "No baseline correction applied\n",
      "0 projection items activated\n",
      "Using data from preloaded Raw for 502 events and 768 original time points ...\n",
      "122 bad epochs dropped\n",
      "Opening raw data file ../hand_cleaning/resting_state/sub1-day3-mindfulness-raw.fif...\n",
      "    Range : 1280 ... 387328 =      5.000 ...  1513.000 secs\n",
      "Ready.\n",
      "Reading 0 ... 386048  =      0.000 ...  1508.000 secs...\n",
      "Not setting metadata\n",
      "502 matching events found\n",
      "No baseline correction applied\n",
      "0 projection items activated\n",
      "Using data from preloaded Raw for 502 events and 768 original time points ...\n",
      "26 bad epochs dropped\n",
      "Opening raw data file ../hand_cleaning/resting_state/sub1-day4-jhana-raw.fif...\n",
      "    Range : 256 ... 394496 =      1.000 ...  1541.000 secs\n",
      "Ready.\n",
      "Reading 0 ... 394240  =      0.000 ...  1540.000 secs...\n",
      "Not setting metadata\n",
      "513 matching events found\n",
      "No baseline correction applied\n",
      "0 projection items activated\n",
      "Using data from preloaded Raw for 513 events and 768 original time points ...\n",
      "36 bad epochs dropped\n",
      "Opening raw data file ../hand_cleaning/resting_state/sub1-day4-mindfulness-raw.fif...\n",
      "    Range : 512 ... 392704 =      2.000 ...  1534.000 secs\n",
      "Ready.\n",
      "Reading 0 ... 392192  =      0.000 ...  1532.000 secs...\n",
      "Not setting metadata\n",
      "510 matching events found\n",
      "No baseline correction applied\n",
      "0 projection items activated\n",
      "Using data from preloaded Raw for 510 events and 768 original time points ...\n",
      "77 bad epochs dropped\n",
      "Opening raw data file ../hand_cleaning/resting_state/sub2-day1-jhana-raw.fif...\n",
      "    Range : 512 ... 384512 =      2.000 ...  1502.000 secs\n",
      "Ready.\n",
      "Reading 0 ... 384000  =      0.000 ...  1500.000 secs...\n",
      "Not setting metadata\n",
      "500 matching events found\n",
      "No baseline correction applied\n",
      "0 projection items activated\n",
      "Using data from preloaded Raw for 500 events and 768 original time points ...\n",
      "44 bad epochs dropped\n",
      "Opening raw data file ../hand_cleaning/resting_state/sub2-day1-mindfulness-raw.fif...\n",
      "    Range : 12032 ... 380416 =     47.000 ...  1486.000 secs\n",
      "Ready.\n",
      "Reading 0 ... 368384  =      0.000 ...  1439.000 secs...\n",
      "Not setting metadata\n",
      "479 matching events found\n",
      "No baseline correction applied\n",
      "0 projection items activated\n",
      "Using data from preloaded Raw for 479 events and 768 original time points ...\n",
      "126 bad epochs dropped\n",
      "Opening raw data file ../hand_cleaning/resting_state/sub2-day2-jhana-raw.fif...\n",
      "    Range : 512 ... 383488 =      2.000 ...  1498.000 secs\n",
      "Ready.\n",
      "Reading 0 ... 382976  =      0.000 ...  1496.000 secs...\n",
      "Not setting metadata\n",
      "498 matching events found\n",
      "No baseline correction applied\n",
      "0 projection items activated\n",
      "Using data from preloaded Raw for 498 events and 768 original time points ...\n",
      "118 bad epochs dropped\n",
      "Opening raw data file ../hand_cleaning/resting_state/sub2-day2-mindfulness-raw.fif...\n",
      "    Range : 512 ... 381696 =      2.000 ...  1491.000 secs\n",
      "Ready.\n",
      "Reading 0 ... 381184  =      0.000 ...  1489.000 secs...\n",
      "Not setting metadata\n",
      "496 matching events found\n",
      "No baseline correction applied\n",
      "0 projection items activated\n",
      "Using data from preloaded Raw for 496 events and 768 original time points ...\n",
      "33 bad epochs dropped\n",
      "Opening raw data file ../hand_cleaning/resting_state/sub2-day3-jhana-raw.fif...\n",
      "    Range : 256 ... 387584 =      1.000 ...  1514.000 secs\n",
      "Ready.\n",
      "Reading 0 ... 387328  =      0.000 ...  1513.000 secs...\n",
      "Not setting metadata\n",
      "504 matching events found\n",
      "No baseline correction applied\n",
      "0 projection items activated\n",
      "Using data from preloaded Raw for 504 events and 768 original time points ...\n",
      "80 bad epochs dropped\n",
      "Opening raw data file ../hand_cleaning/resting_state/sub2-day3-mindfulness-raw.fif...\n",
      "    Range : 512 ... 386048 =      2.000 ...  1508.000 secs\n",
      "Ready.\n",
      "Reading 0 ... 385536  =      0.000 ...  1506.000 secs...\n",
      "Not setting metadata\n",
      "502 matching events found\n",
      "No baseline correction applied\n",
      "0 projection items activated\n",
      "Using data from preloaded Raw for 502 events and 768 original time points ...\n",
      "88 bad epochs dropped\n",
      "Opening raw data file ../hand_cleaning/resting_state/sub2-day4-jhana-raw.fif...\n",
      "    Range : 256 ... 387328 =      1.000 ...  1513.000 secs\n",
      "Ready.\n",
      "Reading 0 ... 387072  =      0.000 ...  1512.000 secs...\n",
      "Not setting metadata\n",
      "504 matching events found\n",
      "No baseline correction applied\n",
      "0 projection items activated\n",
      "Using data from preloaded Raw for 504 events and 768 original time points ...\n",
      "85 bad epochs dropped\n",
      "Opening raw data file ../hand_cleaning/resting_state/sub2-day4-mindfulness-raw.fif...\n",
      "    Range : 256 ... 391168 =      1.000 ...  1528.000 secs\n",
      "Ready.\n",
      "Reading 0 ... 390912  =      0.000 ...  1527.000 secs...\n",
      "Not setting metadata\n",
      "509 matching events found\n",
      "No baseline correction applied\n",
      "0 projection items activated\n",
      "Using data from preloaded Raw for 509 events and 768 original time points ...\n",
      "128 bad epochs dropped\n",
      "Opening raw data file ../hand_cleaning/resting_state/sub3-day1-jhana-raw.fif...\n",
      "    Range : 768 ... 384256 =      3.000 ...  1501.000 secs\n",
      "Ready.\n",
      "Reading 0 ... 383488  =      0.000 ...  1498.000 secs...\n",
      "Not setting metadata\n",
      "499 matching events found\n",
      "No baseline correction applied\n",
      "0 projection items activated\n",
      "Using data from preloaded Raw for 499 events and 768 original time points ...\n",
      "164 bad epochs dropped\n",
      "Opening raw data file ../hand_cleaning/resting_state/sub3-day1-mindfulness-raw.fif...\n",
      "    Range : 512 ... 380416 =      2.000 ...  1486.000 secs\n",
      "Ready.\n",
      "Reading 0 ... 379904  =      0.000 ...  1484.000 secs...\n",
      "Not setting metadata\n",
      "494 matching events found\n",
      "No baseline correction applied\n",
      "0 projection items activated\n",
      "Using data from preloaded Raw for 494 events and 768 original time points ...\n",
      "173 bad epochs dropped\n",
      "Opening raw data file ../hand_cleaning/resting_state/sub3-day2-jhana-raw.fif...\n",
      "    Range : 512 ... 383232 =      2.000 ...  1497.000 secs\n",
      "Ready.\n",
      "Reading 0 ... 382720  =      0.000 ...  1495.000 secs...\n",
      "Not setting metadata\n",
      "498 matching events found\n",
      "No baseline correction applied\n",
      "0 projection items activated\n",
      "Using data from preloaded Raw for 498 events and 768 original time points ...\n",
      "108 bad epochs dropped\n",
      "Opening raw data file ../hand_cleaning/resting_state/sub3-day2-mindfulness-raw.fif...\n",
      "    Range : 768 ... 381184 =      3.000 ...  1489.000 secs\n",
      "Ready.\n",
      "Reading 0 ... 380416  =      0.000 ...  1486.000 secs...\n",
      "Not setting metadata\n",
      "495 matching events found\n",
      "No baseline correction applied\n",
      "0 projection items activated\n",
      "Using data from preloaded Raw for 495 events and 768 original time points ...\n",
      "116 bad epochs dropped\n",
      "Opening raw data file ../hand_cleaning/resting_state/sub3-day3-jhana-raw.fif...\n",
      "    Range : 256 ... 385280 =      1.000 ...  1505.000 secs\n",
      "Ready.\n",
      "Reading 0 ... 385024  =      0.000 ...  1504.000 secs...\n",
      "Not setting metadata\n",
      "501 matching events found\n",
      "No baseline correction applied\n",
      "0 projection items activated\n",
      "Using data from preloaded Raw for 501 events and 768 original time points ...\n",
      "113 bad epochs dropped\n",
      "Opening raw data file ../hand_cleaning/resting_state/sub3-day3-mindfulness-raw.fif...\n",
      "    Range : 768 ... 385792 =      3.000 ...  1507.000 secs\n",
      "Ready.\n",
      "Reading 0 ... 385024  =      0.000 ...  1504.000 secs...\n",
      "Not setting metadata\n",
      "501 matching events found\n",
      "No baseline correction applied\n",
      "0 projection items activated\n",
      "Using data from preloaded Raw for 501 events and 768 original time points ...\n",
      "168 bad epochs dropped\n",
      "Opening raw data file ../hand_cleaning/resting_state/sub3-day4-jhana-raw.fif...\n",
      "    Range : 256 ... 387584 =      1.000 ...  1514.000 secs\n",
      "Ready.\n",
      "Reading 0 ... 387328  =      0.000 ...  1513.000 secs...\n",
      "Not setting metadata\n",
      "504 matching events found\n",
      "No baseline correction applied\n",
      "0 projection items activated\n",
      "Using data from preloaded Raw for 504 events and 768 original time points ...\n",
      "195 bad epochs dropped\n",
      "Opening raw data file ../hand_cleaning/resting_state/sub3-day4-mindfulness-raw.fif...\n",
      "    Range : 256 ... 389120 =      1.000 ...  1520.000 secs\n",
      "Ready.\n",
      "Reading 0 ... 388864  =      0.000 ...  1519.000 secs...\n",
      "Not setting metadata\n",
      "506 matching events found\n",
      "No baseline correction applied\n",
      "0 projection items activated\n",
      "Using data from preloaded Raw for 506 events and 768 original time points ...\n",
      "95 bad epochs dropped\n",
      "Opening raw data file ../hand_cleaning/resting_state/sub4-day1-jhana-raw.fif...\n",
      "    Range : 512 ... 389376 =      2.000 ...  1521.000 secs\n",
      "Ready.\n",
      "Reading 0 ... 388864  =      0.000 ...  1519.000 secs...\n",
      "Not setting metadata\n",
      "506 matching events found\n",
      "No baseline correction applied\n",
      "0 projection items activated\n",
      "Using data from preloaded Raw for 506 events and 768 original time points ...\n",
      "63 bad epochs dropped\n",
      "Opening raw data file ../hand_cleaning/resting_state/sub4-day1-mindfulness-raw.fif...\n",
      "    Range : 512 ... 384512 =      2.000 ...  1502.000 secs\n",
      "Ready.\n",
      "Reading 0 ... 384000  =      0.000 ...  1500.000 secs...\n",
      "Not setting metadata\n",
      "500 matching events found\n",
      "No baseline correction applied\n",
      "0 projection items activated\n",
      "Using data from preloaded Raw for 500 events and 768 original time points ...\n",
      "129 bad epochs dropped\n",
      "Opening raw data file ../hand_cleaning/resting_state/sub4-day2-jhana-raw.fif...\n",
      "    Range : 512 ... 391168 =      2.000 ...  1528.000 secs\n",
      "Ready.\n",
      "Reading 0 ... 390656  =      0.000 ...  1526.000 secs...\n",
      "Not setting metadata\n",
      "508 matching events found\n",
      "No baseline correction applied\n",
      "0 projection items activated\n",
      "Using data from preloaded Raw for 508 events and 768 original time points ...\n",
      "98 bad epochs dropped\n",
      "Opening raw data file ../hand_cleaning/resting_state/sub4-day2-mindfulness-raw.fif...\n",
      "    Range : 512 ... 383488 =      2.000 ...  1498.000 secs\n",
      "Ready.\n",
      "Reading 0 ... 382976  =      0.000 ...  1496.000 secs...\n",
      "Not setting metadata\n",
      "498 matching events found\n",
      "No baseline correction applied\n",
      "0 projection items activated\n",
      "Using data from preloaded Raw for 498 events and 768 original time points ...\n",
      "132 bad epochs dropped\n",
      "Opening raw data file ../hand_cleaning/resting_state/sub4-day3-jhana-raw.fif...\n",
      "    Range : 256 ... 388608 =      1.000 ...  1518.000 secs\n",
      "Ready.\n",
      "Reading 0 ... 388352  =      0.000 ...  1517.000 secs...\n",
      "Not setting metadata\n",
      "505 matching events found\n",
      "No baseline correction applied\n",
      "0 projection items activated\n",
      "Using data from preloaded Raw for 505 events and 768 original time points ...\n",
      "56 bad epochs dropped\n",
      "Opening raw data file ../hand_cleaning/resting_state/sub4-day3-mindfulness-raw.fif...\n",
      "    Range : 256 ... 383488 =      1.000 ...  1498.000 secs\n",
      "Ready.\n",
      "Reading 0 ... 383232  =      0.000 ...  1497.000 secs...\n",
      "Not setting metadata\n",
      "499 matching events found\n",
      "No baseline correction applied\n",
      "0 projection items activated\n",
      "Using data from preloaded Raw for 499 events and 768 original time points ...\n",
      "182 bad epochs dropped\n",
      "Opening raw data file ../hand_cleaning/resting_state/sub4-day4-jhana-raw.fif...\n",
      "    Range : 256 ... 387584 =      1.000 ...  1514.000 secs\n",
      "Ready.\n",
      "Reading 0 ... 387328  =      0.000 ...  1513.000 secs...\n",
      "Not setting metadata\n",
      "504 matching events found\n",
      "No baseline correction applied\n",
      "0 projection items activated\n",
      "Using data from preloaded Raw for 504 events and 768 original time points ...\n",
      "131 bad epochs dropped\n",
      "Opening raw data file ../hand_cleaning/resting_state/sub4-day4-mindfulness-raw.fif...\n",
      "    Range : 768 ... 385024 =      3.000 ...  1504.000 secs\n",
      "Ready.\n",
      "Reading 0 ... 384256  =      0.000 ...  1501.000 secs...\n",
      "Not setting metadata\n",
      "500 matching events found\n",
      "No baseline correction applied\n",
      "0 projection items activated\n",
      "Using data from preloaded Raw for 500 events and 768 original time points ...\n",
      "245 bad epochs dropped\n",
      "Opening raw data file ../hand_cleaning/resting_state/sub5-day1-jhana-raw.fif...\n",
      "    Range : 512 ... 389376 =      2.000 ...  1521.000 secs\n",
      "Ready.\n",
      "Reading 0 ... 388864  =      0.000 ...  1519.000 secs...\n",
      "Not setting metadata\n",
      "506 matching events found\n",
      "No baseline correction applied\n",
      "0 projection items activated\n",
      "Using data from preloaded Raw for 506 events and 768 original time points ...\n",
      "192 bad epochs dropped\n",
      "Opening raw data file ../hand_cleaning/resting_state/sub5-day1-mindfulness-raw.fif...\n",
      "    Range : 512 ... 384512 =      2.000 ...  1502.000 secs\n",
      "Ready.\n",
      "Reading 0 ... 384000  =      0.000 ...  1500.000 secs...\n",
      "Not setting metadata\n",
      "500 matching events found\n",
      "No baseline correction applied\n",
      "0 projection items activated\n",
      "Using data from preloaded Raw for 500 events and 768 original time points ...\n",
      "136 bad epochs dropped\n",
      "Opening raw data file ../hand_cleaning/resting_state/sub5-day2-jhana-raw.fif...\n",
      "    Range : 768 ... 390912 =      3.000 ...  1527.000 secs\n",
      "Ready.\n",
      "Reading 0 ... 390144  =      0.000 ...  1524.000 secs...\n",
      "Not setting metadata\n",
      "508 matching events found\n",
      "No baseline correction applied\n",
      "0 projection items activated\n",
      "Using data from preloaded Raw for 508 events and 768 original time points ...\n",
      "68 bad epochs dropped\n",
      "Opening raw data file ../hand_cleaning/resting_state/sub5-day2-mindfulness-raw.fif...\n",
      "    Range : 512 ... 384768 =      2.000 ...  1503.000 secs\n",
      "Ready.\n",
      "Reading 0 ... 384256  =      0.000 ...  1501.000 secs...\n",
      "Not setting metadata\n",
      "500 matching events found\n",
      "No baseline correction applied\n",
      "0 projection items activated\n",
      "Using data from preloaded Raw for 500 events and 768 original time points ...\n",
      "135 bad epochs dropped\n",
      "Opening raw data file ../hand_cleaning/resting_state/sub5-day3-jhana-raw.fif...\n",
      "    Range : 256 ... 389120 =      1.000 ...  1520.000 secs\n",
      "Ready.\n",
      "Reading 0 ... 388864  =      0.000 ...  1519.000 secs...\n",
      "Not setting metadata\n",
      "506 matching events found\n",
      "No baseline correction applied\n",
      "0 projection items activated\n",
      "Using data from preloaded Raw for 506 events and 768 original time points ...\n",
      "71 bad epochs dropped\n",
      "Opening raw data file ../hand_cleaning/resting_state/sub5-day3-mindfulness-raw.fif...\n",
      "    Range : 768 ... 385792 =      3.000 ...  1507.000 secs\n",
      "Ready.\n",
      "Reading 0 ... 385024  =      0.000 ...  1504.000 secs...\n",
      "Not setting metadata\n",
      "501 matching events found\n",
      "No baseline correction applied\n",
      "0 projection items activated\n",
      "Using data from preloaded Raw for 501 events and 768 original time points ...\n",
      "126 bad epochs dropped\n",
      "Opening raw data file ../hand_cleaning/resting_state/sub5-day4-jhana-raw.fif...\n",
      "    Range : 256 ... 387840 =      1.000 ...  1515.000 secs\n",
      "Ready.\n",
      "Reading 0 ... 387584  =      0.000 ...  1514.000 secs...\n",
      "Not setting metadata\n",
      "504 matching events found\n",
      "No baseline correction applied\n",
      "0 projection items activated\n",
      "Using data from preloaded Raw for 504 events and 768 original time points ...\n",
      "24 bad epochs dropped\n",
      "Opening raw data file ../hand_cleaning/resting_state/sub5-day4-mindfulness-raw.fif...\n",
      "    Range : 512 ... 381440 =      2.000 ...  1490.000 secs\n",
      "Ready.\n",
      "Reading 0 ... 380928  =      0.000 ...  1488.000 secs...\n",
      "Not setting metadata\n",
      "496 matching events found\n",
      "No baseline correction applied\n",
      "0 projection items activated\n",
      "Using data from preloaded Raw for 496 events and 768 original time points ...\n",
      "16 bad epochs dropped\n",
      "Opening raw data file ../hand_cleaning/resting_state/sub6-day1-jhana-raw.fif...\n",
      "    Range : 512 ... 383232 =      2.000 ...  1497.000 secs\n",
      "Ready.\n",
      "Reading 0 ... 382720  =      0.000 ...  1495.000 secs...\n",
      "Not setting metadata\n",
      "498 matching events found\n",
      "No baseline correction applied\n",
      "0 projection items activated\n",
      "Using data from preloaded Raw for 498 events and 768 original time points ...\n",
      "53 bad epochs dropped\n",
      "Opening raw data file ../hand_cleaning/resting_state/sub6-day1-mindfulness-raw.fif...\n",
      "    Range : 768 ... 390656 =      3.000 ...  1526.000 secs\n",
      "Ready.\n",
      "Reading 0 ... 389888  =      0.000 ...  1523.000 secs...\n",
      "Not setting metadata\n",
      "507 matching events found\n",
      "No baseline correction applied\n",
      "0 projection items activated\n",
      "Using data from preloaded Raw for 507 events and 768 original time points ...\n",
      "267 bad epochs dropped\n",
      "Opening raw data file ../hand_cleaning/resting_state/sub6-day2-jhana-raw.fif...\n",
      "    Range : 768 ... 379392 =      3.000 ...  1482.000 secs\n",
      "Ready.\n",
      "Reading 0 ... 378624  =      0.000 ...  1479.000 secs...\n",
      "Not setting metadata\n",
      "493 matching events found\n",
      "No baseline correction applied\n",
      "0 projection items activated\n",
      "Using data from preloaded Raw for 493 events and 768 original time points ...\n",
      "70 bad epochs dropped\n",
      "Opening raw data file ../hand_cleaning/resting_state/sub6-day2-mindfulness-raw.fif...\n",
      "    Range : 256 ... 366080 =      1.000 ...  1430.000 secs\n",
      "Ready.\n",
      "Reading 0 ... 365824  =      0.000 ...  1429.000 secs...\n",
      "Not setting metadata\n",
      "476 matching events found\n",
      "No baseline correction applied\n",
      "0 projection items activated\n",
      "Using data from preloaded Raw for 476 events and 768 original time points ...\n",
      "38 bad epochs dropped\n",
      "Opening raw data file ../hand_cleaning/resting_state/sub6-day3-jhana-raw.fif...\n",
      "    Range : 256 ... 400384 =      1.000 ...  1564.000 secs\n",
      "Ready.\n",
      "Reading 0 ... 400128  =      0.000 ...  1563.000 secs...\n",
      "Not setting metadata\n",
      "521 matching events found\n",
      "No baseline correction applied\n",
      "0 projection items activated\n",
      "Using data from preloaded Raw for 521 events and 768 original time points ...\n",
      "115 bad epochs dropped\n",
      "Opening raw data file ../hand_cleaning/resting_state/sub6-day3-mindfulness-raw.fif...\n",
      "    Range : 256 ... 386048 =      1.000 ...  1508.000 secs\n",
      "Ready.\n",
      "Reading 0 ... 385792  =      0.000 ...  1507.000 secs...\n",
      "Not setting metadata\n",
      "502 matching events found\n",
      "No baseline correction applied\n",
      "0 projection items activated\n",
      "Using data from preloaded Raw for 502 events and 768 original time points ...\n",
      "59 bad epochs dropped\n",
      "Opening raw data file ../hand_cleaning/resting_state/sub6-day4-jhana-raw.fif...\n",
      "    Range : 256 ... 384000 =      1.000 ...  1500.000 secs\n",
      "Ready.\n",
      "Reading 0 ... 383744  =      0.000 ...  1499.000 secs...\n",
      "Not setting metadata\n",
      "499 matching events found\n",
      "No baseline correction applied\n",
      "0 projection items activated\n",
      "Using data from preloaded Raw for 499 events and 768 original time points ...\n",
      "14 bad epochs dropped\n",
      "Opening raw data file ../hand_cleaning/resting_state/sub6-day4-mindfulness-raw.fif...\n",
      "    Range : 768 ... 389120 =      3.000 ...  1520.000 secs\n",
      "Ready.\n",
      "Reading 0 ... 388352  =      0.000 ...  1517.000 secs...\n",
      "Not setting metadata\n",
      "505 matching events found\n",
      "No baseline correction applied\n",
      "0 projection items activated\n",
      "Using data from preloaded Raw for 505 events and 768 original time points ...\n",
      "10 bad epochs dropped\n",
      "Opening raw data file ../hand_cleaning/resting_state/sub7-day1-jhana-raw.fif...\n",
      "    Range : 512 ... 382720 =      2.000 ...  1495.000 secs\n",
      "Ready.\n",
      "Reading 0 ... 382208  =      0.000 ...  1493.000 secs...\n",
      "Not setting metadata\n",
      "497 matching events found\n",
      "No baseline correction applied\n",
      "0 projection items activated\n",
      "Using data from preloaded Raw for 497 events and 768 original time points ...\n",
      "45 bad epochs dropped\n",
      "Opening raw data file ../hand_cleaning/resting_state/sub7-day1-mindfulness-raw.fif...\n",
      "    Range : 512 ... 390400 =      2.000 ...  1525.000 secs\n",
      "Ready.\n",
      "Reading 0 ... 389888  =      0.000 ...  1523.000 secs...\n",
      "Not setting metadata\n",
      "507 matching events found\n",
      "No baseline correction applied\n",
      "0 projection items activated\n",
      "Using data from preloaded Raw for 507 events and 768 original time points ...\n",
      "77 bad epochs dropped\n",
      "Opening raw data file ../hand_cleaning/resting_state/sub7-day2-jhana-raw.fif...\n",
      "    Range : 512 ... 390144 =      2.000 ...  1524.000 secs\n",
      "Ready.\n",
      "Reading 0 ... 389632  =      0.000 ...  1522.000 secs...\n",
      "Not setting metadata\n",
      "507 matching events found\n",
      "No baseline correction applied\n",
      "0 projection items activated\n",
      "Using data from preloaded Raw for 507 events and 768 original time points ...\n",
      "127 bad epochs dropped\n",
      "Opening raw data file ../hand_cleaning/resting_state/sub7-day2-mindfulness-raw.fif...\n",
      "    Range : 256 ... 363776 =      1.000 ...  1421.000 secs\n",
      "Ready.\n",
      "Reading 0 ... 363520  =      0.000 ...  1420.000 secs...\n",
      "Not setting metadata\n",
      "473 matching events found\n",
      "No baseline correction applied\n",
      "0 projection items activated\n",
      "Using data from preloaded Raw for 473 events and 768 original time points ...\n",
      "404 bad epochs dropped\n",
      "Opening raw data file ../hand_cleaning/resting_state/sub7-day3-jhana-raw.fif...\n",
      "    Range : 256 ... 398336 =      1.000 ...  1556.000 secs\n",
      "Ready.\n",
      "Reading 0 ... 398080  =      0.000 ...  1555.000 secs...\n",
      "Not setting metadata\n",
      "518 matching events found\n",
      "No baseline correction applied\n",
      "0 projection items activated\n",
      "Using data from preloaded Raw for 518 events and 768 original time points ...\n",
      "26 bad epochs dropped\n",
      "Opening raw data file ../hand_cleaning/resting_state/sub7-day3-mindfulness-raw.fif...\n",
      "    Range : 256 ... 384000 =      1.000 ...  1500.000 secs\n",
      "Ready.\n",
      "Reading 0 ... 383744  =      0.000 ...  1499.000 secs...\n",
      "Not setting metadata\n",
      "499 matching events found\n",
      "No baseline correction applied\n",
      "0 projection items activated\n",
      "Using data from preloaded Raw for 499 events and 768 original time points ...\n",
      "24 bad epochs dropped\n",
      "Opening raw data file ../hand_cleaning/resting_state/sub7-day4-jhana-raw.fif...\n",
      "    Range : 256 ... 384256 =      1.000 ...  1501.000 secs\n",
      "Ready.\n",
      "Reading 0 ... 384000  =      0.000 ...  1500.000 secs...\n",
      "Not setting metadata\n",
      "500 matching events found\n",
      "No baseline correction applied\n",
      "0 projection items activated\n",
      "Using data from preloaded Raw for 500 events and 768 original time points ...\n",
      "17 bad epochs dropped\n",
      "Opening raw data file ../hand_cleaning/resting_state/sub7-day4-mindfulness-raw.fif...\n",
      "    Range : 256 ... 388608 =      1.000 ...  1518.000 secs\n",
      "Ready.\n",
      "Reading 0 ... 388352  =      0.000 ...  1517.000 secs...\n",
      "Not setting metadata\n",
      "505 matching events found\n",
      "No baseline correction applied\n",
      "0 projection items activated\n",
      "Using data from preloaded Raw for 505 events and 768 original time points ...\n",
      "39 bad epochs dropped\n",
      "Opening raw data file ../hand_cleaning/resting_state/sub8-day1-jhana-raw.fif...\n",
      "    Range : 768 ... 386304 =      3.000 ...  1509.000 secs\n",
      "Ready.\n",
      "Reading 0 ... 385536  =      0.000 ...  1506.000 secs...\n",
      "Not setting metadata\n",
      "502 matching events found\n",
      "No baseline correction applied\n",
      "0 projection items activated\n",
      "Using data from preloaded Raw for 502 events and 768 original time points ...\n",
      "78 bad epochs dropped\n",
      "Opening raw data file ../hand_cleaning/resting_state/sub8-day1-mindfulness-raw.fif...\n",
      "    Range : 768 ... 384000 =      3.000 ...  1500.000 secs\n",
      "Ready.\n",
      "Reading 0 ... 383232  =      0.000 ...  1497.000 secs...\n",
      "Not setting metadata\n",
      "499 matching events found\n",
      "No baseline correction applied\n",
      "0 projection items activated\n",
      "Using data from preloaded Raw for 499 events and 768 original time points ...\n",
      "160 bad epochs dropped\n",
      "Opening raw data file ../hand_cleaning/resting_state/sub8-day2-jhana-raw.fif...\n",
      "    Range : 768 ... 391680 =      3.000 ...  1530.000 secs\n",
      "Ready.\n",
      "Reading 0 ... 390912  =      0.000 ...  1527.000 secs...\n",
      "Not setting metadata\n",
      "509 matching events found\n",
      "No baseline correction applied\n",
      "0 projection items activated\n",
      "Using data from preloaded Raw for 509 events and 768 original time points ...\n",
      "97 bad epochs dropped\n",
      "Opening raw data file ../hand_cleaning/resting_state/sub8-day2-mindfulness-raw.fif...\n",
      "    Range : 512 ... 385792 =      2.000 ...  1507.000 secs\n",
      "Ready.\n",
      "Reading 0 ... 385280  =      0.000 ...  1505.000 secs...\n",
      "Not setting metadata\n",
      "501 matching events found\n",
      "No baseline correction applied\n",
      "0 projection items activated\n",
      "Using data from preloaded Raw for 501 events and 768 original time points ...\n",
      "230 bad epochs dropped\n",
      "Opening raw data file ../hand_cleaning/resting_state/sub8-day3-jhana-raw.fif...\n",
      "    Range : 256 ... 391168 =      1.000 ...  1528.000 secs\n",
      "Ready.\n",
      "Reading 0 ... 390912  =      0.000 ...  1527.000 secs...\n",
      "Not setting metadata\n",
      "509 matching events found\n",
      "No baseline correction applied\n",
      "0 projection items activated\n",
      "Using data from preloaded Raw for 509 events and 768 original time points ...\n",
      "30 bad epochs dropped\n",
      "Opening raw data file ../hand_cleaning/resting_state/sub8-day3-mindfulness-raw.fif...\n",
      "    Range : 256 ... 390656 =      1.000 ...  1526.000 secs\n",
      "Ready.\n",
      "Reading 0 ... 390400  =      0.000 ...  1525.000 secs...\n",
      "Not setting metadata\n",
      "508 matching events found\n",
      "No baseline correction applied\n",
      "0 projection items activated\n",
      "Using data from preloaded Raw for 508 events and 768 original time points ...\n",
      "66 bad epochs dropped\n",
      "Opening raw data file ../hand_cleaning/resting_state/sub8-day4-jhana-raw.fif...\n",
      "    Range : 256 ... 386304 =      1.000 ...  1509.000 secs\n",
      "Ready.\n",
      "Reading 0 ... 386048  =      0.000 ...  1508.000 secs...\n",
      "Not setting metadata\n",
      "502 matching events found\n",
      "No baseline correction applied\n",
      "0 projection items activated\n",
      "Using data from preloaded Raw for 502 events and 768 original time points ...\n",
      "70 bad epochs dropped\n",
      "Opening raw data file ../hand_cleaning/resting_state/sub8-day4-mindfulness-raw.fif...\n",
      "    Range : 512 ... 389888 =      2.000 ...  1523.000 secs\n",
      "Ready.\n",
      "Reading 0 ... 389376  =      0.000 ...  1521.000 secs...\n",
      "Not setting metadata\n",
      "507 matching events found\n",
      "No baseline correction applied\n",
      "0 projection items activated\n",
      "Using data from preloaded Raw for 507 events and 768 original time points ...\n",
      "40 bad epochs dropped\n",
      "Opening raw data file ../hand_cleaning/resting_state/sub9-day1-jhana-raw.fif...\n",
      "    Range : 512 ... 385280 =      2.000 ...  1505.000 secs\n",
      "Ready.\n",
      "Reading 0 ... 384768  =      0.000 ...  1503.000 secs...\n",
      "Not setting metadata\n",
      "501 matching events found\n",
      "No baseline correction applied\n",
      "0 projection items activated\n",
      "Using data from preloaded Raw for 501 events and 768 original time points ...\n",
      "18 bad epochs dropped\n",
      "Opening raw data file ../hand_cleaning/resting_state/sub9-day1-mindfulness-raw.fif...\n",
      "    Range : 768 ... 385536 =      3.000 ...  1506.000 secs\n",
      "Ready.\n",
      "Reading 0 ... 384768  =      0.000 ...  1503.000 secs...\n",
      "Not setting metadata\n",
      "501 matching events found\n",
      "No baseline correction applied\n",
      "0 projection items activated\n",
      "Using data from preloaded Raw for 501 events and 768 original time points ...\n",
      "221 bad epochs dropped\n",
      "Opening raw data file ../hand_cleaning/resting_state/sub9-day2-jhana-raw.fif...\n",
      "    Range : 512 ... 388352 =      2.000 ...  1517.000 secs\n",
      "Ready.\n",
      "Reading 0 ... 387840  =      0.000 ...  1515.000 secs...\n",
      "Not setting metadata\n",
      "505 matching events found\n",
      "No baseline correction applied\n",
      "0 projection items activated\n",
      "Using data from preloaded Raw for 505 events and 768 original time points ...\n",
      "148 bad epochs dropped\n",
      "Opening raw data file ../hand_cleaning/resting_state/sub9-day2-mindfulness-raw.fif...\n",
      "    Range : 512 ... 384000 =      2.000 ...  1500.000 secs\n",
      "Ready.\n",
      "Reading 0 ... 383488  =      0.000 ...  1498.000 secs...\n",
      "Not setting metadata\n",
      "499 matching events found\n",
      "No baseline correction applied\n",
      "0 projection items activated\n",
      "Using data from preloaded Raw for 499 events and 768 original time points ...\n",
      "70 bad epochs dropped\n",
      "Opening raw data file ../hand_cleaning/resting_state/sub9-day3-jhana-raw.fif...\n",
      "    Range : 256 ... 389376 =      1.000 ...  1521.000 secs\n",
      "Ready.\n",
      "Reading 0 ... 389120  =      0.000 ...  1520.000 secs...\n",
      "Not setting metadata\n",
      "506 matching events found\n",
      "No baseline correction applied\n",
      "0 projection items activated\n",
      "Using data from preloaded Raw for 506 events and 768 original time points ...\n",
      "42 bad epochs dropped\n",
      "Opening raw data file ../hand_cleaning/resting_state/sub9-day3-mindfulness-raw.fif...\n",
      "    Range : 256 ... 387328 =      1.000 ...  1513.000 secs\n",
      "Ready.\n",
      "Reading 0 ... 387072  =      0.000 ...  1512.000 secs...\n",
      "Not setting metadata\n",
      "504 matching events found\n",
      "No baseline correction applied\n",
      "0 projection items activated\n",
      "Using data from preloaded Raw for 504 events and 768 original time points ...\n",
      "98 bad epochs dropped\n",
      "Opening raw data file ../hand_cleaning/resting_state/sub9-day4-jhana-raw.fif...\n",
      "    Range : 256 ... 387840 =      1.000 ...  1515.000 secs\n",
      "Ready.\n",
      "Reading 0 ... 387584  =      0.000 ...  1514.000 secs...\n",
      "Not setting metadata\n",
      "504 matching events found\n",
      "No baseline correction applied\n",
      "0 projection items activated\n",
      "Using data from preloaded Raw for 504 events and 768 original time points ...\n",
      "214 bad epochs dropped\n",
      "Opening raw data file ../hand_cleaning/resting_state/sub9-day4-mindfulness-raw.fif...\n",
      "    Range : 512 ... 389888 =      2.000 ...  1523.000 secs\n",
      "Ready.\n",
      "Reading 0 ... 389376  =      0.000 ...  1521.000 secs...\n",
      "Not setting metadata\n",
      "507 matching events found\n",
      "No baseline correction applied\n",
      "0 projection items activated\n",
      "Using data from preloaded Raw for 507 events and 768 original time points ...\n",
      "51 bad epochs dropped\n",
      "Opening raw data file ../hand_cleaning/control_resting_state/sub0-control-mindfulness-raw.fif...\n",
      "    Range : 512 ... 385024 =      2.000 ...  1504.000 secs\n",
      "Ready.\n",
      "Reading 0 ... 384512  =      0.000 ...  1502.000 secs...\n",
      "Not setting metadata\n",
      "500 matching events found\n",
      "No baseline correction applied\n",
      "0 projection items activated\n",
      "Using data from preloaded Raw for 500 events and 768 original time points ...\n",
      "144 bad epochs dropped\n",
      "Opening raw data file ../hand_cleaning/control_resting_state/sub1-control-mindfulness-raw.fif...\n",
      "    Range : 512 ... 385792 =      2.000 ...  1507.000 secs\n",
      "Ready.\n",
      "Reading 0 ... 385280  =      0.000 ...  1505.000 secs...\n",
      "Not setting metadata\n",
      "501 matching events found\n",
      "No baseline correction applied\n",
      "0 projection items activated\n",
      "Using data from preloaded Raw for 501 events and 768 original time points ...\n",
      "108 bad epochs dropped\n",
      "Opening raw data file ../hand_cleaning/control_resting_state/sub10-control-mindfulness-raw.fif...\n",
      "    Range : 768 ... 401920 =      3.000 ...  1570.000 secs\n",
      "Ready.\n",
      "Reading 0 ... 401152  =      0.000 ...  1567.000 secs...\n",
      "Not setting metadata\n",
      "522 matching events found\n",
      "No baseline correction applied\n",
      "0 projection items activated\n",
      "Using data from preloaded Raw for 522 events and 768 original time points ...\n",
      "70 bad epochs dropped\n",
      "Opening raw data file ../hand_cleaning/control_resting_state/sub11-control-mindfulness-raw.fif...\n",
      "    Range : 512 ... 391680 =      2.000 ...  1530.000 secs\n",
      "Ready.\n",
      "Reading 0 ... 391168  =      0.000 ...  1528.000 secs...\n",
      "Not setting metadata\n",
      "509 matching events found\n",
      "No baseline correction applied\n",
      "0 projection items activated\n",
      "Using data from preloaded Raw for 509 events and 768 original time points ...\n",
      "123 bad epochs dropped\n",
      "Opening raw data file ../hand_cleaning/control_resting_state/sub12-control-mindfulness-raw.fif...\n",
      "    Range : 256 ... 390400 =      1.000 ...  1525.000 secs\n",
      "Ready.\n",
      "Reading 0 ... 390144  =      0.000 ...  1524.000 secs...\n",
      "Not setting metadata\n",
      "508 matching events found\n",
      "No baseline correction applied\n",
      "0 projection items activated\n",
      "Using data from preloaded Raw for 508 events and 768 original time points ...\n",
      "70 bad epochs dropped\n",
      "Opening raw data file ../hand_cleaning/control_resting_state/sub2-control-mindfulness-raw.fif...\n",
      "    Range : 768 ... 385792 =      3.000 ...  1507.000 secs\n",
      "Ready.\n",
      "Reading 0 ... 385024  =      0.000 ...  1504.000 secs...\n",
      "Not setting metadata\n",
      "501 matching events found\n",
      "No baseline correction applied\n",
      "0 projection items activated\n",
      "Using data from preloaded Raw for 501 events and 768 original time points ...\n",
      "92 bad epochs dropped\n",
      "Opening raw data file ../hand_cleaning/control_resting_state/sub3-control-mindfulness-raw.fif...\n",
      "    Range : 512 ... 408064 =      2.000 ...  1594.000 secs\n",
      "Ready.\n",
      "Reading 0 ... 407552  =      0.000 ...  1592.000 secs...\n",
      "Not setting metadata\n",
      "530 matching events found\n",
      "No baseline correction applied\n",
      "0 projection items activated\n",
      "Using data from preloaded Raw for 530 events and 768 original time points ...\n",
      "112 bad epochs dropped\n",
      "Opening raw data file ../hand_cleaning/control_resting_state/sub4-control-mindfulness-raw.fif...\n",
      "    Range : 512 ... 407808 =      2.000 ...  1593.000 secs\n",
      "Ready.\n",
      "Reading 0 ... 407296  =      0.000 ...  1591.000 secs...\n",
      "Not setting metadata\n",
      "530 matching events found\n",
      "No baseline correction applied\n",
      "0 projection items activated\n",
      "Using data from preloaded Raw for 530 events and 768 original time points ...\n",
      "44 bad epochs dropped\n",
      "Opening raw data file ../hand_cleaning/control_resting_state/sub5-control-mindfulness-raw.fif...\n",
      "    Range : 768 ... 395776 =      3.000 ...  1546.000 secs\n",
      "Ready.\n",
      "Reading 0 ... 395008  =      0.000 ...  1543.000 secs...\n",
      "Not setting metadata\n",
      "514 matching events found\n",
      "No baseline correction applied\n",
      "0 projection items activated\n",
      "Using data from preloaded Raw for 514 events and 768 original time points ...\n",
      "79 bad epochs dropped\n",
      "Opening raw data file ../hand_cleaning/control_resting_state/sub6-control-mindfulness-raw.fif...\n",
      "    Range : 768 ... 395264 =      3.000 ...  1544.000 secs\n",
      "Ready.\n",
      "Reading 0 ... 394496  =      0.000 ...  1541.000 secs...\n",
      "Not setting metadata\n",
      "513 matching events found\n",
      "No baseline correction applied\n",
      "0 projection items activated\n",
      "Using data from preloaded Raw for 513 events and 768 original time points ...\n",
      "158 bad epochs dropped\n",
      "Opening raw data file ../hand_cleaning/control_resting_state/sub7-control-mindfulness-raw.fif...\n",
      "    Range : 512 ... 386560 =      2.000 ...  1510.000 secs\n",
      "Ready.\n",
      "Reading 0 ... 386048  =      0.000 ...  1508.000 secs...\n",
      "Not setting metadata\n",
      "502 matching events found\n",
      "No baseline correction applied\n",
      "0 projection items activated\n",
      "Using data from preloaded Raw for 502 events and 768 original time points ...\n",
      "111 bad epochs dropped\n",
      "Opening raw data file ../hand_cleaning/control_resting_state/sub8-control-mindfulness-raw.fif...\n",
      "    Range : 768 ... 386560 =      3.000 ...  1510.000 secs\n",
      "Ready.\n",
      "Reading 0 ... 385792  =      0.000 ...  1507.000 secs...\n",
      "Not setting metadata\n",
      "502 matching events found\n",
      "No baseline correction applied\n",
      "0 projection items activated\n",
      "Using data from preloaded Raw for 502 events and 768 original time points ...\n",
      "110 bad epochs dropped\n",
      "Opening raw data file ../hand_cleaning/control_resting_state/sub9-control-mindfulness-raw.fif...\n",
      "    Range : 768 ... 402176 =      3.000 ...  1571.000 secs\n",
      "Ready.\n",
      "Reading 0 ... 401408  =      0.000 ...  1568.000 secs...\n",
      "Not setting metadata\n",
      "522 matching events found\n",
      "No baseline correction applied\n",
      "0 projection items activated\n",
      "Using data from preloaded Raw for 522 events and 768 original time points ...\n",
      "113 bad epochs dropped\n"
     ]
    }
   ],
   "source": [
    "# import data from Jhana subjects\n",
    "paths = glob.glob(f\"../hand_cleaning/resting_state/*\")\n",
    "paths.sort()\n",
    "for path in paths: \n",
    "    raw = mne.io.read_raw_fif(path, preload=True)\n",
    "    #raw.filter(0.3, 45)\n",
    "    epochs = mne.make_fixed_length_epochs(raw, duration=3, overlap=0, preload=True, reject_by_annotation=True)\n",
    "\n",
    "    #SAVING\n",
    "    #basename = os.path.basename(path)[:-8]\n",
    "    components = re.split('[-_]', os.path.basename(path))\n",
    "    export_name = f'sub{components[0][3:].zfill(2)}-{components[1]}-{components[2]}_epo.fif'\n",
    "    epochs.save(f'epochs/{export_name}', overwrite=False)\n",
    "\n",
    "# Import the control data \n",
    "paths = glob.glob(f\"../hand_cleaning/control_resting_state/*\")\n",
    "paths.sort()\n",
    "for path in paths: \n",
    "    raw = mne.io.read_raw_fif(path, preload=True)\n",
    "    #raw.filter(0.3, 45)\n",
    "    epochs = mne.make_fixed_length_epochs(raw, duration=3, overlap=0, preload=True, reject_by_annotation=True)\n",
    "\n",
    "    #SAVING   \n",
    "    components = re.split('[-_]', os.path.basename(path))\n",
    "    sub_n = components[0][3:]\n",
    "    export_name = f'con{sub_n.zfill(2)}-day0-control_epo.fif'\n",
    "    epochs.save(f'epochs/{export_name}', overwrite=False)"
   ]
  },
  {
   "cell_type": "markdown",
   "id": "4c81becb-d681-4aa4-984b-1d150334ca92",
   "metadata": {},
   "source": [
    "## Autoreject fixed length epochs"
   ]
  },
  {
   "cell_type": "code",
   "execution_count": 35,
   "id": "2dbf8a0b-2738-4c32-baf2-de76a366c620",
   "metadata": {},
   "outputs": [
    {
     "name": "stdout",
     "output_type": "stream",
     "text": [
      "Reading /Users/jonasmago/PhD_code_data/github/eeg_jhana/notebooks/resting state/epochs/con00-day0-control_epo.fif ...\n",
      "    Found the data of interest:\n",
      "        t =       0.00 ...    2996.09 ms\n",
      "        0 CTF compensation matrices available\n",
      "Not setting metadata\n",
      "356 matching events found\n",
      "No baseline correction applied\n",
      "0 projection items activated\n",
      "Running autoreject on ch_type=eeg\n"
     ]
    },
    {
     "name": "stderr",
     "output_type": "stream",
     "text": [
      "/Library/Frameworks/Python.framework/Versions/3.10/lib/python3.10/site-packages/autoreject/utils.py:73: UserWarning: 7 channels are marked as bad. These will be ignored. If you want them to be considered by autoreject please remove them from epochs.info[\"bads\"].\n",
      "  warnings.warn(\n"
     ]
    },
    {
     "data": {
      "application/vnd.jupyter.widget-view+json": {
       "model_id": "ead663b640464e7fa194ebcea49d8f6b",
       "version_major": 2,
       "version_minor": 0
      },
      "text/plain": [
       "  0%|          | Creating augmented epochs : 0/25 [00:00<?,       ?it/s]"
      ]
     },
     "metadata": {},
     "output_type": "display_data"
    },
    {
     "data": {
      "application/vnd.jupyter.widget-view+json": {
       "model_id": "547888dfdea44b1a99a55b63456fcd49",
       "version_major": 2,
       "version_minor": 0
      },
      "text/plain": [
       "  0%|          | Computing thresholds ... : 0/25 [00:00<?,       ?it/s]"
      ]
     },
     "metadata": {},
     "output_type": "display_data"
    },
    {
     "data": {
      "application/vnd.jupyter.widget-view+json": {
       "model_id": "c1e19ead058c44459ec8aabe25ec32df",
       "version_major": 2,
       "version_minor": 0
      },
      "text/plain": [
       "  0%|          | Repairing epochs : 0/356 [00:00<?,       ?it/s]"
      ]
     },
     "metadata": {},
     "output_type": "display_data"
    },
    {
     "data": {
      "application/vnd.jupyter.widget-view+json": {
       "model_id": "d1b986e938db47adab65a9e970bcc3a0",
       "version_major": 2,
       "version_minor": 0
      },
      "text/plain": [
       "  0%|          | n_interp : 0/3 [00:00<?,       ?it/s]"
      ]
     },
     "metadata": {},
     "output_type": "display_data"
    },
    {
     "data": {
      "application/vnd.jupyter.widget-view+json": {
       "model_id": "4a2940e3c3bf4cde98b8d0e2df8fb453",
       "version_major": 2,
       "version_minor": 0
      },
      "text/plain": [
       "  0%|          | Repairing epochs : 0/356 [00:00<?,       ?it/s]"
      ]
     },
     "metadata": {},
     "output_type": "display_data"
    },
    {
     "data": {
      "application/vnd.jupyter.widget-view+json": {
       "model_id": "789ce37a7d544a2880925d304cd7d602",
       "version_major": 2,
       "version_minor": 0
      },
      "text/plain": [
       "  0%|          | Fold : 0/10 [00:00<?,       ?it/s]"
      ]
     },
     "metadata": {},
     "output_type": "display_data"
    },
    {
     "data": {
      "application/vnd.jupyter.widget-view+json": {
       "model_id": "727af42cc9ae416ab5778948ff2a9c7c",
       "version_major": 2,
       "version_minor": 0
      },
      "text/plain": [
       "  0%|          | Repairing epochs : 0/356 [00:00<?,       ?it/s]"
      ]
     },
     "metadata": {},
     "output_type": "display_data"
    },
    {
     "data": {
      "application/vnd.jupyter.widget-view+json": {
       "model_id": "9de6106802ef4e9ea7db2a5b27120515",
       "version_major": 2,
       "version_minor": 0
      },
      "text/plain": [
       "  0%|          | Fold : 0/10 [00:00<?,       ?it/s]"
      ]
     },
     "metadata": {},
     "output_type": "display_data"
    },
    {
     "data": {
      "application/vnd.jupyter.widget-view+json": {
       "model_id": "67697a8420754bffb14ffa6d8dfb85f1",
       "version_major": 2,
       "version_minor": 0
      },
      "text/plain": [
       "  0%|          | Repairing epochs : 0/356 [00:00<?,       ?it/s]"
      ]
     },
     "metadata": {},
     "output_type": "display_data"
    },
    {
     "name": "stderr",
     "output_type": "stream",
     "text": [
      "/Library/Frameworks/Python.framework/Versions/3.10/lib/python3.10/site-packages/mne/bem.py:1133: RuntimeWarning: Mean of empty slice.\n",
      "  radius_init = radii.mean()\n",
      "/Library/Frameworks/Python.framework/Versions/3.10/lib/python3.10/site-packages/numpy/core/_methods.py:129: RuntimeWarning: invalid value encountered in scalar divide\n",
      "  ret = ret.dtype.type(ret / rcount)\n",
      "/Library/Frameworks/Python.framework/Versions/3.10/lib/python3.10/site-packages/numpy/core/fromnumeric.py:3504: RuntimeWarning: Mean of empty slice.\n",
      "  return _methods._mean(a, axis=axis, dtype=dtype,\n",
      "/Library/Frameworks/Python.framework/Versions/3.10/lib/python3.10/site-packages/numpy/core/_methods.py:121: RuntimeWarning: invalid value encountered in divide\n",
      "  ret = um.true_divide(\n"
     ]
    },
    {
     "data": {
      "application/vnd.jupyter.widget-view+json": {
       "model_id": "727e1ffdb49449d189563a0ca1febe88",
       "version_major": 2,
       "version_minor": 0
      },
      "text/plain": [
       "  0%|          | Fold : 0/10 [00:00<?,       ?it/s]"
      ]
     },
     "metadata": {},
     "output_type": "display_data"
    },
    {
     "name": "stdout",
     "output_type": "stream",
     "text": [
      "\n",
      "\n",
      "\n",
      "\n",
      "Estimated consensus=1.00 and n_interpolate=24\n"
     ]
    },
    {
     "name": "stderr",
     "output_type": "stream",
     "text": [
      "/Library/Frameworks/Python.framework/Versions/3.10/lib/python3.10/site-packages/autoreject/utils.py:73: UserWarning: 7 channels are marked as bad. These will be ignored. If you want them to be considered by autoreject please remove them from epochs.info[\"bads\"].\n",
      "  warnings.warn(\n"
     ]
    },
    {
     "data": {
      "application/vnd.jupyter.widget-view+json": {
       "model_id": "df5cc350d42c46a0a42978d0ac3c41c5",
       "version_major": 2,
       "version_minor": 0
      },
      "text/plain": [
       "  0%|          | Repairing epochs : 0/356 [00:00<?,       ?it/s]"
      ]
     },
     "metadata": {},
     "output_type": "display_data"
    },
    {
     "name": "stdout",
     "output_type": "stream",
     "text": [
      "Dropped 1 epoch: 259\n",
      "Reading /Users/jonasmago/PhD_code_data/github/eeg_jhana/notebooks/resting state/epochs/con01-day0-control_epo.fif ...\n",
      "    Found the data of interest:\n",
      "        t =       0.00 ...    2996.09 ms\n",
      "        0 CTF compensation matrices available\n",
      "Not setting metadata\n",
      "393 matching events found\n",
      "No baseline correction applied\n",
      "0 projection items activated\n",
      "Running autoreject on ch_type=eeg\n"
     ]
    },
    {
     "name": "stderr",
     "output_type": "stream",
     "text": [
      "/Library/Frameworks/Python.framework/Versions/3.10/lib/python3.10/site-packages/autoreject/utils.py:73: UserWarning: 8 channels are marked as bad. These will be ignored. If you want them to be considered by autoreject please remove them from epochs.info[\"bads\"].\n",
      "  warnings.warn(\n"
     ]
    },
    {
     "data": {
      "application/vnd.jupyter.widget-view+json": {
       "model_id": "2655a648a6a94c5181d54aae6e373b91",
       "version_major": 2,
       "version_minor": 0
      },
      "text/plain": [
       "  0%|          | Creating augmented epochs : 0/24 [00:00<?,       ?it/s]"
      ]
     },
     "metadata": {},
     "output_type": "display_data"
    },
    {
     "data": {
      "application/vnd.jupyter.widget-view+json": {
       "model_id": "f175abc363044057a6f31080601273e3",
       "version_major": 2,
       "version_minor": 0
      },
      "text/plain": [
       "  0%|          | Computing thresholds ... : 0/24 [00:00<?,       ?it/s]"
      ]
     },
     "metadata": {},
     "output_type": "display_data"
    },
    {
     "data": {
      "application/vnd.jupyter.widget-view+json": {
       "model_id": "9aa10681bbc04568b9d3a3352f391cef",
       "version_major": 2,
       "version_minor": 0
      },
      "text/plain": [
       "  0%|          | Repairing epochs : 0/393 [00:00<?,       ?it/s]"
      ]
     },
     "metadata": {},
     "output_type": "display_data"
    },
    {
     "data": {
      "application/vnd.jupyter.widget-view+json": {
       "model_id": "d6df42628eb048b6b1bf26cf1acecfad",
       "version_major": 2,
       "version_minor": 0
      },
      "text/plain": [
       "  0%|          | n_interp : 0/3 [00:00<?,       ?it/s]"
      ]
     },
     "metadata": {},
     "output_type": "display_data"
    },
    {
     "data": {
      "application/vnd.jupyter.widget-view+json": {
       "model_id": "599d3c93f2f34cc796b233d369707509",
       "version_major": 2,
       "version_minor": 0
      },
      "text/plain": [
       "  0%|          | Repairing epochs : 0/393 [00:00<?,       ?it/s]"
      ]
     },
     "metadata": {},
     "output_type": "display_data"
    },
    {
     "data": {
      "application/vnd.jupyter.widget-view+json": {
       "model_id": "204a5dc3a757458681b58e10c35012f7",
       "version_major": 2,
       "version_minor": 0
      },
      "text/plain": [
       "  0%|          | Fold : 0/10 [00:00<?,       ?it/s]"
      ]
     },
     "metadata": {},
     "output_type": "display_data"
    },
    {
     "data": {
      "application/vnd.jupyter.widget-view+json": {
       "model_id": "d0bb99b973454f55b6697540a4fe8ca1",
       "version_major": 2,
       "version_minor": 0
      },
      "text/plain": [
       "  0%|          | Repairing epochs : 0/393 [00:00<?,       ?it/s]"
      ]
     },
     "metadata": {},
     "output_type": "display_data"
    },
    {
     "data": {
      "application/vnd.jupyter.widget-view+json": {
       "model_id": "4894d2c4305d46479d6106ad114d5680",
       "version_major": 2,
       "version_minor": 0
      },
      "text/plain": [
       "  0%|          | Fold : 0/10 [00:00<?,       ?it/s]"
      ]
     },
     "metadata": {},
     "output_type": "display_data"
    },
    {
     "data": {
      "application/vnd.jupyter.widget-view+json": {
       "model_id": "d328275930a64d9283b2726f379e13d6",
       "version_major": 2,
       "version_minor": 0
      },
      "text/plain": [
       "  0%|          | Repairing epochs : 0/393 [00:00<?,       ?it/s]"
      ]
     },
     "metadata": {},
     "output_type": "display_data"
    },
    {
     "data": {
      "application/vnd.jupyter.widget-view+json": {
       "model_id": "87bbf6071ad343e9b6a29d9129b172fc",
       "version_major": 2,
       "version_minor": 0
      },
      "text/plain": [
       "  0%|          | Fold : 0/10 [00:00<?,       ?it/s]"
      ]
     },
     "metadata": {},
     "output_type": "display_data"
    },
    {
     "name": "stdout",
     "output_type": "stream",
     "text": [
      "\n",
      "\n",
      "\n",
      "\n",
      "Estimated consensus=0.60 and n_interpolate=4\n"
     ]
    },
    {
     "name": "stderr",
     "output_type": "stream",
     "text": [
      "/Library/Frameworks/Python.framework/Versions/3.10/lib/python3.10/site-packages/autoreject/utils.py:73: UserWarning: 8 channels are marked as bad. These will be ignored. If you want them to be considered by autoreject please remove them from epochs.info[\"bads\"].\n",
      "  warnings.warn(\n"
     ]
    },
    {
     "data": {
      "application/vnd.jupyter.widget-view+json": {
       "model_id": "bbd43be2130e46929954e15503650210",
       "version_major": 2,
       "version_minor": 0
      },
      "text/plain": [
       "  0%|          | Repairing epochs : 0/393 [00:00<?,       ?it/s]"
      ]
     },
     "metadata": {},
     "output_type": "display_data"
    },
    {
     "name": "stdout",
     "output_type": "stream",
     "text": [
      "Dropped 13 epochs: 15, 31, 48, 51, 165, 167, 257, 258, 259, 299, 332, 338, 350\n",
      "Reading /Users/jonasmago/PhD_code_data/github/eeg_jhana/notebooks/resting state/epochs/con02-day0-control_epo.fif ...\n",
      "    Found the data of interest:\n",
      "        t =       0.00 ...    2996.09 ms\n",
      "        0 CTF compensation matrices available\n",
      "Not setting metadata\n",
      "409 matching events found\n",
      "No baseline correction applied\n",
      "0 projection items activated\n",
      "Running autoreject on ch_type=eeg\n"
     ]
    },
    {
     "name": "stderr",
     "output_type": "stream",
     "text": [
      "/Library/Frameworks/Python.framework/Versions/3.10/lib/python3.10/site-packages/autoreject/utils.py:73: UserWarning: 6 channels are marked as bad. These will be ignored. If you want them to be considered by autoreject please remove them from epochs.info[\"bads\"].\n",
      "  warnings.warn(\n"
     ]
    },
    {
     "data": {
      "application/vnd.jupyter.widget-view+json": {
       "model_id": "4bf59319cfed41bb950cce0c9b60f8cc",
       "version_major": 2,
       "version_minor": 0
      },
      "text/plain": [
       "  0%|          | Creating augmented epochs : 0/26 [00:00<?,       ?it/s]"
      ]
     },
     "metadata": {},
     "output_type": "display_data"
    },
    {
     "data": {
      "application/vnd.jupyter.widget-view+json": {
       "model_id": "6c5cc0637daa480691edd7388c8419c9",
       "version_major": 2,
       "version_minor": 0
      },
      "text/plain": [
       "  0%|          | Computing thresholds ... : 0/26 [00:00<?,       ?it/s]"
      ]
     },
     "metadata": {},
     "output_type": "display_data"
    },
    {
     "data": {
      "application/vnd.jupyter.widget-view+json": {
       "model_id": "b2459bb09f604143a3d2a052139c9915",
       "version_major": 2,
       "version_minor": 0
      },
      "text/plain": [
       "  0%|          | Repairing epochs : 0/409 [00:00<?,       ?it/s]"
      ]
     },
     "metadata": {},
     "output_type": "display_data"
    },
    {
     "data": {
      "application/vnd.jupyter.widget-view+json": {
       "model_id": "675a88bb0fc64f2e828fb4a8627dcc68",
       "version_major": 2,
       "version_minor": 0
      },
      "text/plain": [
       "  0%|          | n_interp : 0/3 [00:00<?,       ?it/s]"
      ]
     },
     "metadata": {},
     "output_type": "display_data"
    },
    {
     "data": {
      "application/vnd.jupyter.widget-view+json": {
       "model_id": "f6a921040d53449eb5e3520bacc2231d",
       "version_major": 2,
       "version_minor": 0
      },
      "text/plain": [
       "  0%|          | Repairing epochs : 0/409 [00:00<?,       ?it/s]"
      ]
     },
     "metadata": {},
     "output_type": "display_data"
    },
    {
     "data": {
      "application/vnd.jupyter.widget-view+json": {
       "model_id": "311a4847f4294e018f666972f34ecf82",
       "version_major": 2,
       "version_minor": 0
      },
      "text/plain": [
       "  0%|          | Fold : 0/10 [00:00<?,       ?it/s]"
      ]
     },
     "metadata": {},
     "output_type": "display_data"
    },
    {
     "data": {
      "application/vnd.jupyter.widget-view+json": {
       "model_id": "53e13984f2774c879aed8ffcc392ee36",
       "version_major": 2,
       "version_minor": 0
      },
      "text/plain": [
       "  0%|          | Repairing epochs : 0/409 [00:00<?,       ?it/s]"
      ]
     },
     "metadata": {},
     "output_type": "display_data"
    },
    {
     "data": {
      "application/vnd.jupyter.widget-view+json": {
       "model_id": "9f2f7ee67e6e42a6b0109a0e14cc6d08",
       "version_major": 2,
       "version_minor": 0
      },
      "text/plain": [
       "  0%|          | Fold : 0/10 [00:00<?,       ?it/s]"
      ]
     },
     "metadata": {},
     "output_type": "display_data"
    },
    {
     "data": {
      "application/vnd.jupyter.widget-view+json": {
       "model_id": "f430b15fb3094270ae39df02eb0b8d7b",
       "version_major": 2,
       "version_minor": 0
      },
      "text/plain": [
       "  0%|          | Repairing epochs : 0/409 [00:00<?,       ?it/s]"
      ]
     },
     "metadata": {},
     "output_type": "display_data"
    },
    {
     "data": {
      "application/vnd.jupyter.widget-view+json": {
       "model_id": "2662a8461e634b62a1e897daa91662b8",
       "version_major": 2,
       "version_minor": 0
      },
      "text/plain": [
       "  0%|          | Fold : 0/10 [00:00<?,       ?it/s]"
      ]
     },
     "metadata": {},
     "output_type": "display_data"
    },
    {
     "name": "stdout",
     "output_type": "stream",
     "text": [
      "\n",
      "\n",
      "\n",
      "\n",
      "Estimated consensus=0.60 and n_interpolate=4\n"
     ]
    },
    {
     "name": "stderr",
     "output_type": "stream",
     "text": [
      "/Library/Frameworks/Python.framework/Versions/3.10/lib/python3.10/site-packages/autoreject/utils.py:73: UserWarning: 6 channels are marked as bad. These will be ignored. If you want them to be considered by autoreject please remove them from epochs.info[\"bads\"].\n",
      "  warnings.warn(\n"
     ]
    },
    {
     "data": {
      "application/vnd.jupyter.widget-view+json": {
       "model_id": "ba27e21f126d426997d2adbc439f08f6",
       "version_major": 2,
       "version_minor": 0
      },
      "text/plain": [
       "  0%|          | Repairing epochs : 0/409 [00:00<?,       ?it/s]"
      ]
     },
     "metadata": {},
     "output_type": "display_data"
    },
    {
     "name": "stdout",
     "output_type": "stream",
     "text": [
      "Dropped 8 epochs: 48, 144, 193, 214, 222, 315, 369, 373\n",
      "Reading /Users/jonasmago/PhD_code_data/github/eeg_jhana/notebooks/resting state/epochs/con03-day0-control_epo.fif ...\n",
      "    Found the data of interest:\n",
      "        t =       0.00 ...    2996.09 ms\n",
      "        0 CTF compensation matrices available\n",
      "Not setting metadata\n",
      "418 matching events found\n",
      "No baseline correction applied\n",
      "0 projection items activated\n",
      "Running autoreject on ch_type=eeg\n"
     ]
    },
    {
     "name": "stderr",
     "output_type": "stream",
     "text": [
      "/Library/Frameworks/Python.framework/Versions/3.10/lib/python3.10/site-packages/autoreject/utils.py:73: UserWarning: 6 channels are marked as bad. These will be ignored. If you want them to be considered by autoreject please remove them from epochs.info[\"bads\"].\n",
      "  warnings.warn(\n"
     ]
    },
    {
     "data": {
      "application/vnd.jupyter.widget-view+json": {
       "model_id": "dba10cb91a8b4bb9ba5fd98c6cd752e3",
       "version_major": 2,
       "version_minor": 0
      },
      "text/plain": [
       "  0%|          | Creating augmented epochs : 0/26 [00:00<?,       ?it/s]"
      ]
     },
     "metadata": {},
     "output_type": "display_data"
    },
    {
     "data": {
      "application/vnd.jupyter.widget-view+json": {
       "model_id": "c175eba70315416fbceca1b5b07fcad1",
       "version_major": 2,
       "version_minor": 0
      },
      "text/plain": [
       "  0%|          | Computing thresholds ... : 0/26 [00:00<?,       ?it/s]"
      ]
     },
     "metadata": {},
     "output_type": "display_data"
    },
    {
     "data": {
      "application/vnd.jupyter.widget-view+json": {
       "model_id": "8329358452b7475babbcdea40a0db25b",
       "version_major": 2,
       "version_minor": 0
      },
      "text/plain": [
       "  0%|          | Repairing epochs : 0/418 [00:00<?,       ?it/s]"
      ]
     },
     "metadata": {},
     "output_type": "display_data"
    },
    {
     "data": {
      "application/vnd.jupyter.widget-view+json": {
       "model_id": "bae503e013044959a82ccb5891f3d9e7",
       "version_major": 2,
       "version_minor": 0
      },
      "text/plain": [
       "  0%|          | n_interp : 0/3 [00:00<?,       ?it/s]"
      ]
     },
     "metadata": {},
     "output_type": "display_data"
    },
    {
     "data": {
      "application/vnd.jupyter.widget-view+json": {
       "model_id": "aef5751bd9784dc9b84d6330997f5066",
       "version_major": 2,
       "version_minor": 0
      },
      "text/plain": [
       "  0%|          | Repairing epochs : 0/418 [00:00<?,       ?it/s]"
      ]
     },
     "metadata": {},
     "output_type": "display_data"
    },
    {
     "data": {
      "application/vnd.jupyter.widget-view+json": {
       "model_id": "2f40aca884654fcfa8b2abbbe7682538",
       "version_major": 2,
       "version_minor": 0
      },
      "text/plain": [
       "  0%|          | Fold : 0/10 [00:00<?,       ?it/s]"
      ]
     },
     "metadata": {},
     "output_type": "display_data"
    },
    {
     "data": {
      "application/vnd.jupyter.widget-view+json": {
       "model_id": "9b7b66af66a94318a13f2b5c45fa42e4",
       "version_major": 2,
       "version_minor": 0
      },
      "text/plain": [
       "  0%|          | Repairing epochs : 0/418 [00:00<?,       ?it/s]"
      ]
     },
     "metadata": {},
     "output_type": "display_data"
    },
    {
     "data": {
      "application/vnd.jupyter.widget-view+json": {
       "model_id": "de90e09a4862430ea3cd565c1b43b47e",
       "version_major": 2,
       "version_minor": 0
      },
      "text/plain": [
       "  0%|          | Fold : 0/10 [00:00<?,       ?it/s]"
      ]
     },
     "metadata": {},
     "output_type": "display_data"
    },
    {
     "data": {
      "application/vnd.jupyter.widget-view+json": {
       "model_id": "b525bda83074499db541c4ef3fe7c8dc",
       "version_major": 2,
       "version_minor": 0
      },
      "text/plain": [
       "  0%|          | Repairing epochs : 0/418 [00:00<?,       ?it/s]"
      ]
     },
     "metadata": {},
     "output_type": "display_data"
    },
    {
     "data": {
      "application/vnd.jupyter.widget-view+json": {
       "model_id": "e0b3f3f3cd2f42cb9aa0a843fab0a05a",
       "version_major": 2,
       "version_minor": 0
      },
      "text/plain": [
       "  0%|          | Fold : 0/10 [00:00<?,       ?it/s]"
      ]
     },
     "metadata": {},
     "output_type": "display_data"
    },
    {
     "name": "stdout",
     "output_type": "stream",
     "text": [
      "\n",
      "\n",
      "\n",
      "\n",
      "Estimated consensus=0.80 and n_interpolate=4\n"
     ]
    },
    {
     "name": "stderr",
     "output_type": "stream",
     "text": [
      "/Library/Frameworks/Python.framework/Versions/3.10/lib/python3.10/site-packages/autoreject/utils.py:73: UserWarning: 6 channels are marked as bad. These will be ignored. If you want them to be considered by autoreject please remove them from epochs.info[\"bads\"].\n",
      "  warnings.warn(\n"
     ]
    },
    {
     "data": {
      "application/vnd.jupyter.widget-view+json": {
       "model_id": "48e800f5713b427d9722ba1b38c7acab",
       "version_major": 2,
       "version_minor": 0
      },
      "text/plain": [
       "  0%|          | Repairing epochs : 0/418 [00:00<?,       ?it/s]"
      ]
     },
     "metadata": {},
     "output_type": "display_data"
    },
    {
     "name": "stdout",
     "output_type": "stream",
     "text": [
      "Dropped 2 epochs: 78, 177\n",
      "Reading /Users/jonasmago/PhD_code_data/github/eeg_jhana/notebooks/resting state/epochs/con04-day0-control_epo.fif ...\n",
      "    Found the data of interest:\n",
      "        t =       0.00 ...    2996.09 ms\n",
      "        0 CTF compensation matrices available\n",
      "Not setting metadata\n",
      "486 matching events found\n",
      "No baseline correction applied\n",
      "0 projection items activated\n",
      "Running autoreject on ch_type=eeg\n"
     ]
    },
    {
     "name": "stderr",
     "output_type": "stream",
     "text": [
      "/Library/Frameworks/Python.framework/Versions/3.10/lib/python3.10/site-packages/autoreject/utils.py:73: UserWarning: 3 channels are marked as bad. These will be ignored. If you want them to be considered by autoreject please remove them from epochs.info[\"bads\"].\n",
      "  warnings.warn(\n"
     ]
    },
    {
     "data": {
      "application/vnd.jupyter.widget-view+json": {
       "model_id": "83cbc9cc1b5d4769a66b4b0bec9bc7bf",
       "version_major": 2,
       "version_minor": 0
      },
      "text/plain": [
       "  0%|          | Creating augmented epochs : 0/29 [00:00<?,       ?it/s]"
      ]
     },
     "metadata": {},
     "output_type": "display_data"
    },
    {
     "data": {
      "application/vnd.jupyter.widget-view+json": {
       "model_id": "a2dcb7f75b0c460286fed14abdc7d29a",
       "version_major": 2,
       "version_minor": 0
      },
      "text/plain": [
       "  0%|          | Computing thresholds ... : 0/29 [00:00<?,       ?it/s]"
      ]
     },
     "metadata": {},
     "output_type": "display_data"
    },
    {
     "data": {
      "application/vnd.jupyter.widget-view+json": {
       "model_id": "622bf501614542d7b54eb27bae993bd9",
       "version_major": 2,
       "version_minor": 0
      },
      "text/plain": [
       "  0%|          | Repairing epochs : 0/486 [00:00<?,       ?it/s]"
      ]
     },
     "metadata": {},
     "output_type": "display_data"
    },
    {
     "data": {
      "application/vnd.jupyter.widget-view+json": {
       "model_id": "2442a645f972451fb7d74980873f13e8",
       "version_major": 2,
       "version_minor": 0
      },
      "text/plain": [
       "  0%|          | n_interp : 0/3 [00:00<?,       ?it/s]"
      ]
     },
     "metadata": {},
     "output_type": "display_data"
    },
    {
     "data": {
      "application/vnd.jupyter.widget-view+json": {
       "model_id": "b96f8fec0a924f63b9d480b1c64a9333",
       "version_major": 2,
       "version_minor": 0
      },
      "text/plain": [
       "  0%|          | Repairing epochs : 0/486 [00:00<?,       ?it/s]"
      ]
     },
     "metadata": {},
     "output_type": "display_data"
    },
    {
     "data": {
      "application/vnd.jupyter.widget-view+json": {
       "model_id": "259124daebaa4d12a374e6ee66bf18f1",
       "version_major": 2,
       "version_minor": 0
      },
      "text/plain": [
       "  0%|          | Fold : 0/10 [00:00<?,       ?it/s]"
      ]
     },
     "metadata": {},
     "output_type": "display_data"
    },
    {
     "data": {
      "application/vnd.jupyter.widget-view+json": {
       "model_id": "6b19b6b279d94129b5e8a86f64242525",
       "version_major": 2,
       "version_minor": 0
      },
      "text/plain": [
       "  0%|          | Repairing epochs : 0/486 [00:00<?,       ?it/s]"
      ]
     },
     "metadata": {},
     "output_type": "display_data"
    },
    {
     "data": {
      "application/vnd.jupyter.widget-view+json": {
       "model_id": "7feedafc91054dae92d65a9b3a5e5444",
       "version_major": 2,
       "version_minor": 0
      },
      "text/plain": [
       "  0%|          | Fold : 0/10 [00:00<?,       ?it/s]"
      ]
     },
     "metadata": {},
     "output_type": "display_data"
    },
    {
     "data": {
      "application/vnd.jupyter.widget-view+json": {
       "model_id": "3de492ee86c54c8590d11f4f6a8973e0",
       "version_major": 2,
       "version_minor": 0
      },
      "text/plain": [
       "  0%|          | Repairing epochs : 0/486 [00:00<?,       ?it/s]"
      ]
     },
     "metadata": {},
     "output_type": "display_data"
    },
    {
     "data": {
      "application/vnd.jupyter.widget-view+json": {
       "model_id": "d758126a9f98421e8a4789caf16615a3",
       "version_major": 2,
       "version_minor": 0
      },
      "text/plain": [
       "  0%|          | Fold : 0/10 [00:00<?,       ?it/s]"
      ]
     },
     "metadata": {},
     "output_type": "display_data"
    },
    {
     "name": "stdout",
     "output_type": "stream",
     "text": [
      "\n",
      "\n",
      "\n",
      "\n",
      "Estimated consensus=0.70 and n_interpolate=4\n"
     ]
    },
    {
     "name": "stderr",
     "output_type": "stream",
     "text": [
      "/Library/Frameworks/Python.framework/Versions/3.10/lib/python3.10/site-packages/autoreject/utils.py:73: UserWarning: 3 channels are marked as bad. These will be ignored. If you want them to be considered by autoreject please remove them from epochs.info[\"bads\"].\n",
      "  warnings.warn(\n"
     ]
    },
    {
     "data": {
      "application/vnd.jupyter.widget-view+json": {
       "model_id": "062d54cc6a0344149440794975f29cbf",
       "version_major": 2,
       "version_minor": 0
      },
      "text/plain": [
       "  0%|          | Repairing epochs : 0/486 [00:00<?,       ?it/s]"
      ]
     },
     "metadata": {},
     "output_type": "display_data"
    },
    {
     "name": "stdout",
     "output_type": "stream",
     "text": [
      "Dropped 28 epochs: 27, 59, 119, 155, 159, 183, 186, 204, 244, 270, 278, 297, 299, 315, 316, 330, 331, 332, 349, 372, 380, 381, 392, 398, 412, 419, 422, 482\n",
      "Reading /Users/jonasmago/PhD_code_data/github/eeg_jhana/notebooks/resting state/epochs/con05-day0-control_epo.fif ...\n",
      "    Found the data of interest:\n",
      "        t =       0.00 ...    2996.09 ms\n",
      "        0 CTF compensation matrices available\n",
      "Not setting metadata\n",
      "435 matching events found\n",
      "No baseline correction applied\n",
      "0 projection items activated\n",
      "Running autoreject on ch_type=eeg\n"
     ]
    },
    {
     "name": "stderr",
     "output_type": "stream",
     "text": [
      "/Library/Frameworks/Python.framework/Versions/3.10/lib/python3.10/site-packages/autoreject/utils.py:73: UserWarning: 2 channels are marked as bad. These will be ignored. If you want them to be considered by autoreject please remove them from epochs.info[\"bads\"].\n",
      "  warnings.warn(\n"
     ]
    },
    {
     "data": {
      "application/vnd.jupyter.widget-view+json": {
       "model_id": "61a3cf16b0fb4d32b1dfa0f1e7cd9049",
       "version_major": 2,
       "version_minor": 0
      },
      "text/plain": [
       "  0%|          | Creating augmented epochs : 0/30 [00:00<?,       ?it/s]"
      ]
     },
     "metadata": {},
     "output_type": "display_data"
    },
    {
     "data": {
      "application/vnd.jupyter.widget-view+json": {
       "model_id": "b32867356cf24f0c83c230fab86cc5e9",
       "version_major": 2,
       "version_minor": 0
      },
      "text/plain": [
       "  0%|          | Computing thresholds ... : 0/30 [00:00<?,       ?it/s]"
      ]
     },
     "metadata": {},
     "output_type": "display_data"
    },
    {
     "data": {
      "application/vnd.jupyter.widget-view+json": {
       "model_id": "a8ad6e5394334ddbbba37e91ec9548f6",
       "version_major": 2,
       "version_minor": 0
      },
      "text/plain": [
       "  0%|          | Repairing epochs : 0/435 [00:00<?,       ?it/s]"
      ]
     },
     "metadata": {},
     "output_type": "display_data"
    },
    {
     "data": {
      "application/vnd.jupyter.widget-view+json": {
       "model_id": "0fbea8c6eda6400faafec4312df67c86",
       "version_major": 2,
       "version_minor": 0
      },
      "text/plain": [
       "  0%|          | n_interp : 0/3 [00:00<?,       ?it/s]"
      ]
     },
     "metadata": {},
     "output_type": "display_data"
    },
    {
     "data": {
      "application/vnd.jupyter.widget-view+json": {
       "model_id": "396d4bff3cc94736966edf476a80b999",
       "version_major": 2,
       "version_minor": 0
      },
      "text/plain": [
       "  0%|          | Repairing epochs : 0/435 [00:00<?,       ?it/s]"
      ]
     },
     "metadata": {},
     "output_type": "display_data"
    },
    {
     "data": {
      "application/vnd.jupyter.widget-view+json": {
       "model_id": "ed9561112aa041d9a316b045b5912ace",
       "version_major": 2,
       "version_minor": 0
      },
      "text/plain": [
       "  0%|          | Fold : 0/10 [00:00<?,       ?it/s]"
      ]
     },
     "metadata": {},
     "output_type": "display_data"
    },
    {
     "data": {
      "application/vnd.jupyter.widget-view+json": {
       "model_id": "30b922a06f9e4db9b895cb34d2dd79c3",
       "version_major": 2,
       "version_minor": 0
      },
      "text/plain": [
       "  0%|          | Repairing epochs : 0/435 [00:00<?,       ?it/s]"
      ]
     },
     "metadata": {},
     "output_type": "display_data"
    },
    {
     "data": {
      "application/vnd.jupyter.widget-view+json": {
       "model_id": "02766b89603d4e5b98cf96421ff49348",
       "version_major": 2,
       "version_minor": 0
      },
      "text/plain": [
       "  0%|          | Fold : 0/10 [00:00<?,       ?it/s]"
      ]
     },
     "metadata": {},
     "output_type": "display_data"
    },
    {
     "data": {
      "application/vnd.jupyter.widget-view+json": {
       "model_id": "5a23e40b74b1424d9db9878eecdc949d",
       "version_major": 2,
       "version_minor": 0
      },
      "text/plain": [
       "  0%|          | Repairing epochs : 0/435 [00:00<?,       ?it/s]"
      ]
     },
     "metadata": {},
     "output_type": "display_data"
    },
    {
     "data": {
      "application/vnd.jupyter.widget-view+json": {
       "model_id": "6a789c6479b24bddafb9e79349806953",
       "version_major": 2,
       "version_minor": 0
      },
      "text/plain": [
       "  0%|          | Fold : 0/10 [00:00<?,       ?it/s]"
      ]
     },
     "metadata": {},
     "output_type": "display_data"
    },
    {
     "name": "stdout",
     "output_type": "stream",
     "text": [
      "\n",
      "\n",
      "\n",
      "\n",
      "Estimated consensus=1.00 and n_interpolate=4\n"
     ]
    },
    {
     "name": "stderr",
     "output_type": "stream",
     "text": [
      "/Library/Frameworks/Python.framework/Versions/3.10/lib/python3.10/site-packages/autoreject/utils.py:73: UserWarning: 2 channels are marked as bad. These will be ignored. If you want them to be considered by autoreject please remove them from epochs.info[\"bads\"].\n",
      "  warnings.warn(\n"
     ]
    },
    {
     "data": {
      "application/vnd.jupyter.widget-view+json": {
       "model_id": "15a1b8b131ef46f4baa3ff2405ff84c3",
       "version_major": 2,
       "version_minor": 0
      },
      "text/plain": [
       "  0%|          | Repairing epochs : 0/435 [00:00<?,       ?it/s]"
      ]
     },
     "metadata": {},
     "output_type": "display_data"
    },
    {
     "name": "stdout",
     "output_type": "stream",
     "text": [
      "No bad epochs were found for your data. Returning a copy of the data you wanted to clean. Interpolation may have been done.\n",
      "Reading /Users/jonasmago/PhD_code_data/github/eeg_jhana/notebooks/resting state/epochs/con06-day0-control_epo.fif ...\n",
      "    Found the data of interest:\n",
      "        t =       0.00 ...    2996.09 ms\n",
      "        0 CTF compensation matrices available\n",
      "Not setting metadata\n",
      "355 matching events found\n",
      "No baseline correction applied\n",
      "0 projection items activated\n",
      "Running autoreject on ch_type=eeg\n"
     ]
    },
    {
     "name": "stderr",
     "output_type": "stream",
     "text": [
      "/Library/Frameworks/Python.framework/Versions/3.10/lib/python3.10/site-packages/autoreject/utils.py:73: UserWarning: 4 channels are marked as bad. These will be ignored. If you want them to be considered by autoreject please remove them from epochs.info[\"bads\"].\n",
      "  warnings.warn(\n"
     ]
    },
    {
     "data": {
      "application/vnd.jupyter.widget-view+json": {
       "model_id": "ffb529c8d9ed4eb19bc73024a0237103",
       "version_major": 2,
       "version_minor": 0
      },
      "text/plain": [
       "  0%|          | Creating augmented epochs : 0/28 [00:00<?,       ?it/s]"
      ]
     },
     "metadata": {},
     "output_type": "display_data"
    },
    {
     "data": {
      "application/vnd.jupyter.widget-view+json": {
       "model_id": "096956ad05994b61871d0bb2d06c37b0",
       "version_major": 2,
       "version_minor": 0
      },
      "text/plain": [
       "  0%|          | Computing thresholds ... : 0/28 [00:00<?,       ?it/s]"
      ]
     },
     "metadata": {},
     "output_type": "display_data"
    },
    {
     "data": {
      "application/vnd.jupyter.widget-view+json": {
       "model_id": "d763aa5f8f7c4bb4a11d67968e520d36",
       "version_major": 2,
       "version_minor": 0
      },
      "text/plain": [
       "  0%|          | Repairing epochs : 0/355 [00:00<?,       ?it/s]"
      ]
     },
     "metadata": {},
     "output_type": "display_data"
    },
    {
     "data": {
      "application/vnd.jupyter.widget-view+json": {
       "model_id": "8129534b671f45b3b295151c526b359e",
       "version_major": 2,
       "version_minor": 0
      },
      "text/plain": [
       "  0%|          | n_interp : 0/3 [00:00<?,       ?it/s]"
      ]
     },
     "metadata": {},
     "output_type": "display_data"
    },
    {
     "data": {
      "application/vnd.jupyter.widget-view+json": {
       "model_id": "cb5d1c8c1d584bb19d5dc4b5533e970d",
       "version_major": 2,
       "version_minor": 0
      },
      "text/plain": [
       "  0%|          | Repairing epochs : 0/355 [00:00<?,       ?it/s]"
      ]
     },
     "metadata": {},
     "output_type": "display_data"
    },
    {
     "data": {
      "application/vnd.jupyter.widget-view+json": {
       "model_id": "a129cf180b7b4305a232eae31d1dc02e",
       "version_major": 2,
       "version_minor": 0
      },
      "text/plain": [
       "  0%|          | Fold : 0/10 [00:00<?,       ?it/s]"
      ]
     },
     "metadata": {},
     "output_type": "display_data"
    },
    {
     "data": {
      "application/vnd.jupyter.widget-view+json": {
       "model_id": "e1976a09b0664ab789ccf4599d511f4a",
       "version_major": 2,
       "version_minor": 0
      },
      "text/plain": [
       "  0%|          | Repairing epochs : 0/355 [00:00<?,       ?it/s]"
      ]
     },
     "metadata": {},
     "output_type": "display_data"
    },
    {
     "data": {
      "application/vnd.jupyter.widget-view+json": {
       "model_id": "f226595ef0164bb7bcb649af496bc0b3",
       "version_major": 2,
       "version_minor": 0
      },
      "text/plain": [
       "  0%|          | Fold : 0/10 [00:00<?,       ?it/s]"
      ]
     },
     "metadata": {},
     "output_type": "display_data"
    },
    {
     "data": {
      "application/vnd.jupyter.widget-view+json": {
       "model_id": "bd7afda097d6422bbfa0a40d6b9331f7",
       "version_major": 2,
       "version_minor": 0
      },
      "text/plain": [
       "  0%|          | Repairing epochs : 0/355 [00:00<?,       ?it/s]"
      ]
     },
     "metadata": {},
     "output_type": "display_data"
    },
    {
     "data": {
      "application/vnd.jupyter.widget-view+json": {
       "model_id": "54bd13c698d246dcbe7ef4540bea4530",
       "version_major": 2,
       "version_minor": 0
      },
      "text/plain": [
       "  0%|          | Fold : 0/10 [00:00<?,       ?it/s]"
      ]
     },
     "metadata": {},
     "output_type": "display_data"
    },
    {
     "name": "stdout",
     "output_type": "stream",
     "text": [
      "\n",
      "\n",
      "\n",
      "\n",
      "Estimated consensus=1.00 and n_interpolate=27\n"
     ]
    },
    {
     "name": "stderr",
     "output_type": "stream",
     "text": [
      "/Library/Frameworks/Python.framework/Versions/3.10/lib/python3.10/site-packages/autoreject/utils.py:73: UserWarning: 4 channels are marked as bad. These will be ignored. If you want them to be considered by autoreject please remove them from epochs.info[\"bads\"].\n",
      "  warnings.warn(\n"
     ]
    },
    {
     "data": {
      "application/vnd.jupyter.widget-view+json": {
       "model_id": "9d482592bd294a829f563af9db8601ff",
       "version_major": 2,
       "version_minor": 0
      },
      "text/plain": [
       "  0%|          | Repairing epochs : 0/355 [00:00<?,       ?it/s]"
      ]
     },
     "metadata": {},
     "output_type": "display_data"
    },
    {
     "name": "stdout",
     "output_type": "stream",
     "text": [
      "No bad epochs were found for your data. Returning a copy of the data you wanted to clean. Interpolation may have been done.\n",
      "Reading /Users/jonasmago/PhD_code_data/github/eeg_jhana/notebooks/resting state/epochs/con07-day0-control_epo.fif ...\n",
      "    Found the data of interest:\n",
      "        t =       0.00 ...    2996.09 ms\n",
      "        0 CTF compensation matrices available\n",
      "Not setting metadata\n",
      "391 matching events found\n",
      "No baseline correction applied\n",
      "0 projection items activated\n",
      "Running autoreject on ch_type=eeg\n"
     ]
    },
    {
     "name": "stderr",
     "output_type": "stream",
     "text": [
      "/Library/Frameworks/Python.framework/Versions/3.10/lib/python3.10/site-packages/autoreject/utils.py:73: UserWarning: 2 channels are marked as bad. These will be ignored. If you want them to be considered by autoreject please remove them from epochs.info[\"bads\"].\n",
      "  warnings.warn(\n"
     ]
    },
    {
     "data": {
      "application/vnd.jupyter.widget-view+json": {
       "model_id": "b76cfe8700db41ae9b85706110dac04b",
       "version_major": 2,
       "version_minor": 0
      },
      "text/plain": [
       "  0%|          | Creating augmented epochs : 0/30 [00:00<?,       ?it/s]"
      ]
     },
     "metadata": {},
     "output_type": "display_data"
    },
    {
     "data": {
      "application/vnd.jupyter.widget-view+json": {
       "model_id": "349f081c3ea14a2e99b0a4a6f9251ad9",
       "version_major": 2,
       "version_minor": 0
      },
      "text/plain": [
       "  0%|          | Computing thresholds ... : 0/30 [00:00<?,       ?it/s]"
      ]
     },
     "metadata": {},
     "output_type": "display_data"
    },
    {
     "data": {
      "application/vnd.jupyter.widget-view+json": {
       "model_id": "223c1392f9c84ddc876f2acda3823da5",
       "version_major": 2,
       "version_minor": 0
      },
      "text/plain": [
       "  0%|          | Repairing epochs : 0/391 [00:00<?,       ?it/s]"
      ]
     },
     "metadata": {},
     "output_type": "display_data"
    },
    {
     "data": {
      "application/vnd.jupyter.widget-view+json": {
       "model_id": "51a0d943aa4a40aaace1f9a5e20d3b34",
       "version_major": 2,
       "version_minor": 0
      },
      "text/plain": [
       "  0%|          | n_interp : 0/3 [00:00<?,       ?it/s]"
      ]
     },
     "metadata": {},
     "output_type": "display_data"
    },
    {
     "data": {
      "application/vnd.jupyter.widget-view+json": {
       "model_id": "0e8381432c2542cea0b5813742baf2de",
       "version_major": 2,
       "version_minor": 0
      },
      "text/plain": [
       "  0%|          | Repairing epochs : 0/391 [00:00<?,       ?it/s]"
      ]
     },
     "metadata": {},
     "output_type": "display_data"
    },
    {
     "data": {
      "application/vnd.jupyter.widget-view+json": {
       "model_id": "42955d6289164cf8bc0b1e5618269c5e",
       "version_major": 2,
       "version_minor": 0
      },
      "text/plain": [
       "  0%|          | Fold : 0/10 [00:00<?,       ?it/s]"
      ]
     },
     "metadata": {},
     "output_type": "display_data"
    },
    {
     "data": {
      "application/vnd.jupyter.widget-view+json": {
       "model_id": "dc1a752ea7ad48cab232faf13e659141",
       "version_major": 2,
       "version_minor": 0
      },
      "text/plain": [
       "  0%|          | Repairing epochs : 0/391 [00:00<?,       ?it/s]"
      ]
     },
     "metadata": {},
     "output_type": "display_data"
    },
    {
     "data": {
      "application/vnd.jupyter.widget-view+json": {
       "model_id": "d30cb297d2114798beef02691b205a48",
       "version_major": 2,
       "version_minor": 0
      },
      "text/plain": [
       "  0%|          | Fold : 0/10 [00:00<?,       ?it/s]"
      ]
     },
     "metadata": {},
     "output_type": "display_data"
    },
    {
     "data": {
      "application/vnd.jupyter.widget-view+json": {
       "model_id": "4886e77f4b054cb4a2c9acbe1c441a2e",
       "version_major": 2,
       "version_minor": 0
      },
      "text/plain": [
       "  0%|          | Repairing epochs : 0/391 [00:00<?,       ?it/s]"
      ]
     },
     "metadata": {},
     "output_type": "display_data"
    },
    {
     "data": {
      "application/vnd.jupyter.widget-view+json": {
       "model_id": "e100c26e3c0c4d308d32f0df5a837d68",
       "version_major": 2,
       "version_minor": 0
      },
      "text/plain": [
       "  0%|          | Fold : 0/10 [00:00<?,       ?it/s]"
      ]
     },
     "metadata": {},
     "output_type": "display_data"
    },
    {
     "name": "stdout",
     "output_type": "stream",
     "text": [
      "\n",
      "\n",
      "\n",
      "\n",
      "Estimated consensus=0.80 and n_interpolate=4\n"
     ]
    },
    {
     "name": "stderr",
     "output_type": "stream",
     "text": [
      "/Library/Frameworks/Python.framework/Versions/3.10/lib/python3.10/site-packages/autoreject/utils.py:73: UserWarning: 2 channels are marked as bad. These will be ignored. If you want them to be considered by autoreject please remove them from epochs.info[\"bads\"].\n",
      "  warnings.warn(\n"
     ]
    },
    {
     "data": {
      "application/vnd.jupyter.widget-view+json": {
       "model_id": "b7d44c28e27440e397242937db2bb1c3",
       "version_major": 2,
       "version_minor": 0
      },
      "text/plain": [
       "  0%|          | Repairing epochs : 0/391 [00:00<?,       ?it/s]"
      ]
     },
     "metadata": {},
     "output_type": "display_data"
    },
    {
     "name": "stdout",
     "output_type": "stream",
     "text": [
      "Dropped 10 epochs: 54, 91, 92, 225, 226, 311, 313, 331, 364, 381\n",
      "Reading /Users/jonasmago/PhD_code_data/github/eeg_jhana/notebooks/resting state/epochs/con08-day0-control_epo.fif ...\n",
      "    Found the data of interest:\n",
      "        t =       0.00 ...    2996.09 ms\n",
      "        0 CTF compensation matrices available\n",
      "Not setting metadata\n",
      "392 matching events found\n",
      "No baseline correction applied\n",
      "0 projection items activated\n",
      "Running autoreject on ch_type=eeg\n"
     ]
    },
    {
     "name": "stderr",
     "output_type": "stream",
     "text": [
      "/Library/Frameworks/Python.framework/Versions/3.10/lib/python3.10/site-packages/autoreject/utils.py:73: UserWarning: 3 channels are marked as bad. These will be ignored. If you want them to be considered by autoreject please remove them from epochs.info[\"bads\"].\n",
      "  warnings.warn(\n"
     ]
    },
    {
     "data": {
      "application/vnd.jupyter.widget-view+json": {
       "model_id": "b179661312844955927b91c1e47c939c",
       "version_major": 2,
       "version_minor": 0
      },
      "text/plain": [
       "  0%|          | Creating augmented epochs : 0/29 [00:00<?,       ?it/s]"
      ]
     },
     "metadata": {},
     "output_type": "display_data"
    },
    {
     "data": {
      "application/vnd.jupyter.widget-view+json": {
       "model_id": "c11f56fecc6a4949b96a19fd5e73f516",
       "version_major": 2,
       "version_minor": 0
      },
      "text/plain": [
       "  0%|          | Computing thresholds ... : 0/29 [00:00<?,       ?it/s]"
      ]
     },
     "metadata": {},
     "output_type": "display_data"
    },
    {
     "data": {
      "application/vnd.jupyter.widget-view+json": {
       "model_id": "d5d42aa94f5c4480b4f682e9ceaed0dd",
       "version_major": 2,
       "version_minor": 0
      },
      "text/plain": [
       "  0%|          | Repairing epochs : 0/392 [00:00<?,       ?it/s]"
      ]
     },
     "metadata": {},
     "output_type": "display_data"
    },
    {
     "data": {
      "application/vnd.jupyter.widget-view+json": {
       "model_id": "bf6d46aed40740a9a644bdc01421c45c",
       "version_major": 2,
       "version_minor": 0
      },
      "text/plain": [
       "  0%|          | n_interp : 0/3 [00:00<?,       ?it/s]"
      ]
     },
     "metadata": {},
     "output_type": "display_data"
    },
    {
     "data": {
      "application/vnd.jupyter.widget-view+json": {
       "model_id": "5b41f1a25b6546b8aa2c3deb3408001d",
       "version_major": 2,
       "version_minor": 0
      },
      "text/plain": [
       "  0%|          | Repairing epochs : 0/392 [00:00<?,       ?it/s]"
      ]
     },
     "metadata": {},
     "output_type": "display_data"
    },
    {
     "data": {
      "application/vnd.jupyter.widget-view+json": {
       "model_id": "a2c37c0ccf3246249c57940886c7b9a9",
       "version_major": 2,
       "version_minor": 0
      },
      "text/plain": [
       "  0%|          | Fold : 0/10 [00:00<?,       ?it/s]"
      ]
     },
     "metadata": {},
     "output_type": "display_data"
    },
    {
     "data": {
      "application/vnd.jupyter.widget-view+json": {
       "model_id": "a0e7e8205c6249f7ad8285ade05955a3",
       "version_major": 2,
       "version_minor": 0
      },
      "text/plain": [
       "  0%|          | Repairing epochs : 0/392 [00:00<?,       ?it/s]"
      ]
     },
     "metadata": {},
     "output_type": "display_data"
    },
    {
     "data": {
      "application/vnd.jupyter.widget-view+json": {
       "model_id": "cd9c3502f027422ba44cec01d421b2e9",
       "version_major": 2,
       "version_minor": 0
      },
      "text/plain": [
       "  0%|          | Fold : 0/10 [00:00<?,       ?it/s]"
      ]
     },
     "metadata": {},
     "output_type": "display_data"
    },
    {
     "data": {
      "application/vnd.jupyter.widget-view+json": {
       "model_id": "e914dfdaa1c848db859fb7369cdcb174",
       "version_major": 2,
       "version_minor": 0
      },
      "text/plain": [
       "  0%|          | Repairing epochs : 0/392 [00:00<?,       ?it/s]"
      ]
     },
     "metadata": {},
     "output_type": "display_data"
    },
    {
     "data": {
      "application/vnd.jupyter.widget-view+json": {
       "model_id": "bd290df54b044c4f8810ad87c5e0b6b8",
       "version_major": 2,
       "version_minor": 0
      },
      "text/plain": [
       "  0%|          | Fold : 0/10 [00:00<?,       ?it/s]"
      ]
     },
     "metadata": {},
     "output_type": "display_data"
    },
    {
     "name": "stdout",
     "output_type": "stream",
     "text": [
      "\n",
      "\n",
      "\n",
      "\n",
      "Estimated consensus=1.00 and n_interpolate=28\n"
     ]
    },
    {
     "name": "stderr",
     "output_type": "stream",
     "text": [
      "/Library/Frameworks/Python.framework/Versions/3.10/lib/python3.10/site-packages/autoreject/utils.py:73: UserWarning: 3 channels are marked as bad. These will be ignored. If you want them to be considered by autoreject please remove them from epochs.info[\"bads\"].\n",
      "  warnings.warn(\n"
     ]
    },
    {
     "data": {
      "application/vnd.jupyter.widget-view+json": {
       "model_id": "1f43cfe85c0b454398ddd7b1d49796f0",
       "version_major": 2,
       "version_minor": 0
      },
      "text/plain": [
       "  0%|          | Repairing epochs : 0/392 [00:00<?,       ?it/s]"
      ]
     },
     "metadata": {},
     "output_type": "display_data"
    },
    {
     "name": "stdout",
     "output_type": "stream",
     "text": [
      "No bad epochs were found for your data. Returning a copy of the data you wanted to clean. Interpolation may have been done.\n",
      "Reading /Users/jonasmago/PhD_code_data/github/eeg_jhana/notebooks/resting state/epochs/con09-day0-control_epo.fif ...\n",
      "    Found the data of interest:\n",
      "        t =       0.00 ...    2996.09 ms\n",
      "        0 CTF compensation matrices available\n",
      "Not setting metadata\n",
      "409 matching events found\n",
      "No baseline correction applied\n",
      "0 projection items activated\n",
      "Running autoreject on ch_type=eeg\n"
     ]
    },
    {
     "name": "stderr",
     "output_type": "stream",
     "text": [
      "/Library/Frameworks/Python.framework/Versions/3.10/lib/python3.10/site-packages/autoreject/utils.py:73: UserWarning: 8 channels are marked as bad. These will be ignored. If you want them to be considered by autoreject please remove them from epochs.info[\"bads\"].\n",
      "  warnings.warn(\n"
     ]
    },
    {
     "data": {
      "application/vnd.jupyter.widget-view+json": {
       "model_id": "3eed7c6f3b734e938279466fef0664cf",
       "version_major": 2,
       "version_minor": 0
      },
      "text/plain": [
       "  0%|          | Creating augmented epochs : 0/24 [00:00<?,       ?it/s]"
      ]
     },
     "metadata": {},
     "output_type": "display_data"
    },
    {
     "data": {
      "application/vnd.jupyter.widget-view+json": {
       "model_id": "5af2a4ebb3414bceb7ff828a6b0035a6",
       "version_major": 2,
       "version_minor": 0
      },
      "text/plain": [
       "  0%|          | Computing thresholds ... : 0/24 [00:00<?,       ?it/s]"
      ]
     },
     "metadata": {},
     "output_type": "display_data"
    },
    {
     "data": {
      "application/vnd.jupyter.widget-view+json": {
       "model_id": "4d7ddf33f4e64b048044965bb2761873",
       "version_major": 2,
       "version_minor": 0
      },
      "text/plain": [
       "  0%|          | Repairing epochs : 0/409 [00:00<?,       ?it/s]"
      ]
     },
     "metadata": {},
     "output_type": "display_data"
    },
    {
     "data": {
      "application/vnd.jupyter.widget-view+json": {
       "model_id": "f313cd09c79f40798e76f143708bf613",
       "version_major": 2,
       "version_minor": 0
      },
      "text/plain": [
       "  0%|          | n_interp : 0/3 [00:00<?,       ?it/s]"
      ]
     },
     "metadata": {},
     "output_type": "display_data"
    },
    {
     "data": {
      "application/vnd.jupyter.widget-view+json": {
       "model_id": "f48e88b81d134bbca0648b934de5acc6",
       "version_major": 2,
       "version_minor": 0
      },
      "text/plain": [
       "  0%|          | Repairing epochs : 0/409 [00:00<?,       ?it/s]"
      ]
     },
     "metadata": {},
     "output_type": "display_data"
    },
    {
     "data": {
      "application/vnd.jupyter.widget-view+json": {
       "model_id": "005c9f4472614079b75c29ac66833ed8",
       "version_major": 2,
       "version_minor": 0
      },
      "text/plain": [
       "  0%|          | Fold : 0/10 [00:00<?,       ?it/s]"
      ]
     },
     "metadata": {},
     "output_type": "display_data"
    },
    {
     "data": {
      "application/vnd.jupyter.widget-view+json": {
       "model_id": "49556357e07b4708887ebef0d9e2b633",
       "version_major": 2,
       "version_minor": 0
      },
      "text/plain": [
       "  0%|          | Repairing epochs : 0/409 [00:00<?,       ?it/s]"
      ]
     },
     "metadata": {},
     "output_type": "display_data"
    },
    {
     "data": {
      "application/vnd.jupyter.widget-view+json": {
       "model_id": "78a1fc8232ff42be805bcfac21ed1af5",
       "version_major": 2,
       "version_minor": 0
      },
      "text/plain": [
       "  0%|          | Fold : 0/10 [00:00<?,       ?it/s]"
      ]
     },
     "metadata": {},
     "output_type": "display_data"
    },
    {
     "data": {
      "application/vnd.jupyter.widget-view+json": {
       "model_id": "435ef5d823af4254b170159fa964337b",
       "version_major": 2,
       "version_minor": 0
      },
      "text/plain": [
       "  0%|          | Repairing epochs : 0/409 [00:00<?,       ?it/s]"
      ]
     },
     "metadata": {},
     "output_type": "display_data"
    },
    {
     "data": {
      "application/vnd.jupyter.widget-view+json": {
       "model_id": "7079811c15584d72af7eccb324f2a064",
       "version_major": 2,
       "version_minor": 0
      },
      "text/plain": [
       "  0%|          | Fold : 0/10 [00:00<?,       ?it/s]"
      ]
     },
     "metadata": {},
     "output_type": "display_data"
    },
    {
     "name": "stdout",
     "output_type": "stream",
     "text": [
      "\n",
      "\n",
      "\n",
      "\n",
      "Estimated consensus=0.50 and n_interpolate=4\n"
     ]
    },
    {
     "name": "stderr",
     "output_type": "stream",
     "text": [
      "/Library/Frameworks/Python.framework/Versions/3.10/lib/python3.10/site-packages/autoreject/utils.py:73: UserWarning: 8 channels are marked as bad. These will be ignored. If you want them to be considered by autoreject please remove them from epochs.info[\"bads\"].\n",
      "  warnings.warn(\n"
     ]
    },
    {
     "data": {
      "application/vnd.jupyter.widget-view+json": {
       "model_id": "b71668651a504be6bbfa6aab75383a9e",
       "version_major": 2,
       "version_minor": 0
      },
      "text/plain": [
       "  0%|          | Repairing epochs : 0/409 [00:00<?,       ?it/s]"
      ]
     },
     "metadata": {},
     "output_type": "display_data"
    },
    {
     "name": "stdout",
     "output_type": "stream",
     "text": [
      "Dropped 18 epochs: 29, 61, 96, 102, 114, 116, 143, 151, 155, 157, 167, 168, 296, 348, 349, 360, 364, 402\n",
      "Reading /Users/jonasmago/PhD_code_data/github/eeg_jhana/notebooks/resting state/epochs/con10-day0-control_epo.fif ...\n",
      "    Found the data of interest:\n",
      "        t =       0.00 ...    2996.09 ms\n",
      "        0 CTF compensation matrices available\n",
      "Not setting metadata\n",
      "452 matching events found\n",
      "No baseline correction applied\n",
      "0 projection items activated\n",
      "Running autoreject on ch_type=eeg\n"
     ]
    },
    {
     "name": "stderr",
     "output_type": "stream",
     "text": [
      "/Library/Frameworks/Python.framework/Versions/3.10/lib/python3.10/site-packages/autoreject/utils.py:73: UserWarning: 3 channels are marked as bad. These will be ignored. If you want them to be considered by autoreject please remove them from epochs.info[\"bads\"].\n",
      "  warnings.warn(\n"
     ]
    },
    {
     "data": {
      "application/vnd.jupyter.widget-view+json": {
       "model_id": "956e9dea2d6c4ff288507a17105e3b9c",
       "version_major": 2,
       "version_minor": 0
      },
      "text/plain": [
       "  0%|          | Creating augmented epochs : 0/29 [00:00<?,       ?it/s]"
      ]
     },
     "metadata": {},
     "output_type": "display_data"
    },
    {
     "data": {
      "application/vnd.jupyter.widget-view+json": {
       "model_id": "ace18441d90c46e2a4a8a239750a7cfa",
       "version_major": 2,
       "version_minor": 0
      },
      "text/plain": [
       "  0%|          | Computing thresholds ... : 0/29 [00:00<?,       ?it/s]"
      ]
     },
     "metadata": {},
     "output_type": "display_data"
    },
    {
     "data": {
      "application/vnd.jupyter.widget-view+json": {
       "model_id": "4f4039f872af4eeea81c617876ee5e78",
       "version_major": 2,
       "version_minor": 0
      },
      "text/plain": [
       "  0%|          | Repairing epochs : 0/452 [00:00<?,       ?it/s]"
      ]
     },
     "metadata": {},
     "output_type": "display_data"
    },
    {
     "data": {
      "application/vnd.jupyter.widget-view+json": {
       "model_id": "967108c60cb449d491d272b7b1840add",
       "version_major": 2,
       "version_minor": 0
      },
      "text/plain": [
       "  0%|          | n_interp : 0/3 [00:00<?,       ?it/s]"
      ]
     },
     "metadata": {},
     "output_type": "display_data"
    },
    {
     "data": {
      "application/vnd.jupyter.widget-view+json": {
       "model_id": "7e53708b75fe4708a0ff3687c0d66f51",
       "version_major": 2,
       "version_minor": 0
      },
      "text/plain": [
       "  0%|          | Repairing epochs : 0/452 [00:00<?,       ?it/s]"
      ]
     },
     "metadata": {},
     "output_type": "display_data"
    },
    {
     "data": {
      "application/vnd.jupyter.widget-view+json": {
       "model_id": "b1176e0c0b24412e9a88d73a15509e9e",
       "version_major": 2,
       "version_minor": 0
      },
      "text/plain": [
       "  0%|          | Fold : 0/10 [00:00<?,       ?it/s]"
      ]
     },
     "metadata": {},
     "output_type": "display_data"
    },
    {
     "data": {
      "application/vnd.jupyter.widget-view+json": {
       "model_id": "871781b45f354c43a9021aa22bccca8b",
       "version_major": 2,
       "version_minor": 0
      },
      "text/plain": [
       "  0%|          | Repairing epochs : 0/452 [00:00<?,       ?it/s]"
      ]
     },
     "metadata": {},
     "output_type": "display_data"
    },
    {
     "data": {
      "application/vnd.jupyter.widget-view+json": {
       "model_id": "676f4e771cea41f1a4622d8dde302600",
       "version_major": 2,
       "version_minor": 0
      },
      "text/plain": [
       "  0%|          | Fold : 0/10 [00:00<?,       ?it/s]"
      ]
     },
     "metadata": {},
     "output_type": "display_data"
    },
    {
     "data": {
      "application/vnd.jupyter.widget-view+json": {
       "model_id": "4467eaa4ae1f4fd58e407c35da4401bc",
       "version_major": 2,
       "version_minor": 0
      },
      "text/plain": [
       "  0%|          | Repairing epochs : 0/452 [00:00<?,       ?it/s]"
      ]
     },
     "metadata": {},
     "output_type": "display_data"
    },
    {
     "data": {
      "application/vnd.jupyter.widget-view+json": {
       "model_id": "d264e615ba364866b8211f072fcbe654",
       "version_major": 2,
       "version_minor": 0
      },
      "text/plain": [
       "  0%|          | Fold : 0/10 [00:00<?,       ?it/s]"
      ]
     },
     "metadata": {},
     "output_type": "display_data"
    },
    {
     "name": "stdout",
     "output_type": "stream",
     "text": [
      "\n",
      "\n",
      "\n",
      "\n",
      "Estimated consensus=0.40 and n_interpolate=4\n"
     ]
    },
    {
     "name": "stderr",
     "output_type": "stream",
     "text": [
      "/Library/Frameworks/Python.framework/Versions/3.10/lib/python3.10/site-packages/autoreject/utils.py:73: UserWarning: 3 channels are marked as bad. These will be ignored. If you want them to be considered by autoreject please remove them from epochs.info[\"bads\"].\n",
      "  warnings.warn(\n"
     ]
    },
    {
     "data": {
      "application/vnd.jupyter.widget-view+json": {
       "model_id": "0add5cf796714e3da44f59b4a134d64f",
       "version_major": 2,
       "version_minor": 0
      },
      "text/plain": [
       "  0%|          | Repairing epochs : 0/452 [00:00<?,       ?it/s]"
      ]
     },
     "metadata": {},
     "output_type": "display_data"
    },
    {
     "name": "stdout",
     "output_type": "stream",
     "text": [
      "Dropped 163 epochs: 6, 41, 51, 64, 68, 70, 78, 94, 98, 99, 104, 114, 119, 120, 121, 122, 123, 124, 129, 133, 136, 154, 155, 168, 170, 177, 178, 181, 182, 183, 188, 189, 200, 203, 212, 213, 215, 224, 230, 233, 234, 240, 241, 243, 245, 246, 247, 252, 258, 262, 265, 266, 267, 268, 273, 290, 305, 307, 309, 311, 312, 314, 315, 316, 318, 319, 320, 321, 322, 326, 327, 329, 330, 331, 332, 333, 334, 336, 338, 342, 344, 345, 347, 349, 350, 351, 354, 356, 359, 360, 361, 365, 366, 367, 368, 369, 370, 371, 372, 373, 374, 375, 376, 377, 378, 379, 380, 381, 382, 384, 386, 387, 389, 391, 393, 394, 395, 396, 397, 399, 400, 401, 402, 405, 407, 408, 409, 411, 412, 413, 415, 416, 417, 418, 419, 420, 421, 422, 423, 424, 425, 426, 429, 431, 432, 433, 434, 435, 436, 437, 438, 439, 440, 441, 442, 443, 444, 445, 446, 447, 449, 450, 451\n",
      "Reading /Users/jonasmago/PhD_code_data/github/eeg_jhana/notebooks/resting state/epochs/con11-day0-control_epo.fif ...\n",
      "    Found the data of interest:\n",
      "        t =       0.00 ...    2996.09 ms\n",
      "        0 CTF compensation matrices available\n",
      "Not setting metadata\n",
      "386 matching events found\n",
      "No baseline correction applied\n",
      "0 projection items activated\n",
      "Running autoreject on ch_type=eeg\n"
     ]
    },
    {
     "name": "stderr",
     "output_type": "stream",
     "text": [
      "/Library/Frameworks/Python.framework/Versions/3.10/lib/python3.10/site-packages/autoreject/utils.py:73: UserWarning: 3 channels are marked as bad. These will be ignored. If you want them to be considered by autoreject please remove them from epochs.info[\"bads\"].\n",
      "  warnings.warn(\n"
     ]
    },
    {
     "data": {
      "application/vnd.jupyter.widget-view+json": {
       "model_id": "a7b155bc71274dbe872f637cb62d9389",
       "version_major": 2,
       "version_minor": 0
      },
      "text/plain": [
       "  0%|          | Creating augmented epochs : 0/29 [00:00<?,       ?it/s]"
      ]
     },
     "metadata": {},
     "output_type": "display_data"
    },
    {
     "data": {
      "application/vnd.jupyter.widget-view+json": {
       "model_id": "6df733ab1f574975ae28af1035d2c1db",
       "version_major": 2,
       "version_minor": 0
      },
      "text/plain": [
       "  0%|          | Computing thresholds ... : 0/29 [00:00<?,       ?it/s]"
      ]
     },
     "metadata": {},
     "output_type": "display_data"
    },
    {
     "data": {
      "application/vnd.jupyter.widget-view+json": {
       "model_id": "23870945d50541d79f6ec5303063ca5c",
       "version_major": 2,
       "version_minor": 0
      },
      "text/plain": [
       "  0%|          | Repairing epochs : 0/386 [00:00<?,       ?it/s]"
      ]
     },
     "metadata": {},
     "output_type": "display_data"
    },
    {
     "data": {
      "application/vnd.jupyter.widget-view+json": {
       "model_id": "8ff4c6939a2449cabd4dfdd67a129929",
       "version_major": 2,
       "version_minor": 0
      },
      "text/plain": [
       "  0%|          | n_interp : 0/3 [00:00<?,       ?it/s]"
      ]
     },
     "metadata": {},
     "output_type": "display_data"
    },
    {
     "data": {
      "application/vnd.jupyter.widget-view+json": {
       "model_id": "8e910b8399b642b6abcd68e7899a0cae",
       "version_major": 2,
       "version_minor": 0
      },
      "text/plain": [
       "  0%|          | Repairing epochs : 0/386 [00:00<?,       ?it/s]"
      ]
     },
     "metadata": {},
     "output_type": "display_data"
    },
    {
     "data": {
      "application/vnd.jupyter.widget-view+json": {
       "model_id": "7fad122523a643e0afc07839d9e58291",
       "version_major": 2,
       "version_minor": 0
      },
      "text/plain": [
       "  0%|          | Fold : 0/10 [00:00<?,       ?it/s]"
      ]
     },
     "metadata": {},
     "output_type": "display_data"
    },
    {
     "data": {
      "application/vnd.jupyter.widget-view+json": {
       "model_id": "baba15a3158d4be08dd84bdf4bb55269",
       "version_major": 2,
       "version_minor": 0
      },
      "text/plain": [
       "  0%|          | Repairing epochs : 0/386 [00:00<?,       ?it/s]"
      ]
     },
     "metadata": {},
     "output_type": "display_data"
    },
    {
     "data": {
      "application/vnd.jupyter.widget-view+json": {
       "model_id": "1d0d92b3ddf44670b04e4b4107a96208",
       "version_major": 2,
       "version_minor": 0
      },
      "text/plain": [
       "  0%|          | Fold : 0/10 [00:00<?,       ?it/s]"
      ]
     },
     "metadata": {},
     "output_type": "display_data"
    },
    {
     "data": {
      "application/vnd.jupyter.widget-view+json": {
       "model_id": "0b181d4f12ce416aa50b8632f8f9dfff",
       "version_major": 2,
       "version_minor": 0
      },
      "text/plain": [
       "  0%|          | Repairing epochs : 0/386 [00:00<?,       ?it/s]"
      ]
     },
     "metadata": {},
     "output_type": "display_data"
    },
    {
     "data": {
      "application/vnd.jupyter.widget-view+json": {
       "model_id": "72ab0c93af3f45679f1c0b76985ecde8",
       "version_major": 2,
       "version_minor": 0
      },
      "text/plain": [
       "  0%|          | Fold : 0/10 [00:00<?,       ?it/s]"
      ]
     },
     "metadata": {},
     "output_type": "display_data"
    },
    {
     "name": "stdout",
     "output_type": "stream",
     "text": [
      "\n",
      "\n",
      "\n",
      "\n",
      "Estimated consensus=0.80 and n_interpolate=4\n"
     ]
    },
    {
     "name": "stderr",
     "output_type": "stream",
     "text": [
      "/Library/Frameworks/Python.framework/Versions/3.10/lib/python3.10/site-packages/autoreject/utils.py:73: UserWarning: 3 channels are marked as bad. These will be ignored. If you want them to be considered by autoreject please remove them from epochs.info[\"bads\"].\n",
      "  warnings.warn(\n"
     ]
    },
    {
     "data": {
      "application/vnd.jupyter.widget-view+json": {
       "model_id": "d0aeaa9cc50645eeba584ebb37b15a7d",
       "version_major": 2,
       "version_minor": 0
      },
      "text/plain": [
       "  0%|          | Repairing epochs : 0/386 [00:00<?,       ?it/s]"
      ]
     },
     "metadata": {},
     "output_type": "display_data"
    },
    {
     "name": "stdout",
     "output_type": "stream",
     "text": [
      "Dropped 1 epoch: 59\n",
      "Reading /Users/jonasmago/PhD_code_data/github/eeg_jhana/notebooks/resting state/epochs/con12-day0-control_epo.fif ...\n",
      "    Found the data of interest:\n",
      "        t =       0.00 ...    2996.09 ms\n",
      "        0 CTF compensation matrices available\n",
      "Not setting metadata\n",
      "438 matching events found\n",
      "No baseline correction applied\n",
      "0 projection items activated\n",
      "Running autoreject on ch_type=eeg\n"
     ]
    },
    {
     "name": "stderr",
     "output_type": "stream",
     "text": [
      "/Library/Frameworks/Python.framework/Versions/3.10/lib/python3.10/site-packages/autoreject/utils.py:73: UserWarning: 9 channels are marked as bad. These will be ignored. If you want them to be considered by autoreject please remove them from epochs.info[\"bads\"].\n",
      "  warnings.warn(\n"
     ]
    },
    {
     "data": {
      "application/vnd.jupyter.widget-view+json": {
       "model_id": "8d9ef3cfcdef4120b1780b38ea718be9",
       "version_major": 2,
       "version_minor": 0
      },
      "text/plain": [
       "  0%|          | Creating augmented epochs : 0/23 [00:00<?,       ?it/s]"
      ]
     },
     "metadata": {},
     "output_type": "display_data"
    },
    {
     "data": {
      "application/vnd.jupyter.widget-view+json": {
       "model_id": "10bfafcae0cd44d5b75d9f11b5351668",
       "version_major": 2,
       "version_minor": 0
      },
      "text/plain": [
       "  0%|          | Computing thresholds ... : 0/23 [00:00<?,       ?it/s]"
      ]
     },
     "metadata": {},
     "output_type": "display_data"
    },
    {
     "data": {
      "application/vnd.jupyter.widget-view+json": {
       "model_id": "1d59c2b627fb4beb84d7c8d45b6a764e",
       "version_major": 2,
       "version_minor": 0
      },
      "text/plain": [
       "  0%|          | Repairing epochs : 0/438 [00:00<?,       ?it/s]"
      ]
     },
     "metadata": {},
     "output_type": "display_data"
    },
    {
     "data": {
      "application/vnd.jupyter.widget-view+json": {
       "model_id": "491dcb79f6fd4acbbf0aed33a842073c",
       "version_major": 2,
       "version_minor": 0
      },
      "text/plain": [
       "  0%|          | n_interp : 0/3 [00:00<?,       ?it/s]"
      ]
     },
     "metadata": {},
     "output_type": "display_data"
    },
    {
     "data": {
      "application/vnd.jupyter.widget-view+json": {
       "model_id": "b92dab05a04f4d24b273cd185e10f80a",
       "version_major": 2,
       "version_minor": 0
      },
      "text/plain": [
       "  0%|          | Repairing epochs : 0/438 [00:00<?,       ?it/s]"
      ]
     },
     "metadata": {},
     "output_type": "display_data"
    },
    {
     "data": {
      "application/vnd.jupyter.widget-view+json": {
       "model_id": "00ea147d51aa4f21881f4c09318a8605",
       "version_major": 2,
       "version_minor": 0
      },
      "text/plain": [
       "  0%|          | Fold : 0/10 [00:00<?,       ?it/s]"
      ]
     },
     "metadata": {},
     "output_type": "display_data"
    },
    {
     "data": {
      "application/vnd.jupyter.widget-view+json": {
       "model_id": "d525d176a2d34c15b6d8829d02c2b01c",
       "version_major": 2,
       "version_minor": 0
      },
      "text/plain": [
       "  0%|          | Repairing epochs : 0/438 [00:00<?,       ?it/s]"
      ]
     },
     "metadata": {},
     "output_type": "display_data"
    },
    {
     "data": {
      "application/vnd.jupyter.widget-view+json": {
       "model_id": "c894b0e3700f4969b8ca5dd18134245f",
       "version_major": 2,
       "version_minor": 0
      },
      "text/plain": [
       "  0%|          | Fold : 0/10 [00:00<?,       ?it/s]"
      ]
     },
     "metadata": {},
     "output_type": "display_data"
    },
    {
     "data": {
      "application/vnd.jupyter.widget-view+json": {
       "model_id": "2fb00cf9e3c6429f88753ea1cd81b83d",
       "version_major": 2,
       "version_minor": 0
      },
      "text/plain": [
       "  0%|          | Repairing epochs : 0/438 [00:00<?,       ?it/s]"
      ]
     },
     "metadata": {},
     "output_type": "display_data"
    },
    {
     "data": {
      "application/vnd.jupyter.widget-view+json": {
       "model_id": "4aa0392a462846b8b4952e361c219ba7",
       "version_major": 2,
       "version_minor": 0
      },
      "text/plain": [
       "  0%|          | Fold : 0/10 [00:00<?,       ?it/s]"
      ]
     },
     "metadata": {},
     "output_type": "display_data"
    },
    {
     "name": "stdout",
     "output_type": "stream",
     "text": [
      "\n",
      "\n",
      "\n",
      "\n",
      "Estimated consensus=0.90 and n_interpolate=4\n"
     ]
    },
    {
     "name": "stderr",
     "output_type": "stream",
     "text": [
      "/Library/Frameworks/Python.framework/Versions/3.10/lib/python3.10/site-packages/autoreject/utils.py:73: UserWarning: 9 channels are marked as bad. These will be ignored. If you want them to be considered by autoreject please remove them from epochs.info[\"bads\"].\n",
      "  warnings.warn(\n"
     ]
    },
    {
     "data": {
      "application/vnd.jupyter.widget-view+json": {
       "model_id": "39693b98b34545789d82da4c4bb5c025",
       "version_major": 2,
       "version_minor": 0
      },
      "text/plain": [
       "  0%|          | Repairing epochs : 0/438 [00:00<?,       ?it/s]"
      ]
     },
     "metadata": {},
     "output_type": "display_data"
    },
    {
     "name": "stdout",
     "output_type": "stream",
     "text": [
      "No bad epochs were found for your data. Returning a copy of the data you wanted to clean. Interpolation may have been done.\n"
     ]
    }
   ],
   "source": [
    "paths = glob.glob('epochs/con*')\n",
    "paths.sort()\n",
    "for path in paths: \n",
    "    basename = os.path.basename(path)\n",
    "    epochs = mne.read_epochs(path)\n",
    "    ar = AutoReject()\n",
    "    epochs_clean = ar.fit_transform(epochs)\n",
    "    epochs_clean.save(f'epochs_ar/{basename}', overwrite=False)"
   ]
  },
  {
   "cell_type": "markdown",
   "id": "1e95a43e-aa20-401a-b890-35f99db2fe36",
   "metadata": {},
   "source": [
    "## Epochs based on Jhana"
   ]
  },
  {
   "cell_type": "markdown",
   "id": "33860139-e83f-4ffc-bdaa-92fe15aaf3fc",
   "metadata": {
    "jp-MarkdownHeadingCollapsed": true
   },
   "source": [
    "### buttons_to_events function"
   ]
  },
  {
   "cell_type": "code",
   "execution_count": 38,
   "id": "9d9852c1-eea7-4d72-8c33-77d6349050c0",
   "metadata": {},
   "outputs": [],
   "source": [
    "def buttons_to_events(sd_array, threshold, plot_button_events, summing_channels=True, title='none'):\n",
    "    \"\"\"\n",
    "    this function takes a numpy array containing the button presses and outputs two lists,\n",
    "    one containing the timepoints of events, the other containing the label\n",
    "    \"\"\"\n",
    "    running = True\n",
    "    i = 0\n",
    "    markers_loc = []\n",
    "    markers_val = []\n",
    "    value = 1\n",
    "\n",
    "    if summing_channels == True:\n",
    "        # if no button is pressed\n",
    "        if sum(sum(sd_array[:, 3:])) == 0:\n",
    "            return markers_loc, markers_val\n",
    "\n",
    "        buttons = np.sum(sd_array[:, 3:], axis=1)\n",
    "        button_loc = np.where(buttons[:-1] < buttons[1:])[0]\n",
    "        # if button is pressed only once\n",
    "        if len(button_loc) == 1:\n",
    "            markers_loc.append(button_loc[i])\n",
    "            markers_val.append(value)\n",
    "            return markers_loc, markers_val\n",
    "\n",
    "    if summing_channels == False:\n",
    "        if np.sum(sd_array) == 0:\n",
    "            return markers_loc, markers_val\n",
    "            print(\"no events found\")\n",
    "        buttons = sd_array\n",
    "        button_loc = np.where(buttons[:-1] < buttons[1:])[0]\n",
    "    value = 1\n",
    "    while running == True:\n",
    "        if len(button_loc) == 1:\n",
    "            markers_loc.append(button_loc[i])\n",
    "            markers_val.append(1)\n",
    "            running = False\n",
    "            i = i + 1\n",
    "        elif button_loc[i + 1] - button_loc[i] > threshold:\n",
    "            markers_loc.append(button_loc[i])\n",
    "            markers_val.append(value)\n",
    "            value = 1\n",
    "            i = i + 1\n",
    "        elif button_loc[i + 1] - button_loc[i] < 64:  # min threshold\n",
    "            i = i + 1\n",
    "        else:\n",
    "            value = value + 1\n",
    "            i = i + 1\n",
    "\n",
    "        if len(button_loc) == i + 1:\n",
    "            markers_loc.append(button_loc[i])\n",
    "            markers_val.append(value)\n",
    "            running = False\n",
    "\n",
    "#    if markers_val.count(1) == 2 and markers_val[0] == 1 and markers_val[1] == 1:\n",
    "#        markers_val[0] = 0\n",
    "\n",
    "    if plot_button_events == True:\n",
    "        plt.figure()\n",
    "        plt.plot(buttons)\n",
    "        for value, xc in zip(markers_val, markers_loc):\n",
    "            plt.axvline(x=xc, label=\"line at x = {}\".format(value), c=\"red\")\n",
    "            plt.text(xc + 1000, 0.9, value, {\"size\": 15})\n",
    "        plt.title(title)\n",
    "        plt.show()\n",
    "    return markers_loc, markers_val"
   ]
  },
  {
   "cell_type": "markdown",
   "id": "3b775c9f-61ed-4fab-a34d-6222a10d6fd9",
   "metadata": {},
   "source": [
    "### Actual code"
   ]
  },
  {
   "cell_type": "code",
   "execution_count": 36,
   "id": "434ccb22-6869-4369-be15-0bc9e16c1d49",
   "metadata": {},
   "outputs": [],
   "source": [
    "counter = 0"
   ]
  },
  {
   "cell_type": "code",
   "execution_count": 39,
   "id": "19c52dc4-cc06-4e3d-8493-cce00fcc4ca2",
   "metadata": {},
   "outputs": [
    {
     "name": "stdout",
     "output_type": "stream",
     "text": [
      "Opening raw data file ../hand_cleaning/resting_state/sub1-day1-jhana-raw.fif...\n",
      "    Range : 768 ... 388352 =      3.000 ...  1517.000 secs\n",
      "Ready.\n",
      "Reading 0 ... 387584  =      0.000 ...  1514.000 secs...\n",
      "Not setting metadata\n",
      "10 matching events found\n",
      "No baseline correction applied\n",
      "0 projection items activated\n",
      "Using data from preloaded Raw for 10 events and 768 original time points ...\n",
      "5 bad epochs dropped\n",
      "Not setting metadata\n",
      "9 matching events found\n",
      "No baseline correction applied\n",
      "0 projection items activated\n",
      "Using data from preloaded Raw for 9 events and 768 original time points ...\n",
      "5 bad epochs dropped\n",
      "Not setting metadata\n",
      "67 matching events found\n",
      "No baseline correction applied\n",
      "0 projection items activated\n",
      "Using data from preloaded Raw for 67 events and 768 original time points ...\n",
      "10 bad epochs dropped\n",
      "Not setting metadata\n",
      "109 matching events found\n",
      "No baseline correction applied\n",
      "0 projection items activated\n",
      "Using data from preloaded Raw for 109 events and 768 original time points ...\n",
      "31 bad epochs dropped\n",
      "Not setting metadata\n",
      "94 matching events found\n",
      "No baseline correction applied\n",
      "0 projection items activated\n",
      "Using data from preloaded Raw for 94 events and 768 original time points ...\n",
      "0 bad epochs dropped\n",
      "Not setting metadata\n",
      "109 matching events found\n",
      "No baseline correction applied\n",
      "0 projection items activated\n",
      "Using data from preloaded Raw for 109 events and 768 original time points ...\n",
      "0 bad epochs dropped\n",
      "Not setting metadata\n",
      "15 matching events found\n",
      "No baseline correction applied\n",
      "0 projection items activated\n",
      "Using data from preloaded Raw for 15 events and 768 original time points ...\n",
      "0 bad epochs dropped\n",
      "Not setting metadata\n",
      "63 matching events found\n",
      "No baseline correction applied\n",
      "0 projection items activated\n",
      "Using data from preloaded Raw for 63 events and 768 original time points ...\n",
      "13 bad epochs dropped\n",
      "Not setting metadata\n",
      "24 matching events found\n",
      "No baseline correction applied\n",
      "0 projection items activated\n",
      "Using data from preloaded Raw for 24 events and 768 original time points ...\n",
      "5 bad epochs dropped\n",
      "8\n"
     ]
    }
   ],
   "source": [
    "plt.close('all')\n",
    "paths = glob.glob(f\"../hand_cleaning/resting_state/*jhana-raw.fif\") #exclude mindfulness clicks (only 2 anyway)\n",
    "paths.sort()\n",
    "run = True\n",
    "while run:\n",
    "    path = paths[counter]\n",
    "    basename = os.path.basename(path)[:-8]\n",
    "    raw = mne.io.read_raw_fif(path, preload=True)\n",
    "    buttons_raw = (raw[33][0][0] + raw[34][0][0] + raw[35][0][0])\n",
    "    button_sum = np.sum(buttons_raw)\n",
    "    if button_sum != 0:\n",
    "        \n",
    "        markers_loc, markers_val = buttons_to_events(\n",
    "            sd_array=buttons_raw, threshold=1000, plot_button_events=False, summing_channels=False, title=basename\n",
    "        )\n",
    "        \n",
    "        end_time = markers_loc[0]/256\n",
    "        raw_cropped = raw.copy().crop(0, end_time)\n",
    "        epochs = mne.make_fixed_length_epochs(raw_cropped, duration=3, overlap=0, preload=True, reject_by_annotation=True)\n",
    "        #epochs.save(f'epochs_button/{basename}_button#B_jhanaB_epo.fif', overwrite=True)\n",
    "        \n",
    "        for i, val in enumerate(markers_val):\n",
    "            start_time = markers_loc[i] / 256\n",
    "            if len(markers_loc) == i + 1:\n",
    "                end_time = None\n",
    "            else:\n",
    "                end_time = markers_loc[i + 1] / 256\n",
    "            raw_cropped = raw.copy().crop(start_time, end_time)\n",
    "            epochs = mne.make_fixed_length_epochs(raw_cropped, duration=3, overlap=0, preload=True, reject_by_annotation=True)\n",
    "            #epochs.save(f'epochs_button/{basename}_button#{i}_jhana{markers_val[i]}_epo.fif', overwrite=True)\n",
    "        \n",
    "        print (counter)\n",
    "        counter+=1\n",
    "        run = False\n",
    "    else:\n",
    "        counter+=1\n",
    "        \n"
   ]
  },
  {
   "cell_type": "markdown",
   "id": "178c5bc7-864f-4a50-bbc0-c30979453fbe",
   "metadata": {},
   "source": [
    "## AR on Jhana epochs"
   ]
  },
  {
   "cell_type": "code",
   "execution_count": 245,
   "id": "3b136e49-9159-4903-8353-5a8c0810fb07",
   "metadata": {},
   "outputs": [
    {
     "name": "stdout",
     "output_type": "stream",
     "text": [
      "already done: export_path\n",
      "already done: export_path\n",
      "already done: export_path\n",
      "already done: export_path\n",
      "already done: export_path\n",
      "already done: export_path\n",
      "already done: export_path\n",
      "already done: export_path\n",
      "already done: export_path\n",
      "already done: export_path\n",
      "already done: export_path\n",
      "already done: export_path\n",
      "already done: export_path\n",
      "already done: export_path\n",
      "already done: export_path\n",
      "already done: export_path\n",
      "already done: export_path\n",
      "already done: export_path\n",
      "already done: export_path\n",
      "already done: export_path\n",
      "already done: export_path\n",
      "already done: export_path\n",
      "already done: export_path\n",
      "already done: export_path\n",
      "already done: export_path\n",
      "already done: export_path\n",
      "already done: export_path\n",
      "already done: export_path\n",
      "already done: export_path\n",
      "already done: export_path\n",
      "already done: export_path\n",
      "already done: export_path\n",
      "already done: export_path\n",
      "already done: export_path\n",
      "already done: export_path\n",
      "already done: export_path\n",
      "already done: export_path\n",
      "already done: export_path\n",
      "already done: export_path\n",
      "already done: export_path\n",
      "already done: export_path\n",
      "already done: export_path\n",
      "already done: export_path\n",
      "already done: export_path\n",
      "already done: export_path\n",
      "already done: export_path\n",
      "already done: export_path\n",
      "already done: export_path\n",
      "already done: export_path\n",
      "already done: export_path\n",
      "already done: export_path\n",
      "already done: export_path\n",
      "already done: export_path\n",
      "already done: export_path\n",
      "already done: export_path\n",
      "already done: export_path\n",
      "already done: export_path\n",
      "already done: export_path\n",
      "already done: export_path\n",
      "already done: export_path\n",
      "already done: export_path\n",
      "already done: export_path\n",
      "already done: export_path\n",
      "already done: export_path\n",
      "already done: export_path\n",
      "already done: export_path\n",
      "already done: export_path\n",
      "already done: export_path\n",
      "already done: export_path\n",
      "already done: export_path\n",
      "already done: export_path\n",
      "already done: export_path\n",
      "already done: export_path\n",
      "already done: export_path\n",
      "already done: export_path\n",
      "already done: export_path\n",
      "already done: export_path\n",
      "already done: export_path\n",
      "already done: export_path\n",
      "already done: export_path\n",
      "already done: export_path\n",
      "already done: export_path\n",
      "already done: export_path\n",
      "already done: export_path\n",
      "already done: export_path\n",
      "already done: export_path\n",
      "already done: export_path\n",
      "already done: export_path\n",
      "already done: export_path\n",
      "already done: export_path\n",
      "already done: export_path\n",
      "already done: export_path\n",
      "already done: export_path\n",
      "already done: export_path\n",
      "already done: export_path\n",
      "already done: export_path\n",
      "already done: export_path\n",
      "already done: export_path\n",
      "already done: export_path\n",
      "already done: export_path\n",
      "already done: export_path\n",
      "already done: export_path\n",
      "already done: export_path\n",
      "already done: export_path\n",
      "already done: export_path\n",
      "already done: export_path\n",
      "already done: export_path\n",
      "already done: export_path\n",
      "already done: export_path\n",
      "already done: export_path\n",
      "already done: export_path\n",
      "already done: export_path\n",
      "already done: export_path\n",
      "already done: export_path\n",
      "already done: export_path\n",
      "already done: export_path\n",
      "already done: export_path\n",
      "already done: export_path\n",
      "already done: export_path\n",
      "already done: export_path\n",
      "already done: export_path\n",
      "already done: export_path\n",
      "already done: export_path\n",
      "already done: export_path\n",
      "already done: export_path\n",
      "already done: export_path\n",
      "already done: export_path\n",
      "already done: export_path\n",
      "already done: export_path\n",
      "already done: export_path\n",
      "already done: export_path\n",
      "already done: export_path\n",
      "already done: export_path\n",
      "already done: export_path\n",
      "already done: export_path\n",
      "already done: export_path\n",
      "already done: export_path\n",
      "already done: export_path\n",
      "already done: export_path\n",
      "already done: export_path\n",
      "already done: export_path\n",
      "already done: export_path\n",
      "already done: export_path\n",
      "already done: export_path\n",
      "already done: export_path\n",
      "already done: export_path\n",
      "already done: export_path\n",
      "already done: export_path\n",
      "already done: export_path\n",
      "already done: export_path\n",
      "already done: export_path\n",
      "already done: export_path\n",
      "already done: export_path\n",
      "already done: export_path\n",
      "already done: export_path\n",
      "already done: export_path\n",
      "already done: export_path\n",
      "already done: export_path\n",
      "already done: export_path\n",
      "already done: export_path\n",
      "already done: export_path\n",
      "already done: export_path\n",
      "already done: export_path\n",
      "already done: export_path\n",
      "already done: export_path\n",
      "already done: export_path\n",
      "already done: export_path\n",
      "already done: export_path\n",
      "already done: export_path\n",
      "already done: export_path\n",
      "already done: export_path\n",
      "already done: export_path\n",
      "already done: export_path\n",
      "already done: export_path\n",
      "already done: export_path\n",
      "already done: export_path\n",
      "already done: export_path\n",
      "already done: export_path\n",
      "already done: export_path\n",
      "already done: export_path\n",
      "already done: export_path\n",
      "already done: export_path\n",
      "already done: export_path\n",
      "already done: export_path\n",
      "already done: export_path\n",
      "already done: export_path\n",
      "already done: export_path\n",
      "already done: export_path\n",
      "already done: export_path\n",
      "already done: export_path\n",
      "already done: export_path\n"
     ]
    },
    {
     "name": "stderr",
     "output_type": "stream",
     "text": [
      "/var/folders/bq/hl737msd54q59fzf7spf0r7h0000gn/T/ipykernel_6335/2509468502.py:7: RuntimeWarning: epochs._get_data() can't run because this Epochs-object is empty. You might want to check Epochs.drop_log or Epochs.plot_drop_log() to see why epochs were dropped.\n",
      "  epochs = mne.read_epochs(path)\n",
      "/var/folders/bq/hl737msd54q59fzf7spf0r7h0000gn/T/ipykernel_6335/2509468502.py:7: RuntimeWarning: epochs._get_data() can't run because this Epochs-object is empty. You might want to check Epochs.drop_log or Epochs.plot_drop_log() to see why epochs were dropped.\n",
      "  epochs = mne.read_epochs(path)\n",
      "/var/folders/bq/hl737msd54q59fzf7spf0r7h0000gn/T/ipykernel_6335/2509468502.py:7: RuntimeWarning: epochs._get_data() can't run because this Epochs-object is empty. You might want to check Epochs.drop_log or Epochs.plot_drop_log() to see why epochs were dropped.\n",
      "  epochs = mne.read_epochs(path)\n",
      "/var/folders/bq/hl737msd54q59fzf7spf0r7h0000gn/T/ipykernel_6335/2509468502.py:7: RuntimeWarning: epochs._get_data() can't run because this Epochs-object is empty. You might want to check Epochs.drop_log or Epochs.plot_drop_log() to see why epochs were dropped.\n",
      "  epochs = mne.read_epochs(path)\n",
      "/var/folders/bq/hl737msd54q59fzf7spf0r7h0000gn/T/ipykernel_6335/2509468502.py:7: RuntimeWarning: epochs._get_data() can't run because this Epochs-object is empty. You might want to check Epochs.drop_log or Epochs.plot_drop_log() to see why epochs were dropped.\n",
      "  epochs = mne.read_epochs(path)\n",
      "/var/folders/bq/hl737msd54q59fzf7spf0r7h0000gn/T/ipykernel_6335/2509468502.py:7: RuntimeWarning: epochs._get_data() can't run because this Epochs-object is empty. You might want to check Epochs.drop_log or Epochs.plot_drop_log() to see why epochs were dropped.\n",
      "  epochs = mne.read_epochs(path)\n",
      "/var/folders/bq/hl737msd54q59fzf7spf0r7h0000gn/T/ipykernel_6335/2509468502.py:7: RuntimeWarning: epochs._get_data() can't run because this Epochs-object is empty. You might want to check Epochs.drop_log or Epochs.plot_drop_log() to see why epochs were dropped.\n",
      "  epochs = mne.read_epochs(path)\n",
      "/var/folders/bq/hl737msd54q59fzf7spf0r7h0000gn/T/ipykernel_6335/2509468502.py:7: RuntimeWarning: epochs._get_data() can't run because this Epochs-object is empty. You might want to check Epochs.drop_log or Epochs.plot_drop_log() to see why epochs were dropped.\n",
      "  epochs = mne.read_epochs(path)\n"
     ]
    }
   ],
   "source": [
    "paths = glob.glob('epochs_button/*')\n",
    "paths.sort()\n",
    "for path in paths: \n",
    "    basename = os.path.basename(path)\n",
    "    export_path = f'epochs_button_ar/{basename}'\n",
    "    if not os.path.exists(export_path):\n",
    "        epochs = mne.read_epochs(path)\n",
    "        if len(epochs)>=10:\n",
    "            ar = AutoReject()\n",
    "            epochs_clean = ar.fit_transform(epochs)\n",
    "            epochs_clean.save(export_path, overwrite=True)\n",
    "\n",
    "    else:\n",
    "        print(f'already done: export_path')"
   ]
  },
  {
   "cell_type": "code",
   "execution_count": null,
   "id": "de292b34-7c3d-482c-8f9a-9a24639e70e0",
   "metadata": {},
   "outputs": [],
   "source": []
  }
 ],
 "metadata": {
  "kernelspec": {
   "display_name": "mne_ica",
   "language": "python",
   "name": "mne_ica"
  },
  "language_info": {
   "codemirror_mode": {
    "name": "ipython",
    "version": 3
   },
   "file_extension": ".py",
   "mimetype": "text/x-python",
   "name": "python",
   "nbconvert_exporter": "python",
   "pygments_lexer": "ipython3",
   "version": "3.10.11"
  }
 },
 "nbformat": 4,
 "nbformat_minor": 5
}
