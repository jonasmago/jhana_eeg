{
 "cells": [
  {
   "cell_type": "code",
   "execution_count": 2,
   "id": "ef2f182e",
   "metadata": {},
   "outputs": [],
   "source": [
    "%load_ext autoreload\n",
    "%autoreload 2\n",
    "%matplotlib qt\n",
    "\n",
    "import numpy as np\n",
    "import autoreject\n",
    "import csv\n",
    "import matplotlib.pyplot as plt\n",
    "import pandas as pd\n",
    "import mne\n",
    "import os\n",
    "import sys\n",
    "from atpbar import atpbar\n",
    "import glob\n",
    "from autoreject import AutoReject\n",
    "from mne.preprocessing import ICA, create_eog_epochs, create_ecg_epochs"
   ]
  },
  {
   "cell_type": "markdown",
   "id": "bf16acab",
   "metadata": {},
   "source": [
    "## Concatenation"
   ]
  },
  {
   "cell_type": "code",
   "execution_count": 11,
   "id": "44098eab",
   "metadata": {},
   "outputs": [
    {
     "name": "stdout",
     "output_type": "stream",
     "text": [
      "Reading /Users/jonasmago/PhD_code_data/github/eeg_jhana/notebooks/preprocessing/../../data/mne_raw_epochs_ar/jhana_mmn/sub0-day1-jhana_mmn-raw_phot-events_epo.fif ...\n",
      "    Found the data of interest:\n",
      "        t =     -50.78 ...    1000.00 ms\n",
      "        0 CTF compensation matrices available\n",
      "Not setting metadata\n",
      "349 matching events found\n",
      "No baseline correction applied\n",
      "0 projection items activated\n",
      "Reading /Users/jonasmago/PhD_code_data/github/eeg_jhana/notebooks/preprocessing/../../data/mne_raw_epochs_ar/jhana_mmn/sub0-day2-jhana_mmn-raw_phot-events_epo.fif ...\n",
      "    Found the data of interest:\n",
      "        t =     -50.78 ...    1000.00 ms\n",
      "        0 CTF compensation matrices available\n",
      "Not setting metadata\n",
      "370 matching events found\n",
      "No baseline correction applied\n",
      "0 projection items activated\n",
      "Not setting metadata\n",
      "719 matching events found\n",
      "Applying baseline correction (mode: mean)\n",
      "Reading /Users/jonasmago/PhD_code_data/github/eeg_jhana/notebooks/preprocessing/../../data/mne_raw_epochs_ar/jhana_mmn/sub0-day3-jhana_mmn-raw_phot-events_epo.fif ...\n",
      "    Found the data of interest:\n",
      "        t =     -50.78 ...    1000.00 ms\n",
      "        0 CTF compensation matrices available\n",
      "Not setting metadata\n",
      "370 matching events found\n",
      "No baseline correction applied\n",
      "0 projection items activated\n",
      "Not setting metadata\n",
      "1089 matching events found\n",
      "Applying baseline correction (mode: mean)\n"
     ]
    },
    {
     "name": "stderr",
     "output_type": "stream",
     "text": [
      "/var/folders/bq/hl737msd54q59fzf7spf0r7h0000gn/T/ipykernel_94455/3928689563.py:15: RuntimeWarning: Concatenation of Annotations within Epochs is not supported yet. All annotations will be dropped.\n",
      "  epochs_all = epochs if epochs_all is None else mne.concatenate_epochs([epochs_all, epochs])\n",
      "/var/folders/bq/hl737msd54q59fzf7spf0r7h0000gn/T/ipykernel_94455/3928689563.py:15: RuntimeWarning: Concatenation of Annotations within Epochs is not supported yet. All annotations will be dropped.\n",
      "  epochs_all = epochs if epochs_all is None else mne.concatenate_epochs([epochs_all, epochs])\n"
     ]
    },
    {
     "name": "stdout",
     "output_type": "stream",
     "text": [
      "Reading /Users/jonasmago/PhD_code_data/github/eeg_jhana/notebooks/preprocessing/../../data/mne_raw_epochs_ar/jhana_mmn/sub0-day4-jhana_mmn-raw_phot-events_epo.fif ...\n",
      "    Found the data of interest:\n",
      "        t =     -50.78 ...    1000.00 ms\n",
      "        0 CTF compensation matrices available\n",
      "Not setting metadata\n",
      "365 matching events found\n",
      "No baseline correction applied\n",
      "0 projection items activated\n",
      "Not setting metadata\n",
      "1454 matching events found\n",
      "Applying baseline correction (mode: mean)\n",
      "Reading /Users/jonasmago/PhD_code_data/github/eeg_jhana/notebooks/preprocessing/../../data/mne_raw_epochs_ar/jhana_mmn/sub1-day1-jhana_mmn-raw_phot-events_epo.fif ...\n",
      "    Found the data of interest:\n",
      "        t =     -50.78 ...    1000.00 ms\n",
      "        0 CTF compensation matrices available\n"
     ]
    },
    {
     "name": "stderr",
     "output_type": "stream",
     "text": [
      "/var/folders/bq/hl737msd54q59fzf7spf0r7h0000gn/T/ipykernel_94455/3928689563.py:15: RuntimeWarning: Concatenation of Annotations within Epochs is not supported yet. All annotations will be dropped.\n",
      "  epochs_all = epochs if epochs_all is None else mne.concatenate_epochs([epochs_all, epochs])\n"
     ]
    },
    {
     "name": "stdout",
     "output_type": "stream",
     "text": [
      "Not setting metadata\n",
      "347 matching events found\n",
      "No baseline correction applied\n",
      "0 projection items activated\n",
      "Not setting metadata\n",
      "1801 matching events found\n",
      "Applying baseline correction (mode: mean)\n"
     ]
    },
    {
     "name": "stderr",
     "output_type": "stream",
     "text": [
      "/var/folders/bq/hl737msd54q59fzf7spf0r7h0000gn/T/ipykernel_94455/3928689563.py:15: RuntimeWarning: Concatenation of Annotations within Epochs is not supported yet. All annotations will be dropped.\n",
      "  epochs_all = epochs if epochs_all is None else mne.concatenate_epochs([epochs_all, epochs])\n"
     ]
    },
    {
     "name": "stdout",
     "output_type": "stream",
     "text": [
      "Reading /Users/jonasmago/PhD_code_data/github/eeg_jhana/notebooks/preprocessing/../../data/mne_raw_epochs_ar/jhana_mmn/sub1-day2-jhana_mmn-raw_phot-events_epo.fif ...\n",
      "    Found the data of interest:\n",
      "        t =     -50.78 ...    1000.00 ms\n",
      "        0 CTF compensation matrices available\n",
      "Not setting metadata\n",
      "344 matching events found\n",
      "No baseline correction applied\n",
      "0 projection items activated\n",
      "Not setting metadata\n",
      "2145 matching events found\n",
      "Applying baseline correction (mode: mean)\n"
     ]
    },
    {
     "name": "stderr",
     "output_type": "stream",
     "text": [
      "/var/folders/bq/hl737msd54q59fzf7spf0r7h0000gn/T/ipykernel_94455/3928689563.py:15: RuntimeWarning: Concatenation of Annotations within Epochs is not supported yet. All annotations will be dropped.\n",
      "  epochs_all = epochs if epochs_all is None else mne.concatenate_epochs([epochs_all, epochs])\n"
     ]
    },
    {
     "name": "stdout",
     "output_type": "stream",
     "text": [
      "Reading /Users/jonasmago/PhD_code_data/github/eeg_jhana/notebooks/preprocessing/../../data/mne_raw_epochs_ar/jhana_mmn/sub1-day3-jhana_mmn-raw_phot-events_epo.fif ...\n",
      "    Found the data of interest:\n",
      "        t =     -50.78 ...    1000.00 ms\n",
      "        0 CTF compensation matrices available\n",
      "Not setting metadata\n",
      "368 matching events found\n",
      "No baseline correction applied\n",
      "0 projection items activated\n",
      "Not setting metadata\n",
      "2513 matching events found\n",
      "Applying baseline correction (mode: mean)\n"
     ]
    },
    {
     "name": "stderr",
     "output_type": "stream",
     "text": [
      "/var/folders/bq/hl737msd54q59fzf7spf0r7h0000gn/T/ipykernel_94455/3928689563.py:15: RuntimeWarning: Concatenation of Annotations within Epochs is not supported yet. All annotations will be dropped.\n",
      "  epochs_all = epochs if epochs_all is None else mne.concatenate_epochs([epochs_all, epochs])\n"
     ]
    },
    {
     "name": "stdout",
     "output_type": "stream",
     "text": [
      "Reading /Users/jonasmago/PhD_code_data/github/eeg_jhana/notebooks/preprocessing/../../data/mne_raw_epochs_ar/jhana_mmn/sub1-day4-jhana_mmn-raw_phot-events_epo.fif ...\n",
      "    Found the data of interest:\n",
      "        t =     -50.78 ...    1000.00 ms\n",
      "        0 CTF compensation matrices available\n",
      "Not setting metadata\n",
      "242 matching events found\n",
      "No baseline correction applied\n",
      "0 projection items activated\n",
      "Not setting metadata\n",
      "2755 matching events found\n",
      "Applying baseline correction (mode: mean)\n"
     ]
    },
    {
     "name": "stderr",
     "output_type": "stream",
     "text": [
      "/var/folders/bq/hl737msd54q59fzf7spf0r7h0000gn/T/ipykernel_94455/3928689563.py:15: RuntimeWarning: Concatenation of Annotations within Epochs is not supported yet. All annotations will be dropped.\n",
      "  epochs_all = epochs if epochs_all is None else mne.concatenate_epochs([epochs_all, epochs])\n"
     ]
    },
    {
     "name": "stdout",
     "output_type": "stream",
     "text": [
      "Reading /Users/jonasmago/PhD_code_data/github/eeg_jhana/notebooks/preprocessing/../../data/mne_raw_epochs_ar/jhana_mmn/sub2-day1-jhana_mmn-raw_phot-events_epo.fif ...\n",
      "    Found the data of interest:\n",
      "        t =     -50.78 ...    1000.00 ms\n",
      "        0 CTF compensation matrices available\n",
      "Not setting metadata\n",
      "368 matching events found\n",
      "No baseline correction applied\n",
      "0 projection items activated\n",
      "Not setting metadata\n",
      "3123 matching events found\n",
      "Applying baseline correction (mode: mean)\n"
     ]
    },
    {
     "name": "stderr",
     "output_type": "stream",
     "text": [
      "/var/folders/bq/hl737msd54q59fzf7spf0r7h0000gn/T/ipykernel_94455/3928689563.py:15: RuntimeWarning: Concatenation of Annotations within Epochs is not supported yet. All annotations will be dropped.\n",
      "  epochs_all = epochs if epochs_all is None else mne.concatenate_epochs([epochs_all, epochs])\n"
     ]
    },
    {
     "name": "stdout",
     "output_type": "stream",
     "text": [
      "Reading /Users/jonasmago/PhD_code_data/github/eeg_jhana/notebooks/preprocessing/../../data/mne_raw_epochs_ar/jhana_mmn/sub2-day2-jhana_mmn-raw_phot-events_epo.fif ...\n",
      "    Found the data of interest:\n",
      "        t =     -50.78 ...    1000.00 ms\n",
      "        0 CTF compensation matrices available\n",
      "Not setting metadata\n",
      "364 matching events found\n",
      "No baseline correction applied\n",
      "0 projection items activated\n",
      "Not setting metadata\n",
      "3487 matching events found\n",
      "Applying baseline correction (mode: mean)\n"
     ]
    },
    {
     "name": "stderr",
     "output_type": "stream",
     "text": [
      "/var/folders/bq/hl737msd54q59fzf7spf0r7h0000gn/T/ipykernel_94455/3928689563.py:15: RuntimeWarning: Concatenation of Annotations within Epochs is not supported yet. All annotations will be dropped.\n",
      "  epochs_all = epochs if epochs_all is None else mne.concatenate_epochs([epochs_all, epochs])\n"
     ]
    },
    {
     "name": "stdout",
     "output_type": "stream",
     "text": [
      "Reading /Users/jonasmago/PhD_code_data/github/eeg_jhana/notebooks/preprocessing/../../data/mne_raw_epochs_ar/jhana_mmn/sub2-day3-jhana_mmn-raw_phot-events_epo.fif ...\n",
      "    Found the data of interest:\n",
      "        t =     -50.78 ...    1000.00 ms\n",
      "        0 CTF compensation matrices available\n",
      "Not setting metadata\n",
      "370 matching events found\n",
      "No baseline correction applied\n",
      "0 projection items activated\n",
      "Not setting metadata\n",
      "3857 matching events found\n",
      "Applying baseline correction (mode: mean)\n"
     ]
    },
    {
     "name": "stderr",
     "output_type": "stream",
     "text": [
      "/var/folders/bq/hl737msd54q59fzf7spf0r7h0000gn/T/ipykernel_94455/3928689563.py:15: RuntimeWarning: Concatenation of Annotations within Epochs is not supported yet. All annotations will be dropped.\n",
      "  epochs_all = epochs if epochs_all is None else mne.concatenate_epochs([epochs_all, epochs])\n"
     ]
    },
    {
     "name": "stdout",
     "output_type": "stream",
     "text": [
      "Reading /Users/jonasmago/PhD_code_data/github/eeg_jhana/notebooks/preprocessing/../../data/mne_raw_epochs_ar/jhana_mmn/sub2-day4-jhana_mmn-raw_phot-events_epo.fif ...\n",
      "    Found the data of interest:\n",
      "        t =     -50.78 ...    1000.00 ms\n",
      "        0 CTF compensation matrices available\n",
      "Not setting metadata\n",
      "188 matching events found\n",
      "No baseline correction applied\n",
      "0 projection items activated\n",
      "Not setting metadata\n",
      "4045 matching events found\n",
      "Applying baseline correction (mode: mean)\n"
     ]
    },
    {
     "name": "stderr",
     "output_type": "stream",
     "text": [
      "/var/folders/bq/hl737msd54q59fzf7spf0r7h0000gn/T/ipykernel_94455/3928689563.py:15: RuntimeWarning: Concatenation of Annotations within Epochs is not supported yet. All annotations will be dropped.\n",
      "  epochs_all = epochs if epochs_all is None else mne.concatenate_epochs([epochs_all, epochs])\n"
     ]
    },
    {
     "name": "stdout",
     "output_type": "stream",
     "text": [
      "Reading /Users/jonasmago/PhD_code_data/github/eeg_jhana/notebooks/preprocessing/../../data/mne_raw_epochs_ar/jhana_mmn/sub3-day1-jhana_mmn-raw_phot-events_epo.fif ...\n",
      "    Found the data of interest:\n",
      "        t =     -50.78 ...    1000.00 ms\n",
      "        0 CTF compensation matrices available\n",
      "Not setting metadata\n",
      "250 matching events found\n",
      "No baseline correction applied\n",
      "0 projection items activated\n",
      "Not setting metadata\n",
      "4295 matching events found\n",
      "Applying baseline correction (mode: mean)\n"
     ]
    },
    {
     "name": "stderr",
     "output_type": "stream",
     "text": [
      "/var/folders/bq/hl737msd54q59fzf7spf0r7h0000gn/T/ipykernel_94455/3928689563.py:15: RuntimeWarning: Concatenation of Annotations within Epochs is not supported yet. All annotations will be dropped.\n",
      "  epochs_all = epochs if epochs_all is None else mne.concatenate_epochs([epochs_all, epochs])\n"
     ]
    },
    {
     "name": "stdout",
     "output_type": "stream",
     "text": [
      "Reading /Users/jonasmago/PhD_code_data/github/eeg_jhana/notebooks/preprocessing/../../data/mne_raw_epochs_ar/jhana_mmn/sub3-day2-jhana_mmn-raw_phot-events_epo.fif ...\n",
      "    Found the data of interest:\n",
      "        t =     -50.78 ...    1000.00 ms\n",
      "        0 CTF compensation matrices available\n",
      "Not setting metadata\n",
      "301 matching events found\n",
      "No baseline correction applied\n",
      "0 projection items activated\n",
      "Not setting metadata\n",
      "4596 matching events found\n",
      "Applying baseline correction (mode: mean)\n"
     ]
    },
    {
     "name": "stderr",
     "output_type": "stream",
     "text": [
      "/var/folders/bq/hl737msd54q59fzf7spf0r7h0000gn/T/ipykernel_94455/3928689563.py:15: RuntimeWarning: Concatenation of Annotations within Epochs is not supported yet. All annotations will be dropped.\n",
      "  epochs_all = epochs if epochs_all is None else mne.concatenate_epochs([epochs_all, epochs])\n"
     ]
    },
    {
     "name": "stdout",
     "output_type": "stream",
     "text": [
      "Reading /Users/jonasmago/PhD_code_data/github/eeg_jhana/notebooks/preprocessing/../../data/mne_raw_epochs_ar/jhana_mmn/sub3-day3-jhana_mmn-raw_phot-events_epo.fif ...\n",
      "    Found the data of interest:\n",
      "        t =     -50.78 ...    1000.00 ms\n",
      "        0 CTF compensation matrices available\n",
      "Not setting metadata\n",
      "362 matching events found\n",
      "No baseline correction applied\n",
      "0 projection items activated\n",
      "Not setting metadata\n",
      "4958 matching events found\n",
      "Applying baseline correction (mode: mean)\n"
     ]
    },
    {
     "name": "stderr",
     "output_type": "stream",
     "text": [
      "/var/folders/bq/hl737msd54q59fzf7spf0r7h0000gn/T/ipykernel_94455/3928689563.py:15: RuntimeWarning: Concatenation of Annotations within Epochs is not supported yet. All annotations will be dropped.\n",
      "  epochs_all = epochs if epochs_all is None else mne.concatenate_epochs([epochs_all, epochs])\n"
     ]
    },
    {
     "name": "stdout",
     "output_type": "stream",
     "text": [
      "Reading /Users/jonasmago/PhD_code_data/github/eeg_jhana/notebooks/preprocessing/../../data/mne_raw_epochs_ar/jhana_mmn/sub3-day4-jhana_mmn-raw_phot-events_epo.fif ...\n",
      "    Found the data of interest:\n",
      "        t =     -50.78 ...    1000.00 ms\n",
      "        0 CTF compensation matrices available\n",
      "Not setting metadata\n",
      "270 matching events found\n",
      "No baseline correction applied\n",
      "0 projection items activated\n",
      "Reading /Users/jonasmago/PhD_code_data/github/eeg_jhana/notebooks/preprocessing/../../data/mne_raw_epochs_ar/jhana_mmn/sub4-day1-jhana_mmn-raw_phot-events_epo.fif ...\n",
      "    Found the data of interest:\n",
      "        t =     -50.78 ...    1000.00 ms\n",
      "        0 CTF compensation matrices available\n",
      "Not setting metadata\n",
      "201 matching events found\n",
      "No baseline correction applied\n",
      "0 projection items activated\n",
      "Not setting metadata\n",
      "5159 matching events found\n",
      "Applying baseline correction (mode: mean)\n"
     ]
    },
    {
     "name": "stderr",
     "output_type": "stream",
     "text": [
      "/var/folders/bq/hl737msd54q59fzf7spf0r7h0000gn/T/ipykernel_94455/3928689563.py:15: RuntimeWarning: Concatenation of Annotations within Epochs is not supported yet. All annotations will be dropped.\n",
      "  epochs_all = epochs if epochs_all is None else mne.concatenate_epochs([epochs_all, epochs])\n",
      "/var/folders/bq/hl737msd54q59fzf7spf0r7h0000gn/T/ipykernel_94455/3928689563.py:15: RuntimeWarning: Concatenation of Annotations within Epochs is not supported yet. All annotations will be dropped.\n",
      "  epochs_all = epochs if epochs_all is None else mne.concatenate_epochs([epochs_all, epochs])\n"
     ]
    },
    {
     "name": "stdout",
     "output_type": "stream",
     "text": [
      "Reading /Users/jonasmago/PhD_code_data/github/eeg_jhana/notebooks/preprocessing/../../data/mne_raw_epochs_ar/jhana_mmn/sub4-day2-jhana_mmn-raw_phot-events_epo.fif ...\n",
      "    Found the data of interest:\n",
      "        t =     -50.78 ...    1000.00 ms\n",
      "        0 CTF compensation matrices available\n",
      "Not setting metadata\n",
      "290 matching events found\n",
      "No baseline correction applied\n",
      "0 projection items activated\n",
      "Not setting metadata\n",
      "5449 matching events found\n",
      "Applying baseline correction (mode: mean)\n"
     ]
    },
    {
     "name": "stderr",
     "output_type": "stream",
     "text": [
      "/var/folders/bq/hl737msd54q59fzf7spf0r7h0000gn/T/ipykernel_94455/3928689563.py:15: RuntimeWarning: Concatenation of Annotations within Epochs is not supported yet. All annotations will be dropped.\n",
      "  epochs_all = epochs if epochs_all is None else mne.concatenate_epochs([epochs_all, epochs])\n"
     ]
    },
    {
     "name": "stdout",
     "output_type": "stream",
     "text": [
      "Reading /Users/jonasmago/PhD_code_data/github/eeg_jhana/notebooks/preprocessing/../../data/mne_raw_epochs_ar/jhana_mmn/sub4-day3-jhana_mmn-raw_phot-events_epo.fif ...\n",
      "    Found the data of interest:\n",
      "        t =     -50.78 ...    1000.00 ms\n",
      "        0 CTF compensation matrices available\n",
      "Not setting metadata\n",
      "315 matching events found\n",
      "No baseline correction applied\n",
      "0 projection items activated\n",
      "Not setting metadata\n",
      "5764 matching events found\n",
      "Applying baseline correction (mode: mean)\n"
     ]
    },
    {
     "name": "stderr",
     "output_type": "stream",
     "text": [
      "/var/folders/bq/hl737msd54q59fzf7spf0r7h0000gn/T/ipykernel_94455/3928689563.py:15: RuntimeWarning: Concatenation of Annotations within Epochs is not supported yet. All annotations will be dropped.\n",
      "  epochs_all = epochs if epochs_all is None else mne.concatenate_epochs([epochs_all, epochs])\n"
     ]
    },
    {
     "name": "stdout",
     "output_type": "stream",
     "text": [
      "Reading /Users/jonasmago/PhD_code_data/github/eeg_jhana/notebooks/preprocessing/../../data/mne_raw_epochs_ar/jhana_mmn/sub4-day4-jhana_mmn-raw_phot-events_epo.fif ...\n",
      "    Found the data of interest:\n",
      "        t =     -50.78 ...    1000.00 ms\n",
      "        0 CTF compensation matrices available\n",
      "Not setting metadata\n",
      "241 matching events found\n",
      "No baseline correction applied\n",
      "0 projection items activated\n",
      "Not setting metadata\n",
      "6005 matching events found\n",
      "Applying baseline correction (mode: mean)\n"
     ]
    },
    {
     "name": "stderr",
     "output_type": "stream",
     "text": [
      "/var/folders/bq/hl737msd54q59fzf7spf0r7h0000gn/T/ipykernel_94455/3928689563.py:15: RuntimeWarning: Concatenation of Annotations within Epochs is not supported yet. All annotations will be dropped.\n",
      "  epochs_all = epochs if epochs_all is None else mne.concatenate_epochs([epochs_all, epochs])\n"
     ]
    },
    {
     "name": "stdout",
     "output_type": "stream",
     "text": [
      "Reading /Users/jonasmago/PhD_code_data/github/eeg_jhana/notebooks/preprocessing/../../data/mne_raw_epochs_ar/jhana_mmn/sub5-day1-jhana_mmn-raw_phot-events_epo.fif ...\n",
      "    Found the data of interest:\n",
      "        t =     -50.78 ...    1000.00 ms\n",
      "        0 CTF compensation matrices available\n",
      "Not setting metadata\n",
      "367 matching events found\n",
      "No baseline correction applied\n",
      "0 projection items activated\n",
      "Not setting metadata\n",
      "6372 matching events found\n",
      "Applying baseline correction (mode: mean)\n"
     ]
    },
    {
     "name": "stderr",
     "output_type": "stream",
     "text": [
      "/var/folders/bq/hl737msd54q59fzf7spf0r7h0000gn/T/ipykernel_94455/3928689563.py:15: RuntimeWarning: Concatenation of Annotations within Epochs is not supported yet. All annotations will be dropped.\n",
      "  epochs_all = epochs if epochs_all is None else mne.concatenate_epochs([epochs_all, epochs])\n"
     ]
    },
    {
     "name": "stdout",
     "output_type": "stream",
     "text": [
      "Reading /Users/jonasmago/PhD_code_data/github/eeg_jhana/notebooks/preprocessing/../../data/mne_raw_epochs_ar/jhana_mmn/sub5-day2-jhana_mmn-raw_phot-events_epo.fif ...\n",
      "    Found the data of interest:\n",
      "        t =     -50.78 ...    1000.00 ms\n",
      "        0 CTF compensation matrices available\n",
      "Not setting metadata\n",
      "370 matching events found\n",
      "No baseline correction applied\n",
      "0 projection items activated\n",
      "Not setting metadata\n",
      "6742 matching events found\n",
      "Applying baseline correction (mode: mean)\n"
     ]
    },
    {
     "name": "stderr",
     "output_type": "stream",
     "text": [
      "/var/folders/bq/hl737msd54q59fzf7spf0r7h0000gn/T/ipykernel_94455/3928689563.py:15: RuntimeWarning: Concatenation of Annotations within Epochs is not supported yet. All annotations will be dropped.\n",
      "  epochs_all = epochs if epochs_all is None else mne.concatenate_epochs([epochs_all, epochs])\n"
     ]
    },
    {
     "name": "stdout",
     "output_type": "stream",
     "text": [
      "Reading /Users/jonasmago/PhD_code_data/github/eeg_jhana/notebooks/preprocessing/../../data/mne_raw_epochs_ar/jhana_mmn/sub5-day3-jhana_mmn-raw_phot-events_epo.fif ...\n",
      "    Found the data of interest:\n",
      "        t =     -50.78 ...    1000.00 ms\n",
      "        0 CTF compensation matrices available\n",
      "Not setting metadata\n",
      "370 matching events found\n",
      "No baseline correction applied\n",
      "0 projection items activated\n",
      "Not setting metadata\n",
      "7112 matching events found\n",
      "Applying baseline correction (mode: mean)\n"
     ]
    },
    {
     "name": "stderr",
     "output_type": "stream",
     "text": [
      "/var/folders/bq/hl737msd54q59fzf7spf0r7h0000gn/T/ipykernel_94455/3928689563.py:15: RuntimeWarning: Concatenation of Annotations within Epochs is not supported yet. All annotations will be dropped.\n",
      "  epochs_all = epochs if epochs_all is None else mne.concatenate_epochs([epochs_all, epochs])\n"
     ]
    },
    {
     "name": "stdout",
     "output_type": "stream",
     "text": [
      "Reading /Users/jonasmago/PhD_code_data/github/eeg_jhana/notebooks/preprocessing/../../data/mne_raw_epochs_ar/jhana_mmn/sub5-day4-jhana_mmn-raw_phot-events_epo.fif ...\n",
      "    Found the data of interest:\n",
      "        t =     -50.78 ...    1000.00 ms\n",
      "        0 CTF compensation matrices available\n",
      "Not setting metadata\n",
      "367 matching events found\n",
      "No baseline correction applied\n",
      "0 projection items activated\n",
      "Not setting metadata\n",
      "7479 matching events found\n",
      "Applying baseline correction (mode: mean)\n"
     ]
    },
    {
     "name": "stderr",
     "output_type": "stream",
     "text": [
      "/var/folders/bq/hl737msd54q59fzf7spf0r7h0000gn/T/ipykernel_94455/3928689563.py:15: RuntimeWarning: Concatenation of Annotations within Epochs is not supported yet. All annotations will be dropped.\n",
      "  epochs_all = epochs if epochs_all is None else mne.concatenate_epochs([epochs_all, epochs])\n"
     ]
    },
    {
     "name": "stdout",
     "output_type": "stream",
     "text": [
      "Reading /Users/jonasmago/PhD_code_data/github/eeg_jhana/notebooks/preprocessing/../../data/mne_raw_epochs_ar/jhana_mmn/sub6-day1-jhana_mmn-raw_phot-events_epo.fif ...\n",
      "    Found the data of interest:\n",
      "        t =     -50.78 ...    1000.00 ms\n",
      "        0 CTF compensation matrices available\n",
      "Not setting metadata\n",
      "370 matching events found\n",
      "No baseline correction applied\n",
      "0 projection items activated\n"
     ]
    },
    {
     "name": "stderr",
     "output_type": "stream",
     "text": [
      "/var/folders/bq/hl737msd54q59fzf7spf0r7h0000gn/T/ipykernel_94455/3928689563.py:15: RuntimeWarning: Concatenation of Annotations within Epochs is not supported yet. All annotations will be dropped.\n",
      "  epochs_all = epochs if epochs_all is None else mne.concatenate_epochs([epochs_all, epochs])\n"
     ]
    },
    {
     "name": "stdout",
     "output_type": "stream",
     "text": [
      "Not setting metadata\n",
      "7849 matching events found\n",
      "Applying baseline correction (mode: mean)\n",
      "Reading /Users/jonasmago/PhD_code_data/github/eeg_jhana/notebooks/preprocessing/../../data/mne_raw_epochs_ar/jhana_mmn/sub6-day2-jhana_mmn-raw_phot-events_epo.fif ...\n",
      "    Found the data of interest:\n",
      "        t =     -50.78 ...    1000.00 ms\n",
      "        0 CTF compensation matrices available\n",
      "Not setting metadata\n",
      "354 matching events found\n",
      "No baseline correction applied\n",
      "0 projection items activated\n"
     ]
    },
    {
     "name": "stderr",
     "output_type": "stream",
     "text": [
      "/var/folders/bq/hl737msd54q59fzf7spf0r7h0000gn/T/ipykernel_94455/3928689563.py:15: RuntimeWarning: Concatenation of Annotations within Epochs is not supported yet. All annotations will be dropped.\n",
      "  epochs_all = epochs if epochs_all is None else mne.concatenate_epochs([epochs_all, epochs])\n"
     ]
    },
    {
     "name": "stdout",
     "output_type": "stream",
     "text": [
      "Not setting metadata\n",
      "8203 matching events found\n",
      "Applying baseline correction (mode: mean)\n",
      "Reading /Users/jonasmago/PhD_code_data/github/eeg_jhana/notebooks/preprocessing/../../data/mne_raw_epochs_ar/jhana_mmn/sub6-day3-jhana_mmn-raw_phot-events_epo.fif ...\n",
      "    Found the data of interest:\n",
      "        t =     -50.78 ...    1000.00 ms\n",
      "        0 CTF compensation matrices available\n",
      "Not setting metadata\n",
      "324 matching events found\n",
      "No baseline correction applied\n",
      "0 projection items activated\n",
      "Not setting metadata\n",
      "8527 matching events found\n",
      "Applying baseline correction (mode: mean)\n"
     ]
    },
    {
     "name": "stderr",
     "output_type": "stream",
     "text": [
      "/var/folders/bq/hl737msd54q59fzf7spf0r7h0000gn/T/ipykernel_94455/3928689563.py:15: RuntimeWarning: Concatenation of Annotations within Epochs is not supported yet. All annotations will be dropped.\n",
      "  epochs_all = epochs if epochs_all is None else mne.concatenate_epochs([epochs_all, epochs])\n"
     ]
    },
    {
     "name": "stdout",
     "output_type": "stream",
     "text": [
      "Reading /Users/jonasmago/PhD_code_data/github/eeg_jhana/notebooks/preprocessing/../../data/mne_raw_epochs_ar/jhana_mmn/sub6-day4-jhana_mmn-raw_phot-events_epo.fif ...\n",
      "    Found the data of interest:\n",
      "        t =     -50.78 ...    1000.00 ms\n",
      "        0 CTF compensation matrices available\n",
      "Not setting metadata\n",
      "286 matching events found\n",
      "No baseline correction applied\n",
      "0 projection items activated\n"
     ]
    },
    {
     "name": "stderr",
     "output_type": "stream",
     "text": [
      "/var/folders/bq/hl737msd54q59fzf7spf0r7h0000gn/T/ipykernel_94455/3928689563.py:15: RuntimeWarning: Concatenation of Annotations within Epochs is not supported yet. All annotations will be dropped.\n",
      "  epochs_all = epochs if epochs_all is None else mne.concatenate_epochs([epochs_all, epochs])\n"
     ]
    },
    {
     "name": "stdout",
     "output_type": "stream",
     "text": [
      "Not setting metadata\n",
      "8813 matching events found\n",
      "Applying baseline correction (mode: mean)\n",
      "Reading /Users/jonasmago/PhD_code_data/github/eeg_jhana/notebooks/preprocessing/../../data/mne_raw_epochs_ar/jhana_mmn/sub7-day1-jhana_mmn-raw_phot-events_epo.fif ...\n",
      "    Found the data of interest:\n",
      "        t =     -50.78 ...    1000.00 ms\n",
      "        0 CTF compensation matrices available\n",
      "Not setting metadata\n",
      "365 matching events found\n",
      "No baseline correction applied\n",
      "0 projection items activated\n"
     ]
    },
    {
     "name": "stderr",
     "output_type": "stream",
     "text": [
      "/var/folders/bq/hl737msd54q59fzf7spf0r7h0000gn/T/ipykernel_94455/3928689563.py:15: RuntimeWarning: Concatenation of Annotations within Epochs is not supported yet. All annotations will be dropped.\n",
      "  epochs_all = epochs if epochs_all is None else mne.concatenate_epochs([epochs_all, epochs])\n"
     ]
    },
    {
     "name": "stdout",
     "output_type": "stream",
     "text": [
      "Not setting metadata\n",
      "9178 matching events found\n",
      "Applying baseline correction (mode: mean)\n",
      "Reading /Users/jonasmago/PhD_code_data/github/eeg_jhana/notebooks/preprocessing/../../data/mne_raw_epochs_ar/jhana_mmn/sub7-day2-jhana_mmn-raw_phot-events_epo.fif ...\n",
      "    Found the data of interest:\n",
      "        t =     -50.78 ...    1000.00 ms\n",
      "        0 CTF compensation matrices available\n",
      "Not setting metadata\n",
      "363 matching events found\n",
      "No baseline correction applied\n",
      "0 projection items activated\n"
     ]
    },
    {
     "name": "stderr",
     "output_type": "stream",
     "text": [
      "/var/folders/bq/hl737msd54q59fzf7spf0r7h0000gn/T/ipykernel_94455/3928689563.py:15: RuntimeWarning: Concatenation of Annotations within Epochs is not supported yet. All annotations will be dropped.\n",
      "  epochs_all = epochs if epochs_all is None else mne.concatenate_epochs([epochs_all, epochs])\n"
     ]
    },
    {
     "name": "stdout",
     "output_type": "stream",
     "text": [
      "Not setting metadata\n",
      "9541 matching events found\n",
      "Applying baseline correction (mode: mean)\n",
      "Reading /Users/jonasmago/PhD_code_data/github/eeg_jhana/notebooks/preprocessing/../../data/mne_raw_epochs_ar/jhana_mmn/sub7-day3-jhana_mmn-raw_phot-events_epo.fif ...\n",
      "    Found the data of interest:\n",
      "        t =     -50.78 ...    1000.00 ms\n",
      "        0 CTF compensation matrices available\n",
      "Not setting metadata\n",
      "368 matching events found\n",
      "No baseline correction applied\n",
      "0 projection items activated\n"
     ]
    },
    {
     "name": "stderr",
     "output_type": "stream",
     "text": [
      "/var/folders/bq/hl737msd54q59fzf7spf0r7h0000gn/T/ipykernel_94455/3928689563.py:15: RuntimeWarning: Concatenation of Annotations within Epochs is not supported yet. All annotations will be dropped.\n",
      "  epochs_all = epochs if epochs_all is None else mne.concatenate_epochs([epochs_all, epochs])\n"
     ]
    },
    {
     "name": "stdout",
     "output_type": "stream",
     "text": [
      "Not setting metadata\n",
      "9909 matching events found\n",
      "Applying baseline correction (mode: mean)\n",
      "Reading /Users/jonasmago/PhD_code_data/github/eeg_jhana/notebooks/preprocessing/../../data/mne_raw_epochs_ar/jhana_mmn/sub7-day4-jhana_mmn-raw_phot-events_epo.fif ...\n",
      "    Found the data of interest:\n",
      "        t =     -50.78 ...    1000.00 ms\n",
      "        0 CTF compensation matrices available\n",
      "Not setting metadata\n",
      "362 matching events found\n",
      "No baseline correction applied\n",
      "0 projection items activated\n"
     ]
    },
    {
     "name": "stderr",
     "output_type": "stream",
     "text": [
      "/var/folders/bq/hl737msd54q59fzf7spf0r7h0000gn/T/ipykernel_94455/3928689563.py:15: RuntimeWarning: Concatenation of Annotations within Epochs is not supported yet. All annotations will be dropped.\n",
      "  epochs_all = epochs if epochs_all is None else mne.concatenate_epochs([epochs_all, epochs])\n"
     ]
    },
    {
     "name": "stdout",
     "output_type": "stream",
     "text": [
      "Not setting metadata\n",
      "10271 matching events found\n",
      "Applying baseline correction (mode: mean)\n",
      "Reading /Users/jonasmago/PhD_code_data/github/eeg_jhana/notebooks/preprocessing/../../data/mne_raw_epochs_ar/jhana_mmn/sub8-day1-jhana_mmn-raw_phot-events_epo.fif ...\n",
      "    Found the data of interest:\n",
      "        t =     -50.78 ...    1000.00 ms\n",
      "        0 CTF compensation matrices available\n",
      "Not setting metadata\n",
      "324 matching events found\n",
      "No baseline correction applied\n",
      "0 projection items activated\n"
     ]
    },
    {
     "name": "stderr",
     "output_type": "stream",
     "text": [
      "/var/folders/bq/hl737msd54q59fzf7spf0r7h0000gn/T/ipykernel_94455/3928689563.py:15: RuntimeWarning: Concatenation of Annotations within Epochs is not supported yet. All annotations will be dropped.\n",
      "  epochs_all = epochs if epochs_all is None else mne.concatenate_epochs([epochs_all, epochs])\n"
     ]
    },
    {
     "name": "stdout",
     "output_type": "stream",
     "text": [
      "Not setting metadata\n",
      "10595 matching events found\n",
      "Applying baseline correction (mode: mean)\n",
      "Reading /Users/jonasmago/PhD_code_data/github/eeg_jhana/notebooks/preprocessing/../../data/mne_raw_epochs_ar/jhana_mmn/sub8-day2-jhana_mmn-raw_phot-events_epo.fif ...\n",
      "    Found the data of interest:\n",
      "        t =     -50.78 ...    1000.00 ms\n",
      "        0 CTF compensation matrices available\n",
      "Not setting metadata\n",
      "349 matching events found\n",
      "No baseline correction applied\n",
      "0 projection items activated\n"
     ]
    },
    {
     "name": "stderr",
     "output_type": "stream",
     "text": [
      "/var/folders/bq/hl737msd54q59fzf7spf0r7h0000gn/T/ipykernel_94455/3928689563.py:15: RuntimeWarning: Concatenation of Annotations within Epochs is not supported yet. All annotations will be dropped.\n",
      "  epochs_all = epochs if epochs_all is None else mne.concatenate_epochs([epochs_all, epochs])\n"
     ]
    },
    {
     "name": "stdout",
     "output_type": "stream",
     "text": [
      "Not setting metadata\n",
      "10944 matching events found\n",
      "Applying baseline correction (mode: mean)\n",
      "Reading /Users/jonasmago/PhD_code_data/github/eeg_jhana/notebooks/preprocessing/../../data/mne_raw_epochs_ar/jhana_mmn/sub8-day3-jhana_mmn-raw_phot-events_epo.fif ...\n",
      "    Found the data of interest:\n",
      "        t =     -50.78 ...    1000.00 ms\n",
      "        0 CTF compensation matrices available\n",
      "Not setting metadata\n",
      "287 matching events found\n",
      "No baseline correction applied\n",
      "0 projection items activated\n"
     ]
    },
    {
     "name": "stderr",
     "output_type": "stream",
     "text": [
      "/var/folders/bq/hl737msd54q59fzf7spf0r7h0000gn/T/ipykernel_94455/3928689563.py:15: RuntimeWarning: Concatenation of Annotations within Epochs is not supported yet. All annotations will be dropped.\n",
      "  epochs_all = epochs if epochs_all is None else mne.concatenate_epochs([epochs_all, epochs])\n"
     ]
    },
    {
     "name": "stdout",
     "output_type": "stream",
     "text": [
      "Not setting metadata\n",
      "11231 matching events found\n",
      "Applying baseline correction (mode: mean)\n",
      "Reading /Users/jonasmago/PhD_code_data/github/eeg_jhana/notebooks/preprocessing/../../data/mne_raw_epochs_ar/jhana_mmn/sub8-day4-jhana_mmn-raw_phot-events_epo.fif ...\n",
      "    Found the data of interest:\n",
      "        t =     -50.78 ...    1000.00 ms\n",
      "        0 CTF compensation matrices available\n",
      "Not setting metadata\n",
      "188 matching events found\n",
      "No baseline correction applied\n",
      "0 projection items activated\n"
     ]
    },
    {
     "name": "stderr",
     "output_type": "stream",
     "text": [
      "/var/folders/bq/hl737msd54q59fzf7spf0r7h0000gn/T/ipykernel_94455/3928689563.py:15: RuntimeWarning: Concatenation of Annotations within Epochs is not supported yet. All annotations will be dropped.\n",
      "  epochs_all = epochs if epochs_all is None else mne.concatenate_epochs([epochs_all, epochs])\n"
     ]
    },
    {
     "name": "stdout",
     "output_type": "stream",
     "text": [
      "Not setting metadata\n",
      "11419 matching events found\n",
      "Applying baseline correction (mode: mean)\n",
      "Reading /Users/jonasmago/PhD_code_data/github/eeg_jhana/notebooks/preprocessing/../../data/mne_raw_epochs_ar/jhana_mmn/sub9-day1-jhana_mmn-raw_phot-events_epo.fif ...\n",
      "    Found the data of interest:\n",
      "        t =     -50.78 ...    1000.00 ms\n",
      "        0 CTF compensation matrices available\n",
      "Not setting metadata\n",
      "348 matching events found\n",
      "No baseline correction applied\n",
      "0 projection items activated\n"
     ]
    },
    {
     "name": "stderr",
     "output_type": "stream",
     "text": [
      "/var/folders/bq/hl737msd54q59fzf7spf0r7h0000gn/T/ipykernel_94455/3928689563.py:15: RuntimeWarning: Concatenation of Annotations within Epochs is not supported yet. All annotations will be dropped.\n",
      "  epochs_all = epochs if epochs_all is None else mne.concatenate_epochs([epochs_all, epochs])\n"
     ]
    },
    {
     "name": "stdout",
     "output_type": "stream",
     "text": [
      "Not setting metadata\n",
      "11767 matching events found\n",
      "Applying baseline correction (mode: mean)\n",
      "Reading /Users/jonasmago/PhD_code_data/github/eeg_jhana/notebooks/preprocessing/../../data/mne_raw_epochs_ar/jhana_mmn/sub9-day2-jhana_mmn-raw_phot-events_epo.fif ...\n",
      "    Found the data of interest:\n",
      "        t =     -50.78 ...    1000.00 ms\n",
      "        0 CTF compensation matrices available\n",
      "Not setting metadata\n",
      "318 matching events found\n",
      "No baseline correction applied\n",
      "0 projection items activated\n"
     ]
    },
    {
     "name": "stderr",
     "output_type": "stream",
     "text": [
      "/var/folders/bq/hl737msd54q59fzf7spf0r7h0000gn/T/ipykernel_94455/3928689563.py:15: RuntimeWarning: Concatenation of Annotations within Epochs is not supported yet. All annotations will be dropped.\n",
      "  epochs_all = epochs if epochs_all is None else mne.concatenate_epochs([epochs_all, epochs])\n"
     ]
    },
    {
     "name": "stdout",
     "output_type": "stream",
     "text": [
      "Not setting metadata\n",
      "12085 matching events found\n",
      "Applying baseline correction (mode: mean)\n",
      "Reading /Users/jonasmago/PhD_code_data/github/eeg_jhana/notebooks/preprocessing/../../data/mne_raw_epochs_ar/jhana_mmn/sub9-day3-jhana_mmn-raw_phot-events_epo.fif ...\n",
      "    Found the data of interest:\n",
      "        t =     -50.78 ...    1000.00 ms\n",
      "        0 CTF compensation matrices available\n",
      "Not setting metadata\n",
      "369 matching events found\n",
      "No baseline correction applied\n",
      "0 projection items activated\n"
     ]
    },
    {
     "name": "stderr",
     "output_type": "stream",
     "text": [
      "/var/folders/bq/hl737msd54q59fzf7spf0r7h0000gn/T/ipykernel_94455/3928689563.py:15: RuntimeWarning: Concatenation of Annotations within Epochs is not supported yet. All annotations will be dropped.\n",
      "  epochs_all = epochs if epochs_all is None else mne.concatenate_epochs([epochs_all, epochs])\n"
     ]
    },
    {
     "name": "stdout",
     "output_type": "stream",
     "text": [
      "Not setting metadata\n",
      "12454 matching events found\n",
      "Applying baseline correction (mode: mean)\n",
      "Reading /Users/jonasmago/PhD_code_data/github/eeg_jhana/notebooks/preprocessing/../../data/mne_raw_epochs_ar/jhana_mmn/sub9-day4-jhana_mmn-raw_phot-events_epo.fif ...\n",
      "    Found the data of interest:\n",
      "        t =     -50.78 ...    1000.00 ms\n",
      "        0 CTF compensation matrices available\n",
      "Not setting metadata\n",
      "356 matching events found\n",
      "No baseline correction applied\n",
      "0 projection items activated\n"
     ]
    },
    {
     "name": "stderr",
     "output_type": "stream",
     "text": [
      "/var/folders/bq/hl737msd54q59fzf7spf0r7h0000gn/T/ipykernel_94455/3928689563.py:15: RuntimeWarning: Concatenation of Annotations within Epochs is not supported yet. All annotations will be dropped.\n",
      "  epochs_all = epochs if epochs_all is None else mne.concatenate_epochs([epochs_all, epochs])\n"
     ]
    },
    {
     "name": "stdout",
     "output_type": "stream",
     "text": [
      "Not setting metadata\n",
      "12810 matching events found\n",
      "Applying baseline correction (mode: mean)\n"
     ]
    },
    {
     "name": "stderr",
     "output_type": "stream",
     "text": [
      "/var/folders/bq/hl737msd54q59fzf7spf0r7h0000gn/T/ipykernel_94455/3928689563.py:18: RuntimeWarning: This filename (../../data/mne_raw_epochs_ar_all/jhana_mmn.fif) does not conform to MNE naming conventions. All epochs files should end with -epo.fif, -epo.fif.gz, _epo.fif or _epo.fif.gz\n",
      "  epochs_all.save(f\"../../data/mne_raw_epochs_ar_all/{condition}.fif\", overwrite=True)\n"
     ]
    },
    {
     "name": "stdout",
     "output_type": "stream",
     "text": [
      "Reading /Users/jonasmago/PhD_code_data/github/eeg_jhana/notebooks/preprocessing/../../data/mne_raw_epochs_ar/mindfulness_mmn/sub0-day1-mindfulness_mmn-raw_phot-events_epo.fif ...\n",
      "    Found the data of interest:\n",
      "        t =     -50.78 ...    1000.00 ms\n",
      "        0 CTF compensation matrices available\n",
      "Not setting metadata\n",
      "370 matching events found\n",
      "No baseline correction applied\n",
      "0 projection items activated\n",
      "Reading /Users/jonasmago/PhD_code_data/github/eeg_jhana/notebooks/preprocessing/../../data/mne_raw_epochs_ar/mindfulness_mmn/sub0-day2-mindfulness_mmn-raw_phot-events_epo.fif ...\n",
      "    Found the data of interest:\n",
      "        t =     -50.78 ...    1000.00 ms\n",
      "        0 CTF compensation matrices available\n",
      "Not setting metadata\n",
      "323 matching events found\n",
      "No baseline correction applied\n",
      "0 projection items activated\n",
      "Not setting metadata\n",
      "693 matching events found\n",
      "Applying baseline correction (mode: mean)\n",
      "Reading /Users/jonasmago/PhD_code_data/github/eeg_jhana/notebooks/preprocessing/../../data/mne_raw_epochs_ar/mindfulness_mmn/sub0-day3-mindfulness_mmn-raw_phot-events_epo.fif ...\n",
      "    Found the data of interest:\n",
      "        t =     -50.78 ...    1000.00 ms\n",
      "        0 CTF compensation matrices available\n",
      "Not setting metadata\n",
      "352 matching events found\n",
      "No baseline correction applied\n",
      "0 projection items activated\n",
      "Not setting metadata\n",
      "1045 matching events found\n",
      "Applying baseline correction (mode: mean)\n",
      "Reading /Users/jonasmago/PhD_code_data/github/eeg_jhana/notebooks/preprocessing/../../data/mne_raw_epochs_ar/mindfulness_mmn/sub0-day4-mindfulness_mmn-raw_phot-events_epo.fif ...\n",
      "    Found the data of interest:\n",
      "        t =     -50.78 ...    1000.00 ms\n",
      "        0 CTF compensation matrices available\n",
      "Not setting metadata\n",
      "370 matching events found\n",
      "No baseline correction applied\n",
      "0 projection items activated\n"
     ]
    },
    {
     "name": "stderr",
     "output_type": "stream",
     "text": [
      "/var/folders/bq/hl737msd54q59fzf7spf0r7h0000gn/T/ipykernel_94455/3928689563.py:15: RuntimeWarning: Concatenation of Annotations within Epochs is not supported yet. All annotations will be dropped.\n",
      "  epochs_all = epochs if epochs_all is None else mne.concatenate_epochs([epochs_all, epochs])\n",
      "/var/folders/bq/hl737msd54q59fzf7spf0r7h0000gn/T/ipykernel_94455/3928689563.py:15: RuntimeWarning: Concatenation of Annotations within Epochs is not supported yet. All annotations will be dropped.\n",
      "  epochs_all = epochs if epochs_all is None else mne.concatenate_epochs([epochs_all, epochs])\n",
      "/var/folders/bq/hl737msd54q59fzf7spf0r7h0000gn/T/ipykernel_94455/3928689563.py:15: RuntimeWarning: Concatenation of Annotations within Epochs is not supported yet. All annotations will be dropped.\n",
      "  epochs_all = epochs if epochs_all is None else mne.concatenate_epochs([epochs_all, epochs])\n"
     ]
    },
    {
     "name": "stdout",
     "output_type": "stream",
     "text": [
      "Not setting metadata\n",
      "1415 matching events found\n",
      "Applying baseline correction (mode: mean)\n",
      "Reading /Users/jonasmago/PhD_code_data/github/eeg_jhana/notebooks/preprocessing/../../data/mne_raw_epochs_ar/mindfulness_mmn/sub1-day1-mindfulness_mmn-raw_phot-events_epo.fif ...\n",
      "    Found the data of interest:\n",
      "        t =     -50.78 ...    1000.00 ms\n",
      "        0 CTF compensation matrices available\n",
      "Not setting metadata\n",
      "340 matching events found\n",
      "No baseline correction applied\n",
      "0 projection items activated\n",
      "Not setting metadata\n",
      "1755 matching events found\n",
      "Applying baseline correction (mode: mean)\n",
      "Reading /Users/jonasmago/PhD_code_data/github/eeg_jhana/notebooks/preprocessing/../../data/mne_raw_epochs_ar/mindfulness_mmn/sub1-day2-mindfulness_mmn-raw_phot-events_epo.fif ...\n",
      "    Found the data of interest:\n",
      "        t =     -50.78 ...    1000.00 ms\n",
      "        0 CTF compensation matrices available\n",
      "Not setting metadata\n",
      "235 matching events found\n",
      "No baseline correction applied\n",
      "0 projection items activated\n"
     ]
    },
    {
     "name": "stderr",
     "output_type": "stream",
     "text": [
      "/var/folders/bq/hl737msd54q59fzf7spf0r7h0000gn/T/ipykernel_94455/3928689563.py:15: RuntimeWarning: Concatenation of Annotations within Epochs is not supported yet. All annotations will be dropped.\n",
      "  epochs_all = epochs if epochs_all is None else mne.concatenate_epochs([epochs_all, epochs])\n",
      "/var/folders/bq/hl737msd54q59fzf7spf0r7h0000gn/T/ipykernel_94455/3928689563.py:15: RuntimeWarning: Concatenation of Annotations within Epochs is not supported yet. All annotations will be dropped.\n",
      "  epochs_all = epochs if epochs_all is None else mne.concatenate_epochs([epochs_all, epochs])\n"
     ]
    },
    {
     "name": "stdout",
     "output_type": "stream",
     "text": [
      "Not setting metadata\n",
      "1990 matching events found\n",
      "Applying baseline correction (mode: mean)\n",
      "Reading /Users/jonasmago/PhD_code_data/github/eeg_jhana/notebooks/preprocessing/../../data/mne_raw_epochs_ar/mindfulness_mmn/sub1-day3-mindfulness_mmn-raw_phot-events_epo.fif ...\n",
      "    Found the data of interest:\n",
      "        t =     -50.78 ...    1000.00 ms\n",
      "        0 CTF compensation matrices available\n",
      "Not setting metadata\n",
      "259 matching events found\n",
      "No baseline correction applied\n",
      "0 projection items activated\n",
      "Not setting metadata\n",
      "2249 matching events found\n",
      "Applying baseline correction (mode: mean)\n"
     ]
    },
    {
     "name": "stderr",
     "output_type": "stream",
     "text": [
      "/var/folders/bq/hl737msd54q59fzf7spf0r7h0000gn/T/ipykernel_94455/3928689563.py:15: RuntimeWarning: Concatenation of Annotations within Epochs is not supported yet. All annotations will be dropped.\n",
      "  epochs_all = epochs if epochs_all is None else mne.concatenate_epochs([epochs_all, epochs])\n"
     ]
    },
    {
     "name": "stdout",
     "output_type": "stream",
     "text": [
      "Reading /Users/jonasmago/PhD_code_data/github/eeg_jhana/notebooks/preprocessing/../../data/mne_raw_epochs_ar/mindfulness_mmn/sub1-day4-mindfulness_mmn-raw_phot-events_epo.fif ...\n",
      "    Found the data of interest:\n",
      "        t =     -50.78 ...    1000.00 ms\n",
      "        0 CTF compensation matrices available\n",
      "Not setting metadata\n",
      "301 matching events found\n",
      "No baseline correction applied\n",
      "0 projection items activated\n",
      "Not setting metadata\n",
      "2550 matching events found\n",
      "Applying baseline correction (mode: mean)\n"
     ]
    },
    {
     "name": "stderr",
     "output_type": "stream",
     "text": [
      "/var/folders/bq/hl737msd54q59fzf7spf0r7h0000gn/T/ipykernel_94455/3928689563.py:15: RuntimeWarning: Concatenation of Annotations within Epochs is not supported yet. All annotations will be dropped.\n",
      "  epochs_all = epochs if epochs_all is None else mne.concatenate_epochs([epochs_all, epochs])\n"
     ]
    },
    {
     "name": "stdout",
     "output_type": "stream",
     "text": [
      "Reading /Users/jonasmago/PhD_code_data/github/eeg_jhana/notebooks/preprocessing/../../data/mne_raw_epochs_ar/mindfulness_mmn/sub2-day1-mindfulness_mmn-raw_phot-events_epo.fif ...\n",
      "    Found the data of interest:\n",
      "        t =     -50.78 ...    1000.00 ms\n",
      "        0 CTF compensation matrices available\n",
      "Not setting metadata\n",
      "368 matching events found\n",
      "No baseline correction applied\n",
      "0 projection items activated\n",
      "Not setting metadata\n",
      "2918 matching events found\n",
      "Applying baseline correction (mode: mean)\n"
     ]
    },
    {
     "name": "stderr",
     "output_type": "stream",
     "text": [
      "/var/folders/bq/hl737msd54q59fzf7spf0r7h0000gn/T/ipykernel_94455/3928689563.py:15: RuntimeWarning: Concatenation of Annotations within Epochs is not supported yet. All annotations will be dropped.\n",
      "  epochs_all = epochs if epochs_all is None else mne.concatenate_epochs([epochs_all, epochs])\n"
     ]
    },
    {
     "name": "stdout",
     "output_type": "stream",
     "text": [
      "Reading /Users/jonasmago/PhD_code_data/github/eeg_jhana/notebooks/preprocessing/../../data/mne_raw_epochs_ar/mindfulness_mmn/sub2-day3-mindfulness_mmn-raw_phot-events_epo.fif ...\n",
      "    Found the data of interest:\n",
      "        t =     -50.78 ...    1000.00 ms\n",
      "        0 CTF compensation matrices available\n",
      "Not setting metadata\n",
      "303 matching events found\n",
      "No baseline correction applied\n",
      "0 projection items activated\n",
      "Not setting metadata\n",
      "3221 matching events found\n",
      "Applying baseline correction (mode: mean)\n"
     ]
    },
    {
     "name": "stderr",
     "output_type": "stream",
     "text": [
      "/var/folders/bq/hl737msd54q59fzf7spf0r7h0000gn/T/ipykernel_94455/3928689563.py:15: RuntimeWarning: Concatenation of Annotations within Epochs is not supported yet. All annotations will be dropped.\n",
      "  epochs_all = epochs if epochs_all is None else mne.concatenate_epochs([epochs_all, epochs])\n"
     ]
    },
    {
     "name": "stdout",
     "output_type": "stream",
     "text": [
      "Reading /Users/jonasmago/PhD_code_data/github/eeg_jhana/notebooks/preprocessing/../../data/mne_raw_epochs_ar/mindfulness_mmn/sub2-day4-mindfulness_mmn-raw_phot-events_epo.fif ...\n",
      "    Found the data of interest:\n",
      "        t =     -50.78 ...    1000.00 ms\n",
      "        0 CTF compensation matrices available\n",
      "Not setting metadata\n",
      "243 matching events found\n",
      "No baseline correction applied\n",
      "0 projection items activated\n",
      "Not setting metadata\n",
      "3464 matching events found\n",
      "Applying baseline correction (mode: mean)\n"
     ]
    },
    {
     "name": "stderr",
     "output_type": "stream",
     "text": [
      "/var/folders/bq/hl737msd54q59fzf7spf0r7h0000gn/T/ipykernel_94455/3928689563.py:15: RuntimeWarning: Concatenation of Annotations within Epochs is not supported yet. All annotations will be dropped.\n",
      "  epochs_all = epochs if epochs_all is None else mne.concatenate_epochs([epochs_all, epochs])\n"
     ]
    },
    {
     "name": "stdout",
     "output_type": "stream",
     "text": [
      "Reading /Users/jonasmago/PhD_code_data/github/eeg_jhana/notebooks/preprocessing/../../data/mne_raw_epochs_ar/mindfulness_mmn/sub3-day1-mindfulness_mmn-raw_phot-events_epo.fif ...\n",
      "    Found the data of interest:\n",
      "        t =     -50.78 ...    1000.00 ms\n",
      "        0 CTF compensation matrices available\n",
      "Not setting metadata\n",
      "181 matching events found\n",
      "No baseline correction applied\n",
      "0 projection items activated\n",
      "Not setting metadata\n",
      "3645 matching events found\n",
      "Applying baseline correction (mode: mean)\n"
     ]
    },
    {
     "name": "stderr",
     "output_type": "stream",
     "text": [
      "/var/folders/bq/hl737msd54q59fzf7spf0r7h0000gn/T/ipykernel_94455/3928689563.py:15: RuntimeWarning: Concatenation of Annotations within Epochs is not supported yet. All annotations will be dropped.\n",
      "  epochs_all = epochs if epochs_all is None else mne.concatenate_epochs([epochs_all, epochs])\n"
     ]
    },
    {
     "name": "stdout",
     "output_type": "stream",
     "text": [
      "Reading /Users/jonasmago/PhD_code_data/github/eeg_jhana/notebooks/preprocessing/../../data/mne_raw_epochs_ar/mindfulness_mmn/sub3-day3-mindfulness_mmn-raw_phot-events_epo.fif ...\n",
      "    Found the data of interest:\n",
      "        t =     -50.78 ...    1000.00 ms\n",
      "        0 CTF compensation matrices available\n",
      "Not setting metadata\n",
      "206 matching events found\n",
      "No baseline correction applied\n",
      "0 projection items activated\n",
      "Not setting metadata\n",
      "3851 matching events found\n",
      "Applying baseline correction (mode: mean)\n"
     ]
    },
    {
     "name": "stderr",
     "output_type": "stream",
     "text": [
      "/var/folders/bq/hl737msd54q59fzf7spf0r7h0000gn/T/ipykernel_94455/3928689563.py:15: RuntimeWarning: Concatenation of Annotations within Epochs is not supported yet. All annotations will be dropped.\n",
      "  epochs_all = epochs if epochs_all is None else mne.concatenate_epochs([epochs_all, epochs])\n"
     ]
    },
    {
     "name": "stdout",
     "output_type": "stream",
     "text": [
      "Reading /Users/jonasmago/PhD_code_data/github/eeg_jhana/notebooks/preprocessing/../../data/mne_raw_epochs_ar/mindfulness_mmn/sub3-day4-mindfulness_mmn-raw_phot-events_epo.fif ...\n",
      "    Found the data of interest:\n",
      "        t =     -50.78 ...    1000.00 ms\n",
      "        0 CTF compensation matrices available\n",
      "Not setting metadata\n",
      "309 matching events found\n",
      "No baseline correction applied\n",
      "0 projection items activated\n",
      "Not setting metadata\n",
      "4160 matching events found\n",
      "Applying baseline correction (mode: mean)\n"
     ]
    },
    {
     "name": "stderr",
     "output_type": "stream",
     "text": [
      "/var/folders/bq/hl737msd54q59fzf7spf0r7h0000gn/T/ipykernel_94455/3928689563.py:15: RuntimeWarning: Concatenation of Annotations within Epochs is not supported yet. All annotations will be dropped.\n",
      "  epochs_all = epochs if epochs_all is None else mne.concatenate_epochs([epochs_all, epochs])\n"
     ]
    },
    {
     "name": "stdout",
     "output_type": "stream",
     "text": [
      "Reading /Users/jonasmago/PhD_code_data/github/eeg_jhana/notebooks/preprocessing/../../data/mne_raw_epochs_ar/mindfulness_mmn/sub4-day1-mindfulness_mmn-raw_phot-events_epo.fif ...\n",
      "    Found the data of interest:\n",
      "        t =     -50.78 ...    1000.00 ms\n",
      "        0 CTF compensation matrices available\n",
      "Not setting metadata\n",
      "265 matching events found\n",
      "No baseline correction applied\n",
      "0 projection items activated\n",
      "Not setting metadata\n",
      "4425 matching events found\n",
      "Applying baseline correction (mode: mean)\n"
     ]
    },
    {
     "name": "stderr",
     "output_type": "stream",
     "text": [
      "/var/folders/bq/hl737msd54q59fzf7spf0r7h0000gn/T/ipykernel_94455/3928689563.py:15: RuntimeWarning: Concatenation of Annotations within Epochs is not supported yet. All annotations will be dropped.\n",
      "  epochs_all = epochs if epochs_all is None else mne.concatenate_epochs([epochs_all, epochs])\n"
     ]
    },
    {
     "name": "stdout",
     "output_type": "stream",
     "text": [
      "Reading /Users/jonasmago/PhD_code_data/github/eeg_jhana/notebooks/preprocessing/../../data/mne_raw_epochs_ar/mindfulness_mmn/sub4-day2-mindfulness_mmn-raw_phot-events_epo.fif ...\n",
      "    Found the data of interest:\n",
      "        t =     -50.78 ...    1000.00 ms\n",
      "        0 CTF compensation matrices available\n",
      "Not setting metadata\n",
      "285 matching events found\n",
      "No baseline correction applied\n",
      "0 projection items activated\n",
      "Not setting metadata\n",
      "4710 matching events found\n",
      "Applying baseline correction (mode: mean)\n"
     ]
    },
    {
     "name": "stderr",
     "output_type": "stream",
     "text": [
      "/var/folders/bq/hl737msd54q59fzf7spf0r7h0000gn/T/ipykernel_94455/3928689563.py:15: RuntimeWarning: Concatenation of Annotations within Epochs is not supported yet. All annotations will be dropped.\n",
      "  epochs_all = epochs if epochs_all is None else mne.concatenate_epochs([epochs_all, epochs])\n"
     ]
    },
    {
     "name": "stdout",
     "output_type": "stream",
     "text": [
      "Reading /Users/jonasmago/PhD_code_data/github/eeg_jhana/notebooks/preprocessing/../../data/mne_raw_epochs_ar/mindfulness_mmn/sub4-day3-mindfulness_mmn-raw_phot-events_epo.fif ...\n",
      "    Found the data of interest:\n",
      "        t =     -50.78 ...    1000.00 ms\n",
      "        0 CTF compensation matrices available\n",
      "Not setting metadata\n",
      "339 matching events found\n",
      "No baseline correction applied\n",
      "0 projection items activated\n",
      "Not setting metadata\n",
      "5049 matching events found\n",
      "Applying baseline correction (mode: mean)\n"
     ]
    },
    {
     "name": "stderr",
     "output_type": "stream",
     "text": [
      "/var/folders/bq/hl737msd54q59fzf7spf0r7h0000gn/T/ipykernel_94455/3928689563.py:15: RuntimeWarning: Concatenation of Annotations within Epochs is not supported yet. All annotations will be dropped.\n",
      "  epochs_all = epochs if epochs_all is None else mne.concatenate_epochs([epochs_all, epochs])\n"
     ]
    },
    {
     "name": "stdout",
     "output_type": "stream",
     "text": [
      "Reading /Users/jonasmago/PhD_code_data/github/eeg_jhana/notebooks/preprocessing/../../data/mne_raw_epochs_ar/mindfulness_mmn/sub4-day4-mindfulness_mmn-raw_phot-events_epo.fif ...\n",
      "    Found the data of interest:\n",
      "        t =     -50.78 ...    1000.00 ms\n",
      "        0 CTF compensation matrices available\n",
      "Not setting metadata\n",
      "370 matching events found\n",
      "No baseline correction applied\n",
      "0 projection items activated\n",
      "Not setting metadata\n",
      "5419 matching events found\n",
      "Applying baseline correction (mode: mean)\n"
     ]
    },
    {
     "name": "stderr",
     "output_type": "stream",
     "text": [
      "/var/folders/bq/hl737msd54q59fzf7spf0r7h0000gn/T/ipykernel_94455/3928689563.py:15: RuntimeWarning: Concatenation of Annotations within Epochs is not supported yet. All annotations will be dropped.\n",
      "  epochs_all = epochs if epochs_all is None else mne.concatenate_epochs([epochs_all, epochs])\n"
     ]
    },
    {
     "name": "stdout",
     "output_type": "stream",
     "text": [
      "Reading /Users/jonasmago/PhD_code_data/github/eeg_jhana/notebooks/preprocessing/../../data/mne_raw_epochs_ar/mindfulness_mmn/sub5-day1-mindfulness_mmn-raw_phot-events_epo.fif ...\n",
      "    Found the data of interest:\n",
      "        t =     -50.78 ...    1000.00 ms\n",
      "        0 CTF compensation matrices available\n",
      "Not setting metadata\n",
      "370 matching events found\n",
      "No baseline correction applied\n",
      "0 projection items activated\n",
      "Not setting metadata\n",
      "5789 matching events found\n",
      "Applying baseline correction (mode: mean)\n"
     ]
    },
    {
     "name": "stderr",
     "output_type": "stream",
     "text": [
      "/var/folders/bq/hl737msd54q59fzf7spf0r7h0000gn/T/ipykernel_94455/3928689563.py:15: RuntimeWarning: Concatenation of Annotations within Epochs is not supported yet. All annotations will be dropped.\n",
      "  epochs_all = epochs if epochs_all is None else mne.concatenate_epochs([epochs_all, epochs])\n"
     ]
    },
    {
     "name": "stdout",
     "output_type": "stream",
     "text": [
      "Reading /Users/jonasmago/PhD_code_data/github/eeg_jhana/notebooks/preprocessing/../../data/mne_raw_epochs_ar/mindfulness_mmn/sub5-day2-mindfulness_mmn-raw_phot-events_epo.fif ...\n",
      "    Found the data of interest:\n",
      "        t =     -50.78 ...    1000.00 ms\n",
      "        0 CTF compensation matrices available\n",
      "Not setting metadata\n",
      "370 matching events found\n",
      "No baseline correction applied\n",
      "0 projection items activated\n",
      "Not setting metadata\n",
      "6159 matching events found\n",
      "Applying baseline correction (mode: mean)\n"
     ]
    },
    {
     "name": "stderr",
     "output_type": "stream",
     "text": [
      "/var/folders/bq/hl737msd54q59fzf7spf0r7h0000gn/T/ipykernel_94455/3928689563.py:15: RuntimeWarning: Concatenation of Annotations within Epochs is not supported yet. All annotations will be dropped.\n",
      "  epochs_all = epochs if epochs_all is None else mne.concatenate_epochs([epochs_all, epochs])\n"
     ]
    },
    {
     "name": "stdout",
     "output_type": "stream",
     "text": [
      "Reading /Users/jonasmago/PhD_code_data/github/eeg_jhana/notebooks/preprocessing/../../data/mne_raw_epochs_ar/mindfulness_mmn/sub5-day3-mindfulness_mmn-raw_phot-events_epo.fif ...\n",
      "    Found the data of interest:\n",
      "        t =     -50.78 ...    1000.00 ms\n",
      "        0 CTF compensation matrices available\n",
      "Not setting metadata\n",
      "368 matching events found\n",
      "No baseline correction applied\n",
      "0 projection items activated\n",
      "Not setting metadata\n",
      "6527 matching events found\n",
      "Applying baseline correction (mode: mean)\n"
     ]
    },
    {
     "name": "stderr",
     "output_type": "stream",
     "text": [
      "/var/folders/bq/hl737msd54q59fzf7spf0r7h0000gn/T/ipykernel_94455/3928689563.py:15: RuntimeWarning: Concatenation of Annotations within Epochs is not supported yet. All annotations will be dropped.\n",
      "  epochs_all = epochs if epochs_all is None else mne.concatenate_epochs([epochs_all, epochs])\n"
     ]
    },
    {
     "name": "stdout",
     "output_type": "stream",
     "text": [
      "Reading /Users/jonasmago/PhD_code_data/github/eeg_jhana/notebooks/preprocessing/../../data/mne_raw_epochs_ar/mindfulness_mmn/sub5-day4-mindfulness_mmn-raw_phot-events_epo.fif ...\n",
      "    Found the data of interest:\n",
      "        t =     -50.78 ...    1000.00 ms\n",
      "        0 CTF compensation matrices available\n",
      "Not setting metadata\n",
      "299 matching events found\n",
      "No baseline correction applied\n",
      "0 projection items activated\n",
      "Not setting metadata\n",
      "6826 matching events found\n",
      "Applying baseline correction (mode: mean)\n"
     ]
    },
    {
     "name": "stderr",
     "output_type": "stream",
     "text": [
      "/var/folders/bq/hl737msd54q59fzf7spf0r7h0000gn/T/ipykernel_94455/3928689563.py:15: RuntimeWarning: Concatenation of Annotations within Epochs is not supported yet. All annotations will be dropped.\n",
      "  epochs_all = epochs if epochs_all is None else mne.concatenate_epochs([epochs_all, epochs])\n"
     ]
    },
    {
     "name": "stdout",
     "output_type": "stream",
     "text": [
      "Reading /Users/jonasmago/PhD_code_data/github/eeg_jhana/notebooks/preprocessing/../../data/mne_raw_epochs_ar/mindfulness_mmn/sub6-day1-mindfulness_mmn-raw_phot-events_epo.fif ...\n",
      "    Found the data of interest:\n",
      "        t =     -50.78 ...    1000.00 ms\n",
      "        0 CTF compensation matrices available\n",
      "Not setting metadata\n",
      "295 matching events found\n",
      "No baseline correction applied\n",
      "0 projection items activated\n",
      "Not setting metadata\n",
      "7121 matching events found\n",
      "Applying baseline correction (mode: mean)\n"
     ]
    },
    {
     "name": "stderr",
     "output_type": "stream",
     "text": [
      "/var/folders/bq/hl737msd54q59fzf7spf0r7h0000gn/T/ipykernel_94455/3928689563.py:15: RuntimeWarning: Concatenation of Annotations within Epochs is not supported yet. All annotations will be dropped.\n",
      "  epochs_all = epochs if epochs_all is None else mne.concatenate_epochs([epochs_all, epochs])\n"
     ]
    },
    {
     "name": "stdout",
     "output_type": "stream",
     "text": [
      "Reading /Users/jonasmago/PhD_code_data/github/eeg_jhana/notebooks/preprocessing/../../data/mne_raw_epochs_ar/mindfulness_mmn/sub6-day2-mindfulness_mmn-raw_phot-events_epo.fif ...\n",
      "    Found the data of interest:\n",
      "        t =     -50.78 ...    1000.00 ms\n",
      "        0 CTF compensation matrices available\n",
      "Not setting metadata\n",
      "347 matching events found\n",
      "No baseline correction applied\n",
      "0 projection items activated\n",
      "Not setting metadata\n",
      "7468 matching events found\n",
      "Applying baseline correction (mode: mean)\n"
     ]
    },
    {
     "name": "stderr",
     "output_type": "stream",
     "text": [
      "/var/folders/bq/hl737msd54q59fzf7spf0r7h0000gn/T/ipykernel_94455/3928689563.py:15: RuntimeWarning: Concatenation of Annotations within Epochs is not supported yet. All annotations will be dropped.\n",
      "  epochs_all = epochs if epochs_all is None else mne.concatenate_epochs([epochs_all, epochs])\n"
     ]
    },
    {
     "name": "stdout",
     "output_type": "stream",
     "text": [
      "Reading /Users/jonasmago/PhD_code_data/github/eeg_jhana/notebooks/preprocessing/../../data/mne_raw_epochs_ar/mindfulness_mmn/sub6-day3-mindfulness_mmn-raw_phot-events_epo.fif ...\n",
      "    Found the data of interest:\n",
      "        t =     -50.78 ...    1000.00 ms\n",
      "        0 CTF compensation matrices available\n",
      "Not setting metadata\n",
      "184 matching events found\n",
      "No baseline correction applied\n",
      "0 projection items activated\n",
      "Not setting metadata\n",
      "7652 matching events found\n",
      "Applying baseline correction (mode: mean)\n"
     ]
    },
    {
     "name": "stderr",
     "output_type": "stream",
     "text": [
      "/var/folders/bq/hl737msd54q59fzf7spf0r7h0000gn/T/ipykernel_94455/3928689563.py:15: RuntimeWarning: Concatenation of Annotations within Epochs is not supported yet. All annotations will be dropped.\n",
      "  epochs_all = epochs if epochs_all is None else mne.concatenate_epochs([epochs_all, epochs])\n"
     ]
    },
    {
     "name": "stdout",
     "output_type": "stream",
     "text": [
      "Reading /Users/jonasmago/PhD_code_data/github/eeg_jhana/notebooks/preprocessing/../../data/mne_raw_epochs_ar/mindfulness_mmn/sub6-day4-mindfulness_mmn-raw_phot-events_epo.fif ...\n",
      "    Found the data of interest:\n",
      "        t =     -50.78 ...    1000.00 ms\n",
      "        0 CTF compensation matrices available\n",
      "Not setting metadata\n",
      "238 matching events found\n",
      "No baseline correction applied\n",
      "0 projection items activated\n",
      "Not setting metadata\n",
      "7890 matching events found\n",
      "Applying baseline correction (mode: mean)\n"
     ]
    },
    {
     "name": "stderr",
     "output_type": "stream",
     "text": [
      "/var/folders/bq/hl737msd54q59fzf7spf0r7h0000gn/T/ipykernel_94455/3928689563.py:15: RuntimeWarning: Concatenation of Annotations within Epochs is not supported yet. All annotations will be dropped.\n",
      "  epochs_all = epochs if epochs_all is None else mne.concatenate_epochs([epochs_all, epochs])\n"
     ]
    },
    {
     "name": "stdout",
     "output_type": "stream",
     "text": [
      "Reading /Users/jonasmago/PhD_code_data/github/eeg_jhana/notebooks/preprocessing/../../data/mne_raw_epochs_ar/mindfulness_mmn/sub7-day1-mindfulness_mmn-raw_phot-events_epo.fif ...\n",
      "    Found the data of interest:\n",
      "        t =     -50.78 ...    1000.00 ms\n",
      "        0 CTF compensation matrices available\n",
      "Not setting metadata\n",
      "359 matching events found\n",
      "No baseline correction applied\n",
      "0 projection items activated\n",
      "Not setting metadata\n",
      "8249 matching events found\n",
      "Applying baseline correction (mode: mean)\n"
     ]
    },
    {
     "name": "stderr",
     "output_type": "stream",
     "text": [
      "/var/folders/bq/hl737msd54q59fzf7spf0r7h0000gn/T/ipykernel_94455/3928689563.py:15: RuntimeWarning: Concatenation of Annotations within Epochs is not supported yet. All annotations will be dropped.\n",
      "  epochs_all = epochs if epochs_all is None else mne.concatenate_epochs([epochs_all, epochs])\n"
     ]
    },
    {
     "name": "stdout",
     "output_type": "stream",
     "text": [
      "Reading /Users/jonasmago/PhD_code_data/github/eeg_jhana/notebooks/preprocessing/../../data/mne_raw_epochs_ar/mindfulness_mmn/sub7-day2-mindfulness_mmn-raw_phot-events_epo.fif ...\n",
      "    Found the data of interest:\n",
      "        t =     -50.78 ...    1000.00 ms\n",
      "        0 CTF compensation matrices available\n",
      "Not setting metadata\n",
      "370 matching events found\n",
      "No baseline correction applied\n",
      "0 projection items activated\n",
      "Not setting metadata\n",
      "8619 matching events found\n",
      "Applying baseline correction (mode: mean)\n"
     ]
    },
    {
     "name": "stderr",
     "output_type": "stream",
     "text": [
      "/var/folders/bq/hl737msd54q59fzf7spf0r7h0000gn/T/ipykernel_94455/3928689563.py:15: RuntimeWarning: Concatenation of Annotations within Epochs is not supported yet. All annotations will be dropped.\n",
      "  epochs_all = epochs if epochs_all is None else mne.concatenate_epochs([epochs_all, epochs])\n"
     ]
    },
    {
     "name": "stdout",
     "output_type": "stream",
     "text": [
      "Reading /Users/jonasmago/PhD_code_data/github/eeg_jhana/notebooks/preprocessing/../../data/mne_raw_epochs_ar/mindfulness_mmn/sub7-day3-mindfulness_mmn-raw_phot-events_epo.fif ...\n",
      "    Found the data of interest:\n",
      "        t =     -50.78 ...    1000.00 ms\n",
      "        0 CTF compensation matrices available\n",
      "Not setting metadata\n",
      "358 matching events found\n",
      "No baseline correction applied\n",
      "0 projection items activated\n",
      "Not setting metadata\n",
      "8977 matching events found\n",
      "Applying baseline correction (mode: mean)\n"
     ]
    },
    {
     "name": "stderr",
     "output_type": "stream",
     "text": [
      "/var/folders/bq/hl737msd54q59fzf7spf0r7h0000gn/T/ipykernel_94455/3928689563.py:15: RuntimeWarning: Concatenation of Annotations within Epochs is not supported yet. All annotations will be dropped.\n",
      "  epochs_all = epochs if epochs_all is None else mne.concatenate_epochs([epochs_all, epochs])\n"
     ]
    },
    {
     "name": "stdout",
     "output_type": "stream",
     "text": [
      "Reading /Users/jonasmago/PhD_code_data/github/eeg_jhana/notebooks/preprocessing/../../data/mne_raw_epochs_ar/mindfulness_mmn/sub7-day4-mindfulness_mmn-raw_phot-events_epo.fif ...\n",
      "    Found the data of interest:\n",
      "        t =     -50.78 ...    1000.00 ms\n",
      "        0 CTF compensation matrices available\n",
      "Not setting metadata\n",
      "45 matching events found\n",
      "No baseline correction applied\n",
      "0 projection items activated\n",
      "Not setting metadata\n",
      "9022 matching events found\n",
      "Applying baseline correction (mode: mean)\n"
     ]
    },
    {
     "name": "stderr",
     "output_type": "stream",
     "text": [
      "/var/folders/bq/hl737msd54q59fzf7spf0r7h0000gn/T/ipykernel_94455/3928689563.py:15: RuntimeWarning: Concatenation of Annotations within Epochs is not supported yet. All annotations will be dropped.\n",
      "  epochs_all = epochs if epochs_all is None else mne.concatenate_epochs([epochs_all, epochs])\n"
     ]
    },
    {
     "name": "stdout",
     "output_type": "stream",
     "text": [
      "Reading /Users/jonasmago/PhD_code_data/github/eeg_jhana/notebooks/preprocessing/../../data/mne_raw_epochs_ar/mindfulness_mmn/sub8-day1-mindfulness_mmn-raw_phot-events_epo.fif ...\n",
      "    Found the data of interest:\n",
      "        t =     -50.78 ...    1000.00 ms\n",
      "        0 CTF compensation matrices available\n",
      "Not setting metadata\n",
      "354 matching events found\n",
      "No baseline correction applied\n",
      "0 projection items activated\n"
     ]
    },
    {
     "name": "stderr",
     "output_type": "stream",
     "text": [
      "/var/folders/bq/hl737msd54q59fzf7spf0r7h0000gn/T/ipykernel_94455/3928689563.py:15: RuntimeWarning: Concatenation of Annotations within Epochs is not supported yet. All annotations will be dropped.\n",
      "  epochs_all = epochs if epochs_all is None else mne.concatenate_epochs([epochs_all, epochs])\n"
     ]
    },
    {
     "name": "stdout",
     "output_type": "stream",
     "text": [
      "Not setting metadata\n",
      "9376 matching events found\n",
      "Applying baseline correction (mode: mean)\n",
      "Reading /Users/jonasmago/PhD_code_data/github/eeg_jhana/notebooks/preprocessing/../../data/mne_raw_epochs_ar/mindfulness_mmn/sub8-day2-mindfulness_mmn-raw_phot-events_epo.fif ...\n",
      "    Found the data of interest:\n",
      "        t =     -50.78 ...    1000.00 ms\n",
      "        0 CTF compensation matrices available\n",
      "Not setting metadata\n",
      "270 matching events found\n",
      "No baseline correction applied\n",
      "0 projection items activated\n",
      "Not setting metadata\n",
      "9646 matching events found\n",
      "Applying baseline correction (mode: mean)\n"
     ]
    },
    {
     "name": "stderr",
     "output_type": "stream",
     "text": [
      "/var/folders/bq/hl737msd54q59fzf7spf0r7h0000gn/T/ipykernel_94455/3928689563.py:15: RuntimeWarning: Concatenation of Annotations within Epochs is not supported yet. All annotations will be dropped.\n",
      "  epochs_all = epochs if epochs_all is None else mne.concatenate_epochs([epochs_all, epochs])\n"
     ]
    },
    {
     "name": "stdout",
     "output_type": "stream",
     "text": [
      "Reading /Users/jonasmago/PhD_code_data/github/eeg_jhana/notebooks/preprocessing/../../data/mne_raw_epochs_ar/mindfulness_mmn/sub8-day3-mindfulness_mmn-raw_phot-events_epo.fif ...\n",
      "    Found the data of interest:\n",
      "        t =     -50.78 ...    1000.00 ms\n",
      "        0 CTF compensation matrices available\n",
      "Not setting metadata\n",
      "255 matching events found\n",
      "No baseline correction applied\n",
      "0 projection items activated\n"
     ]
    },
    {
     "name": "stderr",
     "output_type": "stream",
     "text": [
      "/var/folders/bq/hl737msd54q59fzf7spf0r7h0000gn/T/ipykernel_94455/3928689563.py:15: RuntimeWarning: Concatenation of Annotations within Epochs is not supported yet. All annotations will be dropped.\n",
      "  epochs_all = epochs if epochs_all is None else mne.concatenate_epochs([epochs_all, epochs])\n"
     ]
    },
    {
     "name": "stdout",
     "output_type": "stream",
     "text": [
      "Not setting metadata\n",
      "9901 matching events found\n",
      "Applying baseline correction (mode: mean)\n",
      "Reading /Users/jonasmago/PhD_code_data/github/eeg_jhana/notebooks/preprocessing/../../data/mne_raw_epochs_ar/mindfulness_mmn/sub8-day4-mindfulness_mmn-raw_phot-events_epo.fif ...\n",
      "    Found the data of interest:\n",
      "        t =     -50.78 ...    1000.00 ms\n",
      "        0 CTF compensation matrices available\n",
      "Not setting metadata\n",
      "303 matching events found\n",
      "No baseline correction applied\n",
      "0 projection items activated\n"
     ]
    },
    {
     "name": "stderr",
     "output_type": "stream",
     "text": [
      "/var/folders/bq/hl737msd54q59fzf7spf0r7h0000gn/T/ipykernel_94455/3928689563.py:15: RuntimeWarning: Concatenation of Annotations within Epochs is not supported yet. All annotations will be dropped.\n",
      "  epochs_all = epochs if epochs_all is None else mne.concatenate_epochs([epochs_all, epochs])\n"
     ]
    },
    {
     "name": "stdout",
     "output_type": "stream",
     "text": [
      "Not setting metadata\n",
      "10204 matching events found\n",
      "Applying baseline correction (mode: mean)\n",
      "Reading /Users/jonasmago/PhD_code_data/github/eeg_jhana/notebooks/preprocessing/../../data/mne_raw_epochs_ar/mindfulness_mmn/sub9-day1-mindfulness_mmn-raw_phot-events_epo.fif ...\n",
      "    Found the data of interest:\n",
      "        t =     -50.78 ...    1000.00 ms\n",
      "        0 CTF compensation matrices available\n",
      "Not setting metadata\n",
      "325 matching events found\n",
      "No baseline correction applied\n",
      "0 projection items activated\n"
     ]
    },
    {
     "name": "stderr",
     "output_type": "stream",
     "text": [
      "/var/folders/bq/hl737msd54q59fzf7spf0r7h0000gn/T/ipykernel_94455/3928689563.py:15: RuntimeWarning: Concatenation of Annotations within Epochs is not supported yet. All annotations will be dropped.\n",
      "  epochs_all = epochs if epochs_all is None else mne.concatenate_epochs([epochs_all, epochs])\n"
     ]
    },
    {
     "name": "stdout",
     "output_type": "stream",
     "text": [
      "Not setting metadata\n",
      "10529 matching events found\n",
      "Applying baseline correction (mode: mean)\n",
      "Reading /Users/jonasmago/PhD_code_data/github/eeg_jhana/notebooks/preprocessing/../../data/mne_raw_epochs_ar/mindfulness_mmn/sub9-day2-mindfulness_mmn-raw_phot-events_epo.fif ...\n",
      "    Found the data of interest:\n",
      "        t =     -50.78 ...    1000.00 ms\n",
      "        0 CTF compensation matrices available\n",
      "Not setting metadata\n",
      "311 matching events found\n",
      "No baseline correction applied\n",
      "0 projection items activated\n"
     ]
    },
    {
     "name": "stderr",
     "output_type": "stream",
     "text": [
      "/var/folders/bq/hl737msd54q59fzf7spf0r7h0000gn/T/ipykernel_94455/3928689563.py:15: RuntimeWarning: Concatenation of Annotations within Epochs is not supported yet. All annotations will be dropped.\n",
      "  epochs_all = epochs if epochs_all is None else mne.concatenate_epochs([epochs_all, epochs])\n"
     ]
    },
    {
     "name": "stdout",
     "output_type": "stream",
     "text": [
      "Not setting metadata\n",
      "10840 matching events found\n",
      "Applying baseline correction (mode: mean)\n",
      "Reading /Users/jonasmago/PhD_code_data/github/eeg_jhana/notebooks/preprocessing/../../data/mne_raw_epochs_ar/mindfulness_mmn/sub9-day3-mindfulness_mmn-raw_phot-events_epo.fif ...\n",
      "    Found the data of interest:\n",
      "        t =     -50.78 ...    1000.00 ms\n",
      "        0 CTF compensation matrices available\n",
      "Not setting metadata\n",
      "367 matching events found\n",
      "No baseline correction applied\n",
      "0 projection items activated\n"
     ]
    },
    {
     "name": "stderr",
     "output_type": "stream",
     "text": [
      "/var/folders/bq/hl737msd54q59fzf7spf0r7h0000gn/T/ipykernel_94455/3928689563.py:15: RuntimeWarning: Concatenation of Annotations within Epochs is not supported yet. All annotations will be dropped.\n",
      "  epochs_all = epochs if epochs_all is None else mne.concatenate_epochs([epochs_all, epochs])\n"
     ]
    },
    {
     "name": "stdout",
     "output_type": "stream",
     "text": [
      "Not setting metadata\n",
      "11207 matching events found\n",
      "Applying baseline correction (mode: mean)\n",
      "Reading /Users/jonasmago/PhD_code_data/github/eeg_jhana/notebooks/preprocessing/../../data/mne_raw_epochs_ar/mindfulness_mmn/sub9-day4-mindfulness_mmn-raw_phot-events_epo.fif ...\n",
      "    Found the data of interest:\n",
      "        t =     -50.78 ...    1000.00 ms\n",
      "        0 CTF compensation matrices available\n",
      "Not setting metadata\n",
      "297 matching events found\n",
      "No baseline correction applied\n",
      "0 projection items activated\n"
     ]
    },
    {
     "name": "stderr",
     "output_type": "stream",
     "text": [
      "/var/folders/bq/hl737msd54q59fzf7spf0r7h0000gn/T/ipykernel_94455/3928689563.py:15: RuntimeWarning: Concatenation of Annotations within Epochs is not supported yet. All annotations will be dropped.\n",
      "  epochs_all = epochs if epochs_all is None else mne.concatenate_epochs([epochs_all, epochs])\n"
     ]
    },
    {
     "name": "stdout",
     "output_type": "stream",
     "text": [
      "Not setting metadata\n",
      "11504 matching events found\n",
      "Applying baseline correction (mode: mean)\n"
     ]
    },
    {
     "name": "stderr",
     "output_type": "stream",
     "text": [
      "/var/folders/bq/hl737msd54q59fzf7spf0r7h0000gn/T/ipykernel_94455/3928689563.py:18: RuntimeWarning: This filename (../../data/mne_raw_epochs_ar_all/mindfulness_mmn.fif) does not conform to MNE naming conventions. All epochs files should end with -epo.fif, -epo.fif.gz, _epo.fif or _epo.fif.gz\n",
      "  epochs_all.save(f\"../../data/mne_raw_epochs_ar_all/{condition}.fif\", overwrite=True)\n"
     ]
    },
    {
     "name": "stdout",
     "output_type": "stream",
     "text": [
      "Reading /Users/jonasmago/PhD_code_data/github/eeg_jhana/notebooks/preprocessing/../../data/mne_raw_epochs_ar/control_mmn/sub0-control-mindfulness_mmn-raw_phot-events_epo.fif ...\n",
      "    Found the data of interest:\n",
      "        t =     -50.78 ...    1000.00 ms\n",
      "        0 CTF compensation matrices available\n",
      "Not setting metadata\n",
      "225 matching events found\n",
      "No baseline correction applied\n",
      "0 projection items activated\n",
      "Reading /Users/jonasmago/PhD_code_data/github/eeg_jhana/notebooks/preprocessing/../../data/mne_raw_epochs_ar/control_mmn/sub1-control-mindfulness_mmn-raw_phot-events_epo.fif ...\n",
      "    Found the data of interest:\n",
      "        t =     -50.78 ...    1000.00 ms\n",
      "        0 CTF compensation matrices available\n",
      "Not setting metadata\n",
      "367 matching events found\n",
      "No baseline correction applied\n",
      "0 projection items activated\n",
      "Not setting metadata\n",
      "592 matching events found\n",
      "Applying baseline correction (mode: mean)\n",
      "Reading /Users/jonasmago/PhD_code_data/github/eeg_jhana/notebooks/preprocessing/../../data/mne_raw_epochs_ar/control_mmn/sub10-control-mindfulness_mmn-raw_phot-events_epo.fif ...\n",
      "    Found the data of interest:\n",
      "        t =     -50.78 ...    1000.00 ms\n",
      "        0 CTF compensation matrices available\n",
      "Not setting metadata\n",
      "370 matching events found\n",
      "No baseline correction applied\n",
      "0 projection items activated\n",
      "Not setting metadata\n",
      "962 matching events found\n",
      "Applying baseline correction (mode: mean)\n",
      "Reading /Users/jonasmago/PhD_code_data/github/eeg_jhana/notebooks/preprocessing/../../data/mne_raw_epochs_ar/control_mmn/sub11-control-mindfulness_mmn-raw_phot-events_epo.fif ...\n"
     ]
    },
    {
     "name": "stderr",
     "output_type": "stream",
     "text": [
      "/var/folders/bq/hl737msd54q59fzf7spf0r7h0000gn/T/ipykernel_94455/3928689563.py:15: RuntimeWarning: Concatenation of Annotations within Epochs is not supported yet. All annotations will be dropped.\n",
      "  epochs_all = epochs if epochs_all is None else mne.concatenate_epochs([epochs_all, epochs])\n",
      "/var/folders/bq/hl737msd54q59fzf7spf0r7h0000gn/T/ipykernel_94455/3928689563.py:15: RuntimeWarning: Concatenation of Annotations within Epochs is not supported yet. All annotations will be dropped.\n",
      "  epochs_all = epochs if epochs_all is None else mne.concatenate_epochs([epochs_all, epochs])\n"
     ]
    },
    {
     "name": "stdout",
     "output_type": "stream",
     "text": [
      "    Found the data of interest:\n",
      "        t =     -50.78 ...    1000.00 ms\n",
      "        0 CTF compensation matrices available\n",
      "Not setting metadata\n",
      "370 matching events found\n",
      "No baseline correction applied\n",
      "0 projection items activated\n",
      "Not setting metadata\n",
      "1332 matching events found\n",
      "Applying baseline correction (mode: mean)\n",
      "Reading /Users/jonasmago/PhD_code_data/github/eeg_jhana/notebooks/preprocessing/../../data/mne_raw_epochs_ar/control_mmn/sub12-control-mindfulness_mmn-raw_phot-events_epo.fif ...\n",
      "    Found the data of interest:\n",
      "        t =     -50.78 ...    1000.00 ms\n",
      "        0 CTF compensation matrices available\n",
      "Not setting metadata\n",
      "350 matching events found\n",
      "No baseline correction applied\n",
      "0 projection items activated\n",
      "Not setting metadata\n",
      "1682 matching events found\n",
      "Applying baseline correction (mode: mean)\n"
     ]
    },
    {
     "name": "stderr",
     "output_type": "stream",
     "text": [
      "/var/folders/bq/hl737msd54q59fzf7spf0r7h0000gn/T/ipykernel_94455/3928689563.py:15: RuntimeWarning: Concatenation of Annotations within Epochs is not supported yet. All annotations will be dropped.\n",
      "  epochs_all = epochs if epochs_all is None else mne.concatenate_epochs([epochs_all, epochs])\n",
      "/var/folders/bq/hl737msd54q59fzf7spf0r7h0000gn/T/ipykernel_94455/3928689563.py:15: RuntimeWarning: Concatenation of Annotations within Epochs is not supported yet. All annotations will be dropped.\n",
      "  epochs_all = epochs if epochs_all is None else mne.concatenate_epochs([epochs_all, epochs])\n"
     ]
    },
    {
     "name": "stdout",
     "output_type": "stream",
     "text": [
      "Reading /Users/jonasmago/PhD_code_data/github/eeg_jhana/notebooks/preprocessing/../../data/mne_raw_epochs_ar/control_mmn/sub2-control-mindfulness_mmn-raw_phot-events_epo.fif ...\n",
      "    Found the data of interest:\n",
      "        t =     -50.78 ...    1000.00 ms\n",
      "        0 CTF compensation matrices available\n",
      "Not setting metadata\n",
      "361 matching events found\n",
      "No baseline correction applied\n",
      "0 projection items activated\n",
      "Not setting metadata\n",
      "2043 matching events found\n",
      "Applying baseline correction (mode: mean)\n"
     ]
    },
    {
     "name": "stderr",
     "output_type": "stream",
     "text": [
      "/var/folders/bq/hl737msd54q59fzf7spf0r7h0000gn/T/ipykernel_94455/3928689563.py:15: RuntimeWarning: Concatenation of Annotations within Epochs is not supported yet. All annotations will be dropped.\n",
      "  epochs_all = epochs if epochs_all is None else mne.concatenate_epochs([epochs_all, epochs])\n"
     ]
    },
    {
     "name": "stdout",
     "output_type": "stream",
     "text": [
      "Reading /Users/jonasmago/PhD_code_data/github/eeg_jhana/notebooks/preprocessing/../../data/mne_raw_epochs_ar/control_mmn/sub3-control-mindfulness_mmn-raw_phot-events_epo.fif ...\n",
      "    Found the data of interest:\n",
      "        t =     -50.78 ...    1000.00 ms\n",
      "        0 CTF compensation matrices available\n",
      "Not setting metadata\n",
      "314 matching events found\n",
      "No baseline correction applied\n",
      "0 projection items activated\n",
      "Not setting metadata\n",
      "2357 matching events found\n",
      "Applying baseline correction (mode: mean)\n"
     ]
    },
    {
     "name": "stderr",
     "output_type": "stream",
     "text": [
      "/var/folders/bq/hl737msd54q59fzf7spf0r7h0000gn/T/ipykernel_94455/3928689563.py:15: RuntimeWarning: Concatenation of Annotations within Epochs is not supported yet. All annotations will be dropped.\n",
      "  epochs_all = epochs if epochs_all is None else mne.concatenate_epochs([epochs_all, epochs])\n"
     ]
    },
    {
     "name": "stdout",
     "output_type": "stream",
     "text": [
      "Reading /Users/jonasmago/PhD_code_data/github/eeg_jhana/notebooks/preprocessing/../../data/mne_raw_epochs_ar/control_mmn/sub4-control-mindfulness_mmn-raw_phot-events_epo.fif ...\n",
      "    Found the data of interest:\n",
      "        t =     -50.78 ...    1000.00 ms\n",
      "        0 CTF compensation matrices available\n",
      "Not setting metadata\n",
      "227 matching events found\n",
      "No baseline correction applied\n",
      "0 projection items activated\n",
      "Not setting metadata\n",
      "2584 matching events found\n",
      "Applying baseline correction (mode: mean)\n"
     ]
    },
    {
     "name": "stderr",
     "output_type": "stream",
     "text": [
      "/var/folders/bq/hl737msd54q59fzf7spf0r7h0000gn/T/ipykernel_94455/3928689563.py:15: RuntimeWarning: Concatenation of Annotations within Epochs is not supported yet. All annotations will be dropped.\n",
      "  epochs_all = epochs if epochs_all is None else mne.concatenate_epochs([epochs_all, epochs])\n"
     ]
    },
    {
     "name": "stdout",
     "output_type": "stream",
     "text": [
      "Reading /Users/jonasmago/PhD_code_data/github/eeg_jhana/notebooks/preprocessing/../../data/mne_raw_epochs_ar/control_mmn/sub5-control-mindfulness_mmn-raw_phot-events_epo.fif ...\n",
      "    Found the data of interest:\n",
      "        t =     -50.78 ...    1000.00 ms\n",
      "        0 CTF compensation matrices available\n",
      "Not setting metadata\n",
      "340 matching events found\n",
      "No baseline correction applied\n",
      "0 projection items activated\n",
      "Not setting metadata\n",
      "2924 matching events found\n",
      "Applying baseline correction (mode: mean)\n"
     ]
    },
    {
     "name": "stderr",
     "output_type": "stream",
     "text": [
      "/var/folders/bq/hl737msd54q59fzf7spf0r7h0000gn/T/ipykernel_94455/3928689563.py:15: RuntimeWarning: Concatenation of Annotations within Epochs is not supported yet. All annotations will be dropped.\n",
      "  epochs_all = epochs if epochs_all is None else mne.concatenate_epochs([epochs_all, epochs])\n"
     ]
    },
    {
     "name": "stdout",
     "output_type": "stream",
     "text": [
      "Reading /Users/jonasmago/PhD_code_data/github/eeg_jhana/notebooks/preprocessing/../../data/mne_raw_epochs_ar/control_mmn/sub6-control-mindfulness_mmn-raw_phot-events_epo.fif ...\n",
      "    Found the data of interest:\n",
      "        t =     -50.78 ...    1000.00 ms\n",
      "        0 CTF compensation matrices available\n",
      "Not setting metadata\n",
      "332 matching events found\n",
      "No baseline correction applied\n",
      "0 projection items activated\n",
      "Not setting metadata\n",
      "3256 matching events found\n",
      "Applying baseline correction (mode: mean)\n"
     ]
    },
    {
     "name": "stderr",
     "output_type": "stream",
     "text": [
      "/var/folders/bq/hl737msd54q59fzf7spf0r7h0000gn/T/ipykernel_94455/3928689563.py:15: RuntimeWarning: Concatenation of Annotations within Epochs is not supported yet. All annotations will be dropped.\n",
      "  epochs_all = epochs if epochs_all is None else mne.concatenate_epochs([epochs_all, epochs])\n"
     ]
    },
    {
     "name": "stdout",
     "output_type": "stream",
     "text": [
      "Reading /Users/jonasmago/PhD_code_data/github/eeg_jhana/notebooks/preprocessing/../../data/mne_raw_epochs_ar/control_mmn/sub7-control-mindfulness_mmn-raw_phot-events_epo.fif ...\n",
      "    Found the data of interest:\n",
      "        t =     -50.78 ...    1000.00 ms\n",
      "        0 CTF compensation matrices available\n",
      "Not setting metadata\n",
      "362 matching events found\n",
      "No baseline correction applied\n",
      "0 projection items activated\n",
      "Not setting metadata\n",
      "3618 matching events found\n",
      "Applying baseline correction (mode: mean)\n"
     ]
    },
    {
     "name": "stderr",
     "output_type": "stream",
     "text": [
      "/var/folders/bq/hl737msd54q59fzf7spf0r7h0000gn/T/ipykernel_94455/3928689563.py:15: RuntimeWarning: Concatenation of Annotations within Epochs is not supported yet. All annotations will be dropped.\n",
      "  epochs_all = epochs if epochs_all is None else mne.concatenate_epochs([epochs_all, epochs])\n"
     ]
    },
    {
     "name": "stdout",
     "output_type": "stream",
     "text": [
      "Reading /Users/jonasmago/PhD_code_data/github/eeg_jhana/notebooks/preprocessing/../../data/mne_raw_epochs_ar/control_mmn/sub8-control-mindfulness_mmn-raw_phot-events_epo.fif ...\n",
      "    Found the data of interest:\n",
      "        t =     -50.78 ...    1000.00 ms\n",
      "        0 CTF compensation matrices available\n",
      "Not setting metadata\n",
      "370 matching events found\n",
      "No baseline correction applied\n",
      "0 projection items activated\n",
      "Not setting metadata\n",
      "3988 matching events found\n",
      "Applying baseline correction (mode: mean)\n"
     ]
    },
    {
     "name": "stderr",
     "output_type": "stream",
     "text": [
      "/var/folders/bq/hl737msd54q59fzf7spf0r7h0000gn/T/ipykernel_94455/3928689563.py:15: RuntimeWarning: Concatenation of Annotations within Epochs is not supported yet. All annotations will be dropped.\n",
      "  epochs_all = epochs if epochs_all is None else mne.concatenate_epochs([epochs_all, epochs])\n"
     ]
    },
    {
     "name": "stdout",
     "output_type": "stream",
     "text": [
      "Reading /Users/jonasmago/PhD_code_data/github/eeg_jhana/notebooks/preprocessing/../../data/mne_raw_epochs_ar/control_mmn/sub9-control-mindfulness_mmn-raw_phot-events_epo.fif ...\n",
      "    Found the data of interest:\n",
      "        t =     -50.78 ...    1000.00 ms\n",
      "        0 CTF compensation matrices available\n",
      "Not setting metadata\n",
      "370 matching events found\n",
      "No baseline correction applied\n",
      "0 projection items activated\n",
      "Not setting metadata\n",
      "4358 matching events found\n",
      "Applying baseline correction (mode: mean)\n"
     ]
    },
    {
     "name": "stderr",
     "output_type": "stream",
     "text": [
      "/var/folders/bq/hl737msd54q59fzf7spf0r7h0000gn/T/ipykernel_94455/3928689563.py:15: RuntimeWarning: Concatenation of Annotations within Epochs is not supported yet. All annotations will be dropped.\n",
      "  epochs_all = epochs if epochs_all is None else mne.concatenate_epochs([epochs_all, epochs])\n",
      "/var/folders/bq/hl737msd54q59fzf7spf0r7h0000gn/T/ipykernel_94455/3928689563.py:18: RuntimeWarning: This filename (../../data/mne_raw_epochs_ar_all/control_mmn.fif) does not conform to MNE naming conventions. All epochs files should end with -epo.fif, -epo.fif.gz, _epo.fif or _epo.fif.gz\n",
      "  epochs_all.save(f\"../../data/mne_raw_epochs_ar_all/{condition}.fif\", overwrite=True)\n"
     ]
    }
   ],
   "source": [
    "conditions = [\"jhana_mmn\", \"mindfulness_mmn\", \"control_mmn\"]\n",
    "\n",
    "for condition in conditions: \n",
    "    paths = glob.glob(f\"../../data/mne_raw_epochs_ar/{condition}/*.fif\")\n",
    "    paths.sort()\n",
    "    \n",
    "    epochs_all = None\n",
    "    \n",
    "    for path in paths:\n",
    "        epochs = mne.read_epochs(path)\n",
    "        \n",
    "        #epochs.drop_bad(reject={'eeg': 100e-6})\n",
    "        #print(epochs.drop_log)\n",
    "        \n",
    "        try:\n",
    "            epochs_all = epochs if epochs_all is None else mne.concatenate_epochs([epochs_all, epochs])\n",
    "        except:\n",
    "            continue \n",
    "    epochs_all.save(f\"../../data/mne_raw_epochs_ar_all/{condition}.fif\", overwrite=True)\n",
    "    "
   ]
  },
  {
   "cell_type": "markdown",
   "id": "af2d4c10",
   "metadata": {},
   "source": [
    "## Averaging"
   ]
  },
  {
   "cell_type": "code",
   "execution_count": 16,
   "id": "50abc740",
   "metadata": {},
   "outputs": [
    {
     "name": "stdout",
     "output_type": "stream",
     "text": [
      "Reading /Users/jonasmago/PhD_code_data/github/eeg_jhana/notebooks/preprocessing/../../data/mne_raw_epochs_ar/jhana_mmn/sub0-day1-jhana_mmn-raw_phot-events_epo.fif ...\n",
      "    Found the data of interest:\n",
      "        t =     -50.78 ...    1000.00 ms\n",
      "        0 CTF compensation matrices available\n",
      "Not setting metadata\n",
      "349 matching events found\n",
      "No baseline correction applied\n",
      "0 projection items activated\n",
      "NOTE: pick_channels() is a legacy function. New code should use inst.pick(...).\n",
      "NOTE: pick_channels() is a legacy function. New code should use inst.pick(...).\n",
      "Reading /Users/jonasmago/PhD_code_data/github/eeg_jhana/notebooks/preprocessing/../../data/mne_raw_epochs_ar/jhana_mmn/sub0-day2-jhana_mmn-raw_phot-events_epo.fif ...\n",
      "    Found the data of interest:\n",
      "        t =     -50.78 ...    1000.00 ms\n",
      "        0 CTF compensation matrices available\n",
      "Not setting metadata\n",
      "370 matching events found\n",
      "No baseline correction applied\n",
      "0 projection items activated\n",
      "NOTE: pick_channels() is a legacy function. New code should use inst.pick(...).\n",
      "NOTE: pick_channels() is a legacy function. New code should use inst.pick(...).\n",
      "Reading /Users/jonasmago/PhD_code_data/github/eeg_jhana/notebooks/preprocessing/../../data/mne_raw_epochs_ar/jhana_mmn/sub0-day3-jhana_mmn-raw_phot-events_epo.fif ...\n",
      "    Found the data of interest:\n",
      "        t =     -50.78 ...    1000.00 ms\n",
      "        0 CTF compensation matrices available\n",
      "Not setting metadata\n",
      "370 matching events found\n",
      "No baseline correction applied\n",
      "0 projection items activated\n",
      "NOTE: pick_channels() is a legacy function. New code should use inst.pick(...).\n",
      "NOTE: pick_channels() is a legacy function. New code should use inst.pick(...).\n",
      "Reading /Users/jonasmago/PhD_code_data/github/eeg_jhana/notebooks/preprocessing/../../data/mne_raw_epochs_ar/jhana_mmn/sub0-day4-jhana_mmn-raw_phot-events_epo.fif ...\n",
      "    Found the data of interest:\n",
      "        t =     -50.78 ...    1000.00 ms\n",
      "        0 CTF compensation matrices available\n",
      "Not setting metadata\n",
      "365 matching events found\n",
      "No baseline correction applied\n",
      "0 projection items activated\n",
      "NOTE: pick_channels() is a legacy function. New code should use inst.pick(...).\n",
      "NOTE: pick_channels() is a legacy function. New code should use inst.pick(...).\n",
      "Reading /Users/jonasmago/PhD_code_data/github/eeg_jhana/notebooks/preprocessing/../../data/mne_raw_epochs_ar/jhana_mmn/sub1-day1-jhana_mmn-raw_phot-events_epo.fif ...\n",
      "    Found the data of interest:\n",
      "        t =     -50.78 ...    1000.00 ms\n",
      "        0 CTF compensation matrices available\n",
      "Not setting metadata\n",
      "347 matching events found\n",
      "No baseline correction applied\n",
      "0 projection items activated\n",
      "NOTE: pick_channels() is a legacy function. New code should use inst.pick(...).\n",
      "NOTE: pick_channels() is a legacy function. New code should use inst.pick(...).\n",
      "Reading /Users/jonasmago/PhD_code_data/github/eeg_jhana/notebooks/preprocessing/../../data/mne_raw_epochs_ar/jhana_mmn/sub1-day2-jhana_mmn-raw_phot-events_epo.fif ...\n",
      "    Found the data of interest:\n",
      "        t =     -50.78 ...    1000.00 ms\n",
      "        0 CTF compensation matrices available\n",
      "Not setting metadata\n",
      "344 matching events found\n",
      "No baseline correction applied\n",
      "0 projection items activated\n",
      "NOTE: pick_channels() is a legacy function. New code should use inst.pick(...).\n",
      "NOTE: pick_channels() is a legacy function. New code should use inst.pick(...).\n",
      "Reading /Users/jonasmago/PhD_code_data/github/eeg_jhana/notebooks/preprocessing/../../data/mne_raw_epochs_ar/jhana_mmn/sub1-day3-jhana_mmn-raw_phot-events_epo.fif ...\n",
      "    Found the data of interest:\n",
      "        t =     -50.78 ...    1000.00 ms\n",
      "        0 CTF compensation matrices available\n",
      "Not setting metadata\n",
      "368 matching events found\n",
      "No baseline correction applied\n",
      "0 projection items activated\n",
      "NOTE: pick_channels() is a legacy function. New code should use inst.pick(...).\n",
      "NOTE: pick_channels() is a legacy function. New code should use inst.pick(...).\n",
      "Reading /Users/jonasmago/PhD_code_data/github/eeg_jhana/notebooks/preprocessing/../../data/mne_raw_epochs_ar/jhana_mmn/sub1-day4-jhana_mmn-raw_phot-events_epo.fif ...\n",
      "    Found the data of interest:\n",
      "        t =     -50.78 ...    1000.00 ms\n",
      "        0 CTF compensation matrices available\n",
      "Not setting metadata\n",
      "242 matching events found\n",
      "No baseline correction applied\n",
      "0 projection items activated\n",
      "NOTE: pick_channels() is a legacy function. New code should use inst.pick(...).\n",
      "NOTE: pick_channels() is a legacy function. New code should use inst.pick(...).\n",
      "Reading /Users/jonasmago/PhD_code_data/github/eeg_jhana/notebooks/preprocessing/../../data/mne_raw_epochs_ar/jhana_mmn/sub2-day1-jhana_mmn-raw_phot-events_epo.fif ...\n",
      "    Found the data of interest:\n",
      "        t =     -50.78 ...    1000.00 ms\n",
      "        0 CTF compensation matrices available\n",
      "Not setting metadata\n",
      "368 matching events found\n",
      "No baseline correction applied\n",
      "0 projection items activated\n",
      "NOTE: pick_channels() is a legacy function. New code should use inst.pick(...).\n",
      "NOTE: pick_channels() is a legacy function. New code should use inst.pick(...).\n",
      "Reading /Users/jonasmago/PhD_code_data/github/eeg_jhana/notebooks/preprocessing/../../data/mne_raw_epochs_ar/jhana_mmn/sub2-day2-jhana_mmn-raw_phot-events_epo.fif ...\n",
      "    Found the data of interest:\n",
      "        t =     -50.78 ...    1000.00 ms\n",
      "        0 CTF compensation matrices available\n",
      "Not setting metadata\n",
      "364 matching events found\n",
      "No baseline correction applied\n",
      "0 projection items activated\n",
      "NOTE: pick_channels() is a legacy function. New code should use inst.pick(...).\n",
      "NOTE: pick_channels() is a legacy function. New code should use inst.pick(...).\n",
      "Reading /Users/jonasmago/PhD_code_data/github/eeg_jhana/notebooks/preprocessing/../../data/mne_raw_epochs_ar/jhana_mmn/sub2-day3-jhana_mmn-raw_phot-events_epo.fif ...\n",
      "    Found the data of interest:\n",
      "        t =     -50.78 ...    1000.00 ms\n",
      "        0 CTF compensation matrices available\n",
      "Not setting metadata\n",
      "370 matching events found\n",
      "No baseline correction applied\n",
      "0 projection items activated\n",
      "NOTE: pick_channels() is a legacy function. New code should use inst.pick(...).\n",
      "NOTE: pick_channels() is a legacy function. New code should use inst.pick(...).\n",
      "Reading /Users/jonasmago/PhD_code_data/github/eeg_jhana/notebooks/preprocessing/../../data/mne_raw_epochs_ar/jhana_mmn/sub2-day4-jhana_mmn-raw_phot-events_epo.fif ...\n",
      "    Found the data of interest:\n",
      "        t =     -50.78 ...    1000.00 ms\n",
      "        0 CTF compensation matrices available\n",
      "Not setting metadata\n",
      "188 matching events found\n",
      "No baseline correction applied\n",
      "0 projection items activated\n",
      "NOTE: pick_channels() is a legacy function. New code should use inst.pick(...).\n",
      "NOTE: pick_channels() is a legacy function. New code should use inst.pick(...).\n",
      "Reading /Users/jonasmago/PhD_code_data/github/eeg_jhana/notebooks/preprocessing/../../data/mne_raw_epochs_ar/jhana_mmn/sub3-day1-jhana_mmn-raw_phot-events_epo.fif ...\n",
      "    Found the data of interest:\n",
      "        t =     -50.78 ...    1000.00 ms\n",
      "        0 CTF compensation matrices available\n",
      "Not setting metadata\n",
      "250 matching events found\n",
      "No baseline correction applied\n",
      "0 projection items activated\n",
      "NOTE: pick_channels() is a legacy function. New code should use inst.pick(...).\n",
      "NOTE: pick_channels() is a legacy function. New code should use inst.pick(...).\n",
      "Reading /Users/jonasmago/PhD_code_data/github/eeg_jhana/notebooks/preprocessing/../../data/mne_raw_epochs_ar/jhana_mmn/sub3-day2-jhana_mmn-raw_phot-events_epo.fif ...\n",
      "    Found the data of interest:\n",
      "        t =     -50.78 ...    1000.00 ms\n",
      "        0 CTF compensation matrices available\n",
      "Not setting metadata\n",
      "301 matching events found\n",
      "No baseline correction applied\n",
      "0 projection items activated\n",
      "NOTE: pick_channels() is a legacy function. New code should use inst.pick(...).\n",
      "NOTE: pick_channels() is a legacy function. New code should use inst.pick(...).\n",
      "Reading /Users/jonasmago/PhD_code_data/github/eeg_jhana/notebooks/preprocessing/../../data/mne_raw_epochs_ar/jhana_mmn/sub3-day3-jhana_mmn-raw_phot-events_epo.fif ...\n",
      "    Found the data of interest:\n",
      "        t =     -50.78 ...    1000.00 ms\n",
      "        0 CTF compensation matrices available\n",
      "Not setting metadata\n",
      "362 matching events found\n",
      "No baseline correction applied\n",
      "0 projection items activated\n",
      "NOTE: pick_channels() is a legacy function. New code should use inst.pick(...).\n"
     ]
    },
    {
     "name": "stdout",
     "output_type": "stream",
     "text": [
      "NOTE: pick_channels() is a legacy function. New code should use inst.pick(...).\n",
      "Reading /Users/jonasmago/PhD_code_data/github/eeg_jhana/notebooks/preprocessing/../../data/mne_raw_epochs_ar/jhana_mmn/sub3-day4-jhana_mmn-raw_phot-events_epo.fif ...\n",
      "    Found the data of interest:\n",
      "        t =     -50.78 ...    1000.00 ms\n",
      "        0 CTF compensation matrices available\n",
      "Not setting metadata\n",
      "270 matching events found\n",
      "No baseline correction applied\n",
      "0 projection items activated\n",
      "NOTE: pick_channels() is a legacy function. New code should use inst.pick(...).\n",
      "NOTE: pick_channels() is a legacy function. New code should use inst.pick(...).\n",
      "Reading /Users/jonasmago/PhD_code_data/github/eeg_jhana/notebooks/preprocessing/../../data/mne_raw_epochs_ar/jhana_mmn/sub4-day1-jhana_mmn-raw_phot-events_epo.fif ...\n",
      "    Found the data of interest:\n",
      "        t =     -50.78 ...    1000.00 ms\n",
      "        0 CTF compensation matrices available\n",
      "Not setting metadata\n",
      "201 matching events found\n",
      "No baseline correction applied\n",
      "0 projection items activated\n",
      "NOTE: pick_channels() is a legacy function. New code should use inst.pick(...).\n",
      "NOTE: pick_channels() is a legacy function. New code should use inst.pick(...).\n",
      "Reading /Users/jonasmago/PhD_code_data/github/eeg_jhana/notebooks/preprocessing/../../data/mne_raw_epochs_ar/jhana_mmn/sub4-day2-jhana_mmn-raw_phot-events_epo.fif ...\n",
      "    Found the data of interest:\n",
      "        t =     -50.78 ...    1000.00 ms\n",
      "        0 CTF compensation matrices available\n",
      "Not setting metadata\n",
      "290 matching events found\n",
      "No baseline correction applied\n",
      "0 projection items activated\n",
      "NOTE: pick_channels() is a legacy function. New code should use inst.pick(...).\n",
      "NOTE: pick_channels() is a legacy function. New code should use inst.pick(...).\n",
      "Reading /Users/jonasmago/PhD_code_data/github/eeg_jhana/notebooks/preprocessing/../../data/mne_raw_epochs_ar/jhana_mmn/sub4-day3-jhana_mmn-raw_phot-events_epo.fif ...\n",
      "    Found the data of interest:\n",
      "        t =     -50.78 ...    1000.00 ms\n",
      "        0 CTF compensation matrices available\n",
      "Not setting metadata\n",
      "315 matching events found\n",
      "No baseline correction applied\n",
      "0 projection items activated\n",
      "NOTE: pick_channels() is a legacy function. New code should use inst.pick(...).\n",
      "NOTE: pick_channels() is a legacy function. New code should use inst.pick(...).\n",
      "Reading /Users/jonasmago/PhD_code_data/github/eeg_jhana/notebooks/preprocessing/../../data/mne_raw_epochs_ar/jhana_mmn/sub4-day4-jhana_mmn-raw_phot-events_epo.fif ...\n",
      "    Found the data of interest:\n",
      "        t =     -50.78 ...    1000.00 ms\n",
      "        0 CTF compensation matrices available\n",
      "Not setting metadata\n",
      "241 matching events found\n",
      "No baseline correction applied\n",
      "0 projection items activated\n",
      "NOTE: pick_channels() is a legacy function. New code should use inst.pick(...).\n",
      "NOTE: pick_channels() is a legacy function. New code should use inst.pick(...).\n",
      "Reading /Users/jonasmago/PhD_code_data/github/eeg_jhana/notebooks/preprocessing/../../data/mne_raw_epochs_ar/jhana_mmn/sub5-day1-jhana_mmn-raw_phot-events_epo.fif ...\n",
      "    Found the data of interest:\n",
      "        t =     -50.78 ...    1000.00 ms\n",
      "        0 CTF compensation matrices available\n",
      "Not setting metadata\n",
      "367 matching events found\n",
      "No baseline correction applied\n",
      "0 projection items activated\n",
      "NOTE: pick_channels() is a legacy function. New code should use inst.pick(...).\n",
      "NOTE: pick_channels() is a legacy function. New code should use inst.pick(...).\n",
      "Reading /Users/jonasmago/PhD_code_data/github/eeg_jhana/notebooks/preprocessing/../../data/mne_raw_epochs_ar/jhana_mmn/sub5-day2-jhana_mmn-raw_phot-events_epo.fif ...\n",
      "    Found the data of interest:\n",
      "        t =     -50.78 ...    1000.00 ms\n",
      "        0 CTF compensation matrices available\n",
      "Not setting metadata\n",
      "370 matching events found\n",
      "No baseline correction applied\n",
      "0 projection items activated\n",
      "NOTE: pick_channels() is a legacy function. New code should use inst.pick(...).\n",
      "NOTE: pick_channels() is a legacy function. New code should use inst.pick(...).\n",
      "Reading /Users/jonasmago/PhD_code_data/github/eeg_jhana/notebooks/preprocessing/../../data/mne_raw_epochs_ar/jhana_mmn/sub5-day3-jhana_mmn-raw_phot-events_epo.fif ...\n",
      "    Found the data of interest:\n",
      "        t =     -50.78 ...    1000.00 ms\n",
      "        0 CTF compensation matrices available\n",
      "Not setting metadata\n",
      "370 matching events found\n",
      "No baseline correction applied\n",
      "0 projection items activated\n",
      "NOTE: pick_channels() is a legacy function. New code should use inst.pick(...).\n",
      "NOTE: pick_channels() is a legacy function. New code should use inst.pick(...).\n",
      "Reading /Users/jonasmago/PhD_code_data/github/eeg_jhana/notebooks/preprocessing/../../data/mne_raw_epochs_ar/jhana_mmn/sub5-day4-jhana_mmn-raw_phot-events_epo.fif ...\n",
      "    Found the data of interest:\n",
      "        t =     -50.78 ...    1000.00 ms\n",
      "        0 CTF compensation matrices available\n",
      "Not setting metadata\n",
      "367 matching events found\n",
      "No baseline correction applied\n",
      "0 projection items activated\n",
      "NOTE: pick_channels() is a legacy function. New code should use inst.pick(...).\n",
      "NOTE: pick_channels() is a legacy function. New code should use inst.pick(...).\n",
      "Reading /Users/jonasmago/PhD_code_data/github/eeg_jhana/notebooks/preprocessing/../../data/mne_raw_epochs_ar/jhana_mmn/sub6-day1-jhana_mmn-raw_phot-events_epo.fif ...\n",
      "    Found the data of interest:\n",
      "        t =     -50.78 ...    1000.00 ms\n",
      "        0 CTF compensation matrices available\n",
      "Not setting metadata\n",
      "370 matching events found\n",
      "No baseline correction applied\n",
      "0 projection items activated\n",
      "NOTE: pick_channels() is a legacy function. New code should use inst.pick(...).\n",
      "NOTE: pick_channels() is a legacy function. New code should use inst.pick(...).\n",
      "Reading /Users/jonasmago/PhD_code_data/github/eeg_jhana/notebooks/preprocessing/../../data/mne_raw_epochs_ar/jhana_mmn/sub6-day2-jhana_mmn-raw_phot-events_epo.fif ...\n",
      "    Found the data of interest:\n",
      "        t =     -50.78 ...    1000.00 ms\n",
      "        0 CTF compensation matrices available\n",
      "Not setting metadata\n",
      "354 matching events found\n",
      "No baseline correction applied\n",
      "0 projection items activated\n",
      "NOTE: pick_channels() is a legacy function. New code should use inst.pick(...).\n",
      "NOTE: pick_channels() is a legacy function. New code should use inst.pick(...).\n",
      "Reading /Users/jonasmago/PhD_code_data/github/eeg_jhana/notebooks/preprocessing/../../data/mne_raw_epochs_ar/jhana_mmn/sub6-day3-jhana_mmn-raw_phot-events_epo.fif ...\n",
      "    Found the data of interest:\n",
      "        t =     -50.78 ...    1000.00 ms\n",
      "        0 CTF compensation matrices available\n",
      "Not setting metadata\n",
      "324 matching events found\n",
      "No baseline correction applied\n",
      "0 projection items activated\n",
      "NOTE: pick_channels() is a legacy function. New code should use inst.pick(...).\n",
      "NOTE: pick_channels() is a legacy function. New code should use inst.pick(...).\n",
      "Reading /Users/jonasmago/PhD_code_data/github/eeg_jhana/notebooks/preprocessing/../../data/mne_raw_epochs_ar/jhana_mmn/sub6-day4-jhana_mmn-raw_phot-events_epo.fif ...\n",
      "    Found the data of interest:\n",
      "        t =     -50.78 ...    1000.00 ms\n",
      "        0 CTF compensation matrices available\n",
      "Not setting metadata\n",
      "286 matching events found\n",
      "No baseline correction applied\n",
      "0 projection items activated\n",
      "NOTE: pick_channels() is a legacy function. New code should use inst.pick(...).\n",
      "NOTE: pick_channels() is a legacy function. New code should use inst.pick(...).\n",
      "Reading /Users/jonasmago/PhD_code_data/github/eeg_jhana/notebooks/preprocessing/../../data/mne_raw_epochs_ar/jhana_mmn/sub7-day1-jhana_mmn-raw_phot-events_epo.fif ...\n",
      "    Found the data of interest:\n",
      "        t =     -50.78 ...    1000.00 ms\n",
      "        0 CTF compensation matrices available\n",
      "Not setting metadata\n",
      "365 matching events found\n",
      "No baseline correction applied\n",
      "0 projection items activated\n",
      "NOTE: pick_channels() is a legacy function. New code should use inst.pick(...).\n",
      "NOTE: pick_channels() is a legacy function. New code should use inst.pick(...).\n",
      "Reading /Users/jonasmago/PhD_code_data/github/eeg_jhana/notebooks/preprocessing/../../data/mne_raw_epochs_ar/jhana_mmn/sub7-day2-jhana_mmn-raw_phot-events_epo.fif ...\n",
      "    Found the data of interest:\n",
      "        t =     -50.78 ...    1000.00 ms\n",
      "        0 CTF compensation matrices available\n",
      "Not setting metadata\n",
      "363 matching events found\n",
      "No baseline correction applied\n",
      "0 projection items activated\n"
     ]
    },
    {
     "name": "stdout",
     "output_type": "stream",
     "text": [
      "NOTE: pick_channels() is a legacy function. New code should use inst.pick(...).\n",
      "NOTE: pick_channels() is a legacy function. New code should use inst.pick(...).\n",
      "Reading /Users/jonasmago/PhD_code_data/github/eeg_jhana/notebooks/preprocessing/../../data/mne_raw_epochs_ar/jhana_mmn/sub7-day3-jhana_mmn-raw_phot-events_epo.fif ...\n",
      "    Found the data of interest:\n",
      "        t =     -50.78 ...    1000.00 ms\n",
      "        0 CTF compensation matrices available\n",
      "Not setting metadata\n",
      "368 matching events found\n",
      "No baseline correction applied\n",
      "0 projection items activated\n",
      "NOTE: pick_channels() is a legacy function. New code should use inst.pick(...).\n",
      "NOTE: pick_channels() is a legacy function. New code should use inst.pick(...).\n",
      "Reading /Users/jonasmago/PhD_code_data/github/eeg_jhana/notebooks/preprocessing/../../data/mne_raw_epochs_ar/jhana_mmn/sub7-day4-jhana_mmn-raw_phot-events_epo.fif ...\n",
      "    Found the data of interest:\n",
      "        t =     -50.78 ...    1000.00 ms\n",
      "        0 CTF compensation matrices available\n",
      "Not setting metadata\n",
      "362 matching events found\n",
      "No baseline correction applied\n",
      "0 projection items activated\n",
      "NOTE: pick_channels() is a legacy function. New code should use inst.pick(...).\n",
      "NOTE: pick_channels() is a legacy function. New code should use inst.pick(...).\n",
      "Reading /Users/jonasmago/PhD_code_data/github/eeg_jhana/notebooks/preprocessing/../../data/mne_raw_epochs_ar/jhana_mmn/sub8-day1-jhana_mmn-raw_phot-events_epo.fif ...\n",
      "    Found the data of interest:\n",
      "        t =     -50.78 ...    1000.00 ms\n",
      "        0 CTF compensation matrices available\n",
      "Not setting metadata\n",
      "324 matching events found\n",
      "No baseline correction applied\n",
      "0 projection items activated\n",
      "NOTE: pick_channels() is a legacy function. New code should use inst.pick(...).\n",
      "NOTE: pick_channels() is a legacy function. New code should use inst.pick(...).\n",
      "Reading /Users/jonasmago/PhD_code_data/github/eeg_jhana/notebooks/preprocessing/../../data/mne_raw_epochs_ar/jhana_mmn/sub8-day2-jhana_mmn-raw_phot-events_epo.fif ...\n",
      "    Found the data of interest:\n",
      "        t =     -50.78 ...    1000.00 ms\n",
      "        0 CTF compensation matrices available\n",
      "Not setting metadata\n",
      "349 matching events found\n",
      "No baseline correction applied\n",
      "0 projection items activated\n",
      "NOTE: pick_channels() is a legacy function. New code should use inst.pick(...).\n",
      "NOTE: pick_channels() is a legacy function. New code should use inst.pick(...).\n",
      "Reading /Users/jonasmago/PhD_code_data/github/eeg_jhana/notebooks/preprocessing/../../data/mne_raw_epochs_ar/jhana_mmn/sub8-day3-jhana_mmn-raw_phot-events_epo.fif ...\n",
      "    Found the data of interest:\n",
      "        t =     -50.78 ...    1000.00 ms\n",
      "        0 CTF compensation matrices available\n",
      "Not setting metadata\n",
      "287 matching events found\n",
      "No baseline correction applied\n",
      "0 projection items activated\n",
      "NOTE: pick_channels() is a legacy function. New code should use inst.pick(...).\n",
      "NOTE: pick_channels() is a legacy function. New code should use inst.pick(...).\n",
      "Reading /Users/jonasmago/PhD_code_data/github/eeg_jhana/notebooks/preprocessing/../../data/mne_raw_epochs_ar/jhana_mmn/sub8-day4-jhana_mmn-raw_phot-events_epo.fif ...\n",
      "    Found the data of interest:\n",
      "        t =     -50.78 ...    1000.00 ms\n",
      "        0 CTF compensation matrices available\n",
      "Not setting metadata\n",
      "188 matching events found\n",
      "No baseline correction applied\n",
      "0 projection items activated\n",
      "NOTE: pick_channels() is a legacy function. New code should use inst.pick(...).\n",
      "NOTE: pick_channels() is a legacy function. New code should use inst.pick(...).\n",
      "Reading /Users/jonasmago/PhD_code_data/github/eeg_jhana/notebooks/preprocessing/../../data/mne_raw_epochs_ar/jhana_mmn/sub9-day1-jhana_mmn-raw_phot-events_epo.fif ...\n",
      "    Found the data of interest:\n",
      "        t =     -50.78 ...    1000.00 ms\n",
      "        0 CTF compensation matrices available\n",
      "Not setting metadata\n",
      "348 matching events found\n",
      "No baseline correction applied\n",
      "0 projection items activated\n",
      "NOTE: pick_channels() is a legacy function. New code should use inst.pick(...).\n",
      "NOTE: pick_channels() is a legacy function. New code should use inst.pick(...).\n",
      "Reading /Users/jonasmago/PhD_code_data/github/eeg_jhana/notebooks/preprocessing/../../data/mne_raw_epochs_ar/jhana_mmn/sub9-day2-jhana_mmn-raw_phot-events_epo.fif ...\n",
      "    Found the data of interest:\n",
      "        t =     -50.78 ...    1000.00 ms\n",
      "        0 CTF compensation matrices available\n",
      "Not setting metadata\n",
      "318 matching events found\n",
      "No baseline correction applied\n",
      "0 projection items activated\n",
      "NOTE: pick_channels() is a legacy function. New code should use inst.pick(...).\n",
      "NOTE: pick_channels() is a legacy function. New code should use inst.pick(...).\n",
      "Reading /Users/jonasmago/PhD_code_data/github/eeg_jhana/notebooks/preprocessing/../../data/mne_raw_epochs_ar/jhana_mmn/sub9-day3-jhana_mmn-raw_phot-events_epo.fif ...\n",
      "    Found the data of interest:\n",
      "        t =     -50.78 ...    1000.00 ms\n",
      "        0 CTF compensation matrices available\n",
      "Not setting metadata\n",
      "369 matching events found\n",
      "No baseline correction applied\n",
      "0 projection items activated\n",
      "NOTE: pick_channels() is a legacy function. New code should use inst.pick(...).\n",
      "NOTE: pick_channels() is a legacy function. New code should use inst.pick(...).\n",
      "Reading /Users/jonasmago/PhD_code_data/github/eeg_jhana/notebooks/preprocessing/../../data/mne_raw_epochs_ar/jhana_mmn/sub9-day4-jhana_mmn-raw_phot-events_epo.fif ...\n",
      "    Found the data of interest:\n",
      "        t =     -50.78 ...    1000.00 ms\n",
      "        0 CTF compensation matrices available\n",
      "Not setting metadata\n",
      "356 matching events found\n",
      "No baseline correction applied\n",
      "0 projection items activated\n",
      "NOTE: pick_channels() is a legacy function. New code should use inst.pick(...).\n",
      "NOTE: pick_channels() is a legacy function. New code should use inst.pick(...).\n",
      "Reading /Users/jonasmago/PhD_code_data/github/eeg_jhana/notebooks/preprocessing/../../data/mne_raw_epochs_ar/mindfulness_mmn/sub0-day1-mindfulness_mmn-raw_phot-events_epo.fif ...\n",
      "    Found the data of interest:\n",
      "        t =     -50.78 ...    1000.00 ms\n",
      "        0 CTF compensation matrices available\n",
      "Not setting metadata\n",
      "370 matching events found\n",
      "No baseline correction applied\n",
      "0 projection items activated\n",
      "NOTE: pick_channels() is a legacy function. New code should use inst.pick(...).\n",
      "NOTE: pick_channels() is a legacy function. New code should use inst.pick(...).\n",
      "Reading /Users/jonasmago/PhD_code_data/github/eeg_jhana/notebooks/preprocessing/../../data/mne_raw_epochs_ar/mindfulness_mmn/sub0-day2-mindfulness_mmn-raw_phot-events_epo.fif ...\n",
      "    Found the data of interest:\n",
      "        t =     -50.78 ...    1000.00 ms\n",
      "        0 CTF compensation matrices available\n",
      "Not setting metadata\n",
      "323 matching events found\n",
      "No baseline correction applied\n",
      "0 projection items activated\n",
      "NOTE: pick_channels() is a legacy function. New code should use inst.pick(...).\n",
      "NOTE: pick_channels() is a legacy function. New code should use inst.pick(...).\n",
      "Reading /Users/jonasmago/PhD_code_data/github/eeg_jhana/notebooks/preprocessing/../../data/mne_raw_epochs_ar/mindfulness_mmn/sub0-day3-mindfulness_mmn-raw_phot-events_epo.fif ...\n",
      "    Found the data of interest:\n",
      "        t =     -50.78 ...    1000.00 ms\n",
      "        0 CTF compensation matrices available\n",
      "Not setting metadata\n",
      "352 matching events found\n",
      "No baseline correction applied\n",
      "0 projection items activated\n",
      "NOTE: pick_channels() is a legacy function. New code should use inst.pick(...).\n",
      "NOTE: pick_channels() is a legacy function. New code should use inst.pick(...).\n",
      "Reading /Users/jonasmago/PhD_code_data/github/eeg_jhana/notebooks/preprocessing/../../data/mne_raw_epochs_ar/mindfulness_mmn/sub0-day4-mindfulness_mmn-raw_phot-events_epo.fif ...\n",
      "    Found the data of interest:\n",
      "        t =     -50.78 ...    1000.00 ms\n",
      "        0 CTF compensation matrices available\n",
      "Not setting metadata\n",
      "370 matching events found\n",
      "No baseline correction applied\n",
      "0 projection items activated\n",
      "NOTE: pick_channels() is a legacy function. New code should use inst.pick(...).\n",
      "NOTE: pick_channels() is a legacy function. New code should use inst.pick(...).\n",
      "Reading /Users/jonasmago/PhD_code_data/github/eeg_jhana/notebooks/preprocessing/../../data/mne_raw_epochs_ar/mindfulness_mmn/sub1-day1-mindfulness_mmn-raw_phot-events_epo.fif ...\n",
      "    Found the data of interest:\n",
      "        t =     -50.78 ...    1000.00 ms\n"
     ]
    },
    {
     "name": "stdout",
     "output_type": "stream",
     "text": [
      "        0 CTF compensation matrices available\n",
      "Not setting metadata\n",
      "340 matching events found\n",
      "No baseline correction applied\n",
      "0 projection items activated\n",
      "NOTE: pick_channels() is a legacy function. New code should use inst.pick(...).\n",
      "NOTE: pick_channels() is a legacy function. New code should use inst.pick(...).\n",
      "Reading /Users/jonasmago/PhD_code_data/github/eeg_jhana/notebooks/preprocessing/../../data/mne_raw_epochs_ar/mindfulness_mmn/sub1-day2-mindfulness_mmn-raw_phot-events_epo.fif ...\n",
      "    Found the data of interest:\n",
      "        t =     -50.78 ...    1000.00 ms\n",
      "        0 CTF compensation matrices available\n",
      "Not setting metadata\n",
      "235 matching events found\n",
      "No baseline correction applied\n",
      "0 projection items activated\n",
      "NOTE: pick_channels() is a legacy function. New code should use inst.pick(...).\n",
      "NOTE: pick_channels() is a legacy function. New code should use inst.pick(...).\n",
      "Reading /Users/jonasmago/PhD_code_data/github/eeg_jhana/notebooks/preprocessing/../../data/mne_raw_epochs_ar/mindfulness_mmn/sub1-day3-mindfulness_mmn-raw_phot-events_epo.fif ...\n",
      "    Found the data of interest:\n",
      "        t =     -50.78 ...    1000.00 ms\n",
      "        0 CTF compensation matrices available\n",
      "Not setting metadata\n",
      "259 matching events found\n",
      "No baseline correction applied\n",
      "0 projection items activated\n",
      "NOTE: pick_channels() is a legacy function. New code should use inst.pick(...).\n",
      "NOTE: pick_channels() is a legacy function. New code should use inst.pick(...).\n",
      "Reading /Users/jonasmago/PhD_code_data/github/eeg_jhana/notebooks/preprocessing/../../data/mne_raw_epochs_ar/mindfulness_mmn/sub1-day4-mindfulness_mmn-raw_phot-events_epo.fif ...\n",
      "    Found the data of interest:\n",
      "        t =     -50.78 ...    1000.00 ms\n",
      "        0 CTF compensation matrices available\n",
      "Not setting metadata\n",
      "301 matching events found\n",
      "No baseline correction applied\n",
      "0 projection items activated\n",
      "NOTE: pick_channels() is a legacy function. New code should use inst.pick(...).\n",
      "NOTE: pick_channels() is a legacy function. New code should use inst.pick(...).\n",
      "Reading /Users/jonasmago/PhD_code_data/github/eeg_jhana/notebooks/preprocessing/../../data/mne_raw_epochs_ar/mindfulness_mmn/sub2-day1-mindfulness_mmn-raw_phot-events_epo.fif ...\n",
      "    Found the data of interest:\n",
      "        t =     -50.78 ...    1000.00 ms\n",
      "        0 CTF compensation matrices available\n",
      "Not setting metadata\n",
      "368 matching events found\n",
      "No baseline correction applied\n",
      "0 projection items activated\n",
      "NOTE: pick_channels() is a legacy function. New code should use inst.pick(...).\n",
      "NOTE: pick_channels() is a legacy function. New code should use inst.pick(...).\n",
      "Reading /Users/jonasmago/PhD_code_data/github/eeg_jhana/notebooks/preprocessing/../../data/mne_raw_epochs_ar/mindfulness_mmn/sub2-day3-mindfulness_mmn-raw_phot-events_epo.fif ...\n",
      "    Found the data of interest:\n",
      "        t =     -50.78 ...    1000.00 ms\n",
      "        0 CTF compensation matrices available\n",
      "Not setting metadata\n",
      "303 matching events found\n",
      "No baseline correction applied\n",
      "0 projection items activated\n",
      "NOTE: pick_channels() is a legacy function. New code should use inst.pick(...).\n",
      "NOTE: pick_channels() is a legacy function. New code should use inst.pick(...).\n",
      "Reading /Users/jonasmago/PhD_code_data/github/eeg_jhana/notebooks/preprocessing/../../data/mne_raw_epochs_ar/mindfulness_mmn/sub2-day4-mindfulness_mmn-raw_phot-events_epo.fif ...\n",
      "    Found the data of interest:\n",
      "        t =     -50.78 ...    1000.00 ms\n",
      "        0 CTF compensation matrices available\n",
      "Not setting metadata\n",
      "243 matching events found\n",
      "No baseline correction applied\n",
      "0 projection items activated\n",
      "NOTE: pick_channels() is a legacy function. New code should use inst.pick(...).\n",
      "NOTE: pick_channels() is a legacy function. New code should use inst.pick(...).\n",
      "Reading /Users/jonasmago/PhD_code_data/github/eeg_jhana/notebooks/preprocessing/../../data/mne_raw_epochs_ar/mindfulness_mmn/sub3-day1-mindfulness_mmn-raw_phot-events_epo.fif ...\n",
      "    Found the data of interest:\n",
      "        t =     -50.78 ...    1000.00 ms\n",
      "        0 CTF compensation matrices available\n",
      "Not setting metadata\n",
      "181 matching events found\n",
      "No baseline correction applied\n",
      "0 projection items activated\n",
      "NOTE: pick_channels() is a legacy function. New code should use inst.pick(...).\n",
      "NOTE: pick_channels() is a legacy function. New code should use inst.pick(...).\n",
      "Reading /Users/jonasmago/PhD_code_data/github/eeg_jhana/notebooks/preprocessing/../../data/mne_raw_epochs_ar/mindfulness_mmn/sub3-day3-mindfulness_mmn-raw_phot-events_epo.fif ...\n",
      "    Found the data of interest:\n",
      "        t =     -50.78 ...    1000.00 ms\n",
      "        0 CTF compensation matrices available\n",
      "Not setting metadata\n",
      "206 matching events found\n",
      "No baseline correction applied\n",
      "0 projection items activated\n",
      "NOTE: pick_channels() is a legacy function. New code should use inst.pick(...).\n",
      "NOTE: pick_channels() is a legacy function. New code should use inst.pick(...).\n",
      "Reading /Users/jonasmago/PhD_code_data/github/eeg_jhana/notebooks/preprocessing/../../data/mne_raw_epochs_ar/mindfulness_mmn/sub3-day4-mindfulness_mmn-raw_phot-events_epo.fif ...\n",
      "    Found the data of interest:\n",
      "        t =     -50.78 ...    1000.00 ms\n",
      "        0 CTF compensation matrices available\n",
      "Not setting metadata\n",
      "309 matching events found\n",
      "No baseline correction applied\n",
      "0 projection items activated\n",
      "NOTE: pick_channels() is a legacy function. New code should use inst.pick(...).\n",
      "NOTE: pick_channels() is a legacy function. New code should use inst.pick(...).\n",
      "Reading /Users/jonasmago/PhD_code_data/github/eeg_jhana/notebooks/preprocessing/../../data/mne_raw_epochs_ar/mindfulness_mmn/sub4-day1-mindfulness_mmn-raw_phot-events_epo.fif ...\n",
      "    Found the data of interest:\n",
      "        t =     -50.78 ...    1000.00 ms\n",
      "        0 CTF compensation matrices available\n",
      "Not setting metadata\n",
      "265 matching events found\n",
      "No baseline correction applied\n",
      "0 projection items activated\n",
      "NOTE: pick_channels() is a legacy function. New code should use inst.pick(...).\n",
      "NOTE: pick_channels() is a legacy function. New code should use inst.pick(...).\n",
      "Reading /Users/jonasmago/PhD_code_data/github/eeg_jhana/notebooks/preprocessing/../../data/mne_raw_epochs_ar/mindfulness_mmn/sub4-day2-mindfulness_mmn-raw_phot-events_epo.fif ...\n",
      "    Found the data of interest:\n",
      "        t =     -50.78 ...    1000.00 ms\n",
      "        0 CTF compensation matrices available\n",
      "Not setting metadata\n",
      "285 matching events found\n",
      "No baseline correction applied\n",
      "0 projection items activated\n",
      "NOTE: pick_channels() is a legacy function. New code should use inst.pick(...).\n",
      "NOTE: pick_channels() is a legacy function. New code should use inst.pick(...).\n",
      "Reading /Users/jonasmago/PhD_code_data/github/eeg_jhana/notebooks/preprocessing/../../data/mne_raw_epochs_ar/mindfulness_mmn/sub4-day3-mindfulness_mmn-raw_phot-events_epo.fif ...\n",
      "    Found the data of interest:\n",
      "        t =     -50.78 ...    1000.00 ms\n",
      "        0 CTF compensation matrices available\n",
      "Not setting metadata\n",
      "339 matching events found\n",
      "No baseline correction applied\n",
      "0 projection items activated\n",
      "NOTE: pick_channels() is a legacy function. New code should use inst.pick(...).\n",
      "NOTE: pick_channels() is a legacy function. New code should use inst.pick(...).\n",
      "Reading /Users/jonasmago/PhD_code_data/github/eeg_jhana/notebooks/preprocessing/../../data/mne_raw_epochs_ar/mindfulness_mmn/sub4-day4-mindfulness_mmn-raw_phot-events_epo.fif ...\n",
      "    Found the data of interest:\n",
      "        t =     -50.78 ...    1000.00 ms\n",
      "        0 CTF compensation matrices available\n",
      "Not setting metadata\n",
      "370 matching events found\n",
      "No baseline correction applied\n",
      "0 projection items activated\n",
      "NOTE: pick_channels() is a legacy function. New code should use inst.pick(...).\n",
      "NOTE: pick_channels() is a legacy function. New code should use inst.pick(...).\n",
      "Reading /Users/jonasmago/PhD_code_data/github/eeg_jhana/notebooks/preprocessing/../../data/mne_raw_epochs_ar/mindfulness_mmn/sub5-day1-mindfulness_mmn-raw_phot-events_epo.fif ...\n",
      "    Found the data of interest:\n",
      "        t =     -50.78 ...    1000.00 ms\n",
      "        0 CTF compensation matrices available\n",
      "Not setting metadata\n",
      "370 matching events found\n",
      "No baseline correction applied\n",
      "0 projection items activated\n",
      "NOTE: pick_channels() is a legacy function. New code should use inst.pick(...).\n",
      "NOTE: pick_channels() is a legacy function. New code should use inst.pick(...).\n"
     ]
    },
    {
     "name": "stdout",
     "output_type": "stream",
     "text": [
      "Reading /Users/jonasmago/PhD_code_data/github/eeg_jhana/notebooks/preprocessing/../../data/mne_raw_epochs_ar/mindfulness_mmn/sub5-day2-mindfulness_mmn-raw_phot-events_epo.fif ...\n",
      "    Found the data of interest:\n",
      "        t =     -50.78 ...    1000.00 ms\n",
      "        0 CTF compensation matrices available\n",
      "Not setting metadata\n",
      "370 matching events found\n",
      "No baseline correction applied\n",
      "0 projection items activated\n",
      "NOTE: pick_channels() is a legacy function. New code should use inst.pick(...).\n",
      "NOTE: pick_channels() is a legacy function. New code should use inst.pick(...).\n",
      "Reading /Users/jonasmago/PhD_code_data/github/eeg_jhana/notebooks/preprocessing/../../data/mne_raw_epochs_ar/mindfulness_mmn/sub5-day3-mindfulness_mmn-raw_phot-events_epo.fif ...\n",
      "    Found the data of interest:\n",
      "        t =     -50.78 ...    1000.00 ms\n",
      "        0 CTF compensation matrices available\n",
      "Not setting metadata\n",
      "368 matching events found\n",
      "No baseline correction applied\n",
      "0 projection items activated\n",
      "NOTE: pick_channels() is a legacy function. New code should use inst.pick(...).\n",
      "NOTE: pick_channels() is a legacy function. New code should use inst.pick(...).\n",
      "Reading /Users/jonasmago/PhD_code_data/github/eeg_jhana/notebooks/preprocessing/../../data/mne_raw_epochs_ar/mindfulness_mmn/sub5-day4-mindfulness_mmn-raw_phot-events_epo.fif ...\n",
      "    Found the data of interest:\n",
      "        t =     -50.78 ...    1000.00 ms\n",
      "        0 CTF compensation matrices available\n",
      "Not setting metadata\n",
      "299 matching events found\n",
      "No baseline correction applied\n",
      "0 projection items activated\n",
      "NOTE: pick_channels() is a legacy function. New code should use inst.pick(...).\n",
      "NOTE: pick_channels() is a legacy function. New code should use inst.pick(...).\n",
      "Reading /Users/jonasmago/PhD_code_data/github/eeg_jhana/notebooks/preprocessing/../../data/mne_raw_epochs_ar/mindfulness_mmn/sub6-day1-mindfulness_mmn-raw_phot-events_epo.fif ...\n",
      "    Found the data of interest:\n",
      "        t =     -50.78 ...    1000.00 ms\n",
      "        0 CTF compensation matrices available\n",
      "Not setting metadata\n",
      "295 matching events found\n",
      "No baseline correction applied\n",
      "0 projection items activated\n",
      "NOTE: pick_channels() is a legacy function. New code should use inst.pick(...).\n",
      "NOTE: pick_channels() is a legacy function. New code should use inst.pick(...).\n",
      "Reading /Users/jonasmago/PhD_code_data/github/eeg_jhana/notebooks/preprocessing/../../data/mne_raw_epochs_ar/mindfulness_mmn/sub6-day2-mindfulness_mmn-raw_phot-events_epo.fif ...\n",
      "    Found the data of interest:\n",
      "        t =     -50.78 ...    1000.00 ms\n",
      "        0 CTF compensation matrices available\n",
      "Not setting metadata\n",
      "347 matching events found\n",
      "No baseline correction applied\n",
      "0 projection items activated\n",
      "NOTE: pick_channels() is a legacy function. New code should use inst.pick(...).\n",
      "NOTE: pick_channels() is a legacy function. New code should use inst.pick(...).\n",
      "Reading /Users/jonasmago/PhD_code_data/github/eeg_jhana/notebooks/preprocessing/../../data/mne_raw_epochs_ar/mindfulness_mmn/sub6-day3-mindfulness_mmn-raw_phot-events_epo.fif ...\n",
      "    Found the data of interest:\n",
      "        t =     -50.78 ...    1000.00 ms\n",
      "        0 CTF compensation matrices available\n",
      "Not setting metadata\n",
      "184 matching events found\n",
      "No baseline correction applied\n",
      "0 projection items activated\n",
      "NOTE: pick_channels() is a legacy function. New code should use inst.pick(...).\n",
      "NOTE: pick_channels() is a legacy function. New code should use inst.pick(...).\n",
      "Reading /Users/jonasmago/PhD_code_data/github/eeg_jhana/notebooks/preprocessing/../../data/mne_raw_epochs_ar/mindfulness_mmn/sub6-day4-mindfulness_mmn-raw_phot-events_epo.fif ...\n",
      "    Found the data of interest:\n",
      "        t =     -50.78 ...    1000.00 ms\n",
      "        0 CTF compensation matrices available\n",
      "Not setting metadata\n",
      "238 matching events found\n",
      "No baseline correction applied\n",
      "0 projection items activated\n",
      "NOTE: pick_channels() is a legacy function. New code should use inst.pick(...).\n",
      "NOTE: pick_channels() is a legacy function. New code should use inst.pick(...).\n",
      "Reading /Users/jonasmago/PhD_code_data/github/eeg_jhana/notebooks/preprocessing/../../data/mne_raw_epochs_ar/mindfulness_mmn/sub7-day1-mindfulness_mmn-raw_phot-events_epo.fif ...\n",
      "    Found the data of interest:\n",
      "        t =     -50.78 ...    1000.00 ms\n",
      "        0 CTF compensation matrices available\n",
      "Not setting metadata\n",
      "359 matching events found\n",
      "No baseline correction applied\n",
      "0 projection items activated\n",
      "NOTE: pick_channels() is a legacy function. New code should use inst.pick(...).\n",
      "NOTE: pick_channels() is a legacy function. New code should use inst.pick(...).\n",
      "Reading /Users/jonasmago/PhD_code_data/github/eeg_jhana/notebooks/preprocessing/../../data/mne_raw_epochs_ar/mindfulness_mmn/sub7-day2-mindfulness_mmn-raw_phot-events_epo.fif ...\n",
      "    Found the data of interest:\n",
      "        t =     -50.78 ...    1000.00 ms\n",
      "        0 CTF compensation matrices available\n",
      "Not setting metadata\n",
      "370 matching events found\n",
      "No baseline correction applied\n",
      "0 projection items activated\n",
      "NOTE: pick_channels() is a legacy function. New code should use inst.pick(...).\n",
      "NOTE: pick_channels() is a legacy function. New code should use inst.pick(...).\n",
      "Reading /Users/jonasmago/PhD_code_data/github/eeg_jhana/notebooks/preprocessing/../../data/mne_raw_epochs_ar/mindfulness_mmn/sub7-day3-mindfulness_mmn-raw_phot-events_epo.fif ...\n",
      "    Found the data of interest:\n",
      "        t =     -50.78 ...    1000.00 ms\n",
      "        0 CTF compensation matrices available\n",
      "Not setting metadata\n",
      "358 matching events found\n",
      "No baseline correction applied\n",
      "0 projection items activated\n",
      "NOTE: pick_channels() is a legacy function. New code should use inst.pick(...).\n",
      "NOTE: pick_channels() is a legacy function. New code should use inst.pick(...).\n",
      "Reading /Users/jonasmago/PhD_code_data/github/eeg_jhana/notebooks/preprocessing/../../data/mne_raw_epochs_ar/mindfulness_mmn/sub7-day4-mindfulness_mmn-raw_phot-events_epo.fif ...\n",
      "    Found the data of interest:\n",
      "        t =     -50.78 ...    1000.00 ms\n",
      "        0 CTF compensation matrices available\n",
      "Not setting metadata\n",
      "45 matching events found\n",
      "No baseline correction applied\n",
      "0 projection items activated\n",
      "NOTE: pick_channels() is a legacy function. New code should use inst.pick(...).\n",
      "NOTE: pick_channels() is a legacy function. New code should use inst.pick(...).\n",
      "Reading /Users/jonasmago/PhD_code_data/github/eeg_jhana/notebooks/preprocessing/../../data/mne_raw_epochs_ar/mindfulness_mmn/sub8-day1-mindfulness_mmn-raw_phot-events_epo.fif ...\n",
      "    Found the data of interest:\n",
      "        t =     -50.78 ...    1000.00 ms\n",
      "        0 CTF compensation matrices available\n",
      "Not setting metadata\n",
      "354 matching events found\n",
      "No baseline correction applied\n",
      "0 projection items activated\n",
      "NOTE: pick_channels() is a legacy function. New code should use inst.pick(...).\n",
      "NOTE: pick_channels() is a legacy function. New code should use inst.pick(...).\n",
      "Reading /Users/jonasmago/PhD_code_data/github/eeg_jhana/notebooks/preprocessing/../../data/mne_raw_epochs_ar/mindfulness_mmn/sub8-day2-mindfulness_mmn-raw_phot-events_epo.fif ...\n",
      "    Found the data of interest:\n",
      "        t =     -50.78 ...    1000.00 ms\n",
      "        0 CTF compensation matrices available\n",
      "Not setting metadata\n",
      "270 matching events found\n",
      "No baseline correction applied\n",
      "0 projection items activated\n",
      "NOTE: pick_channels() is a legacy function. New code should use inst.pick(...).\n",
      "NOTE: pick_channels() is a legacy function. New code should use inst.pick(...).\n",
      "Reading /Users/jonasmago/PhD_code_data/github/eeg_jhana/notebooks/preprocessing/../../data/mne_raw_epochs_ar/mindfulness_mmn/sub8-day3-mindfulness_mmn-raw_phot-events_epo.fif ...\n",
      "    Found the data of interest:\n",
      "        t =     -50.78 ...    1000.00 ms\n",
      "        0 CTF compensation matrices available\n",
      "Not setting metadata\n",
      "255 matching events found\n",
      "No baseline correction applied\n",
      "0 projection items activated\n",
      "NOTE: pick_channels() is a legacy function. New code should use inst.pick(...).\n",
      "NOTE: pick_channels() is a legacy function. New code should use inst.pick(...).\n",
      "Reading /Users/jonasmago/PhD_code_data/github/eeg_jhana/notebooks/preprocessing/../../data/mne_raw_epochs_ar/mindfulness_mmn/sub8-day4-mindfulness_mmn-raw_phot-events_epo.fif ...\n",
      "    Found the data of interest:\n",
      "        t =     -50.78 ...    1000.00 ms\n",
      "        0 CTF compensation matrices available\n"
     ]
    },
    {
     "name": "stdout",
     "output_type": "stream",
     "text": [
      "Not setting metadata\n",
      "303 matching events found\n",
      "No baseline correction applied\n",
      "0 projection items activated\n",
      "NOTE: pick_channels() is a legacy function. New code should use inst.pick(...).\n",
      "NOTE: pick_channels() is a legacy function. New code should use inst.pick(...).\n",
      "Reading /Users/jonasmago/PhD_code_data/github/eeg_jhana/notebooks/preprocessing/../../data/mne_raw_epochs_ar/mindfulness_mmn/sub9-day1-mindfulness_mmn-raw_phot-events_epo.fif ...\n",
      "    Found the data of interest:\n",
      "        t =     -50.78 ...    1000.00 ms\n",
      "        0 CTF compensation matrices available\n",
      "Not setting metadata\n",
      "325 matching events found\n",
      "No baseline correction applied\n",
      "0 projection items activated\n",
      "NOTE: pick_channels() is a legacy function. New code should use inst.pick(...).\n",
      "NOTE: pick_channels() is a legacy function. New code should use inst.pick(...).\n",
      "Reading /Users/jonasmago/PhD_code_data/github/eeg_jhana/notebooks/preprocessing/../../data/mne_raw_epochs_ar/mindfulness_mmn/sub9-day2-mindfulness_mmn-raw_phot-events_epo.fif ...\n",
      "    Found the data of interest:\n",
      "        t =     -50.78 ...    1000.00 ms\n",
      "        0 CTF compensation matrices available\n",
      "Not setting metadata\n",
      "311 matching events found\n",
      "No baseline correction applied\n",
      "0 projection items activated\n",
      "NOTE: pick_channels() is a legacy function. New code should use inst.pick(...).\n",
      "NOTE: pick_channels() is a legacy function. New code should use inst.pick(...).\n",
      "Reading /Users/jonasmago/PhD_code_data/github/eeg_jhana/notebooks/preprocessing/../../data/mne_raw_epochs_ar/mindfulness_mmn/sub9-day3-mindfulness_mmn-raw_phot-events_epo.fif ...\n",
      "    Found the data of interest:\n",
      "        t =     -50.78 ...    1000.00 ms\n",
      "        0 CTF compensation matrices available\n",
      "Not setting metadata\n",
      "367 matching events found\n",
      "No baseline correction applied\n",
      "0 projection items activated\n",
      "NOTE: pick_channels() is a legacy function. New code should use inst.pick(...).\n",
      "NOTE: pick_channels() is a legacy function. New code should use inst.pick(...).\n",
      "Reading /Users/jonasmago/PhD_code_data/github/eeg_jhana/notebooks/preprocessing/../../data/mne_raw_epochs_ar/mindfulness_mmn/sub9-day4-mindfulness_mmn-raw_phot-events_epo.fif ...\n",
      "    Found the data of interest:\n",
      "        t =     -50.78 ...    1000.00 ms\n",
      "        0 CTF compensation matrices available\n",
      "Not setting metadata\n",
      "297 matching events found\n",
      "No baseline correction applied\n",
      "0 projection items activated\n",
      "NOTE: pick_channels() is a legacy function. New code should use inst.pick(...).\n",
      "NOTE: pick_channels() is a legacy function. New code should use inst.pick(...).\n",
      "Reading /Users/jonasmago/PhD_code_data/github/eeg_jhana/notebooks/preprocessing/../../data/mne_raw_epochs_ar/control_mmn/sub0-control-mindfulness_mmn-raw_phot-events_epo.fif ...\n",
      "    Found the data of interest:\n",
      "        t =     -50.78 ...    1000.00 ms\n",
      "        0 CTF compensation matrices available\n",
      "Not setting metadata\n",
      "225 matching events found\n",
      "No baseline correction applied\n",
      "0 projection items activated\n",
      "NOTE: pick_channels() is a legacy function. New code should use inst.pick(...).\n",
      "NOTE: pick_channels() is a legacy function. New code should use inst.pick(...).\n",
      "Reading /Users/jonasmago/PhD_code_data/github/eeg_jhana/notebooks/preprocessing/../../data/mne_raw_epochs_ar/control_mmn/sub1-control-mindfulness_mmn-raw_phot-events_epo.fif ...\n",
      "    Found the data of interest:\n",
      "        t =     -50.78 ...    1000.00 ms\n",
      "        0 CTF compensation matrices available\n",
      "Not setting metadata\n",
      "367 matching events found\n",
      "No baseline correction applied\n",
      "0 projection items activated\n",
      "NOTE: pick_channels() is a legacy function. New code should use inst.pick(...).\n",
      "NOTE: pick_channels() is a legacy function. New code should use inst.pick(...).\n",
      "Reading /Users/jonasmago/PhD_code_data/github/eeg_jhana/notebooks/preprocessing/../../data/mne_raw_epochs_ar/control_mmn/sub10-control-mindfulness_mmn-raw_phot-events_epo.fif ...\n",
      "    Found the data of interest:\n",
      "        t =     -50.78 ...    1000.00 ms\n",
      "        0 CTF compensation matrices available\n",
      "Not setting metadata\n",
      "370 matching events found\n",
      "No baseline correction applied\n",
      "0 projection items activated\n",
      "NOTE: pick_channels() is a legacy function. New code should use inst.pick(...).\n",
      "NOTE: pick_channels() is a legacy function. New code should use inst.pick(...).\n",
      "Reading /Users/jonasmago/PhD_code_data/github/eeg_jhana/notebooks/preprocessing/../../data/mne_raw_epochs_ar/control_mmn/sub11-control-mindfulness_mmn-raw_phot-events_epo.fif ...\n",
      "    Found the data of interest:\n",
      "        t =     -50.78 ...    1000.00 ms\n",
      "        0 CTF compensation matrices available\n",
      "Not setting metadata\n",
      "370 matching events found\n",
      "No baseline correction applied\n",
      "0 projection items activated\n",
      "NOTE: pick_channels() is a legacy function. New code should use inst.pick(...).\n",
      "NOTE: pick_channels() is a legacy function. New code should use inst.pick(...).\n",
      "Reading /Users/jonasmago/PhD_code_data/github/eeg_jhana/notebooks/preprocessing/../../data/mne_raw_epochs_ar/control_mmn/sub12-control-mindfulness_mmn-raw_phot-events_epo.fif ...\n",
      "    Found the data of interest:\n",
      "        t =     -50.78 ...    1000.00 ms\n",
      "        0 CTF compensation matrices available\n",
      "Not setting metadata\n",
      "350 matching events found\n",
      "No baseline correction applied\n",
      "0 projection items activated\n",
      "NOTE: pick_channels() is a legacy function. New code should use inst.pick(...).\n",
      "NOTE: pick_channels() is a legacy function. New code should use inst.pick(...).\n",
      "Reading /Users/jonasmago/PhD_code_data/github/eeg_jhana/notebooks/preprocessing/../../data/mne_raw_epochs_ar/control_mmn/sub2-control-mindfulness_mmn-raw_phot-events_epo.fif ...\n",
      "    Found the data of interest:\n",
      "        t =     -50.78 ...    1000.00 ms\n",
      "        0 CTF compensation matrices available\n",
      "Not setting metadata\n",
      "361 matching events found\n",
      "No baseline correction applied\n",
      "0 projection items activated\n",
      "NOTE: pick_channels() is a legacy function. New code should use inst.pick(...).\n",
      "NOTE: pick_channels() is a legacy function. New code should use inst.pick(...).\n",
      "Reading /Users/jonasmago/PhD_code_data/github/eeg_jhana/notebooks/preprocessing/../../data/mne_raw_epochs_ar/control_mmn/sub3-control-mindfulness_mmn-raw_phot-events_epo.fif ...\n",
      "    Found the data of interest:\n",
      "        t =     -50.78 ...    1000.00 ms\n",
      "        0 CTF compensation matrices available\n",
      "Not setting metadata\n",
      "314 matching events found\n",
      "No baseline correction applied\n",
      "0 projection items activated\n",
      "NOTE: pick_channels() is a legacy function. New code should use inst.pick(...).\n",
      "NOTE: pick_channels() is a legacy function. New code should use inst.pick(...).\n",
      "Reading /Users/jonasmago/PhD_code_data/github/eeg_jhana/notebooks/preprocessing/../../data/mne_raw_epochs_ar/control_mmn/sub4-control-mindfulness_mmn-raw_phot-events_epo.fif ...\n",
      "    Found the data of interest:\n",
      "        t =     -50.78 ...    1000.00 ms\n",
      "        0 CTF compensation matrices available\n",
      "Not setting metadata\n",
      "227 matching events found\n",
      "No baseline correction applied\n",
      "0 projection items activated\n",
      "NOTE: pick_channels() is a legacy function. New code should use inst.pick(...).\n",
      "NOTE: pick_channels() is a legacy function. New code should use inst.pick(...).\n",
      "Reading /Users/jonasmago/PhD_code_data/github/eeg_jhana/notebooks/preprocessing/../../data/mne_raw_epochs_ar/control_mmn/sub5-control-mindfulness_mmn-raw_phot-events_epo.fif ...\n",
      "    Found the data of interest:\n",
      "        t =     -50.78 ...    1000.00 ms\n",
      "        0 CTF compensation matrices available\n",
      "Not setting metadata\n",
      "340 matching events found\n",
      "No baseline correction applied\n",
      "0 projection items activated\n",
      "NOTE: pick_channels() is a legacy function. New code should use inst.pick(...).\n",
      "NOTE: pick_channels() is a legacy function. New code should use inst.pick(...).\n",
      "Reading /Users/jonasmago/PhD_code_data/github/eeg_jhana/notebooks/preprocessing/../../data/mne_raw_epochs_ar/control_mmn/sub6-control-mindfulness_mmn-raw_phot-events_epo.fif ...\n",
      "    Found the data of interest:\n",
      "        t =     -50.78 ...    1000.00 ms\n",
      "        0 CTF compensation matrices available\n",
      "Not setting metadata\n",
      "332 matching events found\n",
      "No baseline correction applied\n",
      "0 projection items activated\n",
      "NOTE: pick_channels() is a legacy function. New code should use inst.pick(...).\n",
      "NOTE: pick_channels() is a legacy function. New code should use inst.pick(...).\n",
      "Reading /Users/jonasmago/PhD_code_data/github/eeg_jhana/notebooks/preprocessing/../../data/mne_raw_epochs_ar/control_mmn/sub7-control-mindfulness_mmn-raw_phot-events_epo.fif ...\n"
     ]
    },
    {
     "name": "stdout",
     "output_type": "stream",
     "text": [
      "    Found the data of interest:\n",
      "        t =     -50.78 ...    1000.00 ms\n",
      "        0 CTF compensation matrices available\n",
      "Not setting metadata\n",
      "362 matching events found\n",
      "No baseline correction applied\n",
      "0 projection items activated\n",
      "NOTE: pick_channels() is a legacy function. New code should use inst.pick(...).\n",
      "NOTE: pick_channels() is a legacy function. New code should use inst.pick(...).\n",
      "Reading /Users/jonasmago/PhD_code_data/github/eeg_jhana/notebooks/preprocessing/../../data/mne_raw_epochs_ar/control_mmn/sub8-control-mindfulness_mmn-raw_phot-events_epo.fif ...\n",
      "    Found the data of interest:\n",
      "        t =     -50.78 ...    1000.00 ms\n",
      "        0 CTF compensation matrices available\n",
      "Not setting metadata\n",
      "370 matching events found\n",
      "No baseline correction applied\n",
      "0 projection items activated\n",
      "NOTE: pick_channels() is a legacy function. New code should use inst.pick(...).\n",
      "NOTE: pick_channels() is a legacy function. New code should use inst.pick(...).\n",
      "Reading /Users/jonasmago/PhD_code_data/github/eeg_jhana/notebooks/preprocessing/../../data/mne_raw_epochs_ar/control_mmn/sub9-control-mindfulness_mmn-raw_phot-events_epo.fif ...\n",
      "    Found the data of interest:\n",
      "        t =     -50.78 ...    1000.00 ms\n",
      "        0 CTF compensation matrices available\n",
      "Not setting metadata\n",
      "370 matching events found\n",
      "No baseline correction applied\n",
      "0 projection items activated\n",
      "NOTE: pick_channels() is a legacy function. New code should use inst.pick(...).\n",
      "NOTE: pick_channels() is a legacy function. New code should use inst.pick(...).\n"
     ]
    }
   ],
   "source": [
    "groups = [\"jhana_mmn\", \"mindfulness_mmn\", \"control_mmn\"]\n",
    "\n",
    "for group in groups: \n",
    "    paths = glob.glob(f\"../../data/mne_raw_epochs_ar/{group}/*.fif\")\n",
    "    paths.sort()\n",
    "    for path in paths: \n",
    "        \n",
    "        epochs = mne.read_epochs(path, preload=True)\n",
    "        for condition in [\"1\", \"-1\"]:\n",
    "            evoked = epochs[condition].average()\n",
    "            evoked.save(f\"../../data/mne_raw_epochs_ar_ave/{os.path.basename(path)[:-8]}-{condition}-ave.fif\")"
   ]
  },
  {
   "cell_type": "code",
   "execution_count": null,
   "id": "ab8d2bab",
   "metadata": {},
   "outputs": [],
   "source": []
  },
  {
   "cell_type": "code",
   "execution_count": null,
   "id": "569e2665",
   "metadata": {},
   "outputs": [],
   "source": []
  }
 ],
 "metadata": {
  "kernelspec": {
   "display_name": "Python 3 (ipykernel)",
   "language": "python",
   "name": "python3"
  },
  "language_info": {
   "codemirror_mode": {
    "name": "ipython",
    "version": 3
   },
   "file_extension": ".py",
   "mimetype": "text/x-python",
   "name": "python",
   "nbconvert_exporter": "python",
   "pygments_lexer": "ipython3",
   "version": "3.9.12"
  }
 },
 "nbformat": 4,
 "nbformat_minor": 5
}
