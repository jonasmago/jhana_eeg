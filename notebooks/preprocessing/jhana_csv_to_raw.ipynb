{
 "cells": [
  {
   "cell_type": "code",
   "execution_count": 2,
   "id": "f874ac0a",
   "metadata": {},
   "outputs": [],
   "source": [
    "%load_ext autoreload\n",
    "%autoreload 2\n",
    "%matplotlib qt\n",
    "\n",
    "import numpy as np\n",
    "import csv\n",
    "import matplotlib.pyplot as plt\n",
    "import pandas as pd\n",
    "import os\n",
    "\n",
    "from atpbar import atpbar\n",
    "\n",
    "import sys\n",
    "sys.path.append('../..')\n",
    "from utils.csv_utils_new import *\n",
    "from utils.lsl_utils_new import *\n",
    "from utils.MNE_utils import *"
   ]
  },
  {
   "cell_type": "markdown",
   "id": "eb43d3f3",
   "metadata": {},
   "source": [
    "# Import MMN data (to mne.raw)"
   ]
  },
  {
   "cell_type": "code",
   "execution_count": 3,
   "id": "c763d54c",
   "metadata": {},
   "outputs": [
    {
     "data": {
      "application/vnd.jupyter.widget-view+json": {
       "model_id": "4f62acbfbb0247e786debd0aef0440f0",
       "version_major": 2,
       "version_minor": 0
      },
      "text/plain": [
       "VBox()"
      ]
     },
     "metadata": {},
     "output_type": "display_data"
    },
    {
     "data": {
      "text/plain": [
       "'\\n            raw, event_info = csv_to_raw(path, import_phot_events=True, phot_events_plot=phot_events_plot)\\n            fname = \\'sub\\'+str(subject)+\\'-\\'+recording_name[:-10]+\\'-\\'+sheet[-4:]\\n            raw.save(export_path+fname+\\'-raw.fif\\', overwrite=True)\\n            mne.export.export_raw(export_path+fname+\\'-raw.edf\\', raw, overwrite=True)\\n            \\n            txt_path = \"/Users/jonasmago/PhD_code_data/Jhana_US/analysis/mne.raw_mmn/events_info.txt\"\\n            txt_string=fname+\\': \\'+str(event_info)\\n            txt_file(txt_path, txt_string)\\ntxt_file(txt_path, \\'done\\')\\n'"
      ]
     },
     "execution_count": 3,
     "metadata": {},
     "output_type": "execute_result"
    }
   ],
   "source": [
    "phot_events_plot=True\n",
    "phot_events_plot=False\n",
    "\n",
    "df = pd.read_excel(r'/Users/jonasmago/PhD_code_data/Jhana_US/jhana_metadata.xlsx', sheet_name=None)\n",
    "export_path = '/Users/jonasmago/PhD_code_data/Jhana_US/analysis/mne.raw_mmn/'\n",
    "\n",
    "if not os.path.exists(export_path):\n",
    "    os.makedirs(export_path)\n",
    "\n",
    "epochs_mindfulness = None\n",
    "\n",
    "for subject in atpbar(range(10)):\n",
    "    for recording_name in ['jhana_mmn_eeg_fname', 'mindfulness_mmn_eeg_fname']:\n",
    "        for sheet in ['jhana_day1', 'jhana_day2', 'jhana_day3', 'jhana_day4']: \n",
    "            path = get_path (df, sheet, subject, recording_name)\n",
    "\"\"\"\n",
    "            raw, event_info = csv_to_raw(path, import_phot_events=True, phot_events_plot=phot_events_plot)\n",
    "            fname = 'sub'+str(subject)+'-'+recording_name[:-10]+'-'+sheet[-4:]\n",
    "            raw.save(export_path+fname+'-raw.fif', overwrite=True)\n",
    "            mne.export.export_raw(export_path+fname+'-raw.edf', raw, overwrite=True)\n",
    "            \n",
    "            txt_path = \"/Users/jonasmago/PhD_code_data/Jhana_US/analysis/mne.raw_mmn/events_info.txt\"\n",
    "            txt_string=fname+': '+str(event_info)\n",
    "            txt_file(txt_path, txt_string)\n",
    "txt_file(txt_path, 'done')\n",
    "\"\"\""
   ]
  },
  {
   "cell_type": "code",
   "execution_count": 6,
   "id": "b8a9e1a4",
   "metadata": {},
   "outputs": [
    {
     "data": {
      "text/plain": [
       "'/Users/jonasmago/PhD_code_data/Jhana_US/data/data_sd/eeg44/22-09-06/21-00-15/'"
      ]
     },
     "execution_count": 6,
     "metadata": {},
     "output_type": "execute_result"
    }
   ],
   "source": [
    "path"
   ]
  },
  {
   "cell_type": "code",
   "execution_count": 4,
   "id": "04d51ab5",
   "metadata": {},
   "outputs": [
    {
     "name": "stdout",
     "output_type": "stream",
     "text": [
      "Creating RawArray with float64 data, n_channels=32, n_times=219392\n",
      "    Range : 0 ... 219391 =      0.000 ...   856.996 secs\n",
      "Ready.\n",
      "Overwriting existing file.\n",
      "Writing /Users/jonasmago/PhD_code_data/Jhana_US/analysis/mne.raw_mmn/sub9-mindfulness_mmn-day4-raw.fif\n",
      "Closing /Users/jonasmago/PhD_code_data/Jhana_US/analysis/mne.raw_mmn/sub9-mindfulness_mmn-day4-raw.fif\n",
      "[done]\n",
      "Overwriting existing file.\n"
     ]
    }
   ],
   "source": [
    "            raw, event_info = csv_to_raw(path, import_phot_events=True, phot_events_plot=phot_events_plot)\n",
    "            fname = 'sub'+str(subject)+'-'+recording_name[:-10]+'-'+sheet[-4:]\n",
    "            raw.save(export_path+fname+'-raw.fif', overwrite=True)\n",
    "            mne.export.export_raw(export_path+fname+'-raw.edf', raw, overwrite=True)\n",
    "            \n",
    "            txt_path = \"/Users/jonasmago/PhD_code_data/Jhana_US/analysis/mne.raw_mmn/events_info.txt\"\n",
    "            txt_string=fname+': '+str(event_info)\n",
    "            txt_file(txt_path, txt_string)"
   ]
  },
  {
   "cell_type": "markdown",
   "id": "d98dab43",
   "metadata": {},
   "source": [
    "# Import LTP (to mne.raw)"
   ]
  },
  {
   "cell_type": "code",
   "execution_count": null,
   "id": "130b7f73",
   "metadata": {},
   "outputs": [],
   "source": [
    "phot_events_plot=True\n",
    "\n",
    "df = pd.read_excel(r'/Users/jonasmago/PhD_code_data/Jhana_US/jhana_metadata.xlsx', sheet_name=None)\n",
    "export_path = '/Users/jonasmago/PhD_code_data/Jhana_US/analysis/mne.raw_LTP/'\n",
    "\n",
    "if not os.path.exists(export_path):\n",
    "    os.makedirs(export_path)\n",
    "\n",
    "#for subject in atpbar(range(10)):\n",
    "for subject in atpbar([0]):\n",
    "    for recording_name in ['baseline_ltp_eeg_fname', 'early_ltp_eeg_fname', 'late_ltp_eeg_fname']:\n",
    "        for sheet in ['LTP_pre', 'LTP_post']:\n",
    "            path = get_path (df, sheet, subject, recording_name)\n",
    "            raw, event_info = csv_to_raw(path, import_phot_events=True, LTP_recording_name=recording_name, sheet=sheet, subject=subject, phot_events_plot=phot_events_plot, refractory=200)\n",
    "            fname = 'sub'+str(subject)+'-'+recording_name[:-10]+'-'+sheet\n",
    "            \n",
    "            raw.save(export_path+fname+'-raw.fif', overwrite=True)\n",
    "            mne.export.export_raw(export_path+fname+'-raw.edf', raw, overwrite=True)\n",
    "            \n",
    "            txt_path = \"/Users/jonasmago/PhD_code_data/Jhana_US/analysis/mne.raw_LTP/events_info.txt\"\n",
    "            txt_string=fname+': '+str(event_info)\n",
    "            txt_file(txt_path, txt_string)\n",
    "txt_file(txt_path, 'done')"
   ]
  },
  {
   "cell_type": "markdown",
   "id": "44b4a7e5",
   "metadata": {},
   "source": [
    "# Import resting state data"
   ]
  },
  {
   "cell_type": "code",
   "execution_count": 6,
   "id": "64bf2333",
   "metadata": {},
   "outputs": [
    {
     "data": {
      "application/vnd.jupyter.widget-view+json": {
       "model_id": "df69e6ec538e40f4aef8dc22b26c4a20",
       "version_major": 2,
       "version_minor": 0
      },
      "text/plain": [
       "VBox()"
      ]
     },
     "metadata": {},
     "output_type": "display_data"
    },
    {
     "name": "stdout",
     "output_type": "stream",
     "text": [
      "Creating RawArray with float64 data, n_channels=32, n_times=389688\n",
      "    Range : 0 ... 389687 =      0.000 ...  1522.215 secs\n",
      "Ready.\n",
      "Writing /Volumes/Expansion/jhana_study/analysis/mne.raw_resting_state/sub4-jhana_restingstate-jhana_day1-raw.fif\n",
      "Closing /Volumes/Expansion/jhana_study/analysis/mne.raw_resting_state/sub4-jhana_restingstate-jhana_day1-raw.fif\n",
      "[done]\n"
     ]
    },
    {
     "name": "stderr",
     "output_type": "stream",
     "text": [
      "/var/folders/by/hhqkyqc10wnf7p3krlc7zswm0000gn/T/ipykernel_33633/1315015294.py:16: RuntimeWarning: EDF format requires equal-length data blocks, so 0.78125 seconds of zeros were appended to all channels when writing the final block.\n",
      "  mne.export.export_raw(export_path+fname+'-raw.edf', raw)\n"
     ]
    },
    {
     "name": "stdout",
     "output_type": "stream",
     "text": [
      "Creating RawArray with float64 data, n_channels=32, n_times=391384\n",
      "    Range : 0 ... 391383 =      0.000 ...  1528.840 secs\n",
      "Ready.\n",
      "Writing /Volumes/Expansion/jhana_study/analysis/mne.raw_resting_state/sub4-jhana_restingstate-jhana_day2-raw.fif\n",
      "Closing /Volumes/Expansion/jhana_study/analysis/mne.raw_resting_state/sub4-jhana_restingstate-jhana_day2-raw.fif\n",
      "[done]\n"
     ]
    },
    {
     "name": "stderr",
     "output_type": "stream",
     "text": [
      "/var/folders/by/hhqkyqc10wnf7p3krlc7zswm0000gn/T/ipykernel_33633/1315015294.py:16: RuntimeWarning: EDF format requires equal-length data blocks, so 0.15625 seconds of zeros were appended to all channels when writing the final block.\n",
      "  mne.export.export_raw(export_path+fname+'-raw.edf', raw)\n"
     ]
    },
    {
     "name": "stdout",
     "output_type": "stream",
     "text": [
      "Creating RawArray with float64 data, n_channels=32, n_times=388912\n",
      "    Range : 0 ... 388911 =      0.000 ...  1519.184 secs\n",
      "Ready.\n",
      "Writing /Volumes/Expansion/jhana_study/analysis/mne.raw_resting_state/sub4-jhana_restingstate-jhana_day3-raw.fif\n",
      "Closing /Volumes/Expansion/jhana_study/analysis/mne.raw_resting_state/sub4-jhana_restingstate-jhana_day3-raw.fif\n",
      "[done]\n"
     ]
    },
    {
     "name": "stderr",
     "output_type": "stream",
     "text": [
      "/var/folders/by/hhqkyqc10wnf7p3krlc7zswm0000gn/T/ipykernel_33633/1315015294.py:16: RuntimeWarning: EDF format requires equal-length data blocks, so 0.8125 seconds of zeros were appended to all channels when writing the final block.\n",
      "  mne.export.export_raw(export_path+fname+'-raw.edf', raw)\n"
     ]
    },
    {
     "name": "stdout",
     "output_type": "stream",
     "text": [
      "Creating RawArray with float64 data, n_channels=32, n_times=387960\n",
      "    Range : 0 ... 387959 =      0.000 ...  1515.465 secs\n",
      "Ready.\n",
      "Writing /Volumes/Expansion/jhana_study/analysis/mne.raw_resting_state/sub4-jhana_restingstate-jhana_day4-raw.fif\n",
      "Closing /Volumes/Expansion/jhana_study/analysis/mne.raw_resting_state/sub4-jhana_restingstate-jhana_day4-raw.fif\n",
      "[done]\n"
     ]
    },
    {
     "name": "stderr",
     "output_type": "stream",
     "text": [
      "/var/folders/by/hhqkyqc10wnf7p3krlc7zswm0000gn/T/ipykernel_33633/1315015294.py:16: RuntimeWarning: EDF format requires equal-length data blocks, so 0.53125 seconds of zeros were appended to all channels when writing the final block.\n",
      "  mne.export.export_raw(export_path+fname+'-raw.edf', raw)\n"
     ]
    },
    {
     "name": "stdout",
     "output_type": "stream",
     "text": [
      "Creating RawArray with float64 data, n_channels=32, n_times=384736\n",
      "    Range : 0 ... 384735 =      0.000 ...  1502.871 secs\n",
      "Ready.\n",
      "Writing /Volumes/Expansion/jhana_study/analysis/mne.raw_resting_state/sub4-mindfulness_restingstate-jhana_day1-raw.fif\n",
      "Closing /Volumes/Expansion/jhana_study/analysis/mne.raw_resting_state/sub4-mindfulness_restingstate-jhana_day1-raw.fif\n",
      "[done]\n"
     ]
    },
    {
     "name": "stderr",
     "output_type": "stream",
     "text": [
      "/var/folders/by/hhqkyqc10wnf7p3krlc7zswm0000gn/T/ipykernel_33633/1315015294.py:16: RuntimeWarning: EDF format requires equal-length data blocks, so 0.125 seconds of zeros were appended to all channels when writing the final block.\n",
      "  mne.export.export_raw(export_path+fname+'-raw.edf', raw)\n"
     ]
    },
    {
     "name": "stdout",
     "output_type": "stream",
     "text": [
      "Creating RawArray with float64 data, n_channels=32, n_times=383616\n",
      "    Range : 0 ... 383615 =      0.000 ...  1498.496 secs\n",
      "Ready.\n",
      "********************************\n",
      "for path /Volumes/Expansion/jhana_study/data/data_sd/eeg33/22-09-04/14-19-45/ no events were detected\n",
      "Writing /Volumes/Expansion/jhana_study/analysis/mne.raw_resting_state/sub4-mindfulness_restingstate-jhana_day2-raw.fif\n",
      "Closing /Volumes/Expansion/jhana_study/analysis/mne.raw_resting_state/sub4-mindfulness_restingstate-jhana_day2-raw.fif\n",
      "[done]\n"
     ]
    },
    {
     "name": "stderr",
     "output_type": "stream",
     "text": [
      "/var/folders/by/hhqkyqc10wnf7p3krlc7zswm0000gn/T/ipykernel_33633/1315015294.py:16: RuntimeWarning: EDF format requires equal-length data blocks, so 0.5 seconds of zeros were appended to all channels when writing the final block.\n",
      "  mne.export.export_raw(export_path+fname+'-raw.edf', raw)\n"
     ]
    },
    {
     "name": "stdout",
     "output_type": "stream",
     "text": [
      "Creating RawArray with float64 data, n_channels=32, n_times=383664\n",
      "    Range : 0 ... 383663 =      0.000 ...  1498.684 secs\n",
      "Ready.\n",
      "Writing /Volumes/Expansion/jhana_study/analysis/mne.raw_resting_state/sub4-mindfulness_restingstate-jhana_day3-raw.fif\n",
      "Closing /Volumes/Expansion/jhana_study/analysis/mne.raw_resting_state/sub4-mindfulness_restingstate-jhana_day3-raw.fif\n",
      "[done]\n"
     ]
    },
    {
     "name": "stderr",
     "output_type": "stream",
     "text": [
      "/var/folders/by/hhqkyqc10wnf7p3krlc7zswm0000gn/T/ipykernel_33633/1315015294.py:16: RuntimeWarning: EDF format requires equal-length data blocks, so 0.3125 seconds of zeros were appended to all channels when writing the final block.\n",
      "  mne.export.export_raw(export_path+fname+'-raw.edf', raw)\n"
     ]
    },
    {
     "name": "stdout",
     "output_type": "stream",
     "text": [
      "Creating RawArray with float64 data, n_channels=32, n_times=385368\n",
      "    Range : 0 ... 385367 =      0.000 ...  1505.340 secs\n",
      "Ready.\n",
      "********************************\n",
      "for path /Volumes/Expansion/jhana_study/data/data_sd/eeg33/22-09-06/14-37-35/ no events were detected\n",
      "Writing /Volumes/Expansion/jhana_study/analysis/mne.raw_resting_state/sub4-mindfulness_restingstate-jhana_day4-raw.fif\n",
      "Closing /Volumes/Expansion/jhana_study/analysis/mne.raw_resting_state/sub4-mindfulness_restingstate-jhana_day4-raw.fif\n",
      "[done]\n"
     ]
    },
    {
     "name": "stderr",
     "output_type": "stream",
     "text": [
      "/var/folders/by/hhqkyqc10wnf7p3krlc7zswm0000gn/T/ipykernel_33633/1315015294.py:16: RuntimeWarning: EDF format requires equal-length data blocks, so 0.65625 seconds of zeros were appended to all channels when writing the final block.\n",
      "  mne.export.export_raw(export_path+fname+'-raw.edf', raw)\n"
     ]
    },
    {
     "name": "stdout",
     "output_type": "stream",
     "text": [
      "Creating RawArray with float64 data, n_channels=32, n_times=389608\n",
      "    Range : 0 ... 389607 =      0.000 ...  1521.902 secs\n",
      "Ready.\n",
      "Writing /Volumes/Expansion/jhana_study/analysis/mne.raw_resting_state/sub5-jhana_restingstate-jhana_day1-raw.fif\n",
      "Closing /Volumes/Expansion/jhana_study/analysis/mne.raw_resting_state/sub5-jhana_restingstate-jhana_day1-raw.fif\n",
      "[done]\n"
     ]
    },
    {
     "name": "stderr",
     "output_type": "stream",
     "text": [
      "/var/folders/by/hhqkyqc10wnf7p3krlc7zswm0000gn/T/ipykernel_33633/1315015294.py:16: RuntimeWarning: EDF format requires equal-length data blocks, so 0.09375 seconds of zeros were appended to all channels when writing the final block.\n",
      "  mne.export.export_raw(export_path+fname+'-raw.edf', raw)\n"
     ]
    },
    {
     "name": "stdout",
     "output_type": "stream",
     "text": [
      "Creating RawArray with float64 data, n_channels=32, n_times=391136\n",
      "    Range : 0 ... 391135 =      0.000 ...  1527.871 secs\n",
      "Ready.\n",
      "Writing /Volumes/Expansion/jhana_study/analysis/mne.raw_resting_state/sub5-jhana_restingstate-jhana_day2-raw.fif\n",
      "Closing /Volumes/Expansion/jhana_study/analysis/mne.raw_resting_state/sub5-jhana_restingstate-jhana_day2-raw.fif\n",
      "[done]\n"
     ]
    },
    {
     "name": "stderr",
     "output_type": "stream",
     "text": [
      "/var/folders/by/hhqkyqc10wnf7p3krlc7zswm0000gn/T/ipykernel_33633/1315015294.py:16: RuntimeWarning: EDF format requires equal-length data blocks, so 0.125 seconds of zeros were appended to all channels when writing the final block.\n",
      "  mne.export.export_raw(export_path+fname+'-raw.edf', raw)\n"
     ]
    },
    {
     "name": "stdout",
     "output_type": "stream",
     "text": [
      "Creating RawArray with float64 data, n_channels=32, n_times=389416\n",
      "    Range : 0 ... 389415 =      0.000 ...  1521.152 secs\n",
      "Ready.\n",
      "Writing /Volumes/Expansion/jhana_study/analysis/mne.raw_resting_state/sub5-jhana_restingstate-jhana_day3-raw.fif\n",
      "Closing /Volumes/Expansion/jhana_study/analysis/mne.raw_resting_state/sub5-jhana_restingstate-jhana_day3-raw.fif\n",
      "[done]\n"
     ]
    },
    {
     "name": "stderr",
     "output_type": "stream",
     "text": [
      "/var/folders/by/hhqkyqc10wnf7p3krlc7zswm0000gn/T/ipykernel_33633/1315015294.py:16: RuntimeWarning: EDF format requires equal-length data blocks, so 0.84375 seconds of zeros were appended to all channels when writing the final block.\n",
      "  mne.export.export_raw(export_path+fname+'-raw.edf', raw)\n"
     ]
    },
    {
     "name": "stdout",
     "output_type": "stream",
     "text": [
      "Creating RawArray with float64 data, n_channels=32, n_times=388080\n",
      "    Range : 0 ... 388079 =      0.000 ...  1515.934 secs\n",
      "Ready.\n",
      "Writing /Volumes/Expansion/jhana_study/analysis/mne.raw_resting_state/sub5-jhana_restingstate-jhana_day4-raw.fif\n",
      "Closing /Volumes/Expansion/jhana_study/analysis/mne.raw_resting_state/sub5-jhana_restingstate-jhana_day4-raw.fif\n",
      "[done]\n"
     ]
    },
    {
     "name": "stderr",
     "output_type": "stream",
     "text": [
      "/var/folders/by/hhqkyqc10wnf7p3krlc7zswm0000gn/T/ipykernel_33633/1315015294.py:16: RuntimeWarning: EDF format requires equal-length data blocks, so 0.0625 seconds of zeros were appended to all channels when writing the final block.\n",
      "  mne.export.export_raw(export_path+fname+'-raw.edf', raw)\n"
     ]
    },
    {
     "name": "stdout",
     "output_type": "stream",
     "text": [
      "Creating RawArray with float64 data, n_channels=32, n_times=384688\n",
      "    Range : 0 ... 384687 =      0.000 ...  1502.684 secs\n",
      "Ready.\n",
      "********************************\n",
      "for path /Volumes/Expansion/jhana_study/data/data_sd/eeg44/22-09-03/15-18-21/ no events were detected\n",
      "Writing /Volumes/Expansion/jhana_study/analysis/mne.raw_resting_state/sub5-mindfulness_restingstate-jhana_day1-raw.fif\n",
      "Closing /Volumes/Expansion/jhana_study/analysis/mne.raw_resting_state/sub5-mindfulness_restingstate-jhana_day1-raw.fif\n",
      "[done]\n"
     ]
    },
    {
     "name": "stderr",
     "output_type": "stream",
     "text": [
      "/var/folders/by/hhqkyqc10wnf7p3krlc7zswm0000gn/T/ipykernel_33633/1315015294.py:16: RuntimeWarning: EDF format requires equal-length data blocks, so 0.3125 seconds of zeros were appended to all channels when writing the final block.\n",
      "  mne.export.export_raw(export_path+fname+'-raw.edf', raw)\n"
     ]
    },
    {
     "name": "stdout",
     "output_type": "stream",
     "text": [
      "Creating RawArray with float64 data, n_channels=32, n_times=385008\n",
      "    Range : 0 ... 385007 =      0.000 ...  1503.934 secs\n",
      "Ready.\n",
      "********************************\n",
      "for path /Volumes/Expansion/jhana_study/data/data_sd/eeg44/22-09-04/14-19-43/ no events were detected\n",
      "Writing /Volumes/Expansion/jhana_study/analysis/mne.raw_resting_state/sub5-mindfulness_restingstate-jhana_day2-raw.fif\n",
      "Closing /Volumes/Expansion/jhana_study/analysis/mne.raw_resting_state/sub5-mindfulness_restingstate-jhana_day2-raw.fif\n",
      "[done]\n"
     ]
    },
    {
     "name": "stderr",
     "output_type": "stream",
     "text": [
      "/var/folders/by/hhqkyqc10wnf7p3krlc7zswm0000gn/T/ipykernel_33633/1315015294.py:16: RuntimeWarning: EDF format requires equal-length data blocks, so 0.0625 seconds of zeros were appended to all channels when writing the final block.\n",
      "  mne.export.export_raw(export_path+fname+'-raw.edf', raw)\n"
     ]
    },
    {
     "name": "stdout",
     "output_type": "stream",
     "text": [
      "Creating RawArray with float64 data, n_channels=32, n_times=385936\n",
      "    Range : 0 ... 385935 =      0.000 ...  1507.559 secs\n",
      "Ready.\n",
      "********************************\n",
      "for path /Volumes/Expansion/jhana_study/data/data_sd/eeg44/22-09-05/15-24-36/ no events were detected\n",
      "Writing /Volumes/Expansion/jhana_study/analysis/mne.raw_resting_state/sub5-mindfulness_restingstate-jhana_day3-raw.fif\n",
      "Closing /Volumes/Expansion/jhana_study/analysis/mne.raw_resting_state/sub5-mindfulness_restingstate-jhana_day3-raw.fif\n",
      "[done]\n"
     ]
    },
    {
     "name": "stderr",
     "output_type": "stream",
     "text": [
      "/var/folders/by/hhqkyqc10wnf7p3krlc7zswm0000gn/T/ipykernel_33633/1315015294.py:16: RuntimeWarning: EDF format requires equal-length data blocks, so 0.4375 seconds of zeros were appended to all channels when writing the final block.\n",
      "  mne.export.export_raw(export_path+fname+'-raw.edf', raw)\n"
     ]
    },
    {
     "name": "stdout",
     "output_type": "stream",
     "text": [
      "Creating RawArray with float64 data, n_channels=32, n_times=381688\n",
      "    Range : 0 ... 381687 =      0.000 ...  1490.965 secs\n",
      "Ready.\n",
      "********************************\n",
      "for path /Volumes/Expansion/jhana_study/data/data_sd/eeg44/22-09-06/14-37-44/ no events were detected\n",
      "Writing /Volumes/Expansion/jhana_study/analysis/mne.raw_resting_state/sub5-mindfulness_restingstate-jhana_day4-raw.fif\n",
      "Closing /Volumes/Expansion/jhana_study/analysis/mne.raw_resting_state/sub5-mindfulness_restingstate-jhana_day4-raw.fif\n",
      "[done]\n"
     ]
    },
    {
     "name": "stderr",
     "output_type": "stream",
     "text": [
      "/var/folders/by/hhqkyqc10wnf7p3krlc7zswm0000gn/T/ipykernel_33633/1315015294.py:16: RuntimeWarning: EDF format requires equal-length data blocks, so 0.03125 seconds of zeros were appended to all channels when writing the final block.\n",
      "  mne.export.export_raw(export_path+fname+'-raw.edf', raw)\n"
     ]
    },
    {
     "name": "stdout",
     "output_type": "stream",
     "text": [
      "Creating RawArray with float64 data, n_channels=32, n_times=383408\n",
      "    Range : 0 ... 383407 =      0.000 ...  1497.684 secs\n",
      "Ready.\n",
      "Writing /Volumes/Expansion/jhana_study/analysis/mne.raw_resting_state/sub6-jhana_restingstate-jhana_day1-raw.fif\n",
      "Closing /Volumes/Expansion/jhana_study/analysis/mne.raw_resting_state/sub6-jhana_restingstate-jhana_day1-raw.fif\n",
      "[done]\n"
     ]
    },
    {
     "name": "stderr",
     "output_type": "stream",
     "text": [
      "/var/folders/by/hhqkyqc10wnf7p3krlc7zswm0000gn/T/ipykernel_33633/1315015294.py:16: RuntimeWarning: EDF format requires equal-length data blocks, so 0.3125 seconds of zeros were appended to all channels when writing the final block.\n",
      "  mne.export.export_raw(export_path+fname+'-raw.edf', raw)\n"
     ]
    },
    {
     "name": "stdout",
     "output_type": "stream",
     "text": [
      "Creating RawArray with float64 data, n_channels=32, n_times=379576\n",
      "    Range : 0 ... 379575 =      0.000 ...  1482.715 secs\n",
      "Ready.\n",
      "Writing /Volumes/Expansion/jhana_study/analysis/mne.raw_resting_state/sub6-jhana_restingstate-jhana_day2-raw.fif\n",
      "Closing /Volumes/Expansion/jhana_study/analysis/mne.raw_resting_state/sub6-jhana_restingstate-jhana_day2-raw.fif\n",
      "[done]\n"
     ]
    },
    {
     "name": "stderr",
     "output_type": "stream",
     "text": [
      "/var/folders/by/hhqkyqc10wnf7p3krlc7zswm0000gn/T/ipykernel_33633/1315015294.py:16: RuntimeWarning: EDF format requires equal-length data blocks, so 0.28125 seconds of zeros were appended to all channels when writing the final block.\n",
      "  mne.export.export_raw(export_path+fname+'-raw.edf', raw)\n"
     ]
    },
    {
     "name": "stdout",
     "output_type": "stream",
     "text": [
      "Creating RawArray with float64 data, n_channels=32, n_times=400712\n",
      "    Range : 0 ... 400711 =      0.000 ...  1565.277 secs\n",
      "Ready.\n",
      "Writing /Volumes/Expansion/jhana_study/analysis/mne.raw_resting_state/sub6-jhana_restingstate-jhana_day3-raw.fif\n",
      "Closing /Volumes/Expansion/jhana_study/analysis/mne.raw_resting_state/sub6-jhana_restingstate-jhana_day3-raw.fif\n",
      "[done]\n"
     ]
    },
    {
     "name": "stderr",
     "output_type": "stream",
     "text": [
      "/var/folders/by/hhqkyqc10wnf7p3krlc7zswm0000gn/T/ipykernel_33633/1315015294.py:16: RuntimeWarning: EDF format requires equal-length data blocks, so 0.71875 seconds of zeros were appended to all channels when writing the final block.\n",
      "  mne.export.export_raw(export_path+fname+'-raw.edf', raw)\n"
     ]
    },
    {
     "name": "stdout",
     "output_type": "stream",
     "text": [
      "Creating RawArray with float64 data, n_channels=32, n_times=384344\n",
      "    Range : 0 ... 384343 =      0.000 ...  1501.340 secs\n",
      "Ready.\n",
      "Writing /Volumes/Expansion/jhana_study/analysis/mne.raw_resting_state/sub6-jhana_restingstate-jhana_day4-raw.fif\n",
      "Closing /Volumes/Expansion/jhana_study/analysis/mne.raw_resting_state/sub6-jhana_restingstate-jhana_day4-raw.fif\n",
      "[done]\n"
     ]
    },
    {
     "name": "stderr",
     "output_type": "stream",
     "text": [
      "/var/folders/by/hhqkyqc10wnf7p3krlc7zswm0000gn/T/ipykernel_33633/1315015294.py:16: RuntimeWarning: EDF format requires equal-length data blocks, so 0.65625 seconds of zeros were appended to all channels when writing the final block.\n",
      "  mne.export.export_raw(export_path+fname+'-raw.edf', raw)\n"
     ]
    },
    {
     "name": "stdout",
     "output_type": "stream",
     "text": [
      "Creating RawArray with float64 data, n_channels=32, n_times=391024\n",
      "    Range : 0 ... 391023 =      0.000 ...  1527.434 secs\n",
      "Ready.\n",
      "********************************\n",
      "for path /Volumes/Expansion/jhana_study/data/data_sd/eeg33/22-09-03/17-54-46/ no events were detected\n",
      "Writing /Volumes/Expansion/jhana_study/analysis/mne.raw_resting_state/sub6-mindfulness_restingstate-jhana_day1-raw.fif\n",
      "Closing /Volumes/Expansion/jhana_study/analysis/mne.raw_resting_state/sub6-mindfulness_restingstate-jhana_day1-raw.fif\n",
      "[done]\n"
     ]
    },
    {
     "name": "stderr",
     "output_type": "stream",
     "text": [
      "/var/folders/by/hhqkyqc10wnf7p3krlc7zswm0000gn/T/ipykernel_33633/1315015294.py:16: RuntimeWarning: EDF format requires equal-length data blocks, so 0.5625 seconds of zeros were appended to all channels when writing the final block.\n",
      "  mne.export.export_raw(export_path+fname+'-raw.edf', raw)\n"
     ]
    },
    {
     "name": "stdout",
     "output_type": "stream",
     "text": [
      "Creating RawArray with float64 data, n_channels=32, n_times=366440\n",
      "    Range : 0 ... 366439 =      0.000 ...  1431.402 secs\n",
      "Ready.\n",
      "********************************\n",
      "for path /Volumes/Expansion/jhana_study/data/data_sd/eeg33/22-09-04/16-52-42/ no events were detected\n",
      "Writing /Volumes/Expansion/jhana_study/analysis/mne.raw_resting_state/sub6-mindfulness_restingstate-jhana_day2-raw.fif\n",
      "Closing /Volumes/Expansion/jhana_study/analysis/mne.raw_resting_state/sub6-mindfulness_restingstate-jhana_day2-raw.fif\n",
      "[done]\n"
     ]
    },
    {
     "name": "stderr",
     "output_type": "stream",
     "text": [
      "/var/folders/by/hhqkyqc10wnf7p3krlc7zswm0000gn/T/ipykernel_33633/1315015294.py:16: RuntimeWarning: EDF format requires equal-length data blocks, so 0.59375 seconds of zeros were appended to all channels when writing the final block.\n",
      "  mne.export.export_raw(export_path+fname+'-raw.edf', raw)\n"
     ]
    },
    {
     "name": "stdout",
     "output_type": "stream",
     "text": [
      "Creating RawArray with float64 data, n_channels=32, n_times=386368\n",
      "    Range : 0 ... 386367 =      0.000 ...  1509.246 secs\n",
      "Ready.\n",
      "********************************\n",
      "for path /Volumes/Expansion/jhana_study/data/data_sd/eeg33/22-09-05/17-25-57/ no events were detected\n",
      "Writing /Volumes/Expansion/jhana_study/analysis/mne.raw_resting_state/sub6-mindfulness_restingstate-jhana_day3-raw.fif\n",
      "Closing /Volumes/Expansion/jhana_study/analysis/mne.raw_resting_state/sub6-mindfulness_restingstate-jhana_day3-raw.fif\n",
      "[done]\n"
     ]
    },
    {
     "name": "stderr",
     "output_type": "stream",
     "text": [
      "/var/folders/by/hhqkyqc10wnf7p3krlc7zswm0000gn/T/ipykernel_33633/1315015294.py:16: RuntimeWarning: EDF format requires equal-length data blocks, so 0.75 seconds of zeros were appended to all channels when writing the final block.\n",
      "  mne.export.export_raw(export_path+fname+'-raw.edf', raw)\n"
     ]
    },
    {
     "name": "stdout",
     "output_type": "stream",
     "text": [
      "Creating RawArray with float64 data, n_channels=32, n_times=389416\n",
      "    Range : 0 ... 389415 =      0.000 ...  1521.152 secs\n",
      "Ready.\n",
      "********************************\n",
      "for path /Volumes/Expansion/jhana_study/data/data_sd/eeg33/22-09-06/16-48-55/ no events were detected\n",
      "Writing /Volumes/Expansion/jhana_study/analysis/mne.raw_resting_state/sub6-mindfulness_restingstate-jhana_day4-raw.fif\n",
      "Closing /Volumes/Expansion/jhana_study/analysis/mne.raw_resting_state/sub6-mindfulness_restingstate-jhana_day4-raw.fif\n",
      "[done]\n"
     ]
    },
    {
     "name": "stderr",
     "output_type": "stream",
     "text": [
      "/var/folders/by/hhqkyqc10wnf7p3krlc7zswm0000gn/T/ipykernel_33633/1315015294.py:16: RuntimeWarning: EDF format requires equal-length data blocks, so 0.84375 seconds of zeros were appended to all channels when writing the final block.\n",
      "  mne.export.export_raw(export_path+fname+'-raw.edf', raw)\n"
     ]
    },
    {
     "name": "stdout",
     "output_type": "stream",
     "text": [
      "Creating RawArray with float64 data, n_channels=32, n_times=382856\n",
      "    Range : 0 ... 382855 =      0.000 ...  1495.527 secs\n",
      "Ready.\n",
      "Writing /Volumes/Expansion/jhana_study/analysis/mne.raw_resting_state/sub7-jhana_restingstate-jhana_day1-raw.fif\n",
      "Closing /Volumes/Expansion/jhana_study/analysis/mne.raw_resting_state/sub7-jhana_restingstate-jhana_day1-raw.fif\n",
      "[done]\n"
     ]
    },
    {
     "name": "stderr",
     "output_type": "stream",
     "text": [
      "/var/folders/by/hhqkyqc10wnf7p3krlc7zswm0000gn/T/ipykernel_33633/1315015294.py:16: RuntimeWarning: EDF format requires equal-length data blocks, so 0.46875 seconds of zeros were appended to all channels when writing the final block.\n",
      "  mne.export.export_raw(export_path+fname+'-raw.edf', raw)\n"
     ]
    },
    {
     "name": "stdout",
     "output_type": "stream",
     "text": [
      "Creating RawArray with float64 data, n_channels=32, n_times=390496\n",
      "    Range : 0 ... 390495 =      0.000 ...  1525.371 secs\n",
      "Ready.\n",
      "Writing /Volumes/Expansion/jhana_study/analysis/mne.raw_resting_state/sub7-jhana_restingstate-jhana_day2-raw.fif\n",
      "Closing /Volumes/Expansion/jhana_study/analysis/mne.raw_resting_state/sub7-jhana_restingstate-jhana_day2-raw.fif\n",
      "[done]\n"
     ]
    },
    {
     "name": "stderr",
     "output_type": "stream",
     "text": [
      "/var/folders/by/hhqkyqc10wnf7p3krlc7zswm0000gn/T/ipykernel_33633/1315015294.py:16: RuntimeWarning: EDF format requires equal-length data blocks, so 0.625 seconds of zeros were appended to all channels when writing the final block.\n",
      "  mne.export.export_raw(export_path+fname+'-raw.edf', raw)\n"
     ]
    },
    {
     "name": "stdout",
     "output_type": "stream",
     "text": [
      "Creating RawArray with float64 data, n_channels=32, n_times=398496\n",
      "    Range : 0 ... 398495 =      0.000 ...  1556.621 secs\n",
      "Ready.\n",
      "Writing /Volumes/Expansion/jhana_study/analysis/mne.raw_resting_state/sub7-jhana_restingstate-jhana_day3-raw.fif\n",
      "Closing /Volumes/Expansion/jhana_study/analysis/mne.raw_resting_state/sub7-jhana_restingstate-jhana_day3-raw.fif\n",
      "[done]\n"
     ]
    },
    {
     "name": "stderr",
     "output_type": "stream",
     "text": [
      "/var/folders/by/hhqkyqc10wnf7p3krlc7zswm0000gn/T/ipykernel_33633/1315015294.py:16: RuntimeWarning: EDF format requires equal-length data blocks, so 0.375 seconds of zeros were appended to all channels when writing the final block.\n",
      "  mne.export.export_raw(export_path+fname+'-raw.edf', raw)\n"
     ]
    },
    {
     "name": "stdout",
     "output_type": "stream",
     "text": [
      "Creating RawArray with float64 data, n_channels=32, n_times=384440\n",
      "    Range : 0 ... 384439 =      0.000 ...  1501.715 secs\n",
      "Ready.\n",
      "Writing /Volumes/Expansion/jhana_study/analysis/mne.raw_resting_state/sub7-jhana_restingstate-jhana_day4-raw.fif\n",
      "Closing /Volumes/Expansion/jhana_study/analysis/mne.raw_resting_state/sub7-jhana_restingstate-jhana_day4-raw.fif\n",
      "[done]\n"
     ]
    },
    {
     "name": "stderr",
     "output_type": "stream",
     "text": [
      "/var/folders/by/hhqkyqc10wnf7p3krlc7zswm0000gn/T/ipykernel_33633/1315015294.py:16: RuntimeWarning: EDF format requires equal-length data blocks, so 0.28125 seconds of zeros were appended to all channels when writing the final block.\n",
      "  mne.export.export_raw(export_path+fname+'-raw.edf', raw)\n"
     ]
    },
    {
     "name": "stdout",
     "output_type": "stream",
     "text": [
      "Creating RawArray with float64 data, n_channels=32, n_times=390672\n",
      "    Range : 0 ... 390671 =      0.000 ...  1526.059 secs\n",
      "Ready.\n",
      "********************************\n",
      "for path /Volumes/Expansion/jhana_study/data/data_sd/eeg44/22-09-03/17-54-44/ no events were detected\n",
      "Writing /Volumes/Expansion/jhana_study/analysis/mne.raw_resting_state/sub7-mindfulness_restingstate-jhana_day1-raw.fif\n",
      "Closing /Volumes/Expansion/jhana_study/analysis/mne.raw_resting_state/sub7-mindfulness_restingstate-jhana_day1-raw.fif\n",
      "[done]\n"
     ]
    },
    {
     "name": "stderr",
     "output_type": "stream",
     "text": [
      "/var/folders/by/hhqkyqc10wnf7p3krlc7zswm0000gn/T/ipykernel_33633/1315015294.py:16: RuntimeWarning: EDF format requires equal-length data blocks, so 0.9375 seconds of zeros were appended to all channels when writing the final block.\n",
      "  mne.export.export_raw(export_path+fname+'-raw.edf', raw)\n"
     ]
    },
    {
     "name": "stdout",
     "output_type": "stream",
     "text": [
      "Creating RawArray with float64 data, n_channels=32, n_times=364016\n",
      "    Range : 0 ... 364015 =      0.000 ...  1421.934 secs\n",
      "Ready.\n",
      "********************************\n",
      "for path /Volumes/Expansion/jhana_study/data/data_sd/eeg44/22-09-04/16-52-47/ no events were detected\n",
      "Writing /Volumes/Expansion/jhana_study/analysis/mne.raw_resting_state/sub7-mindfulness_restingstate-jhana_day2-raw.fif\n",
      "Closing /Volumes/Expansion/jhana_study/analysis/mne.raw_resting_state/sub7-mindfulness_restingstate-jhana_day2-raw.fif\n",
      "[done]\n"
     ]
    },
    {
     "name": "stderr",
     "output_type": "stream",
     "text": [
      "/var/folders/by/hhqkyqc10wnf7p3krlc7zswm0000gn/T/ipykernel_33633/1315015294.py:16: RuntimeWarning: EDF format requires equal-length data blocks, so 0.0625 seconds of zeros were appended to all channels when writing the final block.\n",
      "  mne.export.export_raw(export_path+fname+'-raw.edf', raw)\n"
     ]
    },
    {
     "name": "stdout",
     "output_type": "stream",
     "text": [
      "Creating RawArray with float64 data, n_channels=32, n_times=384216\n",
      "    Range : 0 ... 384215 =      0.000 ...  1500.840 secs\n",
      "Ready.\n",
      "********************************\n",
      "for path /Volumes/Expansion/jhana_study/data/data_sd/eeg44/22-09-05/17-26-02/ no events were detected\n",
      "Writing /Volumes/Expansion/jhana_study/analysis/mne.raw_resting_state/sub7-mindfulness_restingstate-jhana_day3-raw.fif\n",
      "Closing /Volumes/Expansion/jhana_study/analysis/mne.raw_resting_state/sub7-mindfulness_restingstate-jhana_day3-raw.fif\n",
      "[done]\n"
     ]
    },
    {
     "name": "stderr",
     "output_type": "stream",
     "text": [
      "/var/folders/by/hhqkyqc10wnf7p3krlc7zswm0000gn/T/ipykernel_33633/1315015294.py:16: RuntimeWarning: EDF format requires equal-length data blocks, so 0.15625 seconds of zeros were appended to all channels when writing the final block.\n",
      "  mne.export.export_raw(export_path+fname+'-raw.edf', raw)\n"
     ]
    },
    {
     "name": "stdout",
     "output_type": "stream",
     "text": [
      "Creating RawArray with float64 data, n_channels=32, n_times=388984\n",
      "    Range : 0 ... 388983 =      0.000 ...  1519.465 secs\n",
      "Ready.\n",
      "********************************\n",
      "for path /Volumes/Expansion/jhana_study/data/data_sd/eeg44/22-09-06/16-48-53/ no events were detected\n",
      "Writing /Volumes/Expansion/jhana_study/analysis/mne.raw_resting_state/sub7-mindfulness_restingstate-jhana_day4-raw.fif\n",
      "Closing /Volumes/Expansion/jhana_study/analysis/mne.raw_resting_state/sub7-mindfulness_restingstate-jhana_day4-raw.fif\n",
      "[done]\n"
     ]
    },
    {
     "name": "stderr",
     "output_type": "stream",
     "text": [
      "/var/folders/by/hhqkyqc10wnf7p3krlc7zswm0000gn/T/ipykernel_33633/1315015294.py:16: RuntimeWarning: EDF format requires equal-length data blocks, so 0.53125 seconds of zeros were appended to all channels when writing the final block.\n",
      "  mne.export.export_raw(export_path+fname+'-raw.edf', raw)\n"
     ]
    },
    {
     "name": "stdout",
     "output_type": "stream",
     "text": [
      "Creating RawArray with float64 data, n_channels=32, n_times=386496\n",
      "    Range : 0 ... 386495 =      0.000 ...  1509.746 secs\n",
      "Ready.\n",
      "Writing /Volumes/Expansion/jhana_study/analysis/mne.raw_resting_state/sub8-jhana_restingstate-jhana_day1-raw.fif\n",
      "Closing /Volumes/Expansion/jhana_study/analysis/mne.raw_resting_state/sub8-jhana_restingstate-jhana_day1-raw.fif\n",
      "[done]\n"
     ]
    },
    {
     "name": "stderr",
     "output_type": "stream",
     "text": [
      "/var/folders/by/hhqkyqc10wnf7p3krlc7zswm0000gn/T/ipykernel_33633/1315015294.py:16: RuntimeWarning: EDF format requires equal-length data blocks, so 0.25 seconds of zeros were appended to all channels when writing the final block.\n",
      "  mne.export.export_raw(export_path+fname+'-raw.edf', raw)\n"
     ]
    },
    {
     "name": "stdout",
     "output_type": "stream",
     "text": [
      "Creating RawArray with float64 data, n_channels=32, n_times=391848\n",
      "    Range : 0 ... 391847 =      0.000 ...  1530.652 secs\n",
      "Ready.\n",
      "********************************\n",
      "for path /Volumes/Expansion/jhana_study/data/data_sd/eeg33/22-09-05/06-09-18/ no events were detected\n",
      "Writing /Volumes/Expansion/jhana_study/analysis/mne.raw_resting_state/sub8-jhana_restingstate-jhana_day2-raw.fif\n",
      "Closing /Volumes/Expansion/jhana_study/analysis/mne.raw_resting_state/sub8-jhana_restingstate-jhana_day2-raw.fif\n",
      "[done]\n"
     ]
    },
    {
     "name": "stderr",
     "output_type": "stream",
     "text": [
      "/var/folders/by/hhqkyqc10wnf7p3krlc7zswm0000gn/T/ipykernel_33633/1315015294.py:16: RuntimeWarning: EDF format requires equal-length data blocks, so 0.34375 seconds of zeros were appended to all channels when writing the final block.\n",
      "  mne.export.export_raw(export_path+fname+'-raw.edf', raw)\n"
     ]
    },
    {
     "name": "stdout",
     "output_type": "stream",
     "text": [
      "Creating RawArray with float64 data, n_channels=32, n_times=391456\n",
      "    Range : 0 ... 391455 =      0.000 ...  1529.121 secs\n",
      "Ready.\n",
      "Writing /Volumes/Expansion/jhana_study/analysis/mne.raw_resting_state/sub8-jhana_restingstate-jhana_day3-raw.fif\n",
      "Closing /Volumes/Expansion/jhana_study/analysis/mne.raw_resting_state/sub8-jhana_restingstate-jhana_day3-raw.fif\n",
      "[done]\n"
     ]
    },
    {
     "name": "stderr",
     "output_type": "stream",
     "text": [
      "/var/folders/by/hhqkyqc10wnf7p3krlc7zswm0000gn/T/ipykernel_33633/1315015294.py:16: RuntimeWarning: EDF format requires equal-length data blocks, so 0.875 seconds of zeros were appended to all channels when writing the final block.\n",
      "  mne.export.export_raw(export_path+fname+'-raw.edf', raw)\n"
     ]
    },
    {
     "name": "stdout",
     "output_type": "stream",
     "text": [
      "Creating RawArray with float64 data, n_channels=32, n_times=386488\n",
      "    Range : 0 ... 386487 =      0.000 ...  1509.715 secs\n",
      "Ready.\n",
      "Writing /Volumes/Expansion/jhana_study/analysis/mne.raw_resting_state/sub8-jhana_restingstate-jhana_day4-raw.fif\n",
      "Closing /Volumes/Expansion/jhana_study/analysis/mne.raw_resting_state/sub8-jhana_restingstate-jhana_day4-raw.fif\n",
      "[done]\n"
     ]
    },
    {
     "name": "stderr",
     "output_type": "stream",
     "text": [
      "/var/folders/by/hhqkyqc10wnf7p3krlc7zswm0000gn/T/ipykernel_33633/1315015294.py:16: RuntimeWarning: EDF format requires equal-length data blocks, so 0.28125 seconds of zeros were appended to all channels when writing the final block.\n",
      "  mne.export.export_raw(export_path+fname+'-raw.edf', raw)\n"
     ]
    },
    {
     "name": "stdout",
     "output_type": "stream",
     "text": [
      "Creating RawArray with float64 data, n_channels=32, n_times=384200\n",
      "    Range : 0 ... 384199 =      0.000 ...  1500.777 secs\n",
      "Ready.\n",
      "********************************\n",
      "for path /Volumes/Expansion/jhana_study/data/data_sd/eeg33/22-09-03/19-34-54/ no events were detected\n",
      "Writing /Volumes/Expansion/jhana_study/analysis/mne.raw_resting_state/sub8-mindfulness_restingstate-jhana_day1-raw.fif\n",
      "Closing /Volumes/Expansion/jhana_study/analysis/mne.raw_resting_state/sub8-mindfulness_restingstate-jhana_day1-raw.fif\n",
      "[done]\n"
     ]
    },
    {
     "name": "stderr",
     "output_type": "stream",
     "text": [
      "/var/folders/by/hhqkyqc10wnf7p3krlc7zswm0000gn/T/ipykernel_33633/1315015294.py:16: RuntimeWarning: EDF format requires equal-length data blocks, so 0.21875 seconds of zeros were appended to all channels when writing the final block.\n",
      "  mne.export.export_raw(export_path+fname+'-raw.edf', raw)\n"
     ]
    },
    {
     "name": "stdout",
     "output_type": "stream",
     "text": [
      "Creating RawArray with float64 data, n_channels=32, n_times=386040\n",
      "    Range : 0 ... 386039 =      0.000 ...  1507.965 secs\n",
      "Ready.\n",
      "********************************\n",
      "for path /Volumes/Expansion/jhana_study/data/data_sd/eeg33/22-09-05/07-03-20/ no events were detected\n",
      "Writing /Volumes/Expansion/jhana_study/analysis/mne.raw_resting_state/sub8-mindfulness_restingstate-jhana_day2-raw.fif\n",
      "Closing /Volumes/Expansion/jhana_study/analysis/mne.raw_resting_state/sub8-mindfulness_restingstate-jhana_day2-raw.fif\n",
      "[done]\n"
     ]
    },
    {
     "name": "stderr",
     "output_type": "stream",
     "text": [
      "/var/folders/by/hhqkyqc10wnf7p3krlc7zswm0000gn/T/ipykernel_33633/1315015294.py:16: RuntimeWarning: EDF format requires equal-length data blocks, so 0.03125 seconds of zeros were appended to all channels when writing the final block.\n",
      "  mne.export.export_raw(export_path+fname+'-raw.edf', raw)\n"
     ]
    },
    {
     "name": "stdout",
     "output_type": "stream",
     "text": [
      "Creating RawArray with float64 data, n_channels=32, n_times=390840\n",
      "    Range : 0 ... 390839 =      0.000 ...  1526.715 secs\n",
      "Ready.\n",
      "********************************\n",
      "for path /Volumes/Expansion/jhana_study/data/data_sd/eeg33/22-09-05/19-35-16/ no events were detected\n",
      "Writing /Volumes/Expansion/jhana_study/analysis/mne.raw_resting_state/sub8-mindfulness_restingstate-jhana_day3-raw.fif\n",
      "Closing /Volumes/Expansion/jhana_study/analysis/mne.raw_resting_state/sub8-mindfulness_restingstate-jhana_day3-raw.fif\n",
      "[done]\n"
     ]
    },
    {
     "name": "stderr",
     "output_type": "stream",
     "text": [
      "/var/folders/by/hhqkyqc10wnf7p3krlc7zswm0000gn/T/ipykernel_33633/1315015294.py:16: RuntimeWarning: EDF format requires equal-length data blocks, so 0.28125 seconds of zeros were appended to all channels when writing the final block.\n",
      "  mne.export.export_raw(export_path+fname+'-raw.edf', raw)\n"
     ]
    },
    {
     "name": "stdout",
     "output_type": "stream",
     "text": [
      "Creating RawArray with float64 data, n_channels=32, n_times=390024\n",
      "    Range : 0 ... 390023 =      0.000 ...  1523.527 secs\n",
      "Ready.\n",
      "********************************\n",
      "for path /Volumes/Expansion/jhana_study/data/data_sd/eeg33/22-09-06/20-34-13/ no events were detected\n",
      "Writing /Volumes/Expansion/jhana_study/analysis/mne.raw_resting_state/sub8-mindfulness_restingstate-jhana_day4-raw.fif\n",
      "Closing /Volumes/Expansion/jhana_study/analysis/mne.raw_resting_state/sub8-mindfulness_restingstate-jhana_day4-raw.fif\n",
      "[done]\n"
     ]
    },
    {
     "name": "stderr",
     "output_type": "stream",
     "text": [
      "/var/folders/by/hhqkyqc10wnf7p3krlc7zswm0000gn/T/ipykernel_33633/1315015294.py:16: RuntimeWarning: EDF format requires equal-length data blocks, so 0.46875 seconds of zeros were appended to all channels when writing the final block.\n",
      "  mne.export.export_raw(export_path+fname+'-raw.edf', raw)\n"
     ]
    },
    {
     "name": "stdout",
     "output_type": "stream",
     "text": [
      "Creating RawArray with float64 data, n_channels=32, n_times=385488\n",
      "    Range : 0 ... 385487 =      0.000 ...  1505.809 secs\n",
      "Ready.\n",
      "Writing /Volumes/Expansion/jhana_study/analysis/mne.raw_resting_state/sub9-jhana_restingstate-jhana_day1-raw.fif\n",
      "Closing /Volumes/Expansion/jhana_study/analysis/mne.raw_resting_state/sub9-jhana_restingstate-jhana_day1-raw.fif\n",
      "[done]\n"
     ]
    },
    {
     "name": "stderr",
     "output_type": "stream",
     "text": [
      "/var/folders/by/hhqkyqc10wnf7p3krlc7zswm0000gn/T/ipykernel_33633/1315015294.py:16: RuntimeWarning: EDF format requires equal-length data blocks, so 0.1875 seconds of zeros were appended to all channels when writing the final block.\n",
      "  mne.export.export_raw(export_path+fname+'-raw.edf', raw)\n"
     ]
    },
    {
     "name": "stdout",
     "output_type": "stream",
     "text": [
      "Creating RawArray with float64 data, n_channels=32, n_times=388728\n",
      "    Range : 0 ... 388727 =      0.000 ...  1518.465 secs\n",
      "Ready.\n",
      "Writing /Volumes/Expansion/jhana_study/analysis/mne.raw_resting_state/sub9-jhana_restingstate-jhana_day2-raw.fif\n",
      "Closing /Volumes/Expansion/jhana_study/analysis/mne.raw_resting_state/sub9-jhana_restingstate-jhana_day2-raw.fif\n",
      "[done]\n"
     ]
    },
    {
     "name": "stderr",
     "output_type": "stream",
     "text": [
      "/var/folders/by/hhqkyqc10wnf7p3krlc7zswm0000gn/T/ipykernel_33633/1315015294.py:16: RuntimeWarning: EDF format requires equal-length data blocks, so 0.53125 seconds of zeros were appended to all channels when writing the final block.\n",
      "  mne.export.export_raw(export_path+fname+'-raw.edf', raw)\n"
     ]
    },
    {
     "name": "stdout",
     "output_type": "stream",
     "text": [
      "Creating RawArray with float64 data, n_channels=32, n_times=389728\n",
      "    Range : 0 ... 389727 =      0.000 ...  1522.371 secs\n",
      "Ready.\n",
      "Writing /Volumes/Expansion/jhana_study/analysis/mne.raw_resting_state/sub9-jhana_restingstate-jhana_day3-raw.fif\n",
      "Closing /Volumes/Expansion/jhana_study/analysis/mne.raw_resting_state/sub9-jhana_restingstate-jhana_day3-raw.fif\n",
      "[done]\n"
     ]
    },
    {
     "name": "stderr",
     "output_type": "stream",
     "text": [
      "/var/folders/by/hhqkyqc10wnf7p3krlc7zswm0000gn/T/ipykernel_33633/1315015294.py:16: RuntimeWarning: EDF format requires equal-length data blocks, so 0.625 seconds of zeros were appended to all channels when writing the final block.\n",
      "  mne.export.export_raw(export_path+fname+'-raw.edf', raw)\n"
     ]
    },
    {
     "name": "stdout",
     "output_type": "stream",
     "text": [
      "Creating RawArray with float64 data, n_channels=32, n_times=388112\n",
      "    Range : 0 ... 388111 =      0.000 ...  1516.059 secs\n",
      "Ready.\n",
      "Writing /Volumes/Expansion/jhana_study/analysis/mne.raw_resting_state/sub9-jhana_restingstate-jhana_day4-raw.fif\n",
      "Closing /Volumes/Expansion/jhana_study/analysis/mne.raw_resting_state/sub9-jhana_restingstate-jhana_day4-raw.fif\n",
      "[done]\n"
     ]
    },
    {
     "name": "stderr",
     "output_type": "stream",
     "text": [
      "/var/folders/by/hhqkyqc10wnf7p3krlc7zswm0000gn/T/ipykernel_33633/1315015294.py:16: RuntimeWarning: EDF format requires equal-length data blocks, so 0.9375 seconds of zeros were appended to all channels when writing the final block.\n",
      "  mne.export.export_raw(export_path+fname+'-raw.edf', raw)\n"
     ]
    },
    {
     "name": "stdout",
     "output_type": "stream",
     "text": [
      "Creating RawArray with float64 data, n_channels=32, n_times=385704\n",
      "    Range : 0 ... 385703 =      0.000 ...  1506.652 secs\n",
      "Ready.\n",
      "********************************\n",
      "for path /Volumes/Expansion/jhana_study/data/data_sd/eeg44/22-09-03/19-34-51/ no events were detected\n",
      "Writing /Volumes/Expansion/jhana_study/analysis/mne.raw_resting_state/sub9-mindfulness_restingstate-jhana_day1-raw.fif\n",
      "Closing /Volumes/Expansion/jhana_study/analysis/mne.raw_resting_state/sub9-mindfulness_restingstate-jhana_day1-raw.fif\n",
      "[done]\n"
     ]
    },
    {
     "name": "stderr",
     "output_type": "stream",
     "text": [
      "/var/folders/by/hhqkyqc10wnf7p3krlc7zswm0000gn/T/ipykernel_33633/1315015294.py:16: RuntimeWarning: EDF format requires equal-length data blocks, so 0.34375 seconds of zeros were appended to all channels when writing the final block.\n",
      "  mne.export.export_raw(export_path+fname+'-raw.edf', raw)\n"
     ]
    },
    {
     "name": "stdout",
     "output_type": "stream",
     "text": [
      "Creating RawArray with float64 data, n_channels=32, n_times=384304\n",
      "    Range : 0 ... 384303 =      0.000 ...  1501.184 secs\n",
      "Ready.\n",
      "********************************\n",
      "for path /Volumes/Expansion/jhana_study/data/data_sd/eeg44/22-09-04/20-47-28/ no events were detected\n",
      "Writing /Volumes/Expansion/jhana_study/analysis/mne.raw_resting_state/sub9-mindfulness_restingstate-jhana_day2-raw.fif\n",
      "Closing /Volumes/Expansion/jhana_study/analysis/mne.raw_resting_state/sub9-mindfulness_restingstate-jhana_day2-raw.fif\n",
      "[done]\n"
     ]
    },
    {
     "name": "stderr",
     "output_type": "stream",
     "text": [
      "/var/folders/by/hhqkyqc10wnf7p3krlc7zswm0000gn/T/ipykernel_33633/1315015294.py:16: RuntimeWarning: EDF format requires equal-length data blocks, so 0.8125 seconds of zeros were appended to all channels when writing the final block.\n",
      "  mne.export.export_raw(export_path+fname+'-raw.edf', raw)\n"
     ]
    },
    {
     "name": "stdout",
     "output_type": "stream",
     "text": [
      "Creating RawArray with float64 data, n_channels=32, n_times=387632\n",
      "    Range : 0 ... 387631 =      0.000 ...  1514.184 secs\n",
      "Ready.\n",
      "********************************\n",
      "for path /Volumes/Expansion/jhana_study/data/data_sd/eeg44/22-09-05/19-35-20/ no events were detected\n",
      "Writing /Volumes/Expansion/jhana_study/analysis/mne.raw_resting_state/sub9-mindfulness_restingstate-jhana_day3-raw.fif\n",
      "Closing /Volumes/Expansion/jhana_study/analysis/mne.raw_resting_state/sub9-mindfulness_restingstate-jhana_day3-raw.fif\n",
      "[done]\n"
     ]
    },
    {
     "name": "stderr",
     "output_type": "stream",
     "text": [
      "/var/folders/by/hhqkyqc10wnf7p3krlc7zswm0000gn/T/ipykernel_33633/1315015294.py:16: RuntimeWarning: EDF format requires equal-length data blocks, so 0.8125 seconds of zeros were appended to all channels when writing the final block.\n",
      "  mne.export.export_raw(export_path+fname+'-raw.edf', raw)\n"
     ]
    },
    {
     "name": "stdout",
     "output_type": "stream",
     "text": [
      "Creating RawArray with float64 data, n_channels=32, n_times=390040\n",
      "    Range : 0 ... 390039 =      0.000 ...  1523.590 secs\n",
      "Ready.\n",
      "********************************\n",
      "for path /Volumes/Expansion/jhana_study/data/data_sd/eeg44/22-09-06/20-34-18/ no events were detected\n",
      "Writing /Volumes/Expansion/jhana_study/analysis/mne.raw_resting_state/sub9-mindfulness_restingstate-jhana_day4-raw.fif\n",
      "Closing /Volumes/Expansion/jhana_study/analysis/mne.raw_resting_state/sub9-mindfulness_restingstate-jhana_day4-raw.fif\n",
      "[done]\n"
     ]
    },
    {
     "name": "stderr",
     "output_type": "stream",
     "text": [
      "/var/folders/by/hhqkyqc10wnf7p3krlc7zswm0000gn/T/ipykernel_33633/1315015294.py:16: RuntimeWarning: EDF format requires equal-length data blocks, so 0.40625 seconds of zeros were appended to all channels when writing the final block.\n",
      "  mne.export.export_raw(export_path+fname+'-raw.edf', raw)\n"
     ]
    }
   ],
   "source": [
    "df = pd.read_excel(r'/Users/jonasmago/PhD_code_data/Jhana_US/jhana_metadata.xlsx', sheet_name=None)\n",
    "\n",
    "export_path = '/Users/jonasmago/PhD_code_data/Jhana_US/analysis/mne.raw_resting_state/'\n",
    "\n",
    "if not os.path.exists(export_path):\n",
    "    os.makedirs(export_path)\n",
    "\n",
    "for subject in atpbar([4,5,6,7,8,9]): #range(10)\n",
    "    for recording_name in ['jhana_eeg_fname', 'mindfulness_eeg_fname']:\n",
    "        for sheet in ['jhana_day1', 'jhana_day2', 'jhana_day3', 'jhana_day4']: \n",
    "            path = get_path (df, sheet, subject, recording_name)\n",
    "            raw, event_info = csv_to_raw(path, import_button_events=True, button_events_threshold=10000, plot_button_events=False)\n",
    "            fname = 'sub'+str(subject)+'-'+recording_name[:-10]+'_restingstate-'+sheet\n",
    "            \n",
    "            raw.save(export_path+fname+'-raw.fif')\n",
    "            mne.export.export_raw(export_path+fname+'-raw.edf', raw)\n",
    "            \n",
    "            txt_path = \"/Users/jonasmago/PhD_code_data/Jhana_US/analysis/mne.raw_resting_state/events_info.txt\"\n",
    "            txt_string=fname+': '+str(event_info)\n",
    "            txt_file(txt_path, txt_string)\n",
    "txt_file(txt_path, 'done')"
   ]
  }
 ],
 "metadata": {
  "kernelspec": {
   "display_name": "Python 3 (ipykernel)",
   "language": "python",
   "name": "python3"
  },
  "language_info": {
   "codemirror_mode": {
    "name": "ipython",
    "version": 3
   },
   "file_extension": ".py",
   "mimetype": "text/x-python",
   "name": "python",
   "nbconvert_exporter": "python",
   "pygments_lexer": "ipython3",
   "version": "3.9.12"
  }
 },
 "nbformat": 4,
 "nbformat_minor": 5
}
