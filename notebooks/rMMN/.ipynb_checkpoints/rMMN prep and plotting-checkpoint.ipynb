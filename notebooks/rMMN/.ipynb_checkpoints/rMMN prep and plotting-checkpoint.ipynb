{
 "cells": [
  {
   "cell_type": "markdown",
   "id": "c53315cb-5bf8-4f5e-92d1-4ffee4c768c8",
   "metadata": {},
   "source": [
    "# rMMN"
   ]
  },
  {
   "cell_type": "code",
   "execution_count": 1,
   "id": "800f6781",
   "metadata": {},
   "outputs": [],
   "source": [
    "%load_ext autoreload\n",
    "%autoreload 2\n",
    "%matplotlib qt\n",
    "\n",
    "import numpy as np\n",
    "import csv\n",
    "import matplotlib.pyplot as plt\n",
    "import pandas as pd\n",
    "import os\n",
    "import glob\n",
    "from tqdm import tqdm \n",
    "from atpbar import atpbar\n",
    "from datetime import datetime\n",
    "import mne\n",
    "from autoreject import AutoReject\n",
    "from mne.preprocessing import ICA, corrmap, create_ecg_epochs, create_eog_epochs\n",
    "\n",
    "from pyprep.find_noisy_channels import NoisyChannels\n",
    "from mne_icalabel import label_components\n",
    "\n",
    "import autoreject"
   ]
  },
  {
   "cell_type": "code",
   "execution_count": 156,
   "id": "f5cdc713-c9f2-422c-b196-ebfed4f2d792",
   "metadata": {},
   "outputs": [],
   "source": [
    "def process_events_array(events):\n",
    "    # Initialize counter\n",
    "    counter = 0\n",
    "\n",
    "    # Process array\n",
    "    for i in range(events.shape[0]):\n",
    "        if events[i, 2] == -1:\n",
    "            events[i, 2] = 0\n",
    "            counter = 0\n",
    "        else:\n",
    "            counter += 1\n",
    "            events[i, 2] = counter\n",
    "\n",
    "    return events\n",
    "\n",
    "\n",
    "def raw_to_events(raw):\n",
    "    event_id = {'-1':-1, '1':1,}\n",
    "    events = mne.events_from_annotations(raw, event_id=event_id)[0]\n",
    "    if len(events)==0:\n",
    "        events = np.zeros((1,3))\n",
    "        events = events.astype(int)\n",
    "\n",
    "    processed_events = process_events_array(events)\n",
    "    return processed_events"
   ]
  },
  {
   "cell_type": "code",
   "execution_count": 3,
   "id": "d72440d5-2813-414f-8c2e-3aea62bd77d0",
   "metadata": {},
   "outputs": [],
   "source": [
    "# Suppress MNE output\n",
    "#mne.set_log_level('WARNING')\n",
    "mne.set_log_level('ERROR')\n",
    "#mne.set_log_level('CRITICAL')\n",
    "#mne.set_log_level('INFO')\n",
    "\n"
   ]
  },
  {
   "cell_type": "code",
   "execution_count": 239,
   "id": "97c63c89-3348-4ed8-abaf-5450eb61e0f8",
   "metadata": {},
   "outputs": [],
   "source": [
    "sub = '*'\n",
    "picks = 'Cz'\n",
    "\n",
    "paths = glob.glob(f\"../../data/mne_raw_events/sub{sub}-LTP_*-rmmn-raw_phot-events.fif\")\n",
    "paths.sort()\n",
    "\n",
    "for path in paths:\n",
    "    raw = mne.io.read_raw_fif(path, preload=True)\n",
    "    montage = mne.channels.make_standard_montage('standard_1020')\n",
    "    raw.set_montage(montage)\n",
    "    \n",
    "    raw.pick_channels([picks])  \n",
    "    \n",
    "    filt_raw = raw.copy()\n",
    "    #filt_raw.filter(0.3, 45)\n",
    "    filt_raw.filter(0.1, 60)\n",
    "    filt_raw.notch_filter(freqs=[60,76, 120])\n",
    "    filt_raw.notch_filter(freqs=84, notch_widths=1, phase='zero')          \n",
    "    \n",
    "    events = raw_to_events(filt_raw)    \n",
    "    epochs = mne.Epochs(filt_raw, events, tmin=-0.1, tmax=0.5, baseline=(-0.1, 0), preload=True)\n",
    "\n",
    "    #ar = autoreject.AutoReject(n_interpolate=[1, 2, 3, 4], random_state=11, n_jobs=12, verbose=False)\n",
    "    #ar.fit(epochs)\n",
    "    #epochs, reject_log = ar.transform(epochs, return_log=True)\n",
    "\n",
    "    reject_criteria = dict(eeg=80e-6)\n",
    "    epochs.drop_bad(reject=reject_criteria)\n",
    "    \n",
    "    basename = os.path.basename(path)\n",
    "    export_name = basename[:4]+'_'+basename[9:-25]\n",
    "    export_path = \"epochs/\" + export_name\n",
    "    epochs.save(export_path, overwrite=True)\n",
    "\n",
    "    ############################\n",
    "    ### PLOTTING ###\n",
    "    ############################\n",
    "    \n",
    "    evokeds = dict(\n",
    "        oddball=list(epochs[\"0\"].iter_evoked()),\n",
    "        t1=list(epochs[\"1\"].iter_evoked()),\n",
    "        t2=list(epochs[\"2\"].iter_evoked()),\n",
    "        t3=list(epochs[\"3\"].iter_evoked()),\n",
    "        t4=list(epochs[\"4\"].iter_evoked()),\n",
    "        t5=list(epochs[\"5\"].iter_evoked()),\n",
    "        t6=list(epochs[\"6\"].iter_evoked()),\n",
    "    )\n",
    "    \n",
    "    \n",
    "    mne.viz.plot_compare_evokeds(evokeds, combine=\"mean\", picks=picks, title=export_name)\n",
    "    plt.savefig(f'plots/{export_name}')\n",
    "    plt.close()\n",
    "\n",
    "\n",
    "    \"\"\"    \n",
    "    conditions = [0,1,2,3,4,5,6]\n",
    "    conditions = [0,5]\n",
    "    evokeds = {str(condition): epochs[str(condition)].average() for condition in conditions}\n",
    "    mne.viz.plot_compare_evokeds(evokeds, combine='mean', ci=True)\n",
    "    \"\"\""
   ]
  },
  {
   "cell_type": "code",
   "execution_count": null,
   "id": "0c951ae7-ca6e-4fbb-a198-c4bfb9e270a4",
   "metadata": {},
   "outputs": [],
   "source": []
  },
  {
   "cell_type": "code",
   "execution_count": null,
   "id": "2119384b-8f47-46a8-b203-c39d57097ee7",
   "metadata": {},
   "outputs": [],
   "source": []
  },
  {
   "cell_type": "code",
   "execution_count": null,
   "id": "017ca8f8-f419-444b-89c5-c11b82c85ad0",
   "metadata": {},
   "outputs": [],
   "source": []
  },
  {
   "cell_type": "code",
   "execution_count": null,
   "id": "ff20c3a7-7966-4d50-a5e6-34b8c6bee03d",
   "metadata": {},
   "outputs": [],
   "source": []
  },
  {
   "cell_type": "markdown",
   "id": "d12c80e8-f5d8-4585-9dcf-72906ba01f7e",
   "metadata": {},
   "source": [
    "# Plot power spectrum"
   ]
  },
  {
   "cell_type": "code",
   "execution_count": null,
   "id": "b1724f35-9ad1-4b9d-a299-977a10d391a2",
   "metadata": {},
   "outputs": [],
   "source": [
    "frequencies = np.arange(7, 30, 3)\n",
    "power = epochs['1'].compute_tfr(\n",
    "    \"morlet\", n_cycles=2, return_itc=False, freqs=frequencies, decim=3, average=True\n",
    ")\n",
    "power.plot([\"Cz\"])"
   ]
  },
  {
   "cell_type": "code",
   "execution_count": null,
   "id": "73cef5d9-6c8a-4ae9-8481-a7d72435cb68",
   "metadata": {},
   "outputs": [],
   "source": []
  }
 ],
 "metadata": {
  "kernelspec": {
   "display_name": "mne_ica",
   "language": "python",
   "name": "mne_ica"
  },
  "language_info": {
   "codemirror_mode": {
    "name": "ipython",
    "version": 3
   },
   "file_extension": ".py",
   "mimetype": "text/x-python",
   "name": "python",
   "nbconvert_exporter": "python",
   "pygments_lexer": "ipython3",
   "version": "3.10.11"
  }
 },
 "nbformat": 4,
 "nbformat_minor": 5
}
