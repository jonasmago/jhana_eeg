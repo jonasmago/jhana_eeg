{
 "cells": [
  {
   "cell_type": "code",
   "execution_count": 30,
   "id": "c6a40680",
   "metadata": {},
   "outputs": [
    {
     "name": "stdout",
     "output_type": "stream",
     "text": [
      "The autoreload extension is already loaded. To reload it, use:\n",
      "  %reload_ext autoreload\n"
     ]
    },
    {
     "ename": "ModuleNotFoundError",
     "evalue": "No module named 'sort'",
     "output_type": "error",
     "traceback": [
      "\u001b[0;31m---------------------------------------------------------------------------\u001b[0m",
      "\u001b[0;31mModuleNotFoundError\u001b[0m                       Traceback (most recent call last)",
      "Input \u001b[0;32mIn [30]\u001b[0m, in \u001b[0;36m<cell line: 14>\u001b[0;34m()\u001b[0m\n\u001b[1;32m     12\u001b[0m \u001b[38;5;28;01mimport\u001b[39;00m \u001b[38;5;21;01mscipy\u001b[39;00m\u001b[38;5;21;01m.\u001b[39;00m\u001b[38;5;21;01mfftpack\u001b[39;00m\n\u001b[1;32m     13\u001b[0m \u001b[38;5;28;01mimport\u001b[39;00m \u001b[38;5;21;01mglob\u001b[39;00m\n\u001b[0;32m---> 14\u001b[0m \u001b[38;5;28;01mimport\u001b[39;00m \u001b[38;5;21;01msort\u001b[39;00m\n\u001b[1;32m     16\u001b[0m sys\u001b[38;5;241m.\u001b[39mpath\u001b[38;5;241m.\u001b[39mappend(\u001b[38;5;124m'\u001b[39m\u001b[38;5;124m../..\u001b[39m\u001b[38;5;124m'\u001b[39m)\n\u001b[1;32m     17\u001b[0m \u001b[38;5;28;01mfrom\u001b[39;00m \u001b[38;5;21;01matpbar\u001b[39;00m \u001b[38;5;28;01mimport\u001b[39;00m atpbar\n",
      "\u001b[0;31mModuleNotFoundError\u001b[0m: No module named 'sort'"
     ]
    }
   ],
   "source": [
    "%load_ext autoreload\n",
    "%autoreload 2\n",
    "%matplotlib qt\n",
    "\n",
    "import numpy as np\n",
    "import csv\n",
    "import matplotlib.pyplot as plt\n",
    "import pandas as pd\n",
    "import os\n",
    "import sys\n",
    "import autoreject\n",
    "import scipy.fftpack\n",
    "import glob\n",
    "\n",
    "sys.path.append('../..')\n",
    "from atpbar import atpbar\n",
    "from utils.csv_utils import *\n",
    "from utils.lsl_utils import *\n",
    "from utils.MNE_utils import *"
   ]
  },
  {
   "cell_type": "markdown",
   "id": "9d101143",
   "metadata": {},
   "source": [
    "# cleaning\n",
    "[link](https://autoreject.github.io/stable/auto_examples/plot_autoreject_workflow.html)"
   ]
  },
  {
   "cell_type": "markdown",
   "id": "b8a59690",
   "metadata": {},
   "source": [
    "\n",
    "raw.filter(l_freq=1, h_freq=None)\n",
    "epochs = mne.make_fixed_length_epochs(raw, duration=3, preload=True)\n",
    "ar = autoreject.AutoReject(n_interpolate=[1, 2, 3, 4], random_state=11,\n",
    "                           n_jobs=1, verbose=True)\n",
    "ar.fit(epochs[:20])  # fit on a few epochs to save time\n",
    "epochs_ar, reject_log = ar.transform(epochs, return_log=True)"
   ]
  },
  {
   "cell_type": "markdown",
   "id": "3cc623be",
   "metadata": {},
   "source": [
    "ica = mne.preprocessing.ICA(random_state=99)\n",
    "ica.fit(epochs[~reject_log.bad_epochs])"
   ]
  },
  {
   "cell_type": "markdown",
   "id": "62fab600",
   "metadata": {},
   "source": [
    "# Plot Histogram"
   ]
  },
  {
   "cell_type": "code",
   "execution_count": 19,
   "id": "c7f00f1f",
   "metadata": {},
   "outputs": [],
   "source": [
    "def plot_hostogram (raw, fname):\n",
    "    data = raw.get_data()\n",
    "    events = mne.events_from_annotations(raw)[0]\n",
    "\n",
    "    sample_freq = 256  # Sample frequency\n",
    "    window_length_s = 10  # Window length in seconds\n",
    "    window_length = sample_freq * window_length_s  # Window length in samples\n",
    "    step_size = window_length  # If you want overlapping windows, decrease this number\n",
    "\n",
    "    # Calculate number of windows\n",
    "    num_windows = (data.shape[1] - window_length) // step_size + 1\n",
    "\n",
    "    # For storing results\n",
    "    all_windows_fft = []\n",
    "\n",
    "    # Loop over windows\n",
    "    for i in range(num_windows):\n",
    "        # Define start and end indices for the window\n",
    "        start = i * step_size\n",
    "        end = start + window_length\n",
    "\n",
    "        # Extract window\n",
    "        window = data[:, start:end]\n",
    "\n",
    "        # Compute mean over all time series\n",
    "        window_mean = np.mean(window, axis=0)\n",
    "\n",
    "        # Compute FFT\n",
    "        window_fft = np.abs(scipy.fftpack.fft(window_mean))\n",
    "\n",
    "        # Store result\n",
    "        all_windows_fft.append(window_fft)\n",
    "\n",
    "    # Stack results\n",
    "    all_windows_fft = np.stack(all_windows_fft, axis=0)\n",
    "\n",
    "    # Keep only first half of FFT results (since they are symmetric)\n",
    "    all_windows_fft = all_windows_fft[:, :window_length // 2]\n",
    "\n",
    "    # Compute frequencies corresponding to FFT results\n",
    "    frequencies = scipy.fftpack.fftfreq(window_length, d=1/sample_freq)[:window_length // 2]\n",
    "\n",
    "    # Apply frequency mask\n",
    "    mask = (frequencies >= 0) & (frequencies <= 70)\n",
    "    all_windows_fft = all_windows_fft[:, mask]\n",
    "    frequencies = frequencies[mask]\n",
    "\n",
    "    # Display results\n",
    "    plt.figure(figsize=(10, 6))\n",
    "    plt.imshow(np.log(all_windows_fft.T), aspect='auto', cmap='hot', origin='lower',\n",
    "               extent=[0, num_windows, frequencies[0], frequencies[-1]])\n",
    "    #           vmin=np.min(2), vmax=np.max(-2))  # Set color bar limits here\n",
    "    plt.colorbar(format='%+2.0f dB')\n",
    "    plt.title('Spectrogram (averaged over all time series)', y=1.06)\n",
    "    plt.xlabel('Time (window number)')\n",
    "    plt.ylabel('Frequency (Hz)')\n",
    "    plt.tight_layout()\n",
    "    for state in events:\n",
    "        transition_time = state[0]\n",
    "        state_name = state[2]\n",
    "        normalized_transition_time = transition_time/256/10\n",
    "        plt.axvline(x=normalized_transition_time, color='b', linestyle='--')  # Draw vertical line at each state transition\n",
    "        plt.text(transition_time/data.shape[1], 1.01, state[2], transform=plt.gca().transAxes, rotation=0, va='bottom', ha='center')\n",
    "    plt.tight_layout()\n",
    "    plt.savefig(fname)\n"
   ]
  },
  {
   "cell_type": "code",
   "execution_count": null,
   "id": "eb951449",
   "metadata": {},
   "outputs": [],
   "source": []
  },
  {
   "cell_type": "code",
   "execution_count": null,
   "id": "abe32647",
   "metadata": {},
   "outputs": [],
   "source": [
    "f_path=\"/Users/jonasmago/PhD_code_data/Jhana US/analysis/mne.raw_resting_state/sub1-jhana_restingstate-jhana_day1-raw.fif\"\n",
    "raw = mne.io.read_raw_fif(f_path, preload=True)"
   ]
  },
  {
   "cell_type": "code",
   "execution_count": 20,
   "id": "e2b879e3",
   "metadata": {},
   "outputs": [
    {
     "name": "stdout",
     "output_type": "stream",
     "text": [
      "Used Annotations descriptions: ['2', '3', '4']\n"
     ]
    }
   ],
   "source": [
    "plot_hostogram (raw=raw, fname=\"/Users/jonasmago/Desktop/cleaned2.png\")"
   ]
  },
  {
   "cell_type": "code",
   "execution_count": 29,
   "id": "54677b17",
   "metadata": {},
   "outputs": [
    {
     "ename": "NameError",
     "evalue": "name 'sort' is not defined",
     "output_type": "error",
     "traceback": [
      "\u001b[0;31m---------------------------------------------------------------------------\u001b[0m",
      "\u001b[0;31mNameError\u001b[0m                                 Traceback (most recent call last)",
      "Input \u001b[0;32mIn [29]\u001b[0m, in \u001b[0;36m<cell line: 1>\u001b[0;34m()\u001b[0m\n\u001b[0;32m----> 1\u001b[0m \u001b[43msort\u001b[49m(glob\u001b[38;5;241m.\u001b[39mglob (\u001b[38;5;124m\"\u001b[39m\u001b[38;5;124m/Users/jonasmago/PhD_code_data/Jhana US/analysis/mne.raw_resting_state/*-raw.fif\u001b[39m\u001b[38;5;124m\"\u001b[39m))\n",
      "\u001b[0;31mNameError\u001b[0m: name 'sort' is not defined"
     ]
    }
   ],
   "source": [
    "sort(glob.glob (\"/Users/jonasmago/PhD_code_data/Jhana US/analysis/mne.raw_resting_state/*-raw.fif\"))\n",
    "\n"
   ]
  },
  {
   "cell_type": "code",
   "execution_count": null,
   "id": "41d19c75",
   "metadata": {},
   "outputs": [],
   "source": []
  }
 ],
 "metadata": {
  "kernelspec": {
   "display_name": "Python 3 (ipykernel)",
   "language": "python",
   "name": "python3"
  },
  "language_info": {
   "codemirror_mode": {
    "name": "ipython",
    "version": 3
   },
   "file_extension": ".py",
   "mimetype": "text/x-python",
   "name": "python",
   "nbconvert_exporter": "python",
   "pygments_lexer": "ipython3",
   "version": "3.9.12"
  }
 },
 "nbformat": 4,
 "nbformat_minor": 5
}
