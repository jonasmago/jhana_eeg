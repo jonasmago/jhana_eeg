{
 "cells": [
  {
   "cell_type": "code",
   "execution_count": 1,
   "id": "ef2f182e",
   "metadata": {},
   "outputs": [],
   "source": [
    "%load_ext autoreload\n",
    "%autoreload 2\n",
    "%matplotlib qt\n",
    "\n",
    "import numpy as np\n",
    "import autoreject\n",
    "import csv\n",
    "import matplotlib.pyplot as plt\n",
    "import pandas as pd\n",
    "import mne\n",
    "import os\n",
    "import sys\n",
    "from atpbar import atpbar\n",
    "#from utils.csv_utils_new import *\n",
    "#from utils.lsl_utils_new import *\n",
    "#from utils.MNE_utils import *"
   ]
  },
  {
   "cell_type": "markdown",
   "id": "7cabf50e",
   "metadata": {},
   "source": [
    "# TESTING HAND CLEANING"
   ]
  },
  {
   "cell_type": "markdown",
   "id": "6167ab41",
   "metadata": {},
   "source": [
    "# testing cleaning strategies"
   ]
  },
  {
   "cell_type": "code",
   "execution_count": null,
   "id": "c0a3d923",
   "metadata": {},
   "outputs": [],
   "source": [
    "        \n",
    "ar = AutoReject(picks=eeg_picks)\n",
    "epochs_clean = ar.fit_transform(epochs)\n",
    "\n",
    "plot_evokeds(epochs_clean, condition='ar cleaned')\n",
    "plot_evokeds(epochs, condition='uncleaned')\n",
    "\n"
   ]
  },
  {
   "cell_type": "code",
   "execution_count": null,
   "id": "e7a2755e",
   "metadata": {},
   "outputs": [],
   "source": [
    "def plot_evokeds (epochs, subject='-', condition='-'):\n",
    "    evokeds = dict()\n",
    "    subset = epochs['1']\n",
    "    evokeds['standard'] = list(subset.iter_evoked())\n",
    "    subset = epochs['-1']\n",
    "    evokeds['oddball'] = list(subset.iter_evoked())\n",
    "    mne.viz.plot_compare_evokeds(evokeds, picks='Fz', ci=0.95, title=f'global oddball evoked response: subject {str(subject)}, {condition}') #Fz for MMN, Pz for LTP\n"
   ]
  },
  {
   "cell_type": "code",
   "execution_count": 77,
   "id": "9a2a9ffa",
   "metadata": {},
   "outputs": [],
   "source": [
    "def plot_evokeds (epochs):\n",
    "    evokeds = dict()\n",
    "    subset = epochs['1']\n",
    "    evokeds['standard'] = list(subset.iter_evoked())\n",
    "    subset = epochs['-1']\n",
    "    evokeds['oddball'] = list(subset.iter_evoked())\n",
    "    mne.viz.plot_compare_evokeds(evokeds, picks='Fz', ci=0.95, title=f'global oddball evoked response: subject {str(subject)}, {condition}') #Fz for MMN, Pz for LTP"
   ]
  },
  {
   "cell_type": "code",
   "execution_count": 187,
   "id": "4e311393",
   "metadata": {},
   "outputs": [
    {
     "name": "stdout",
     "output_type": "stream",
     "text": [
      "Reading /Users/jonasmago/PhD_code_data/Jhana_US/analysis/epochs_mmn/jhana_sub7-epo.fif ...\n",
      "    Found the data of interest:\n",
      "        t =    -101.56 ...    1000.00 ms\n",
      "        0 CTF compensation matrices available\n",
      "Not setting metadata\n",
      "1157 matching events found\n",
      "No baseline correction applied\n",
      "0 projection items activated\n",
      "Reading /Users/jonasmago/PhD_code_data/Jhana_US/analysis/epochs_mmn/mindfulness_sub7-epo.fif ...\n",
      "    Found the data of interest:\n",
      "        t =    -101.56 ...    1000.00 ms\n",
      "        0 CTF compensation matrices available\n",
      "Not setting metadata\n",
      "995 matching events found\n",
      "No baseline correction applied\n",
      "0 projection items activated\n"
     ]
    },
    {
     "name": "stderr",
     "output_type": "stream",
     "text": [
      "2023-10-04 10:34:54.165 python[39098:5274541] +[CATransaction synchronize] called within transaction\n",
      "2023-10-04 10:35:08.836 python[39098:5274541] +[CATransaction synchronize] called within transaction\n"
     ]
    }
   ],
   "source": [
    "subject = 7 #0-9, not 6\n",
    "for condition in ['jhana', 'mindfulness']:\n",
    "    fname = f'/Users/jonasmago/PhD_code_data/Jhana_US/analysis/epochs_mmn/{condition}_sub{str(subject)}-epo.fif'\n",
    "\n",
    "    epochs = mne.read_epochs(fname)\n",
    "    \n",
    "#    ar = autoreject.AutoReject(n_interpolate=[1, 2, 3, 4], random_state=11,n_jobs=1, verbose=True)\n",
    "#    ar.fit(epochs)\n",
    "#    epochs, reject_log = ar.transform(epochs, return_log=True)\n",
    "\n",
    "    #epochs.filter(1, 40)\n",
    "    #epochs = epochs.set_eeg_reference(ref_channels='average')\n",
    "\n",
    "    evokeds = dict()\n",
    "    subset = epochs['1']\n",
    "    evokeds['standard'] = list(subset.iter_evoked())\n",
    "    subset = epochs['-1']\n",
    "    evokeds['oddball'] = list(subset.iter_evoked())\n",
    "    #mne.viz.plot_compare_evokeds(evokeds, picks='Fz', ci=0.95, title=f'global oddball evoked response: subject {str(subject)}, {condition}') #Fz for MMN, Pz for LTP\n",
    "    mne.viz.plot_compare_evokeds(evokeds, picks='Fz', ci=0.95, title=f'global oddball evoked response: {condition}') #Fz for MMN, Pz for LTP\n"
   ]
  },
  {
   "cell_type": "code",
   "execution_count": null,
   "id": "68d0bcb7",
   "metadata": {},
   "outputs": [],
   "source": [
    "# clean EPOCHS\n",
    "\n",
    "def clean_epochs_full (epochs):\n",
    "    ica = mne.preprocessing.ICA(n_components=32, random_state=97, max_iter=\"auto\")\n",
    "    ica.fit(epochs)\n",
    "    muscle_idx_auto, scores = ica.find_bads_muscle(epochs)\n",
    "    print (f\"excluded ICA components: {muscle_idx_auto}\")\n",
    "    epochs_ica = ica.apply(epochs.copy(), exclude=muscle_idx_auto)\n",
    "    \n",
    "    ar = autoreject.AutoReject(n_interpolate=[1, 2, 3, 4], random_state=11,n_jobs=1, verbose=False)\n",
    "    ar.fit(epochs_ica)\n",
    "    epochs_ar, reject_log = ar.transform(epochs_ica, return_log=True)\n",
    "    epochs_ar.filter(None, 40)\n",
    "    print (f\"retention rate: {len(epochs_ar)}/{len(epochs)}\")\n",
    "    return (epochs, epochs_ica, epochs_ar, reject_log)"
   ]
  }
 ],
 "metadata": {
  "kernelspec": {
   "display_name": "Python 3 (ipykernel)",
   "language": "python",
   "name": "python3"
  },
  "language_info": {
   "codemirror_mode": {
    "name": "ipython",
    "version": 3
   },
   "file_extension": ".py",
   "mimetype": "text/x-python",
   "name": "python",
   "nbconvert_exporter": "python",
   "pygments_lexer": "ipython3",
   "version": "3.9.12"
  }
 },
 "nbformat": 4,
 "nbformat_minor": 5
}
