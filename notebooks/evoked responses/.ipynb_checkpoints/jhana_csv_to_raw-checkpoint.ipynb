{
 "cells": [
  {
   "cell_type": "code",
   "execution_count": 1,
   "id": "f874ac0a",
   "metadata": {},
   "outputs": [],
   "source": [
    "%load_ext autoreload\n",
    "%autoreload 2\n",
    "%matplotlib qt\n",
    "\n",
    "import numpy as np\n",
    "import csv\n",
    "import matplotlib.pyplot as plt\n",
    "import pandas as pd\n",
    "import os\n",
    "\n",
    "from atpbar import atpbar\n",
    "\n",
    "import sys\n",
    "sys.path.append('../..')\n",
    "from utils.csv_utils import *\n",
    "from utils.lsl_utils import *\n",
    "from utils.MNE_utils import *"
   ]
  },
  {
   "cell_type": "markdown",
   "id": "4981fc42",
   "metadata": {},
   "source": [
    "# defining functions"
   ]
  },
  {
   "cell_type": "code",
   "execution_count": 2,
   "id": "573526d6",
   "metadata": {},
   "outputs": [],
   "source": [
    "def txt_file (path, messege=None, read=False, override=False):\n",
    "    if messege: \n",
    "        if override==False:\n",
    "            f = open(path, \"a\")\n",
    "        if override==True:\n",
    "            f = open(path, \"w\")\n",
    "        f.write(messege + \"\\n\")\n",
    "        f.close()\n",
    "    \n",
    "    if read==True:\n",
    "        f = open(path, \"r\")\n",
    "        print(f.read())\n"
   ]
  },
  {
   "cell_type": "code",
   "execution_count": 3,
   "id": "9f304990",
   "metadata": {},
   "outputs": [],
   "source": [
    "def get_path (df, sheet, subject, recording_name):\n",
    "    date = df[sheet].iloc[subject]['date']\n",
    "    eeg_device_n = df[sheet].iloc[subject]['eeg_device_n']\n",
    "    time = df[sheet].iloc[subject][recording_name]\n",
    "\n",
    "    #print (df['jhana_day1'].iloc[subject])\n",
    "    path = '/Users/jonasmago/PhD_code_data/Jhana_US/data/data_sd/'+str(eeg_device_n)+'/'+str(date)+'/'+str(time)+'/'\n",
    "    return (path)"
   ]
  },
  {
   "cell_type": "code",
   "execution_count": 4,
   "id": "e219a790",
   "metadata": {},
   "outputs": [],
   "source": [
    "def buttons_to_events(sd_array, threshold, plot_button_events):\n",
    "    '''\n",
    "    this function takes a numpy array containing the button presses and outputs two lists, \n",
    "    one containing the timepoints of events, the other containing the label\n",
    "    '''\n",
    "    running = True\n",
    "    i = 0\n",
    "    markers_loc = []\n",
    "    markers_val = []\n",
    "    value=1\n",
    "\n",
    "    #if no button is pressed\n",
    "    if sum(sum(sd_array[:,3:]))==0: \n",
    "        return markers_loc, markers_val\n",
    "    \n",
    "    buttons = np.sum(sd_array[:,3:], axis=1)\n",
    "    button_loc = np.where(buttons[:-1] < buttons[1:])[0]\n",
    "    \n",
    "    #if button is pressed only once\n",
    "    if len(button_loc) ==1:\n",
    "        markers_loc.append(button_loc[i])\n",
    "        markers_val.append(value)\n",
    "        return markers_loc, markers_val\n",
    "\n",
    "    while running == True:\n",
    "        if button_loc[i+1]-button_loc[i] > threshold:\n",
    "            markers_loc.append(button_loc[i])\n",
    "            markers_val.append(value)\n",
    "            value=1\n",
    "            i = i+1\n",
    "        else:\n",
    "            value = value+1\n",
    "            i = i+1\n",
    "        if len(button_loc)==i+1:\n",
    "            markers_loc.append(button_loc[i])\n",
    "            markers_val.append(value)\n",
    "            running=False\n",
    "\n",
    "    if markers_val.count(1)==2 and markers_val[0]==1 and markers_val [1]==1:\n",
    "        markers_val[0]=0\n",
    "        \n",
    "    if plot_button_events == True:\n",
    "        plt.plot(buttons)\n",
    "        for value, xc in zip(markers_val, markers_loc):\n",
    "            plt.axvline(x=xc, label='line at x = {}'.format(value), c='red')\n",
    "            plt.text(xc+1000,0.9,value, {'size':15})\n",
    "        plt.show()\n",
    "    return markers_loc, markers_val"
   ]
  },
  {
   "cell_type": "code",
   "execution_count": 7,
   "id": "8054e8c4",
   "metadata": {},
   "outputs": [],
   "source": [
    "def csv_to_raw (path, start=0, import_phot_events=False, LTP_recording_name=None, sheet=None, subject=None, phot_events_plot=False, import_button_events=False, button_events_threshold=10000, plot_button_events=False, refractory=500):\n",
    "\n",
    "\n",
    "    \n",
    "    header, sd_array = import_csv(path+'EEG.csv', verbose=False)        \n",
    "    raw = make_raw(sd_array[start:,3:], scaling_factor = 10**6)\n",
    "\n",
    "    annotation_nan = mne.preprocessing.annotate_nan(raw, verbose=True)\n",
    "    if len(annotation_nan) > 0:\n",
    "        raise ValueError('the csv file contains nan elements')\n",
    "        \n",
    "    if import_phot_events == True: \n",
    "        header, sd_array = import_csv(path+'Photodiode.csv', verbose=False)\n",
    "        plt.plot(sd_array)\n",
    "        phot_events, phot_timestamps = phot_to_events_white_black(data=sd_array[start:,-1], sensitivity=0.05, refractory=refractory, plotting_start=12000, plotting_end=14000, interactive_plot=phot_events_plot)           \n",
    "        if ((sum(phot_events==1)==0) or (sum(phot_events==-1)==0) or (sum(phot_events==1)<sum(phot_events==-1))):\n",
    "            print (path)\n",
    "            raise ValueError('wrong assignment of events!')\n",
    "        if len(phot_events) != 0:\n",
    "\n",
    "            if LTP_recording_name!=None:\n",
    "                if df[sheet].iloc[subject]['tetanus_orientation'] == 'horizontal':\n",
    "                    multiplier = -1\n",
    "                    print ('subject {} is horizontal'.format(subject))\n",
    "                else:\n",
    "                    multiplier = 1\n",
    "                    print ('subject {} is vertical'.format(subject))\n",
    "                if LTP_recording_name == 'baseline_ltp_eeg_fname':\n",
    "                    phot_events = phot_events*multiplier\n",
    "                elif LTP_recording_name == 'early_ltp_eeg_fname':\n",
    "                    phot_events=phot_events*multiplier*2\n",
    "                elif LTP_recording_name == 'late_ltp_eeg_fname':\n",
    "                    phot_events=phot_events*multiplier*3\n",
    "                else:\n",
    "                    raise ValueError('the event numbers could not be adopted for the LTP task')\n",
    "\n",
    "            events = np.zeros((len(phot_timestamps),3))\n",
    "            events[:,0] = phot_timestamps#13 frames ~15ms\n",
    "            events[:,2] = phot_events\n",
    "            events = events.astype(int)\n",
    "            event_info = np.unique(phot_events, return_counts=True)\n",
    "            \n",
    "            annotations = mne.annotations_from_events(events, 256, event_desc=None, first_samp=0, orig_time=None, verbose=None)\n",
    "            raw.set_annotations(annotations)  \n",
    "    \n",
    "    elif import_button_events == True:\n",
    "        header, sd_array = import_csv(path+'D in.csv', verbose=False)\n",
    "        markers_loc, markers_val = buttons_to_events(sd_array, button_events_threshold, plot_button_events)\n",
    "        \n",
    "        events = np.zeros((len(markers_loc),3))\n",
    "        events[:,0] = markers_loc\n",
    "        events[:,2] = markers_val\n",
    "        events = events.astype(int)\n",
    "        event_info = markers_val\n",
    "        \n",
    "        try:\n",
    "            annotations = mne.annotations_from_events(events, 256, event_desc=None, first_samp=0, orig_time=None, verbose=None)\n",
    "            raw.set_annotations(annotations)  \n",
    "        except:\n",
    "            print ('********************************')\n",
    "            print ('for path {} no events were detected'.format(path))\n",
    "    else: \n",
    "        event_info = 'events not imported'\n",
    "    return raw, event_info\n",
    "       "
   ]
  },
  {
   "cell_type": "markdown",
   "id": "eb43d3f3",
   "metadata": {},
   "source": [
    "# Import MMN data (to mne.raw)"
   ]
  },
  {
   "cell_type": "code",
   "execution_count": 8,
   "id": "c763d54c",
   "metadata": {},
   "outputs": [
    {
     "data": {
      "application/vnd.jupyter.widget-view+json": {
       "model_id": "938ea450ac4044acba5049820a6ceacc",
       "version_major": 2,
       "version_minor": 0
      },
      "text/plain": [
       "VBox()"
      ]
     },
     "metadata": {},
     "output_type": "display_data"
    },
    {
     "name": "stdout",
     "output_type": "stream",
     "text": [
      "Creating RawArray with float64 data, n_channels=32, n_times=219904\n",
      "    Range : 0 ... 219903 =      0.000 ...   858.996 secs\n",
      "Ready.\n",
      "Overwriting existing file.\n",
      "Writing /Users/jonasmago/PhD_code_data/Jhana_US/analysis/mne.raw_mmn/sub0-jhana_mmn-day1-raw.fif\n",
      "Closing /Users/jonasmago/PhD_code_data/Jhana_US/analysis/mne.raw_mmn/sub0-jhana_mmn-day1-raw.fif\n",
      "[done]\n",
      "Overwriting existing file.\n",
      "Creating RawArray with float64 data, n_channels=32, n_times=216904\n",
      "    Range : 0 ... 216903 =      0.000 ...   847.277 secs\n",
      "Ready.\n",
      "Writing /Users/jonasmago/PhD_code_data/Jhana_US/analysis/mne.raw_mmn/sub0-jhana_mmn-day2-raw.fif\n",
      "Closing /Users/jonasmago/PhD_code_data/Jhana_US/analysis/mne.raw_mmn/sub0-jhana_mmn-day2-raw.fif\n",
      "[done]\n"
     ]
    },
    {
     "name": "stderr",
     "output_type": "stream",
     "text": [
      "/var/folders/bq/hl737msd54q59fzf7spf0r7h0000gn/T/ipykernel_95411/150174560.py:18: RuntimeWarning: EDF format requires equal-length data blocks, so 0.71875 seconds of zeros were appended to all channels when writing the final block.\n",
      "  mne.export.export_raw(export_path+fname+'-raw.edf', raw, overwrite=True)\n"
     ]
    },
    {
     "name": "stdout",
     "output_type": "stream",
     "text": [
      "Creating RawArray with float64 data, n_channels=32, n_times=217200\n",
      "    Range : 0 ... 217199 =      0.000 ...   848.434 secs\n",
      "Ready.\n",
      "Writing /Users/jonasmago/PhD_code_data/Jhana_US/analysis/mne.raw_mmn/sub0-jhana_mmn-day3-raw.fif\n",
      "Closing /Users/jonasmago/PhD_code_data/Jhana_US/analysis/mne.raw_mmn/sub0-jhana_mmn-day3-raw.fif\n",
      "[done]\n"
     ]
    },
    {
     "ename": "KeyboardInterrupt",
     "evalue": "",
     "output_type": "error",
     "traceback": [
      "\u001b[0;31m---------------------------------------------------------------------------\u001b[0m",
      "\u001b[0;31mKeyboardInterrupt\u001b[0m                         Traceback (most recent call last)",
      "Input \u001b[0;32mIn [8]\u001b[0m, in \u001b[0;36m<cell line: 11>\u001b[0;34m()\u001b[0m\n\u001b[1;32m     16\u001b[0m fname \u001b[38;5;241m=\u001b[39m \u001b[38;5;124m'\u001b[39m\u001b[38;5;124msub\u001b[39m\u001b[38;5;124m'\u001b[39m\u001b[38;5;241m+\u001b[39m\u001b[38;5;28mstr\u001b[39m(subject)\u001b[38;5;241m+\u001b[39m\u001b[38;5;124m'\u001b[39m\u001b[38;5;124m-\u001b[39m\u001b[38;5;124m'\u001b[39m\u001b[38;5;241m+\u001b[39mrecording_name[:\u001b[38;5;241m-\u001b[39m\u001b[38;5;241m10\u001b[39m]\u001b[38;5;241m+\u001b[39m\u001b[38;5;124m'\u001b[39m\u001b[38;5;124m-\u001b[39m\u001b[38;5;124m'\u001b[39m\u001b[38;5;241m+\u001b[39msheet[\u001b[38;5;241m-\u001b[39m\u001b[38;5;241m4\u001b[39m:]\n\u001b[1;32m     17\u001b[0m raw\u001b[38;5;241m.\u001b[39msave(export_path\u001b[38;5;241m+\u001b[39mfname\u001b[38;5;241m+\u001b[39m\u001b[38;5;124m'\u001b[39m\u001b[38;5;124m-raw.fif\u001b[39m\u001b[38;5;124m'\u001b[39m, overwrite\u001b[38;5;241m=\u001b[39m\u001b[38;5;28;01mTrue\u001b[39;00m)\n\u001b[0;32m---> 18\u001b[0m \u001b[43mmne\u001b[49m\u001b[38;5;241;43m.\u001b[39;49m\u001b[43mexport\u001b[49m\u001b[38;5;241;43m.\u001b[39;49m\u001b[43mexport_raw\u001b[49m\u001b[43m(\u001b[49m\u001b[43mexport_path\u001b[49m\u001b[38;5;241;43m+\u001b[39;49m\u001b[43mfname\u001b[49m\u001b[38;5;241;43m+\u001b[39;49m\u001b[38;5;124;43m'\u001b[39;49m\u001b[38;5;124;43m-raw.edf\u001b[39;49m\u001b[38;5;124;43m'\u001b[39;49m\u001b[43m,\u001b[49m\u001b[43m \u001b[49m\u001b[43mraw\u001b[49m\u001b[43m,\u001b[49m\u001b[43m \u001b[49m\u001b[43moverwrite\u001b[49m\u001b[38;5;241;43m=\u001b[39;49m\u001b[38;5;28;43;01mTrue\u001b[39;49;00m\u001b[43m)\u001b[49m\n\u001b[1;32m     20\u001b[0m txt_path \u001b[38;5;241m=\u001b[39m \u001b[38;5;124m\"\u001b[39m\u001b[38;5;124m/Users/jonasmago/PhD_code_data/Jhana_US/analysis/mne.raw_mmn/events_info.txt\u001b[39m\u001b[38;5;124m\"\u001b[39m\n\u001b[1;32m     21\u001b[0m txt_string\u001b[38;5;241m=\u001b[39mfname\u001b[38;5;241m+\u001b[39m\u001b[38;5;124m'\u001b[39m\u001b[38;5;124m: \u001b[39m\u001b[38;5;124m'\u001b[39m\u001b[38;5;241m+\u001b[39m\u001b[38;5;28mstr\u001b[39m(event_info)\n",
      "File \u001b[0;32m<decorator-gen-567>:12\u001b[0m, in \u001b[0;36mexport_raw\u001b[0;34m(fname, raw, fmt, physical_range, add_ch_type, overwrite, verbose)\u001b[0m\n",
      "File \u001b[0;32m/opt/anaconda3/envs/bitbrain/lib/python3.9/site-packages/mne/export/_export.py:62\u001b[0m, in \u001b[0;36mexport_raw\u001b[0;34m(fname, raw, fmt, physical_range, add_ch_type, overwrite, verbose)\u001b[0m\n\u001b[1;32m     60\u001b[0m \u001b[38;5;28;01melif\u001b[39;00m fmt \u001b[38;5;241m==\u001b[39m \u001b[38;5;124m'\u001b[39m\u001b[38;5;124medf\u001b[39m\u001b[38;5;124m'\u001b[39m:\n\u001b[1;32m     61\u001b[0m     \u001b[38;5;28;01mfrom\u001b[39;00m \u001b[38;5;21;01m.\u001b[39;00m\u001b[38;5;21;01m_edf\u001b[39;00m \u001b[38;5;28;01mimport\u001b[39;00m _export_raw\n\u001b[0;32m---> 62\u001b[0m     \u001b[43m_export_raw\u001b[49m\u001b[43m(\u001b[49m\u001b[43mfname\u001b[49m\u001b[43m,\u001b[49m\u001b[43m \u001b[49m\u001b[43mraw\u001b[49m\u001b[43m,\u001b[49m\u001b[43m \u001b[49m\u001b[43mphysical_range\u001b[49m\u001b[43m,\u001b[49m\u001b[43m \u001b[49m\u001b[43madd_ch_type\u001b[49m\u001b[43m)\u001b[49m\n\u001b[1;32m     63\u001b[0m \u001b[38;5;28;01melif\u001b[39;00m fmt \u001b[38;5;241m==\u001b[39m \u001b[38;5;124m'\u001b[39m\u001b[38;5;124mbrainvision\u001b[39m\u001b[38;5;124m'\u001b[39m:\n\u001b[1;32m     64\u001b[0m     \u001b[38;5;28;01mraise\u001b[39;00m \u001b[38;5;167;01mNotImplementedError\u001b[39;00m(\u001b[38;5;124m'\u001b[39m\u001b[38;5;124mExport to BrainVision not implemented.\u001b[39m\u001b[38;5;124m'\u001b[39m)\n",
      "File \u001b[0;32m/opt/anaconda3/envs/bitbrain/lib/python3.9/site-packages/mne/export/_edf.py:257\u001b[0m, in \u001b[0;36m_export_raw\u001b[0;34m(fname, raw, physical_range, add_ch_type)\u001b[0m\n\u001b[1;32m    255\u001b[0m \u001b[38;5;66;03m# assign channel data to the buffer and write to EDF\u001b[39;00m\n\u001b[1;32m    256\u001b[0m buf[:\u001b[38;5;28mlen\u001b[39m(ch_data)] \u001b[38;5;241m=\u001b[39m ch_data\n\u001b[0;32m--> 257\u001b[0m err \u001b[38;5;241m=\u001b[39m \u001b[43mhdl\u001b[49m\u001b[38;5;241;43m.\u001b[39;49m\u001b[43mwriteSamples\u001b[49m\u001b[43m(\u001b[49m\u001b[43mbuf\u001b[49m\u001b[43m)\u001b[49m\n\u001b[1;32m    258\u001b[0m \u001b[38;5;28;01mif\u001b[39;00m err \u001b[38;5;241m!=\u001b[39m \u001b[38;5;241m0\u001b[39m:\n\u001b[1;32m    259\u001b[0m     \u001b[38;5;28;01mraise\u001b[39;00m \u001b[38;5;167;01mRuntimeError\u001b[39;00m(\n\u001b[1;32m    260\u001b[0m         \u001b[38;5;124mf\u001b[39m\u001b[38;5;124m\"\u001b[39m\u001b[38;5;124mwriteSamples() for channel\u001b[39m\u001b[38;5;132;01m{\u001b[39;00mch_names[jdx]\u001b[38;5;132;01m}\u001b[39;00m\u001b[38;5;124m \u001b[39m\u001b[38;5;124m\"\u001b[39m\n\u001b[1;32m    261\u001b[0m         \u001b[38;5;124mf\u001b[39m\u001b[38;5;124m\"\u001b[39m\u001b[38;5;124mreturned error: \u001b[39m\u001b[38;5;132;01m{\u001b[39;00merr\u001b[38;5;132;01m}\u001b[39;00m\u001b[38;5;124m\"\u001b[39m)\n",
      "File \u001b[0;32m/opt/anaconda3/envs/bitbrain/lib/python3.9/site-packages/EDFlib/edfwriter.py:714\u001b[0m, in \u001b[0;36mEDFwriter.writeSamples\u001b[0;34m(self, buf)\u001b[0m\n\u001b[1;32m    712\u001b[0m       \u001b[38;5;28;01mif\u001b[39;00m value \u001b[38;5;241m<\u001b[39m digmin:\n\u001b[1;32m    713\u001b[0m         value \u001b[38;5;241m=\u001b[39m digmin\n\u001b[0;32m--> 714\u001b[0m       \u001b[38;5;28;43mself\u001b[39;49m\u001b[38;5;241;43m.\u001b[39;49m\u001b[43m__file_out\u001b[49m\u001b[38;5;241;43m.\u001b[39;49m\u001b[43mwrite\u001b[49m\u001b[43m(\u001b[49m\u001b[43mvalue\u001b[49m\u001b[38;5;241;43m.\u001b[39;49m\u001b[43mto_bytes\u001b[49m\u001b[43m(\u001b[49m\u001b[38;5;241;43m2\u001b[39;49m\u001b[43m,\u001b[49m\u001b[43m \u001b[49m\u001b[43mbyteorder\u001b[49m\u001b[38;5;241;43m=\u001b[39;49m\u001b[38;5;124;43m\"\u001b[39;49m\u001b[38;5;124;43mlittle\u001b[39;49m\u001b[38;5;124;43m\"\u001b[39;49m\u001b[43m,\u001b[49m\u001b[43m \u001b[49m\u001b[43msigned\u001b[49m\u001b[38;5;241;43m=\u001b[39;49m\u001b[38;5;28;43;01mTrue\u001b[39;49;00m\u001b[43m)\u001b[49m\u001b[43m)\u001b[49m\n\u001b[1;32m    715\u001b[0m \u001b[38;5;28;01melse\u001b[39;00m:\n\u001b[1;32m    716\u001b[0m   \u001b[38;5;28;01mif\u001b[39;00m buf\u001b[38;5;241m.\u001b[39mdtype \u001b[38;5;241m==\u001b[39m np\u001b[38;5;241m.\u001b[39mint32:\n",
      "\u001b[0;31mKeyboardInterrupt\u001b[0m: "
     ]
    }
   ],
   "source": [
    "phot_events_plot=True\n",
    "phot_events_plot=False\n",
    "\n",
    "df = pd.read_excel(r'/Users/jonasmago/PhD_code_data/Jhana_US/jhana_metadata.xlsx', sheet_name=None)\n",
    "export_path = '/Users/jonasmago/PhD_code_data/Jhana_US/analysis/mne.raw_mmn/'\n",
    "\n",
    "if not os.path.exists(export_path):\n",
    "    os.makedirs(export_path)\n",
    "\n",
    "epochs_mindfulness = None\n",
    "\n",
    "for subject in atpbar(range(10)):\n",
    "    for recording_name in ['jhana_mmn_eeg_fname', 'mindfulness_mmn_eeg_fname']:\n",
    "        for sheet in ['jhana_day1', 'jhana_day2', 'jhana_day3', 'jhana_day4']: \n",
    "            path = get_path (df, sheet, subject, recording_name)\n",
    "            raw, event_info = csv_to_raw(path, import_phot_events=True, phot_events_plot=phot_events_plot)\n",
    "            fname = 'sub'+str(subject)+'-'+recording_name[:-10]+'-'+sheet[-4:]\n",
    "            raw.save(export_path+fname+'-raw.fif', overwrite=True)\n",
    "            mne.export.export_raw(export_path+fname+'-raw.edf', raw, overwrite=True)\n",
    "            \n",
    "            txt_path = \"/Users/jonasmago/PhD_code_data/Jhana_US/analysis/mne.raw_mmn/events_info.txt\"\n",
    "            txt_string=fname+': '+str(event_info)\n",
    "            txt_file(txt_path, txt_string)\n",
    "txt_file(txt_path, 'done')"
   ]
  },
  {
   "cell_type": "markdown",
   "id": "d98dab43",
   "metadata": {},
   "source": [
    "# Import LTP (to mne.raw)"
   ]
  },
  {
   "cell_type": "code",
   "execution_count": 45,
   "id": "130b7f73",
   "metadata": {},
   "outputs": [
    {
     "data": {
      "application/vnd.jupyter.widget-view+json": {
       "model_id": "2b1d755dd4e649ae8c7a409a48cc413a",
       "version_major": 2,
       "version_minor": 0
      },
      "text/plain": [
       "VBox()"
      ]
     },
     "metadata": {},
     "output_type": "display_data"
    },
    {
     "name": "stdout",
     "output_type": "stream",
     "text": [
      "Creating RawArray with float64 data, n_channels=32, n_times=64632\n",
      "    Range : 0 ... 64631 =      0.000 ...   252.465 secs\n",
      "Ready.\n",
      "subject 0 is vertical\n",
      "Overwriting existing file.\n",
      "Writing /Users/jonasmago/PhD_code_data/Jhana US/analysis/mne.raw_LTP/sub0-baseline_ltp-LTP_pre-raw.fif\n",
      "Closing /Users/jonasmago/PhD_code_data/Jhana US/analysis/mne.raw_LTP/sub0-baseline_ltp-LTP_pre-raw.fif\n",
      "[done]\n",
      "Overwriting existing file.\n"
     ]
    },
    {
     "name": "stderr",
     "output_type": "stream",
     "text": [
      "/var/folders/bq/hl737msd54q59fzf7spf0r7h0000gn/T/ipykernel_16073/4014478012.py:18: RuntimeWarning: EDF format requires equal-length data blocks, so 0.53125 seconds of zeros were appended to all channels when writing the final block.\n",
      "  mne.export.export_raw(export_path+fname+'-raw.edf', raw, overwrite=True)\n"
     ]
    },
    {
     "name": "stdout",
     "output_type": "stream",
     "text": [
      "Creating RawArray with float64 data, n_channels=32, n_times=65296\n",
      "    Range : 0 ... 65295 =      0.000 ...   255.059 secs\n",
      "Ready.\n",
      "subject 0 is vertical\n",
      "Overwriting existing file.\n",
      "Writing /Users/jonasmago/PhD_code_data/Jhana US/analysis/mne.raw_LTP/sub0-baseline_ltp-LTP_post-raw.fif\n",
      "Closing /Users/jonasmago/PhD_code_data/Jhana US/analysis/mne.raw_LTP/sub0-baseline_ltp-LTP_post-raw.fif\n",
      "[done]\n",
      "Overwriting existing file.\n"
     ]
    },
    {
     "name": "stderr",
     "output_type": "stream",
     "text": [
      "/var/folders/bq/hl737msd54q59fzf7spf0r7h0000gn/T/ipykernel_16073/4014478012.py:18: RuntimeWarning: EDF format requires equal-length data blocks, so 0.9375 seconds of zeros were appended to all channels when writing the final block.\n",
      "  mne.export.export_raw(export_path+fname+'-raw.edf', raw, overwrite=True)\n"
     ]
    },
    {
     "name": "stdout",
     "output_type": "stream",
     "text": [
      "Creating RawArray with float64 data, n_channels=32, n_times=64080\n",
      "    Range : 0 ... 64079 =      0.000 ...   250.309 secs\n",
      "Ready.\n",
      "subject 0 is vertical\n",
      "Overwriting existing file.\n",
      "Writing /Users/jonasmago/PhD_code_data/Jhana US/analysis/mne.raw_LTP/sub0-early_ltp-LTP_pre-raw.fif\n",
      "Closing /Users/jonasmago/PhD_code_data/Jhana US/analysis/mne.raw_LTP/sub0-early_ltp-LTP_pre-raw.fif\n",
      "[done]\n",
      "Overwriting existing file.\n"
     ]
    },
    {
     "name": "stderr",
     "output_type": "stream",
     "text": [
      "/var/folders/bq/hl737msd54q59fzf7spf0r7h0000gn/T/ipykernel_16073/4014478012.py:18: RuntimeWarning: EDF format requires equal-length data blocks, so 0.6875 seconds of zeros were appended to all channels when writing the final block.\n",
      "  mne.export.export_raw(export_path+fname+'-raw.edf', raw, overwrite=True)\n"
     ]
    },
    {
     "name": "stdout",
     "output_type": "stream",
     "text": [
      "Creating RawArray with float64 data, n_channels=32, n_times=67720\n",
      "    Range : 0 ... 67719 =      0.000 ...   264.527 secs\n",
      "Ready.\n",
      "subject 0 is vertical\n",
      "Overwriting existing file.\n",
      "Writing /Users/jonasmago/PhD_code_data/Jhana US/analysis/mne.raw_LTP/sub0-early_ltp-LTP_post-raw.fif\n",
      "Closing /Users/jonasmago/PhD_code_data/Jhana US/analysis/mne.raw_LTP/sub0-early_ltp-LTP_post-raw.fif\n",
      "[done]\n",
      "Overwriting existing file.\n"
     ]
    },
    {
     "name": "stderr",
     "output_type": "stream",
     "text": [
      "/var/folders/bq/hl737msd54q59fzf7spf0r7h0000gn/T/ipykernel_16073/4014478012.py:18: RuntimeWarning: EDF format requires equal-length data blocks, so 0.46875 seconds of zeros were appended to all channels when writing the final block.\n",
      "  mne.export.export_raw(export_path+fname+'-raw.edf', raw, overwrite=True)\n"
     ]
    },
    {
     "name": "stdout",
     "output_type": "stream",
     "text": [
      "Creating RawArray with float64 data, n_channels=32, n_times=63632\n",
      "    Range : 0 ... 63631 =      0.000 ...   248.559 secs\n",
      "Ready.\n",
      "subject 0 is vertical\n",
      "Overwriting existing file.\n",
      "Writing /Users/jonasmago/PhD_code_data/Jhana US/analysis/mne.raw_LTP/sub0-late_ltp-LTP_pre-raw.fif\n",
      "Closing /Users/jonasmago/PhD_code_data/Jhana US/analysis/mne.raw_LTP/sub0-late_ltp-LTP_pre-raw.fif\n",
      "[done]\n",
      "Overwriting existing file.\n"
     ]
    },
    {
     "name": "stderr",
     "output_type": "stream",
     "text": [
      "/var/folders/bq/hl737msd54q59fzf7spf0r7h0000gn/T/ipykernel_16073/4014478012.py:18: RuntimeWarning: EDF format requires equal-length data blocks, so 0.4375 seconds of zeros were appended to all channels when writing the final block.\n",
      "  mne.export.export_raw(export_path+fname+'-raw.edf', raw, overwrite=True)\n"
     ]
    },
    {
     "name": "stdout",
     "output_type": "stream",
     "text": [
      "Creating RawArray with float64 data, n_channels=32, n_times=65568\n",
      "    Range : 0 ... 65567 =      0.000 ...   256.121 secs\n",
      "Ready.\n",
      "subject 0 is vertical\n",
      "Overwriting existing file.\n",
      "Writing /Users/jonasmago/PhD_code_data/Jhana US/analysis/mne.raw_LTP/sub0-late_ltp-LTP_post-raw.fif\n",
      "Closing /Users/jonasmago/PhD_code_data/Jhana US/analysis/mne.raw_LTP/sub0-late_ltp-LTP_post-raw.fif\n",
      "[done]\n",
      "Overwriting existing file.\n"
     ]
    },
    {
     "name": "stderr",
     "output_type": "stream",
     "text": [
      "/var/folders/bq/hl737msd54q59fzf7spf0r7h0000gn/T/ipykernel_16073/4014478012.py:18: RuntimeWarning: EDF format requires equal-length data blocks, so 0.875 seconds of zeros were appended to all channels when writing the final block.\n",
      "  mne.export.export_raw(export_path+fname+'-raw.edf', raw, overwrite=True)\n"
     ]
    }
   ],
   "source": [
    "phot_events_plot=True\n",
    "\n",
    "df = pd.read_excel(r'/Users/jonasmago/PhD_code_data/Jhana_US/jhana_metadata.xlsx', sheet_name=None)\n",
    "export_path = '/Users/jonasmago/PhD_code_data/Jhana_US/analysis/mne.raw_LTP/'\n",
    "\n",
    "if not os.path.exists(export_path):\n",
    "    os.makedirs(export_path)\n",
    "\n",
    "#for subject in atpbar(range(10)):\n",
    "for subject in atpbar([0]):\n",
    "    for recording_name in ['baseline_ltp_eeg_fname', 'early_ltp_eeg_fname', 'late_ltp_eeg_fname']:\n",
    "        for sheet in ['LTP_pre', 'LTP_post']:\n",
    "            path = get_path (df, sheet, subject, recording_name)\n",
    "            raw, event_info = csv_to_raw(path, import_phot_events=True, LTP_recording_name=recording_name, sheet=sheet, subject=subject, phot_events_plot=phot_events_plot, refractory=200)\n",
    "            fname = 'sub'+str(subject)+'-'+recording_name[:-10]+'-'+sheet\n",
    "            \n",
    "            raw.save(export_path+fname+'-raw.fif', overwrite=True)\n",
    "            mne.export.export_raw(export_path+fname+'-raw.edf', raw, overwrite=True)\n",
    "            \n",
    "            txt_path = \"/Users/jonasmago/PhD_code_data/Jhana_US/analysis/mne.raw_LTP/events_info.txt\"\n",
    "            txt_string=fname+': '+str(event_info)\n",
    "            txt_file(txt_path, txt_string)\n",
    "txt_file(txt_path, 'done')"
   ]
  },
  {
   "cell_type": "markdown",
   "id": "44b4a7e5",
   "metadata": {},
   "source": [
    "# Import resting state data"
   ]
  },
  {
   "cell_type": "code",
   "execution_count": 6,
   "id": "64bf2333",
   "metadata": {},
   "outputs": [
    {
     "data": {
      "application/vnd.jupyter.widget-view+json": {
       "model_id": "df69e6ec538e40f4aef8dc22b26c4a20",
       "version_major": 2,
       "version_minor": 0
      },
      "text/plain": [
       "VBox()"
      ]
     },
     "metadata": {},
     "output_type": "display_data"
    },
    {
     "name": "stdout",
     "output_type": "stream",
     "text": [
      "Creating RawArray with float64 data, n_channels=32, n_times=389688\n",
      "    Range : 0 ... 389687 =      0.000 ...  1522.215 secs\n",
      "Ready.\n",
      "Writing /Volumes/Expansion/jhana_study/analysis/mne.raw_resting_state/sub4-jhana_restingstate-jhana_day1-raw.fif\n",
      "Closing /Volumes/Expansion/jhana_study/analysis/mne.raw_resting_state/sub4-jhana_restingstate-jhana_day1-raw.fif\n",
      "[done]\n"
     ]
    },
    {
     "name": "stderr",
     "output_type": "stream",
     "text": [
      "/var/folders/by/hhqkyqc10wnf7p3krlc7zswm0000gn/T/ipykernel_33633/1315015294.py:16: RuntimeWarning: EDF format requires equal-length data blocks, so 0.78125 seconds of zeros were appended to all channels when writing the final block.\n",
      "  mne.export.export_raw(export_path+fname+'-raw.edf', raw)\n"
     ]
    },
    {
     "name": "stdout",
     "output_type": "stream",
     "text": [
      "Creating RawArray with float64 data, n_channels=32, n_times=391384\n",
      "    Range : 0 ... 391383 =      0.000 ...  1528.840 secs\n",
      "Ready.\n",
      "Writing /Volumes/Expansion/jhana_study/analysis/mne.raw_resting_state/sub4-jhana_restingstate-jhana_day2-raw.fif\n",
      "Closing /Volumes/Expansion/jhana_study/analysis/mne.raw_resting_state/sub4-jhana_restingstate-jhana_day2-raw.fif\n",
      "[done]\n"
     ]
    },
    {
     "name": "stderr",
     "output_type": "stream",
     "text": [
      "/var/folders/by/hhqkyqc10wnf7p3krlc7zswm0000gn/T/ipykernel_33633/1315015294.py:16: RuntimeWarning: EDF format requires equal-length data blocks, so 0.15625 seconds of zeros were appended to all channels when writing the final block.\n",
      "  mne.export.export_raw(export_path+fname+'-raw.edf', raw)\n"
     ]
    },
    {
     "name": "stdout",
     "output_type": "stream",
     "text": [
      "Creating RawArray with float64 data, n_channels=32, n_times=388912\n",
      "    Range : 0 ... 388911 =      0.000 ...  1519.184 secs\n",
      "Ready.\n",
      "Writing /Volumes/Expansion/jhana_study/analysis/mne.raw_resting_state/sub4-jhana_restingstate-jhana_day3-raw.fif\n",
      "Closing /Volumes/Expansion/jhana_study/analysis/mne.raw_resting_state/sub4-jhana_restingstate-jhana_day3-raw.fif\n",
      "[done]\n"
     ]
    },
    {
     "name": "stderr",
     "output_type": "stream",
     "text": [
      "/var/folders/by/hhqkyqc10wnf7p3krlc7zswm0000gn/T/ipykernel_33633/1315015294.py:16: RuntimeWarning: EDF format requires equal-length data blocks, so 0.8125 seconds of zeros were appended to all channels when writing the final block.\n",
      "  mne.export.export_raw(export_path+fname+'-raw.edf', raw)\n"
     ]
    },
    {
     "name": "stdout",
     "output_type": "stream",
     "text": [
      "Creating RawArray with float64 data, n_channels=32, n_times=387960\n",
      "    Range : 0 ... 387959 =      0.000 ...  1515.465 secs\n",
      "Ready.\n",
      "Writing /Volumes/Expansion/jhana_study/analysis/mne.raw_resting_state/sub4-jhana_restingstate-jhana_day4-raw.fif\n",
      "Closing /Volumes/Expansion/jhana_study/analysis/mne.raw_resting_state/sub4-jhana_restingstate-jhana_day4-raw.fif\n",
      "[done]\n"
     ]
    },
    {
     "name": "stderr",
     "output_type": "stream",
     "text": [
      "/var/folders/by/hhqkyqc10wnf7p3krlc7zswm0000gn/T/ipykernel_33633/1315015294.py:16: RuntimeWarning: EDF format requires equal-length data blocks, so 0.53125 seconds of zeros were appended to all channels when writing the final block.\n",
      "  mne.export.export_raw(export_path+fname+'-raw.edf', raw)\n"
     ]
    },
    {
     "name": "stdout",
     "output_type": "stream",
     "text": [
      "Creating RawArray with float64 data, n_channels=32, n_times=384736\n",
      "    Range : 0 ... 384735 =      0.000 ...  1502.871 secs\n",
      "Ready.\n",
      "Writing /Volumes/Expansion/jhana_study/analysis/mne.raw_resting_state/sub4-mindfulness_restingstate-jhana_day1-raw.fif\n",
      "Closing /Volumes/Expansion/jhana_study/analysis/mne.raw_resting_state/sub4-mindfulness_restingstate-jhana_day1-raw.fif\n",
      "[done]\n"
     ]
    },
    {
     "name": "stderr",
     "output_type": "stream",
     "text": [
      "/var/folders/by/hhqkyqc10wnf7p3krlc7zswm0000gn/T/ipykernel_33633/1315015294.py:16: RuntimeWarning: EDF format requires equal-length data blocks, so 0.125 seconds of zeros were appended to all channels when writing the final block.\n",
      "  mne.export.export_raw(export_path+fname+'-raw.edf', raw)\n"
     ]
    },
    {
     "name": "stdout",
     "output_type": "stream",
     "text": [
      "Creating RawArray with float64 data, n_channels=32, n_times=383616\n",
      "    Range : 0 ... 383615 =      0.000 ...  1498.496 secs\n",
      "Ready.\n",
      "********************************\n",
      "for path /Volumes/Expansion/jhana_study/data/data_sd/eeg33/22-09-04/14-19-45/ no events were detected\n",
      "Writing /Volumes/Expansion/jhana_study/analysis/mne.raw_resting_state/sub4-mindfulness_restingstate-jhana_day2-raw.fif\n",
      "Closing /Volumes/Expansion/jhana_study/analysis/mne.raw_resting_state/sub4-mindfulness_restingstate-jhana_day2-raw.fif\n",
      "[done]\n"
     ]
    },
    {
     "name": "stderr",
     "output_type": "stream",
     "text": [
      "/var/folders/by/hhqkyqc10wnf7p3krlc7zswm0000gn/T/ipykernel_33633/1315015294.py:16: RuntimeWarning: EDF format requires equal-length data blocks, so 0.5 seconds of zeros were appended to all channels when writing the final block.\n",
      "  mne.export.export_raw(export_path+fname+'-raw.edf', raw)\n"
     ]
    },
    {
     "name": "stdout",
     "output_type": "stream",
     "text": [
      "Creating RawArray with float64 data, n_channels=32, n_times=383664\n",
      "    Range : 0 ... 383663 =      0.000 ...  1498.684 secs\n",
      "Ready.\n",
      "Writing /Volumes/Expansion/jhana_study/analysis/mne.raw_resting_state/sub4-mindfulness_restingstate-jhana_day3-raw.fif\n",
      "Closing /Volumes/Expansion/jhana_study/analysis/mne.raw_resting_state/sub4-mindfulness_restingstate-jhana_day3-raw.fif\n",
      "[done]\n"
     ]
    },
    {
     "name": "stderr",
     "output_type": "stream",
     "text": [
      "/var/folders/by/hhqkyqc10wnf7p3krlc7zswm0000gn/T/ipykernel_33633/1315015294.py:16: RuntimeWarning: EDF format requires equal-length data blocks, so 0.3125 seconds of zeros were appended to all channels when writing the final block.\n",
      "  mne.export.export_raw(export_path+fname+'-raw.edf', raw)\n"
     ]
    },
    {
     "name": "stdout",
     "output_type": "stream",
     "text": [
      "Creating RawArray with float64 data, n_channels=32, n_times=385368\n",
      "    Range : 0 ... 385367 =      0.000 ...  1505.340 secs\n",
      "Ready.\n",
      "********************************\n",
      "for path /Volumes/Expansion/jhana_study/data/data_sd/eeg33/22-09-06/14-37-35/ no events were detected\n",
      "Writing /Volumes/Expansion/jhana_study/analysis/mne.raw_resting_state/sub4-mindfulness_restingstate-jhana_day4-raw.fif\n",
      "Closing /Volumes/Expansion/jhana_study/analysis/mne.raw_resting_state/sub4-mindfulness_restingstate-jhana_day4-raw.fif\n",
      "[done]\n"
     ]
    },
    {
     "name": "stderr",
     "output_type": "stream",
     "text": [
      "/var/folders/by/hhqkyqc10wnf7p3krlc7zswm0000gn/T/ipykernel_33633/1315015294.py:16: RuntimeWarning: EDF format requires equal-length data blocks, so 0.65625 seconds of zeros were appended to all channels when writing the final block.\n",
      "  mne.export.export_raw(export_path+fname+'-raw.edf', raw)\n"
     ]
    },
    {
     "name": "stdout",
     "output_type": "stream",
     "text": [
      "Creating RawArray with float64 data, n_channels=32, n_times=389608\n",
      "    Range : 0 ... 389607 =      0.000 ...  1521.902 secs\n",
      "Ready.\n",
      "Writing /Volumes/Expansion/jhana_study/analysis/mne.raw_resting_state/sub5-jhana_restingstate-jhana_day1-raw.fif\n",
      "Closing /Volumes/Expansion/jhana_study/analysis/mne.raw_resting_state/sub5-jhana_restingstate-jhana_day1-raw.fif\n",
      "[done]\n"
     ]
    },
    {
     "name": "stderr",
     "output_type": "stream",
     "text": [
      "/var/folders/by/hhqkyqc10wnf7p3krlc7zswm0000gn/T/ipykernel_33633/1315015294.py:16: RuntimeWarning: EDF format requires equal-length data blocks, so 0.09375 seconds of zeros were appended to all channels when writing the final block.\n",
      "  mne.export.export_raw(export_path+fname+'-raw.edf', raw)\n"
     ]
    },
    {
     "name": "stdout",
     "output_type": "stream",
     "text": [
      "Creating RawArray with float64 data, n_channels=32, n_times=391136\n",
      "    Range : 0 ... 391135 =      0.000 ...  1527.871 secs\n",
      "Ready.\n",
      "Writing /Volumes/Expansion/jhana_study/analysis/mne.raw_resting_state/sub5-jhana_restingstate-jhana_day2-raw.fif\n",
      "Closing /Volumes/Expansion/jhana_study/analysis/mne.raw_resting_state/sub5-jhana_restingstate-jhana_day2-raw.fif\n",
      "[done]\n"
     ]
    },
    {
     "name": "stderr",
     "output_type": "stream",
     "text": [
      "/var/folders/by/hhqkyqc10wnf7p3krlc7zswm0000gn/T/ipykernel_33633/1315015294.py:16: RuntimeWarning: EDF format requires equal-length data blocks, so 0.125 seconds of zeros were appended to all channels when writing the final block.\n",
      "  mne.export.export_raw(export_path+fname+'-raw.edf', raw)\n"
     ]
    },
    {
     "name": "stdout",
     "output_type": "stream",
     "text": [
      "Creating RawArray with float64 data, n_channels=32, n_times=389416\n",
      "    Range : 0 ... 389415 =      0.000 ...  1521.152 secs\n",
      "Ready.\n",
      "Writing /Volumes/Expansion/jhana_study/analysis/mne.raw_resting_state/sub5-jhana_restingstate-jhana_day3-raw.fif\n",
      "Closing /Volumes/Expansion/jhana_study/analysis/mne.raw_resting_state/sub5-jhana_restingstate-jhana_day3-raw.fif\n",
      "[done]\n"
     ]
    },
    {
     "name": "stderr",
     "output_type": "stream",
     "text": [
      "/var/folders/by/hhqkyqc10wnf7p3krlc7zswm0000gn/T/ipykernel_33633/1315015294.py:16: RuntimeWarning: EDF format requires equal-length data blocks, so 0.84375 seconds of zeros were appended to all channels when writing the final block.\n",
      "  mne.export.export_raw(export_path+fname+'-raw.edf', raw)\n"
     ]
    },
    {
     "name": "stdout",
     "output_type": "stream",
     "text": [
      "Creating RawArray with float64 data, n_channels=32, n_times=388080\n",
      "    Range : 0 ... 388079 =      0.000 ...  1515.934 secs\n",
      "Ready.\n",
      "Writing /Volumes/Expansion/jhana_study/analysis/mne.raw_resting_state/sub5-jhana_restingstate-jhana_day4-raw.fif\n",
      "Closing /Volumes/Expansion/jhana_study/analysis/mne.raw_resting_state/sub5-jhana_restingstate-jhana_day4-raw.fif\n",
      "[done]\n"
     ]
    },
    {
     "name": "stderr",
     "output_type": "stream",
     "text": [
      "/var/folders/by/hhqkyqc10wnf7p3krlc7zswm0000gn/T/ipykernel_33633/1315015294.py:16: RuntimeWarning: EDF format requires equal-length data blocks, so 0.0625 seconds of zeros were appended to all channels when writing the final block.\n",
      "  mne.export.export_raw(export_path+fname+'-raw.edf', raw)\n"
     ]
    },
    {
     "name": "stdout",
     "output_type": "stream",
     "text": [
      "Creating RawArray with float64 data, n_channels=32, n_times=384688\n",
      "    Range : 0 ... 384687 =      0.000 ...  1502.684 secs\n",
      "Ready.\n",
      "********************************\n",
      "for path /Volumes/Expansion/jhana_study/data/data_sd/eeg44/22-09-03/15-18-21/ no events were detected\n",
      "Writing /Volumes/Expansion/jhana_study/analysis/mne.raw_resting_state/sub5-mindfulness_restingstate-jhana_day1-raw.fif\n",
      "Closing /Volumes/Expansion/jhana_study/analysis/mne.raw_resting_state/sub5-mindfulness_restingstate-jhana_day1-raw.fif\n",
      "[done]\n"
     ]
    },
    {
     "name": "stderr",
     "output_type": "stream",
     "text": [
      "/var/folders/by/hhqkyqc10wnf7p3krlc7zswm0000gn/T/ipykernel_33633/1315015294.py:16: RuntimeWarning: EDF format requires equal-length data blocks, so 0.3125 seconds of zeros were appended to all channels when writing the final block.\n",
      "  mne.export.export_raw(export_path+fname+'-raw.edf', raw)\n"
     ]
    },
    {
     "name": "stdout",
     "output_type": "stream",
     "text": [
      "Creating RawArray with float64 data, n_channels=32, n_times=385008\n",
      "    Range : 0 ... 385007 =      0.000 ...  1503.934 secs\n",
      "Ready.\n",
      "********************************\n",
      "for path /Volumes/Expansion/jhana_study/data/data_sd/eeg44/22-09-04/14-19-43/ no events were detected\n",
      "Writing /Volumes/Expansion/jhana_study/analysis/mne.raw_resting_state/sub5-mindfulness_restingstate-jhana_day2-raw.fif\n",
      "Closing /Volumes/Expansion/jhana_study/analysis/mne.raw_resting_state/sub5-mindfulness_restingstate-jhana_day2-raw.fif\n",
      "[done]\n"
     ]
    },
    {
     "name": "stderr",
     "output_type": "stream",
     "text": [
      "/var/folders/by/hhqkyqc10wnf7p3krlc7zswm0000gn/T/ipykernel_33633/1315015294.py:16: RuntimeWarning: EDF format requires equal-length data blocks, so 0.0625 seconds of zeros were appended to all channels when writing the final block.\n",
      "  mne.export.export_raw(export_path+fname+'-raw.edf', raw)\n"
     ]
    },
    {
     "name": "stdout",
     "output_type": "stream",
     "text": [
      "Creating RawArray with float64 data, n_channels=32, n_times=385936\n",
      "    Range : 0 ... 385935 =      0.000 ...  1507.559 secs\n",
      "Ready.\n",
      "********************************\n",
      "for path /Volumes/Expansion/jhana_study/data/data_sd/eeg44/22-09-05/15-24-36/ no events were detected\n",
      "Writing /Volumes/Expansion/jhana_study/analysis/mne.raw_resting_state/sub5-mindfulness_restingstate-jhana_day3-raw.fif\n",
      "Closing /Volumes/Expansion/jhana_study/analysis/mne.raw_resting_state/sub5-mindfulness_restingstate-jhana_day3-raw.fif\n",
      "[done]\n"
     ]
    },
    {
     "name": "stderr",
     "output_type": "stream",
     "text": [
      "/var/folders/by/hhqkyqc10wnf7p3krlc7zswm0000gn/T/ipykernel_33633/1315015294.py:16: RuntimeWarning: EDF format requires equal-length data blocks, so 0.4375 seconds of zeros were appended to all channels when writing the final block.\n",
      "  mne.export.export_raw(export_path+fname+'-raw.edf', raw)\n"
     ]
    },
    {
     "name": "stdout",
     "output_type": "stream",
     "text": [
      "Creating RawArray with float64 data, n_channels=32, n_times=381688\n",
      "    Range : 0 ... 381687 =      0.000 ...  1490.965 secs\n",
      "Ready.\n",
      "********************************\n",
      "for path /Volumes/Expansion/jhana_study/data/data_sd/eeg44/22-09-06/14-37-44/ no events were detected\n",
      "Writing /Volumes/Expansion/jhana_study/analysis/mne.raw_resting_state/sub5-mindfulness_restingstate-jhana_day4-raw.fif\n",
      "Closing /Volumes/Expansion/jhana_study/analysis/mne.raw_resting_state/sub5-mindfulness_restingstate-jhana_day4-raw.fif\n",
      "[done]\n"
     ]
    },
    {
     "name": "stderr",
     "output_type": "stream",
     "text": [
      "/var/folders/by/hhqkyqc10wnf7p3krlc7zswm0000gn/T/ipykernel_33633/1315015294.py:16: RuntimeWarning: EDF format requires equal-length data blocks, so 0.03125 seconds of zeros were appended to all channels when writing the final block.\n",
      "  mne.export.export_raw(export_path+fname+'-raw.edf', raw)\n"
     ]
    },
    {
     "name": "stdout",
     "output_type": "stream",
     "text": [
      "Creating RawArray with float64 data, n_channels=32, n_times=383408\n",
      "    Range : 0 ... 383407 =      0.000 ...  1497.684 secs\n",
      "Ready.\n",
      "Writing /Volumes/Expansion/jhana_study/analysis/mne.raw_resting_state/sub6-jhana_restingstate-jhana_day1-raw.fif\n",
      "Closing /Volumes/Expansion/jhana_study/analysis/mne.raw_resting_state/sub6-jhana_restingstate-jhana_day1-raw.fif\n",
      "[done]\n"
     ]
    },
    {
     "name": "stderr",
     "output_type": "stream",
     "text": [
      "/var/folders/by/hhqkyqc10wnf7p3krlc7zswm0000gn/T/ipykernel_33633/1315015294.py:16: RuntimeWarning: EDF format requires equal-length data blocks, so 0.3125 seconds of zeros were appended to all channels when writing the final block.\n",
      "  mne.export.export_raw(export_path+fname+'-raw.edf', raw)\n"
     ]
    },
    {
     "name": "stdout",
     "output_type": "stream",
     "text": [
      "Creating RawArray with float64 data, n_channels=32, n_times=379576\n",
      "    Range : 0 ... 379575 =      0.000 ...  1482.715 secs\n",
      "Ready.\n",
      "Writing /Volumes/Expansion/jhana_study/analysis/mne.raw_resting_state/sub6-jhana_restingstate-jhana_day2-raw.fif\n",
      "Closing /Volumes/Expansion/jhana_study/analysis/mne.raw_resting_state/sub6-jhana_restingstate-jhana_day2-raw.fif\n",
      "[done]\n"
     ]
    },
    {
     "name": "stderr",
     "output_type": "stream",
     "text": [
      "/var/folders/by/hhqkyqc10wnf7p3krlc7zswm0000gn/T/ipykernel_33633/1315015294.py:16: RuntimeWarning: EDF format requires equal-length data blocks, so 0.28125 seconds of zeros were appended to all channels when writing the final block.\n",
      "  mne.export.export_raw(export_path+fname+'-raw.edf', raw)\n"
     ]
    },
    {
     "name": "stdout",
     "output_type": "stream",
     "text": [
      "Creating RawArray with float64 data, n_channels=32, n_times=400712\n",
      "    Range : 0 ... 400711 =      0.000 ...  1565.277 secs\n",
      "Ready.\n",
      "Writing /Volumes/Expansion/jhana_study/analysis/mne.raw_resting_state/sub6-jhana_restingstate-jhana_day3-raw.fif\n",
      "Closing /Volumes/Expansion/jhana_study/analysis/mne.raw_resting_state/sub6-jhana_restingstate-jhana_day3-raw.fif\n",
      "[done]\n"
     ]
    },
    {
     "name": "stderr",
     "output_type": "stream",
     "text": [
      "/var/folders/by/hhqkyqc10wnf7p3krlc7zswm0000gn/T/ipykernel_33633/1315015294.py:16: RuntimeWarning: EDF format requires equal-length data blocks, so 0.71875 seconds of zeros were appended to all channels when writing the final block.\n",
      "  mne.export.export_raw(export_path+fname+'-raw.edf', raw)\n"
     ]
    },
    {
     "name": "stdout",
     "output_type": "stream",
     "text": [
      "Creating RawArray with float64 data, n_channels=32, n_times=384344\n",
      "    Range : 0 ... 384343 =      0.000 ...  1501.340 secs\n",
      "Ready.\n",
      "Writing /Volumes/Expansion/jhana_study/analysis/mne.raw_resting_state/sub6-jhana_restingstate-jhana_day4-raw.fif\n",
      "Closing /Volumes/Expansion/jhana_study/analysis/mne.raw_resting_state/sub6-jhana_restingstate-jhana_day4-raw.fif\n",
      "[done]\n"
     ]
    },
    {
     "name": "stderr",
     "output_type": "stream",
     "text": [
      "/var/folders/by/hhqkyqc10wnf7p3krlc7zswm0000gn/T/ipykernel_33633/1315015294.py:16: RuntimeWarning: EDF format requires equal-length data blocks, so 0.65625 seconds of zeros were appended to all channels when writing the final block.\n",
      "  mne.export.export_raw(export_path+fname+'-raw.edf', raw)\n"
     ]
    },
    {
     "name": "stdout",
     "output_type": "stream",
     "text": [
      "Creating RawArray with float64 data, n_channels=32, n_times=391024\n",
      "    Range : 0 ... 391023 =      0.000 ...  1527.434 secs\n",
      "Ready.\n",
      "********************************\n",
      "for path /Volumes/Expansion/jhana_study/data/data_sd/eeg33/22-09-03/17-54-46/ no events were detected\n",
      "Writing /Volumes/Expansion/jhana_study/analysis/mne.raw_resting_state/sub6-mindfulness_restingstate-jhana_day1-raw.fif\n",
      "Closing /Volumes/Expansion/jhana_study/analysis/mne.raw_resting_state/sub6-mindfulness_restingstate-jhana_day1-raw.fif\n",
      "[done]\n"
     ]
    },
    {
     "name": "stderr",
     "output_type": "stream",
     "text": [
      "/var/folders/by/hhqkyqc10wnf7p3krlc7zswm0000gn/T/ipykernel_33633/1315015294.py:16: RuntimeWarning: EDF format requires equal-length data blocks, so 0.5625 seconds of zeros were appended to all channels when writing the final block.\n",
      "  mne.export.export_raw(export_path+fname+'-raw.edf', raw)\n"
     ]
    },
    {
     "name": "stdout",
     "output_type": "stream",
     "text": [
      "Creating RawArray with float64 data, n_channels=32, n_times=366440\n",
      "    Range : 0 ... 366439 =      0.000 ...  1431.402 secs\n",
      "Ready.\n",
      "********************************\n",
      "for path /Volumes/Expansion/jhana_study/data/data_sd/eeg33/22-09-04/16-52-42/ no events were detected\n",
      "Writing /Volumes/Expansion/jhana_study/analysis/mne.raw_resting_state/sub6-mindfulness_restingstate-jhana_day2-raw.fif\n",
      "Closing /Volumes/Expansion/jhana_study/analysis/mne.raw_resting_state/sub6-mindfulness_restingstate-jhana_day2-raw.fif\n",
      "[done]\n"
     ]
    },
    {
     "name": "stderr",
     "output_type": "stream",
     "text": [
      "/var/folders/by/hhqkyqc10wnf7p3krlc7zswm0000gn/T/ipykernel_33633/1315015294.py:16: RuntimeWarning: EDF format requires equal-length data blocks, so 0.59375 seconds of zeros were appended to all channels when writing the final block.\n",
      "  mne.export.export_raw(export_path+fname+'-raw.edf', raw)\n"
     ]
    },
    {
     "name": "stdout",
     "output_type": "stream",
     "text": [
      "Creating RawArray with float64 data, n_channels=32, n_times=386368\n",
      "    Range : 0 ... 386367 =      0.000 ...  1509.246 secs\n",
      "Ready.\n",
      "********************************\n",
      "for path /Volumes/Expansion/jhana_study/data/data_sd/eeg33/22-09-05/17-25-57/ no events were detected\n",
      "Writing /Volumes/Expansion/jhana_study/analysis/mne.raw_resting_state/sub6-mindfulness_restingstate-jhana_day3-raw.fif\n",
      "Closing /Volumes/Expansion/jhana_study/analysis/mne.raw_resting_state/sub6-mindfulness_restingstate-jhana_day3-raw.fif\n",
      "[done]\n"
     ]
    },
    {
     "name": "stderr",
     "output_type": "stream",
     "text": [
      "/var/folders/by/hhqkyqc10wnf7p3krlc7zswm0000gn/T/ipykernel_33633/1315015294.py:16: RuntimeWarning: EDF format requires equal-length data blocks, so 0.75 seconds of zeros were appended to all channels when writing the final block.\n",
      "  mne.export.export_raw(export_path+fname+'-raw.edf', raw)\n"
     ]
    },
    {
     "name": "stdout",
     "output_type": "stream",
     "text": [
      "Creating RawArray with float64 data, n_channels=32, n_times=389416\n",
      "    Range : 0 ... 389415 =      0.000 ...  1521.152 secs\n",
      "Ready.\n",
      "********************************\n",
      "for path /Volumes/Expansion/jhana_study/data/data_sd/eeg33/22-09-06/16-48-55/ no events were detected\n",
      "Writing /Volumes/Expansion/jhana_study/analysis/mne.raw_resting_state/sub6-mindfulness_restingstate-jhana_day4-raw.fif\n",
      "Closing /Volumes/Expansion/jhana_study/analysis/mne.raw_resting_state/sub6-mindfulness_restingstate-jhana_day4-raw.fif\n",
      "[done]\n"
     ]
    },
    {
     "name": "stderr",
     "output_type": "stream",
     "text": [
      "/var/folders/by/hhqkyqc10wnf7p3krlc7zswm0000gn/T/ipykernel_33633/1315015294.py:16: RuntimeWarning: EDF format requires equal-length data blocks, so 0.84375 seconds of zeros were appended to all channels when writing the final block.\n",
      "  mne.export.export_raw(export_path+fname+'-raw.edf', raw)\n"
     ]
    },
    {
     "name": "stdout",
     "output_type": "stream",
     "text": [
      "Creating RawArray with float64 data, n_channels=32, n_times=382856\n",
      "    Range : 0 ... 382855 =      0.000 ...  1495.527 secs\n",
      "Ready.\n",
      "Writing /Volumes/Expansion/jhana_study/analysis/mne.raw_resting_state/sub7-jhana_restingstate-jhana_day1-raw.fif\n",
      "Closing /Volumes/Expansion/jhana_study/analysis/mne.raw_resting_state/sub7-jhana_restingstate-jhana_day1-raw.fif\n",
      "[done]\n"
     ]
    },
    {
     "name": "stderr",
     "output_type": "stream",
     "text": [
      "/var/folders/by/hhqkyqc10wnf7p3krlc7zswm0000gn/T/ipykernel_33633/1315015294.py:16: RuntimeWarning: EDF format requires equal-length data blocks, so 0.46875 seconds of zeros were appended to all channels when writing the final block.\n",
      "  mne.export.export_raw(export_path+fname+'-raw.edf', raw)\n"
     ]
    },
    {
     "name": "stdout",
     "output_type": "stream",
     "text": [
      "Creating RawArray with float64 data, n_channels=32, n_times=390496\n",
      "    Range : 0 ... 390495 =      0.000 ...  1525.371 secs\n",
      "Ready.\n",
      "Writing /Volumes/Expansion/jhana_study/analysis/mne.raw_resting_state/sub7-jhana_restingstate-jhana_day2-raw.fif\n",
      "Closing /Volumes/Expansion/jhana_study/analysis/mne.raw_resting_state/sub7-jhana_restingstate-jhana_day2-raw.fif\n",
      "[done]\n"
     ]
    },
    {
     "name": "stderr",
     "output_type": "stream",
     "text": [
      "/var/folders/by/hhqkyqc10wnf7p3krlc7zswm0000gn/T/ipykernel_33633/1315015294.py:16: RuntimeWarning: EDF format requires equal-length data blocks, so 0.625 seconds of zeros were appended to all channels when writing the final block.\n",
      "  mne.export.export_raw(export_path+fname+'-raw.edf', raw)\n"
     ]
    },
    {
     "name": "stdout",
     "output_type": "stream",
     "text": [
      "Creating RawArray with float64 data, n_channels=32, n_times=398496\n",
      "    Range : 0 ... 398495 =      0.000 ...  1556.621 secs\n",
      "Ready.\n",
      "Writing /Volumes/Expansion/jhana_study/analysis/mne.raw_resting_state/sub7-jhana_restingstate-jhana_day3-raw.fif\n",
      "Closing /Volumes/Expansion/jhana_study/analysis/mne.raw_resting_state/sub7-jhana_restingstate-jhana_day3-raw.fif\n",
      "[done]\n"
     ]
    },
    {
     "name": "stderr",
     "output_type": "stream",
     "text": [
      "/var/folders/by/hhqkyqc10wnf7p3krlc7zswm0000gn/T/ipykernel_33633/1315015294.py:16: RuntimeWarning: EDF format requires equal-length data blocks, so 0.375 seconds of zeros were appended to all channels when writing the final block.\n",
      "  mne.export.export_raw(export_path+fname+'-raw.edf', raw)\n"
     ]
    },
    {
     "name": "stdout",
     "output_type": "stream",
     "text": [
      "Creating RawArray with float64 data, n_channels=32, n_times=384440\n",
      "    Range : 0 ... 384439 =      0.000 ...  1501.715 secs\n",
      "Ready.\n",
      "Writing /Volumes/Expansion/jhana_study/analysis/mne.raw_resting_state/sub7-jhana_restingstate-jhana_day4-raw.fif\n",
      "Closing /Volumes/Expansion/jhana_study/analysis/mne.raw_resting_state/sub7-jhana_restingstate-jhana_day4-raw.fif\n",
      "[done]\n"
     ]
    },
    {
     "name": "stderr",
     "output_type": "stream",
     "text": [
      "/var/folders/by/hhqkyqc10wnf7p3krlc7zswm0000gn/T/ipykernel_33633/1315015294.py:16: RuntimeWarning: EDF format requires equal-length data blocks, so 0.28125 seconds of zeros were appended to all channels when writing the final block.\n",
      "  mne.export.export_raw(export_path+fname+'-raw.edf', raw)\n"
     ]
    },
    {
     "name": "stdout",
     "output_type": "stream",
     "text": [
      "Creating RawArray with float64 data, n_channels=32, n_times=390672\n",
      "    Range : 0 ... 390671 =      0.000 ...  1526.059 secs\n",
      "Ready.\n",
      "********************************\n",
      "for path /Volumes/Expansion/jhana_study/data/data_sd/eeg44/22-09-03/17-54-44/ no events were detected\n",
      "Writing /Volumes/Expansion/jhana_study/analysis/mne.raw_resting_state/sub7-mindfulness_restingstate-jhana_day1-raw.fif\n",
      "Closing /Volumes/Expansion/jhana_study/analysis/mne.raw_resting_state/sub7-mindfulness_restingstate-jhana_day1-raw.fif\n",
      "[done]\n"
     ]
    },
    {
     "name": "stderr",
     "output_type": "stream",
     "text": [
      "/var/folders/by/hhqkyqc10wnf7p3krlc7zswm0000gn/T/ipykernel_33633/1315015294.py:16: RuntimeWarning: EDF format requires equal-length data blocks, so 0.9375 seconds of zeros were appended to all channels when writing the final block.\n",
      "  mne.export.export_raw(export_path+fname+'-raw.edf', raw)\n"
     ]
    },
    {
     "name": "stdout",
     "output_type": "stream",
     "text": [
      "Creating RawArray with float64 data, n_channels=32, n_times=364016\n",
      "    Range : 0 ... 364015 =      0.000 ...  1421.934 secs\n",
      "Ready.\n",
      "********************************\n",
      "for path /Volumes/Expansion/jhana_study/data/data_sd/eeg44/22-09-04/16-52-47/ no events were detected\n",
      "Writing /Volumes/Expansion/jhana_study/analysis/mne.raw_resting_state/sub7-mindfulness_restingstate-jhana_day2-raw.fif\n",
      "Closing /Volumes/Expansion/jhana_study/analysis/mne.raw_resting_state/sub7-mindfulness_restingstate-jhana_day2-raw.fif\n",
      "[done]\n"
     ]
    },
    {
     "name": "stderr",
     "output_type": "stream",
     "text": [
      "/var/folders/by/hhqkyqc10wnf7p3krlc7zswm0000gn/T/ipykernel_33633/1315015294.py:16: RuntimeWarning: EDF format requires equal-length data blocks, so 0.0625 seconds of zeros were appended to all channels when writing the final block.\n",
      "  mne.export.export_raw(export_path+fname+'-raw.edf', raw)\n"
     ]
    },
    {
     "name": "stdout",
     "output_type": "stream",
     "text": [
      "Creating RawArray with float64 data, n_channels=32, n_times=384216\n",
      "    Range : 0 ... 384215 =      0.000 ...  1500.840 secs\n",
      "Ready.\n",
      "********************************\n",
      "for path /Volumes/Expansion/jhana_study/data/data_sd/eeg44/22-09-05/17-26-02/ no events were detected\n",
      "Writing /Volumes/Expansion/jhana_study/analysis/mne.raw_resting_state/sub7-mindfulness_restingstate-jhana_day3-raw.fif\n",
      "Closing /Volumes/Expansion/jhana_study/analysis/mne.raw_resting_state/sub7-mindfulness_restingstate-jhana_day3-raw.fif\n",
      "[done]\n"
     ]
    },
    {
     "name": "stderr",
     "output_type": "stream",
     "text": [
      "/var/folders/by/hhqkyqc10wnf7p3krlc7zswm0000gn/T/ipykernel_33633/1315015294.py:16: RuntimeWarning: EDF format requires equal-length data blocks, so 0.15625 seconds of zeros were appended to all channels when writing the final block.\n",
      "  mne.export.export_raw(export_path+fname+'-raw.edf', raw)\n"
     ]
    },
    {
     "name": "stdout",
     "output_type": "stream",
     "text": [
      "Creating RawArray with float64 data, n_channels=32, n_times=388984\n",
      "    Range : 0 ... 388983 =      0.000 ...  1519.465 secs\n",
      "Ready.\n",
      "********************************\n",
      "for path /Volumes/Expansion/jhana_study/data/data_sd/eeg44/22-09-06/16-48-53/ no events were detected\n",
      "Writing /Volumes/Expansion/jhana_study/analysis/mne.raw_resting_state/sub7-mindfulness_restingstate-jhana_day4-raw.fif\n",
      "Closing /Volumes/Expansion/jhana_study/analysis/mne.raw_resting_state/sub7-mindfulness_restingstate-jhana_day4-raw.fif\n",
      "[done]\n"
     ]
    },
    {
     "name": "stderr",
     "output_type": "stream",
     "text": [
      "/var/folders/by/hhqkyqc10wnf7p3krlc7zswm0000gn/T/ipykernel_33633/1315015294.py:16: RuntimeWarning: EDF format requires equal-length data blocks, so 0.53125 seconds of zeros were appended to all channels when writing the final block.\n",
      "  mne.export.export_raw(export_path+fname+'-raw.edf', raw)\n"
     ]
    },
    {
     "name": "stdout",
     "output_type": "stream",
     "text": [
      "Creating RawArray with float64 data, n_channels=32, n_times=386496\n",
      "    Range : 0 ... 386495 =      0.000 ...  1509.746 secs\n",
      "Ready.\n",
      "Writing /Volumes/Expansion/jhana_study/analysis/mne.raw_resting_state/sub8-jhana_restingstate-jhana_day1-raw.fif\n",
      "Closing /Volumes/Expansion/jhana_study/analysis/mne.raw_resting_state/sub8-jhana_restingstate-jhana_day1-raw.fif\n",
      "[done]\n"
     ]
    },
    {
     "name": "stderr",
     "output_type": "stream",
     "text": [
      "/var/folders/by/hhqkyqc10wnf7p3krlc7zswm0000gn/T/ipykernel_33633/1315015294.py:16: RuntimeWarning: EDF format requires equal-length data blocks, so 0.25 seconds of zeros were appended to all channels when writing the final block.\n",
      "  mne.export.export_raw(export_path+fname+'-raw.edf', raw)\n"
     ]
    },
    {
     "name": "stdout",
     "output_type": "stream",
     "text": [
      "Creating RawArray with float64 data, n_channels=32, n_times=391848\n",
      "    Range : 0 ... 391847 =      0.000 ...  1530.652 secs\n",
      "Ready.\n",
      "********************************\n",
      "for path /Volumes/Expansion/jhana_study/data/data_sd/eeg33/22-09-05/06-09-18/ no events were detected\n",
      "Writing /Volumes/Expansion/jhana_study/analysis/mne.raw_resting_state/sub8-jhana_restingstate-jhana_day2-raw.fif\n",
      "Closing /Volumes/Expansion/jhana_study/analysis/mne.raw_resting_state/sub8-jhana_restingstate-jhana_day2-raw.fif\n",
      "[done]\n"
     ]
    },
    {
     "name": "stderr",
     "output_type": "stream",
     "text": [
      "/var/folders/by/hhqkyqc10wnf7p3krlc7zswm0000gn/T/ipykernel_33633/1315015294.py:16: RuntimeWarning: EDF format requires equal-length data blocks, so 0.34375 seconds of zeros were appended to all channels when writing the final block.\n",
      "  mne.export.export_raw(export_path+fname+'-raw.edf', raw)\n"
     ]
    },
    {
     "name": "stdout",
     "output_type": "stream",
     "text": [
      "Creating RawArray with float64 data, n_channels=32, n_times=391456\n",
      "    Range : 0 ... 391455 =      0.000 ...  1529.121 secs\n",
      "Ready.\n",
      "Writing /Volumes/Expansion/jhana_study/analysis/mne.raw_resting_state/sub8-jhana_restingstate-jhana_day3-raw.fif\n",
      "Closing /Volumes/Expansion/jhana_study/analysis/mne.raw_resting_state/sub8-jhana_restingstate-jhana_day3-raw.fif\n",
      "[done]\n"
     ]
    },
    {
     "name": "stderr",
     "output_type": "stream",
     "text": [
      "/var/folders/by/hhqkyqc10wnf7p3krlc7zswm0000gn/T/ipykernel_33633/1315015294.py:16: RuntimeWarning: EDF format requires equal-length data blocks, so 0.875 seconds of zeros were appended to all channels when writing the final block.\n",
      "  mne.export.export_raw(export_path+fname+'-raw.edf', raw)\n"
     ]
    },
    {
     "name": "stdout",
     "output_type": "stream",
     "text": [
      "Creating RawArray with float64 data, n_channels=32, n_times=386488\n",
      "    Range : 0 ... 386487 =      0.000 ...  1509.715 secs\n",
      "Ready.\n",
      "Writing /Volumes/Expansion/jhana_study/analysis/mne.raw_resting_state/sub8-jhana_restingstate-jhana_day4-raw.fif\n",
      "Closing /Volumes/Expansion/jhana_study/analysis/mne.raw_resting_state/sub8-jhana_restingstate-jhana_day4-raw.fif\n",
      "[done]\n"
     ]
    },
    {
     "name": "stderr",
     "output_type": "stream",
     "text": [
      "/var/folders/by/hhqkyqc10wnf7p3krlc7zswm0000gn/T/ipykernel_33633/1315015294.py:16: RuntimeWarning: EDF format requires equal-length data blocks, so 0.28125 seconds of zeros were appended to all channels when writing the final block.\n",
      "  mne.export.export_raw(export_path+fname+'-raw.edf', raw)\n"
     ]
    },
    {
     "name": "stdout",
     "output_type": "stream",
     "text": [
      "Creating RawArray with float64 data, n_channels=32, n_times=384200\n",
      "    Range : 0 ... 384199 =      0.000 ...  1500.777 secs\n",
      "Ready.\n",
      "********************************\n",
      "for path /Volumes/Expansion/jhana_study/data/data_sd/eeg33/22-09-03/19-34-54/ no events were detected\n",
      "Writing /Volumes/Expansion/jhana_study/analysis/mne.raw_resting_state/sub8-mindfulness_restingstate-jhana_day1-raw.fif\n",
      "Closing /Volumes/Expansion/jhana_study/analysis/mne.raw_resting_state/sub8-mindfulness_restingstate-jhana_day1-raw.fif\n",
      "[done]\n"
     ]
    },
    {
     "name": "stderr",
     "output_type": "stream",
     "text": [
      "/var/folders/by/hhqkyqc10wnf7p3krlc7zswm0000gn/T/ipykernel_33633/1315015294.py:16: RuntimeWarning: EDF format requires equal-length data blocks, so 0.21875 seconds of zeros were appended to all channels when writing the final block.\n",
      "  mne.export.export_raw(export_path+fname+'-raw.edf', raw)\n"
     ]
    },
    {
     "name": "stdout",
     "output_type": "stream",
     "text": [
      "Creating RawArray with float64 data, n_channels=32, n_times=386040\n",
      "    Range : 0 ... 386039 =      0.000 ...  1507.965 secs\n",
      "Ready.\n",
      "********************************\n",
      "for path /Volumes/Expansion/jhana_study/data/data_sd/eeg33/22-09-05/07-03-20/ no events were detected\n",
      "Writing /Volumes/Expansion/jhana_study/analysis/mne.raw_resting_state/sub8-mindfulness_restingstate-jhana_day2-raw.fif\n",
      "Closing /Volumes/Expansion/jhana_study/analysis/mne.raw_resting_state/sub8-mindfulness_restingstate-jhana_day2-raw.fif\n",
      "[done]\n"
     ]
    },
    {
     "name": "stderr",
     "output_type": "stream",
     "text": [
      "/var/folders/by/hhqkyqc10wnf7p3krlc7zswm0000gn/T/ipykernel_33633/1315015294.py:16: RuntimeWarning: EDF format requires equal-length data blocks, so 0.03125 seconds of zeros were appended to all channels when writing the final block.\n",
      "  mne.export.export_raw(export_path+fname+'-raw.edf', raw)\n"
     ]
    },
    {
     "name": "stdout",
     "output_type": "stream",
     "text": [
      "Creating RawArray with float64 data, n_channels=32, n_times=390840\n",
      "    Range : 0 ... 390839 =      0.000 ...  1526.715 secs\n",
      "Ready.\n",
      "********************************\n",
      "for path /Volumes/Expansion/jhana_study/data/data_sd/eeg33/22-09-05/19-35-16/ no events were detected\n",
      "Writing /Volumes/Expansion/jhana_study/analysis/mne.raw_resting_state/sub8-mindfulness_restingstate-jhana_day3-raw.fif\n",
      "Closing /Volumes/Expansion/jhana_study/analysis/mne.raw_resting_state/sub8-mindfulness_restingstate-jhana_day3-raw.fif\n",
      "[done]\n"
     ]
    },
    {
     "name": "stderr",
     "output_type": "stream",
     "text": [
      "/var/folders/by/hhqkyqc10wnf7p3krlc7zswm0000gn/T/ipykernel_33633/1315015294.py:16: RuntimeWarning: EDF format requires equal-length data blocks, so 0.28125 seconds of zeros were appended to all channels when writing the final block.\n",
      "  mne.export.export_raw(export_path+fname+'-raw.edf', raw)\n"
     ]
    },
    {
     "name": "stdout",
     "output_type": "stream",
     "text": [
      "Creating RawArray with float64 data, n_channels=32, n_times=390024\n",
      "    Range : 0 ... 390023 =      0.000 ...  1523.527 secs\n",
      "Ready.\n",
      "********************************\n",
      "for path /Volumes/Expansion/jhana_study/data/data_sd/eeg33/22-09-06/20-34-13/ no events were detected\n",
      "Writing /Volumes/Expansion/jhana_study/analysis/mne.raw_resting_state/sub8-mindfulness_restingstate-jhana_day4-raw.fif\n",
      "Closing /Volumes/Expansion/jhana_study/analysis/mne.raw_resting_state/sub8-mindfulness_restingstate-jhana_day4-raw.fif\n",
      "[done]\n"
     ]
    },
    {
     "name": "stderr",
     "output_type": "stream",
     "text": [
      "/var/folders/by/hhqkyqc10wnf7p3krlc7zswm0000gn/T/ipykernel_33633/1315015294.py:16: RuntimeWarning: EDF format requires equal-length data blocks, so 0.46875 seconds of zeros were appended to all channels when writing the final block.\n",
      "  mne.export.export_raw(export_path+fname+'-raw.edf', raw)\n"
     ]
    },
    {
     "name": "stdout",
     "output_type": "stream",
     "text": [
      "Creating RawArray with float64 data, n_channels=32, n_times=385488\n",
      "    Range : 0 ... 385487 =      0.000 ...  1505.809 secs\n",
      "Ready.\n",
      "Writing /Volumes/Expansion/jhana_study/analysis/mne.raw_resting_state/sub9-jhana_restingstate-jhana_day1-raw.fif\n",
      "Closing /Volumes/Expansion/jhana_study/analysis/mne.raw_resting_state/sub9-jhana_restingstate-jhana_day1-raw.fif\n",
      "[done]\n"
     ]
    },
    {
     "name": "stderr",
     "output_type": "stream",
     "text": [
      "/var/folders/by/hhqkyqc10wnf7p3krlc7zswm0000gn/T/ipykernel_33633/1315015294.py:16: RuntimeWarning: EDF format requires equal-length data blocks, so 0.1875 seconds of zeros were appended to all channels when writing the final block.\n",
      "  mne.export.export_raw(export_path+fname+'-raw.edf', raw)\n"
     ]
    },
    {
     "name": "stdout",
     "output_type": "stream",
     "text": [
      "Creating RawArray with float64 data, n_channels=32, n_times=388728\n",
      "    Range : 0 ... 388727 =      0.000 ...  1518.465 secs\n",
      "Ready.\n",
      "Writing /Volumes/Expansion/jhana_study/analysis/mne.raw_resting_state/sub9-jhana_restingstate-jhana_day2-raw.fif\n",
      "Closing /Volumes/Expansion/jhana_study/analysis/mne.raw_resting_state/sub9-jhana_restingstate-jhana_day2-raw.fif\n",
      "[done]\n"
     ]
    },
    {
     "name": "stderr",
     "output_type": "stream",
     "text": [
      "/var/folders/by/hhqkyqc10wnf7p3krlc7zswm0000gn/T/ipykernel_33633/1315015294.py:16: RuntimeWarning: EDF format requires equal-length data blocks, so 0.53125 seconds of zeros were appended to all channels when writing the final block.\n",
      "  mne.export.export_raw(export_path+fname+'-raw.edf', raw)\n"
     ]
    },
    {
     "name": "stdout",
     "output_type": "stream",
     "text": [
      "Creating RawArray with float64 data, n_channels=32, n_times=389728\n",
      "    Range : 0 ... 389727 =      0.000 ...  1522.371 secs\n",
      "Ready.\n",
      "Writing /Volumes/Expansion/jhana_study/analysis/mne.raw_resting_state/sub9-jhana_restingstate-jhana_day3-raw.fif\n",
      "Closing /Volumes/Expansion/jhana_study/analysis/mne.raw_resting_state/sub9-jhana_restingstate-jhana_day3-raw.fif\n",
      "[done]\n"
     ]
    },
    {
     "name": "stderr",
     "output_type": "stream",
     "text": [
      "/var/folders/by/hhqkyqc10wnf7p3krlc7zswm0000gn/T/ipykernel_33633/1315015294.py:16: RuntimeWarning: EDF format requires equal-length data blocks, so 0.625 seconds of zeros were appended to all channels when writing the final block.\n",
      "  mne.export.export_raw(export_path+fname+'-raw.edf', raw)\n"
     ]
    },
    {
     "name": "stdout",
     "output_type": "stream",
     "text": [
      "Creating RawArray with float64 data, n_channels=32, n_times=388112\n",
      "    Range : 0 ... 388111 =      0.000 ...  1516.059 secs\n",
      "Ready.\n",
      "Writing /Volumes/Expansion/jhana_study/analysis/mne.raw_resting_state/sub9-jhana_restingstate-jhana_day4-raw.fif\n",
      "Closing /Volumes/Expansion/jhana_study/analysis/mne.raw_resting_state/sub9-jhana_restingstate-jhana_day4-raw.fif\n",
      "[done]\n"
     ]
    },
    {
     "name": "stderr",
     "output_type": "stream",
     "text": [
      "/var/folders/by/hhqkyqc10wnf7p3krlc7zswm0000gn/T/ipykernel_33633/1315015294.py:16: RuntimeWarning: EDF format requires equal-length data blocks, so 0.9375 seconds of zeros were appended to all channels when writing the final block.\n",
      "  mne.export.export_raw(export_path+fname+'-raw.edf', raw)\n"
     ]
    },
    {
     "name": "stdout",
     "output_type": "stream",
     "text": [
      "Creating RawArray with float64 data, n_channels=32, n_times=385704\n",
      "    Range : 0 ... 385703 =      0.000 ...  1506.652 secs\n",
      "Ready.\n",
      "********************************\n",
      "for path /Volumes/Expansion/jhana_study/data/data_sd/eeg44/22-09-03/19-34-51/ no events were detected\n",
      "Writing /Volumes/Expansion/jhana_study/analysis/mne.raw_resting_state/sub9-mindfulness_restingstate-jhana_day1-raw.fif\n",
      "Closing /Volumes/Expansion/jhana_study/analysis/mne.raw_resting_state/sub9-mindfulness_restingstate-jhana_day1-raw.fif\n",
      "[done]\n"
     ]
    },
    {
     "name": "stderr",
     "output_type": "stream",
     "text": [
      "/var/folders/by/hhqkyqc10wnf7p3krlc7zswm0000gn/T/ipykernel_33633/1315015294.py:16: RuntimeWarning: EDF format requires equal-length data blocks, so 0.34375 seconds of zeros were appended to all channels when writing the final block.\n",
      "  mne.export.export_raw(export_path+fname+'-raw.edf', raw)\n"
     ]
    },
    {
     "name": "stdout",
     "output_type": "stream",
     "text": [
      "Creating RawArray with float64 data, n_channels=32, n_times=384304\n",
      "    Range : 0 ... 384303 =      0.000 ...  1501.184 secs\n",
      "Ready.\n",
      "********************************\n",
      "for path /Volumes/Expansion/jhana_study/data/data_sd/eeg44/22-09-04/20-47-28/ no events were detected\n",
      "Writing /Volumes/Expansion/jhana_study/analysis/mne.raw_resting_state/sub9-mindfulness_restingstate-jhana_day2-raw.fif\n",
      "Closing /Volumes/Expansion/jhana_study/analysis/mne.raw_resting_state/sub9-mindfulness_restingstate-jhana_day2-raw.fif\n",
      "[done]\n"
     ]
    },
    {
     "name": "stderr",
     "output_type": "stream",
     "text": [
      "/var/folders/by/hhqkyqc10wnf7p3krlc7zswm0000gn/T/ipykernel_33633/1315015294.py:16: RuntimeWarning: EDF format requires equal-length data blocks, so 0.8125 seconds of zeros were appended to all channels when writing the final block.\n",
      "  mne.export.export_raw(export_path+fname+'-raw.edf', raw)\n"
     ]
    },
    {
     "name": "stdout",
     "output_type": "stream",
     "text": [
      "Creating RawArray with float64 data, n_channels=32, n_times=387632\n",
      "    Range : 0 ... 387631 =      0.000 ...  1514.184 secs\n",
      "Ready.\n",
      "********************************\n",
      "for path /Volumes/Expansion/jhana_study/data/data_sd/eeg44/22-09-05/19-35-20/ no events were detected\n",
      "Writing /Volumes/Expansion/jhana_study/analysis/mne.raw_resting_state/sub9-mindfulness_restingstate-jhana_day3-raw.fif\n",
      "Closing /Volumes/Expansion/jhana_study/analysis/mne.raw_resting_state/sub9-mindfulness_restingstate-jhana_day3-raw.fif\n",
      "[done]\n"
     ]
    },
    {
     "name": "stderr",
     "output_type": "stream",
     "text": [
      "/var/folders/by/hhqkyqc10wnf7p3krlc7zswm0000gn/T/ipykernel_33633/1315015294.py:16: RuntimeWarning: EDF format requires equal-length data blocks, so 0.8125 seconds of zeros were appended to all channels when writing the final block.\n",
      "  mne.export.export_raw(export_path+fname+'-raw.edf', raw)\n"
     ]
    },
    {
     "name": "stdout",
     "output_type": "stream",
     "text": [
      "Creating RawArray with float64 data, n_channels=32, n_times=390040\n",
      "    Range : 0 ... 390039 =      0.000 ...  1523.590 secs\n",
      "Ready.\n",
      "********************************\n",
      "for path /Volumes/Expansion/jhana_study/data/data_sd/eeg44/22-09-06/20-34-18/ no events were detected\n",
      "Writing /Volumes/Expansion/jhana_study/analysis/mne.raw_resting_state/sub9-mindfulness_restingstate-jhana_day4-raw.fif\n",
      "Closing /Volumes/Expansion/jhana_study/analysis/mne.raw_resting_state/sub9-mindfulness_restingstate-jhana_day4-raw.fif\n",
      "[done]\n"
     ]
    },
    {
     "name": "stderr",
     "output_type": "stream",
     "text": [
      "/var/folders/by/hhqkyqc10wnf7p3krlc7zswm0000gn/T/ipykernel_33633/1315015294.py:16: RuntimeWarning: EDF format requires equal-length data blocks, so 0.40625 seconds of zeros were appended to all channels when writing the final block.\n",
      "  mne.export.export_raw(export_path+fname+'-raw.edf', raw)\n"
     ]
    }
   ],
   "source": [
    "df = pd.read_excel(r'/Users/jonasmago/PhD_code_data/Jhana_US/jhana_metadata.xlsx', sheet_name=None)\n",
    "\n",
    "export_path = '/Users/jonasmago/PhD_code_data/Jhana_US/analysis/mne.raw_resting_state/'\n",
    "\n",
    "if not os.path.exists(export_path):\n",
    "    os.makedirs(export_path)\n",
    "\n",
    "for subject in atpbar([4,5,6,7,8,9]): #range(10)\n",
    "    for recording_name in ['jhana_eeg_fname', 'mindfulness_eeg_fname']:\n",
    "        for sheet in ['jhana_day1', 'jhana_day2', 'jhana_day3', 'jhana_day4']: \n",
    "            path = get_path (df, sheet, subject, recording_name)\n",
    "            raw, event_info = csv_to_raw(path, import_button_events=True, button_events_threshold=10000, plot_button_events=False)\n",
    "            fname = 'sub'+str(subject)+'-'+recording_name[:-10]+'_restingstate-'+sheet\n",
    "            \n",
    "            raw.save(export_path+fname+'-raw.fif')\n",
    "            mne.export.export_raw(export_path+fname+'-raw.edf', raw)\n",
    "            \n",
    "            txt_path = \"/Users/jonasmago/PhD_code_data/Jhana_US/analysis/mne.raw_resting_state/events_info.txt\"\n",
    "            txt_string=fname+': '+str(event_info)\n",
    "            txt_file(txt_path, txt_string)\n",
    "txt_file(txt_path, 'done')"
   ]
  }
 ],
 "metadata": {
  "kernelspec": {
   "display_name": "Python 3 (ipykernel)",
   "language": "python",
   "name": "python3"
  },
  "language_info": {
   "codemirror_mode": {
    "name": "ipython",
    "version": 3
   },
   "file_extension": ".py",
   "mimetype": "text/x-python",
   "name": "python",
   "nbconvert_exporter": "python",
   "pygments_lexer": "ipython3",
   "version": "3.9.12"
  }
 },
 "nbformat": 4,
 "nbformat_minor": 5
}
