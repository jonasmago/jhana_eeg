{
 "cells": [
  {
   "cell_type": "code",
   "execution_count": 5,
   "id": "f874ac0a",
   "metadata": {},
   "outputs": [
    {
     "name": "stdout",
     "output_type": "stream",
     "text": [
      "The autoreload extension is already loaded. To reload it, use:\n",
      "  %reload_ext autoreload\n"
     ]
    }
   ],
   "source": [
    "%load_ext autoreload\n",
    "%autoreload 2\n",
    "%matplotlib qt\n",
    "\n",
    "import numpy as np\n",
    "import csv\n",
    "import matplotlib.pyplot as plt\n",
    "import pandas as pd\n",
    "import os\n",
    "\n",
    "from atpbar import atpbar\n",
    "from scipy.io import savemat\n",
    "\n",
    "import sys\n",
    "sys.path.append('../..')\n",
    "from utils.csv_utils import *\n",
    "from utils.lsl_utils import *\n",
    "from utils.MNE_utils import *"
   ]
  },
  {
   "cell_type": "markdown",
   "id": "4981fc42",
   "metadata": {},
   "source": [
    "# defining functions"
   ]
  },
  {
   "cell_type": "code",
   "execution_count": 6,
   "id": "573526d6",
   "metadata": {},
   "outputs": [],
   "source": [
    "def txt_file (path, messege=None, read=False, override=False):\n",
    "    if messege: \n",
    "        if override==False:\n",
    "            f = open(path, \"a\")\n",
    "        if override==True:\n",
    "            f = open(path, \"w\")\n",
    "        f.write(messege + \"\\n\")\n",
    "        f.close()\n",
    "    \n",
    "    if read==True:\n",
    "        f = open(path, \"r\")\n",
    "        print(f.read())\n"
   ]
  },
  {
   "cell_type": "code",
   "execution_count": 25,
   "id": "9f304990",
   "metadata": {},
   "outputs": [],
   "source": [
    "def get_path (df, sheet, subject, recording_name, device='eeg'):\n",
    "    date = df[sheet].iloc[subject]['date']\n",
    "    eeg_device_n = df[sheet].iloc[subject]['eeg_device_n']\n",
    "    if device=='bio':\n",
    "        eeg_device_n = df[sheet].iloc[subject]['bio_device_n']\n",
    "    time = df[sheet].iloc[subject][recording_name]\n",
    "\n",
    "    #print (df['jhana_day1'].iloc[subject])\n",
    "    path = '/Volumes/Expansion/jhana_study/data/data_sd/'+str(eeg_device_n)+'/'+str(date)+'/'+str(time)+'/'\n",
    "    return (path)"
   ]
  },
  {
   "cell_type": "code",
   "execution_count": 26,
   "id": "f7d7f7ae",
   "metadata": {},
   "outputs": [],
   "source": [
    "subject = 1\n",
    "recording_name = 'mindfulness_mmn_bio_fname'\n",
    "sheet = 'jhana_day1'\n",
    "\n",
    "df = pd.read_excel(r'/Volumes/Expansion/jhana_study/jhana_metadata.xlsx', sheet_name=None)\n",
    "path = get_path(df, sheet, subject, recording_name, device='bio')"
   ]
  },
  {
   "cell_type": "code",
   "execution_count": 44,
   "id": "2be8e367",
   "metadata": {},
   "outputs": [],
   "source": [
    "bio = {}\n",
    "\n",
    "header, sd_array = import_csv(path+'ExG [1].csv', verbose=False)\n",
    "bio['EKG']=sd_array[:,3]\n",
    "\n",
    "header, sd_array = import_csv(path+'Analog AUX [1].csv', verbose=False)\n",
    "bio['breath']=sd_array[:,3]\n",
    "\n",
    "header, sd_array = import_csv(path+'Analog AUX [2].csv', verbose=False)\n",
    "bio['electrodermal']=sd_array[:,3]"
   ]
  },
  {
   "cell_type": "code",
   "execution_count": 48,
   "id": "2abdbe74",
   "metadata": {},
   "outputs": [
    {
     "data": {
      "text/plain": [
       "{'EKG': array([10181.02063073, 10160.54182342, 10108.10765353, ...,\n",
       "        15018.28338161, 15068.08531405, 15092.72305652]),\n",
       " 'breath': array([52771.34370804, 52814.49766159, 52961.47127151, ...,\n",
       "        53381.75325394, 53273.86837006, 53175.36478043]),\n",
       " 'electrodermal': array([236117.16957092, 232132.62119293, 230337.97960281, ...,\n",
       "        802727.01616287, 806159.31901932, 805364.09797668])}"
      ]
     },
     "execution_count": 48,
     "metadata": {},
     "output_type": "execute_result"
    }
   ],
   "source": [
    "export_path = '/Users/jonasmago/Desktop/bio.mat'\n",
    "savemat(export_path, bio)"
   ]
  }
 ],
 "metadata": {
  "kernelspec": {
   "display_name": "Python 3 (ipykernel)",
   "language": "python",
   "name": "python3"
  },
  "language_info": {
   "codemirror_mode": {
    "name": "ipython",
    "version": 3
   },
   "file_extension": ".py",
   "mimetype": "text/x-python",
   "name": "python",
   "nbconvert_exporter": "python",
   "pygments_lexer": "ipython3",
   "version": "3.9.12"
  }
 },
 "nbformat": 4,
 "nbformat_minor": 5
}
