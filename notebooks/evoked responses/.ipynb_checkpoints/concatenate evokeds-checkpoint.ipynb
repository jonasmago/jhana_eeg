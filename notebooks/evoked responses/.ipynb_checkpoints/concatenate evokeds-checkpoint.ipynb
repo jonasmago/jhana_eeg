{
 "cells": [
  {
   "cell_type": "code",
   "execution_count": 2,
   "id": "ef2f182e",
   "metadata": {},
   "outputs": [],
   "source": [
    "%load_ext autoreload\n",
    "%autoreload 2\n",
    "%matplotlib qt\n",
    "import mne\n",
    "import glob"
   ]
  },
  {
   "cell_type": "markdown",
   "id": "a5a507a5-eeef-4a7b-98b7-ea417595a25a",
   "metadata": {},
   "source": [
    "# Concatenate MNE data"
   ]
  },
  {
   "cell_type": "code",
   "execution_count": 5,
   "id": "79786e82-9f34-4888-8ec4-3f6db7d0fc30",
   "metadata": {},
   "outputs": [
    {
     "name": "stdout",
     "output_type": "stream",
     "text": [
      "Reading /Users/jonasmago/PhD_code_data/github/eeg_jhana/notebooks/evoked responses/../../data/mne_raw_events_epochs_cleaned_noICA/sub0-day3-jhana_mmn-raw_phot-events.fif ...\n",
      "    Found the data of interest:\n",
      "        t =    -500.00 ...    1500.00 ms\n",
      "        0 CTF compensation matrices available\n",
      "Not setting metadata\n",
      "368 matching events found\n",
      "No baseline correction applied\n",
      "0 projection items activated\n",
      "Reading /Users/jonasmago/PhD_code_data/github/eeg_jhana/notebooks/evoked responses/../../data/mne_raw_events_epochs_cleaned_noICA/sub0-day4-jhana_mmn-raw_phot-events.fif ...\n",
      "    Found the data of interest:\n",
      "        t =    -500.00 ...    1500.00 ms\n",
      "        0 CTF compensation matrices available\n",
      "Not setting metadata\n",
      "329 matching events found\n",
      "No baseline correction applied\n",
      "0 projection items activated\n",
      "Not setting metadata\n",
      "697 matching events found\n",
      "Applying baseline correction (mode: mean)\n",
      "Reading /Users/jonasmago/PhD_code_data/github/eeg_jhana/notebooks/evoked responses/../../data/mne_raw_events_epochs_cleaned_noICA/sub0-day2-jhana_mmn-raw_phot-events.fif ...\n",
      "    Found the data of interest:\n",
      "        t =    -500.00 ...    1500.00 ms\n",
      "        0 CTF compensation matrices available\n",
      "Not setting metadata\n",
      "370 matching events found\n",
      "No baseline correction applied\n",
      "0 projection items activated\n"
     ]
    },
    {
     "name": "stderr",
     "output_type": "stream",
     "text": [
      "/var/folders/bq/hl737msd54q59fzf7spf0r7h0000gn/T/ipykernel_89976/3431259902.py:6: RuntimeWarning: This filename (../../data/mne_raw_events_epochs_cleaned_noICA/sub0-day3-jhana_mmn-raw_phot-events.fif) does not conform to MNE naming conventions. All epochs files should end with -epo.fif, -epo.fif.gz, _epo.fif or _epo.fif.gz\n",
      "  epochs_concatenated = mne.read_epochs(paths[0])\n",
      "/var/folders/bq/hl737msd54q59fzf7spf0r7h0000gn/T/ipykernel_89976/3431259902.py:10: RuntimeWarning: This filename (../../data/mne_raw_events_epochs_cleaned_noICA/sub0-day4-jhana_mmn-raw_phot-events.fif) does not conform to MNE naming conventions. All epochs files should end with -epo.fif, -epo.fif.gz, _epo.fif or _epo.fif.gz\n",
      "  epochs = mne.read_epochs(path)\n",
      "/var/folders/bq/hl737msd54q59fzf7spf0r7h0000gn/T/ipykernel_89976/3431259902.py:13: RuntimeWarning: Concatenation of Annotations within Epochs is not supported yet. All annotations will be dropped.\n",
      "  epochs_concatenated = mne.concatenate_epochs([epochs_concatenated, epochs])\n",
      "/var/folders/bq/hl737msd54q59fzf7spf0r7h0000gn/T/ipykernel_89976/3431259902.py:10: RuntimeWarning: This filename (../../data/mne_raw_events_epochs_cleaned_noICA/sub0-day2-jhana_mmn-raw_phot-events.fif) does not conform to MNE naming conventions. All epochs files should end with -epo.fif, -epo.fif.gz, _epo.fif or _epo.fif.gz\n",
      "  epochs = mne.read_epochs(path)\n",
      "/var/folders/bq/hl737msd54q59fzf7spf0r7h0000gn/T/ipykernel_89976/3431259902.py:13: RuntimeWarning: Concatenation of Annotations within Epochs is not supported yet. All annotations will be dropped.\n",
      "  epochs_concatenated = mne.concatenate_epochs([epochs_concatenated, epochs])\n"
     ]
    },
    {
     "name": "stdout",
     "output_type": "stream",
     "text": [
      "Not setting metadata\n",
      "1067 matching events found\n",
      "Applying baseline correction (mode: mean)\n",
      "Reading /Users/jonasmago/PhD_code_data/github/eeg_jhana/notebooks/evoked responses/../../data/mne_raw_events_epochs_cleaned_noICA/sub0-day1-jhana_mmn-raw_phot-events.fif ...\n",
      "    Found the data of interest:\n",
      "        t =    -500.00 ...    1500.00 ms\n",
      "        0 CTF compensation matrices available\n",
      "Not setting metadata\n",
      "347 matching events found\n",
      "No baseline correction applied\n",
      "0 projection items activated\n",
      "Not setting metadata\n",
      "1414 matching events found\n",
      "Applying baseline correction (mode: mean)\n"
     ]
    },
    {
     "name": "stderr",
     "output_type": "stream",
     "text": [
      "/var/folders/bq/hl737msd54q59fzf7spf0r7h0000gn/T/ipykernel_89976/3431259902.py:10: RuntimeWarning: This filename (../../data/mne_raw_events_epochs_cleaned_noICA/sub0-day1-jhana_mmn-raw_phot-events.fif) does not conform to MNE naming conventions. All epochs files should end with -epo.fif, -epo.fif.gz, _epo.fif or _epo.fif.gz\n",
      "  epochs = mne.read_epochs(path)\n",
      "/var/folders/bq/hl737msd54q59fzf7spf0r7h0000gn/T/ipykernel_89976/3431259902.py:13: RuntimeWarning: Concatenation of Annotations within Epochs is not supported yet. All annotations will be dropped.\n",
      "  epochs_concatenated = mne.concatenate_epochs([epochs_concatenated, epochs])\n"
     ]
    },
    {
     "name": "stdout",
     "output_type": "stream",
     "text": [
      "Reading /Users/jonasmago/PhD_code_data/github/eeg_jhana/notebooks/evoked responses/../../data/mne_raw_events_epochs_cleaned_noICA/sub1-day2-jhana_mmn-raw_phot-events.fif ...\n",
      "    Found the data of interest:\n",
      "        t =    -500.00 ...    1500.00 ms\n",
      "        0 CTF compensation matrices available\n",
      "Not setting metadata\n",
      "302 matching events found\n",
      "No baseline correction applied\n",
      "0 projection items activated\n",
      "Reading /Users/jonasmago/PhD_code_data/github/eeg_jhana/notebooks/evoked responses/../../data/mne_raw_events_epochs_cleaned_noICA/sub1-day3-jhana_mmn-raw_phot-events.fif ...\n",
      "    Found the data of interest:\n",
      "        t =    -500.00 ...    1500.00 ms\n",
      "        0 CTF compensation matrices available\n"
     ]
    },
    {
     "name": "stderr",
     "output_type": "stream",
     "text": [
      "/var/folders/bq/hl737msd54q59fzf7spf0r7h0000gn/T/ipykernel_89976/3431259902.py:6: RuntimeWarning: This filename (../../data/mne_raw_events_epochs_cleaned_noICA/sub1-day2-jhana_mmn-raw_phot-events.fif) does not conform to MNE naming conventions. All epochs files should end with -epo.fif, -epo.fif.gz, _epo.fif or _epo.fif.gz\n",
      "  epochs_concatenated = mne.read_epochs(paths[0])\n",
      "/var/folders/bq/hl737msd54q59fzf7spf0r7h0000gn/T/ipykernel_89976/3431259902.py:10: RuntimeWarning: This filename (../../data/mne_raw_events_epochs_cleaned_noICA/sub1-day3-jhana_mmn-raw_phot-events.fif) does not conform to MNE naming conventions. All epochs files should end with -epo.fif, -epo.fif.gz, _epo.fif or _epo.fif.gz\n",
      "  epochs = mne.read_epochs(path)\n"
     ]
    },
    {
     "name": "stdout",
     "output_type": "stream",
     "text": [
      "Not setting metadata\n",
      "370 matching events found\n",
      "No baseline correction applied\n",
      "0 projection items activated\n",
      "Not setting metadata\n",
      "672 matching events found\n",
      "Applying baseline correction (mode: mean)\n"
     ]
    },
    {
     "name": "stderr",
     "output_type": "stream",
     "text": [
      "/var/folders/bq/hl737msd54q59fzf7spf0r7h0000gn/T/ipykernel_89976/3431259902.py:13: RuntimeWarning: Concatenation of Annotations within Epochs is not supported yet. All annotations will be dropped.\n",
      "  epochs_concatenated = mne.concatenate_epochs([epochs_concatenated, epochs])\n"
     ]
    },
    {
     "name": "stdout",
     "output_type": "stream",
     "text": [
      "Reading /Users/jonasmago/PhD_code_data/github/eeg_jhana/notebooks/evoked responses/../../data/mne_raw_events_epochs_cleaned_noICA/sub1-day4-jhana_mmn-raw_phot-events.fif ...\n",
      "    Found the data of interest:\n",
      "        t =    -500.00 ...    1500.00 ms\n",
      "        0 CTF compensation matrices available\n",
      "Not setting metadata\n",
      "357 matching events found\n",
      "No baseline correction applied\n",
      "0 projection items activated\n",
      "Not setting metadata\n",
      "1029 matching events found\n",
      "Applying baseline correction (mode: mean)\n"
     ]
    },
    {
     "name": "stderr",
     "output_type": "stream",
     "text": [
      "/var/folders/bq/hl737msd54q59fzf7spf0r7h0000gn/T/ipykernel_89976/3431259902.py:10: RuntimeWarning: This filename (../../data/mne_raw_events_epochs_cleaned_noICA/sub1-day4-jhana_mmn-raw_phot-events.fif) does not conform to MNE naming conventions. All epochs files should end with -epo.fif, -epo.fif.gz, _epo.fif or _epo.fif.gz\n",
      "  epochs = mne.read_epochs(path)\n",
      "/var/folders/bq/hl737msd54q59fzf7spf0r7h0000gn/T/ipykernel_89976/3431259902.py:13: RuntimeWarning: Concatenation of Annotations within Epochs is not supported yet. All annotations will be dropped.\n",
      "  epochs_concatenated = mne.concatenate_epochs([epochs_concatenated, epochs])\n"
     ]
    },
    {
     "name": "stdout",
     "output_type": "stream",
     "text": [
      "Reading /Users/jonasmago/PhD_code_data/github/eeg_jhana/notebooks/evoked responses/../../data/mne_raw_events_epochs_cleaned_noICA/sub1-day1-jhana_mmn-raw_phot-events.fif ...\n",
      "    Found the data of interest:\n",
      "        t =    -500.00 ...    1500.00 ms\n",
      "        0 CTF compensation matrices available\n",
      "Not setting metadata\n",
      "368 matching events found\n",
      "No baseline correction applied\n",
      "0 projection items activated\n",
      "Not setting metadata\n",
      "1397 matching events found\n",
      "Applying baseline correction (mode: mean)\n"
     ]
    },
    {
     "name": "stderr",
     "output_type": "stream",
     "text": [
      "/var/folders/bq/hl737msd54q59fzf7spf0r7h0000gn/T/ipykernel_89976/3431259902.py:10: RuntimeWarning: This filename (../../data/mne_raw_events_epochs_cleaned_noICA/sub1-day1-jhana_mmn-raw_phot-events.fif) does not conform to MNE naming conventions. All epochs files should end with -epo.fif, -epo.fif.gz, _epo.fif or _epo.fif.gz\n",
      "  epochs = mne.read_epochs(path)\n",
      "/var/folders/bq/hl737msd54q59fzf7spf0r7h0000gn/T/ipykernel_89976/3431259902.py:13: RuntimeWarning: Concatenation of Annotations within Epochs is not supported yet. All annotations will be dropped.\n",
      "  epochs_concatenated = mne.concatenate_epochs([epochs_concatenated, epochs])\n"
     ]
    },
    {
     "name": "stdout",
     "output_type": "stream",
     "text": [
      "Reading /Users/jonasmago/PhD_code_data/github/eeg_jhana/notebooks/evoked responses/../../data/mne_raw_events_epochs_cleaned_noICA/sub2-day1-jhana_mmn-raw_phot-events.fif ...\n",
      "    Found the data of interest:\n",
      "        t =    -500.00 ...    1500.00 ms\n",
      "        0 CTF compensation matrices available\n",
      "Not setting metadata\n",
      "336 matching events found\n",
      "No baseline correction applied\n",
      "0 projection items activated\n",
      "Reading /Users/jonasmago/PhD_code_data/github/eeg_jhana/notebooks/evoked responses/../../data/mne_raw_events_epochs_cleaned_noICA/sub2-day3-jhana_mmn-raw_phot-events.fif ...\n",
      "    Found the data of interest:\n",
      "        t =    -500.00 ...    1500.00 ms\n",
      "        0 CTF compensation matrices available\n",
      "Not setting metadata\n",
      "318 matching events found\n",
      "No baseline correction applied\n",
      "0 projection items activated\n",
      "Not setting metadata\n",
      "654 matching events found\n",
      "Applying baseline correction (mode: mean)\n",
      "Reading /Users/jonasmago/PhD_code_data/github/eeg_jhana/notebooks/evoked responses/../../data/mne_raw_events_epochs_cleaned_noICA/sub2-day4-jhana_mmn-raw_phot-events.fif ...\n",
      "    Found the data of interest:\n",
      "        t =    -500.00 ...    1500.00 ms\n",
      "        0 CTF compensation matrices available\n",
      "Not setting metadata\n",
      "306 matching events found\n",
      "No baseline correction applied\n",
      "0 projection items activated\n"
     ]
    },
    {
     "name": "stderr",
     "output_type": "stream",
     "text": [
      "/var/folders/bq/hl737msd54q59fzf7spf0r7h0000gn/T/ipykernel_89976/3431259902.py:6: RuntimeWarning: This filename (../../data/mne_raw_events_epochs_cleaned_noICA/sub2-day1-jhana_mmn-raw_phot-events.fif) does not conform to MNE naming conventions. All epochs files should end with -epo.fif, -epo.fif.gz, _epo.fif or _epo.fif.gz\n",
      "  epochs_concatenated = mne.read_epochs(paths[0])\n",
      "/var/folders/bq/hl737msd54q59fzf7spf0r7h0000gn/T/ipykernel_89976/3431259902.py:10: RuntimeWarning: This filename (../../data/mne_raw_events_epochs_cleaned_noICA/sub2-day3-jhana_mmn-raw_phot-events.fif) does not conform to MNE naming conventions. All epochs files should end with -epo.fif, -epo.fif.gz, _epo.fif or _epo.fif.gz\n",
      "  epochs = mne.read_epochs(path)\n",
      "/var/folders/bq/hl737msd54q59fzf7spf0r7h0000gn/T/ipykernel_89976/3431259902.py:13: RuntimeWarning: Concatenation of Annotations within Epochs is not supported yet. All annotations will be dropped.\n",
      "  epochs_concatenated = mne.concatenate_epochs([epochs_concatenated, epochs])\n",
      "/var/folders/bq/hl737msd54q59fzf7spf0r7h0000gn/T/ipykernel_89976/3431259902.py:10: RuntimeWarning: This filename (../../data/mne_raw_events_epochs_cleaned_noICA/sub2-day4-jhana_mmn-raw_phot-events.fif) does not conform to MNE naming conventions. All epochs files should end with -epo.fif, -epo.fif.gz, _epo.fif or _epo.fif.gz\n",
      "  epochs = mne.read_epochs(path)\n",
      "/var/folders/bq/hl737msd54q59fzf7spf0r7h0000gn/T/ipykernel_89976/3431259902.py:13: RuntimeWarning: Concatenation of Annotations within Epochs is not supported yet. All annotations will be dropped.\n",
      "  epochs_concatenated = mne.concatenate_epochs([epochs_concatenated, epochs])\n"
     ]
    },
    {
     "name": "stdout",
     "output_type": "stream",
     "text": [
      "Not setting metadata\n",
      "960 matching events found\n",
      "Applying baseline correction (mode: mean)\n",
      "Reading /Users/jonasmago/PhD_code_data/github/eeg_jhana/notebooks/evoked responses/../../data/mne_raw_events_epochs_cleaned_noICA/sub2-day2-jhana_mmn-raw_phot-events.fif ...\n",
      "    Found the data of interest:\n",
      "        t =    -500.00 ...    1500.00 ms\n",
      "        0 CTF compensation matrices available\n",
      "Not setting metadata\n",
      "353 matching events found\n",
      "No baseline correction applied\n",
      "0 projection items activated\n",
      "Not setting metadata\n",
      "1313 matching events found\n",
      "Applying baseline correction (mode: mean)\n"
     ]
    },
    {
     "name": "stderr",
     "output_type": "stream",
     "text": [
      "/var/folders/bq/hl737msd54q59fzf7spf0r7h0000gn/T/ipykernel_89976/3431259902.py:10: RuntimeWarning: This filename (../../data/mne_raw_events_epochs_cleaned_noICA/sub2-day2-jhana_mmn-raw_phot-events.fif) does not conform to MNE naming conventions. All epochs files should end with -epo.fif, -epo.fif.gz, _epo.fif or _epo.fif.gz\n",
      "  epochs = mne.read_epochs(path)\n",
      "/var/folders/bq/hl737msd54q59fzf7spf0r7h0000gn/T/ipykernel_89976/3431259902.py:13: RuntimeWarning: Concatenation of Annotations within Epochs is not supported yet. All annotations will be dropped.\n",
      "  epochs_concatenated = mne.concatenate_epochs([epochs_concatenated, epochs])\n"
     ]
    },
    {
     "name": "stdout",
     "output_type": "stream",
     "text": [
      "Reading /Users/jonasmago/PhD_code_data/github/eeg_jhana/notebooks/evoked responses/../../data/mne_raw_events_epochs_cleaned_noICA/sub3-day1-jhana_mmn-raw_phot-events.fif ...\n",
      "    Found the data of interest:\n",
      "        t =    -500.00 ...    1500.00 ms\n",
      "        0 CTF compensation matrices available\n",
      "Not setting metadata\n",
      "345 matching events found\n",
      "No baseline correction applied\n",
      "0 projection items activated\n",
      "Reading /Users/jonasmago/PhD_code_data/github/eeg_jhana/notebooks/evoked responses/../../data/mne_raw_events_epochs_cleaned_noICA/sub3-day2-jhana_mmn-raw_phot-events.fif ...\n",
      "    Found the data of interest:\n",
      "        t =    -500.00 ...    1500.00 ms\n",
      "        0 CTF compensation matrices available\n",
      "Not setting metadata\n",
      "253 matching events found\n",
      "No baseline correction applied\n",
      "0 projection items activated\n",
      "Not setting metadata\n",
      "598 matching events found\n",
      "Applying baseline correction (mode: mean)\n",
      "Reading /Users/jonasmago/PhD_code_data/github/eeg_jhana/notebooks/evoked responses/../../data/mne_raw_events_epochs_cleaned_noICA/sub3-day3-jhana_mmn-raw_phot-events.fif ...\n",
      "    Found the data of interest:\n",
      "        t =    -500.00 ...    1500.00 ms\n",
      "        0 CTF compensation matrices available\n",
      "Not setting metadata\n",
      "364 matching events found\n",
      "No baseline correction applied\n",
      "0 projection items activated\n",
      "Not setting metadata\n",
      "962 matching events found\n",
      "Applying baseline correction (mode: mean)\n"
     ]
    },
    {
     "name": "stderr",
     "output_type": "stream",
     "text": [
      "/var/folders/bq/hl737msd54q59fzf7spf0r7h0000gn/T/ipykernel_89976/3431259902.py:6: RuntimeWarning: This filename (../../data/mne_raw_events_epochs_cleaned_noICA/sub3-day1-jhana_mmn-raw_phot-events.fif) does not conform to MNE naming conventions. All epochs files should end with -epo.fif, -epo.fif.gz, _epo.fif or _epo.fif.gz\n",
      "  epochs_concatenated = mne.read_epochs(paths[0])\n",
      "/var/folders/bq/hl737msd54q59fzf7spf0r7h0000gn/T/ipykernel_89976/3431259902.py:10: RuntimeWarning: This filename (../../data/mne_raw_events_epochs_cleaned_noICA/sub3-day2-jhana_mmn-raw_phot-events.fif) does not conform to MNE naming conventions. All epochs files should end with -epo.fif, -epo.fif.gz, _epo.fif or _epo.fif.gz\n",
      "  epochs = mne.read_epochs(path)\n",
      "/var/folders/bq/hl737msd54q59fzf7spf0r7h0000gn/T/ipykernel_89976/3431259902.py:13: RuntimeWarning: Concatenation of Annotations within Epochs is not supported yet. All annotations will be dropped.\n",
      "  epochs_concatenated = mne.concatenate_epochs([epochs_concatenated, epochs])\n",
      "/var/folders/bq/hl737msd54q59fzf7spf0r7h0000gn/T/ipykernel_89976/3431259902.py:10: RuntimeWarning: This filename (../../data/mne_raw_events_epochs_cleaned_noICA/sub3-day3-jhana_mmn-raw_phot-events.fif) does not conform to MNE naming conventions. All epochs files should end with -epo.fif, -epo.fif.gz, _epo.fif or _epo.fif.gz\n",
      "  epochs = mne.read_epochs(path)\n",
      "/var/folders/bq/hl737msd54q59fzf7spf0r7h0000gn/T/ipykernel_89976/3431259902.py:13: RuntimeWarning: Concatenation of Annotations within Epochs is not supported yet. All annotations will be dropped.\n",
      "  epochs_concatenated = mne.concatenate_epochs([epochs_concatenated, epochs])\n"
     ]
    },
    {
     "name": "stdout",
     "output_type": "stream",
     "text": [
      "Reading /Users/jonasmago/PhD_code_data/github/eeg_jhana/notebooks/evoked responses/../../data/mne_raw_events_epochs_cleaned_noICA/sub3-day4-jhana_mmn-raw_phot-events.fif ...\n",
      "    Found the data of interest:\n",
      "        t =    -500.00 ...    1500.00 ms\n",
      "        0 CTF compensation matrices available\n",
      "Not setting metadata\n",
      "351 matching events found\n",
      "No baseline correction applied\n",
      "0 projection items activated\n",
      "Reading /Users/jonasmago/PhD_code_data/github/eeg_jhana/notebooks/evoked responses/../../data/mne_raw_events_epochs_cleaned_noICA/sub4-day1-jhana_mmn-raw_phot-events.fif ...\n",
      "    Found the data of interest:\n",
      "        t =    -500.00 ...    1500.00 ms\n",
      "        0 CTF compensation matrices available\n",
      "Not setting metadata\n",
      "317 matching events found\n",
      "No baseline correction applied\n",
      "0 projection items activated\n",
      "Reading /Users/jonasmago/PhD_code_data/github/eeg_jhana/notebooks/evoked responses/../../data/mne_raw_events_epochs_cleaned_noICA/sub4-day4-jhana_mmn-raw_phot-events.fif ...\n",
      "    Found the data of interest:\n",
      "        t =    -500.00 ...    1500.00 ms\n",
      "        0 CTF compensation matrices available\n",
      "Not setting metadata\n",
      "258 matching events found\n",
      "No baseline correction applied\n",
      "0 projection items activated\n",
      "Not setting metadata\n",
      "575 matching events found\n",
      "Applying baseline correction (mode: mean)\n"
     ]
    },
    {
     "name": "stderr",
     "output_type": "stream",
     "text": [
      "/var/folders/bq/hl737msd54q59fzf7spf0r7h0000gn/T/ipykernel_89976/3431259902.py:10: RuntimeWarning: This filename (../../data/mne_raw_events_epochs_cleaned_noICA/sub3-day4-jhana_mmn-raw_phot-events.fif) does not conform to MNE naming conventions. All epochs files should end with -epo.fif, -epo.fif.gz, _epo.fif or _epo.fif.gz\n",
      "  epochs = mne.read_epochs(path)\n",
      "/var/folders/bq/hl737msd54q59fzf7spf0r7h0000gn/T/ipykernel_89976/3431259902.py:13: RuntimeWarning: Concatenation of Annotations within Epochs is not supported yet. All annotations will be dropped.\n",
      "  epochs_concatenated = mne.concatenate_epochs([epochs_concatenated, epochs])\n",
      "/var/folders/bq/hl737msd54q59fzf7spf0r7h0000gn/T/ipykernel_89976/3431259902.py:6: RuntimeWarning: This filename (../../data/mne_raw_events_epochs_cleaned_noICA/sub4-day1-jhana_mmn-raw_phot-events.fif) does not conform to MNE naming conventions. All epochs files should end with -epo.fif, -epo.fif.gz, _epo.fif or _epo.fif.gz\n",
      "  epochs_concatenated = mne.read_epochs(paths[0])\n",
      "/var/folders/bq/hl737msd54q59fzf7spf0r7h0000gn/T/ipykernel_89976/3431259902.py:10: RuntimeWarning: This filename (../../data/mne_raw_events_epochs_cleaned_noICA/sub4-day4-jhana_mmn-raw_phot-events.fif) does not conform to MNE naming conventions. All epochs files should end with -epo.fif, -epo.fif.gz, _epo.fif or _epo.fif.gz\n",
      "  epochs = mne.read_epochs(path)\n",
      "/var/folders/bq/hl737msd54q59fzf7spf0r7h0000gn/T/ipykernel_89976/3431259902.py:13: RuntimeWarning: Concatenation of Annotations within Epochs is not supported yet. All annotations will be dropped.\n",
      "  epochs_concatenated = mne.concatenate_epochs([epochs_concatenated, epochs])\n"
     ]
    },
    {
     "name": "stdout",
     "output_type": "stream",
     "text": [
      "Reading /Users/jonasmago/PhD_code_data/github/eeg_jhana/notebooks/evoked responses/../../data/mne_raw_events_epochs_cleaned_noICA/sub4-day3-jhana_mmn-raw_phot-events.fif ...\n",
      "    Found the data of interest:\n",
      "        t =    -500.00 ...    1500.00 ms\n",
      "        0 CTF compensation matrices available\n",
      "Not setting metadata\n",
      "327 matching events found\n",
      "No baseline correction applied\n",
      "0 projection items activated\n",
      "Not setting metadata\n",
      "902 matching events found\n",
      "Applying baseline correction (mode: mean)\n",
      "Reading /Users/jonasmago/PhD_code_data/github/eeg_jhana/notebooks/evoked responses/../../data/mne_raw_events_epochs_cleaned_noICA/sub4-day2-jhana_mmn-raw_phot-events.fif ...\n",
      "    Found the data of interest:\n",
      "        t =    -500.00 ...    1500.00 ms\n",
      "        0 CTF compensation matrices available\n",
      "Not setting metadata\n",
      "265 matching events found\n",
      "No baseline correction applied\n",
      "0 projection items activated\n",
      "Not setting metadata\n",
      "1167 matching events found\n",
      "Applying baseline correction (mode: mean)\n"
     ]
    },
    {
     "name": "stderr",
     "output_type": "stream",
     "text": [
      "/var/folders/bq/hl737msd54q59fzf7spf0r7h0000gn/T/ipykernel_89976/3431259902.py:10: RuntimeWarning: This filename (../../data/mne_raw_events_epochs_cleaned_noICA/sub4-day3-jhana_mmn-raw_phot-events.fif) does not conform to MNE naming conventions. All epochs files should end with -epo.fif, -epo.fif.gz, _epo.fif or _epo.fif.gz\n",
      "  epochs = mne.read_epochs(path)\n",
      "/var/folders/bq/hl737msd54q59fzf7spf0r7h0000gn/T/ipykernel_89976/3431259902.py:13: RuntimeWarning: Concatenation of Annotations within Epochs is not supported yet. All annotations will be dropped.\n",
      "  epochs_concatenated = mne.concatenate_epochs([epochs_concatenated, epochs])\n",
      "/var/folders/bq/hl737msd54q59fzf7spf0r7h0000gn/T/ipykernel_89976/3431259902.py:10: RuntimeWarning: This filename (../../data/mne_raw_events_epochs_cleaned_noICA/sub4-day2-jhana_mmn-raw_phot-events.fif) does not conform to MNE naming conventions. All epochs files should end with -epo.fif, -epo.fif.gz, _epo.fif or _epo.fif.gz\n",
      "  epochs = mne.read_epochs(path)\n",
      "/var/folders/bq/hl737msd54q59fzf7spf0r7h0000gn/T/ipykernel_89976/3431259902.py:13: RuntimeWarning: Concatenation of Annotations within Epochs is not supported yet. All annotations will be dropped.\n",
      "  epochs_concatenated = mne.concatenate_epochs([epochs_concatenated, epochs])\n"
     ]
    },
    {
     "name": "stdout",
     "output_type": "stream",
     "text": [
      "Reading /Users/jonasmago/PhD_code_data/github/eeg_jhana/notebooks/evoked responses/../../data/mne_raw_events_epochs_cleaned_noICA/sub5-day1-jhana_mmn-raw_phot-events.fif ...\n",
      "    Found the data of interest:\n",
      "        t =    -500.00 ...    1500.00 ms\n",
      "        0 CTF compensation matrices available\n",
      "Not setting metadata\n",
      "345 matching events found\n",
      "No baseline correction applied\n",
      "0 projection items activated\n",
      "Reading /Users/jonasmago/PhD_code_data/github/eeg_jhana/notebooks/evoked responses/../../data/mne_raw_events_epochs_cleaned_noICA/sub5-day2-jhana_mmn-raw_phot-events.fif ...\n",
      "    Found the data of interest:\n",
      "        t =    -500.00 ...    1500.00 ms\n",
      "        0 CTF compensation matrices available\n",
      "Not setting metadata\n",
      "291 matching events found\n",
      "No baseline correction applied\n",
      "0 projection items activated\n",
      "Not setting metadata\n",
      "636 matching events found\n",
      "Applying baseline correction (mode: mean)\n",
      "Reading /Users/jonasmago/PhD_code_data/github/eeg_jhana/notebooks/evoked responses/../../data/mne_raw_events_epochs_cleaned_noICA/sub5-day4-jhana_mmn-raw_phot-events.fif ...\n",
      "    Found the data of interest:\n",
      "        t =    -500.00 ...    1500.00 ms\n",
      "        0 CTF compensation matrices available\n",
      "Not setting metadata\n",
      "352 matching events found\n",
      "No baseline correction applied\n",
      "0 projection items activated\n",
      "Not setting metadata\n",
      "988 matching events found\n",
      "Applying baseline correction (mode: mean)\n"
     ]
    },
    {
     "name": "stderr",
     "output_type": "stream",
     "text": [
      "/var/folders/bq/hl737msd54q59fzf7spf0r7h0000gn/T/ipykernel_89976/3431259902.py:6: RuntimeWarning: This filename (../../data/mne_raw_events_epochs_cleaned_noICA/sub5-day1-jhana_mmn-raw_phot-events.fif) does not conform to MNE naming conventions. All epochs files should end with -epo.fif, -epo.fif.gz, _epo.fif or _epo.fif.gz\n",
      "  epochs_concatenated = mne.read_epochs(paths[0])\n",
      "/var/folders/bq/hl737msd54q59fzf7spf0r7h0000gn/T/ipykernel_89976/3431259902.py:10: RuntimeWarning: This filename (../../data/mne_raw_events_epochs_cleaned_noICA/sub5-day2-jhana_mmn-raw_phot-events.fif) does not conform to MNE naming conventions. All epochs files should end with -epo.fif, -epo.fif.gz, _epo.fif or _epo.fif.gz\n",
      "  epochs = mne.read_epochs(path)\n",
      "/var/folders/bq/hl737msd54q59fzf7spf0r7h0000gn/T/ipykernel_89976/3431259902.py:13: RuntimeWarning: Concatenation of Annotations within Epochs is not supported yet. All annotations will be dropped.\n",
      "  epochs_concatenated = mne.concatenate_epochs([epochs_concatenated, epochs])\n",
      "/var/folders/bq/hl737msd54q59fzf7spf0r7h0000gn/T/ipykernel_89976/3431259902.py:10: RuntimeWarning: This filename (../../data/mne_raw_events_epochs_cleaned_noICA/sub5-day4-jhana_mmn-raw_phot-events.fif) does not conform to MNE naming conventions. All epochs files should end with -epo.fif, -epo.fif.gz, _epo.fif or _epo.fif.gz\n",
      "  epochs = mne.read_epochs(path)\n",
      "/var/folders/bq/hl737msd54q59fzf7spf0r7h0000gn/T/ipykernel_89976/3431259902.py:13: RuntimeWarning: Concatenation of Annotations within Epochs is not supported yet. All annotations will be dropped.\n",
      "  epochs_concatenated = mne.concatenate_epochs([epochs_concatenated, epochs])\n"
     ]
    },
    {
     "name": "stdout",
     "output_type": "stream",
     "text": [
      "Reading /Users/jonasmago/PhD_code_data/github/eeg_jhana/notebooks/evoked responses/../../data/mne_raw_events_epochs_cleaned_noICA/sub5-day3-jhana_mmn-raw_phot-events.fif ...\n",
      "    Found the data of interest:\n",
      "        t =    -500.00 ...    1500.00 ms\n",
      "        0 CTF compensation matrices available\n",
      "Not setting metadata\n",
      "289 matching events found\n",
      "No baseline correction applied\n",
      "0 projection items activated\n",
      "Not setting metadata\n",
      "1277 matching events found\n",
      "Applying baseline correction (mode: mean)\n"
     ]
    },
    {
     "name": "stderr",
     "output_type": "stream",
     "text": [
      "/var/folders/bq/hl737msd54q59fzf7spf0r7h0000gn/T/ipykernel_89976/3431259902.py:10: RuntimeWarning: This filename (../../data/mne_raw_events_epochs_cleaned_noICA/sub5-day3-jhana_mmn-raw_phot-events.fif) does not conform to MNE naming conventions. All epochs files should end with -epo.fif, -epo.fif.gz, _epo.fif or _epo.fif.gz\n",
      "  epochs = mne.read_epochs(path)\n",
      "/var/folders/bq/hl737msd54q59fzf7spf0r7h0000gn/T/ipykernel_89976/3431259902.py:13: RuntimeWarning: Concatenation of Annotations within Epochs is not supported yet. All annotations will be dropped.\n",
      "  epochs_concatenated = mne.concatenate_epochs([epochs_concatenated, epochs])\n"
     ]
    },
    {
     "name": "stdout",
     "output_type": "stream",
     "text": [
      "Reading /Users/jonasmago/PhD_code_data/github/eeg_jhana/notebooks/evoked responses/../../data/mne_raw_events_epochs_cleaned_noICA/sub6-day4-jhana_mmn-raw_phot-events.fif ...\n",
      "    Found the data of interest:\n",
      "        t =    -500.00 ...    1500.00 ms\n",
      "        0 CTF compensation matrices available\n",
      "Not setting metadata\n",
      "327 matching events found\n",
      "No baseline correction applied\n",
      "0 projection items activated\n",
      "Reading /Users/jonasmago/PhD_code_data/github/eeg_jhana/notebooks/evoked responses/../../data/mne_raw_events_epochs_cleaned_noICA/sub6-day3-jhana_mmn-raw_phot-events.fif ...\n",
      "    Found the data of interest:\n",
      "        t =    -500.00 ...    1500.00 ms\n",
      "        0 CTF compensation matrices available\n",
      "Not setting metadata\n",
      "334 matching events found\n",
      "No baseline correction applied\n",
      "0 projection items activated\n",
      "Not setting metadata\n",
      "661 matching events found\n",
      "Applying baseline correction (mode: mean)\n",
      "Reading /Users/jonasmago/PhD_code_data/github/eeg_jhana/notebooks/evoked responses/../../data/mne_raw_events_epochs_cleaned_noICA/sub6-day2-jhana_mmn-raw_phot-events.fif ...\n",
      "    Found the data of interest:\n",
      "        t =    -500.00 ...    1500.00 ms\n",
      "        0 CTF compensation matrices available\n",
      "Not setting metadata\n",
      "359 matching events found\n",
      "No baseline correction applied\n",
      "0 projection items activated\n",
      "Not setting metadata\n",
      "1020 matching events found\n",
      "Applying baseline correction (mode: mean)\n"
     ]
    },
    {
     "name": "stderr",
     "output_type": "stream",
     "text": [
      "/var/folders/bq/hl737msd54q59fzf7spf0r7h0000gn/T/ipykernel_89976/3431259902.py:6: RuntimeWarning: This filename (../../data/mne_raw_events_epochs_cleaned_noICA/sub6-day4-jhana_mmn-raw_phot-events.fif) does not conform to MNE naming conventions. All epochs files should end with -epo.fif, -epo.fif.gz, _epo.fif or _epo.fif.gz\n",
      "  epochs_concatenated = mne.read_epochs(paths[0])\n",
      "/var/folders/bq/hl737msd54q59fzf7spf0r7h0000gn/T/ipykernel_89976/3431259902.py:10: RuntimeWarning: This filename (../../data/mne_raw_events_epochs_cleaned_noICA/sub6-day3-jhana_mmn-raw_phot-events.fif) does not conform to MNE naming conventions. All epochs files should end with -epo.fif, -epo.fif.gz, _epo.fif or _epo.fif.gz\n",
      "  epochs = mne.read_epochs(path)\n",
      "/var/folders/bq/hl737msd54q59fzf7spf0r7h0000gn/T/ipykernel_89976/3431259902.py:13: RuntimeWarning: Concatenation of Annotations within Epochs is not supported yet. All annotations will be dropped.\n",
      "  epochs_concatenated = mne.concatenate_epochs([epochs_concatenated, epochs])\n",
      "/var/folders/bq/hl737msd54q59fzf7spf0r7h0000gn/T/ipykernel_89976/3431259902.py:10: RuntimeWarning: This filename (../../data/mne_raw_events_epochs_cleaned_noICA/sub6-day2-jhana_mmn-raw_phot-events.fif) does not conform to MNE naming conventions. All epochs files should end with -epo.fif, -epo.fif.gz, _epo.fif or _epo.fif.gz\n",
      "  epochs = mne.read_epochs(path)\n",
      "/var/folders/bq/hl737msd54q59fzf7spf0r7h0000gn/T/ipykernel_89976/3431259902.py:13: RuntimeWarning: Concatenation of Annotations within Epochs is not supported yet. All annotations will be dropped.\n",
      "  epochs_concatenated = mne.concatenate_epochs([epochs_concatenated, epochs])\n"
     ]
    },
    {
     "name": "stdout",
     "output_type": "stream",
     "text": [
      "Reading /Users/jonasmago/PhD_code_data/github/eeg_jhana/notebooks/evoked responses/../../data/mne_raw_events_epochs_cleaned_noICA/sub6-day1-jhana_mmn-raw_phot-events.fif ...\n",
      "    Found the data of interest:\n",
      "        t =    -500.00 ...    1500.00 ms\n",
      "        0 CTF compensation matrices available\n",
      "Not setting metadata\n",
      "370 matching events found\n",
      "No baseline correction applied\n",
      "0 projection items activated\n",
      "Not setting metadata\n",
      "1390 matching events found\n",
      "Applying baseline correction (mode: mean)\n"
     ]
    },
    {
     "name": "stderr",
     "output_type": "stream",
     "text": [
      "/var/folders/bq/hl737msd54q59fzf7spf0r7h0000gn/T/ipykernel_89976/3431259902.py:10: RuntimeWarning: This filename (../../data/mne_raw_events_epochs_cleaned_noICA/sub6-day1-jhana_mmn-raw_phot-events.fif) does not conform to MNE naming conventions. All epochs files should end with -epo.fif, -epo.fif.gz, _epo.fif or _epo.fif.gz\n",
      "  epochs = mne.read_epochs(path)\n",
      "/var/folders/bq/hl737msd54q59fzf7spf0r7h0000gn/T/ipykernel_89976/3431259902.py:13: RuntimeWarning: Concatenation of Annotations within Epochs is not supported yet. All annotations will be dropped.\n",
      "  epochs_concatenated = mne.concatenate_epochs([epochs_concatenated, epochs])\n"
     ]
    },
    {
     "name": "stdout",
     "output_type": "stream",
     "text": [
      "Reading /Users/jonasmago/PhD_code_data/github/eeg_jhana/notebooks/evoked responses/../../data/mne_raw_events_epochs_cleaned_noICA/sub7-day2-jhana_mmn-raw_phot-events.fif ...\n",
      "    Found the data of interest:\n",
      "        t =    -500.00 ...    1500.00 ms\n",
      "        0 CTF compensation matrices available\n",
      "Not setting metadata\n",
      "358 matching events found\n",
      "No baseline correction applied\n",
      "0 projection items activated\n",
      "Reading /Users/jonasmago/PhD_code_data/github/eeg_jhana/notebooks/evoked responses/../../data/mne_raw_events_epochs_cleaned_noICA/sub7-day4-jhana_mmn-raw_phot-events.fif ...\n",
      "    Found the data of interest:\n",
      "        t =    -500.00 ...    1500.00 ms\n",
      "        0 CTF compensation matrices available\n",
      "Not setting metadata\n",
      "358 matching events found\n",
      "No baseline correction applied\n",
      "0 projection items activated\n",
      "Not setting metadata\n",
      "716 matching events found\n",
      "Applying baseline correction (mode: mean)\n",
      "Reading /Users/jonasmago/PhD_code_data/github/eeg_jhana/notebooks/evoked responses/../../data/mne_raw_events_epochs_cleaned_noICA/sub7-day3-jhana_mmn-raw_phot-events.fif ...\n",
      "    Found the data of interest:\n",
      "        t =    -500.00 ...    1500.00 ms\n",
      "        0 CTF compensation matrices available\n",
      "Not setting metadata\n",
      "368 matching events found\n",
      "No baseline correction applied\n",
      "0 projection items activated\n",
      "Not setting metadata\n",
      "1084 matching events found\n",
      "Applying baseline correction (mode: mean)\n"
     ]
    },
    {
     "name": "stderr",
     "output_type": "stream",
     "text": [
      "/var/folders/bq/hl737msd54q59fzf7spf0r7h0000gn/T/ipykernel_89976/3431259902.py:6: RuntimeWarning: This filename (../../data/mne_raw_events_epochs_cleaned_noICA/sub7-day2-jhana_mmn-raw_phot-events.fif) does not conform to MNE naming conventions. All epochs files should end with -epo.fif, -epo.fif.gz, _epo.fif or _epo.fif.gz\n",
      "  epochs_concatenated = mne.read_epochs(paths[0])\n",
      "/var/folders/bq/hl737msd54q59fzf7spf0r7h0000gn/T/ipykernel_89976/3431259902.py:10: RuntimeWarning: This filename (../../data/mne_raw_events_epochs_cleaned_noICA/sub7-day4-jhana_mmn-raw_phot-events.fif) does not conform to MNE naming conventions. All epochs files should end with -epo.fif, -epo.fif.gz, _epo.fif or _epo.fif.gz\n",
      "  epochs = mne.read_epochs(path)\n",
      "/var/folders/bq/hl737msd54q59fzf7spf0r7h0000gn/T/ipykernel_89976/3431259902.py:13: RuntimeWarning: Concatenation of Annotations within Epochs is not supported yet. All annotations will be dropped.\n",
      "  epochs_concatenated = mne.concatenate_epochs([epochs_concatenated, epochs])\n",
      "/var/folders/bq/hl737msd54q59fzf7spf0r7h0000gn/T/ipykernel_89976/3431259902.py:10: RuntimeWarning: This filename (../../data/mne_raw_events_epochs_cleaned_noICA/sub7-day3-jhana_mmn-raw_phot-events.fif) does not conform to MNE naming conventions. All epochs files should end with -epo.fif, -epo.fif.gz, _epo.fif or _epo.fif.gz\n",
      "  epochs = mne.read_epochs(path)\n",
      "/var/folders/bq/hl737msd54q59fzf7spf0r7h0000gn/T/ipykernel_89976/3431259902.py:13: RuntimeWarning: Concatenation of Annotations within Epochs is not supported yet. All annotations will be dropped.\n",
      "  epochs_concatenated = mne.concatenate_epochs([epochs_concatenated, epochs])\n"
     ]
    },
    {
     "name": "stdout",
     "output_type": "stream",
     "text": [
      "Reading /Users/jonasmago/PhD_code_data/github/eeg_jhana/notebooks/evoked responses/../../data/mne_raw_events_epochs_cleaned_noICA/sub7-day1-jhana_mmn-raw_phot-events.fif ...\n",
      "    Found the data of interest:\n",
      "        t =    -500.00 ...    1500.00 ms\n",
      "        0 CTF compensation matrices available\n",
      "Not setting metadata\n",
      "357 matching events found\n",
      "No baseline correction applied\n",
      "0 projection items activated\n",
      "Not setting metadata\n",
      "1441 matching events found\n",
      "Applying baseline correction (mode: mean)\n"
     ]
    },
    {
     "name": "stderr",
     "output_type": "stream",
     "text": [
      "/var/folders/bq/hl737msd54q59fzf7spf0r7h0000gn/T/ipykernel_89976/3431259902.py:10: RuntimeWarning: This filename (../../data/mne_raw_events_epochs_cleaned_noICA/sub7-day1-jhana_mmn-raw_phot-events.fif) does not conform to MNE naming conventions. All epochs files should end with -epo.fif, -epo.fif.gz, _epo.fif or _epo.fif.gz\n",
      "  epochs = mne.read_epochs(path)\n",
      "/var/folders/bq/hl737msd54q59fzf7spf0r7h0000gn/T/ipykernel_89976/3431259902.py:13: RuntimeWarning: Concatenation of Annotations within Epochs is not supported yet. All annotations will be dropped.\n",
      "  epochs_concatenated = mne.concatenate_epochs([epochs_concatenated, epochs])\n"
     ]
    },
    {
     "name": "stdout",
     "output_type": "stream",
     "text": [
      "Reading /Users/jonasmago/PhD_code_data/github/eeg_jhana/notebooks/evoked responses/../../data/mne_raw_events_epochs_cleaned_noICA/sub8-day1-jhana_mmn-raw_phot-events.fif ...\n",
      "    Found the data of interest:\n",
      "        t =    -500.00 ...    1500.00 ms\n",
      "        0 CTF compensation matrices available\n",
      "Not setting metadata\n",
      "351 matching events found\n",
      "No baseline correction applied\n",
      "0 projection items activated\n",
      "Reading /Users/jonasmago/PhD_code_data/github/eeg_jhana/notebooks/evoked responses/../../data/mne_raw_events_epochs_cleaned_noICA/sub8-day2-jhana_mmn-raw_phot-events.fif ...\n",
      "    Found the data of interest:\n",
      "        t =    -500.00 ...    1500.00 ms\n",
      "        0 CTF compensation matrices available\n",
      "Not setting metadata\n",
      "269 matching events found\n",
      "No baseline correction applied\n",
      "0 projection items activated\n",
      "Not setting metadata\n",
      "620 matching events found\n",
      "Applying baseline correction (mode: mean)\n",
      "Reading /Users/jonasmago/PhD_code_data/github/eeg_jhana/notebooks/evoked responses/../../data/mne_raw_events_epochs_cleaned_noICA/sub8-day3-jhana_mmn-raw_phot-events.fif ...\n",
      "    Found the data of interest:\n",
      "        t =    -500.00 ...    1500.00 ms\n",
      "        0 CTF compensation matrices available\n",
      "Not setting metadata\n",
      "358 matching events found\n",
      "No baseline correction applied\n",
      "0 projection items activated\n",
      "Not setting metadata\n",
      "978 matching events found\n",
      "Applying baseline correction (mode: mean)\n"
     ]
    },
    {
     "name": "stderr",
     "output_type": "stream",
     "text": [
      "/var/folders/bq/hl737msd54q59fzf7spf0r7h0000gn/T/ipykernel_89976/3431259902.py:6: RuntimeWarning: This filename (../../data/mne_raw_events_epochs_cleaned_noICA/sub8-day1-jhana_mmn-raw_phot-events.fif) does not conform to MNE naming conventions. All epochs files should end with -epo.fif, -epo.fif.gz, _epo.fif or _epo.fif.gz\n",
      "  epochs_concatenated = mne.read_epochs(paths[0])\n",
      "/var/folders/bq/hl737msd54q59fzf7spf0r7h0000gn/T/ipykernel_89976/3431259902.py:10: RuntimeWarning: This filename (../../data/mne_raw_events_epochs_cleaned_noICA/sub8-day2-jhana_mmn-raw_phot-events.fif) does not conform to MNE naming conventions. All epochs files should end with -epo.fif, -epo.fif.gz, _epo.fif or _epo.fif.gz\n",
      "  epochs = mne.read_epochs(path)\n",
      "/var/folders/bq/hl737msd54q59fzf7spf0r7h0000gn/T/ipykernel_89976/3431259902.py:13: RuntimeWarning: Concatenation of Annotations within Epochs is not supported yet. All annotations will be dropped.\n",
      "  epochs_concatenated = mne.concatenate_epochs([epochs_concatenated, epochs])\n",
      "/var/folders/bq/hl737msd54q59fzf7spf0r7h0000gn/T/ipykernel_89976/3431259902.py:10: RuntimeWarning: This filename (../../data/mne_raw_events_epochs_cleaned_noICA/sub8-day3-jhana_mmn-raw_phot-events.fif) does not conform to MNE naming conventions. All epochs files should end with -epo.fif, -epo.fif.gz, _epo.fif or _epo.fif.gz\n",
      "  epochs = mne.read_epochs(path)\n",
      "/var/folders/bq/hl737msd54q59fzf7spf0r7h0000gn/T/ipykernel_89976/3431259902.py:13: RuntimeWarning: Concatenation of Annotations within Epochs is not supported yet. All annotations will be dropped.\n",
      "  epochs_concatenated = mne.concatenate_epochs([epochs_concatenated, epochs])\n"
     ]
    },
    {
     "name": "stdout",
     "output_type": "stream",
     "text": [
      "Reading /Users/jonasmago/PhD_code_data/github/eeg_jhana/notebooks/evoked responses/../../data/mne_raw_events_epochs_cleaned_noICA/sub8-day4-jhana_mmn-raw_phot-events.fif ...\n",
      "    Found the data of interest:\n",
      "        t =    -500.00 ...    1500.00 ms\n",
      "        0 CTF compensation matrices available\n",
      "Not setting metadata\n",
      "300 matching events found\n",
      "No baseline correction applied\n",
      "0 projection items activated\n",
      "Not setting metadata\n",
      "1278 matching events found\n",
      "Applying baseline correction (mode: mean)\n"
     ]
    },
    {
     "name": "stderr",
     "output_type": "stream",
     "text": [
      "/var/folders/bq/hl737msd54q59fzf7spf0r7h0000gn/T/ipykernel_89976/3431259902.py:10: RuntimeWarning: This filename (../../data/mne_raw_events_epochs_cleaned_noICA/sub8-day4-jhana_mmn-raw_phot-events.fif) does not conform to MNE naming conventions. All epochs files should end with -epo.fif, -epo.fif.gz, _epo.fif or _epo.fif.gz\n",
      "  epochs = mne.read_epochs(path)\n",
      "/var/folders/bq/hl737msd54q59fzf7spf0r7h0000gn/T/ipykernel_89976/3431259902.py:13: RuntimeWarning: Concatenation of Annotations within Epochs is not supported yet. All annotations will be dropped.\n",
      "  epochs_concatenated = mne.concatenate_epochs([epochs_concatenated, epochs])\n"
     ]
    },
    {
     "name": "stdout",
     "output_type": "stream",
     "text": [
      "Reading /Users/jonasmago/PhD_code_data/github/eeg_jhana/notebooks/evoked responses/../../data/mne_raw_events_epochs_cleaned_noICA/sub9-day1-jhana_mmn-raw_phot-events.fif ...\n",
      "    Found the data of interest:\n",
      "        t =    -500.00 ...    1500.00 ms\n",
      "        0 CTF compensation matrices available\n",
      "Not setting metadata\n",
      "351 matching events found\n",
      "No baseline correction applied\n",
      "0 projection items activated\n",
      "Reading /Users/jonasmago/PhD_code_data/github/eeg_jhana/notebooks/evoked responses/../../data/mne_raw_events_epochs_cleaned_noICA/sub9-day3-jhana_mmn-raw_phot-events.fif ...\n",
      "    Found the data of interest:\n",
      "        t =    -500.00 ...    1500.00 ms\n",
      "        0 CTF compensation matrices available\n",
      "Not setting metadata\n",
      "370 matching events found\n",
      "No baseline correction applied\n",
      "0 projection items activated\n",
      "Not setting metadata\n",
      "721 matching events found\n",
      "Applying baseline correction (mode: mean)\n",
      "Reading /Users/jonasmago/PhD_code_data/github/eeg_jhana/notebooks/evoked responses/../../data/mne_raw_events_epochs_cleaned_noICA/sub9-day4-jhana_mmn-raw_phot-events.fif ...\n",
      "    Found the data of interest:\n",
      "        t =    -500.00 ...    1500.00 ms\n",
      "        0 CTF compensation matrices available\n",
      "Not setting metadata\n",
      "322 matching events found\n",
      "No baseline correction applied\n",
      "0 projection items activated\n",
      "Not setting metadata\n",
      "1043 matching events found\n",
      "Applying baseline correction (mode: mean)\n"
     ]
    },
    {
     "name": "stderr",
     "output_type": "stream",
     "text": [
      "/var/folders/bq/hl737msd54q59fzf7spf0r7h0000gn/T/ipykernel_89976/3431259902.py:6: RuntimeWarning: This filename (../../data/mne_raw_events_epochs_cleaned_noICA/sub9-day1-jhana_mmn-raw_phot-events.fif) does not conform to MNE naming conventions. All epochs files should end with -epo.fif, -epo.fif.gz, _epo.fif or _epo.fif.gz\n",
      "  epochs_concatenated = mne.read_epochs(paths[0])\n",
      "/var/folders/bq/hl737msd54q59fzf7spf0r7h0000gn/T/ipykernel_89976/3431259902.py:10: RuntimeWarning: This filename (../../data/mne_raw_events_epochs_cleaned_noICA/sub9-day3-jhana_mmn-raw_phot-events.fif) does not conform to MNE naming conventions. All epochs files should end with -epo.fif, -epo.fif.gz, _epo.fif or _epo.fif.gz\n",
      "  epochs = mne.read_epochs(path)\n",
      "/var/folders/bq/hl737msd54q59fzf7spf0r7h0000gn/T/ipykernel_89976/3431259902.py:13: RuntimeWarning: Concatenation of Annotations within Epochs is not supported yet. All annotations will be dropped.\n",
      "  epochs_concatenated = mne.concatenate_epochs([epochs_concatenated, epochs])\n",
      "/var/folders/bq/hl737msd54q59fzf7spf0r7h0000gn/T/ipykernel_89976/3431259902.py:10: RuntimeWarning: This filename (../../data/mne_raw_events_epochs_cleaned_noICA/sub9-day4-jhana_mmn-raw_phot-events.fif) does not conform to MNE naming conventions. All epochs files should end with -epo.fif, -epo.fif.gz, _epo.fif or _epo.fif.gz\n",
      "  epochs = mne.read_epochs(path)\n",
      "/var/folders/bq/hl737msd54q59fzf7spf0r7h0000gn/T/ipykernel_89976/3431259902.py:13: RuntimeWarning: Concatenation of Annotations within Epochs is not supported yet. All annotations will be dropped.\n",
      "  epochs_concatenated = mne.concatenate_epochs([epochs_concatenated, epochs])\n"
     ]
    },
    {
     "name": "stdout",
     "output_type": "stream",
     "text": [
      "Reading /Users/jonasmago/PhD_code_data/github/eeg_jhana/notebooks/evoked responses/../../data/mne_raw_events_epochs_cleaned_noICA/sub9-day2-jhana_mmn-raw_phot-events.fif ...\n",
      "    Found the data of interest:\n",
      "        t =    -500.00 ...    1500.00 ms\n",
      "        0 CTF compensation matrices available\n",
      "Not setting metadata\n",
      "366 matching events found\n",
      "No baseline correction applied\n",
      "0 projection items activated\n",
      "Not setting metadata\n",
      "1409 matching events found\n",
      "Applying baseline correction (mode: mean)\n"
     ]
    },
    {
     "name": "stderr",
     "output_type": "stream",
     "text": [
      "/var/folders/bq/hl737msd54q59fzf7spf0r7h0000gn/T/ipykernel_89976/3431259902.py:10: RuntimeWarning: This filename (../../data/mne_raw_events_epochs_cleaned_noICA/sub9-day2-jhana_mmn-raw_phot-events.fif) does not conform to MNE naming conventions. All epochs files should end with -epo.fif, -epo.fif.gz, _epo.fif or _epo.fif.gz\n",
      "  epochs = mne.read_epochs(path)\n",
      "/var/folders/bq/hl737msd54q59fzf7spf0r7h0000gn/T/ipykernel_89976/3431259902.py:13: RuntimeWarning: Concatenation of Annotations within Epochs is not supported yet. All annotations will be dropped.\n",
      "  epochs_concatenated = mne.concatenate_epochs([epochs_concatenated, epochs])\n"
     ]
    },
    {
     "name": "stdout",
     "output_type": "stream",
     "text": [
      "Reading /Users/jonasmago/PhD_code_data/github/eeg_jhana/notebooks/evoked responses/../../data/mne_raw_events_epochs_cleaned_noICA/sub0-day3-mindfulness_mmn-raw_phot-events.fif ...\n",
      "    Found the data of interest:\n",
      "        t =    -500.00 ...    1500.00 ms\n",
      "        0 CTF compensation matrices available\n",
      "Not setting metadata\n",
      "330 matching events found\n",
      "No baseline correction applied\n",
      "0 projection items activated\n",
      "Reading /Users/jonasmago/PhD_code_data/github/eeg_jhana/notebooks/evoked responses/../../data/mne_raw_events_epochs_cleaned_noICA/sub0-day4-mindfulness_mmn-raw_phot-events.fif ...\n",
      "    Found the data of interest:\n",
      "        t =    -500.00 ...    1500.00 ms\n",
      "        0 CTF compensation matrices available\n",
      "Not setting metadata\n",
      "363 matching events found\n",
      "No baseline correction applied\n",
      "0 projection items activated\n",
      "Not setting metadata\n",
      "693 matching events found\n",
      "Applying baseline correction (mode: mean)\n",
      "Reading /Users/jonasmago/PhD_code_data/github/eeg_jhana/notebooks/evoked responses/../../data/mne_raw_events_epochs_cleaned_noICA/sub0-day1-mindfulness_mmn-raw_phot-events.fif ...\n",
      "    Found the data of interest:\n",
      "        t =    -500.00 ...    1500.00 ms\n",
      "        0 CTF compensation matrices available\n",
      "Not setting metadata\n",
      "359 matching events found\n",
      "No baseline correction applied\n",
      "0 projection items activated\n",
      "Not setting metadata\n",
      "1052 matching events found\n",
      "Applying baseline correction (mode: mean)\n"
     ]
    },
    {
     "name": "stderr",
     "output_type": "stream",
     "text": [
      "/var/folders/bq/hl737msd54q59fzf7spf0r7h0000gn/T/ipykernel_89976/3431259902.py:6: RuntimeWarning: This filename (../../data/mne_raw_events_epochs_cleaned_noICA/sub0-day3-mindfulness_mmn-raw_phot-events.fif) does not conform to MNE naming conventions. All epochs files should end with -epo.fif, -epo.fif.gz, _epo.fif or _epo.fif.gz\n",
      "  epochs_concatenated = mne.read_epochs(paths[0])\n",
      "/var/folders/bq/hl737msd54q59fzf7spf0r7h0000gn/T/ipykernel_89976/3431259902.py:10: RuntimeWarning: This filename (../../data/mne_raw_events_epochs_cleaned_noICA/sub0-day4-mindfulness_mmn-raw_phot-events.fif) does not conform to MNE naming conventions. All epochs files should end with -epo.fif, -epo.fif.gz, _epo.fif or _epo.fif.gz\n",
      "  epochs = mne.read_epochs(path)\n",
      "/var/folders/bq/hl737msd54q59fzf7spf0r7h0000gn/T/ipykernel_89976/3431259902.py:13: RuntimeWarning: Concatenation of Annotations within Epochs is not supported yet. All annotations will be dropped.\n",
      "  epochs_concatenated = mne.concatenate_epochs([epochs_concatenated, epochs])\n",
      "/var/folders/bq/hl737msd54q59fzf7spf0r7h0000gn/T/ipykernel_89976/3431259902.py:10: RuntimeWarning: This filename (../../data/mne_raw_events_epochs_cleaned_noICA/sub0-day1-mindfulness_mmn-raw_phot-events.fif) does not conform to MNE naming conventions. All epochs files should end with -epo.fif, -epo.fif.gz, _epo.fif or _epo.fif.gz\n",
      "  epochs = mne.read_epochs(path)\n",
      "/var/folders/bq/hl737msd54q59fzf7spf0r7h0000gn/T/ipykernel_89976/3431259902.py:13: RuntimeWarning: Concatenation of Annotations within Epochs is not supported yet. All annotations will be dropped.\n",
      "  epochs_concatenated = mne.concatenate_epochs([epochs_concatenated, epochs])\n"
     ]
    },
    {
     "name": "stdout",
     "output_type": "stream",
     "text": [
      "Reading /Users/jonasmago/PhD_code_data/github/eeg_jhana/notebooks/evoked responses/../../data/mne_raw_events_epochs_cleaned_noICA/sub0-day2-mindfulness_mmn-raw_phot-events.fif ...\n",
      "    Found the data of interest:\n",
      "        t =    -500.00 ...    1500.00 ms\n",
      "        0 CTF compensation matrices available\n",
      "Not setting metadata\n",
      "362 matching events found\n",
      "No baseline correction applied\n",
      "0 projection items activated\n",
      "Not setting metadata\n",
      "1414 matching events found\n",
      "Applying baseline correction (mode: mean)\n"
     ]
    },
    {
     "name": "stderr",
     "output_type": "stream",
     "text": [
      "/var/folders/bq/hl737msd54q59fzf7spf0r7h0000gn/T/ipykernel_89976/3431259902.py:10: RuntimeWarning: This filename (../../data/mne_raw_events_epochs_cleaned_noICA/sub0-day2-mindfulness_mmn-raw_phot-events.fif) does not conform to MNE naming conventions. All epochs files should end with -epo.fif, -epo.fif.gz, _epo.fif or _epo.fif.gz\n",
      "  epochs = mne.read_epochs(path)\n",
      "/var/folders/bq/hl737msd54q59fzf7spf0r7h0000gn/T/ipykernel_89976/3431259902.py:13: RuntimeWarning: Concatenation of Annotations within Epochs is not supported yet. All annotations will be dropped.\n",
      "  epochs_concatenated = mne.concatenate_epochs([epochs_concatenated, epochs])\n"
     ]
    },
    {
     "name": "stdout",
     "output_type": "stream",
     "text": [
      "Reading /Users/jonasmago/PhD_code_data/github/eeg_jhana/notebooks/evoked responses/../../data/mne_raw_events_epochs_cleaned_noICA/sub1-day4-mindfulness_mmn-raw_phot-events.fif ...\n",
      "    Found the data of interest:\n",
      "        t =    -500.00 ...    1500.00 ms\n",
      "        0 CTF compensation matrices available\n",
      "Not setting metadata\n",
      "365 matching events found\n",
      "No baseline correction applied\n",
      "0 projection items activated\n",
      "Reading /Users/jonasmago/PhD_code_data/github/eeg_jhana/notebooks/evoked responses/../../data/mne_raw_events_epochs_cleaned_noICA/sub1-day2-mindfulness_mmn-raw_phot-events.fif ...\n",
      "    Found the data of interest:\n",
      "        t =    -500.00 ...    1500.00 ms\n",
      "        0 CTF compensation matrices available\n",
      "Not setting metadata\n",
      "299 matching events found\n",
      "No baseline correction applied\n",
      "0 projection items activated\n",
      "Not setting metadata\n",
      "664 matching events found\n",
      "Applying baseline correction (mode: mean)\n",
      "Reading /Users/jonasmago/PhD_code_data/github/eeg_jhana/notebooks/evoked responses/../../data/mne_raw_events_epochs_cleaned_noICA/sub1-day1-mindfulness_mmn-raw_phot-events.fif ...\n",
      "    Found the data of interest:\n",
      "        t =    -500.00 ...    1500.00 ms\n",
      "        0 CTF compensation matrices available\n",
      "Not setting metadata\n",
      "358 matching events found\n",
      "No baseline correction applied\n",
      "0 projection items activated\n",
      "Not setting metadata\n",
      "1022 matching events found\n",
      "Applying baseline correction (mode: mean)\n"
     ]
    },
    {
     "name": "stderr",
     "output_type": "stream",
     "text": [
      "/var/folders/bq/hl737msd54q59fzf7spf0r7h0000gn/T/ipykernel_89976/3431259902.py:6: RuntimeWarning: This filename (../../data/mne_raw_events_epochs_cleaned_noICA/sub1-day4-mindfulness_mmn-raw_phot-events.fif) does not conform to MNE naming conventions. All epochs files should end with -epo.fif, -epo.fif.gz, _epo.fif or _epo.fif.gz\n",
      "  epochs_concatenated = mne.read_epochs(paths[0])\n",
      "/var/folders/bq/hl737msd54q59fzf7spf0r7h0000gn/T/ipykernel_89976/3431259902.py:10: RuntimeWarning: This filename (../../data/mne_raw_events_epochs_cleaned_noICA/sub1-day2-mindfulness_mmn-raw_phot-events.fif) does not conform to MNE naming conventions. All epochs files should end with -epo.fif, -epo.fif.gz, _epo.fif or _epo.fif.gz\n",
      "  epochs = mne.read_epochs(path)\n",
      "/var/folders/bq/hl737msd54q59fzf7spf0r7h0000gn/T/ipykernel_89976/3431259902.py:13: RuntimeWarning: Concatenation of Annotations within Epochs is not supported yet. All annotations will be dropped.\n",
      "  epochs_concatenated = mne.concatenate_epochs([epochs_concatenated, epochs])\n",
      "/var/folders/bq/hl737msd54q59fzf7spf0r7h0000gn/T/ipykernel_89976/3431259902.py:10: RuntimeWarning: This filename (../../data/mne_raw_events_epochs_cleaned_noICA/sub1-day1-mindfulness_mmn-raw_phot-events.fif) does not conform to MNE naming conventions. All epochs files should end with -epo.fif, -epo.fif.gz, _epo.fif or _epo.fif.gz\n",
      "  epochs = mne.read_epochs(path)\n",
      "/var/folders/bq/hl737msd54q59fzf7spf0r7h0000gn/T/ipykernel_89976/3431259902.py:13: RuntimeWarning: Concatenation of Annotations within Epochs is not supported yet. All annotations will be dropped.\n",
      "  epochs_concatenated = mne.concatenate_epochs([epochs_concatenated, epochs])\n"
     ]
    },
    {
     "name": "stdout",
     "output_type": "stream",
     "text": [
      "Reading /Users/jonasmago/PhD_code_data/github/eeg_jhana/notebooks/evoked responses/../../data/mne_raw_events_epochs_cleaned_noICA/sub1-day3-mindfulness_mmn-raw_phot-events.fif ...\n",
      "    Found the data of interest:\n",
      "        t =    -500.00 ...    1500.00 ms\n",
      "        0 CTF compensation matrices available\n",
      "Not setting metadata\n",
      "274 matching events found\n",
      "No baseline correction applied\n",
      "0 projection items activated\n",
      "Not setting metadata\n",
      "1296 matching events found\n",
      "Applying baseline correction (mode: mean)\n"
     ]
    },
    {
     "name": "stderr",
     "output_type": "stream",
     "text": [
      "/var/folders/bq/hl737msd54q59fzf7spf0r7h0000gn/T/ipykernel_89976/3431259902.py:10: RuntimeWarning: This filename (../../data/mne_raw_events_epochs_cleaned_noICA/sub1-day3-mindfulness_mmn-raw_phot-events.fif) does not conform to MNE naming conventions. All epochs files should end with -epo.fif, -epo.fif.gz, _epo.fif or _epo.fif.gz\n",
      "  epochs = mne.read_epochs(path)\n",
      "/var/folders/bq/hl737msd54q59fzf7spf0r7h0000gn/T/ipykernel_89976/3431259902.py:13: RuntimeWarning: Concatenation of Annotations within Epochs is not supported yet. All annotations will be dropped.\n",
      "  epochs_concatenated = mne.concatenate_epochs([epochs_concatenated, epochs])\n"
     ]
    },
    {
     "name": "stdout",
     "output_type": "stream",
     "text": [
      "Reading /Users/jonasmago/PhD_code_data/github/eeg_jhana/notebooks/evoked responses/../../data/mne_raw_events_epochs_cleaned_noICA/sub2-day1-mindfulness_mmn-raw_phot-events.fif ...\n",
      "    Found the data of interest:\n",
      "        t =    -500.00 ...    1500.00 ms\n",
      "        0 CTF compensation matrices available\n",
      "Not setting metadata\n",
      "367 matching events found\n",
      "No baseline correction applied\n",
      "0 projection items activated\n",
      "Reading /Users/jonasmago/PhD_code_data/github/eeg_jhana/notebooks/evoked responses/../../data/mne_raw_events_epochs_cleaned_noICA/sub2-day4-mindfulness_mmn-raw_phot-events.fif ...\n",
      "    Found the data of interest:\n",
      "        t =    -500.00 ...    1500.00 ms\n",
      "        0 CTF compensation matrices available\n",
      "Not setting metadata\n",
      "288 matching events found\n",
      "No baseline correction applied\n",
      "0 projection items activated\n",
      "Not setting metadata\n",
      "655 matching events found\n",
      "Applying baseline correction (mode: mean)\n",
      "Reading /Users/jonasmago/PhD_code_data/github/eeg_jhana/notebooks/evoked responses/../../data/mne_raw_events_epochs_cleaned_noICA/sub2-day3-mindfulness_mmn-raw_phot-events.fif ...\n",
      "    Found the data of interest:\n",
      "        t =    -500.00 ...    1500.00 ms\n",
      "        0 CTF compensation matrices available\n",
      "Not setting metadata\n",
      "363 matching events found\n",
      "No baseline correction applied\n",
      "0 projection items activated\n",
      "Not setting metadata\n",
      "1018 matching events found\n",
      "Applying baseline correction (mode: mean)\n"
     ]
    },
    {
     "name": "stderr",
     "output_type": "stream",
     "text": [
      "/var/folders/bq/hl737msd54q59fzf7spf0r7h0000gn/T/ipykernel_89976/3431259902.py:6: RuntimeWarning: This filename (../../data/mne_raw_events_epochs_cleaned_noICA/sub2-day1-mindfulness_mmn-raw_phot-events.fif) does not conform to MNE naming conventions. All epochs files should end with -epo.fif, -epo.fif.gz, _epo.fif or _epo.fif.gz\n",
      "  epochs_concatenated = mne.read_epochs(paths[0])\n",
      "/var/folders/bq/hl737msd54q59fzf7spf0r7h0000gn/T/ipykernel_89976/3431259902.py:10: RuntimeWarning: This filename (../../data/mne_raw_events_epochs_cleaned_noICA/sub2-day4-mindfulness_mmn-raw_phot-events.fif) does not conform to MNE naming conventions. All epochs files should end with -epo.fif, -epo.fif.gz, _epo.fif or _epo.fif.gz\n",
      "  epochs = mne.read_epochs(path)\n",
      "/var/folders/bq/hl737msd54q59fzf7spf0r7h0000gn/T/ipykernel_89976/3431259902.py:13: RuntimeWarning: Concatenation of Annotations within Epochs is not supported yet. All annotations will be dropped.\n",
      "  epochs_concatenated = mne.concatenate_epochs([epochs_concatenated, epochs])\n",
      "/var/folders/bq/hl737msd54q59fzf7spf0r7h0000gn/T/ipykernel_89976/3431259902.py:10: RuntimeWarning: This filename (../../data/mne_raw_events_epochs_cleaned_noICA/sub2-day3-mindfulness_mmn-raw_phot-events.fif) does not conform to MNE naming conventions. All epochs files should end with -epo.fif, -epo.fif.gz, _epo.fif or _epo.fif.gz\n",
      "  epochs = mne.read_epochs(path)\n",
      "/var/folders/bq/hl737msd54q59fzf7spf0r7h0000gn/T/ipykernel_89976/3431259902.py:13: RuntimeWarning: Concatenation of Annotations within Epochs is not supported yet. All annotations will be dropped.\n",
      "  epochs_concatenated = mne.concatenate_epochs([epochs_concatenated, epochs])\n"
     ]
    },
    {
     "name": "stdout",
     "output_type": "stream",
     "text": [
      "Reading /Users/jonasmago/PhD_code_data/github/eeg_jhana/notebooks/evoked responses/../../data/mne_raw_events_epochs_cleaned_noICA/sub3-day3-mindfulness_mmn-raw_phot-events.fif ...\n",
      "    Found the data of interest:\n",
      "        t =    -500.00 ...    1500.00 ms\n",
      "        0 CTF compensation matrices available\n",
      "Not setting metadata\n",
      "370 matching events found\n",
      "No baseline correction applied\n",
      "0 projection items activated\n",
      "Reading /Users/jonasmago/PhD_code_data/github/eeg_jhana/notebooks/evoked responses/../../data/mne_raw_events_epochs_cleaned_noICA/sub3-day1-mindfulness_mmn-raw_phot-events.fif ...\n",
      "    Found the data of interest:\n",
      "        t =    -500.00 ...    1500.00 ms\n",
      "        0 CTF compensation matrices available\n",
      "Not setting metadata\n",
      "205 matching events found\n",
      "No baseline correction applied\n",
      "0 projection items activated\n",
      "Not setting metadata\n",
      "575 matching events found\n",
      "Applying baseline correction (mode: mean)\n",
      "Reading /Users/jonasmago/PhD_code_data/github/eeg_jhana/notebooks/evoked responses/../../data/mne_raw_events_epochs_cleaned_noICA/sub3-day4-mindfulness_mmn-raw_phot-events.fif ...\n",
      "    Found the data of interest:\n",
      "        t =    -500.00 ...    1500.00 ms\n",
      "        0 CTF compensation matrices available\n",
      "Not setting metadata\n",
      "310 matching events found\n",
      "No baseline correction applied\n",
      "0 projection items activated\n",
      "Not setting metadata\n",
      "885 matching events found\n",
      "Applying baseline correction (mode: mean)\n"
     ]
    },
    {
     "name": "stderr",
     "output_type": "stream",
     "text": [
      "/var/folders/bq/hl737msd54q59fzf7spf0r7h0000gn/T/ipykernel_89976/3431259902.py:6: RuntimeWarning: This filename (../../data/mne_raw_events_epochs_cleaned_noICA/sub3-day3-mindfulness_mmn-raw_phot-events.fif) does not conform to MNE naming conventions. All epochs files should end with -epo.fif, -epo.fif.gz, _epo.fif or _epo.fif.gz\n",
      "  epochs_concatenated = mne.read_epochs(paths[0])\n",
      "/var/folders/bq/hl737msd54q59fzf7spf0r7h0000gn/T/ipykernel_89976/3431259902.py:10: RuntimeWarning: This filename (../../data/mne_raw_events_epochs_cleaned_noICA/sub3-day1-mindfulness_mmn-raw_phot-events.fif) does not conform to MNE naming conventions. All epochs files should end with -epo.fif, -epo.fif.gz, _epo.fif or _epo.fif.gz\n",
      "  epochs = mne.read_epochs(path)\n",
      "/var/folders/bq/hl737msd54q59fzf7spf0r7h0000gn/T/ipykernel_89976/3431259902.py:13: RuntimeWarning: Concatenation of Annotations within Epochs is not supported yet. All annotations will be dropped.\n",
      "  epochs_concatenated = mne.concatenate_epochs([epochs_concatenated, epochs])\n",
      "/var/folders/bq/hl737msd54q59fzf7spf0r7h0000gn/T/ipykernel_89976/3431259902.py:10: RuntimeWarning: This filename (../../data/mne_raw_events_epochs_cleaned_noICA/sub3-day4-mindfulness_mmn-raw_phot-events.fif) does not conform to MNE naming conventions. All epochs files should end with -epo.fif, -epo.fif.gz, _epo.fif or _epo.fif.gz\n",
      "  epochs = mne.read_epochs(path)\n",
      "/var/folders/bq/hl737msd54q59fzf7spf0r7h0000gn/T/ipykernel_89976/3431259902.py:13: RuntimeWarning: Concatenation of Annotations within Epochs is not supported yet. All annotations will be dropped.\n",
      "  epochs_concatenated = mne.concatenate_epochs([epochs_concatenated, epochs])\n"
     ]
    },
    {
     "name": "stdout",
     "output_type": "stream",
     "text": [
      "Reading /Users/jonasmago/PhD_code_data/github/eeg_jhana/notebooks/evoked responses/../../data/mne_raw_events_epochs_cleaned_noICA/sub4-day3-mindfulness_mmn-raw_phot-events.fif ...\n",
      "    Found the data of interest:\n",
      "        t =    -500.00 ...    1500.00 ms\n",
      "        0 CTF compensation matrices available\n",
      "Not setting metadata\n",
      "334 matching events found\n",
      "No baseline correction applied\n",
      "0 projection items activated\n",
      "Reading /Users/jonasmago/PhD_code_data/github/eeg_jhana/notebooks/evoked responses/../../data/mne_raw_events_epochs_cleaned_noICA/sub4-day4-mindfulness_mmn-raw_phot-events.fif ...\n",
      "    Found the data of interest:\n",
      "        t =    -500.00 ...    1500.00 ms\n",
      "        0 CTF compensation matrices available\n",
      "Not setting metadata\n",
      "197 matching events found\n",
      "No baseline correction applied\n",
      "0 projection items activated\n",
      "Not setting metadata\n",
      "531 matching events found\n",
      "Applying baseline correction (mode: mean)\n",
      "Reading /Users/jonasmago/PhD_code_data/github/eeg_jhana/notebooks/evoked responses/../../data/mne_raw_events_epochs_cleaned_noICA/sub4-day1-mindfulness_mmn-raw_phot-events.fif ...\n",
      "    Found the data of interest:\n",
      "        t =    -500.00 ...    1500.00 ms\n",
      "        0 CTF compensation matrices available\n",
      "Not setting metadata\n",
      "366 matching events found\n",
      "No baseline correction applied\n",
      "0 projection items activated\n",
      "Not setting metadata\n",
      "897 matching events found\n",
      "Applying baseline correction (mode: mean)\n",
      "Reading /Users/jonasmago/PhD_code_data/github/eeg_jhana/notebooks/evoked responses/../../data/mne_raw_events_epochs_cleaned_noICA/sub4-day2-mindfulness_mmn-raw_phot-events.fif ...\n",
      "    Found the data of interest:\n",
      "        t =    -500.00 ...    1500.00 ms\n",
      "        0 CTF compensation matrices available\n"
     ]
    },
    {
     "name": "stderr",
     "output_type": "stream",
     "text": [
      "/var/folders/bq/hl737msd54q59fzf7spf0r7h0000gn/T/ipykernel_89976/3431259902.py:6: RuntimeWarning: This filename (../../data/mne_raw_events_epochs_cleaned_noICA/sub4-day3-mindfulness_mmn-raw_phot-events.fif) does not conform to MNE naming conventions. All epochs files should end with -epo.fif, -epo.fif.gz, _epo.fif or _epo.fif.gz\n",
      "  epochs_concatenated = mne.read_epochs(paths[0])\n",
      "/var/folders/bq/hl737msd54q59fzf7spf0r7h0000gn/T/ipykernel_89976/3431259902.py:10: RuntimeWarning: This filename (../../data/mne_raw_events_epochs_cleaned_noICA/sub4-day4-mindfulness_mmn-raw_phot-events.fif) does not conform to MNE naming conventions. All epochs files should end with -epo.fif, -epo.fif.gz, _epo.fif or _epo.fif.gz\n",
      "  epochs = mne.read_epochs(path)\n",
      "/var/folders/bq/hl737msd54q59fzf7spf0r7h0000gn/T/ipykernel_89976/3431259902.py:13: RuntimeWarning: Concatenation of Annotations within Epochs is not supported yet. All annotations will be dropped.\n",
      "  epochs_concatenated = mne.concatenate_epochs([epochs_concatenated, epochs])\n",
      "/var/folders/bq/hl737msd54q59fzf7spf0r7h0000gn/T/ipykernel_89976/3431259902.py:10: RuntimeWarning: This filename (../../data/mne_raw_events_epochs_cleaned_noICA/sub4-day1-mindfulness_mmn-raw_phot-events.fif) does not conform to MNE naming conventions. All epochs files should end with -epo.fif, -epo.fif.gz, _epo.fif or _epo.fif.gz\n",
      "  epochs = mne.read_epochs(path)\n",
      "/var/folders/bq/hl737msd54q59fzf7spf0r7h0000gn/T/ipykernel_89976/3431259902.py:13: RuntimeWarning: Concatenation of Annotations within Epochs is not supported yet. All annotations will be dropped.\n",
      "  epochs_concatenated = mne.concatenate_epochs([epochs_concatenated, epochs])\n",
      "/var/folders/bq/hl737msd54q59fzf7spf0r7h0000gn/T/ipykernel_89976/3431259902.py:10: RuntimeWarning: This filename (../../data/mne_raw_events_epochs_cleaned_noICA/sub4-day2-mindfulness_mmn-raw_phot-events.fif) does not conform to MNE naming conventions. All epochs files should end with -epo.fif, -epo.fif.gz, _epo.fif or _epo.fif.gz\n",
      "  epochs = mne.read_epochs(path)\n"
     ]
    },
    {
     "name": "stdout",
     "output_type": "stream",
     "text": [
      "Not setting metadata\n",
      "260 matching events found\n",
      "No baseline correction applied\n",
      "0 projection items activated\n",
      "Not setting metadata\n",
      "1157 matching events found\n",
      "Applying baseline correction (mode: mean)\n",
      "Reading /Users/jonasmago/PhD_code_data/github/eeg_jhana/notebooks/evoked responses/../../data/mne_raw_events_epochs_cleaned_noICA/sub5-day4-mindfulness_mmn-raw_phot-events.fif ...\n"
     ]
    },
    {
     "name": "stderr",
     "output_type": "stream",
     "text": [
      "/var/folders/bq/hl737msd54q59fzf7spf0r7h0000gn/T/ipykernel_89976/3431259902.py:13: RuntimeWarning: Concatenation of Annotations within Epochs is not supported yet. All annotations will be dropped.\n",
      "  epochs_concatenated = mne.concatenate_epochs([epochs_concatenated, epochs])\n",
      "/var/folders/bq/hl737msd54q59fzf7spf0r7h0000gn/T/ipykernel_89976/3431259902.py:6: RuntimeWarning: This filename (../../data/mne_raw_events_epochs_cleaned_noICA/sub5-day4-mindfulness_mmn-raw_phot-events.fif) does not conform to MNE naming conventions. All epochs files should end with -epo.fif, -epo.fif.gz, _epo.fif or _epo.fif.gz\n",
      "  epochs_concatenated = mne.read_epochs(paths[0])\n"
     ]
    },
    {
     "name": "stdout",
     "output_type": "stream",
     "text": [
      "    Found the data of interest:\n",
      "        t =    -500.00 ...    1500.00 ms\n",
      "        0 CTF compensation matrices available\n",
      "Not setting metadata\n",
      "292 matching events found\n",
      "No baseline correction applied\n",
      "0 projection items activated\n",
      "Reading /Users/jonasmago/PhD_code_data/github/eeg_jhana/notebooks/evoked responses/../../data/mne_raw_events_epochs_cleaned_noICA/sub5-day2-mindfulness_mmn-raw_phot-events.fif ...\n",
      "    Found the data of interest:\n",
      "        t =    -500.00 ...    1500.00 ms\n",
      "        0 CTF compensation matrices available\n",
      "Not setting metadata\n",
      "367 matching events found\n",
      "No baseline correction applied\n",
      "0 projection items activated\n",
      "Not setting metadata\n",
      "659 matching events found\n",
      "Applying baseline correction (mode: mean)\n",
      "Reading /Users/jonasmago/PhD_code_data/github/eeg_jhana/notebooks/evoked responses/../../data/mne_raw_events_epochs_cleaned_noICA/sub5-day1-mindfulness_mmn-raw_phot-events.fif ...\n",
      "    Found the data of interest:\n",
      "        t =    -500.00 ...    1500.00 ms\n",
      "        0 CTF compensation matrices available\n",
      "Not setting metadata\n",
      "202 matching events found\n",
      "No baseline correction applied\n",
      "0 projection items activated\n",
      "Not setting metadata\n",
      "861 matching events found\n",
      "Applying baseline correction (mode: mean)\n",
      "Reading /Users/jonasmago/PhD_code_data/github/eeg_jhana/notebooks/evoked responses/../../data/mne_raw_events_epochs_cleaned_noICA/sub5-day3-mindfulness_mmn-raw_phot-events.fif ...\n",
      "    Found the data of interest:\n",
      "        t =    -500.00 ...    1500.00 ms\n",
      "        0 CTF compensation matrices available\n",
      "Not setting metadata\n",
      "229 matching events found\n",
      "No baseline correction applied\n",
      "0 projection items activated\n"
     ]
    },
    {
     "name": "stderr",
     "output_type": "stream",
     "text": [
      "/var/folders/bq/hl737msd54q59fzf7spf0r7h0000gn/T/ipykernel_89976/3431259902.py:10: RuntimeWarning: This filename (../../data/mne_raw_events_epochs_cleaned_noICA/sub5-day2-mindfulness_mmn-raw_phot-events.fif) does not conform to MNE naming conventions. All epochs files should end with -epo.fif, -epo.fif.gz, _epo.fif or _epo.fif.gz\n",
      "  epochs = mne.read_epochs(path)\n",
      "/var/folders/bq/hl737msd54q59fzf7spf0r7h0000gn/T/ipykernel_89976/3431259902.py:13: RuntimeWarning: Concatenation of Annotations within Epochs is not supported yet. All annotations will be dropped.\n",
      "  epochs_concatenated = mne.concatenate_epochs([epochs_concatenated, epochs])\n",
      "/var/folders/bq/hl737msd54q59fzf7spf0r7h0000gn/T/ipykernel_89976/3431259902.py:10: RuntimeWarning: This filename (../../data/mne_raw_events_epochs_cleaned_noICA/sub5-day1-mindfulness_mmn-raw_phot-events.fif) does not conform to MNE naming conventions. All epochs files should end with -epo.fif, -epo.fif.gz, _epo.fif or _epo.fif.gz\n",
      "  epochs = mne.read_epochs(path)\n",
      "/var/folders/bq/hl737msd54q59fzf7spf0r7h0000gn/T/ipykernel_89976/3431259902.py:13: RuntimeWarning: Concatenation of Annotations within Epochs is not supported yet. All annotations will be dropped.\n",
      "  epochs_concatenated = mne.concatenate_epochs([epochs_concatenated, epochs])\n",
      "/var/folders/bq/hl737msd54q59fzf7spf0r7h0000gn/T/ipykernel_89976/3431259902.py:10: RuntimeWarning: This filename (../../data/mne_raw_events_epochs_cleaned_noICA/sub5-day3-mindfulness_mmn-raw_phot-events.fif) does not conform to MNE naming conventions. All epochs files should end with -epo.fif, -epo.fif.gz, _epo.fif or _epo.fif.gz\n",
      "  epochs = mne.read_epochs(path)\n",
      "/var/folders/bq/hl737msd54q59fzf7spf0r7h0000gn/T/ipykernel_89976/3431259902.py:13: RuntimeWarning: Concatenation of Annotations within Epochs is not supported yet. All annotations will be dropped.\n",
      "  epochs_concatenated = mne.concatenate_epochs([epochs_concatenated, epochs])\n"
     ]
    },
    {
     "name": "stdout",
     "output_type": "stream",
     "text": [
      "Not setting metadata\n",
      "1090 matching events found\n",
      "Applying baseline correction (mode: mean)\n",
      "Reading /Users/jonasmago/PhD_code_data/github/eeg_jhana/notebooks/evoked responses/../../data/mne_raw_events_epochs_cleaned_noICA/sub6-day1-mindfulness_mmn-raw_phot-events.fif ...\n",
      "    Found the data of interest:\n",
      "        t =    -500.00 ...    1500.00 ms\n",
      "        0 CTF compensation matrices available\n",
      "Not setting metadata\n",
      "298 matching events found\n",
      "No baseline correction applied\n",
      "0 projection items activated\n",
      "Reading /Users/jonasmago/PhD_code_data/github/eeg_jhana/notebooks/evoked responses/../../data/mne_raw_events_epochs_cleaned_noICA/sub6-day2-mindfulness_mmn-raw_phot-events.fif ...\n",
      "    Found the data of interest:\n",
      "        t =    -500.00 ...    1500.00 ms\n",
      "        0 CTF compensation matrices available\n",
      "Not setting metadata\n",
      "362 matching events found\n",
      "No baseline correction applied\n",
      "0 projection items activated\n",
      "Not setting metadata\n",
      "660 matching events found\n",
      "Applying baseline correction (mode: mean)\n",
      "Reading /Users/jonasmago/PhD_code_data/github/eeg_jhana/notebooks/evoked responses/../../data/mne_raw_events_epochs_cleaned_noICA/sub6-day4-mindfulness_mmn-raw_phot-events.fif ...\n",
      "    Found the data of interest:\n",
      "        t =    -500.00 ...    1500.00 ms\n",
      "        0 CTF compensation matrices available\n",
      "Not setting metadata\n",
      "235 matching events found\n",
      "No baseline correction applied\n",
      "0 projection items activated\n",
      "Not setting metadata\n",
      "895 matching events found\n",
      "Applying baseline correction (mode: mean)\n",
      "Reading /Users/jonasmago/PhD_code_data/github/eeg_jhana/notebooks/evoked responses/../../data/mne_raw_events_epochs_cleaned_noICA/sub6-day3-mindfulness_mmn-raw_phot-events.fif ...\n"
     ]
    },
    {
     "name": "stderr",
     "output_type": "stream",
     "text": [
      "/var/folders/bq/hl737msd54q59fzf7spf0r7h0000gn/T/ipykernel_89976/3431259902.py:6: RuntimeWarning: This filename (../../data/mne_raw_events_epochs_cleaned_noICA/sub6-day1-mindfulness_mmn-raw_phot-events.fif) does not conform to MNE naming conventions. All epochs files should end with -epo.fif, -epo.fif.gz, _epo.fif or _epo.fif.gz\n",
      "  epochs_concatenated = mne.read_epochs(paths[0])\n",
      "/var/folders/bq/hl737msd54q59fzf7spf0r7h0000gn/T/ipykernel_89976/3431259902.py:10: RuntimeWarning: This filename (../../data/mne_raw_events_epochs_cleaned_noICA/sub6-day2-mindfulness_mmn-raw_phot-events.fif) does not conform to MNE naming conventions. All epochs files should end with -epo.fif, -epo.fif.gz, _epo.fif or _epo.fif.gz\n",
      "  epochs = mne.read_epochs(path)\n",
      "/var/folders/bq/hl737msd54q59fzf7spf0r7h0000gn/T/ipykernel_89976/3431259902.py:13: RuntimeWarning: Concatenation of Annotations within Epochs is not supported yet. All annotations will be dropped.\n",
      "  epochs_concatenated = mne.concatenate_epochs([epochs_concatenated, epochs])\n",
      "/var/folders/bq/hl737msd54q59fzf7spf0r7h0000gn/T/ipykernel_89976/3431259902.py:10: RuntimeWarning: This filename (../../data/mne_raw_events_epochs_cleaned_noICA/sub6-day4-mindfulness_mmn-raw_phot-events.fif) does not conform to MNE naming conventions. All epochs files should end with -epo.fif, -epo.fif.gz, _epo.fif or _epo.fif.gz\n",
      "  epochs = mne.read_epochs(path)\n",
      "/var/folders/bq/hl737msd54q59fzf7spf0r7h0000gn/T/ipykernel_89976/3431259902.py:13: RuntimeWarning: Concatenation of Annotations within Epochs is not supported yet. All annotations will be dropped.\n",
      "  epochs_concatenated = mne.concatenate_epochs([epochs_concatenated, epochs])\n",
      "/var/folders/bq/hl737msd54q59fzf7spf0r7h0000gn/T/ipykernel_89976/3431259902.py:10: RuntimeWarning: This filename (../../data/mne_raw_events_epochs_cleaned_noICA/sub6-day3-mindfulness_mmn-raw_phot-events.fif) does not conform to MNE naming conventions. All epochs files should end with -epo.fif, -epo.fif.gz, _epo.fif or _epo.fif.gz\n",
      "  epochs = mne.read_epochs(path)\n"
     ]
    },
    {
     "name": "stdout",
     "output_type": "stream",
     "text": [
      "    Found the data of interest:\n",
      "        t =    -500.00 ...    1500.00 ms\n",
      "        0 CTF compensation matrices available\n",
      "Not setting metadata\n",
      "358 matching events found\n",
      "No baseline correction applied\n",
      "0 projection items activated\n",
      "Not setting metadata\n",
      "1253 matching events found\n",
      "Applying baseline correction (mode: mean)\n",
      "Reading /Users/jonasmago/PhD_code_data/github/eeg_jhana/notebooks/evoked responses/../../data/mne_raw_events_epochs_cleaned_noICA/sub7-day3-mindfulness_mmn-raw_phot-events.fif ...\n"
     ]
    },
    {
     "name": "stderr",
     "output_type": "stream",
     "text": [
      "/var/folders/bq/hl737msd54q59fzf7spf0r7h0000gn/T/ipykernel_89976/3431259902.py:13: RuntimeWarning: Concatenation of Annotations within Epochs is not supported yet. All annotations will be dropped.\n",
      "  epochs_concatenated = mne.concatenate_epochs([epochs_concatenated, epochs])\n",
      "/var/folders/bq/hl737msd54q59fzf7spf0r7h0000gn/T/ipykernel_89976/3431259902.py:6: RuntimeWarning: This filename (../../data/mne_raw_events_epochs_cleaned_noICA/sub7-day3-mindfulness_mmn-raw_phot-events.fif) does not conform to MNE naming conventions. All epochs files should end with -epo.fif, -epo.fif.gz, _epo.fif or _epo.fif.gz\n",
      "  epochs_concatenated = mne.read_epochs(paths[0])\n"
     ]
    },
    {
     "name": "stdout",
     "output_type": "stream",
     "text": [
      "    Found the data of interest:\n",
      "        t =    -500.00 ...    1500.00 ms\n",
      "        0 CTF compensation matrices available\n",
      "Not setting metadata\n",
      "366 matching events found\n",
      "No baseline correction applied\n",
      "0 projection items activated\n",
      "Reading /Users/jonasmago/PhD_code_data/github/eeg_jhana/notebooks/evoked responses/../../data/mne_raw_events_epochs_cleaned_noICA/sub7-day2-mindfulness_mmn-raw_phot-events.fif ...\n",
      "    Found the data of interest:\n",
      "        t =    -500.00 ...    1500.00 ms\n",
      "        0 CTF compensation matrices available\n",
      "Not setting metadata\n",
      "313 matching events found\n",
      "No baseline correction applied\n",
      "0 projection items activated\n",
      "Not setting metadata\n",
      "679 matching events found\n",
      "Applying baseline correction (mode: mean)\n",
      "Reading /Users/jonasmago/PhD_code_data/github/eeg_jhana/notebooks/evoked responses/../../data/mne_raw_events_epochs_cleaned_noICA/sub7-day1-mindfulness_mmn-raw_phot-events.fif ...\n",
      "    Found the data of interest:\n",
      "        t =    -500.00 ...    1500.00 ms\n",
      "        0 CTF compensation matrices available\n",
      "Not setting metadata\n",
      "349 matching events found\n",
      "No baseline correction applied\n",
      "0 projection items activated\n",
      "Not setting metadata\n",
      "1028 matching events found\n",
      "Applying baseline correction (mode: mean)\n",
      "Reading /Users/jonasmago/PhD_code_data/github/eeg_jhana/notebooks/evoked responses/../../data/mne_raw_events_epochs_cleaned_noICA/sub7-day4-mindfulness_mmn-raw_phot-events.fif ...\n",
      "    Found the data of interest:\n",
      "        t =    -500.00 ...    1500.00 ms\n",
      "        0 CTF compensation matrices available\n",
      "Not setting metadata\n",
      "49 matching events found\n",
      "No baseline correction applied\n",
      "0 projection items activated\n"
     ]
    },
    {
     "name": "stderr",
     "output_type": "stream",
     "text": [
      "/var/folders/bq/hl737msd54q59fzf7spf0r7h0000gn/T/ipykernel_89976/3431259902.py:10: RuntimeWarning: This filename (../../data/mne_raw_events_epochs_cleaned_noICA/sub7-day2-mindfulness_mmn-raw_phot-events.fif) does not conform to MNE naming conventions. All epochs files should end with -epo.fif, -epo.fif.gz, _epo.fif or _epo.fif.gz\n",
      "  epochs = mne.read_epochs(path)\n",
      "/var/folders/bq/hl737msd54q59fzf7spf0r7h0000gn/T/ipykernel_89976/3431259902.py:13: RuntimeWarning: Concatenation of Annotations within Epochs is not supported yet. All annotations will be dropped.\n",
      "  epochs_concatenated = mne.concatenate_epochs([epochs_concatenated, epochs])\n",
      "/var/folders/bq/hl737msd54q59fzf7spf0r7h0000gn/T/ipykernel_89976/3431259902.py:10: RuntimeWarning: This filename (../../data/mne_raw_events_epochs_cleaned_noICA/sub7-day1-mindfulness_mmn-raw_phot-events.fif) does not conform to MNE naming conventions. All epochs files should end with -epo.fif, -epo.fif.gz, _epo.fif or _epo.fif.gz\n",
      "  epochs = mne.read_epochs(path)\n",
      "/var/folders/bq/hl737msd54q59fzf7spf0r7h0000gn/T/ipykernel_89976/3431259902.py:13: RuntimeWarning: Concatenation of Annotations within Epochs is not supported yet. All annotations will be dropped.\n",
      "  epochs_concatenated = mne.concatenate_epochs([epochs_concatenated, epochs])\n",
      "/var/folders/bq/hl737msd54q59fzf7spf0r7h0000gn/T/ipykernel_89976/3431259902.py:10: RuntimeWarning: This filename (../../data/mne_raw_events_epochs_cleaned_noICA/sub7-day4-mindfulness_mmn-raw_phot-events.fif) does not conform to MNE naming conventions. All epochs files should end with -epo.fif, -epo.fif.gz, _epo.fif or _epo.fif.gz\n",
      "  epochs = mne.read_epochs(path)\n",
      "/var/folders/bq/hl737msd54q59fzf7spf0r7h0000gn/T/ipykernel_89976/3431259902.py:13: RuntimeWarning: Concatenation of Annotations within Epochs is not supported yet. All annotations will be dropped.\n",
      "  epochs_concatenated = mne.concatenate_epochs([epochs_concatenated, epochs])\n"
     ]
    },
    {
     "name": "stdout",
     "output_type": "stream",
     "text": [
      "Not setting metadata\n",
      "1077 matching events found\n",
      "Applying baseline correction (mode: mean)\n",
      "Reading /Users/jonasmago/PhD_code_data/github/eeg_jhana/notebooks/evoked responses/../../data/mne_raw_events_epochs_cleaned_noICA/sub8-day3-mindfulness_mmn-raw_phot-events.fif ...\n",
      "    Found the data of interest:\n",
      "        t =    -500.00 ...    1500.00 ms\n",
      "        0 CTF compensation matrices available\n",
      "Not setting metadata\n",
      "282 matching events found\n",
      "No baseline correction applied\n",
      "0 projection items activated\n",
      "Reading /Users/jonasmago/PhD_code_data/github/eeg_jhana/notebooks/evoked responses/../../data/mne_raw_events_epochs_cleaned_noICA/sub8-day4-mindfulness_mmn-raw_phot-events.fif ...\n",
      "    Found the data of interest:\n",
      "        t =    -500.00 ...    1500.00 ms\n",
      "        0 CTF compensation matrices available\n",
      "Not setting metadata\n",
      "169 matching events found\n",
      "No baseline correction applied\n",
      "0 projection items activated\n",
      "Not setting metadata\n",
      "451 matching events found\n",
      "Applying baseline correction (mode: mean)\n",
      "Reading /Users/jonasmago/PhD_code_data/github/eeg_jhana/notebooks/evoked responses/../../data/mne_raw_events_epochs_cleaned_noICA/sub8-day2-mindfulness_mmn-raw_phot-events.fif ...\n",
      "    Found the data of interest:\n",
      "        t =    -500.00 ...    1500.00 ms\n",
      "        0 CTF compensation matrices available\n",
      "Not setting metadata\n",
      "141 matching events found\n",
      "No baseline correction applied\n",
      "0 projection items activated\n",
      "Not setting metadata\n",
      "592 matching events found\n",
      "Applying baseline correction (mode: mean)\n",
      "Reading /Users/jonasmago/PhD_code_data/github/eeg_jhana/notebooks/evoked responses/../../data/mne_raw_events_epochs_cleaned_noICA/sub8-day1-mindfulness_mmn-raw_phot-events.fif ...\n",
      "    Found the data of interest:\n",
      "        t =    -500.00 ...    1500.00 ms\n",
      "        0 CTF compensation matrices available\n",
      "Not setting metadata\n",
      "260 matching events found\n",
      "No baseline correction applied\n",
      "0 projection items activated\n"
     ]
    },
    {
     "name": "stderr",
     "output_type": "stream",
     "text": [
      "/var/folders/bq/hl737msd54q59fzf7spf0r7h0000gn/T/ipykernel_89976/3431259902.py:6: RuntimeWarning: This filename (../../data/mne_raw_events_epochs_cleaned_noICA/sub8-day3-mindfulness_mmn-raw_phot-events.fif) does not conform to MNE naming conventions. All epochs files should end with -epo.fif, -epo.fif.gz, _epo.fif or _epo.fif.gz\n",
      "  epochs_concatenated = mne.read_epochs(paths[0])\n",
      "/var/folders/bq/hl737msd54q59fzf7spf0r7h0000gn/T/ipykernel_89976/3431259902.py:10: RuntimeWarning: This filename (../../data/mne_raw_events_epochs_cleaned_noICA/sub8-day4-mindfulness_mmn-raw_phot-events.fif) does not conform to MNE naming conventions. All epochs files should end with -epo.fif, -epo.fif.gz, _epo.fif or _epo.fif.gz\n",
      "  epochs = mne.read_epochs(path)\n",
      "/var/folders/bq/hl737msd54q59fzf7spf0r7h0000gn/T/ipykernel_89976/3431259902.py:13: RuntimeWarning: Concatenation of Annotations within Epochs is not supported yet. All annotations will be dropped.\n",
      "  epochs_concatenated = mne.concatenate_epochs([epochs_concatenated, epochs])\n",
      "/var/folders/bq/hl737msd54q59fzf7spf0r7h0000gn/T/ipykernel_89976/3431259902.py:10: RuntimeWarning: This filename (../../data/mne_raw_events_epochs_cleaned_noICA/sub8-day2-mindfulness_mmn-raw_phot-events.fif) does not conform to MNE naming conventions. All epochs files should end with -epo.fif, -epo.fif.gz, _epo.fif or _epo.fif.gz\n",
      "  epochs = mne.read_epochs(path)\n",
      "/var/folders/bq/hl737msd54q59fzf7spf0r7h0000gn/T/ipykernel_89976/3431259902.py:13: RuntimeWarning: Concatenation of Annotations within Epochs is not supported yet. All annotations will be dropped.\n",
      "  epochs_concatenated = mne.concatenate_epochs([epochs_concatenated, epochs])\n",
      "/var/folders/bq/hl737msd54q59fzf7spf0r7h0000gn/T/ipykernel_89976/3431259902.py:10: RuntimeWarning: This filename (../../data/mne_raw_events_epochs_cleaned_noICA/sub8-day1-mindfulness_mmn-raw_phot-events.fif) does not conform to MNE naming conventions. All epochs files should end with -epo.fif, -epo.fif.gz, _epo.fif or _epo.fif.gz\n",
      "  epochs = mne.read_epochs(path)\n",
      "/var/folders/bq/hl737msd54q59fzf7spf0r7h0000gn/T/ipykernel_89976/3431259902.py:13: RuntimeWarning: Concatenation of Annotations within Epochs is not supported yet. All annotations will be dropped.\n",
      "  epochs_concatenated = mne.concatenate_epochs([epochs_concatenated, epochs])\n"
     ]
    },
    {
     "name": "stdout",
     "output_type": "stream",
     "text": [
      "Not setting metadata\n",
      "852 matching events found\n",
      "Applying baseline correction (mode: mean)\n",
      "Reading /Users/jonasmago/PhD_code_data/github/eeg_jhana/notebooks/evoked responses/../../data/mne_raw_events_epochs_cleaned_noICA/sub9-day4-mindfulness_mmn-raw_phot-events.fif ...\n",
      "    Found the data of interest:\n",
      "        t =    -500.00 ...    1500.00 ms\n",
      "        0 CTF compensation matrices available\n",
      "Not setting metadata\n",
      "369 matching events found\n",
      "No baseline correction applied\n",
      "0 projection items activated\n",
      "Reading /Users/jonasmago/PhD_code_data/github/eeg_jhana/notebooks/evoked responses/../../data/mne_raw_events_epochs_cleaned_noICA/sub9-day1-mindfulness_mmn-raw_phot-events.fif ...\n",
      "    Found the data of interest:\n",
      "        t =    -500.00 ...    1500.00 ms\n",
      "        0 CTF compensation matrices available\n",
      "Not setting metadata\n",
      "332 matching events found\n",
      "No baseline correction applied\n",
      "0 projection items activated\n",
      "Not setting metadata\n",
      "701 matching events found\n",
      "Applying baseline correction (mode: mean)\n",
      "Reading /Users/jonasmago/PhD_code_data/github/eeg_jhana/notebooks/evoked responses/../../data/mne_raw_events_epochs_cleaned_noICA/sub9-day2-mindfulness_mmn-raw_phot-events.fif ...\n",
      "    Found the data of interest:\n",
      "        t =    -500.00 ...    1500.00 ms\n",
      "        0 CTF compensation matrices available\n",
      "Not setting metadata\n",
      "309 matching events found\n",
      "No baseline correction applied\n",
      "0 projection items activated\n",
      "Not setting metadata\n",
      "1010 matching events found\n",
      "Applying baseline correction (mode: mean)\n"
     ]
    },
    {
     "name": "stderr",
     "output_type": "stream",
     "text": [
      "/var/folders/bq/hl737msd54q59fzf7spf0r7h0000gn/T/ipykernel_89976/3431259902.py:6: RuntimeWarning: This filename (../../data/mne_raw_events_epochs_cleaned_noICA/sub9-day4-mindfulness_mmn-raw_phot-events.fif) does not conform to MNE naming conventions. All epochs files should end with -epo.fif, -epo.fif.gz, _epo.fif or _epo.fif.gz\n",
      "  epochs_concatenated = mne.read_epochs(paths[0])\n",
      "/var/folders/bq/hl737msd54q59fzf7spf0r7h0000gn/T/ipykernel_89976/3431259902.py:10: RuntimeWarning: This filename (../../data/mne_raw_events_epochs_cleaned_noICA/sub9-day1-mindfulness_mmn-raw_phot-events.fif) does not conform to MNE naming conventions. All epochs files should end with -epo.fif, -epo.fif.gz, _epo.fif or _epo.fif.gz\n",
      "  epochs = mne.read_epochs(path)\n",
      "/var/folders/bq/hl737msd54q59fzf7spf0r7h0000gn/T/ipykernel_89976/3431259902.py:13: RuntimeWarning: Concatenation of Annotations within Epochs is not supported yet. All annotations will be dropped.\n",
      "  epochs_concatenated = mne.concatenate_epochs([epochs_concatenated, epochs])\n",
      "/var/folders/bq/hl737msd54q59fzf7spf0r7h0000gn/T/ipykernel_89976/3431259902.py:10: RuntimeWarning: This filename (../../data/mne_raw_events_epochs_cleaned_noICA/sub9-day2-mindfulness_mmn-raw_phot-events.fif) does not conform to MNE naming conventions. All epochs files should end with -epo.fif, -epo.fif.gz, _epo.fif or _epo.fif.gz\n",
      "  epochs = mne.read_epochs(path)\n",
      "/var/folders/bq/hl737msd54q59fzf7spf0r7h0000gn/T/ipykernel_89976/3431259902.py:13: RuntimeWarning: Concatenation of Annotations within Epochs is not supported yet. All annotations will be dropped.\n",
      "  epochs_concatenated = mne.concatenate_epochs([epochs_concatenated, epochs])\n"
     ]
    },
    {
     "name": "stdout",
     "output_type": "stream",
     "text": [
      "Reading /Users/jonasmago/PhD_code_data/github/eeg_jhana/notebooks/evoked responses/../../data/mne_raw_events_epochs_cleaned_noICA/sub9-day3-mindfulness_mmn-raw_phot-events.fif ...\n",
      "    Found the data of interest:\n",
      "        t =    -500.00 ...    1500.00 ms\n",
      "        0 CTF compensation matrices available\n",
      "Not setting metadata\n",
      "345 matching events found\n",
      "No baseline correction applied\n",
      "0 projection items activated\n",
      "Not setting metadata\n",
      "1355 matching events found\n",
      "Applying baseline correction (mode: mean)\n"
     ]
    },
    {
     "name": "stderr",
     "output_type": "stream",
     "text": [
      "/var/folders/bq/hl737msd54q59fzf7spf0r7h0000gn/T/ipykernel_89976/3431259902.py:10: RuntimeWarning: This filename (../../data/mne_raw_events_epochs_cleaned_noICA/sub9-day3-mindfulness_mmn-raw_phot-events.fif) does not conform to MNE naming conventions. All epochs files should end with -epo.fif, -epo.fif.gz, _epo.fif or _epo.fif.gz\n",
      "  epochs = mne.read_epochs(path)\n",
      "/var/folders/bq/hl737msd54q59fzf7spf0r7h0000gn/T/ipykernel_89976/3431259902.py:13: RuntimeWarning: Concatenation of Annotations within Epochs is not supported yet. All annotations will be dropped.\n",
      "  epochs_concatenated = mne.concatenate_epochs([epochs_concatenated, epochs])\n"
     ]
    }
   ],
   "source": [
    "for condition in ['jhana', 'mindfulness']:\n",
    "    for sub in range(10):    \n",
    "        src_string = f'../../data/mne_raw_events_epochs_cleaned_noICA/sub{sub}-day?-{condition}_mmn-raw_phot-events.fif'\n",
    "        paths = glob.glob(src_string)\n",
    "        \n",
    "        epochs_concatenated = mne.read_epochs(paths[0])\n",
    "        epochs_concatenated.info['bads'] = []\n",
    "        \n",
    "        for path in paths[1:]:\n",
    "            epochs = mne.read_epochs(path)\n",
    "            epochs.info['bads'] = []\n",
    "            try:\n",
    "                epochs_concatenated = mne.concatenate_epochs([epochs_concatenated, epochs])\n",
    "            except:\n",
    "                continue # in case where the number of channels do not match up\n",
    "        \n",
    "        export_path = f'../../data/mne_raw_events_epochs_cleaned_noICA_concatenated_01/mmn_sub{sub}_{condition}_epo.fif'\n",
    "        epochs_concatenated.save(export_path)"
   ]
  },
  {
   "cell_type": "code",
   "execution_count": null,
   "id": "632ab967-9e4b-4f83-b30b-75850d4b0c55",
   "metadata": {},
   "outputs": [],
   "source": []
  }
 ],
 "metadata": {
  "kernelspec": {
   "display_name": "Python 3 (ipykernel)",
   "language": "python",
   "name": "python3"
  },
  "language_info": {
   "codemirror_mode": {
    "name": "ipython",
    "version": 3
   },
   "file_extension": ".py",
   "mimetype": "text/x-python",
   "name": "python",
   "nbconvert_exporter": "python",
   "pygments_lexer": "ipython3",
   "version": "3.10.11"
  }
 },
 "nbformat": 4,
 "nbformat_minor": 5
}
